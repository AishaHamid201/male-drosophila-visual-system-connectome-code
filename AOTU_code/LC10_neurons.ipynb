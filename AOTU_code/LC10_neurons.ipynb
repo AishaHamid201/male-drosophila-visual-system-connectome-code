{
 "cells": [
  {
   "cell_type": "markdown",
   "metadata": {},
   "source": [
    "### Import Libraries"
   ]
  },
  {
   "cell_type": "code",
   "execution_count": 139,
   "metadata": {},
   "outputs": [
    {
     "data": {
      "text/html": [
       "<script type=\"esms-options\">{\"shimMode\": true}</script><style>*[data-root-id],\n",
       "*[data-root-id] > * {\n",
       "  box-sizing: border-box;\n",
       "  font-family: var(--jp-ui-font-family);\n",
       "  font-size: var(--jp-ui-font-size1);\n",
       "  color: var(--vscode-editor-foreground, var(--jp-ui-font-color1));\n",
       "}\n",
       "\n",
       "/* Override VSCode background color */\n",
       ".cell-output-ipywidget-background:has(\n",
       "    > .cell-output-ipywidget-background > .lm-Widget > *[data-root-id]\n",
       "  ),\n",
       ".cell-output-ipywidget-background:has(> .lm-Widget > *[data-root-id]) {\n",
       "  background-color: transparent !important;\n",
       "}\n",
       "</style>"
      ]
     },
     "metadata": {},
     "output_type": "display_data"
    },
    {
     "data": {
      "application/javascript": "(function(root) {\n  function now() {\n    return new Date();\n  }\n\n  const force = true;\n  const py_version = '3.7.3'.replace('rc', '-rc.').replace('.dev', '-dev.');\n  const reloading = false;\n  const Bokeh = root.Bokeh;\n\n  // Set a timeout for this load but only if we are not already initializing\n  if (typeof (root._bokeh_timeout) === \"undefined\" || (force || !root._bokeh_is_initializing)) {\n    root._bokeh_timeout = Date.now() + 5000;\n    root._bokeh_failed_load = false;\n  }\n\n  function run_callbacks() {\n    try {\n      root._bokeh_onload_callbacks.forEach(function(callback) {\n        if (callback != null)\n          callback();\n      });\n    } finally {\n      delete root._bokeh_onload_callbacks;\n    }\n    console.debug(\"Bokeh: all callbacks have finished\");\n  }\n\n  function load_libs(css_urls, js_urls, js_modules, js_exports, callback) {\n    if (css_urls == null) css_urls = [];\n    if (js_urls == null) js_urls = [];\n    if (js_modules == null) js_modules = [];\n    if (js_exports == null) js_exports = {};\n\n    root._bokeh_onload_callbacks.push(callback);\n\n    if (root._bokeh_is_loading > 0) {\n      // Don't load bokeh if it is still initializing\n      console.debug(\"Bokeh: BokehJS is being loaded, scheduling callback at\", now());\n      return null;\n    } else if (js_urls.length === 0 && js_modules.length === 0 && Object.keys(js_exports).length === 0) {\n      // There is nothing to load\n      run_callbacks();\n      return null;\n    }\n\n    function on_load() {\n      root._bokeh_is_loading--;\n      if (root._bokeh_is_loading === 0) {\n        console.debug(\"Bokeh: all BokehJS libraries/stylesheets loaded\");\n        run_callbacks()\n      }\n    }\n    window._bokeh_on_load = on_load\n\n    function on_error(e) {\n      const src_el = e.srcElement\n      console.error(\"failed to load \" + (src_el.href || src_el.src));\n    }\n\n    const skip = [];\n    if (window.requirejs) {\n      window.requirejs.config({'packages': {}, 'paths': {}, 'shim': {}});\n      root._bokeh_is_loading = css_urls.length + 0;\n    } else {\n      root._bokeh_is_loading = css_urls.length + js_urls.length + js_modules.length + Object.keys(js_exports).length;\n    }\n\n    const existing_stylesheets = []\n    const links = document.getElementsByTagName('link')\n    for (let i = 0; i < links.length; i++) {\n      const link = links[i]\n      if (link.href != null) {\n        existing_stylesheets.push(link.href)\n      }\n    }\n    for (let i = 0; i < css_urls.length; i++) {\n      const url = css_urls[i];\n      const escaped = encodeURI(url)\n      if (existing_stylesheets.indexOf(escaped) !== -1) {\n        on_load()\n        continue;\n      }\n      const element = document.createElement(\"link\");\n      element.onload = on_load;\n      element.onerror = on_error;\n      element.rel = \"stylesheet\";\n      element.type = \"text/css\";\n      element.href = url;\n      console.debug(\"Bokeh: injecting link tag for BokehJS stylesheet: \", url);\n      document.body.appendChild(element);\n    }    var existing_scripts = []\n    const scripts = document.getElementsByTagName('script')\n    for (let i = 0; i < scripts.length; i++) {\n      var script = scripts[i]\n      if (script.src != null) {\n        existing_scripts.push(script.src)\n      }\n    }\n    for (let i = 0; i < js_urls.length; i++) {\n      const url = js_urls[i];\n      const escaped = encodeURI(url)\n      if (skip.indexOf(escaped) !== -1 || existing_scripts.indexOf(escaped) !== -1) {\n        if (!window.requirejs) {\n          on_load();\n        }\n        continue;\n      }\n      const element = document.createElement('script');\n      element.onload = on_load;\n      element.onerror = on_error;\n      element.async = false;\n      element.src = url;\n      console.debug(\"Bokeh: injecting script tag for BokehJS library: \", url);\n      document.head.appendChild(element);\n    }\n    for (let i = 0; i < js_modules.length; i++) {\n      const url = js_modules[i];\n      const escaped = encodeURI(url)\n      if (skip.indexOf(escaped) !== -1 || existing_scripts.indexOf(escaped) !== -1) {\n        if (!window.requirejs) {\n          on_load();\n        }\n        continue;\n      }\n      var element = document.createElement('script');\n      element.onload = on_load;\n      element.onerror = on_error;\n      element.async = false;\n      element.src = url;\n      element.type = \"module\";\n      console.debug(\"Bokeh: injecting script tag for BokehJS library: \", url);\n      document.head.appendChild(element);\n    }\n    for (const name in js_exports) {\n      const url = js_exports[name];\n      const escaped = encodeURI(url)\n      if (skip.indexOf(escaped) >= 0 || root[name] != null) {\n        if (!window.requirejs) {\n          on_load();\n        }\n        continue;\n      }\n      var element = document.createElement('script');\n      element.onerror = on_error;\n      element.async = false;\n      element.type = \"module\";\n      console.debug(\"Bokeh: injecting script tag for BokehJS library: \", url);\n      element.textContent = `\n      import ${name} from \"${url}\"\n      window.${name} = ${name}\n      window._bokeh_on_load()\n      `\n      document.head.appendChild(element);\n    }\n    if (!js_urls.length && !js_modules.length) {\n      on_load()\n    }\n  };\n\n  function inject_raw_css(css) {\n    const element = document.createElement(\"style\");\n    element.appendChild(document.createTextNode(css));\n    document.body.appendChild(element);\n  }\n\n  const js_urls = [\"https://cdn.holoviz.org/panel/1.7.0/dist/bundled/reactiveesm/es-module-shims@^1.10.0/dist/es-module-shims.min.js\", \"https://cdn.bokeh.org/bokeh/release/bokeh-3.7.3.min.js\", \"https://cdn.bokeh.org/bokeh/release/bokeh-gl-3.7.3.min.js\", \"https://cdn.bokeh.org/bokeh/release/bokeh-widgets-3.7.3.min.js\", \"https://cdn.bokeh.org/bokeh/release/bokeh-tables-3.7.3.min.js\", \"https://cdn.holoviz.org/panel/1.7.0/dist/panel.min.js\"];\n  const js_modules = [];\n  const js_exports = {};\n  const css_urls = [];\n  const inline_js = [    function(Bokeh) {\n      Bokeh.set_log_level(\"info\");\n    },\nfunction(Bokeh) {} // ensure no trailing comma for IE\n  ];\n\n  function run_inline_js() {\n    if ((root.Bokeh !== undefined) || (force === true)) {\n      for (let i = 0; i < inline_js.length; i++) {\n        try {\n          inline_js[i].call(root, root.Bokeh);\n        } catch(e) {\n          if (!reloading) {\n            throw e;\n          }\n        }\n      }\n      // Cache old bokeh versions\n      if (Bokeh != undefined && !reloading) {\n        var NewBokeh = root.Bokeh;\n        if (Bokeh.versions === undefined) {\n          Bokeh.versions = new Map();\n        }\n        if (NewBokeh.version !== Bokeh.version) {\n          Bokeh.versions.set(NewBokeh.version, NewBokeh)\n        }\n        root.Bokeh = Bokeh;\n      }\n    } else if (Date.now() < root._bokeh_timeout) {\n      setTimeout(run_inline_js, 100);\n    } else if (!root._bokeh_failed_load) {\n      console.log(\"Bokeh: BokehJS failed to load within specified timeout.\");\n      root._bokeh_failed_load = true;\n    }\n    root._bokeh_is_initializing = false\n  }\n\n  function load_or_wait() {\n    // Implement a backoff loop that tries to ensure we do not load multiple\n    // versions of Bokeh and its dependencies at the same time.\n    // In recent versions we use the root._bokeh_is_initializing flag\n    // to determine whether there is an ongoing attempt to initialize\n    // bokeh, however for backward compatibility we also try to ensure\n    // that we do not start loading a newer (Panel>=1.0 and Bokeh>3) version\n    // before older versions are fully initialized.\n    if (root._bokeh_is_initializing && Date.now() > root._bokeh_timeout) {\n      // If the timeout and bokeh was not successfully loaded we reset\n      // everything and try loading again\n      root._bokeh_timeout = Date.now() + 5000;\n      root._bokeh_is_initializing = false;\n      root._bokeh_onload_callbacks = undefined;\n      root._bokeh_is_loading = 0\n      console.log(\"Bokeh: BokehJS was loaded multiple times but one version failed to initialize.\");\n      load_or_wait();\n    } else if (root._bokeh_is_initializing || (typeof root._bokeh_is_initializing === \"undefined\" && root._bokeh_onload_callbacks !== undefined)) {\n      setTimeout(load_or_wait, 100);\n    } else {\n      root._bokeh_is_initializing = true\n      root._bokeh_onload_callbacks = []\n      const bokeh_loaded = root.Bokeh != null && (root.Bokeh.version === py_version || (root.Bokeh.versions !== undefined && root.Bokeh.versions.has(py_version)));\n      if (!reloading && !bokeh_loaded) {\n        if (root.Bokeh) {\n          root.Bokeh = undefined;\n        }\n        console.debug(\"Bokeh: BokehJS not loaded, scheduling load and callback at\", now());\n      }\n      load_libs(css_urls, js_urls, js_modules, js_exports, function() {\n        console.debug(\"Bokeh: BokehJS plotting callback run at\", now());\n        run_inline_js();\n      });\n    }\n  }\n  // Give older versions of the autoload script a head-start to ensure\n  // they initialize before we start loading newer version.\n  setTimeout(load_or_wait, 100)\n}(window));",
      "application/vnd.holoviews_load.v0+json": ""
     },
     "metadata": {},
     "output_type": "display_data"
    },
    {
     "data": {
      "application/javascript": "\nif ((window.PyViz === undefined) || (window.PyViz instanceof HTMLElement)) {\n  window.PyViz = {comms: {}, comm_status:{}, kernels:{}, receivers: {}, plot_index: []}\n}\n\n\n    function JupyterCommManager() {\n    }\n\n    JupyterCommManager.prototype.register_target = function(plot_id, comm_id, msg_handler) {\n      if (window.comm_manager || ((window.Jupyter !== undefined) && (Jupyter.notebook.kernel != null))) {\n        var comm_manager = window.comm_manager || Jupyter.notebook.kernel.comm_manager;\n        comm_manager.register_target(comm_id, function(comm) {\n          comm.on_msg(msg_handler);\n        });\n      } else if ((plot_id in window.PyViz.kernels) && (window.PyViz.kernels[plot_id])) {\n        window.PyViz.kernels[plot_id].registerCommTarget(comm_id, function(comm) {\n          comm.onMsg = msg_handler;\n        });\n      } else if (typeof google != 'undefined' && google.colab.kernel != null) {\n        google.colab.kernel.comms.registerTarget(comm_id, (comm) => {\n          var messages = comm.messages[Symbol.asyncIterator]();\n          function processIteratorResult(result) {\n            var message = result.value;\n            console.log(message)\n            var content = {data: message.data, comm_id};\n            var buffers = []\n            for (var buffer of message.buffers || []) {\n              buffers.push(new DataView(buffer))\n            }\n            var metadata = message.metadata || {};\n            var msg = {content, buffers, metadata}\n            msg_handler(msg);\n            return messages.next().then(processIteratorResult);\n          }\n          return messages.next().then(processIteratorResult);\n        })\n      }\n    }\n\n    JupyterCommManager.prototype.get_client_comm = function(plot_id, comm_id, msg_handler) {\n      if (comm_id in window.PyViz.comms) {\n        return window.PyViz.comms[comm_id];\n      } else if (window.comm_manager || ((window.Jupyter !== undefined) && (Jupyter.notebook.kernel != null))) {\n        var comm_manager = window.comm_manager || Jupyter.notebook.kernel.comm_manager;\n        var comm = comm_manager.new_comm(comm_id, {}, {}, {}, comm_id);\n        if (msg_handler) {\n          comm.on_msg(msg_handler);\n        }\n      } else if ((plot_id in window.PyViz.kernels) && (window.PyViz.kernels[plot_id])) {\n        var comm = window.PyViz.kernels[plot_id].connectToComm(comm_id);\n        comm.open();\n        if (msg_handler) {\n          comm.onMsg = msg_handler;\n        }\n      } else if (typeof google != 'undefined' && google.colab.kernel != null) {\n        var comm_promise = google.colab.kernel.comms.open(comm_id)\n        comm_promise.then((comm) => {\n          window.PyViz.comms[comm_id] = comm;\n          if (msg_handler) {\n            var messages = comm.messages[Symbol.asyncIterator]();\n            function processIteratorResult(result) {\n              var message = result.value;\n              var content = {data: message.data};\n              var metadata = message.metadata || {comm_id};\n              var msg = {content, metadata}\n              msg_handler(msg);\n              return messages.next().then(processIteratorResult);\n            }\n            return messages.next().then(processIteratorResult);\n          }\n        })\n        var sendClosure = (data, metadata, buffers, disposeOnDone) => {\n          return comm_promise.then((comm) => {\n            comm.send(data, metadata, buffers, disposeOnDone);\n          });\n        };\n        var comm = {\n          send: sendClosure\n        };\n      }\n      window.PyViz.comms[comm_id] = comm;\n      return comm;\n    }\n    window.PyViz.comm_manager = new JupyterCommManager();\n    \n\n\nvar JS_MIME_TYPE = 'application/javascript';\nvar HTML_MIME_TYPE = 'text/html';\nvar EXEC_MIME_TYPE = 'application/vnd.holoviews_exec.v0+json';\nvar CLASS_NAME = 'output';\n\n/**\n * Render data to the DOM node\n */\nfunction render(props, node) {\n  var div = document.createElement(\"div\");\n  var script = document.createElement(\"script\");\n  node.appendChild(div);\n  node.appendChild(script);\n}\n\n/**\n * Handle when a new output is added\n */\nfunction handle_add_output(event, handle) {\n  var output_area = handle.output_area;\n  var output = handle.output;\n  if ((output.data == undefined) || (!output.data.hasOwnProperty(EXEC_MIME_TYPE))) {\n    return\n  }\n  var id = output.metadata[EXEC_MIME_TYPE][\"id\"];\n  var toinsert = output_area.element.find(\".\" + CLASS_NAME.split(' ')[0]);\n  if (id !== undefined) {\n    var nchildren = toinsert.length;\n    var html_node = toinsert[nchildren-1].children[0];\n    html_node.innerHTML = output.data[HTML_MIME_TYPE];\n    var scripts = [];\n    var nodelist = html_node.querySelectorAll(\"script\");\n    for (var i in nodelist) {\n      if (nodelist.hasOwnProperty(i)) {\n        scripts.push(nodelist[i])\n      }\n    }\n\n    scripts.forEach( function (oldScript) {\n      var newScript = document.createElement(\"script\");\n      var attrs = [];\n      var nodemap = oldScript.attributes;\n      for (var j in nodemap) {\n        if (nodemap.hasOwnProperty(j)) {\n          attrs.push(nodemap[j])\n        }\n      }\n      attrs.forEach(function(attr) { newScript.setAttribute(attr.name, attr.value) });\n      newScript.appendChild(document.createTextNode(oldScript.innerHTML));\n      oldScript.parentNode.replaceChild(newScript, oldScript);\n    });\n    if (JS_MIME_TYPE in output.data) {\n      toinsert[nchildren-1].children[1].textContent = output.data[JS_MIME_TYPE];\n    }\n    output_area._hv_plot_id = id;\n    if ((window.Bokeh !== undefined) && (id in Bokeh.index)) {\n      window.PyViz.plot_index[id] = Bokeh.index[id];\n    } else {\n      window.PyViz.plot_index[id] = null;\n    }\n  } else if (output.metadata[EXEC_MIME_TYPE][\"server_id\"] !== undefined) {\n    var bk_div = document.createElement(\"div\");\n    bk_div.innerHTML = output.data[HTML_MIME_TYPE];\n    var script_attrs = bk_div.children[0].attributes;\n    for (var i = 0; i < script_attrs.length; i++) {\n      toinsert[toinsert.length - 1].childNodes[1].setAttribute(script_attrs[i].name, script_attrs[i].value);\n    }\n    // store reference to server id on output_area\n    output_area._bokeh_server_id = output.metadata[EXEC_MIME_TYPE][\"server_id\"];\n  }\n}\n\n/**\n * Handle when an output is cleared or removed\n */\nfunction handle_clear_output(event, handle) {\n  var id = handle.cell.output_area._hv_plot_id;\n  var server_id = handle.cell.output_area._bokeh_server_id;\n  if (((id === undefined) || !(id in PyViz.plot_index)) && (server_id !== undefined)) { return; }\n  var comm = window.PyViz.comm_manager.get_client_comm(\"hv-extension-comm\", \"hv-extension-comm\", function () {});\n  if (server_id !== null) {\n    comm.send({event_type: 'server_delete', 'id': server_id});\n    return;\n  } else if (comm !== null) {\n    comm.send({event_type: 'delete', 'id': id});\n  }\n  delete PyViz.plot_index[id];\n  if ((window.Bokeh !== undefined) & (id in window.Bokeh.index)) {\n    var doc = window.Bokeh.index[id].model.document\n    doc.clear();\n    const i = window.Bokeh.documents.indexOf(doc);\n    if (i > -1) {\n      window.Bokeh.documents.splice(i, 1);\n    }\n  }\n}\n\n/**\n * Handle kernel restart event\n */\nfunction handle_kernel_cleanup(event, handle) {\n  delete PyViz.comms[\"hv-extension-comm\"];\n  window.PyViz.plot_index = {}\n}\n\n/**\n * Handle update_display_data messages\n */\nfunction handle_update_output(event, handle) {\n  handle_clear_output(event, {cell: {output_area: handle.output_area}})\n  handle_add_output(event, handle)\n}\n\nfunction register_renderer(events, OutputArea) {\n  function append_mime(data, metadata, element) {\n    // create a DOM node to render to\n    var toinsert = this.create_output_subarea(\n    metadata,\n    CLASS_NAME,\n    EXEC_MIME_TYPE\n    );\n    this.keyboard_manager.register_events(toinsert);\n    // Render to node\n    var props = {data: data, metadata: metadata[EXEC_MIME_TYPE]};\n    render(props, toinsert[0]);\n    element.append(toinsert);\n    return toinsert\n  }\n\n  events.on('output_added.OutputArea', handle_add_output);\n  events.on('output_updated.OutputArea', handle_update_output);\n  events.on('clear_output.CodeCell', handle_clear_output);\n  events.on('delete.Cell', handle_clear_output);\n  events.on('kernel_ready.Kernel', handle_kernel_cleanup);\n\n  OutputArea.prototype.register_mime_type(EXEC_MIME_TYPE, append_mime, {\n    safe: true,\n    index: 0\n  });\n}\n\nif (window.Jupyter !== undefined) {\n  try {\n    var events = require('base/js/events');\n    var OutputArea = require('notebook/js/outputarea').OutputArea;\n    if (OutputArea.prototype.mime_types().indexOf(EXEC_MIME_TYPE) == -1) {\n      register_renderer(events, OutputArea);\n    }\n  } catch(err) {\n  }\n}\n",
      "application/vnd.holoviews_load.v0+json": ""
     },
     "metadata": {},
     "output_type": "display_data"
    },
    {
     "data": {
      "application/vnd.holoviews_exec.v0+json": "",
      "text/html": [
       "<div id='0b2dd5d3-8a00-4acd-ad47-b44c3f448410'>\n",
       "  <div id=\"a953de1f-e739-4b45-9ce5-d03b580a2e1f\" data-root-id=\"0b2dd5d3-8a00-4acd-ad47-b44c3f448410\" style=\"display: contents;\"></div>\n",
       "</div>\n",
       "<script type=\"application/javascript\">(function(root) {\n",
       "  var docs_json = {\"6c900755-d30d-46f4-b333-92f2cbad1480\":{\"version\":\"3.7.3\",\"title\":\"Bokeh Application\",\"roots\":[{\"type\":\"object\",\"name\":\"panel.models.browser.BrowserInfo\",\"id\":\"0b2dd5d3-8a00-4acd-ad47-b44c3f448410\"},{\"type\":\"object\",\"name\":\"panel.models.comm_manager.CommManager\",\"id\":\"9daecd3b-ad4b-4577-866f-f2e0cb21ef6b\",\"attributes\":{\"plot_id\":\"0b2dd5d3-8a00-4acd-ad47-b44c3f448410\",\"comm_id\":\"a80d1af67ca24a689658ac85493dde7c\",\"client_comm_id\":\"ec70f16dc5614e6c91a08f34704d5703\"}}],\"defs\":[{\"type\":\"model\",\"name\":\"ReactiveHTML1\"},{\"type\":\"model\",\"name\":\"FlexBox1\",\"properties\":[{\"name\":\"align_content\",\"kind\":\"Any\",\"default\":\"flex-start\"},{\"name\":\"align_items\",\"kind\":\"Any\",\"default\":\"flex-start\"},{\"name\":\"flex_direction\",\"kind\":\"Any\",\"default\":\"row\"},{\"name\":\"flex_wrap\",\"kind\":\"Any\",\"default\":\"wrap\"},{\"name\":\"gap\",\"kind\":\"Any\",\"default\":\"\"},{\"name\":\"justify_content\",\"kind\":\"Any\",\"default\":\"flex-start\"}]},{\"type\":\"model\",\"name\":\"FloatPanel1\",\"properties\":[{\"name\":\"config\",\"kind\":\"Any\",\"default\":{\"type\":\"map\"}},{\"name\":\"contained\",\"kind\":\"Any\",\"default\":true},{\"name\":\"position\",\"kind\":\"Any\",\"default\":\"right-top\"},{\"name\":\"offsetx\",\"kind\":\"Any\",\"default\":null},{\"name\":\"offsety\",\"kind\":\"Any\",\"default\":null},{\"name\":\"theme\",\"kind\":\"Any\",\"default\":\"primary\"},{\"name\":\"status\",\"kind\":\"Any\",\"default\":\"normalized\"}]},{\"type\":\"model\",\"name\":\"GridStack1\",\"properties\":[{\"name\":\"ncols\",\"kind\":\"Any\",\"default\":null},{\"name\":\"nrows\",\"kind\":\"Any\",\"default\":null},{\"name\":\"allow_resize\",\"kind\":\"Any\",\"default\":true},{\"name\":\"allow_drag\",\"kind\":\"Any\",\"default\":true},{\"name\":\"state\",\"kind\":\"Any\",\"default\":[]}]},{\"type\":\"model\",\"name\":\"drag1\",\"properties\":[{\"name\":\"slider_width\",\"kind\":\"Any\",\"default\":5},{\"name\":\"slider_color\",\"kind\":\"Any\",\"default\":\"black\"},{\"name\":\"value\",\"kind\":\"Any\",\"default\":50}]},{\"type\":\"model\",\"name\":\"click1\",\"properties\":[{\"name\":\"terminal_output\",\"kind\":\"Any\",\"default\":\"\"},{\"name\":\"debug_name\",\"kind\":\"Any\",\"default\":\"\"},{\"name\":\"clears\",\"kind\":\"Any\",\"default\":0}]},{\"type\":\"model\",\"name\":\"FastWrapper1\",\"properties\":[{\"name\":\"object\",\"kind\":\"Any\",\"default\":null},{\"name\":\"style\",\"kind\":\"Any\",\"default\":null}]},{\"type\":\"model\",\"name\":\"NotificationArea1\",\"properties\":[{\"name\":\"js_events\",\"kind\":\"Any\",\"default\":{\"type\":\"map\"}},{\"name\":\"max_notifications\",\"kind\":\"Any\",\"default\":5},{\"name\":\"notifications\",\"kind\":\"Any\",\"default\":[]},{\"name\":\"position\",\"kind\":\"Any\",\"default\":\"bottom-right\"},{\"name\":\"_clear\",\"kind\":\"Any\",\"default\":0},{\"name\":\"types\",\"kind\":\"Any\",\"default\":[{\"type\":\"map\",\"entries\":[[\"type\",\"warning\"],[\"background\",\"#ffc107\"],[\"icon\",{\"type\":\"map\",\"entries\":[[\"className\",\"fas fa-exclamation-triangle\"],[\"tagName\",\"i\"],[\"color\",\"white\"]]}]]},{\"type\":\"map\",\"entries\":[[\"type\",\"info\"],[\"background\",\"#007bff\"],[\"icon\",{\"type\":\"map\",\"entries\":[[\"className\",\"fas fa-info-circle\"],[\"tagName\",\"i\"],[\"color\",\"white\"]]}]]}]}]},{\"type\":\"model\",\"name\":\"Notification\",\"properties\":[{\"name\":\"background\",\"kind\":\"Any\",\"default\":null},{\"name\":\"duration\",\"kind\":\"Any\",\"default\":3000},{\"name\":\"icon\",\"kind\":\"Any\",\"default\":null},{\"name\":\"message\",\"kind\":\"Any\",\"default\":\"\"},{\"name\":\"notification_type\",\"kind\":\"Any\",\"default\":null},{\"name\":\"_rendered\",\"kind\":\"Any\",\"default\":false},{\"name\":\"_destroyed\",\"kind\":\"Any\",\"default\":false}]},{\"type\":\"model\",\"name\":\"TemplateActions1\",\"properties\":[{\"name\":\"open_modal\",\"kind\":\"Any\",\"default\":0},{\"name\":\"close_modal\",\"kind\":\"Any\",\"default\":0}]},{\"type\":\"model\",\"name\":\"BootstrapTemplateActions1\",\"properties\":[{\"name\":\"open_modal\",\"kind\":\"Any\",\"default\":0},{\"name\":\"close_modal\",\"kind\":\"Any\",\"default\":0}]},{\"type\":\"model\",\"name\":\"TemplateEditor1\",\"properties\":[{\"name\":\"layout\",\"kind\":\"Any\",\"default\":[]}]},{\"type\":\"model\",\"name\":\"MaterialTemplateActions1\",\"properties\":[{\"name\":\"open_modal\",\"kind\":\"Any\",\"default\":0},{\"name\":\"close_modal\",\"kind\":\"Any\",\"default\":0}]},{\"type\":\"model\",\"name\":\"ReactiveESM1\",\"properties\":[{\"name\":\"esm_constants\",\"kind\":\"Any\",\"default\":{\"type\":\"map\"}}]},{\"type\":\"model\",\"name\":\"JSComponent1\",\"properties\":[{\"name\":\"esm_constants\",\"kind\":\"Any\",\"default\":{\"type\":\"map\"}}]},{\"type\":\"model\",\"name\":\"ReactComponent1\",\"properties\":[{\"name\":\"esm_constants\",\"kind\":\"Any\",\"default\":{\"type\":\"map\"}}]},{\"type\":\"model\",\"name\":\"AnyWidgetComponent1\",\"properties\":[{\"name\":\"esm_constants\",\"kind\":\"Any\",\"default\":{\"type\":\"map\"}}]},{\"type\":\"model\",\"name\":\"request_value1\",\"properties\":[{\"name\":\"fill\",\"kind\":\"Any\",\"default\":\"none\"},{\"name\":\"_synced\",\"kind\":\"Any\",\"default\":null},{\"name\":\"_request_sync\",\"kind\":\"Any\",\"default\":0}]}]}};\n",
       "  var render_items = [{\"docid\":\"6c900755-d30d-46f4-b333-92f2cbad1480\",\"roots\":{\"0b2dd5d3-8a00-4acd-ad47-b44c3f448410\":\"a953de1f-e739-4b45-9ce5-d03b580a2e1f\"},\"root_ids\":[\"0b2dd5d3-8a00-4acd-ad47-b44c3f448410\"]}];\n",
       "  var docs = Object.values(docs_json)\n",
       "  if (!docs) {\n",
       "    return\n",
       "  }\n",
       "  const py_version = docs[0].version.replace('rc', '-rc.').replace('.dev', '-dev.')\n",
       "  async function embed_document(root) {\n",
       "    var Bokeh = get_bokeh(root)\n",
       "    await Bokeh.embed.embed_items_notebook(docs_json, render_items);\n",
       "    for (const render_item of render_items) {\n",
       "      for (const root_id of render_item.root_ids) {\n",
       "\tconst id_el = document.getElementById(root_id)\n",
       "\tif (id_el.children.length && id_el.children[0].hasAttribute('data-root-id')) {\n",
       "\t  const root_el = id_el.children[0]\n",
       "\t  root_el.id = root_el.id + '-rendered'\n",
       "\t  for (const child of root_el.children) {\n",
       "            // Ensure JupyterLab does not capture keyboard shortcuts\n",
       "            // see: https://jupyterlab.readthedocs.io/en/4.1.x/extension/notebook.html#keyboard-interaction-model\n",
       "\t    child.setAttribute('data-lm-suppress-shortcuts', 'true')\n",
       "\t  }\n",
       "\t}\n",
       "      }\n",
       "    }\n",
       "  }\n",
       "  function get_bokeh(root) {\n",
       "    if (root.Bokeh === undefined) {\n",
       "      return null\n",
       "    } else if (root.Bokeh.version !== py_version) {\n",
       "      if (root.Bokeh.versions === undefined || !root.Bokeh.versions.has(py_version)) {\n",
       "\treturn null\n",
       "      }\n",
       "      return root.Bokeh.versions.get(py_version);\n",
       "    } else if (root.Bokeh.version === py_version) {\n",
       "      return root.Bokeh\n",
       "    }\n",
       "    return null\n",
       "  }\n",
       "  function is_loaded(root) {\n",
       "    var Bokeh = get_bokeh(root)\n",
       "    return (Bokeh != null && Bokeh.Panel !== undefined)\n",
       "  }\n",
       "  if (is_loaded(root)) {\n",
       "    embed_document(root);\n",
       "  } else {\n",
       "    var attempts = 0;\n",
       "    var timer = setInterval(function(root) {\n",
       "      if (is_loaded(root)) {\n",
       "        clearInterval(timer);\n",
       "        embed_document(root);\n",
       "      } else if (document.readyState == \"complete\") {\n",
       "        attempts++;\n",
       "        if (attempts > 200) {\n",
       "          clearInterval(timer);\n",
       "\t  var Bokeh = get_bokeh(root)\n",
       "\t  if (Bokeh == null || Bokeh.Panel == null) {\n",
       "            console.warn(\"Panel: ERROR: Unable to run Panel code because Bokeh or Panel library is missing\");\n",
       "\t  } else {\n",
       "\t    console.warn(\"Panel: WARNING: Attempting to render but not all required libraries could be resolved.\")\n",
       "\t    embed_document(root)\n",
       "\t  }\n",
       "        }\n",
       "      }\n",
       "    }, 25, root)\n",
       "  }\n",
       "})(window);</script>"
      ]
     },
     "metadata": {
      "application/vnd.holoviews_exec.v0+json": {
       "id": "0b2dd5d3-8a00-4acd-ad47-b44c3f448410"
      }
     },
     "output_type": "display_data"
    },
    {
     "data": {
      "text/html": [
       "<script type=\"esms-options\">{\"shimMode\": true}</script><style>*[data-root-id],\n",
       "*[data-root-id] > * {\n",
       "  box-sizing: border-box;\n",
       "  font-family: var(--jp-ui-font-family);\n",
       "  font-size: var(--jp-ui-font-size1);\n",
       "  color: var(--vscode-editor-foreground, var(--jp-ui-font-color1));\n",
       "}\n",
       "\n",
       "/* Override VSCode background color */\n",
       ".cell-output-ipywidget-background:has(\n",
       "    > .cell-output-ipywidget-background > .lm-Widget > *[data-root-id]\n",
       "  ),\n",
       ".cell-output-ipywidget-background:has(> .lm-Widget > *[data-root-id]) {\n",
       "  background-color: transparent !important;\n",
       "}\n",
       "</style>"
      ]
     },
     "metadata": {},
     "output_type": "display_data"
    },
    {
     "data": {
      "application/javascript": "(function(root) {\n  function now() {\n    return new Date();\n  }\n\n  const force = false;\n  const py_version = '3.7.3'.replace('rc', '-rc.').replace('.dev', '-dev.');\n  const reloading = true;\n  const Bokeh = root.Bokeh;\n\n  // Set a timeout for this load but only if we are not already initializing\n  if (typeof (root._bokeh_timeout) === \"undefined\" || (force || !root._bokeh_is_initializing)) {\n    root._bokeh_timeout = Date.now() + 5000;\n    root._bokeh_failed_load = false;\n  }\n\n  function run_callbacks() {\n    try {\n      root._bokeh_onload_callbacks.forEach(function(callback) {\n        if (callback != null)\n          callback();\n      });\n    } finally {\n      delete root._bokeh_onload_callbacks;\n    }\n    console.debug(\"Bokeh: all callbacks have finished\");\n  }\n\n  function load_libs(css_urls, js_urls, js_modules, js_exports, callback) {\n    if (css_urls == null) css_urls = [];\n    if (js_urls == null) js_urls = [];\n    if (js_modules == null) js_modules = [];\n    if (js_exports == null) js_exports = {};\n\n    root._bokeh_onload_callbacks.push(callback);\n\n    if (root._bokeh_is_loading > 0) {\n      // Don't load bokeh if it is still initializing\n      console.debug(\"Bokeh: BokehJS is being loaded, scheduling callback at\", now());\n      return null;\n    } else if (js_urls.length === 0 && js_modules.length === 0 && Object.keys(js_exports).length === 0) {\n      // There is nothing to load\n      run_callbacks();\n      return null;\n    }\n\n    function on_load() {\n      root._bokeh_is_loading--;\n      if (root._bokeh_is_loading === 0) {\n        console.debug(\"Bokeh: all BokehJS libraries/stylesheets loaded\");\n        run_callbacks()\n      }\n    }\n    window._bokeh_on_load = on_load\n\n    function on_error(e) {\n      const src_el = e.srcElement\n      console.error(\"failed to load \" + (src_el.href || src_el.src));\n    }\n\n    const skip = [];\n    if (window.requirejs) {\n      window.requirejs.config({'packages': {}, 'paths': {}, 'shim': {}});\n      root._bokeh_is_loading = css_urls.length + 0;\n    } else {\n      root._bokeh_is_loading = css_urls.length + js_urls.length + js_modules.length + Object.keys(js_exports).length;\n    }\n\n    const existing_stylesheets = []\n    const links = document.getElementsByTagName('link')\n    for (let i = 0; i < links.length; i++) {\n      const link = links[i]\n      if (link.href != null) {\n        existing_stylesheets.push(link.href)\n      }\n    }\n    for (let i = 0; i < css_urls.length; i++) {\n      const url = css_urls[i];\n      const escaped = encodeURI(url)\n      if (existing_stylesheets.indexOf(escaped) !== -1) {\n        on_load()\n        continue;\n      }\n      const element = document.createElement(\"link\");\n      element.onload = on_load;\n      element.onerror = on_error;\n      element.rel = \"stylesheet\";\n      element.type = \"text/css\";\n      element.href = url;\n      console.debug(\"Bokeh: injecting link tag for BokehJS stylesheet: \", url);\n      document.body.appendChild(element);\n    }    var existing_scripts = []\n    const scripts = document.getElementsByTagName('script')\n    for (let i = 0; i < scripts.length; i++) {\n      var script = scripts[i]\n      if (script.src != null) {\n        existing_scripts.push(script.src)\n      }\n    }\n    for (let i = 0; i < js_urls.length; i++) {\n      const url = js_urls[i];\n      const escaped = encodeURI(url)\n      if (skip.indexOf(escaped) !== -1 || existing_scripts.indexOf(escaped) !== -1) {\n        if (!window.requirejs) {\n          on_load();\n        }\n        continue;\n      }\n      const element = document.createElement('script');\n      element.onload = on_load;\n      element.onerror = on_error;\n      element.async = false;\n      element.src = url;\n      console.debug(\"Bokeh: injecting script tag for BokehJS library: \", url);\n      document.head.appendChild(element);\n    }\n    for (let i = 0; i < js_modules.length; i++) {\n      const url = js_modules[i];\n      const escaped = encodeURI(url)\n      if (skip.indexOf(escaped) !== -1 || existing_scripts.indexOf(escaped) !== -1) {\n        if (!window.requirejs) {\n          on_load();\n        }\n        continue;\n      }\n      var element = document.createElement('script');\n      element.onload = on_load;\n      element.onerror = on_error;\n      element.async = false;\n      element.src = url;\n      element.type = \"module\";\n      console.debug(\"Bokeh: injecting script tag for BokehJS library: \", url);\n      document.head.appendChild(element);\n    }\n    for (const name in js_exports) {\n      const url = js_exports[name];\n      const escaped = encodeURI(url)\n      if (skip.indexOf(escaped) >= 0 || root[name] != null) {\n        if (!window.requirejs) {\n          on_load();\n        }\n        continue;\n      }\n      var element = document.createElement('script');\n      element.onerror = on_error;\n      element.async = false;\n      element.type = \"module\";\n      console.debug(\"Bokeh: injecting script tag for BokehJS library: \", url);\n      element.textContent = `\n      import ${name} from \"${url}\"\n      window.${name} = ${name}\n      window._bokeh_on_load()\n      `\n      document.head.appendChild(element);\n    }\n    if (!js_urls.length && !js_modules.length) {\n      on_load()\n    }\n  };\n\n  function inject_raw_css(css) {\n    const element = document.createElement(\"style\");\n    element.appendChild(document.createTextNode(css));\n    document.body.appendChild(element);\n  }\n\n  const js_urls = [\"https://cdn.holoviz.org/panel/1.7.0/dist/bundled/reactiveesm/es-module-shims@^1.10.0/dist/es-module-shims.min.js\"];\n  const js_modules = [];\n  const js_exports = {};\n  const css_urls = [];\n  const inline_js = [    function(Bokeh) {\n      Bokeh.set_log_level(\"info\");\n    },\nfunction(Bokeh) {} // ensure no trailing comma for IE\n  ];\n\n  function run_inline_js() {\n    if ((root.Bokeh !== undefined) || (force === true)) {\n      for (let i = 0; i < inline_js.length; i++) {\n        try {\n          inline_js[i].call(root, root.Bokeh);\n        } catch(e) {\n          if (!reloading) {\n            throw e;\n          }\n        }\n      }\n      // Cache old bokeh versions\n      if (Bokeh != undefined && !reloading) {\n        var NewBokeh = root.Bokeh;\n        if (Bokeh.versions === undefined) {\n          Bokeh.versions = new Map();\n        }\n        if (NewBokeh.version !== Bokeh.version) {\n          Bokeh.versions.set(NewBokeh.version, NewBokeh)\n        }\n        root.Bokeh = Bokeh;\n      }\n    } else if (Date.now() < root._bokeh_timeout) {\n      setTimeout(run_inline_js, 100);\n    } else if (!root._bokeh_failed_load) {\n      console.log(\"Bokeh: BokehJS failed to load within specified timeout.\");\n      root._bokeh_failed_load = true;\n    }\n    root._bokeh_is_initializing = false\n  }\n\n  function load_or_wait() {\n    // Implement a backoff loop that tries to ensure we do not load multiple\n    // versions of Bokeh and its dependencies at the same time.\n    // In recent versions we use the root._bokeh_is_initializing flag\n    // to determine whether there is an ongoing attempt to initialize\n    // bokeh, however for backward compatibility we also try to ensure\n    // that we do not start loading a newer (Panel>=1.0 and Bokeh>3) version\n    // before older versions are fully initialized.\n    if (root._bokeh_is_initializing && Date.now() > root._bokeh_timeout) {\n      // If the timeout and bokeh was not successfully loaded we reset\n      // everything and try loading again\n      root._bokeh_timeout = Date.now() + 5000;\n      root._bokeh_is_initializing = false;\n      root._bokeh_onload_callbacks = undefined;\n      root._bokeh_is_loading = 0\n      console.log(\"Bokeh: BokehJS was loaded multiple times but one version failed to initialize.\");\n      load_or_wait();\n    } else if (root._bokeh_is_initializing || (typeof root._bokeh_is_initializing === \"undefined\" && root._bokeh_onload_callbacks !== undefined)) {\n      setTimeout(load_or_wait, 100);\n    } else {\n      root._bokeh_is_initializing = true\n      root._bokeh_onload_callbacks = []\n      const bokeh_loaded = root.Bokeh != null && (root.Bokeh.version === py_version || (root.Bokeh.versions !== undefined && root.Bokeh.versions.has(py_version)));\n      if (!reloading && !bokeh_loaded) {\n        if (root.Bokeh) {\n          root.Bokeh = undefined;\n        }\n        console.debug(\"Bokeh: BokehJS not loaded, scheduling load and callback at\", now());\n      }\n      load_libs(css_urls, js_urls, js_modules, js_exports, function() {\n        console.debug(\"Bokeh: BokehJS plotting callback run at\", now());\n        run_inline_js();\n      });\n    }\n  }\n  // Give older versions of the autoload script a head-start to ensure\n  // they initialize before we start loading newer version.\n  setTimeout(load_or_wait, 100)\n}(window));",
      "application/vnd.holoviews_load.v0+json": ""
     },
     "metadata": {},
     "output_type": "display_data"
    },
    {
     "data": {
      "application/javascript": "\nif ((window.PyViz === undefined) || (window.PyViz instanceof HTMLElement)) {\n  window.PyViz = {comms: {}, comm_status:{}, kernels:{}, receivers: {}, plot_index: []}\n}\n\n\n    function JupyterCommManager() {\n    }\n\n    JupyterCommManager.prototype.register_target = function(plot_id, comm_id, msg_handler) {\n      if (window.comm_manager || ((window.Jupyter !== undefined) && (Jupyter.notebook.kernel != null))) {\n        var comm_manager = window.comm_manager || Jupyter.notebook.kernel.comm_manager;\n        comm_manager.register_target(comm_id, function(comm) {\n          comm.on_msg(msg_handler);\n        });\n      } else if ((plot_id in window.PyViz.kernels) && (window.PyViz.kernels[plot_id])) {\n        window.PyViz.kernels[plot_id].registerCommTarget(comm_id, function(comm) {\n          comm.onMsg = msg_handler;\n        });\n      } else if (typeof google != 'undefined' && google.colab.kernel != null) {\n        google.colab.kernel.comms.registerTarget(comm_id, (comm) => {\n          var messages = comm.messages[Symbol.asyncIterator]();\n          function processIteratorResult(result) {\n            var message = result.value;\n            console.log(message)\n            var content = {data: message.data, comm_id};\n            var buffers = []\n            for (var buffer of message.buffers || []) {\n              buffers.push(new DataView(buffer))\n            }\n            var metadata = message.metadata || {};\n            var msg = {content, buffers, metadata}\n            msg_handler(msg);\n            return messages.next().then(processIteratorResult);\n          }\n          return messages.next().then(processIteratorResult);\n        })\n      }\n    }\n\n    JupyterCommManager.prototype.get_client_comm = function(plot_id, comm_id, msg_handler) {\n      if (comm_id in window.PyViz.comms) {\n        return window.PyViz.comms[comm_id];\n      } else if (window.comm_manager || ((window.Jupyter !== undefined) && (Jupyter.notebook.kernel != null))) {\n        var comm_manager = window.comm_manager || Jupyter.notebook.kernel.comm_manager;\n        var comm = comm_manager.new_comm(comm_id, {}, {}, {}, comm_id);\n        if (msg_handler) {\n          comm.on_msg(msg_handler);\n        }\n      } else if ((plot_id in window.PyViz.kernels) && (window.PyViz.kernels[plot_id])) {\n        var comm = window.PyViz.kernels[plot_id].connectToComm(comm_id);\n        comm.open();\n        if (msg_handler) {\n          comm.onMsg = msg_handler;\n        }\n      } else if (typeof google != 'undefined' && google.colab.kernel != null) {\n        var comm_promise = google.colab.kernel.comms.open(comm_id)\n        comm_promise.then((comm) => {\n          window.PyViz.comms[comm_id] = comm;\n          if (msg_handler) {\n            var messages = comm.messages[Symbol.asyncIterator]();\n            function processIteratorResult(result) {\n              var message = result.value;\n              var content = {data: message.data};\n              var metadata = message.metadata || {comm_id};\n              var msg = {content, metadata}\n              msg_handler(msg);\n              return messages.next().then(processIteratorResult);\n            }\n            return messages.next().then(processIteratorResult);\n          }\n        })\n        var sendClosure = (data, metadata, buffers, disposeOnDone) => {\n          return comm_promise.then((comm) => {\n            comm.send(data, metadata, buffers, disposeOnDone);\n          });\n        };\n        var comm = {\n          send: sendClosure\n        };\n      }\n      window.PyViz.comms[comm_id] = comm;\n      return comm;\n    }\n    window.PyViz.comm_manager = new JupyterCommManager();\n    \n\n\nvar JS_MIME_TYPE = 'application/javascript';\nvar HTML_MIME_TYPE = 'text/html';\nvar EXEC_MIME_TYPE = 'application/vnd.holoviews_exec.v0+json';\nvar CLASS_NAME = 'output';\n\n/**\n * Render data to the DOM node\n */\nfunction render(props, node) {\n  var div = document.createElement(\"div\");\n  var script = document.createElement(\"script\");\n  node.appendChild(div);\n  node.appendChild(script);\n}\n\n/**\n * Handle when a new output is added\n */\nfunction handle_add_output(event, handle) {\n  var output_area = handle.output_area;\n  var output = handle.output;\n  if ((output.data == undefined) || (!output.data.hasOwnProperty(EXEC_MIME_TYPE))) {\n    return\n  }\n  var id = output.metadata[EXEC_MIME_TYPE][\"id\"];\n  var toinsert = output_area.element.find(\".\" + CLASS_NAME.split(' ')[0]);\n  if (id !== undefined) {\n    var nchildren = toinsert.length;\n    var html_node = toinsert[nchildren-1].children[0];\n    html_node.innerHTML = output.data[HTML_MIME_TYPE];\n    var scripts = [];\n    var nodelist = html_node.querySelectorAll(\"script\");\n    for (var i in nodelist) {\n      if (nodelist.hasOwnProperty(i)) {\n        scripts.push(nodelist[i])\n      }\n    }\n\n    scripts.forEach( function (oldScript) {\n      var newScript = document.createElement(\"script\");\n      var attrs = [];\n      var nodemap = oldScript.attributes;\n      for (var j in nodemap) {\n        if (nodemap.hasOwnProperty(j)) {\n          attrs.push(nodemap[j])\n        }\n      }\n      attrs.forEach(function(attr) { newScript.setAttribute(attr.name, attr.value) });\n      newScript.appendChild(document.createTextNode(oldScript.innerHTML));\n      oldScript.parentNode.replaceChild(newScript, oldScript);\n    });\n    if (JS_MIME_TYPE in output.data) {\n      toinsert[nchildren-1].children[1].textContent = output.data[JS_MIME_TYPE];\n    }\n    output_area._hv_plot_id = id;\n    if ((window.Bokeh !== undefined) && (id in Bokeh.index)) {\n      window.PyViz.plot_index[id] = Bokeh.index[id];\n    } else {\n      window.PyViz.plot_index[id] = null;\n    }\n  } else if (output.metadata[EXEC_MIME_TYPE][\"server_id\"] !== undefined) {\n    var bk_div = document.createElement(\"div\");\n    bk_div.innerHTML = output.data[HTML_MIME_TYPE];\n    var script_attrs = bk_div.children[0].attributes;\n    for (var i = 0; i < script_attrs.length; i++) {\n      toinsert[toinsert.length - 1].childNodes[1].setAttribute(script_attrs[i].name, script_attrs[i].value);\n    }\n    // store reference to server id on output_area\n    output_area._bokeh_server_id = output.metadata[EXEC_MIME_TYPE][\"server_id\"];\n  }\n}\n\n/**\n * Handle when an output is cleared or removed\n */\nfunction handle_clear_output(event, handle) {\n  var id = handle.cell.output_area._hv_plot_id;\n  var server_id = handle.cell.output_area._bokeh_server_id;\n  if (((id === undefined) || !(id in PyViz.plot_index)) && (server_id !== undefined)) { return; }\n  var comm = window.PyViz.comm_manager.get_client_comm(\"hv-extension-comm\", \"hv-extension-comm\", function () {});\n  if (server_id !== null) {\n    comm.send({event_type: 'server_delete', 'id': server_id});\n    return;\n  } else if (comm !== null) {\n    comm.send({event_type: 'delete', 'id': id});\n  }\n  delete PyViz.plot_index[id];\n  if ((window.Bokeh !== undefined) & (id in window.Bokeh.index)) {\n    var doc = window.Bokeh.index[id].model.document\n    doc.clear();\n    const i = window.Bokeh.documents.indexOf(doc);\n    if (i > -1) {\n      window.Bokeh.documents.splice(i, 1);\n    }\n  }\n}\n\n/**\n * Handle kernel restart event\n */\nfunction handle_kernel_cleanup(event, handle) {\n  delete PyViz.comms[\"hv-extension-comm\"];\n  window.PyViz.plot_index = {}\n}\n\n/**\n * Handle update_display_data messages\n */\nfunction handle_update_output(event, handle) {\n  handle_clear_output(event, {cell: {output_area: handle.output_area}})\n  handle_add_output(event, handle)\n}\n\nfunction register_renderer(events, OutputArea) {\n  function append_mime(data, metadata, element) {\n    // create a DOM node to render to\n    var toinsert = this.create_output_subarea(\n    metadata,\n    CLASS_NAME,\n    EXEC_MIME_TYPE\n    );\n    this.keyboard_manager.register_events(toinsert);\n    // Render to node\n    var props = {data: data, metadata: metadata[EXEC_MIME_TYPE]};\n    render(props, toinsert[0]);\n    element.append(toinsert);\n    return toinsert\n  }\n\n  events.on('output_added.OutputArea', handle_add_output);\n  events.on('output_updated.OutputArea', handle_update_output);\n  events.on('clear_output.CodeCell', handle_clear_output);\n  events.on('delete.Cell', handle_clear_output);\n  events.on('kernel_ready.Kernel', handle_kernel_cleanup);\n\n  OutputArea.prototype.register_mime_type(EXEC_MIME_TYPE, append_mime, {\n    safe: true,\n    index: 0\n  });\n}\n\nif (window.Jupyter !== undefined) {\n  try {\n    var events = require('base/js/events');\n    var OutputArea = require('notebook/js/outputarea').OutputArea;\n    if (OutputArea.prototype.mime_types().indexOf(EXEC_MIME_TYPE) == -1) {\n      register_renderer(events, OutputArea);\n    }\n  } catch(err) {\n  }\n}\n",
      "application/vnd.holoviews_load.v0+json": ""
     },
     "metadata": {},
     "output_type": "display_data"
    },
    {
     "data": {
      "text/html": [
       "    <style>\n",
       "        .bk-notebook-logo {\n",
       "            display: block;\n",
       "            width: 20px;\n",
       "            height: 20px;\n",
       "            background-image: url(data:image/png;base64,iVBORw0KGgoAAAANSUhEUgAAABQAAAAUCAYAAACNiR0NAAAABHNCSVQICAgIfAhkiAAAAAlwSFlzAAALEgAACxIB0t1+/AAAABx0RVh0U29mdHdhcmUAQWRvYmUgRmlyZXdvcmtzIENTNui8sowAAAOkSURBVDiNjZRtaJVlGMd/1/08zzln5zjP1LWcU9N0NkN8m2CYjpgQYQXqSs0I84OLIC0hkEKoPtiH3gmKoiJDU7QpLgoLjLIQCpEsNJ1vqUOdO7ppbuec5+V+rj4ctwzd8IIbbi6u+8f1539dt3A78eXC7QizUF7gyV1fD1Yqg4JWz84yffhm0qkFqBogB9rM8tZdtwVsPUhWhGcFJngGeWrPzHm5oaMmkfEg1usvLFyc8jLRqDOMru7AyC8saQr7GG7f5fvDeH7Ej8CM66nIF+8yngt6HWaKh7k49Soy9nXurCi1o3qUbS3zWfrYeQDTB/Qj6kX6Ybhw4B+bOYoLKCC9H3Nu/leUTZ1JdRWkkn2ldcCamzrcf47KKXdAJllSlxAOkRgyHsGC/zRday5Qld9DyoM4/q/rUoy/CXh3jzOu3bHUVZeU+DEn8FInkPBFlu3+nW3Nw0mk6vCDiWg8CeJaxEwuHS3+z5RgY+YBR6V1Z1nxSOfoaPa4LASWxxdNp+VWTk7+4vzaou8v8PN+xo+KY2xsw6une2frhw05CTYOmQvsEhjhWjn0bmXPjpE1+kplmmkP3suftwTubK9Vq22qKmrBhpY4jvd5afdRA3wGjFAgcnTK2s4hY0/GPNIb0nErGMCRxWOOX64Z8RAC4oCXdklmEvcL8o0BfkNK4lUg9HTl+oPlQxdNo3Mg4Nv175e/1LDGzZen30MEjRUtmXSfiTVu1kK8W4txyV6BMKlbgk3lMwYCiusNy9fVfvvwMxv8Ynl6vxoByANLTWplvuj/nF9m2+PDtt1eiHPBr1oIfhCChQMBw6Aw0UulqTKZdfVvfG7VcfIqLG9bcldL/+pdWTLxLUy8Qq38heUIjh4XlzZxzQm19lLFlr8vdQ97rjZVOLf8nclzckbcD4wxXMidpX30sFd37Fv/GtwwhzhxGVAprjbg0gCAEeIgwCZyTV2Z1REEW8O4py0wsjeloKoMr6iCY6dP92H6Vw/oTyICIthibxjm/DfN9lVz8IqtqKYLUXfoKVMVQVVJOElGjrnnUt9T9wbgp8AyYKaGlqingHZU/uG2NTZSVqwHQTWkx9hxjkpWDaCg6Ckj5qebgBVbT3V3NNXMSiWSDdGV3hrtzla7J+duwPOToIg42ChPQOQjspnSlp1V+Gjdged7+8UN5CRAV7a5EdFNwCjEaBR27b3W890TE7g24NAP/mMDXRWrGoFPQI9ls/MWO2dWFAar/xcOIImbbpA3zgAAAABJRU5ErkJggg==);\n",
       "        }\n",
       "    </style>\n",
       "    <div>\n",
       "        <a href=\"https://bokeh.org\" target=\"_blank\" class=\"bk-notebook-logo\"></a>\n",
       "        <span id=\"a49605d3-6b77-4533-80bd-dc633048cd71\">Loading BokehJS ...</span>\n",
       "    </div>\n"
      ]
     },
     "metadata": {},
     "output_type": "display_data"
    },
    {
     "data": {
      "application/javascript": "'use strict';\n(function(root) {\n  function now() {\n    return new Date();\n  }\n\n  const force = true;\n\n  if (typeof root._bokeh_onload_callbacks === \"undefined\" || force === true) {\n    root._bokeh_onload_callbacks = [];\n    root._bokeh_is_loading = undefined;\n  }\n\nconst JS_MIME_TYPE = 'application/javascript';\n  const HTML_MIME_TYPE = 'text/html';\n  const EXEC_MIME_TYPE = 'application/vnd.bokehjs_exec.v0+json';\n  const CLASS_NAME = 'output_bokeh rendered_html';\n\n  /**\n   * Render data to the DOM node\n   */\n  function render(props, node) {\n    const script = document.createElement(\"script\");\n    node.appendChild(script);\n  }\n\n  /**\n   * Handle when an output is cleared or removed\n   */\n  function handleClearOutput(event, handle) {\n    function drop(id) {\n      const view = Bokeh.index.get_by_id(id)\n      if (view != null) {\n        view.model.document.clear()\n        Bokeh.index.delete(view)\n      }\n    }\n\n    const cell = handle.cell;\n\n    const id = cell.output_area._bokeh_element_id;\n    const server_id = cell.output_area._bokeh_server_id;\n\n    // Clean up Bokeh references\n    if (id != null) {\n      drop(id)\n    }\n\n    if (server_id !== undefined) {\n      // Clean up Bokeh references\n      const cmd_clean = \"from bokeh.io.state import curstate; print(curstate().uuid_to_server['\" + server_id + \"'].get_sessions()[0].document.roots[0]._id)\";\n      cell.notebook.kernel.execute(cmd_clean, {\n        iopub: {\n          output: function(msg) {\n            const id = msg.content.text.trim()\n            drop(id)\n          }\n        }\n      });\n      // Destroy server and session\n      const cmd_destroy = \"import bokeh.io.notebook as ion; ion.destroy_server('\" + server_id + \"')\";\n      cell.notebook.kernel.execute(cmd_destroy);\n    }\n  }\n\n  /**\n   * Handle when a new output is added\n   */\n  function handleAddOutput(event, handle) {\n    const output_area = handle.output_area;\n    const output = handle.output;\n\n    // limit handleAddOutput to display_data with EXEC_MIME_TYPE content only\n    if ((output.output_type != \"display_data\") || (!Object.prototype.hasOwnProperty.call(output.data, EXEC_MIME_TYPE))) {\n      return\n    }\n\n    const toinsert = output_area.element.find(\".\" + CLASS_NAME.split(' ')[0]);\n\n    if (output.metadata[EXEC_MIME_TYPE][\"id\"] !== undefined) {\n      toinsert[toinsert.length - 1].firstChild.textContent = output.data[JS_MIME_TYPE];\n      // store reference to embed id on output_area\n      output_area._bokeh_element_id = output.metadata[EXEC_MIME_TYPE][\"id\"];\n    }\n    if (output.metadata[EXEC_MIME_TYPE][\"server_id\"] !== undefined) {\n      const bk_div = document.createElement(\"div\");\n      bk_div.innerHTML = output.data[HTML_MIME_TYPE];\n      const script_attrs = bk_div.children[0].attributes;\n      for (let i = 0; i < script_attrs.length; i++) {\n        toinsert[toinsert.length - 1].firstChild.setAttribute(script_attrs[i].name, script_attrs[i].value);\n        toinsert[toinsert.length - 1].firstChild.textContent = bk_div.children[0].textContent\n      }\n      // store reference to server id on output_area\n      output_area._bokeh_server_id = output.metadata[EXEC_MIME_TYPE][\"server_id\"];\n    }\n  }\n\n  function register_renderer(events, OutputArea) {\n\n    function append_mime(data, metadata, element) {\n      // create a DOM node to render to\n      const toinsert = this.create_output_subarea(\n        metadata,\n        CLASS_NAME,\n        EXEC_MIME_TYPE\n      );\n      this.keyboard_manager.register_events(toinsert);\n      // Render to node\n      const props = {data: data, metadata: metadata[EXEC_MIME_TYPE]};\n      render(props, toinsert[toinsert.length - 1]);\n      element.append(toinsert);\n      return toinsert\n    }\n\n    /* Handle when an output is cleared or removed */\n    events.on('clear_output.CodeCell', handleClearOutput);\n    events.on('delete.Cell', handleClearOutput);\n\n    /* Handle when a new output is added */\n    events.on('output_added.OutputArea', handleAddOutput);\n\n    /**\n     * Register the mime type and append_mime function with output_area\n     */\n    OutputArea.prototype.register_mime_type(EXEC_MIME_TYPE, append_mime, {\n      /* Is output safe? */\n      safe: true,\n      /* Index of renderer in `output_area.display_order` */\n      index: 0\n    });\n  }\n\n  // register the mime type if in Jupyter Notebook environment and previously unregistered\n  if (root.Jupyter !== undefined) {\n    const events = require('base/js/events');\n    const OutputArea = require('notebook/js/outputarea').OutputArea;\n\n    if (OutputArea.prototype.mime_types().indexOf(EXEC_MIME_TYPE) == -1) {\n      register_renderer(events, OutputArea);\n    }\n  }\n  if (typeof (root._bokeh_timeout) === \"undefined\" || force === true) {\n    root._bokeh_timeout = Date.now() + 5000;\n    root._bokeh_failed_load = false;\n  }\n\n  const NB_LOAD_WARNING = {'data': {'text/html':\n     \"<div style='background-color: #fdd'>\\n\"+\n     \"<p>\\n\"+\n     \"BokehJS does not appear to have successfully loaded. If loading BokehJS from CDN, this \\n\"+\n     \"may be due to a slow or bad network connection. Possible fixes:\\n\"+\n     \"</p>\\n\"+\n     \"<ul>\\n\"+\n     \"<li>re-rerun `output_notebook()` to attempt to load from CDN again, or</li>\\n\"+\n     \"<li>use INLINE resources instead, as so:</li>\\n\"+\n     \"</ul>\\n\"+\n     \"<code>\\n\"+\n     \"from bokeh.resources import INLINE\\n\"+\n     \"output_notebook(resources=INLINE)\\n\"+\n     \"</code>\\n\"+\n     \"</div>\"}};\n\n  function display_loaded(error = null) {\n    const el = document.getElementById(\"a49605d3-6b77-4533-80bd-dc633048cd71\");\n    if (el != null) {\n      const html = (() => {\n        if (typeof root.Bokeh === \"undefined\") {\n          if (error == null) {\n            return \"BokehJS is loading ...\";\n          } else {\n            return \"BokehJS failed to load.\";\n          }\n        } else {\n          const prefix = `BokehJS ${root.Bokeh.version}`;\n          if (error == null) {\n            return `${prefix} successfully loaded.`;\n          } else {\n            return `${prefix} <b>encountered errors</b> while loading and may not function as expected.`;\n          }\n        }\n      })();\n      el.innerHTML = html;\n\n      if (error != null) {\n        const wrapper = document.createElement(\"div\");\n        wrapper.style.overflow = \"auto\";\n        wrapper.style.height = \"5em\";\n        wrapper.style.resize = \"vertical\";\n        const content = document.createElement(\"div\");\n        content.style.fontFamily = \"monospace\";\n        content.style.whiteSpace = \"pre-wrap\";\n        content.style.backgroundColor = \"rgb(255, 221, 221)\";\n        content.textContent = error.stack ?? error.toString();\n        wrapper.append(content);\n        el.append(wrapper);\n      }\n    } else if (Date.now() < root._bokeh_timeout) {\n      setTimeout(() => display_loaded(error), 100);\n    }\n  }\n\n  function run_callbacks() {\n    try {\n      root._bokeh_onload_callbacks.forEach(function(callback) {\n        if (callback != null)\n          callback();\n      });\n    } finally {\n      delete root._bokeh_onload_callbacks\n    }\n    console.debug(\"Bokeh: all callbacks have finished\");\n  }\n\n  function load_libs(css_urls, js_urls, callback) {\n    if (css_urls == null) css_urls = [];\n    if (js_urls == null) js_urls = [];\n\n    root._bokeh_onload_callbacks.push(callback);\n    if (root._bokeh_is_loading > 0) {\n      console.debug(\"Bokeh: BokehJS is being loaded, scheduling callback at\", now());\n      return null;\n    }\n    if (js_urls == null || js_urls.length === 0) {\n      run_callbacks();\n      return null;\n    }\n    console.debug(\"Bokeh: BokehJS not loaded, scheduling load and callback at\", now());\n    root._bokeh_is_loading = css_urls.length + js_urls.length;\n\n    function on_load() {\n      root._bokeh_is_loading--;\n      if (root._bokeh_is_loading === 0) {\n        console.debug(\"Bokeh: all BokehJS libraries/stylesheets loaded\");\n        run_callbacks()\n      }\n    }\n\n    function on_error(url) {\n      console.error(\"failed to load \" + url);\n    }\n\n    for (let i = 0; i < css_urls.length; i++) {\n      const url = css_urls[i];\n      const element = document.createElement(\"link\");\n      element.onload = on_load;\n      element.onerror = on_error.bind(null, url);\n      element.rel = \"stylesheet\";\n      element.type = \"text/css\";\n      element.href = url;\n      console.debug(\"Bokeh: injecting link tag for BokehJS stylesheet: \", url);\n      document.body.appendChild(element);\n    }\n\n    for (let i = 0; i < js_urls.length; i++) {\n      const url = js_urls[i];\n      const element = document.createElement('script');\n      element.onload = on_load;\n      element.onerror = on_error.bind(null, url);\n      element.async = false;\n      element.src = url;\n      console.debug(\"Bokeh: injecting script tag for BokehJS library: \", url);\n      document.head.appendChild(element);\n    }\n  };\n\n  function inject_raw_css(css) {\n    const element = document.createElement(\"style\");\n    element.appendChild(document.createTextNode(css));\n    document.body.appendChild(element);\n  }\n\n  const js_urls = [\"static/extensions/panel/bundled/reactiveesm/es-module-shims@^1.10.0/dist/es-module-shims.min.js\", \"https://cdn.bokeh.org/bokeh/release/bokeh-3.7.3.min.js\", \"https://cdn.bokeh.org/bokeh/release/bokeh-gl-3.7.3.min.js\", \"https://cdn.bokeh.org/bokeh/release/bokeh-widgets-3.7.3.min.js\", \"https://cdn.bokeh.org/bokeh/release/bokeh-tables-3.7.3.min.js\", \"https://cdn.bokeh.org/bokeh/release/bokeh-mathjax-3.7.3.min.js\", \"https://unpkg.com/@holoviz/panel@1.7.0/dist/panel.min.js\"];\n  const css_urls = [];\n\n  const inline_js = [    function(Bokeh) {\n      Bokeh.set_log_level(\"info\");\n    },\nfunction(Bokeh) {\n    }\n  ];\n\n  function run_inline_js() {\n    if (root.Bokeh !== undefined || force === true) {\n      try {\n            for (let i = 0; i < inline_js.length; i++) {\n      inline_js[i].call(root, root.Bokeh);\n    }\n\n      } catch (error) {display_loaded(error);throw error;\n      }if (force === true) {\n        display_loaded();\n      }} else if (Date.now() < root._bokeh_timeout) {\n      setTimeout(run_inline_js, 100);\n    } else if (!root._bokeh_failed_load) {\n      console.log(\"Bokeh: BokehJS failed to load within specified timeout.\");\n      root._bokeh_failed_load = true;\n    } else if (force !== true) {\n      const cell = $(document.getElementById(\"a49605d3-6b77-4533-80bd-dc633048cd71\")).parents('.cell').data().cell;\n      cell.output_area.append_execute_result(NB_LOAD_WARNING)\n    }\n  }\n\n  if (root._bokeh_is_loading === 0) {\n    console.debug(\"Bokeh: BokehJS loaded, going straight to plotting\");\n    run_inline_js();\n  } else {\n    load_libs(css_urls, js_urls, function() {\n      console.debug(\"Bokeh: BokehJS plotting callback run at\", now());\n      run_inline_js();\n    });\n  }\n}(window));",
      "application/vnd.bokehjs_load.v0+json": ""
     },
     "metadata": {},
     "output_type": "display_data"
    },
    {
     "name": "stdout",
     "output_type": "stream",
     "text": [
      "Connected to https://neuprint-cns.janelia.org[cns].\n",
      "Client: neuprint-python v1.7.4\n",
      "User: aishahamid201@gmail.com [readwrite]\n",
      "\n"
     ]
    }
   ],
   "source": [
    "# Import standard libraries\n",
    "import os, datetime\n",
    "from pathlib import Path\n",
    "import matplotlib as mpl\n",
    "import matplotlib.pyplot as plt\n",
    "import pickle as pl\n",
    "import igraph\n",
    "import time\n",
    "import numpy as np\n",
    "import matplotlib.pyplot as plt\n",
    "import pandas as pd\n",
    "import bokeh\n",
    "import hvplot.pandas\n",
    "import holoviews as hv\n",
    "from holoviews import opts\n",
    "hv.extension('bokeh', 'matplotlib')\n",
    "%matplotlib inline\n",
    "\n",
    "import bokeh.palettes\n",
    "from bokeh.plotting import figure, show, output_notebook\n",
    "output_notebook()\n",
    "import seaborn as sb\n",
    "from scipy.sparse import csr_matrix\n",
    "from scipy.sparse import save_npz, load_npz\n",
    "# import cairo\n",
    "import plotly.graph_objects as go\n",
    "import plotly.express as px\n",
    "from scipy.stats import zscore\n",
    "from scipy.sparse.linalg import norm\n",
    "import networkx as nx\n",
    "from pyvis.network import Network\n",
    "\n",
    "## Load environment variables from .env file and find project root\n",
    "import sys\n",
    "from dotenv import load_dotenv, find_dotenv\n",
    "load_dotenv()\n",
    "PROJECT_ROOT = Path(find_dotenv()).parent\n",
    "# data_path = Path(PROJECT_ROOT, 'results', 'eyemap')\n",
    "store_path = Path(PROJECT_ROOT, 'results','AOTU_Connectivity')\n",
    "sys.path.append(str(PROJECT_ROOT.joinpath('src')))\n",
    "\n",
    "\n",
    "from utils import olc_client\n",
    "c = olc_client.connect(verbose=True)\n",
    "\n",
    "from utils.celltype_conn_by_roi import CelltypeConnByRoi\n",
    "from utils.celltype_conn_plotter import CelltypeConnPlotter\n",
    "from utils.plotter import plot_cns, save_figure, get_skeletons, get_skeleton, get_meshes, get_mesh, show_figure\n",
    "from utils.helper import slugify\n",
    "from utils.neuron_bag import NeuronBag\n",
    "\n",
    "# Import neuPrint specific libraries\n",
    "from neuprint import Client, fetch_neurons, NeuronCriteria as NC, fetch_neurons, fetch_simple_connections, fetch_adjacencies, connection_table_to_matrix, merge_neuron_properties, NotNull, fetch_synapse_connections, fetch_neurons,fetch_primary_rois, fetch_all_rois, fetch_synapses, fetch_roi_hierarchy\n",
    "from neuprint.utils import connection_table_to_matrix"
   ]
  },
  {
   "cell_type": "markdown",
   "metadata": {},
   "source": [
    "### LC inputs to AOTUs"
   ]
  },
  {
   "cell_type": "code",
   "execution_count": 140,
   "metadata": {},
   "outputs": [
    {
     "data": {
      "text/plain": [
       "(         bodyId             instance    type   pre  post  downstream  \\\n",
       " 0         10573              LC10a_L   LC10a   375  1295        2650   \n",
       " 1         11153               LC22_R    LC22   277  1760        1902   \n",
       " 2         11372                LC9_R     LC9   269   708        1787   \n",
       " 3         11516  LCNOpm(LAL-NO3pm)_L  LCNOpm  1048  9104        9648   \n",
       " 4         11692               LC12_L    LC12   220   424        1378   \n",
       " ...         ...                  ...     ...   ...   ...         ...   \n",
       " 4251     915658              LC10d_L   LC10d   242   793        1860   \n",
       " 4252     919862              LC10d_L   LC10d   179   556        1193   \n",
       " 4253  104486473               LC28_L    LC28   274   864        2278   \n",
       " 4254  212467981              LC10d_L   LC10d   200   627        1443   \n",
       " 4255  882274915               LC28_L    LC28   230   829        1953   \n",
       " \n",
       "       upstream        size  status            statusLabel  ... dimorphism  \\\n",
       " 0         1295   569927082  Traced  Prelim Roughly traced  ...       None   \n",
       " 1         1760   420550341  Traced         Roughly traced  ...       None   \n",
       " 2          708   382828034  Traced         Roughly traced  ...       None   \n",
       " 3         9104  2162954222  Traced         Roughly traced  ...       None   \n",
       " 4          424   209143877  Traced  Prelim Roughly traced  ...       None   \n",
       " ...        ...         ...     ...                    ...  ...        ...   \n",
       " 4251       793   434770533  Traced  Prelim Roughly traced  ...       None   \n",
       " 4252       556   226932494  Traced  Prelim Roughly traced  ...       None   \n",
       " 4253       864   223967675  Traced  Prelim Roughly traced  ...       None   \n",
       " 4254       627   380674218  Traced  Prelim Roughly traced  ...       None   \n",
       " 4255       829   192936027  Traced  Prelim Roughly traced  ...       None   \n",
       " \n",
       "      celltypePredictedNt birthtime         superclass receptorType  \\\n",
       " 0          acetylcholine      None  visual_projection         None   \n",
       " 1          acetylcholine      None  visual_projection         None   \n",
       " 2          acetylcholine      None  visual_projection         None   \n",
       " 3                   gaba      None       cb_intrinsic         None   \n",
       " 4          acetylcholine      None  visual_projection         None   \n",
       " ...                  ...       ...                ...          ...   \n",
       " 4251       acetylcholine      None  visual_projection         None   \n",
       " 4252       acetylcholine      None  visual_projection         None   \n",
       " 4253       acetylcholine      None  visual_projection         None   \n",
       " 4254       acetylcholine      None  visual_projection         None   \n",
       " 4255       acetylcholine      None  visual_projection         None   \n",
       " \n",
       "      assignedOlHex2 mancBodyid somaSide  \\\n",
       " 0              None       None        L   \n",
       " 1              None       None        R   \n",
       " 2              None       None        R   \n",
       " 3              None       None        L   \n",
       " 4              None       None        L   \n",
       " ...             ...        ...      ...   \n",
       " 4251           None       None        L   \n",
       " 4252           None       None        L   \n",
       " 4253           None       None        L   \n",
       " 4254           None       None        L   \n",
       " 4255           None       None        L   \n",
       " \n",
       "                                               inputRois  \\\n",
       " 0     [AOTU(L), CentralBrain, LO(L), LO_L_col_21_07,...   \n",
       " 1     [CentralBrain, CentralBrain-unspecified, LO(R)...   \n",
       " 2     [AVLP(R), CentralBrain, CentralBrain-unspecifi...   \n",
       " 3     [AL(L), CRE(L), CentralBrain, CentralBrain-uns...   \n",
       " 4     [CentralBrain, LO(L), LO_L_col_20_15, LO_L_col...   \n",
       " ...                                                 ...   \n",
       " 4251  [AOTU(L), CentralBrain, CentralBrain-unspecifi...   \n",
       " 4252  [AOTU(L), CentralBrain, LO(L), LO_L_col_08_13,...   \n",
       " 4253  [CentralBrain, CentralBrain-unspecified, LH(L)...   \n",
       " 4254  [AOTU(L), CentralBrain, CentralBrain-unspecifi...   \n",
       " 4255  [CentralBrain, CentralBrain-unspecified, LO(L)...   \n",
       " \n",
       "                                              outputRois  \n",
       " 0     [AOTU(L), CentralBrain, LO(L), LO_L_col_21_09,...  \n",
       " 1     [CentralBrain, LO(R), LO_R_col_26_21, LO_R_col...  \n",
       " 2     [AVLP(R), CentralBrain, CentralBrain-unspecifi...  \n",
       " 3     [CentralBrain, CentralBrain-unspecified, LAL(L...  \n",
       " 4     [CentralBrain, CentralBrain-unspecified, Optic...  \n",
       " ...                                                 ...  \n",
       " 4251  [AOTU(L), CentralBrain, CentralBrain-unspecifi...  \n",
       " 4252  [AOTU(L), CentralBrain, LO(L), LO_L_col_09_14,...  \n",
       " 4253  [CentralBrain, CentralBrain-unspecified, LO(L)...  \n",
       " 4254  [AOTU(L), CentralBrain, LO(L), LO_L_col_08_01,...  \n",
       " 4255  [CentralBrain, LO(L), LO_L_col_27_12, LO_L_col...  \n",
       " \n",
       " [4256 rows x 58 columns],\n",
       "         bodyId   instance     type   pre   post  downstream  upstream  \\\n",
       " 0        10005  AOTU019_R  AOTU019  2837  31981       23423     31981   \n",
       " 1        10031  AOTU041_R  AOTU041  2134  20586       13446     20586   \n",
       " 2        10070  AOTU019_L  AOTU019  2836  30714       23596     30714   \n",
       " 3        10148  AOTU041_L  AOTU041  2336  19960       14187     19960   \n",
       " 4        10212  AOTU042_L  AOTU042  3579  10679       22690     10679   \n",
       " ..         ...        ...      ...   ...    ...         ...       ...   \n",
       " 309     555803  AOTU024_R  AOTU024   814   2240        6989      2240   \n",
       " 310     557095  AOTU008_L  AOTU008   392   2167        3198      2167   \n",
       " 311     565505  AOTU008_R  AOTU008   315   2727        2802      2727   \n",
       " 312     902249  AOTU038_R  AOTU038   111    459         704       459   \n",
       " 313  382559434  AOTU001_L  AOTU001   321   1829        2168      1829   \n",
       " \n",
       "             size  status     statusLabel  ...          dimorphism  \\\n",
       " 0    11847745920  Traced  Roughly traced  ...                None   \n",
       " 1     5326291658  Traced  Roughly traced  ...                None   \n",
       " 2    11809707230  Traced  Roughly traced  ...                None   \n",
       " 3     5592462575  Traced  Roughly traced  ...                None   \n",
       " 4     4312493196  Traced  Roughly traced  ...                None   \n",
       " ..           ...     ...             ...  ...                 ...   \n",
       " 309    964400165  Traced  Roughly traced  ...                None   \n",
       " 310    832073642  Traced  Roughly traced  ...  sexually dimorphic   \n",
       " 311    502528277  Traced  Roughly traced  ...  sexually dimorphic   \n",
       " 312    278656951  Traced  Roughly traced  ...                None   \n",
       " 313    474949071  Traced  Roughly traced  ...                None   \n",
       " \n",
       "     celltypePredictedNt birthtime    superclass receptorType assignedOlHex2  \\\n",
       " 0                  gaba     early  cb_intrinsic         None           None   \n",
       " 1                  gaba     early  cb_intrinsic         None           None   \n",
       " 2                  gaba     early  cb_intrinsic         None           None   \n",
       " 3                  gaba     early  cb_intrinsic         None           None   \n",
       " 4                  gaba     early  cb_intrinsic         None           None   \n",
       " ..                  ...       ...           ...          ...            ...   \n",
       " 309       acetylcholine      None  cb_intrinsic         None           None   \n",
       " 310       acetylcholine      None  cb_intrinsic         None           None   \n",
       " 311       acetylcholine      None  cb_intrinsic         None           None   \n",
       " 312            dopamine      None  cb_intrinsic         None           None   \n",
       " 313       acetylcholine      None  cb_intrinsic         None           None   \n",
       " \n",
       "     mancBodyid somaSide                                          inputRois  \\\n",
       " 0         None        R  [AOTU(R), CRE(R), CentralBrain, CentralBrain-u...   \n",
       " 1         None        R  [AOTU(L), AOTU(R), CRE(L), CRE(R), CentralBrai...   \n",
       " 2         None        L  [AOTU(L), CRE(L), CentralBrain, CentralBrain-u...   \n",
       " 3         None        L  [AOTU(L), AOTU(R), BU(L), CRE(L), CentralBrain...   \n",
       " 4         None        L  [AOTU(L), AOTU(R), CRE(L), CentralBrain, Centr...   \n",
       " ..         ...      ...                                                ...   \n",
       " 309       None        R  [AOTU(R), ATL(L), ATL(R), CRE(R), CentralBrain...   \n",
       " 310       None        L  [AOTU(L), AOTU(R), CentralBrain, CentralBrain-...   \n",
       " 311       None        R  [AOTU(R), CentralBrain, CentralBrain-unspecifi...   \n",
       " 312       None        R  [AOTU(R), AVLP(R), CentralBrain, CentralBrain-...   \n",
       " 313       None        L  [AOTU(L), CentralBrain, CentralBrain-unspecifi...   \n",
       " \n",
       "                                             outputRois  \n",
       " 0    [AOTU(R), CentralBrain, CentralBrain-unspecifi...  \n",
       " 1    [AOTU(L), AOTU(R), CentralBrain, CentralBrain-...  \n",
       " 2    [AOTU(L), CRE(L), CentralBrain, CentralBrain-u...  \n",
       " 3    [AOTU(L), AOTU(R), CRE(L), CentralBrain, Centr...  \n",
       " 4    [AOTU(L), AOTU(R), CRE(L), CentralBrain, Centr...  \n",
       " ..                                                 ...  \n",
       " 309  [AOTU(R), ATL(L), ATL(R), CentralBrain, Centra...  \n",
       " 310  [AOTU(L), CentralBrain, CentralBrain-unspecifi...  \n",
       " 311  [AOTU(R), CentralBrain, CentralBrain-unspecifi...  \n",
       " 312  [AOTU(R), CentralBrain, CentralBrain-unspecifi...  \n",
       " 313  [AOTU(L), CentralBrain, CentralBrain-unspecifi...  \n",
       " \n",
       " [314 rows x 58 columns])"
      ]
     },
     "execution_count": 140,
     "metadata": {},
     "output_type": "execute_result"
    }
   ],
   "source": [
    "# Fetch LC10 neurons and get their types, fetch AOTU neurons and get their types\n",
    "neurons_df_LC,roi_df = fetch_neurons(NC(type='^LC.*'))\n",
    "\n",
    "neurons_df_AOTU,roi_df = fetch_neurons(NC(type='^AOTU.*'))\n",
    "\n",
    "neurons_df_LC, neurons_df_AOTU"
   ]
  },
  {
   "cell_type": "code",
   "execution_count": 141,
   "metadata": {},
   "outputs": [
    {
     "data": {
      "text/plain": [
       "(array(['LC10a', 'LC22', 'LC9', 'LCNOpm', 'LC12', 'LC11', 'LC31b', 'LC4',\n",
       "        'LC14a-1', 'LC33', 'LC10c-2', 'LC17', 'LC10d', 'LC23', 'LC31a',\n",
       "        'LC36', 'LC20b', 'LC18', 'LC26', 'LC21', 'LC39b', 'LC19', 'LC15',\n",
       "        'LC14b', 'LC25', 'LC10c-1', 'LC29', 'LC6', 'LC14a-2', 'LC13',\n",
       "        'LC43', 'LC16', 'LC37', 'LC40', 'LC35a', 'LC39a', 'LC35b', 'LC10e',\n",
       "        'LC24', 'LC28', 'LC34', 'LC44', 'LC41', 'LC10b', 'LCNOp', 'LC30',\n",
       "        'LC10_unclear', 'LC20a', 'LC46b', 'LC27'], dtype=object),\n",
       " array(['AOTU019', 'AOTU041', 'AOTU042', 'AOTU023', 'AOTU012', 'AOTU035',\n",
       "        'AOTU005', 'AOTU100m', 'AOTU016_c', 'AOTU061', 'AOTU052',\n",
       "        'AOTU103m', 'AOTU063_b', 'AOTU064', 'AOTU033', 'AOTU101m',\n",
       "        'AOTU063_a', 'AOTU049', 'AOTU027', 'AOTU014', 'AOTU015', 'AOTU046',\n",
       "        'AOTU050', 'AOTU024', 'AOTU059', 'AOTU009', 'AOTU008', 'AOTU045',\n",
       "        'AOTU065', 'AOTU007_c', 'AOTU002_c', 'AOTU029', 'AOTU016_a',\n",
       "        'AOTU002_a', 'AOTU026', 'AOTU020', 'AOTU017', 'AOTU028',\n",
       "        'AOTU016_b', 'AOTU036', 'AOTU006', 'AOTU043', 'AOTU048', 'AOTU013',\n",
       "        'AOTU051', 'AOTU034', 'AOTU011', 'AOTU002_b', 'AOTU022', 'AOTU062',\n",
       "        'AOTU032', 'AOTU001', 'AOTU007_b', 'AOTU047', 'AOTU003',\n",
       "        'AOTU007_a', 'AOTU054', 'AOTU030', 'AOTU056', 'AOTU055', 'AOTU060',\n",
       "        'AOTU102m', 'AOTU038', 'AOTU058', 'AOTU053', 'AOTU037', 'AOTU018',\n",
       "        'AOTU004', 'AOTU039', 'AOTU040', 'AOTU021', 'AOTU025'],\n",
       "       dtype=object))"
      ]
     },
     "execution_count": 141,
     "metadata": {},
     "output_type": "execute_result"
    }
   ],
   "source": [
    "LC_celltypes = neurons_df_LC['type'].unique()\n",
    "AOTU_celltypes = neurons_df_AOTU['type'].unique()\n",
    "\n",
    "LC_celltypes, AOTU_celltypes"
   ]
  },
  {
   "cell_type": "code",
   "execution_count": 142,
   "metadata": {},
   "outputs": [
    {
     "data": {
      "application/vnd.jupyter.widget-view+json": {
       "model_id": "1db34bcb84b54fe1a238c9bbfd9bf8dd",
       "version_major": 2,
       "version_minor": 0
      },
      "text/plain": [
       "  0%|          | 0/2 [00:00<?, ?it/s]"
      ]
     },
     "metadata": {},
     "output_type": "display_data"
    },
    {
     "data": {
      "text/html": [
       "<div>\n",
       "<style scoped>\n",
       "    .dataframe tbody tr th:only-of-type {\n",
       "        vertical-align: middle;\n",
       "    }\n",
       "\n",
       "    .dataframe tbody tr th {\n",
       "        vertical-align: top;\n",
       "    }\n",
       "\n",
       "    .dataframe thead th {\n",
       "        text-align: right;\n",
       "    }\n",
       "</style>\n",
       "<table border=\"1\" class=\"dataframe\">\n",
       "  <thead>\n",
       "    <tr style=\"text-align: right;\">\n",
       "      <th></th>\n",
       "      <th>bodyId_pre</th>\n",
       "      <th>bodyId_post</th>\n",
       "      <th>roi</th>\n",
       "      <th>weight</th>\n",
       "      <th>type_pre</th>\n",
       "      <th>instance_pre</th>\n",
       "      <th>type_post</th>\n",
       "      <th>instance_post</th>\n",
       "    </tr>\n",
       "  </thead>\n",
       "  <tbody>\n",
       "    <tr>\n",
       "      <th>0</th>\n",
       "      <td>10573</td>\n",
       "      <td>10070</td>\n",
       "      <td>AOTU(L)</td>\n",
       "      <td>145</td>\n",
       "      <td>LC10a</td>\n",
       "      <td>LC10a_L</td>\n",
       "      <td>AOTU019</td>\n",
       "      <td>AOTU019_L</td>\n",
       "    </tr>\n",
       "    <tr>\n",
       "      <th>1</th>\n",
       "      <td>10573</td>\n",
       "      <td>10148</td>\n",
       "      <td>AOTU(L)</td>\n",
       "      <td>51</td>\n",
       "      <td>LC10a</td>\n",
       "      <td>LC10a_L</td>\n",
       "      <td>AOTU041</td>\n",
       "      <td>AOTU041_L</td>\n",
       "    </tr>\n",
       "    <tr>\n",
       "      <th>2</th>\n",
       "      <td>10573</td>\n",
       "      <td>10219</td>\n",
       "      <td>AOTU(L)</td>\n",
       "      <td>78</td>\n",
       "      <td>LC10a</td>\n",
       "      <td>LC10a_L</td>\n",
       "      <td>AOTU023</td>\n",
       "      <td>AOTU023_L</td>\n",
       "    </tr>\n",
       "    <tr>\n",
       "      <th>3</th>\n",
       "      <td>10573</td>\n",
       "      <td>10502</td>\n",
       "      <td>AOTU(L)</td>\n",
       "      <td>30</td>\n",
       "      <td>LC10a</td>\n",
       "      <td>LC10a_L</td>\n",
       "      <td>AOTU041</td>\n",
       "      <td>AOTU041_L</td>\n",
       "    </tr>\n",
       "    <tr>\n",
       "      <th>4</th>\n",
       "      <td>10573</td>\n",
       "      <td>11370</td>\n",
       "      <td>AOTU(L)</td>\n",
       "      <td>49</td>\n",
       "      <td>LC10a</td>\n",
       "      <td>LC10a_L</td>\n",
       "      <td>AOTU063_b</td>\n",
       "      <td>AOTU063_b_L</td>\n",
       "    </tr>\n",
       "    <tr>\n",
       "      <th>...</th>\n",
       "      <td>...</td>\n",
       "      <td>...</td>\n",
       "      <td>...</td>\n",
       "      <td>...</td>\n",
       "      <td>...</td>\n",
       "      <td>...</td>\n",
       "      <td>...</td>\n",
       "      <td>...</td>\n",
       "    </tr>\n",
       "    <tr>\n",
       "      <th>22130</th>\n",
       "      <td>212467981</td>\n",
       "      <td>518657</td>\n",
       "      <td>AOTU(L)</td>\n",
       "      <td>5</td>\n",
       "      <td>LC10d</td>\n",
       "      <td>LC10d_L</td>\n",
       "      <td>AOTU008</td>\n",
       "      <td>AOTU008_L</td>\n",
       "    </tr>\n",
       "    <tr>\n",
       "      <th>22131</th>\n",
       "      <td>212467981</td>\n",
       "      <td>520903</td>\n",
       "      <td>AOTU(L)</td>\n",
       "      <td>13</td>\n",
       "      <td>LC10d</td>\n",
       "      <td>LC10d_L</td>\n",
       "      <td>AOTU002_b</td>\n",
       "      <td>AOTU002_b_L</td>\n",
       "    </tr>\n",
       "    <tr>\n",
       "      <th>22132</th>\n",
       "      <td>212467981</td>\n",
       "      <td>520905</td>\n",
       "      <td>AOTU(L)</td>\n",
       "      <td>14</td>\n",
       "      <td>LC10d</td>\n",
       "      <td>LC10d_L</td>\n",
       "      <td>AOTU008</td>\n",
       "      <td>AOTU008_L</td>\n",
       "    </tr>\n",
       "    <tr>\n",
       "      <th>22133</th>\n",
       "      <td>212467981</td>\n",
       "      <td>531863</td>\n",
       "      <td>AOTU(L)</td>\n",
       "      <td>56</td>\n",
       "      <td>LC10d</td>\n",
       "      <td>LC10d_L</td>\n",
       "      <td>AOTU012</td>\n",
       "      <td>AOTU012_L</td>\n",
       "    </tr>\n",
       "    <tr>\n",
       "      <th>22134</th>\n",
       "      <td>212467981</td>\n",
       "      <td>555278</td>\n",
       "      <td>AOTU(L)</td>\n",
       "      <td>3</td>\n",
       "      <td>LC10d</td>\n",
       "      <td>LC10d_L</td>\n",
       "      <td>AOTU008</td>\n",
       "      <td>AOTU008_L</td>\n",
       "    </tr>\n",
       "  </tbody>\n",
       "</table>\n",
       "<p>22135 rows × 8 columns</p>\n",
       "</div>"
      ],
      "text/plain": [
       "       bodyId_pre  bodyId_post      roi  weight type_pre instance_pre  \\\n",
       "0           10573        10070  AOTU(L)     145    LC10a      LC10a_L   \n",
       "1           10573        10148  AOTU(L)      51    LC10a      LC10a_L   \n",
       "2           10573        10219  AOTU(L)      78    LC10a      LC10a_L   \n",
       "3           10573        10502  AOTU(L)      30    LC10a      LC10a_L   \n",
       "4           10573        11370  AOTU(L)      49    LC10a      LC10a_L   \n",
       "...           ...          ...      ...     ...      ...          ...   \n",
       "22130   212467981       518657  AOTU(L)       5    LC10d      LC10d_L   \n",
       "22131   212467981       520903  AOTU(L)      13    LC10d      LC10d_L   \n",
       "22132   212467981       520905  AOTU(L)      14    LC10d      LC10d_L   \n",
       "22133   212467981       531863  AOTU(L)      56    LC10d      LC10d_L   \n",
       "22134   212467981       555278  AOTU(L)       3    LC10d      LC10d_L   \n",
       "\n",
       "       type_post instance_post  \n",
       "0        AOTU019     AOTU019_L  \n",
       "1        AOTU041     AOTU041_L  \n",
       "2        AOTU023     AOTU023_L  \n",
       "3        AOTU041     AOTU041_L  \n",
       "4      AOTU063_b   AOTU063_b_L  \n",
       "...          ...           ...  \n",
       "22130    AOTU008     AOTU008_L  \n",
       "22131  AOTU002_b   AOTU002_b_L  \n",
       "22132    AOTU008     AOTU008_L  \n",
       "22133    AOTU012     AOTU012_L  \n",
       "22134    AOTU008     AOTU008_L  \n",
       "\n",
       "[22135 rows x 8 columns]"
      ]
     },
     "execution_count": 142,
     "metadata": {},
     "output_type": "execute_result"
    }
   ],
   "source": [
    "#  Define pre- and post-synaptic cell types\n",
    "celltypes_pre = LC_celltypes\n",
    "celltypes_post = AOTU_celltypes\n",
    "#  Set connection weight threshold\n",
    "threshold = 3\n",
    "# Fetch synaptic connectivity between these types\n",
    "neu_df, conn_df = fetch_adjacencies(celltypes_pre, celltypes_post, min_roi_weight=threshold)\n",
    "# Merge with neuron properties to get types on both sides\n",
    "conn_LC_AOTU_df = merge_neuron_properties(neu_df, conn_df)\n",
    "\n",
    "conn_LC_AOTU_df\n"
   ]
  },
  {
   "cell_type": "code",
   "execution_count": 143,
   "metadata": {},
   "outputs": [
    {
     "data": {
      "text/html": [
       "<div>\n",
       "<style scoped>\n",
       "    .dataframe tbody tr th:only-of-type {\n",
       "        vertical-align: middle;\n",
       "    }\n",
       "\n",
       "    .dataframe tbody tr th {\n",
       "        vertical-align: top;\n",
       "    }\n",
       "\n",
       "    .dataframe thead th {\n",
       "        text-align: right;\n",
       "    }\n",
       "</style>\n",
       "<table border=\"1\" class=\"dataframe\">\n",
       "  <thead>\n",
       "    <tr style=\"text-align: right;\">\n",
       "      <th></th>\n",
       "      <th>type_pre</th>\n",
       "      <th>type_post</th>\n",
       "      <th>weight</th>\n",
       "    </tr>\n",
       "  </thead>\n",
       "  <tbody>\n",
       "    <tr>\n",
       "      <th>0</th>\n",
       "      <td>LC10_unclear</td>\n",
       "      <td>AOTU001</td>\n",
       "      <td>103</td>\n",
       "    </tr>\n",
       "    <tr>\n",
       "      <th>1</th>\n",
       "      <td>LC10_unclear</td>\n",
       "      <td>AOTU002_a</td>\n",
       "      <td>228</td>\n",
       "    </tr>\n",
       "    <tr>\n",
       "      <th>2</th>\n",
       "      <td>LC10_unclear</td>\n",
       "      <td>AOTU002_b</td>\n",
       "      <td>3</td>\n",
       "    </tr>\n",
       "    <tr>\n",
       "      <th>3</th>\n",
       "      <td>LC10_unclear</td>\n",
       "      <td>AOTU002_c</td>\n",
       "      <td>40</td>\n",
       "    </tr>\n",
       "    <tr>\n",
       "      <th>4</th>\n",
       "      <td>LC10_unclear</td>\n",
       "      <td>AOTU013</td>\n",
       "      <td>9</td>\n",
       "    </tr>\n",
       "    <tr>\n",
       "      <th>...</th>\n",
       "      <td>...</td>\n",
       "      <td>...</td>\n",
       "      <td>...</td>\n",
       "    </tr>\n",
       "    <tr>\n",
       "      <th>354</th>\n",
       "      <td>LC46b</td>\n",
       "      <td>AOTU052</td>\n",
       "      <td>5</td>\n",
       "    </tr>\n",
       "    <tr>\n",
       "      <th>355</th>\n",
       "      <td>LC46b</td>\n",
       "      <td>AOTU064</td>\n",
       "      <td>6</td>\n",
       "    </tr>\n",
       "    <tr>\n",
       "      <th>356</th>\n",
       "      <td>LC6</td>\n",
       "      <td>AOTU009</td>\n",
       "      <td>351</td>\n",
       "    </tr>\n",
       "    <tr>\n",
       "      <th>357</th>\n",
       "      <td>LC9</td>\n",
       "      <td>AOTU045</td>\n",
       "      <td>6</td>\n",
       "    </tr>\n",
       "    <tr>\n",
       "      <th>358</th>\n",
       "      <td>LC9</td>\n",
       "      <td>AOTU059</td>\n",
       "      <td>31</td>\n",
       "    </tr>\n",
       "  </tbody>\n",
       "</table>\n",
       "<p>359 rows × 3 columns</p>\n",
       "</div>"
      ],
      "text/plain": [
       "         type_pre  type_post  weight\n",
       "0    LC10_unclear    AOTU001     103\n",
       "1    LC10_unclear  AOTU002_a     228\n",
       "2    LC10_unclear  AOTU002_b       3\n",
       "3    LC10_unclear  AOTU002_c      40\n",
       "4    LC10_unclear    AOTU013       9\n",
       "..            ...        ...     ...\n",
       "354         LC46b    AOTU052       5\n",
       "355         LC46b    AOTU064       6\n",
       "356           LC6    AOTU009     351\n",
       "357           LC9    AOTU045       6\n",
       "358           LC9    AOTU059      31\n",
       "\n",
       "[359 rows x 3 columns]"
      ]
     },
     "execution_count": 143,
     "metadata": {},
     "output_type": "execute_result"
    }
   ],
   "source": [
    "# Group by type combinations and sum the weights\n",
    "conn_LC_AOTU_df_type = conn_LC_AOTU_df.groupby(['type_pre','type_post'])['weight'].sum().reset_index()\n",
    "\n",
    "conn_LC_AOTU_df_type"
   ]
  },
  {
   "cell_type": "code",
   "execution_count": 144,
   "metadata": {},
   "outputs": [],
   "source": [
    "# Pivot to create matrix form of the connection weights\n",
    "matrix_df = conn_LC_AOTU_df_type.pivot_table(index='type_pre', columns='type_post', values='weight', aggfunc='sum', fill_value=0)\n",
    "# Normalize each column (post-synaptic type) by its total input\n",
    "norm_matrix_df = matrix_df.div(matrix_df.sum(axis=0), axis=1)\n",
    "\n",
    "\n",
    "conn_LC_AOTU_df_type_sort = conn_LC_AOTU_df_type.sort_values(by='weight', ascending=False)\n",
    "\n",
    "#filter for only strong connections\n",
    "conn_LC_AOTU_df_type_top = conn_LC_AOTU_df_type_sort[conn_LC_AOTU_df_type_sort['weight']>300]\n",
    "\n"
   ]
  },
  {
   "cell_type": "code",
   "execution_count": 146,
   "metadata": {},
   "outputs": [
    {
     "data": {
      "image/png": "[encoded data removed]",
      "text/plain": [
       "<Figure size 1000x1200 with 2 Axes>"
      ]
     },
     "metadata": {},
     "output_type": "display_data"
    },
    {
     "data": {
      "image/png": "[encoded data removed]",
      "text/plain": [
       "<Figure size 1000x1200 with 2 Axes>"
      ]
     },
     "metadata": {},
     "output_type": "display_data"
    },
    {
     "data": {
      "application/vnd.plotly.v1+json": {
       "config": {
        "plotlyServerURL": "https://plot.ly"
       },
       "data": [
        {
         "colorscale": [
          [
           0,
           "rgb(255,245,240)"
          ],
          [
           0.125,
           "rgb(254,224,210)"
          ],
          [
           0.25,
           "rgb(252,187,161)"
          ],
          [
           0.375,
           "rgb(252,146,114)"
          ],
          [
           0.5,
           "rgb(251,106,74)"
          ],
          [
           0.625,
           "rgb(239,59,44)"
          ],
          [
           0.75,
           "rgb(203,24,29)"
          ],
          [
           0.875,
           "rgb(165,15,21)"
          ],
          [
           1,
           "rgb(103,0,13)"
          ]
         ],
         "hoverongaps": false,
         "hovertemplate": "type_pre: %{y}<br>type_post: %{x}<br>weight: %{z}<extra></extra>",
         "type": "heatmap",
         "x": [
          "AOTU001",
          "AOTU002_a",
          "AOTU002_b",
          "AOTU002_c",
          "AOTU003",
          "AOTU004",
          "AOTU005",
          "AOTU006",
          "AOTU007_a",
          "AOTU007_b",
          "AOTU007_c",
          "AOTU008",
          "AOTU009",
          "AOTU011",
          "AOTU012",
          "AOTU013",
          "AOTU014",
          "AOTU015",
          "AOTU016_a",
          "AOTU016_b",
          "AOTU016_c",
          "AOTU017",
          "AOTU018",
          "AOTU019",
          "AOTU020",
          "AOTU022",
          "AOTU023",
          "AOTU024",
          "AOTU025",
          "AOTU026",
          "AOTU027",
          "AOTU028",
          "AOTU029",
          "AOTU030",
          "AOTU032",
          "AOTU033",
          "AOTU034",
          "AOTU035",
          "AOTU036",
          "AOTU037",
          "AOTU038",
          "AOTU039",
          "AOTU041",
          "AOTU042",
          "AOTU043",
          "AOTU045",
          "AOTU047",
          "AOTU048",
          "AOTU049",
          "AOTU050",
          "AOTU051",
          "AOTU052",
          "AOTU053",
          "AOTU054",
          "AOTU055",
          "AOTU056",
          "AOTU058",
          "AOTU059",
          "AOTU060",
          "AOTU061",
          "AOTU062",
          "AOTU063_a",
          "AOTU063_b",
          "AOTU064",
          "AOTU065",
          "AOTU100m",
          "AOTU101m",
          "AOTU102m",
          "AOTU103m"
         ],
         "y": [
          "LC10_unclear",
          "LC10a",
          "LC10b",
          "LC10c-1",
          "LC10c-2",
          "LC10d",
          "LC10e",
          "LC12",
          "LC14a-2",
          "LC16",
          "LC19",
          "LC20b",
          "LC23",
          "LC24",
          "LC26",
          "LC29",
          "LC31b",
          "LC33",
          "LC35a",
          "LC35b",
          "LC36",
          "LC39b",
          "LC4",
          "LC46b",
          "LC6",
          "LC9"
         ],
         "z": {
          "bdata": "hTY8cP0Oij9P0jCCsNahP6U4E2/TxTU/oMqiAS1ZeD8AAAAAAAAAAAAAAAAAAAAAAAAAAAAAAAAAAAAAAAAAAAAAAAAAAAAAAAAAAAAAAAAAAAAAAAAAAAAAAAAAAAAAAAAAAAAAAAAAAAAAAAAAAAAAAAAAAAAAZ7fwqzGRfj8foi0I7WM6PwAAAAAAAAAAAAAAAAAAAAC3Yuf8u+V8PwAAAAAAAAAAOmtQPO1xdT/QGHcIj66CP80BWKYzyRw/AAAAAAAAAAAAAAAAAAAAACURbOYmY4E/AAAAAAAAAAAAAAAAAAAAAAAAAAAAAAAAAAAAAAAAAADvATGEv/N+PwAAAAAAAAAANNNs027lgD8AAAAAAAAAAAAAAAAAAAAAAAAAAAAAAABOQSZilACBPwAAAAAAAAAAAAAAAAAAAADVsbc2THOXPwAAAAAAAAAA1b48CumEYT8AAAAAAAAAAAAAAAAAAAAAAAAAAAAAAAAAAAAAAAAAAAAAAAAAAAAAAAAAAAAAAAAAAAAAAAAAAAAAAAAAAAAAHMXsz4fTkD/WGamYW52xPwAAAAAAAAAAAAAAAAAAAABhuacRlnuqPwAAAAAAAAAAhmi9VbsArj8AAAAAAAAAAAAAAAAAAAAAAAAAAAAAAABDeQ3lNZR3P0hoEqlvI08/AAAAAAAAAAAAAAAAAAAAAAAAAAAAAAAAAAAAAAAAAAAAAAAAAAAAAAAAAAAAAAAABKWidyfg4D+v0dlEYlviPzSkkGOMnN0/LPCf9NKf3z9cTY4HyhPeP/UgS4lHWtI/kHNTdTVz2T+y+KOrcj7ZP3sWrEhh+tQ/aG2oxkxAzD8/IF2MYBPSP3/dtiFhr9s/xzdDa/fhdj8AAAAAAAAAAHUUeaVPsdc/ZakjxDat2D/HF756nnbiPwohL9GYENo/TCwEUvP86D9EVP8smFvhP5fTPDYb6eI/ZcOPFd7V2j+wtMlh1ZnFP8pLO7+fm+A/abeLY1dQqD//yJhXtwLcP3sGHuybfOA/TDv6lcQI3D8YxdGb6OvaP+vvec6LKtg/vFrABCR00T+mNWCW8mfaP6aBm62gF84/w9ielUJXoT8AAAAAAAAAAIHV8aWM2b0/AAAAAAAAAAAO8y5hzd20PwAAAAAAAOA/RRNNNNFEwz8j+oDq2FurPwAAAAAAAAAAlOOFa9ks0T8ngOt+j4fjP27btm3btu0/AAAAAAAAAAAAAAAAAAAAAJqZmZmZmZk/AAAAAAAAAAD3N4nX9/G1PwAAAAAAAOA/y3u1Ra4z4T+WwKb9ZAnsPwAAAAAAAPA/AAAAAAAAAABHWO5phOW+P72G8hrKa+g/igheD3bo6j/hYHAwOBisP80fbDyaP9g/nZycnJyc7D+6JU79ntvUP5DH1y/q2Nk/AAAAAAAAAADbtm3btm3LP1/xFV/xFbc/B4MOgUwJ7j8ikGsikGviPzEMwzAMw9w/AAAAAAAAAAAAAAAAAAAAAAAAAAAAAAAAAAAAAAAAAADADnIaQ0VBPwAAAAAAAAAAkWGFJJM6XD8AAAAAAAAAAGqVtX+lmlI/AAAAAAAAAAAAAAAAAAAAACBLHX6b+0I/AAAAAAAAAABHWO5phOXePwAAAAAAAAAAAAAAAAAAAAAAAAAAAAAAAAAAAAAAAAAAAAAAAAAAAAAAAAAAAAAAAO7xwd4gcWU/AAAAAAAAAAAAAAAAAAAAAFkBwrzmljU/AAAAAAAAAAAAAAAAAAAAAH//6Ka6VVw/AAAAAAAAAAAAAAAAAAAAAAAAAAAAAAAAwDjP4F2eQz+tAbOUP9OKPwAAAAAAAAAAAAAAAAAAAAAAAAAAAAAAAAAAAAAAAAAAAAAAAAAAAABomT4sZ9KLPwAAAAAAAAAAAAAAAAAAAADVsbc2THOXPwAAAAAAAAAABYObsqmiVj8AAAAAAAAAAAAAAAAAAAAAAAAAAAAAAAAAAAAAAAAAAAAAAAAAAAAAAAAAAAAAAAAAAAAAAAAAAAAAAAAAAAAAAAAAAAAAAAAAAAAAAAAAAAAAAAAAAAAAAAAAAAAAAAAAAAAAAAAAAAAAAAAAAAAAe7UQrbdqVz8AAAAAAAAAAHK4DPjkcJk/AAAAAAAAAAAAAAAAAAAAAEhoEqlvIy8/AAAAAAAAAAAAAAAAAAAAAAAAAAAAAAAAc/7CWBoNSz8AAAAAAAAAAAAAAAAAAAAAJaUmhtKhvT9kCRmYlTm0P2qm43sdqLk/gK8jpmnvsz88DIS+06nAP2yCO4Udxb4/8BDgHvPaxT+fmisbTE7AP3a5i5eiEb0/wZS8ypn9rT/E2FEiyDi6PxWMSuoENKE/AAAAAAAAAAAAAAAAAAAAAKA5MuvaccQ/ySWlYW601T+wAE4VcpSwP8JtofMk3JY/v24KTWB4lj+meJ6hRI6rPwbZgom60bY/m7/o9juDZD/FFjp9vzDNP3k3RN4Nkbc/IkBkw7dBpz8vkEnxApm0P8TG24fxfrw/mJToYCjmzz95AgnD256+PwQh+DhFJcQ/n1AIP4v+xT8dYc+4J8yxPxQUFBQUFKQ/AhS0VPrM5D8AAAAAAAAAACcNr4/aSHg/AAAAAAAAAAB+H/GgG9XFPwAAAAAAAAAABhZYYIEFpj8AAAAAAAAAAAAAAAAAAAAALz4bD15GvD+dQrct/b9zPwAAAAAAAAAApZRSSimlxD8XXXTRRRetPwAAAAAAAAAAAAAAAAAAAADCWOCBZJjKPwAAAAAAAAAAzP58OA2hwj8AAAAAAAAAAAAAAAAAAAAAAAAAAAAAAAAAAAAAAAAAAAAAAAAAAAAArI8CadGJkj+yIFmQLEjmPzi96U1vetM/GxsbGxsbuz9c4tTvuSXAP5al7n0zcbw/AAAAAAAAAAAAAAAAAAAAAA/qoA7qoLY/CN95dzDokD8AAAAAAAAAANu2bdu2bZs/9zYKI9S0tj/jBr2iXEy2PwltX68Zibo/OE44eGgWuz8MYrF6Sn6uP5j+DmD/W9U/zlCiOD3vjD/zN6JDAjHRP7P2r1RTAtQ/zfhZG6oxkz8j2ITErdXBP456h6j0rpE/EI5GTGCmuz+WexphuaehPzf/fDRJQ7c/Z7fwqzGRzj/ndIfBAAnBP6AsgU37yaI/giLrZT8Pwz9GEFoEoUWwP4JOH6NKp7o/X2gZbNmlYj+zwtmurUHbPyxpg7FAx7I/3Fa/Ci9p5z8WI29/p1TeP5kCL+A837s/6VcSI3CczD/E4FQqNnHQP2swjvI7/8E/HoWeb3fLwj9kOQOnMT/GP5cNlFgVs9Q/Z6K1Yng7xz8AAAAAAAAAAAAAAAAAAAAAAAAAAAAAAACgnte0uNTfPwAAAAAAAAAAAAAAAAAAAABxQkqeZUSfPwAAAAAAAAAADhHAkyDkrj9BDzqVaet8PwAAAAAAAAAAqvBUeCo85T8XXXTRRRftPwAAAAAAAAAAAAAAAAAAAAALHY55NyzRPwAAAAAAAAAAC5sDiVbYjD8AAAAAAAAAAAAAAAAAAAAAAAAAAAAAAAAAAAAAAAAAAF5DeQ3lNcQ/08DhJ2PhmD/VkGpINaTKP/qDjUfzB8s/AAAAAAAAAADgc0uc+j29Pw4BJ6OUe7w/AAAAAAAAAAAAAAAAAAAAAAAAAAAAAAAAAAAAAAAAAAC73yi73yjbPwzDMAzDMOA/SUIwtiFqzD8S2/Lc95TKPzNJh3olmdE/Z82hS1xW0j8rPZS4IlHTP6OGDmUfsc4/3jz1ttmK1z/Yp+bKBpPDPzFkg8rzJs8/lEvP4IV25j+ptKQZFGHeP6Y8IqiAF+A/FyfeXiHKqD/uaYTlnkbYPzxnNvvCQNg/MLDz5qCfmD9sYNl5H47MP+8N7XL23uA/yuLBWBXBpz8FZqfUR5DUP+3/6RqRfsg/SQ283Ws94j+ER1cJYDOwP6XbIum2SNI/NF2LraO7kz/t+7WUDUyAP+17kuFntsg/zTkhoLzXtj+//AtVreXEP0RBAkudD9E/HM6FvAh80z8IAfi9/4HQPwpkI3YW7cw/8XlJlT88fj8AAAAAAAAAACcNr4/aSIg/l5aWlpaWtj9pu85aEsXEPwAAAAAAAAAAAAAAAAAAAAAAAAAAAAAAAAAAAAAAAAAAMSxJV2A14T92IccVjmfNPwAAAAAAAAAAl4BLwCXgkj900UUXXXShPzMzMzMzM+8/AAAAAAAAAAClL1xrrnPbPwAAAAAAAAAA3qstcp0JqD/wwkH0+C6sPwAAAAAAAAAAAAAAAAAAAAAAAAAAAAAAAF5DeQ3lNaQ/W6akXih3pT+6AF2ALkBnP91Vigm6q7Q/AAAAAAAAAAAbymsor6HaPz3Hy3O8PNc/AAAAAAAAAAAAAAAAAADgP9RBHdRBHeo/C9T3SeuKpj8AAAAAAAAAAJIkSZIkSZI/oAIzbZ2yoD8kX6hrdDaRP3FH3BF3xK0/SH0LQnhvnj+ZUMB9622jP2XI+ywg/pM/j3ntOhaGqD8ghJ/49MasPzjHnP8xzlg/AAAAAAAAAAA/1Ugnb4JSP904XrUzf4o/AAAAAAAAAAAAAAAAAAAAAD/FnmBytjA/ms/1x8tgdD+LM9o9bH1bP6AsgU37yXI/BuEyGfnQXj/WRArZ0kqGP1ixtJLXVZY/2Ba4gZ5gRj9TWUbrAg6wPxaBKt85ZGE/8kWfWE2Ndj8AAAAAAAAAAKDJ7VjNZK8/AAAAAAAAAABVSmNNAoajP80wBYaynK0/bD1FmWA/uj8GEXy++2CwP6r55DxHG7Y/KXMMcPBzsz8AAAAAAAAAAAAAAAAAAAAAAAAAAAAAAAD1YTmT3oCpPwAAAAAAAAAA5JFHHnnk4T/f2jDNXfDnPwAAAAAAAAAAcoyc+EJXkz8an0mm/HOnPwAAAAAAAAAA40BxoDhQjD8AAAAAAAAAAAAAAAAAAAAAAAAAAAAAAAAvHmeIPO2CPwAAAAAAAAAAl3oyfrvUsz8AAAAAAAAAAAAAAAAAAAAAAAAAAAAA8D9huacRlnvqP15DeQ3lNaQ/AAAAAAAAAADZgGxANiB7PwAAAAAAAAAAAAAAAAAAAAALhJF2rECIPy2Bq8kldoM/AAAAAAAAAAAAAAAAAAAAAAAAAAAAAAAAAAAAAAAAAAAAAAAAAAAAAAAAAAAAAAAAAAAAAAAAAAAAAAAAAAAAAAAAAAAAAAAAAAAAAAAAAAAAAAAAAAAAAAAAAAAAAAAAAAAAAAAAAAAAAAAAAAAAAAAAAAAAAAAAAAAAAAAAAAAAAAAAAAAAAAAAAAAAAAAAAAAAAAAAAAAAAAAAAAAAAAAAAAAAAAAAAAAAAAAAAAAAAAAAAAAAAAAAAAAAAAAAAAAAAAAAAAAAAAAAAAAAAAAAAAAAAAAAAAAAAAAAAAAAAAAAAAAAAAAAAAAAAAAAAAAAAAAAAAAAAAAAAAAAAAAAAAAAAAAAAAAAAAAAAAAAAAAAAAAAAAAAAAAAAAAAAAAAAAAAAAAAAAAAAAAAAAAAAAAAAAAAAAAAAAAAAAAAAAAAAAAAAAAAAAAAAAAAAAAAAAAAAAAAAAAAAAAAAAAAAAAAAAAAAAAAAAAAAAAAAAAAAAAAAAAAAAAAAAAAAAAAAAAAAAAAAAAAAAAAAAAAAAAAAAAAAAAAAAAAAAAAAAAAAAAAAAAAAAAAAAAAAAAAAAAAAAAAAAAAAAAAAAAAAAAAAAAAAAAAAAAAAAAAAAAAAAAAAAAAAAAAAAAAAAAAAAAAAAAAAAAAAAAAAAAAAAAAAAAAAAAAAAAAAAAAAAAAAAAAAAAAAAAAAAAAAAAAAAAAAAAAAAAAAAAAAAAAAAAAAAAAAAAAAAAAAACSJEmSJEnSPwAAAAAAAAAAAAAAAAAAAAAAAAAAAAAAAAAAAAAAAAAAAAAAAAAAAAAAAAAAAAAAAAAAAAAAAAAAAAAAAAAAAAAAAAAAAAAAAAAAAAAAAAAAAAAAAAAAAAAAAAAAAAAAAAAAAAAAAAAAAAAAAAAAAAAAAAAAAAAAACXo/EbWsRU/AAAAAAAAAAAAAAAAAAAAAAAAAAAAAAAAAAAAAAAAAAAAAAAAAAAAALVUgQJQS1U/AAAAAAAAAAAAAAAAAAAAAAAAAAAAAAAAAAAAAAAAAAAAAAAAAAAAAAAAAAAAAAAAAAAAAAAAAAAAAAAAAAAAAAAAAAAAAAAAAAAAAAAAAAAAAAAAAAAAAAAAAAAAAAAAAAAAAAAAAAAAAAAAAAAAAAAAAAAAAAAAAAAAAAAAAAAAAAAAAAAAAK7k9vz+VIw/AAAAAAAAAAAAAAAAAAAAAAAAAAAAAAAAAAAAAAAAAAAAAAAAAAAAAAAAAAAAAAAAAAAAAAAAAAAAAAAAAAAAAAAAAAAAAAAAAAAAAAAAAAAAAAAAAAAAAAAAAAAAAAAAAAAAAAAAAAAAAAAAAAAAAAAAAAAAAAAAAAAAAAAAAAAAAAAAAAAAAAAAAAAAAAAAAAAAAAAAAAAAAAAAAAAAAAAAAAAAAAAAAAAAAAAAAAAAAAAAAAAAAAAAAAAAAAAAAAAAAAAAAAAAAAAAAAAAAAAAAAAAAAAAAAAAAAAAAAAAAAAAAAAAABZf8RVf8XU/AAAAAAAAAAAAAAAAAAAAAAAAAAAAAAAAAAAAAAAAAAAAAAAAAAAAAAAAAAAAAAAAAAAAAAAAAAAAAAAAAAAAAAAAAAAAAAAAAAAAAAAAAAAAAAAAAAAAAAAAAAAAAAAAAAAAAAAAAAAAAAAAAAAAAAAAAAAAAAAAAAAAAAAAAAAAAAAAAAAAAAAAAAAAAAAAAAAAAAAAAAAAAAAAAAAAAAAAAAAAAAAAAAAAAAAAAAAAAAAAAAAAAAAAAAAAAAAAAAAAAAAAAAAAAAAAAAAAAAAAAAAAAAAAAAAAAAAAAAAAAAAAAAAAAAAAAAAAAAAAAAAAAAAAAAAAAAAAAAAAAAAAAAAAAAAAAAAAAAAAAAAAAAAAAAAAAAAAAAAAAAAAAAAAAAAAAAAAAAAAAAAAAAAAAAAAAAAAAAAAAAAAAAAAAAAAAAAAAAAAAAAAAAAAAAAAAAAAAAAAAAAAAAAAAAAAAAAAAAAAAAAAAAAAAAAAAAAAAAAAAAAAAAAAAAAA0NBn6DP0uT8AAAAAAAAAAAAAAAAAAAAAAAAAAAAAAAAAAAAAAAAAAAAAAAAAAAAAAAAAAAAAAAAAAAAAAAAAAAAAAAAAAAAAAAAAAAAAAAAAAAAAAAAAAAAAAAAAAAAAAAAAAAAAAAC6AF2ALkBnPwAAAAAAAAAAAAAAAAAAAAAAAAAAAAAAAAAAAAAAAAAAAAAAAAAAAAAAAAAAAAAAAAAAAAAAAAAAAAAAAAAAAAAAAAAAAAAAAAAAAAAAAAAAAL54Kp9JOD8AAAAAAAAAAAAAAAAAAAAAAAAAAAAAAAAAAAAAAAAAAAAAAAAAAAAAAAAAAAAAAAAAAAAAAAAAAAAAAAAAAAAAAAAAAAAAAAAAAAAAAAAAAAAAAAAAAAAAAAAAAAAAAAAAAAAAAAAAAAAAAAAAAAAAAAAAAAAAAAAAAAAAAAAAAAAAAAAAAAAAAAAAAAAAAAAZNl2n6tJOPwAAAAAAAAAAAAAAAAAAAAAAAAAAAAAAAG0BW47zyUY/AAAAAAAAAAAAAAAAAAAAAAAAAAAAAAAAAAAAAAAAAAAAAAAAAAAAAAAAAAAAAAAAAAAAAAAAAAAAAAAAAAAAAAAAAAAAAAAAAAAAAAAAAAAAAAAAAAAAAJqILQ8FV9I/AAAAAAAAAAAAAAAAAAAAAAAAAAAAAAAAAAAAAAAAAAAAAAAAAAAAAAAAAAAAAAAAAAAAAAAAAAAz35fl2LihPwAAAAAAAAAAAAAAAAAAAAAAAAAAAAAAAAAAAAAAAAAAntiJndiJ7T8AAAAAAAAAAAAAAAAAAOA/AAAAAAAAAAAAAAAAAAAAAAAAAAAAAAAAAAAAAAAAAAAAAAAAAAAAAAAAAAAAAAAAAAAAAAAAAAAAAAAAAAAAAAAAAAAAAAAAAAAAAAAAAAAAAAAAAAAAAAAAAAAAAAAAAAAAAAAAAAAAAAAAAAAAAAAAAAAAAAAAAAAAAAAAAAAAAAAAAAAAAAAAAAAAAAAAAAAAAAAAAAAAAAAAAAAAAAAAAAAAAAAAAAAAAAAAAAAAAAAAAAAAAAAAAAAAAAAAAAAAAAAAAAAAAAAAAAAAAAAAAAAAAAAAAAAAAAAAAAAAAAAAAAAAAAAAAAAAAAAAAAAAAAAAAAAAAAAAAAAAAAAAAAAAAAAAAAAAAAAAAAAAAAAAAAAAAAAAAAAAAAAAAAAAAAAAAAAAAAAAAAAAAAAAAAAAAAAAAAAAAAAAAAAAAAAAAAAAAAAAAAAAAAAAAAAAAAAAAAAAAAAAAAAAAAAAAAAAAAAAAAAAAAAAAAAAAAAAAAAAAAAAAAAAAAAAAAAAAAAAAAAAAAAAAAAAAAAAAAAAAAAAAAAAAAAAAAAAAAAAAAAAAAAAAAAAAAAAAAAAAAAAAAAAAAAAAAAAAAAAAAAAAAAAAAAAAAAAAAAAAAAAAAAAAAAAAAAAAAAAAAAAAAAAAAAAAAAAAAAAAAAAAAAAAAAA40BxoDhQjD8AAAAAAAAAAAAAAAAAAAAAAAAAAAAAAAAAAAAAAAAAAAAAAAAAAAAAAAAAAAAAAAAAAAAAAAAAAAAAAAAAAAAAAAAAAAAAAAAAAAAAAAAAAAAAAAAAAAAAAAAAAAAAAAAAAAAAAAAAAAAAAAAAAAAAAAAAAAAAAAAAAAAAAAAAAAAAAAAAAAAAAAAAAAAAAAAAAAAAAAAAAAAAAAAAAAAAAAAAAAAAAAAAAAAAAAAAAAAAAAAAAAAAAAAAAAAAAAAAAAAAAAAAAAAAAAAAAAAAAAAAAAAAAAAAAAAAAAAAAAAAAAAAAAAAAAAAAAAAAAAAAAAAAAAAAAAAAAAAAAAAAAAAAAAAAAAAAAAAAAAAAAAAAAAAAAAAAAAAAAAAAAAAAAAAAAAAAAAAAAAAAAAAAAAAAAAAAAAAAAAAAAAAAAAAAAAAAAAAAAAAAAAAAAAAAAAAAAAAAAAAAAAAAAAAAAAAAAAAAAAAAAAAAAAAAAAAAAAAAAAAAAAAAAAAAAAAAAAAAAAAAAAAAAAAAAAAAAAAAAAAAAAAAAAAAAAAAAAAAAAAAAAAAAAAAAAAAAAAAAAAAAAAAAAAAAAAAAAAAAAAAAAAAAAcx3Ecx3HMPwAAAAAAAAAAl5aWlpaW1j8AAAAAAAAAAAAAAAAAAOA/AAAAAAAAAAAAAAAAAAAAAAAAAAAAAAAAAAAAAAAAAAAAAAAAAAAAAJIkSZIkSbI/AAAAAAAAAAAAAAAAAAAAAAAAAAAAAAAAAAAAAAAAAAAAAAAAAAAAAAAAAAAAAAAAAAAAAAAAAAAAAAAAAAAAAAAAAAAAAAAAAAAAAAAAAAAAAAAAAAAAAAAAAAAAAAAAAAAAAAAAAAAAAAAAAAAAAAAAAAAAAAAAAAAAAAAAAAAAAAAAAAAAAAAAAAAAAAAAAAAAAAAAAAAAAAAAAAAAAAAAAAAAAAAAAAAAAAAAAAAAAAAAAAAAAAAAAAAAAAAAAAAAAAAAAAAAAAAAAAAAAAAAAAAAAAAAAAAAAAAAAAAAAAAAAAAAAAAAAAAAAAAAAAAAAAAAAAAAAAAAAAAAAAAAAAAAAAAAAAAAAAAAAAAAAAAAAAAAAAAAAAAAAAAAYX3hP4qOrT8AAAAAAAAAAAAAAAAAAAAAAAAAAAAAAAAAAAAAAAAAAAAAAAAAAAAAAAAAAAAAAAAAAAAAAAAAAAAAAAAAAAAAAAAAAAAAAAAAAAAAAAAAAAAAAAAAAAAAAAAAAAAAAAAAAAAAAAAAAAAAAAAAAAAAAAAAAAAAAAAAAAAAAAAAAAAAAAAAAAAAAAAAAAAAAAAAAAAAAAAAAAAAAAAAAAAAAAAAAAAAAAAAAAAAAAAAACcNr4/aSHg/AAAAAAAAAAAAAAAAAAAAAAAAAAAAAAAAAAAAAAAAAAAAAAAAAAAAAAAAAAAAAAAAAAAAAAAAAAAAAAAAAAAAAAAAAAAAAAAAAAAAAAAAAAAAAAAAAAAAAAAAAAAAAAAAAAAAAAAAAAAAAAAAAAAAAAAAAAAAAAAAAAAAAAAAAAAAAAAAAAAAAAAAAAAAAAAAAAAAAAAAAAAAAAAAAAAAAAAAAAAAAAAAAAAAAAAAAAAAAAAAAAAAAAAAAAAAAAAAAAAAAAAAAAAAAAAAAAAAAAAAAAAAAAAAAAAAAAAAAAAAAAAAAAAAAAAAAAAAAAAAAAAAAAAAAAAAAAAAAAAAAAAAAAAAAAAAAAAAAAAAAAAAAAAAAAAAAAAAAAAAAAAAAAAAAAAAAAAAAAAAAAAAAAAAAAAAAAAAAAAAAAAAAAAAAAAAAAAAAAAAAAAAAAAAAAAAAAAAAAAAAAAAAAAAAAAAAAAAAAAACfWuOZ+Cfj8AAAAAAAAAAAAAAAAAAAAAAAAAAAAAAAAAAAAAAAAAAAAAAAAAAAAAAAAAAAAAAAAAAAAAAAAAAAAAAAAAAAAAAAAAAAAAAAAAAAAAAAAAAAAAAAAAAAAAAAAAAAAAAAAAAAAAAAAAAAAAAAAAAAAAAAAAAAAAAAAAAAAAAAAAAAAAAAAAAAAAAAAAAAAAAAAAAAAAAAAAAAAAAAAAAAAAAAAAAAAAAAAAAAAAAAAAAAAAAAAAAAAAAAAAAAAAAAAAAAAAAAAAAAAAAAAAAAAAAAAAAAAAAAAAAAAAAAAAAAAAAAAAAAAAAAAAAAAAAAAAAAAAAAAAAAAAAAAAAAAAAAAAAAAAAAAAAAAAAAAAAAAAAAAAAAAAAAAAAAAAAAAAAAAAAAAAAAAAAAAAAAAAAAAAAAAAAAAAAAAAAAAAAAAAAAAAAAAAAAAAAAAAAAAAAAAAAAAAAAAAAAAAAAAAAAAAAAAAAADpQHQgOhCdPwAAAAAAAAAAAAAAAAAAAAAAAAAAAAAAAAAAAAAAAAAAAAAAAAAAAAAAAAAAAAAAAAAAAAAAAAAAAAAAAAAAAAAAAAAAAAAAAAAAAAAAAAAAAAAAAAAAAAAAAAAAAAAAAAAAAAAAAAAAAAAAAAAAAAAAAAAAAAAAAAAAAAAAAAAAAAAAAAAAAAAAAAAAAAAAAAAAAAAAAAAAAAAAAAAAAAAAAAAAAAAAAAAAAAAAAAAAwJ6rWDa+uT8AAAAAAAAAAAAAAAAAAAAAAAAAAAAAAAAAAAAAAAAAAAAAAAAAAAAAAAAAAAAAAAAAAAAAAAAAAAAAAAAAAAAAAAAAAAAAAAAAAAAAAAAAAAAAAAAAAAAAAAAAAAAAAAAAAAAAAAAAAAAAAAAAAAAAAAAAAAAAAAAAAAAAAAAAAAAAAAAAAAAAAAAAAAAAAAAAAAAAAAAAAAAAAAAAAAAAAAAAAAAAAAAAAAAAAAAAAAAAAAAAAAAAAAAAAAAAAAAAAAAAAAAAAAAAAAAAAAAAAAAAAAAAAAAAAAAAAAAAAAAAAAAAAAAAAAAAAAAAAAAAAAAAAAAAAAAAAAAAAAAAAAAAAAAAAAAAAAAAAAAAAAAAAAAAAAAAAAAAAAAAAAAAAAAAAAAAAAAAAAAAAAAAAAAAAAAAAAAAAAAAAAAAAAAAAAAAAAAAAAAAAAAAAAAAAAAAAAAAAAAAAAAAAAAAAAAAAAAAAAAAAAAAAAAAAAAAAAAAAAAAAAAAAAAAAAAAAAAAAAAAAAAAAAAAAAAAAAAAAAAAAAAAAAAAAAAAAAAAAAAAAAAAAAAAAAAAAAAAAAAAAAAAAAAAAAAAAAAAAAAAAAAAAAAAAAAAAAAAAAAAAAAAAAAAAAAAAAAAAAAAAAAAAAAAAAAAAAAAAAAAAAAAAAAAAAAAAAAAAAAAAAAAAAAAAAAAAAAAAAAAAAAAAAAAAAAAACXo/EbWsRU/AAAAAAAAAAAAAAAAAAAAAAAAAAAAAAAAAAAAAAAAAAAAAAAAAAAAAAAAAAAAAAAAAAAAAAAAAAAAAAAAAAAAAAAAAAAAAAAAAAAAAAAAAAAAAAAAAAAAAAAAAAAAAAAAAAAAAAAAAAAAAAAAAAAAAAAAAAAAAAAAAAAAAAAAAAAAAAAAAAAAAAAAAAAAAAAAAAAAAAAAAAAAAAAAAAAAAAAAAAAAAAAAAAAAAAAAAAAAAAAAAAAAAD0UXMnt+d0/AAAAAAAAAAAAAAAAAAAAAAAAAAAAAAAAAAAAAAAAAAAAAAAAAAAAAAAAAAAAAAAAAAAAAAAAAAAAAAAAAAAAAAAAAAAAAAAAAAAAAAAAAAAAAAAAAAAAAAAAAAAAAAAAAAAAAAAAAAAAAAAAAAAAAAAAAAAAAAAAAAAAAAAAAAAAAAAAAAAAAAAAAAAAAAAAAAAAAAAAAAAAAAAAAAAAAAAAAAAAAAAAAAAAAAAAAAAAAAAAAAAAAAAAAAAAAAAAAAAAAAAAAAAAAAAAAAAAAAAAAAAAAAAAAAAAAAAAAAAAAAAAAAAAAAAAAAAAAAAAAAAAAAAAAAAAAAAAAAAAAAAAAAAAAAAAVSn7xhQxQD8ZmJU5RAtOPwAAAAAAAAAAAAAAAAAAAAAAAAAAAAAAAAAAAAAAAAAAAAAAAAAAAACVbvZy+gs8PwAAAAAAAAAAAAAAAAAAAAAAAAAAAAAAAAAAAAAAAAAAAAAAAAAAAACWexphuaexPwAAAAAAAAAAAAAAAAAAAAAAAAAAAAAAAKpAAailCkQ/AAAAAAAAAAAAAAAAAAAAAAAAAAAAAAAAAAAAAAAAAACwtMlh1ZmlP7XBWKBjSZs/1kDQKuFKwz8AAAAAAAAAAAAAAAAAAAAAAAAAAAAAAAAt3LHkVJNXPwAAAAAAAAAAqFG1JJIqUT8AAAAAAAAAAJP6Qg/rBLc/HxOsDHICpj8AAAAAAAAAAPxTcdCaM7E/AAAAAAAAAADOpDdgBrt4PwAAAAAAAAAAqJ9++umnzz9xQkqeZUS/PwAAAAAAAPA/jikpsEhTRj+U5/WqRlOxPwAAAAAAAAAAAAAAAAAAAAAAAAAAAAAAAAAAAAAAAAAAAAAAAAAAAAAAAAAAAAAAAAAAAAAAAAAAAAAAAAAAAAAAAAAAAAAAAAAAAAAAAAAAAAAAAAAAAAAAAAAAAAAAAAAAAAAAAAAAAAAAAAAAAAAAAAAAAAAAAAAAAAAAAAAAAAAAAAAAAAAAAAAAAAAAAAAAAAAAAAAAAAAAAAAAAAAAAAAAAAAAAAAAAAAAAAAAAAAAAAAAAAAAAAAAAAAAAAAAAAAAAAAAAAAAAAAAAAAAAAAAAAAAAAAAAAAAAAAAAAAAAAAAAAAAAAAAAAAAAAAAAAAAAAAAAAAAAAAAAAAAAAAAAAAAAAAAAAAAAAAAAAAAAAAAAAAAAAAAAAAAAAAAAAAAAAAAAAAAAAAAAAAAAAAAAAAAAAAAAAAAAAAAAAAAAAAAAAAAAAAAAAAAAAAAAAAAAAAAAAAAAAAAAAAAAAAAAAAAAAAAAAAAAAAAAAAAAAAAAAAAAAAAAAAAAAAAAAAAAAAAAAAAAAAAAAAAAAAAAAAAAAAAAAAAAAAAAAAAAAAAAAAAAAAAAAAAAAAAAAAAAAAAAAAAAAAAAAAAAAAAAAAAAAAAAAAAAAAAAAAAAAAAAAAAAAAAAAAAAAAAAAAAAAAAAAAAAAAAAAAAAAAAAAAAAAAAAAAAAAAAAAAAAAAAAAAAAAAAAAAAAAAAAAAAAAAAAAAAAAAAAAAAAAAAAAAAAAAAAAAAAAAAAAAAAAAAAAAAAAAAAAAAAAAAAAAAAAAAAAAAAAAAAAAAAAAAAAAAAAAAAAAAAAAA+e1ST8Zvtz8AAAAAAAAAAAAAAAAAAAAAAAAAAAAAAAAAAAAAAAAAAAAAAAAAAAAAAAAAAAAAAAAAAAAAAAAAAAAAAAAAAAAAAAAAAAAAAAAAAAAAAAAAAAAAAAAAAAAAAAAAAAAAAAAAAAAAAAAAAAAAAAAAAAAAAAAAAAAAAAAAAAAAAAAAAAAAAAAAAAAAAAAAAAAAAAAAAAAAAAAAAAAAAAAAAAAAAAAAAAAAAAAAAAAAAAAAAAAAAAAAAAAAAAAAAAAAAAAAAAAAAAAAAAAAAAAAAAAAAAAAAAAAAAAAAAAAAAAAAAAAAAAAAAAAAAAAAAAAAAAAAAAAAAAAAAAAAAAAAAAAAAAAAAAAAAAAAAAAAAAAAAAAAAAAAAAAAAAAAAAAAAAAAAAAAAAAAAAAAAAAAAAAAAAAAAAAAAAAAAAAAAAAAAAAAAAAAAAAAAAAAAAAAAAAAAAAAAAAAAAAAAAAAAAAAAAAAAAAAAAAAAAAAAAAAAAAAAAAAAAAAAAAAAAAAAAAAAAAAAAAAAAAAAAAAAAAAAAAAAAAAAAAAAAAAAAAACcNr4/aSHg/AAAAAAAAAAAAAAAAAAAAAAAAAAAAAAAAAAAAAAAAAAAAAAAAAAAAAAAAAAAAAAAAAAAAAAAAAAAAAAAAAAAAAAAAAAAAAAAAAAAAAAAAAAAAAAAAAAAAAAAAAAAAAAAAAAAAAAAAAAAAAAAAAAAAAAAAAAAAAAAA1ha5zgQMrj8AAAAAAAAAAAAAAAAAAAAAAAAAAAAAAAAAAAAAAAAAAAAAAAAAAAAAAAAAAAAAAAAAAAAAAAAAAAAAAAAAAAAAAAAAAAAAAAAAAAAAAAAAAAAAAAAAAAAAAAAAAAAAAAAAAAAAAAAAAAAAAAAAAAAAAAAAAAAAAAAAAAAAAAAAAAAAAAAAAAAAAAAAAAAAAAAAAAAAAAAAAAAAAAAAAAAAAAAAAAAAAAAAAAAAAAAAAAAAAAAAAAAAAAAAAAAAAAAAAAAAAAAAAAAAAAAAAAAAAAAAAAAAAAAAAAAAAAAAAAAAAAAAAAAAJlkNhKMRkz+WexphuaehPwAAAAAAAAAAAAAAAAAAAAAAAAAAAAAAAAAAAAAAAAAAAAAAAAAAAAAAAAAAAAAAAAAAAAAAAAAAAAAAAAAAAAAAAAAAAAAAAAAAAAAAAAAAAAAAAAAAAAAAAAAAAAAAAAAAAAAAAAAAAAAAAAAAAAAAAAAAAAAAAAAAAAAAAAAAAAAAAAAAAAAAAAAAAAAAAAAAAAAAAAAAAAAAAAAAAAAAAAAAAAAAACcNr4/aSIg/AAAAAAAAAAAAAAAAAAAAAAAAAAAAAAAAAAAAAAAAAAAAAAAAAAAAAAAAAAAAAAAAAAAAAAAAAAAAAAAAAAAAAAAAAAAAAAAAAAAAAAAAAAAAAAAAAAAAAAAAAAAAAAAAFDuxEzuxsz8AAAAAAAAAAAAAAAAAAAAAAAAAAAAAAAAAAAAAAAAAAAAAAAAAAAAAAAAAAAAAAAAAAAAAAAAAAAAAAAAAAAAAAAAAAAAAAAAAAAAAAAAAAAAAAAAAAAAAAAAAAAAAAAAAAAAAAAAAAAAAAAAAAAAAAAAAAAAAAAAAAAAAAAAAAAAAAAAAAAAAAAAAAAAAAAAAAAAAAAAAAAAAAAAAAAAAAAAAAAAAAAAAAAAAAAAAAAAAAAAAAAAAAAAAAAAAAAAAAAAAAAAAAAAAAAAAAAAAAAAAAAAAAAAAAAAAAAAAAAAAAAAAAAAAAAAAAAAAAAAAAAAAAAAAAAAAAAAAAAAAAAAAAAAAAAAAAAAAAAAAAAAAAAAAAAAAAAAAAAAAAAAAAAAAAAAAAAAAAAAAAAAAAAAAAAAAAAAAAAAAAAAAAAAAAAAAAAAAAAAAAAAAAAAAAAAAAAAAAAAAAAAAAAAAAAAAAAAAAAAAAAAAAAAAAAAAAAAAAAAAAAAAAAAAAAAAAAAAAAAAAAAAAAAAAAAAAAAAAAAAAAAAAAAAAAAAAAAAAAAAAAAAAAAAAAAAAAAAAAAAAAAAACcNr4/aSHg/AAAAAAAAAAAAAAAAAAAAAAAAAAAAAAAAAAAAAAAAAAAAAAAAAAAAAAAAAAAAAAAAAAAAAAAAAAAAAAAAAAAAAAAAAAAAAAAAAAAAAAAAAAAAAAAAAAAAAAAAAAAAAAAAAAAAAAAAAAAAAAAAAAAAAAAAAAAAAAAAAAAAAAAAAAAAAAAAAAAAAAAAAAAAAAAAAAAAAAAAAAAAAAAAAAAAAAAAAAAAAAAAAAAAAAAAAAAAAAAAAAAAAAAAAAAAAAAAAAAAAAAAAAAAAAAAAAAAAAAAAAAAAAAAAAAAAAAAAAAAAAAAAAAAAAAAAAAAAAAAAAAAAAAAAAAAAAAAAAAAAAAAAAAAAAAAAAAAAAAAAAAAAAAAAAAAAAAAAAAAAAAAAAAAAAAAAAAAAAAAAAAAAAAAAAAAAAAAAAAAAAAAAAAAAAAAAAAAAAAAAAAAAAAAAAAAAAAAAAAAAAAAAAAAAAAAAAAAAAAAAAAAAAAAAAAAAAAAAAAAAAAAAAAAAAAAAAAAAAAAAAAAAAAAAAAAAAAAAAAAAAAAAAAAAAAAAAAAAAAAAAAAAAAAAAAAAAAAAAAAAAAAAAAAAAAAAAAAAAAAAAAAAAAAAAAAAAAAAAAAAAAAAAAAAAAAAAAAAAAAAAAAAAAAAAAAAAAAAAAAAAAAAAAAAAAAAAAAAAAAAAAAAAAAAAAAAAAAAAAAAAAAAAAAAAAAAAA5juM4juPoPwAAAAAAAAAA4uHh4eHh4T8AAAAAAAAAAAAAAAAAAAAAAAAAAAAAAAAAAAAAAAAAAAAAAAAAAAAAAAAAAAAAAAAAAAAAAAAAAAAAAAAAAAAAAAAAAAAAAAAAAAAAAAAAAAAAAAAAAAAAAAAAAAAAAAAAAAAAAAAAAAAAAAAAAAAAAAAAAAAAAAAAAAAAAAAAAAAAAAAAAAAAAAAAAAAAAAAAAAAAAAAAAAAAAAAAAAAAAAAAAAAAAAAAAAAAAAAAAAAAAAAAAAAAAAAAAAAAAAAAAAAAAAAAAAAAAAAAAAAAAAAAAAAAAAAAAAAAAAAAAAAAAAAAAAAAAAAAAAAAAAAAAAAAAAAAAAAAAAAAAAAAAAAAAAAAAAAAAAAAAAAAAAAAAAAAAAAAAAAAAAAAAAAAAAAAAAAAAAAAAAAAAAAAAAAAAAAAAAAAAAAAAAAAAAAAAAAAAAAAAAAAAAAAAAAAAAAAAAAAAAAAAAAAAAAAAAAAAAAAAAAAAAAAAAAAAAAAAAAAAAAAAAAAAAAAAAAAAAAAAAAAAAAAAAAAAAAAAAAAAAAAAAAAAAAAAAAAAAAAAAAAAAAAAAAAAAAAAAAAAAAAAAAAAAAAAAAAAAAAAAAAAAAAAAAAAAAAAAAAAAAAAAAAAAAAAAAAAAAAAAAAAAAAAAAAAAAAAAAAAAAAAAAAAAAAAACMAfSc/8JYPwAAAAAAAAAAAAAAAAAAAAAAAAAAAAAAAAAAAAAAAAAAAAAAAAAAAAA1sDCUpaOFPwAAAAAAAAAAAAAAAAAAAAAAAAAAAAAAAAAAAAAAAAAAAAAAAAAAAAAAAAAAAAAAAAAAAAAAAAAAAAAAAAAAAAAAAAAAAAAAAAAAAAAAAAAAAAAAAAAAAAAAAAAAAAAAAAAAAAAAAAAA3qstcp0JiD8AAAAAAAAAAAAAAAAAAAAAAAAAAAAAAAAAAAAAAAAAAAAAAAAAAAAAAAAAAAAAAAAAAAAAAAAAAAAAAAAAAAAAAAAAAAAAAAAAAAAAAAAAAAAAAAAAAAAAAAAAAAAA8D8AAAAAAAAAAAAAAAAAAAAAAAAAAAAAAAAAAAAAAAAAAAAAAAAAAAAAAAAAAAAAAAAAAAAAAAAAAAAAAAAAAAAAAAAAAAAAAAAAAAAAAAAAAAAAAAAAAAAAAAAAAAAAAAAAAAAAAAAAAAAAAAAAAAAAAAAAAAAAAAAAAAAAAAAAAAAAAAAAAAAA/HALKIzq5D8AAAAAAAAAAAAAAAAAAAAAAAAAAAAAAAAAAAAAAAAAAAAAAAAAAAAAAAAAAAAAAAAAAAAAAAAAAAAAAAAAAAAAAAAAAAAAAAAAAAAAAAAAAAAAAAAAAAAAAAAAAAAAAAAAAAAAAAAAAAAAAAAAAAAAAAAAAAAAAAAAAAAAAAAAAAAAAAAAAAAAAAAAAAAAAAAAAAAAAAAAAAAAAAAAAAAAAAAAAAAAAAAAAAAAAAAAAAAAAAAAAAAAAAAAAAAAAAAAAAAAAAAAAAAAAAAAAAAAAAAAAAAAAAAAAAAAAAAAAAAAAAAAAAAAAAAAAAAAAAAAAAAAAAAAAAAAAAAAAAAAAAAAAAAAAAAAAAAAAAAAAAAAAAAAAAAAAAAAAAAAAAAAAAAAAAAAAAAAAAAAAAAAAAAAAAAAAAAAAAAAAAAAAAAAAAAAAAAAAAAAAAAAAAAAAAAAAAAAAAAAAAAAAAAAAAAAAAAAAAAAAAAAAAAAAAAAAAAAAAAAAAAAAAAAAAAAAAAAAAAAAAAAAAAAAAAAAAAAAAAAAAAAAAAAAAAAAAAAAAAAAAAAAAAAAAAAAAAAAAAAAAAAAAAAAAAAAAAAAAAAAAAAAAAAAAAAAAAAAAAAAAAAAAAAAAAAAAAAAAAAAAAAAAAAAAAAAAAAAAAAAAAAAAAAAAAAAAAAAAAAAAAAAAAAAAAAAAAAAAAAAAAAAAAAAAAAAAAAAAAAAAAAAAAAAAAAAAAAAAAAAAAAAAAAAAAAAAAAAAAAAAAAAAAAAAAAAAAAAAAAAAAAAAAAAAAAAAAAAAAAAAAAAAAAAAAAAAAAAAAAAAAAAAAAAAAAAAAAAAAAAAAAAAAAAAAAAAAAAAAAAAAAAAAAAAAAAAAAAAAAAAAAAAAAAAAAAAAAAAAAAAAAAAAAAAAAAAAAAAAAAAAAAAAAAAAAAAAAAAAAAAAAAAAAAAAAAAAAAAAAAAAAAAAAAAAAAAAAAAAAAAAAAAAAAAAAAAAAAAAAAAAAAAAAAAAAAAAAAAAAAAAAAAAAAAAAAAAAAAAAAAAAAAAAAAAAAAAAAAAAAAAAAAAAAAAAAAAA40BxoDhQnD8AAAAAAAAAAAAAAAAAAAAAAAAAAAAAAAAAAAAAAAAAAAAAAAAAAAAAAAAAAAAAAAAAAAAAAAAAAAAAAAAAAAAAAAAAAAAAAAAAAAAAAAAAAAAAAAAAAAAAauqKPy0/jj8AAAAAAAAAAAAAAAAAAAAAAAAAAAAAAAAAAAAAAAAAAAAAAAAAAAAAAAAAAAAAAAAAAAAAAAAAAAAAAAAAAAAAAAAAAAAAAAAAAAAAAAAAAAAAAAAAAAAA",
          "dtype": "f8",
          "shape": "26, 69"
         }
        }
       ],
       "layout": {
        "height": 1000,
        "template": {
         "data": {
          "bar": [
           {
            "error_x": {
             "color": "#2a3f5f"
            },
            "error_y": {
             "color": "#2a3f5f"
            },
            "marker": {
             "line": {
              "color": "#E5ECF6",
              "width": 0.5
             },
             "pattern": {
              "fillmode": "overlay",
              "size": 10,
              "solidity": 0.2
             }
            },
            "type": "bar"
           }
          ],
          "barpolar": [
           {
            "marker": {
             "line": {
              "color": "#E5ECF6",
              "width": 0.5
             },
             "pattern": {
              "fillmode": "overlay",
              "size": 10,
              "solidity": 0.2
             }
            },
            "type": "barpolar"
           }
          ],
          "carpet": [
           {
            "aaxis": {
             "endlinecolor": "#2a3f5f",
             "gridcolor": "white",
             "linecolor": "white",
             "minorgridcolor": "white",
             "startlinecolor": "#2a3f5f"
            },
            "baxis": {
             "endlinecolor": "#2a3f5f",
             "gridcolor": "white",
             "linecolor": "white",
             "minorgridcolor": "white",
             "startlinecolor": "#2a3f5f"
            },
            "type": "carpet"
           }
          ],
          "choropleth": [
           {
            "colorbar": {
             "outlinewidth": 0,
             "ticks": ""
            },
            "type": "choropleth"
           }
          ],
          "contour": [
           {
            "colorbar": {
             "outlinewidth": 0,
             "ticks": ""
            },
            "colorscale": [
             [
              0,
              "#0d0887"
             ],
             [
              0.1111111111111111,
              "#46039f"
             ],
             [
              0.2222222222222222,
              "#7201a8"
             ],
             [
              0.3333333333333333,
              "#9c179e"
             ],
             [
              0.4444444444444444,
              "#bd3786"
             ],
             [
              0.5555555555555556,
              "#d8576b"
             ],
             [
              0.6666666666666666,
              "#ed7953"
             ],
             [
              0.7777777777777778,
              "#fb9f3a"
             ],
             [
              0.8888888888888888,
              "#fdca26"
             ],
             [
              1,
              "#f0f921"
             ]
            ],
            "type": "contour"
           }
          ],
          "contourcarpet": [
           {
            "colorbar": {
             "outlinewidth": 0,
             "ticks": ""
            },
            "type": "contourcarpet"
           }
          ],
          "heatmap": [
           {
            "colorbar": {
             "outlinewidth": 0,
             "ticks": ""
            },
            "colorscale": [
             [
              0,
              "#0d0887"
             ],
             [
              0.1111111111111111,
              "#46039f"
             ],
             [
              0.2222222222222222,
              "#7201a8"
             ],
             [
              0.3333333333333333,
              "#9c179e"
             ],
             [
              0.4444444444444444,
              "#bd3786"
             ],
             [
              0.5555555555555556,
              "#d8576b"
             ],
             [
              0.6666666666666666,
              "#ed7953"
             ],
             [
              0.7777777777777778,
              "#fb9f3a"
             ],
             [
              0.8888888888888888,
              "#fdca26"
             ],
             [
              1,
              "#f0f921"
             ]
            ],
            "type": "heatmap"
           }
          ],
          "histogram": [
           {
            "marker": {
             "pattern": {
              "fillmode": "overlay",
              "size": 10,
              "solidity": 0.2
             }
            },
            "type": "histogram"
           }
          ],
          "histogram2d": [
           {
            "colorbar": {
             "outlinewidth": 0,
             "ticks": ""
            },
            "colorscale": [
             [
              0,
              "#0d0887"
             ],
             [
              0.1111111111111111,
              "#46039f"
             ],
             [
              0.2222222222222222,
              "#7201a8"
             ],
             [
              0.3333333333333333,
              "#9c179e"
             ],
             [
              0.4444444444444444,
              "#bd3786"
             ],
             [
              0.5555555555555556,
              "#d8576b"
             ],
             [
              0.6666666666666666,
              "#ed7953"
             ],
             [
              0.7777777777777778,
              "#fb9f3a"
             ],
             [
              0.8888888888888888,
              "#fdca26"
             ],
             [
              1,
              "#f0f921"
             ]
            ],
            "type": "histogram2d"
           }
          ],
          "histogram2dcontour": [
           {
            "colorbar": {
             "outlinewidth": 0,
             "ticks": ""
            },
            "colorscale": [
             [
              0,
              "#0d0887"
             ],
             [
              0.1111111111111111,
              "#46039f"
             ],
             [
              0.2222222222222222,
              "#7201a8"
             ],
             [
              0.3333333333333333,
              "#9c179e"
             ],
             [
              0.4444444444444444,
              "#bd3786"
             ],
             [
              0.5555555555555556,
              "#d8576b"
             ],
             [
              0.6666666666666666,
              "#ed7953"
             ],
             [
              0.7777777777777778,
              "#fb9f3a"
             ],
             [
              0.8888888888888888,
              "#fdca26"
             ],
             [
              1,
              "#f0f921"
             ]
            ],
            "type": "histogram2dcontour"
           }
          ],
          "mesh3d": [
           {
            "colorbar": {
             "outlinewidth": 0,
             "ticks": ""
            },
            "type": "mesh3d"
           }
          ],
          "parcoords": [
           {
            "line": {
             "colorbar": {
              "outlinewidth": 0,
              "ticks": ""
             }
            },
            "type": "parcoords"
           }
          ],
          "pie": [
           {
            "automargin": true,
            "type": "pie"
           }
          ],
          "scatter": [
           {
            "fillpattern": {
             "fillmode": "overlay",
             "size": 10,
             "solidity": 0.2
            },
            "type": "scatter"
           }
          ],
          "scatter3d": [
           {
            "line": {
             "colorbar": {
              "outlinewidth": 0,
              "ticks": ""
             }
            },
            "marker": {
             "colorbar": {
              "outlinewidth": 0,
              "ticks": ""
             }
            },
            "type": "scatter3d"
           }
          ],
          "scattercarpet": [
           {
            "marker": {
             "colorbar": {
              "outlinewidth": 0,
              "ticks": ""
             }
            },
            "type": "scattercarpet"
           }
          ],
          "scattergeo": [
           {
            "marker": {
             "colorbar": {
              "outlinewidth": 0,
              "ticks": ""
             }
            },
            "type": "scattergeo"
           }
          ],
          "scattergl": [
           {
            "marker": {
             "colorbar": {
              "outlinewidth": 0,
              "ticks": ""
             }
            },
            "type": "scattergl"
           }
          ],
          "scattermap": [
           {
            "marker": {
             "colorbar": {
              "outlinewidth": 0,
              "ticks": ""
             }
            },
            "type": "scattermap"
           }
          ],
          "scattermapbox": [
           {
            "marker": {
             "colorbar": {
              "outlinewidth": 0,
              "ticks": ""
             }
            },
            "type": "scattermapbox"
           }
          ],
          "scatterpolar": [
           {
            "marker": {
             "colorbar": {
              "outlinewidth": 0,
              "ticks": ""
             }
            },
            "type": "scatterpolar"
           }
          ],
          "scatterpolargl": [
           {
            "marker": {
             "colorbar": {
              "outlinewidth": 0,
              "ticks": ""
             }
            },
            "type": "scatterpolargl"
           }
          ],
          "scatterternary": [
           {
            "marker": {
             "colorbar": {
              "outlinewidth": 0,
              "ticks": ""
             }
            },
            "type": "scatterternary"
           }
          ],
          "surface": [
           {
            "colorbar": {
             "outlinewidth": 0,
             "ticks": ""
            },
            "colorscale": [
             [
              0,
              "#0d0887"
             ],
             [
              0.1111111111111111,
              "#46039f"
             ],
             [
              0.2222222222222222,
              "#7201a8"
             ],
             [
              0.3333333333333333,
              "#9c179e"
             ],
             [
              0.4444444444444444,
              "#bd3786"
             ],
             [
              0.5555555555555556,
              "#d8576b"
             ],
             [
              0.6666666666666666,
              "#ed7953"
             ],
             [
              0.7777777777777778,
              "#fb9f3a"
             ],
             [
              0.8888888888888888,
              "#fdca26"
             ],
             [
              1,
              "#f0f921"
             ]
            ],
            "type": "surface"
           }
          ],
          "table": [
           {
            "cells": {
             "fill": {
              "color": "#EBF0F8"
             },
             "line": {
              "color": "white"
             }
            },
            "header": {
             "fill": {
              "color": "#C8D4E3"
             },
             "line": {
              "color": "white"
             }
            },
            "type": "table"
           }
          ]
         },
         "layout": {
          "annotationdefaults": {
           "arrowcolor": "#2a3f5f",
           "arrowhead": 0,
           "arrowwidth": 1
          },
          "autotypenumbers": "strict",
          "coloraxis": {
           "colorbar": {
            "outlinewidth": 0,
            "ticks": ""
           }
          },
          "colorscale": {
           "diverging": [
            [
             0,
             "#8e0152"
            ],
            [
             0.1,
             "#c51b7d"
            ],
            [
             0.2,
             "#de77ae"
            ],
            [
             0.3,
             "#f1b6da"
            ],
            [
             0.4,
             "#fde0ef"
            ],
            [
             0.5,
             "#f7f7f7"
            ],
            [
             0.6,
             "#e6f5d0"
            ],
            [
             0.7,
             "#b8e186"
            ],
            [
             0.8,
             "#7fbc41"
            ],
            [
             0.9,
             "#4d9221"
            ],
            [
             1,
             "#276419"
            ]
           ],
           "sequential": [
            [
             0,
             "#0d0887"
            ],
            [
             0.1111111111111111,
             "#46039f"
            ],
            [
             0.2222222222222222,
             "#7201a8"
            ],
            [
             0.3333333333333333,
             "#9c179e"
            ],
            [
             0.4444444444444444,
             "#bd3786"
            ],
            [
             0.5555555555555556,
             "#d8576b"
            ],
            [
             0.6666666666666666,
             "#ed7953"
            ],
            [
             0.7777777777777778,
             "#fb9f3a"
            ],
            [
             0.8888888888888888,
             "#fdca26"
            ],
            [
             1,
             "#f0f921"
            ]
           ],
           "sequentialminus": [
            [
             0,
             "#0d0887"
            ],
            [
             0.1111111111111111,
             "#46039f"
            ],
            [
             0.2222222222222222,
             "#7201a8"
            ],
            [
             0.3333333333333333,
             "#9c179e"
            ],
            [
             0.4444444444444444,
             "#bd3786"
            ],
            [
             0.5555555555555556,
             "#d8576b"
            ],
            [
             0.6666666666666666,
             "#ed7953"
            ],
            [
             0.7777777777777778,
             "#fb9f3a"
            ],
            [
             0.8888888888888888,
             "#fdca26"
            ],
            [
             1,
             "#f0f921"
            ]
           ]
          },
          "colorway": [
           "#636efa",
           "#EF553B",
           "#00cc96",
           "#ab63fa",
           "#FFA15A",
           "#19d3f3",
           "#FF6692",
           "#B6E880",
           "#FF97FF",
           "#FECB52"
          ],
          "font": {
           "color": "#2a3f5f"
          },
          "geo": {
           "bgcolor": "white",
           "lakecolor": "white",
           "landcolor": "#E5ECF6",
           "showlakes": true,
           "showland": true,
           "subunitcolor": "white"
          },
          "hoverlabel": {
           "align": "left"
          },
          "hovermode": "closest",
          "mapbox": {
           "style": "light"
          },
          "paper_bgcolor": "white",
          "plot_bgcolor": "#E5ECF6",
          "polar": {
           "angularaxis": {
            "gridcolor": "white",
            "linecolor": "white",
            "ticks": ""
           },
           "bgcolor": "#E5ECF6",
           "radialaxis": {
            "gridcolor": "white",
            "linecolor": "white",
            "ticks": ""
           }
          },
          "scene": {
           "xaxis": {
            "backgroundcolor": "#E5ECF6",
            "gridcolor": "white",
            "gridwidth": 2,
            "linecolor": "white",
            "showbackground": true,
            "ticks": "",
            "zerolinecolor": "white"
           },
           "yaxis": {
            "backgroundcolor": "#E5ECF6",
            "gridcolor": "white",
            "gridwidth": 2,
            "linecolor": "white",
            "showbackground": true,
            "ticks": "",
            "zerolinecolor": "white"
           },
           "zaxis": {
            "backgroundcolor": "#E5ECF6",
            "gridcolor": "white",
            "gridwidth": 2,
            "linecolor": "white",
            "showbackground": true,
            "ticks": "",
            "zerolinecolor": "white"
           }
          },
          "shapedefaults": {
           "line": {
            "color": "#2a3f5f"
           }
          },
          "ternary": {
           "aaxis": {
            "gridcolor": "white",
            "linecolor": "white",
            "ticks": ""
           },
           "baxis": {
            "gridcolor": "white",
            "linecolor": "white",
            "ticks": ""
           },
           "bgcolor": "#E5ECF6",
           "caxis": {
            "gridcolor": "white",
            "linecolor": "white",
            "ticks": ""
           }
          },
          "title": {
           "x": 0.05
          },
          "xaxis": {
           "automargin": true,
           "gridcolor": "white",
           "linecolor": "white",
           "ticks": "",
           "title": {
            "standoff": 15
           },
           "zerolinecolor": "white",
           "zerolinewidth": 2
          },
          "yaxis": {
           "automargin": true,
           "gridcolor": "white",
           "linecolor": "white",
           "ticks": "",
           "title": {
            "standoff": 15
           },
           "zerolinecolor": "white",
           "zerolinewidth": 2
          }
         }
        },
        "title": {
         "text": "Normalized Connection Weights: type_pre → type_post"
        },
        "width": 800,
        "xaxis": {
         "title": {
          "text": "type_post"
         }
        },
        "yaxis": {
         "title": {
          "text": "type_pre"
         }
        }
       }
      }
     },
     "metadata": {},
     "output_type": "display_data"
    },
    {
     "data": {
      "application/vnd.plotly.v1+json": {
       "config": {
        "plotlyServerURL": "https://plot.ly"
       },
       "data": [
        {
         "colorscale": [
          [
           0,
           "rgb(255,245,240)"
          ],
          [
           0.125,
           "rgb(254,224,210)"
          ],
          [
           0.25,
           "rgb(252,187,161)"
          ],
          [
           0.375,
           "rgb(252,146,114)"
          ],
          [
           0.5,
           "rgb(251,106,74)"
          ],
          [
           0.625,
           "rgb(239,59,44)"
          ],
          [
           0.75,
           "rgb(203,24,29)"
          ],
          [
           0.875,
           "rgb(165,15,21)"
          ],
          [
           1,
           "rgb(103,0,13)"
          ]
         ],
         "hoverongaps": false,
         "hovertemplate": "type_pre: %{y}<br>type_post: %{x}<br>weight: %{z}<extra></extra>",
         "type": "heatmap",
         "x": [
          "AOTU001",
          "AOTU002_a",
          "AOTU002_b",
          "AOTU002_c",
          "AOTU003",
          "AOTU004",
          "AOTU005",
          "AOTU006",
          "AOTU007_a",
          "AOTU007_b",
          "AOTU007_c",
          "AOTU008",
          "AOTU009",
          "AOTU011",
          "AOTU012",
          "AOTU013",
          "AOTU014",
          "AOTU015",
          "AOTU016_a",
          "AOTU016_b",
          "AOTU016_c",
          "AOTU017",
          "AOTU018",
          "AOTU019",
          "AOTU020",
          "AOTU022",
          "AOTU023",
          "AOTU024",
          "AOTU025",
          "AOTU026",
          "AOTU027",
          "AOTU028",
          "AOTU029",
          "AOTU030",
          "AOTU032",
          "AOTU033",
          "AOTU034",
          "AOTU035",
          "AOTU036",
          "AOTU037",
          "AOTU038",
          "AOTU039",
          "AOTU041",
          "AOTU042",
          "AOTU043",
          "AOTU045",
          "AOTU047",
          "AOTU048",
          "AOTU049",
          "AOTU050",
          "AOTU051",
          "AOTU052",
          "AOTU053",
          "AOTU054",
          "AOTU055",
          "AOTU056",
          "AOTU058",
          "AOTU059",
          "AOTU060",
          "AOTU061",
          "AOTU062",
          "AOTU063_a",
          "AOTU063_b",
          "AOTU064",
          "AOTU065",
          "AOTU100m",
          "AOTU101m",
          "AOTU102m",
          "AOTU103m"
         ],
         "y": [
          "LC10_unclear",
          "LC10a",
          "LC10b",
          "LC10c-1",
          "LC10c-2",
          "LC10d",
          "LC10e",
          "LC12",
          "LC14a-2",
          "LC16",
          "LC19",
          "LC20b",
          "LC23",
          "LC24",
          "LC26",
          "LC29",
          "LC31b",
          "LC33",
          "LC35a",
          "LC35b",
          "LC36",
          "LC39b",
          "LC4",
          "LC46b",
          "LC6",
          "LC9"
         ],
         "z": {
          "bdata": "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",
          "dtype": "i2",
          "shape": "26, 69"
         }
        }
       ],
       "layout": {
        "height": 1000,
        "template": {
         "data": {
          "bar": [
           {
            "error_x": {
             "color": "#2a3f5f"
            },
            "error_y": {
             "color": "#2a3f5f"
            },
            "marker": {
             "line": {
              "color": "#E5ECF6",
              "width": 0.5
             },
             "pattern": {
              "fillmode": "overlay",
              "size": 10,
              "solidity": 0.2
             }
            },
            "type": "bar"
           }
          ],
          "barpolar": [
           {
            "marker": {
             "line": {
              "color": "#E5ECF6",
              "width": 0.5
             },
             "pattern": {
              "fillmode": "overlay",
              "size": 10,
              "solidity": 0.2
             }
            },
            "type": "barpolar"
           }
          ],
          "carpet": [
           {
            "aaxis": {
             "endlinecolor": "#2a3f5f",
             "gridcolor": "white",
             "linecolor": "white",
             "minorgridcolor": "white",
             "startlinecolor": "#2a3f5f"
            },
            "baxis": {
             "endlinecolor": "#2a3f5f",
             "gridcolor": "white",
             "linecolor": "white",
             "minorgridcolor": "white",
             "startlinecolor": "#2a3f5f"
            },
            "type": "carpet"
           }
          ],
          "choropleth": [
           {
            "colorbar": {
             "outlinewidth": 0,
             "ticks": ""
            },
            "type": "choropleth"
           }
          ],
          "contour": [
           {
            "colorbar": {
             "outlinewidth": 0,
             "ticks": ""
            },
            "colorscale": [
             [
              0,
              "#0d0887"
             ],
             [
              0.1111111111111111,
              "#46039f"
             ],
             [
              0.2222222222222222,
              "#7201a8"
             ],
             [
              0.3333333333333333,
              "#9c179e"
             ],
             [
              0.4444444444444444,
              "#bd3786"
             ],
             [
              0.5555555555555556,
              "#d8576b"
             ],
             [
              0.6666666666666666,
              "#ed7953"
             ],
             [
              0.7777777777777778,
              "#fb9f3a"
             ],
             [
              0.8888888888888888,
              "#fdca26"
             ],
             [
              1,
              "#f0f921"
             ]
            ],
            "type": "contour"
           }
          ],
          "contourcarpet": [
           {
            "colorbar": {
             "outlinewidth": 0,
             "ticks": ""
            },
            "type": "contourcarpet"
           }
          ],
          "heatmap": [
           {
            "colorbar": {
             "outlinewidth": 0,
             "ticks": ""
            },
            "colorscale": [
             [
              0,
              "#0d0887"
             ],
             [
              0.1111111111111111,
              "#46039f"
             ],
             [
              0.2222222222222222,
              "#7201a8"
             ],
             [
              0.3333333333333333,
              "#9c179e"
             ],
             [
              0.4444444444444444,
              "#bd3786"
             ],
             [
              0.5555555555555556,
              "#d8576b"
             ],
             [
              0.6666666666666666,
              "#ed7953"
             ],
             [
              0.7777777777777778,
              "#fb9f3a"
             ],
             [
              0.8888888888888888,
              "#fdca26"
             ],
             [
              1,
              "#f0f921"
             ]
            ],
            "type": "heatmap"
           }
          ],
          "histogram": [
           {
            "marker": {
             "pattern": {
              "fillmode": "overlay",
              "size": 10,
              "solidity": 0.2
             }
            },
            "type": "histogram"
           }
          ],
          "histogram2d": [
           {
            "colorbar": {
             "outlinewidth": 0,
             "ticks": ""
            },
            "colorscale": [
             [
              0,
              "#0d0887"
             ],
             [
              0.1111111111111111,
              "#46039f"
             ],
             [
              0.2222222222222222,
              "#7201a8"
             ],
             [
              0.3333333333333333,
              "#9c179e"
             ],
             [
              0.4444444444444444,
              "#bd3786"
             ],
             [
              0.5555555555555556,
              "#d8576b"
             ],
             [
              0.6666666666666666,
              "#ed7953"
             ],
             [
              0.7777777777777778,
              "#fb9f3a"
             ],
             [
              0.8888888888888888,
              "#fdca26"
             ],
             [
              1,
              "#f0f921"
             ]
            ],
            "type": "histogram2d"
           }
          ],
          "histogram2dcontour": [
           {
            "colorbar": {
             "outlinewidth": 0,
             "ticks": ""
            },
            "colorscale": [
             [
              0,
              "#0d0887"
             ],
             [
              0.1111111111111111,
              "#46039f"
             ],
             [
              0.2222222222222222,
              "#7201a8"
             ],
             [
              0.3333333333333333,
              "#9c179e"
             ],
             [
              0.4444444444444444,
              "#bd3786"
             ],
             [
              0.5555555555555556,
              "#d8576b"
             ],
             [
              0.6666666666666666,
              "#ed7953"
             ],
             [
              0.7777777777777778,
              "#fb9f3a"
             ],
             [
              0.8888888888888888,
              "#fdca26"
             ],
             [
              1,
              "#f0f921"
             ]
            ],
            "type": "histogram2dcontour"
           }
          ],
          "mesh3d": [
           {
            "colorbar": {
             "outlinewidth": 0,
             "ticks": ""
            },
            "type": "mesh3d"
           }
          ],
          "parcoords": [
           {
            "line": {
             "colorbar": {
              "outlinewidth": 0,
              "ticks": ""
             }
            },
            "type": "parcoords"
           }
          ],
          "pie": [
           {
            "automargin": true,
            "type": "pie"
           }
          ],
          "scatter": [
           {
            "fillpattern": {
             "fillmode": "overlay",
             "size": 10,
             "solidity": 0.2
            },
            "type": "scatter"
           }
          ],
          "scatter3d": [
           {
            "line": {
             "colorbar": {
              "outlinewidth": 0,
              "ticks": ""
             }
            },
            "marker": {
             "colorbar": {
              "outlinewidth": 0,
              "ticks": ""
             }
            },
            "type": "scatter3d"
           }
          ],
          "scattercarpet": [
           {
            "marker": {
             "colorbar": {
              "outlinewidth": 0,
              "ticks": ""
             }
            },
            "type": "scattercarpet"
           }
          ],
          "scattergeo": [
           {
            "marker": {
             "colorbar": {
              "outlinewidth": 0,
              "ticks": ""
             }
            },
            "type": "scattergeo"
           }
          ],
          "scattergl": [
           {
            "marker": {
             "colorbar": {
              "outlinewidth": 0,
              "ticks": ""
             }
            },
            "type": "scattergl"
           }
          ],
          "scattermap": [
           {
            "marker": {
             "colorbar": {
              "outlinewidth": 0,
              "ticks": ""
             }
            },
            "type": "scattermap"
           }
          ],
          "scattermapbox": [
           {
            "marker": {
             "colorbar": {
              "outlinewidth": 0,
              "ticks": ""
             }
            },
            "type": "scattermapbox"
           }
          ],
          "scatterpolar": [
           {
            "marker": {
             "colorbar": {
              "outlinewidth": 0,
              "ticks": ""
             }
            },
            "type": "scatterpolar"
           }
          ],
          "scatterpolargl": [
           {
            "marker": {
             "colorbar": {
              "outlinewidth": 0,
              "ticks": ""
             }
            },
            "type": "scatterpolargl"
           }
          ],
          "scatterternary": [
           {
            "marker": {
             "colorbar": {
              "outlinewidth": 0,
              "ticks": ""
             }
            },
            "type": "scatterternary"
           }
          ],
          "surface": [
           {
            "colorbar": {
             "outlinewidth": 0,
             "ticks": ""
            },
            "colorscale": [
             [
              0,
              "#0d0887"
             ],
             [
              0.1111111111111111,
              "#46039f"
             ],
             [
              0.2222222222222222,
              "#7201a8"
             ],
             [
              0.3333333333333333,
              "#9c179e"
             ],
             [
              0.4444444444444444,
              "#bd3786"
             ],
             [
              0.5555555555555556,
              "#d8576b"
             ],
             [
              0.6666666666666666,
              "#ed7953"
             ],
             [
              0.7777777777777778,
              "#fb9f3a"
             ],
             [
              0.8888888888888888,
              "#fdca26"
             ],
             [
              1,
              "#f0f921"
             ]
            ],
            "type": "surface"
           }
          ],
          "table": [
           {
            "cells": {
             "fill": {
              "color": "#EBF0F8"
             },
             "line": {
              "color": "white"
             }
            },
            "header": {
             "fill": {
              "color": "#C8D4E3"
             },
             "line": {
              "color": "white"
             }
            },
            "type": "table"
           }
          ]
         },
         "layout": {
          "annotationdefaults": {
           "arrowcolor": "#2a3f5f",
           "arrowhead": 0,
           "arrowwidth": 1
          },
          "autotypenumbers": "strict",
          "coloraxis": {
           "colorbar": {
            "outlinewidth": 0,
            "ticks": ""
           }
          },
          "colorscale": {
           "diverging": [
            [
             0,
             "#8e0152"
            ],
            [
             0.1,
             "#c51b7d"
            ],
            [
             0.2,
             "#de77ae"
            ],
            [
             0.3,
             "#f1b6da"
            ],
            [
             0.4,
             "#fde0ef"
            ],
            [
             0.5,
             "#f7f7f7"
            ],
            [
             0.6,
             "#e6f5d0"
            ],
            [
             0.7,
             "#b8e186"
            ],
            [
             0.8,
             "#7fbc41"
            ],
            [
             0.9,
             "#4d9221"
            ],
            [
             1,
             "#276419"
            ]
           ],
           "sequential": [
            [
             0,
             "#0d0887"
            ],
            [
             0.1111111111111111,
             "#46039f"
            ],
            [
             0.2222222222222222,
             "#7201a8"
            ],
            [
             0.3333333333333333,
             "#9c179e"
            ],
            [
             0.4444444444444444,
             "#bd3786"
            ],
            [
             0.5555555555555556,
             "#d8576b"
            ],
            [
             0.6666666666666666,
             "#ed7953"
            ],
            [
             0.7777777777777778,
             "#fb9f3a"
            ],
            [
             0.8888888888888888,
             "#fdca26"
            ],
            [
             1,
             "#f0f921"
            ]
           ],
           "sequentialminus": [
            [
             0,
             "#0d0887"
            ],
            [
             0.1111111111111111,
             "#46039f"
            ],
            [
             0.2222222222222222,
             "#7201a8"
            ],
            [
             0.3333333333333333,
             "#9c179e"
            ],
            [
             0.4444444444444444,
             "#bd3786"
            ],
            [
             0.5555555555555556,
             "#d8576b"
            ],
            [
             0.6666666666666666,
             "#ed7953"
            ],
            [
             0.7777777777777778,
             "#fb9f3a"
            ],
            [
             0.8888888888888888,
             "#fdca26"
            ],
            [
             1,
             "#f0f921"
            ]
           ]
          },
          "colorway": [
           "#636efa",
           "#EF553B",
           "#00cc96",
           "#ab63fa",
           "#FFA15A",
           "#19d3f3",
           "#FF6692",
           "#B6E880",
           "#FF97FF",
           "#FECB52"
          ],
          "font": {
           "color": "#2a3f5f"
          },
          "geo": {
           "bgcolor": "white",
           "lakecolor": "white",
           "landcolor": "#E5ECF6",
           "showlakes": true,
           "showland": true,
           "subunitcolor": "white"
          },
          "hoverlabel": {
           "align": "left"
          },
          "hovermode": "closest",
          "mapbox": {
           "style": "light"
          },
          "paper_bgcolor": "white",
          "plot_bgcolor": "#E5ECF6",
          "polar": {
           "angularaxis": {
            "gridcolor": "white",
            "linecolor": "white",
            "ticks": ""
           },
           "bgcolor": "#E5ECF6",
           "radialaxis": {
            "gridcolor": "white",
            "linecolor": "white",
            "ticks": ""
           }
          },
          "scene": {
           "xaxis": {
            "backgroundcolor": "#E5ECF6",
            "gridcolor": "white",
            "gridwidth": 2,
            "linecolor": "white",
            "showbackground": true,
            "ticks": "",
            "zerolinecolor": "white"
           },
           "yaxis": {
            "backgroundcolor": "#E5ECF6",
            "gridcolor": "white",
            "gridwidth": 2,
            "linecolor": "white",
            "showbackground": true,
            "ticks": "",
            "zerolinecolor": "white"
           },
           "zaxis": {
            "backgroundcolor": "#E5ECF6",
            "gridcolor": "white",
            "gridwidth": 2,
            "linecolor": "white",
            "showbackground": true,
            "ticks": "",
            "zerolinecolor": "white"
           }
          },
          "shapedefaults": {
           "line": {
            "color": "#2a3f5f"
           }
          },
          "ternary": {
           "aaxis": {
            "gridcolor": "white",
            "linecolor": "white",
            "ticks": ""
           },
           "baxis": {
            "gridcolor": "white",
            "linecolor": "white",
            "ticks": ""
           },
           "bgcolor": "#E5ECF6",
           "caxis": {
            "gridcolor": "white",
            "linecolor": "white",
            "ticks": ""
           }
          },
          "title": {
           "x": 0.05
          },
          "xaxis": {
           "automargin": true,
           "gridcolor": "white",
           "linecolor": "white",
           "ticks": "",
           "title": {
            "standoff": 15
           },
           "zerolinecolor": "white",
           "zerolinewidth": 2
          },
          "yaxis": {
           "automargin": true,
           "gridcolor": "white",
           "linecolor": "white",
           "ticks": "",
           "title": {
            "standoff": 15
           },
           "zerolinecolor": "white",
           "zerolinewidth": 2
          }
         }
        },
        "title": {
         "text": "Connection Weights: type_pre → type_post"
        },
        "width": 800,
        "xaxis": {
         "title": {
          "text": "type_post"
         }
        },
        "yaxis": {
         "title": {
          "text": "type_pre"
         }
        }
       }
      }
     },
     "metadata": {},
     "output_type": "display_data"
    }
   ],
   "source": [
    "# Pivot the DataFrame to a matrix format\n",
    "# matrix_df = conn_AOTU_df_type_top.pivot_table(index='type_pre', columns='type_post', values='weight', aggfunc='sum', fill_value=0)\n",
    "\n",
    "# Create the heatmap\n",
    "plt.figure(figsize=(10, 12))\n",
    "ax = sb.heatmap(norm_matrix_df, cmap='Reds', annot=False, linewidths=0.5)\n",
    "\n",
    "# Labeling\n",
    "# Title and axis labels\n",
    "ax.set_title('Normalized Connection Weights: type_pre → type_post')\n",
    "ax.set_xlabel('type_post')\n",
    "ax.set_ylabel('type_pre')\n",
    "\n",
    "# Force all y-ticks to be shown\n",
    "ax.set_yticks(range(len(norm_matrix_df.index)))\n",
    "ax.set_yticklabels(norm_matrix_df.index, rotation=0, fontsize=7)\n",
    "\n",
    "# Also ensure all x-ticks are shown if needed\n",
    "ax.set_xticks(range(len(norm_matrix_df.columns)))\n",
    "ax.set_xticklabels(norm_matrix_df.columns, rotation=90, fontsize=7)\n",
    "\n",
    "plt.tight_layout()\n",
    "plt.show()\n",
    "\n",
    "\n",
    "# Not Normalized\n",
    "# Create the heatmap\n",
    "plt.figure(figsize=(10, 12))\n",
    "ax = sb.heatmap(matrix_df, cmap='Reds', annot=False, linewidths=0.5)\n",
    "\n",
    "# Labeling\n",
    "# Title and axis labels\n",
    "ax.set_title('Connection Weights: type_pre → type_post')\n",
    "ax.set_xlabel('type_post')\n",
    "ax.set_ylabel('type_pre')\n",
    "\n",
    "# Force all y-ticks to be shown\n",
    "ax.set_yticks(range(len(matrix_df.index)))\n",
    "ax.set_yticklabels(matrix_df.index, rotation=0, fontsize=7)\n",
    "\n",
    "# Also ensure all x-ticks are shown if needed\n",
    "ax.set_xticks(range(len(matrix_df.columns)))\n",
    "ax.set_xticklabels(matrix_df.columns, rotation=90, fontsize=7)\n",
    "\n",
    "plt.tight_layout()\n",
    "plt.show()\n",
    "\n",
    "# Interactive heatmap:\n",
    "\n",
    "\n",
    "\n",
    "\n",
    "# Assume matrix_df and norm_matrix_df are your non-normalized and normalized dataframes\n",
    "\n",
    "def plot_interactive_heatmap(df, title):\n",
    "    fig = go.Figure(data=go.Heatmap(\n",
    "        z=df.values,\n",
    "        x=df.columns,\n",
    "        y=df.index,\n",
    "        colorscale='Reds',\n",
    "        hoverongaps=False,\n",
    "        hovertemplate='type_pre: %{y}<br>type_post: %{x}<br>weight: %{z}<extra></extra>'\n",
    "    ))\n",
    "\n",
    "    fig.update_layout(\n",
    "        title=title,\n",
    "        xaxis_title='type_post',\n",
    "        yaxis_title='type_pre',\n",
    "        width=800,\n",
    "        height=1000\n",
    "    )\n",
    "\n",
    "    fig.show()\n",
    "\n",
    "# Interactive heatmap for normalized weights\n",
    "plot_interactive_heatmap(norm_matrix_df, 'Normalized Connection Weights: type_pre → type_post')\n",
    "\n",
    "# Interactive heatmap for raw weights\n",
    "plot_interactive_heatmap(matrix_df, 'Connection Weights: type_pre → type_post')\n",
    "\n",
    "\n",
    "\n"
   ]
  },
  {
   "cell_type": "code",
   "execution_count": null,
   "metadata": {},
   "outputs": [],
   "source": []
  },
  {
   "cell_type": "markdown",
   "metadata": {},
   "source": [
    "### LC10 inputs to AOTUs"
   ]
  },
  {
   "cell_type": "code",
   "execution_count": 126,
   "metadata": {},
   "outputs": [],
   "source": [
    "# Fetch LC10 neurons and get their types, fetch AOTU neurons and get their types\n",
    "neurons_df_LC10,roi_df = fetch_neurons(NC(type='^LC10.*'))\n",
    "\n",
    "neurons_df_AOTU,roi_df = fetch_neurons(NC(type='^AOTU.*'))"
   ]
  },
  {
   "cell_type": "code",
   "execution_count": 127,
   "metadata": {},
   "outputs": [
    {
     "data": {
      "text/plain": [
       "(        bodyId   instance     type  pre  post  downstream  upstream  \\\n",
       " 0        10573    LC10a_L    LC10a  375  1295        2650      1295   \n",
       " 1        12130    LC10a_L    LC10a  328  1282        2365      1282   \n",
       " 2        12424    LC10a_L    LC10a  359  1232        2428      1232   \n",
       " 3        12458    LC10a_L    LC10a  372  1542        2612      1542   \n",
       " 4        12783  LC10c-2_L  LC10c-2  122   583         837       583   \n",
       " ..         ...        ...      ...  ...   ...         ...       ...   \n",
       " 954     580484    LC10d_L    LC10d  208   741        1431       741   \n",
       " 955     580987    LC10b_L    LC10b  148   797         990       797   \n",
       " 956     915658    LC10d_L    LC10d  242   793        1860       793   \n",
       " 957     919862    LC10d_L    LC10d  179   556        1193       556   \n",
       " 958  212467981    LC10d_L    LC10d  200   627        1443       627   \n",
       " \n",
       "           size  status            statusLabel  ... dimorphism  \\\n",
       " 0    569927082  Traced  Prelim Roughly traced  ...       None   \n",
       " 1    500176269  Traced  Prelim Roughly traced  ...       None   \n",
       " 2    596027716  Traced  Prelim Roughly traced  ...       None   \n",
       " 3    576810841  Traced  Prelim Roughly traced  ...       None   \n",
       " 4    224661055  Traced  Prelim Roughly traced  ...       None   \n",
       " ..         ...     ...                    ...  ...        ...   \n",
       " 954  330684224  Traced  Prelim Roughly traced  ...       None   \n",
       " 955  156489897  Traced  Prelim Roughly traced  ...       None   \n",
       " 956  434770533  Traced  Prelim Roughly traced  ...       None   \n",
       " 957  226932494  Traced  Prelim Roughly traced  ...       None   \n",
       " 958  380674218  Traced  Prelim Roughly traced  ...       None   \n",
       " \n",
       "     celltypePredictedNt birthtime         superclass receptorType  \\\n",
       " 0         acetylcholine      None  visual_projection         None   \n",
       " 1         acetylcholine      None  visual_projection         None   \n",
       " 2         acetylcholine      None  visual_projection         None   \n",
       " 3         acetylcholine      None  visual_projection         None   \n",
       " 4         acetylcholine      None  visual_projection         None   \n",
       " ..                  ...       ...                ...          ...   \n",
       " 954       acetylcholine      None  visual_projection         None   \n",
       " 955       acetylcholine      None  visual_projection         None   \n",
       " 956       acetylcholine      None  visual_projection         None   \n",
       " 957       acetylcholine      None  visual_projection         None   \n",
       " 958       acetylcholine      None  visual_projection         None   \n",
       " \n",
       "     assignedOlHex2 mancBodyid somaSide  \\\n",
       " 0             None       None        L   \n",
       " 1             None       None        L   \n",
       " 2             None       None        L   \n",
       " 3             None       None        L   \n",
       " 4             None       None        L   \n",
       " ..             ...        ...      ...   \n",
       " 954           None       None        L   \n",
       " 955           None       None        L   \n",
       " 956           None       None        L   \n",
       " 957           None       None        L   \n",
       " 958           None       None        L   \n",
       " \n",
       "                                              inputRois  \\\n",
       " 0    [AOTU(L), CentralBrain, LO(L), LO_L_col_21_07,...   \n",
       " 1    [AOTU(L), CentralBrain, CentralBrain-unspecifi...   \n",
       " 2    [AOTU(L), CentralBrain, CentralBrain-unspecifi...   \n",
       " 3    [AOTU(L), CentralBrain, CentralBrain-unspecifi...   \n",
       " 4    [AOTU(L), CentralBrain, CentralBrain-unspecifi...   \n",
       " ..                                                 ...   \n",
       " 954  [AOTU(L), CentralBrain, CentralBrain-unspecifi...   \n",
       " 955  [LO(L), LO_L_col_11_16, LO_L_col_11_17, LO_L_c...   \n",
       " 956  [AOTU(L), CentralBrain, CentralBrain-unspecifi...   \n",
       " 957  [AOTU(L), CentralBrain, LO(L), LO_L_col_08_13,...   \n",
       " 958  [AOTU(L), CentralBrain, CentralBrain-unspecifi...   \n",
       " \n",
       "                                             outputRois  \n",
       " 0    [AOTU(L), CentralBrain, LO(L), LO_L_col_21_09,...  \n",
       " 1    [AOTU(L), CentralBrain, LO(L), LO_L_col_25_16,...  \n",
       " 2    [AOTU(L), CentralBrain, CentralBrain-unspecifi...  \n",
       " 3    [AOTU(L), CentralBrain, LO(L), LO_L_col_21_16,...  \n",
       " 4    [AOTU(L), CentralBrain, CentralBrain-unspecifi...  \n",
       " ..                                                 ...  \n",
       " 954  [AOTU(L), CentralBrain, LO(L), LO_L_col_02_06,...  \n",
       " 955  [LO(L), LO_L_col_12_15, LO_L_col_13_15, LO_L_c...  \n",
       " 956  [AOTU(L), CentralBrain, CentralBrain-unspecifi...  \n",
       " 957  [AOTU(L), CentralBrain, LO(L), LO_L_col_09_14,...  \n",
       " 958  [AOTU(L), CentralBrain, LO(L), LO_L_col_08_01,...  \n",
       " \n",
       " [959 rows x 58 columns],\n",
       "         bodyId   instance     type   pre   post  downstream  upstream  \\\n",
       " 0        10005  AOTU019_R  AOTU019  2837  31981       23423     31981   \n",
       " 1        10031  AOTU041_R  AOTU041  2134  20586       13446     20586   \n",
       " 2        10070  AOTU019_L  AOTU019  2836  30714       23596     30714   \n",
       " 3        10148  AOTU041_L  AOTU041  2336  19960       14187     19960   \n",
       " 4        10212  AOTU042_L  AOTU042  3579  10679       22690     10679   \n",
       " ..         ...        ...      ...   ...    ...         ...       ...   \n",
       " 309     555803  AOTU024_R  AOTU024   814   2240        6989      2240   \n",
       " 310     557095  AOTU008_L  AOTU008   392   2167        3198      2167   \n",
       " 311     565505  AOTU008_R  AOTU008   315   2727        2802      2727   \n",
       " 312     902249  AOTU038_R  AOTU038   111    459         704       459   \n",
       " 313  382559434  AOTU001_L  AOTU001   321   1829        2168      1829   \n",
       " \n",
       "             size  status     statusLabel  ...          dimorphism  \\\n",
       " 0    11847745920  Traced  Roughly traced  ...                None   \n",
       " 1     5326291658  Traced  Roughly traced  ...                None   \n",
       " 2    11809707230  Traced  Roughly traced  ...                None   \n",
       " 3     5592462575  Traced  Roughly traced  ...                None   \n",
       " 4     4312493196  Traced  Roughly traced  ...                None   \n",
       " ..           ...     ...             ...  ...                 ...   \n",
       " 309    964400165  Traced  Roughly traced  ...                None   \n",
       " 310    832073642  Traced  Roughly traced  ...  sexually dimorphic   \n",
       " 311    502528277  Traced  Roughly traced  ...  sexually dimorphic   \n",
       " 312    278656951  Traced  Roughly traced  ...                None   \n",
       " 313    474949071  Traced  Roughly traced  ...                None   \n",
       " \n",
       "     celltypePredictedNt birthtime    superclass receptorType assignedOlHex2  \\\n",
       " 0                  gaba     early  cb_intrinsic         None           None   \n",
       " 1                  gaba     early  cb_intrinsic         None           None   \n",
       " 2                  gaba     early  cb_intrinsic         None           None   \n",
       " 3                  gaba     early  cb_intrinsic         None           None   \n",
       " 4                  gaba     early  cb_intrinsic         None           None   \n",
       " ..                  ...       ...           ...          ...            ...   \n",
       " 309       acetylcholine      None  cb_intrinsic         None           None   \n",
       " 310       acetylcholine      None  cb_intrinsic         None           None   \n",
       " 311       acetylcholine      None  cb_intrinsic         None           None   \n",
       " 312            dopamine      None  cb_intrinsic         None           None   \n",
       " 313       acetylcholine      None  cb_intrinsic         None           None   \n",
       " \n",
       "     mancBodyid somaSide                                          inputRois  \\\n",
       " 0         None        R  [AOTU(R), CRE(R), CentralBrain, CentralBrain-u...   \n",
       " 1         None        R  [AOTU(L), AOTU(R), CRE(L), CRE(R), CentralBrai...   \n",
       " 2         None        L  [AOTU(L), CRE(L), CentralBrain, CentralBrain-u...   \n",
       " 3         None        L  [AOTU(L), AOTU(R), BU(L), CRE(L), CentralBrain...   \n",
       " 4         None        L  [AOTU(L), AOTU(R), CRE(L), CentralBrain, Centr...   \n",
       " ..         ...      ...                                                ...   \n",
       " 309       None        R  [AOTU(R), ATL(L), ATL(R), CRE(R), CentralBrain...   \n",
       " 310       None        L  [AOTU(L), AOTU(R), CentralBrain, CentralBrain-...   \n",
       " 311       None        R  [AOTU(R), CentralBrain, CentralBrain-unspecifi...   \n",
       " 312       None        R  [AOTU(R), AVLP(R), CentralBrain, CentralBrain-...   \n",
       " 313       None        L  [AOTU(L), CentralBrain, CentralBrain-unspecifi...   \n",
       " \n",
       "                                             outputRois  \n",
       " 0    [AOTU(R), CentralBrain, CentralBrain-unspecifi...  \n",
       " 1    [AOTU(L), AOTU(R), CentralBrain, CentralBrain-...  \n",
       " 2    [AOTU(L), CRE(L), CentralBrain, CentralBrain-u...  \n",
       " 3    [AOTU(L), AOTU(R), CRE(L), CentralBrain, Centr...  \n",
       " 4    [AOTU(L), AOTU(R), CRE(L), CentralBrain, Centr...  \n",
       " ..                                                 ...  \n",
       " 309  [AOTU(R), ATL(L), ATL(R), CentralBrain, Centra...  \n",
       " 310  [AOTU(L), CentralBrain, CentralBrain-unspecifi...  \n",
       " 311  [AOTU(R), CentralBrain, CentralBrain-unspecifi...  \n",
       " 312  [AOTU(R), CentralBrain, CentralBrain-unspecifi...  \n",
       " 313  [AOTU(L), CentralBrain, CentralBrain-unspecifi...  \n",
       " \n",
       " [314 rows x 58 columns])"
      ]
     },
     "execution_count": 127,
     "metadata": {},
     "output_type": "execute_result"
    }
   ],
   "source": [
    "neurons_df_LC10, neurons_df_AOTU"
   ]
  },
  {
   "cell_type": "code",
   "execution_count": 128,
   "metadata": {},
   "outputs": [],
   "source": [
    "LC10_celltypes = neurons_df_LC10['type'].unique()\n",
    "AOTU_celltypes = neurons_df_AOTU['type'].unique()"
   ]
  },
  {
   "cell_type": "code",
   "execution_count": 129,
   "metadata": {},
   "outputs": [
    {
     "data": {
      "text/plain": [
       "(array(['LC10a', 'LC10c-2', 'LC10d', 'LC10c-1', 'LC10e', 'LC10b',\n",
       "        'LC10_unclear'], dtype=object),\n",
       " array(['AOTU019', 'AOTU041', 'AOTU042', 'AOTU023', 'AOTU012', 'AOTU035',\n",
       "        'AOTU005', 'AOTU100m', 'AOTU016_c', 'AOTU061', 'AOTU052',\n",
       "        'AOTU103m', 'AOTU063_b', 'AOTU064', 'AOTU033', 'AOTU101m',\n",
       "        'AOTU063_a', 'AOTU049', 'AOTU027', 'AOTU014', 'AOTU015', 'AOTU046',\n",
       "        'AOTU050', 'AOTU024', 'AOTU059', 'AOTU009', 'AOTU008', 'AOTU045',\n",
       "        'AOTU065', 'AOTU007_c', 'AOTU002_c', 'AOTU029', 'AOTU016_a',\n",
       "        'AOTU002_a', 'AOTU026', 'AOTU020', 'AOTU017', 'AOTU028',\n",
       "        'AOTU016_b', 'AOTU036', 'AOTU006', 'AOTU043', 'AOTU048', 'AOTU013',\n",
       "        'AOTU051', 'AOTU034', 'AOTU011', 'AOTU002_b', 'AOTU022', 'AOTU062',\n",
       "        'AOTU032', 'AOTU001', 'AOTU007_b', 'AOTU047', 'AOTU003',\n",
       "        'AOTU007_a', 'AOTU054', 'AOTU030', 'AOTU056', 'AOTU055', 'AOTU060',\n",
       "        'AOTU102m', 'AOTU038', 'AOTU058', 'AOTU053', 'AOTU037', 'AOTU018',\n",
       "        'AOTU004', 'AOTU039', 'AOTU040', 'AOTU021', 'AOTU025'],\n",
       "       dtype=object))"
      ]
     },
     "execution_count": 129,
     "metadata": {},
     "output_type": "execute_result"
    }
   ],
   "source": [
    "LC10_celltypes, AOTU_celltypes"
   ]
  },
  {
   "cell_type": "code",
   "execution_count": 130,
   "metadata": {},
   "outputs": [
    {
     "data": {
      "application/vnd.jupyter.widget-view+json": {
       "model_id": "0c358cda73e84be39a99b03adec2622d",
       "version_major": 2,
       "version_minor": 0
      },
      "text/plain": [
       "  0%|          | 0/2 [00:00<?, ?it/s]"
      ]
     },
     "metadata": {},
     "output_type": "display_data"
    }
   ],
   "source": [
    "#  Define pre- and post-synaptic cell types\n",
    "celltypes_pre = LC10_celltypes\n",
    "celltypes_post = AOTU_celltypes\n",
    "#  Set connection weight threshold\n",
    "threshold = 3\n",
    "# Fetch synaptic connectivity between these types\n",
    "neu_df, conn_df = fetch_adjacencies(celltypes_pre, celltypes_post, min_roi_weight=threshold)\n",
    "# Merge with neuron properties to get types on both sides\n",
    "conn_LC10_AOTU_df = merge_neuron_properties(neu_df, conn_df)\n"
   ]
  },
  {
   "cell_type": "code",
   "execution_count": 131,
   "metadata": {},
   "outputs": [
    {
     "data": {
      "text/html": [
       "<div>\n",
       "<style scoped>\n",
       "    .dataframe tbody tr th:only-of-type {\n",
       "        vertical-align: middle;\n",
       "    }\n",
       "\n",
       "    .dataframe tbody tr th {\n",
       "        vertical-align: top;\n",
       "    }\n",
       "\n",
       "    .dataframe thead th {\n",
       "        text-align: right;\n",
       "    }\n",
       "</style>\n",
       "<table border=\"1\" class=\"dataframe\">\n",
       "  <thead>\n",
       "    <tr style=\"text-align: right;\">\n",
       "      <th></th>\n",
       "      <th>bodyId_pre</th>\n",
       "      <th>bodyId_post</th>\n",
       "      <th>roi</th>\n",
       "      <th>weight</th>\n",
       "      <th>type_pre</th>\n",
       "      <th>instance_pre</th>\n",
       "      <th>type_post</th>\n",
       "      <th>instance_post</th>\n",
       "    </tr>\n",
       "  </thead>\n",
       "  <tbody>\n",
       "    <tr>\n",
       "      <th>0</th>\n",
       "      <td>10573</td>\n",
       "      <td>10070</td>\n",
       "      <td>AOTU(L)</td>\n",
       "      <td>145</td>\n",
       "      <td>LC10a</td>\n",
       "      <td>LC10a_L</td>\n",
       "      <td>AOTU019</td>\n",
       "      <td>AOTU019_L</td>\n",
       "    </tr>\n",
       "    <tr>\n",
       "      <th>1</th>\n",
       "      <td>10573</td>\n",
       "      <td>10148</td>\n",
       "      <td>AOTU(L)</td>\n",
       "      <td>51</td>\n",
       "      <td>LC10a</td>\n",
       "      <td>LC10a_L</td>\n",
       "      <td>AOTU041</td>\n",
       "      <td>AOTU041_L</td>\n",
       "    </tr>\n",
       "    <tr>\n",
       "      <th>2</th>\n",
       "      <td>10573</td>\n",
       "      <td>10219</td>\n",
       "      <td>AOTU(L)</td>\n",
       "      <td>78</td>\n",
       "      <td>LC10a</td>\n",
       "      <td>LC10a_L</td>\n",
       "      <td>AOTU023</td>\n",
       "      <td>AOTU023_L</td>\n",
       "    </tr>\n",
       "    <tr>\n",
       "      <th>3</th>\n",
       "      <td>10573</td>\n",
       "      <td>10502</td>\n",
       "      <td>AOTU(L)</td>\n",
       "      <td>30</td>\n",
       "      <td>LC10a</td>\n",
       "      <td>LC10a_L</td>\n",
       "      <td>AOTU041</td>\n",
       "      <td>AOTU041_L</td>\n",
       "    </tr>\n",
       "    <tr>\n",
       "      <th>4</th>\n",
       "      <td>10573</td>\n",
       "      <td>11370</td>\n",
       "      <td>AOTU(L)</td>\n",
       "      <td>49</td>\n",
       "      <td>LC10a</td>\n",
       "      <td>LC10a_L</td>\n",
       "      <td>AOTU063_b</td>\n",
       "      <td>AOTU063_b_L</td>\n",
       "    </tr>\n",
       "    <tr>\n",
       "      <th>...</th>\n",
       "      <td>...</td>\n",
       "      <td>...</td>\n",
       "      <td>...</td>\n",
       "      <td>...</td>\n",
       "      <td>...</td>\n",
       "      <td>...</td>\n",
       "      <td>...</td>\n",
       "      <td>...</td>\n",
       "    </tr>\n",
       "    <tr>\n",
       "      <th>21743</th>\n",
       "      <td>212467981</td>\n",
       "      <td>518657</td>\n",
       "      <td>AOTU(L)</td>\n",
       "      <td>5</td>\n",
       "      <td>LC10d</td>\n",
       "      <td>LC10d_L</td>\n",
       "      <td>AOTU008</td>\n",
       "      <td>AOTU008_L</td>\n",
       "    </tr>\n",
       "    <tr>\n",
       "      <th>21744</th>\n",
       "      <td>212467981</td>\n",
       "      <td>520903</td>\n",
       "      <td>AOTU(L)</td>\n",
       "      <td>13</td>\n",
       "      <td>LC10d</td>\n",
       "      <td>LC10d_L</td>\n",
       "      <td>AOTU002_b</td>\n",
       "      <td>AOTU002_b_L</td>\n",
       "    </tr>\n",
       "    <tr>\n",
       "      <th>21745</th>\n",
       "      <td>212467981</td>\n",
       "      <td>520905</td>\n",
       "      <td>AOTU(L)</td>\n",
       "      <td>14</td>\n",
       "      <td>LC10d</td>\n",
       "      <td>LC10d_L</td>\n",
       "      <td>AOTU008</td>\n",
       "      <td>AOTU008_L</td>\n",
       "    </tr>\n",
       "    <tr>\n",
       "      <th>21746</th>\n",
       "      <td>212467981</td>\n",
       "      <td>531863</td>\n",
       "      <td>AOTU(L)</td>\n",
       "      <td>56</td>\n",
       "      <td>LC10d</td>\n",
       "      <td>LC10d_L</td>\n",
       "      <td>AOTU012</td>\n",
       "      <td>AOTU012_L</td>\n",
       "    </tr>\n",
       "    <tr>\n",
       "      <th>21747</th>\n",
       "      <td>212467981</td>\n",
       "      <td>555278</td>\n",
       "      <td>AOTU(L)</td>\n",
       "      <td>3</td>\n",
       "      <td>LC10d</td>\n",
       "      <td>LC10d_L</td>\n",
       "      <td>AOTU008</td>\n",
       "      <td>AOTU008_L</td>\n",
       "    </tr>\n",
       "  </tbody>\n",
       "</table>\n",
       "<p>21748 rows × 8 columns</p>\n",
       "</div>"
      ],
      "text/plain": [
       "       bodyId_pre  bodyId_post      roi  weight type_pre instance_pre  \\\n",
       "0           10573        10070  AOTU(L)     145    LC10a      LC10a_L   \n",
       "1           10573        10148  AOTU(L)      51    LC10a      LC10a_L   \n",
       "2           10573        10219  AOTU(L)      78    LC10a      LC10a_L   \n",
       "3           10573        10502  AOTU(L)      30    LC10a      LC10a_L   \n",
       "4           10573        11370  AOTU(L)      49    LC10a      LC10a_L   \n",
       "...           ...          ...      ...     ...      ...          ...   \n",
       "21743   212467981       518657  AOTU(L)       5    LC10d      LC10d_L   \n",
       "21744   212467981       520903  AOTU(L)      13    LC10d      LC10d_L   \n",
       "21745   212467981       520905  AOTU(L)      14    LC10d      LC10d_L   \n",
       "21746   212467981       531863  AOTU(L)      56    LC10d      LC10d_L   \n",
       "21747   212467981       555278  AOTU(L)       3    LC10d      LC10d_L   \n",
       "\n",
       "       type_post instance_post  \n",
       "0        AOTU019     AOTU019_L  \n",
       "1        AOTU041     AOTU041_L  \n",
       "2        AOTU023     AOTU023_L  \n",
       "3        AOTU041     AOTU041_L  \n",
       "4      AOTU063_b   AOTU063_b_L  \n",
       "...          ...           ...  \n",
       "21743    AOTU008     AOTU008_L  \n",
       "21744  AOTU002_b   AOTU002_b_L  \n",
       "21745    AOTU008     AOTU008_L  \n",
       "21746    AOTU012     AOTU012_L  \n",
       "21747    AOTU008     AOTU008_L  \n",
       "\n",
       "[21748 rows x 8 columns]"
      ]
     },
     "execution_count": 131,
     "metadata": {},
     "output_type": "execute_result"
    }
   ],
   "source": [
    "conn_LC10_AOTU_df"
   ]
  },
  {
   "cell_type": "code",
   "execution_count": 132,
   "metadata": {},
   "outputs": [],
   "source": [
    "# Group by type combinations and sum the weights\n",
    "conn_LC10_AOTU_df_type = conn_LC10_AOTU_df.groupby(['type_pre','type_post'])['weight'].sum().reset_index()"
   ]
  },
  {
   "cell_type": "code",
   "execution_count": 133,
   "metadata": {},
   "outputs": [
    {
     "data": {
      "text/html": [
       "<div>\n",
       "<style scoped>\n",
       "    .dataframe tbody tr th:only-of-type {\n",
       "        vertical-align: middle;\n",
       "    }\n",
       "\n",
       "    .dataframe tbody tr th {\n",
       "        vertical-align: top;\n",
       "    }\n",
       "\n",
       "    .dataframe thead th {\n",
       "        text-align: right;\n",
       "    }\n",
       "</style>\n",
       "<table border=\"1\" class=\"dataframe\">\n",
       "  <thead>\n",
       "    <tr style=\"text-align: right;\">\n",
       "      <th></th>\n",
       "      <th>type_pre</th>\n",
       "      <th>type_post</th>\n",
       "      <th>weight</th>\n",
       "    </tr>\n",
       "  </thead>\n",
       "  <tbody>\n",
       "    <tr>\n",
       "      <th>0</th>\n",
       "      <td>LC10_unclear</td>\n",
       "      <td>AOTU001</td>\n",
       "      <td>103</td>\n",
       "    </tr>\n",
       "    <tr>\n",
       "      <th>1</th>\n",
       "      <td>LC10_unclear</td>\n",
       "      <td>AOTU002_a</td>\n",
       "      <td>228</td>\n",
       "    </tr>\n",
       "    <tr>\n",
       "      <th>2</th>\n",
       "      <td>LC10_unclear</td>\n",
       "      <td>AOTU002_b</td>\n",
       "      <td>3</td>\n",
       "    </tr>\n",
       "    <tr>\n",
       "      <th>3</th>\n",
       "      <td>LC10_unclear</td>\n",
       "      <td>AOTU002_c</td>\n",
       "      <td>40</td>\n",
       "    </tr>\n",
       "    <tr>\n",
       "      <th>4</th>\n",
       "      <td>LC10_unclear</td>\n",
       "      <td>AOTU013</td>\n",
       "      <td>9</td>\n",
       "    </tr>\n",
       "    <tr>\n",
       "      <th>...</th>\n",
       "      <td>...</td>\n",
       "      <td>...</td>\n",
       "      <td>...</td>\n",
       "    </tr>\n",
       "    <tr>\n",
       "      <th>292</th>\n",
       "      <td>LC10e</td>\n",
       "      <td>AOTU056</td>\n",
       "      <td>48</td>\n",
       "    </tr>\n",
       "    <tr>\n",
       "      <th>293</th>\n",
       "      <td>LC10e</td>\n",
       "      <td>AOTU058</td>\n",
       "      <td>3</td>\n",
       "    </tr>\n",
       "    <tr>\n",
       "      <th>294</th>\n",
       "      <td>LC10e</td>\n",
       "      <td>AOTU060</td>\n",
       "      <td>7</td>\n",
       "    </tr>\n",
       "    <tr>\n",
       "      <th>295</th>\n",
       "      <td>LC10e</td>\n",
       "      <td>AOTU063_a</td>\n",
       "      <td>144</td>\n",
       "    </tr>\n",
       "    <tr>\n",
       "      <th>296</th>\n",
       "      <td>LC10e</td>\n",
       "      <td>AOTU063_b</td>\n",
       "      <td>120</td>\n",
       "    </tr>\n",
       "  </tbody>\n",
       "</table>\n",
       "<p>297 rows × 3 columns</p>\n",
       "</div>"
      ],
      "text/plain": [
       "         type_pre  type_post  weight\n",
       "0    LC10_unclear    AOTU001     103\n",
       "1    LC10_unclear  AOTU002_a     228\n",
       "2    LC10_unclear  AOTU002_b       3\n",
       "3    LC10_unclear  AOTU002_c      40\n",
       "4    LC10_unclear    AOTU013       9\n",
       "..            ...        ...     ...\n",
       "292         LC10e    AOTU056      48\n",
       "293         LC10e    AOTU058       3\n",
       "294         LC10e    AOTU060       7\n",
       "295         LC10e  AOTU063_a     144\n",
       "296         LC10e  AOTU063_b     120\n",
       "\n",
       "[297 rows x 3 columns]"
      ]
     },
     "execution_count": 133,
     "metadata": {},
     "output_type": "execute_result"
    }
   ],
   "source": [
    "conn_LC10_AOTU_df_type"
   ]
  },
  {
   "cell_type": "code",
   "execution_count": 134,
   "metadata": {},
   "outputs": [],
   "source": [
    "# Pivot to create matrix form of the connection weights\n",
    "matrix_df = conn_LC10_AOTU_df_type.pivot_table(index='type_pre', columns='type_post', values='weight', aggfunc='sum', fill_value=0)\n",
    "# Normalize each column (post-synaptic type) by its total input\n",
    "norm_matrix_df = matrix_df.div(matrix_df.sum(axis=0), axis=1)"
   ]
  },
  {
   "cell_type": "code",
   "execution_count": 135,
   "metadata": {},
   "outputs": [],
   "source": [
    "\n",
    "conn_LC10_AOTU_df_type_sort = conn_LC10_AOTU_df_type.sort_values(by='weight', ascending=False)"
   ]
  },
  {
   "cell_type": "code",
   "execution_count": 136,
   "metadata": {},
   "outputs": [],
   "source": [
    "#filter for only strong connections\n",
    "conn_LC10_AOTU_df_type_top = conn_LC10_AOTU_df_type_sort[conn_LC10_AOTU_df_type_sort['weight']>300]"
   ]
  },
  {
   "cell_type": "code",
   "execution_count": 138,
   "metadata": {},
   "outputs": [
    {
     "data": {
      "image/png": "[encoded data removed]",
      "text/plain": [
       "<Figure size 1000x1200 with 2 Axes>"
      ]
     },
     "metadata": {},
     "output_type": "display_data"
    },
    {
     "data": {
      "image/png": "[encoded data removed]",
      "text/plain": [
       "<Figure size 1000x1200 with 2 Axes>"
      ]
     },
     "metadata": {},
     "output_type": "display_data"
    }
   ],
   "source": [
    "# Pivot the DataFrame to a matrix format\n",
    "# matrix_df = conn_AOTU_df_type_top.pivot_table(index='type_pre', columns='type_post', values='weight', aggfunc='sum', fill_value=0)\n",
    "\n",
    "# Create the heatmap\n",
    "plt.figure(figsize=(10, 12))\n",
    "ax = sb.heatmap(norm_matrix_df, cmap='Reds', annot=False, linewidths=0.5)\n",
    "\n",
    "# Labeling\n",
    "# Title and axis labels\n",
    "ax.set_title('Normalized Connection Weights: type_pre → type_post')\n",
    "ax.set_xlabel('type_post')\n",
    "ax.set_ylabel('type_pre')\n",
    "\n",
    "# Force all y-ticks to be shown\n",
    "ax.set_yticks(range(len(norm_matrix_df.index)))\n",
    "ax.set_yticklabels(norm_matrix_df.index, rotation=0, fontsize=7)\n",
    "\n",
    "# Also ensure all x-ticks are shown if needed\n",
    "ax.set_xticks(range(len(norm_matrix_df.columns)))\n",
    "ax.set_xticklabels(norm_matrix_df.columns, rotation=90, fontsize=7)\n",
    "\n",
    "plt.tight_layout()\n",
    "plt.show()\n",
    "\n",
    "# Not Normalized \n",
    "# Create the heatmap\n",
    "plt.figure(figsize=(10, 12))\n",
    "ax = sb.heatmap(matrix_df, cmap='Reds', annot=False, linewidths=0.5)\n",
    "\n",
    "# Labeling\n",
    "# Title and axis labels\n",
    "ax.set_title('Connection Weights: type_pre → type_post')\n",
    "ax.set_xlabel('type_post')\n",
    "ax.set_ylabel('type_pre')\n",
    "\n",
    "# Force all y-ticks to be shown\n",
    "ax.set_yticks(range(len(matrix_df.index)))\n",
    "ax.set_yticklabels(matrix_df.index, rotation=0, fontsize=7)\n",
    "\n",
    "# Also ensure all x-ticks are shown if needed\n",
    "ax.set_xticks(range(len(matrix_df.columns)))\n",
    "ax.set_xticklabels(matrix_df.columns, rotation=90, fontsize=7)\n",
    "\n",
    "plt.tight_layout()\n",
    "plt.show()\n",
    "\n",
    "\n"
   ]
  },
  {
   "cell_type": "markdown",
   "metadata": {},
   "source": [
    "### LC10 inputs for AOTU041/AOTU016_b, \n",
    "### Change name accordingly"
   ]
  },
  {
   "cell_type": "code",
   "execution_count": 77,
   "metadata": {},
   "outputs": [],
   "source": [
    "#  Define pre- and post-synaptic cell types\n",
    "celltypes_pre = LC10_celltypes\n",
    "celltypes_post = 'AOTU016_b'\n",
    "#  Set connection weight threshold\n",
    "threshold = 3\n",
    "# Fetch synaptic connectivity between these types\n",
    "neu_df, conn_df = fetch_adjacencies(celltypes_pre, celltypes_post, min_roi_weight=threshold)\n",
    "# Merge with neuron properties to get types on both sides\n",
    "conn_LC10_AOTU016_b_df = merge_neuron_properties(neu_df, conn_df)\n",
    "\n",
    "\n"
   ]
  },
  {
   "cell_type": "code",
   "execution_count": 78,
   "metadata": {},
   "outputs": [
    {
     "data": {
      "text/html": [
       "<div>\n",
       "<style scoped>\n",
       "    .dataframe tbody tr th:only-of-type {\n",
       "        vertical-align: middle;\n",
       "    }\n",
       "\n",
       "    .dataframe tbody tr th {\n",
       "        vertical-align: top;\n",
       "    }\n",
       "\n",
       "    .dataframe thead th {\n",
       "        text-align: right;\n",
       "    }\n",
       "</style>\n",
       "<table border=\"1\" class=\"dataframe\">\n",
       "  <thead>\n",
       "    <tr style=\"text-align: right;\">\n",
       "      <th></th>\n",
       "      <th>bodyId_pre</th>\n",
       "      <th>bodyId_post</th>\n",
       "      <th>roi</th>\n",
       "      <th>weight</th>\n",
       "      <th>type_pre</th>\n",
       "      <th>instance_pre</th>\n",
       "      <th>type_post</th>\n",
       "      <th>instance_post</th>\n",
       "    </tr>\n",
       "  </thead>\n",
       "  <tbody>\n",
       "    <tr>\n",
       "      <th>0</th>\n",
       "      <td>10573</td>\n",
       "      <td>23775</td>\n",
       "      <td>AOTU(L)</td>\n",
       "      <td>40</td>\n",
       "      <td>LC10a</td>\n",
       "      <td>LC10a_L</td>\n",
       "      <td>AOTU016_b</td>\n",
       "      <td>AOTU016_b_L</td>\n",
       "    </tr>\n",
       "    <tr>\n",
       "      <th>1</th>\n",
       "      <td>10573</td>\n",
       "      <td>25830</td>\n",
       "      <td>AOTU(L)</td>\n",
       "      <td>10</td>\n",
       "      <td>LC10a</td>\n",
       "      <td>LC10a_L</td>\n",
       "      <td>AOTU016_b</td>\n",
       "      <td>AOTU016_b_L</td>\n",
       "    </tr>\n",
       "    <tr>\n",
       "      <th>2</th>\n",
       "      <td>10573</td>\n",
       "      <td>46259</td>\n",
       "      <td>AOTU(L)</td>\n",
       "      <td>8</td>\n",
       "      <td>LC10a</td>\n",
       "      <td>LC10a_L</td>\n",
       "      <td>AOTU016_b</td>\n",
       "      <td>AOTU016_b_L</td>\n",
       "    </tr>\n",
       "    <tr>\n",
       "      <th>3</th>\n",
       "      <td>10573</td>\n",
       "      <td>98923</td>\n",
       "      <td>AOTU(L)</td>\n",
       "      <td>3</td>\n",
       "      <td>LC10a</td>\n",
       "      <td>LC10a_L</td>\n",
       "      <td>AOTU016_b</td>\n",
       "      <td>AOTU016_b_L</td>\n",
       "    </tr>\n",
       "    <tr>\n",
       "      <th>4</th>\n",
       "      <td>12130</td>\n",
       "      <td>23775</td>\n",
       "      <td>AOTU(L)</td>\n",
       "      <td>6</td>\n",
       "      <td>LC10a</td>\n",
       "      <td>LC10a_L</td>\n",
       "      <td>AOTU016_b</td>\n",
       "      <td>AOTU016_b_L</td>\n",
       "    </tr>\n",
       "    <tr>\n",
       "      <th>...</th>\n",
       "      <td>...</td>\n",
       "      <td>...</td>\n",
       "      <td>...</td>\n",
       "      <td>...</td>\n",
       "      <td>...</td>\n",
       "      <td>...</td>\n",
       "      <td>...</td>\n",
       "      <td>...</td>\n",
       "    </tr>\n",
       "    <tr>\n",
       "      <th>801</th>\n",
       "      <td>575597</td>\n",
       "      <td>46259</td>\n",
       "      <td>AOTU(L)</td>\n",
       "      <td>6</td>\n",
       "      <td>LC10a</td>\n",
       "      <td>LC10a_L</td>\n",
       "      <td>AOTU016_b</td>\n",
       "      <td>AOTU016_b_L</td>\n",
       "    </tr>\n",
       "    <tr>\n",
       "      <th>802</th>\n",
       "      <td>575597</td>\n",
       "      <td>98923</td>\n",
       "      <td>AOTU(L)</td>\n",
       "      <td>40</td>\n",
       "      <td>LC10a</td>\n",
       "      <td>LC10a_L</td>\n",
       "      <td>AOTU016_b</td>\n",
       "      <td>AOTU016_b_L</td>\n",
       "    </tr>\n",
       "    <tr>\n",
       "      <th>803</th>\n",
       "      <td>212467981</td>\n",
       "      <td>25830</td>\n",
       "      <td>AOTU(L)</td>\n",
       "      <td>14</td>\n",
       "      <td>LC10d</td>\n",
       "      <td>LC10d_L</td>\n",
       "      <td>AOTU016_b</td>\n",
       "      <td>AOTU016_b_L</td>\n",
       "    </tr>\n",
       "    <tr>\n",
       "      <th>804</th>\n",
       "      <td>212467981</td>\n",
       "      <td>46259</td>\n",
       "      <td>AOTU(L)</td>\n",
       "      <td>8</td>\n",
       "      <td>LC10d</td>\n",
       "      <td>LC10d_L</td>\n",
       "      <td>AOTU016_b</td>\n",
       "      <td>AOTU016_b_L</td>\n",
       "    </tr>\n",
       "    <tr>\n",
       "      <th>805</th>\n",
       "      <td>212467981</td>\n",
       "      <td>98923</td>\n",
       "      <td>AOTU(L)</td>\n",
       "      <td>4</td>\n",
       "      <td>LC10d</td>\n",
       "      <td>LC10d_L</td>\n",
       "      <td>AOTU016_b</td>\n",
       "      <td>AOTU016_b_L</td>\n",
       "    </tr>\n",
       "  </tbody>\n",
       "</table>\n",
       "<p>806 rows × 8 columns</p>\n",
       "</div>"
      ],
      "text/plain": [
       "     bodyId_pre  bodyId_post      roi  weight type_pre instance_pre  \\\n",
       "0         10573        23775  AOTU(L)      40    LC10a      LC10a_L   \n",
       "1         10573        25830  AOTU(L)      10    LC10a      LC10a_L   \n",
       "2         10573        46259  AOTU(L)       8    LC10a      LC10a_L   \n",
       "3         10573        98923  AOTU(L)       3    LC10a      LC10a_L   \n",
       "4         12130        23775  AOTU(L)       6    LC10a      LC10a_L   \n",
       "..          ...          ...      ...     ...      ...          ...   \n",
       "801      575597        46259  AOTU(L)       6    LC10a      LC10a_L   \n",
       "802      575597        98923  AOTU(L)      40    LC10a      LC10a_L   \n",
       "803   212467981        25830  AOTU(L)      14    LC10d      LC10d_L   \n",
       "804   212467981        46259  AOTU(L)       8    LC10d      LC10d_L   \n",
       "805   212467981        98923  AOTU(L)       4    LC10d      LC10d_L   \n",
       "\n",
       "     type_post instance_post  \n",
       "0    AOTU016_b   AOTU016_b_L  \n",
       "1    AOTU016_b   AOTU016_b_L  \n",
       "2    AOTU016_b   AOTU016_b_L  \n",
       "3    AOTU016_b   AOTU016_b_L  \n",
       "4    AOTU016_b   AOTU016_b_L  \n",
       "..         ...           ...  \n",
       "801  AOTU016_b   AOTU016_b_L  \n",
       "802  AOTU016_b   AOTU016_b_L  \n",
       "803  AOTU016_b   AOTU016_b_L  \n",
       "804  AOTU016_b   AOTU016_b_L  \n",
       "805  AOTU016_b   AOTU016_b_L  \n",
       "\n",
       "[806 rows x 8 columns]"
      ]
     },
     "execution_count": 78,
     "metadata": {},
     "output_type": "execute_result"
    }
   ],
   "source": [
    "conn_LC10_AOTU016_b_df"
   ]
  },
  {
   "cell_type": "code",
   "execution_count": 79,
   "metadata": {},
   "outputs": [],
   "source": [
    "# Group by type combinations and sum the weights\n",
    "conn_LC10_AOTU016_b_df_type = conn_LC10_AOTU016_b_df.groupby(['type_pre','type_post'])['weight'].sum().reset_index()"
   ]
  },
  {
   "cell_type": "code",
   "execution_count": 80,
   "metadata": {},
   "outputs": [
    {
     "data": {
      "text/html": [
       "<div>\n",
       "<style scoped>\n",
       "    .dataframe tbody tr th:only-of-type {\n",
       "        vertical-align: middle;\n",
       "    }\n",
       "\n",
       "    .dataframe tbody tr th {\n",
       "        vertical-align: top;\n",
       "    }\n",
       "\n",
       "    .dataframe thead th {\n",
       "        text-align: right;\n",
       "    }\n",
       "</style>\n",
       "<table border=\"1\" class=\"dataframe\">\n",
       "  <thead>\n",
       "    <tr style=\"text-align: right;\">\n",
       "      <th></th>\n",
       "      <th>type_pre</th>\n",
       "      <th>type_post</th>\n",
       "      <th>weight</th>\n",
       "    </tr>\n",
       "  </thead>\n",
       "  <tbody>\n",
       "    <tr>\n",
       "      <th>0</th>\n",
       "      <td>LC10_unclear</td>\n",
       "      <td>AOTU016_b</td>\n",
       "      <td>105</td>\n",
       "    </tr>\n",
       "    <tr>\n",
       "      <th>1</th>\n",
       "      <td>LC10a</td>\n",
       "      <td>AOTU016_b</td>\n",
       "      <td>8073</td>\n",
       "    </tr>\n",
       "    <tr>\n",
       "      <th>2</th>\n",
       "      <td>LC10c-1</td>\n",
       "      <td>AOTU016_b</td>\n",
       "      <td>801</td>\n",
       "    </tr>\n",
       "    <tr>\n",
       "      <th>3</th>\n",
       "      <td>LC10c-2</td>\n",
       "      <td>AOTU016_b</td>\n",
       "      <td>946</td>\n",
       "    </tr>\n",
       "    <tr>\n",
       "      <th>4</th>\n",
       "      <td>LC10d</td>\n",
       "      <td>AOTU016_b</td>\n",
       "      <td>4782</td>\n",
       "    </tr>\n",
       "    <tr>\n",
       "      <th>5</th>\n",
       "      <td>LC10e</td>\n",
       "      <td>AOTU016_b</td>\n",
       "      <td>162</td>\n",
       "    </tr>\n",
       "  </tbody>\n",
       "</table>\n",
       "</div>"
      ],
      "text/plain": [
       "       type_pre  type_post  weight\n",
       "0  LC10_unclear  AOTU016_b     105\n",
       "1         LC10a  AOTU016_b    8073\n",
       "2       LC10c-1  AOTU016_b     801\n",
       "3       LC10c-2  AOTU016_b     946\n",
       "4         LC10d  AOTU016_b    4782\n",
       "5         LC10e  AOTU016_b     162"
      ]
     },
     "execution_count": 80,
     "metadata": {},
     "output_type": "execute_result"
    }
   ],
   "source": [
    "conn_LC10_AOTU016_b_df_type"
   ]
  },
  {
   "cell_type": "code",
   "execution_count": 81,
   "metadata": {},
   "outputs": [],
   "source": [
    "# Pivot to create matrix form of the connection weights\n",
    "matrix_df = conn_LC10_AOTU016_b_df_type.pivot_table(index='type_pre', columns='type_post', values='weight', aggfunc='sum', fill_value=0)\n",
    "# Normalize each column (post-synaptic type) by its total input\n",
    "norm_matrix_df = matrix_df.div(matrix_df.sum(axis=0), axis=1)\n",
    "\n",
    "conn_LC10_AOTU016_b_df_type_sort = conn_LC10_AOTU016_b_df_type.sort_values(by='weight', ascending=False)\n",
    "\n",
    "#filter for only strong connections\n",
    "conn_LC10_AOTU016_b_df_type_top = conn_LC10_AOTU016_b_df_type_sort[conn_LC10_AOTU016_b_df_type_sort['weight']>300]\n",
    "\n"
   ]
  },
  {
   "cell_type": "code",
   "execution_count": 82,
   "metadata": {},
   "outputs": [
    {
     "data": {
      "image/png": "[encoded data removed]",
      "text/plain": [
       "<Figure size 200x500 with 2 Axes>"
      ]
     },
     "metadata": {},
     "output_type": "display_data"
    }
   ],
   "source": [
    "# Pivot the DataFrame to a matrix format\n",
    "# matrix_df = conn_AOTU_df_type_top.pivot_table(index='type_pre', columns='type_post', values='weight', aggfunc='sum', fill_value=0)\n",
    "\n",
    "# Create the heatmap\n",
    "plt.figure(figsize=(2, 5))\n",
    "ax = sb.heatmap(norm_matrix_df, cmap='Reds', annot=False, linewidths=0.5)\n",
    "\n",
    "# Labeling\n",
    "# Title and axis labels\n",
    "ax.set_title('Connection Weights: type_pre → type_post')\n",
    "ax.set_xlabel('type_post')\n",
    "ax.set_ylabel('type_pre')\n",
    "\n",
    "# Force all y-ticks to be shown\n",
    "ax.set_yticks(range(len(norm_matrix_df.index)))\n",
    "ax.set_yticklabels(norm_matrix_df.index, rotation=0, fontsize=7)\n",
    "\n",
    "# Also ensure all x-ticks are shown if needed\n",
    "ax.set_xticks(range(len(norm_matrix_df.columns)))\n",
    "ax.set_xticklabels(norm_matrix_df.columns, rotation=90, fontsize=7)\n",
    "\n",
    "plt.tight_layout()\n",
    "plt.show()"
   ]
  },
  {
   "cell_type": "markdown",
   "metadata": {},
   "source": [
    "### Intra-LC10 connectivity"
   ]
  },
  {
   "cell_type": "code",
   "execution_count": 35,
   "metadata": {},
   "outputs": [
    {
     "data": {
      "application/vnd.jupyter.widget-view+json": {
       "model_id": "831bf83cb83041e782f7845b46e752a2",
       "version_major": 2,
       "version_minor": 0
      },
      "text/plain": [
       "  0%|          | 0/5 [00:00<?, ?it/s]"
      ]
     },
     "metadata": {},
     "output_type": "display_data"
    }
   ],
   "source": [
    "#  Define pre- and post-synaptic cell types\n",
    "celltypes_pre = LC10_celltypes\n",
    "celltypes_post = LC10_celltypes\n",
    "#  Set connection weight threshold\n",
    "threshold = 3\n",
    "# Fetch synaptic connectivity between these types\n",
    "neu_df, conn_df = fetch_adjacencies(celltypes_pre, celltypes_post, min_roi_weight=threshold)\n",
    "# Merge with neuron properties to get types on both sides\n",
    "conn_LC10_df = merge_neuron_properties(neu_df, conn_df)\n"
   ]
  },
  {
   "cell_type": "code",
   "execution_count": 37,
   "metadata": {},
   "outputs": [
    {
     "data": {
      "text/html": [
       "<div>\n",
       "<style scoped>\n",
       "    .dataframe tbody tr th:only-of-type {\n",
       "        vertical-align: middle;\n",
       "    }\n",
       "\n",
       "    .dataframe tbody tr th {\n",
       "        vertical-align: top;\n",
       "    }\n",
       "\n",
       "    .dataframe thead th {\n",
       "        text-align: right;\n",
       "    }\n",
       "</style>\n",
       "<table border=\"1\" class=\"dataframe\">\n",
       "  <thead>\n",
       "    <tr style=\"text-align: right;\">\n",
       "      <th></th>\n",
       "      <th>bodyId_pre</th>\n",
       "      <th>bodyId_post</th>\n",
       "      <th>roi</th>\n",
       "      <th>weight</th>\n",
       "      <th>type_pre</th>\n",
       "      <th>instance_pre</th>\n",
       "      <th>type_post</th>\n",
       "      <th>instance_post</th>\n",
       "    </tr>\n",
       "  </thead>\n",
       "  <tbody>\n",
       "    <tr>\n",
       "      <th>0</th>\n",
       "      <td>10573</td>\n",
       "      <td>12130</td>\n",
       "      <td>AOTU(L)</td>\n",
       "      <td>4</td>\n",
       "      <td>LC10a</td>\n",
       "      <td>LC10a_L</td>\n",
       "      <td>LC10a</td>\n",
       "      <td>LC10a_L</td>\n",
       "    </tr>\n",
       "    <tr>\n",
       "      <th>1</th>\n",
       "      <td>10573</td>\n",
       "      <td>13697</td>\n",
       "      <td>AOTU(L)</td>\n",
       "      <td>3</td>\n",
       "      <td>LC10a</td>\n",
       "      <td>LC10a_L</td>\n",
       "      <td>LC10a</td>\n",
       "      <td>LC10a_L</td>\n",
       "    </tr>\n",
       "    <tr>\n",
       "      <th>2</th>\n",
       "      <td>10573</td>\n",
       "      <td>15181</td>\n",
       "      <td>AOTU(L)</td>\n",
       "      <td>3</td>\n",
       "      <td>LC10a</td>\n",
       "      <td>LC10a_L</td>\n",
       "      <td>LC10d</td>\n",
       "      <td>LC10d_L</td>\n",
       "    </tr>\n",
       "    <tr>\n",
       "      <th>3</th>\n",
       "      <td>10573</td>\n",
       "      <td>17693</td>\n",
       "      <td>AOTU(L)</td>\n",
       "      <td>3</td>\n",
       "      <td>LC10a</td>\n",
       "      <td>LC10a_L</td>\n",
       "      <td>LC10c-1</td>\n",
       "      <td>LC10c-1_L</td>\n",
       "    </tr>\n",
       "    <tr>\n",
       "      <th>4</th>\n",
       "      <td>10573</td>\n",
       "      <td>21744</td>\n",
       "      <td>AOTU(L)</td>\n",
       "      <td>3</td>\n",
       "      <td>LC10a</td>\n",
       "      <td>LC10a_L</td>\n",
       "      <td>LC10a</td>\n",
       "      <td>LC10a_L</td>\n",
       "    </tr>\n",
       "    <tr>\n",
       "      <th>...</th>\n",
       "      <td>...</td>\n",
       "      <td>...</td>\n",
       "      <td>...</td>\n",
       "      <td>...</td>\n",
       "      <td>...</td>\n",
       "      <td>...</td>\n",
       "      <td>...</td>\n",
       "      <td>...</td>\n",
       "    </tr>\n",
       "    <tr>\n",
       "      <th>14597</th>\n",
       "      <td>212467981</td>\n",
       "      <td>14980</td>\n",
       "      <td>AOTU(L)</td>\n",
       "      <td>3</td>\n",
       "      <td>LC10d</td>\n",
       "      <td>LC10d_L</td>\n",
       "      <td>LC10a</td>\n",
       "      <td>LC10a_L</td>\n",
       "    </tr>\n",
       "    <tr>\n",
       "      <th>14598</th>\n",
       "      <td>212467981</td>\n",
       "      <td>14980</td>\n",
       "      <td>Optic-unspecified(L)</td>\n",
       "      <td>3</td>\n",
       "      <td>LC10d</td>\n",
       "      <td>LC10d_L</td>\n",
       "      <td>LC10a</td>\n",
       "      <td>LC10a_L</td>\n",
       "    </tr>\n",
       "    <tr>\n",
       "      <th>14599</th>\n",
       "      <td>212467981</td>\n",
       "      <td>66760</td>\n",
       "      <td>AOTU(L)</td>\n",
       "      <td>5</td>\n",
       "      <td>LC10d</td>\n",
       "      <td>LC10d_L</td>\n",
       "      <td>LC10e</td>\n",
       "      <td>LC10e_L</td>\n",
       "    </tr>\n",
       "    <tr>\n",
       "      <th>14600</th>\n",
       "      <td>212467981</td>\n",
       "      <td>150060</td>\n",
       "      <td>AOTU(L)</td>\n",
       "      <td>9</td>\n",
       "      <td>LC10d</td>\n",
       "      <td>LC10d_L</td>\n",
       "      <td>LC10d</td>\n",
       "      <td>LC10d_L</td>\n",
       "    </tr>\n",
       "    <tr>\n",
       "      <th>14601</th>\n",
       "      <td>212467981</td>\n",
       "      <td>515085</td>\n",
       "      <td>AOTU(L)</td>\n",
       "      <td>3</td>\n",
       "      <td>LC10d</td>\n",
       "      <td>LC10d_L</td>\n",
       "      <td>LC10c-2</td>\n",
       "      <td>LC10c-2_L</td>\n",
       "    </tr>\n",
       "  </tbody>\n",
       "</table>\n",
       "<p>14602 rows × 8 columns</p>\n",
       "</div>"
      ],
      "text/plain": [
       "       bodyId_pre  bodyId_post                   roi  weight type_pre  \\\n",
       "0           10573        12130               AOTU(L)       4    LC10a   \n",
       "1           10573        13697               AOTU(L)       3    LC10a   \n",
       "2           10573        15181               AOTU(L)       3    LC10a   \n",
       "3           10573        17693               AOTU(L)       3    LC10a   \n",
       "4           10573        21744               AOTU(L)       3    LC10a   \n",
       "...           ...          ...                   ...     ...      ...   \n",
       "14597   212467981        14980               AOTU(L)       3    LC10d   \n",
       "14598   212467981        14980  Optic-unspecified(L)       3    LC10d   \n",
       "14599   212467981        66760               AOTU(L)       5    LC10d   \n",
       "14600   212467981       150060               AOTU(L)       9    LC10d   \n",
       "14601   212467981       515085               AOTU(L)       3    LC10d   \n",
       "\n",
       "      instance_pre type_post instance_post  \n",
       "0          LC10a_L     LC10a       LC10a_L  \n",
       "1          LC10a_L     LC10a       LC10a_L  \n",
       "2          LC10a_L     LC10d       LC10d_L  \n",
       "3          LC10a_L   LC10c-1     LC10c-1_L  \n",
       "4          LC10a_L     LC10a       LC10a_L  \n",
       "...            ...       ...           ...  \n",
       "14597      LC10d_L     LC10a       LC10a_L  \n",
       "14598      LC10d_L     LC10a       LC10a_L  \n",
       "14599      LC10d_L     LC10e       LC10e_L  \n",
       "14600      LC10d_L     LC10d       LC10d_L  \n",
       "14601      LC10d_L   LC10c-2     LC10c-2_L  \n",
       "\n",
       "[14602 rows x 8 columns]"
      ]
     },
     "execution_count": 37,
     "metadata": {},
     "output_type": "execute_result"
    }
   ],
   "source": [
    "conn_LC10_df"
   ]
  },
  {
   "cell_type": "code",
   "execution_count": 38,
   "metadata": {},
   "outputs": [],
   "source": [
    "# Group by type combinations and sum the weights\n",
    "conn_LC10_df_type = conn_LC10_df.groupby(['type_pre','type_post'])['weight'].sum().reset_index()"
   ]
  },
  {
   "cell_type": "code",
   "execution_count": 39,
   "metadata": {},
   "outputs": [
    {
     "data": {
      "text/html": [
       "<div>\n",
       "<style scoped>\n",
       "    .dataframe tbody tr th:only-of-type {\n",
       "        vertical-align: middle;\n",
       "    }\n",
       "\n",
       "    .dataframe tbody tr th {\n",
       "        vertical-align: top;\n",
       "    }\n",
       "\n",
       "    .dataframe thead th {\n",
       "        text-align: right;\n",
       "    }\n",
       "</style>\n",
       "<table border=\"1\" class=\"dataframe\">\n",
       "  <thead>\n",
       "    <tr style=\"text-align: right;\">\n",
       "      <th></th>\n",
       "      <th>type_pre</th>\n",
       "      <th>type_post</th>\n",
       "      <th>weight</th>\n",
       "    </tr>\n",
       "  </thead>\n",
       "  <tbody>\n",
       "    <tr>\n",
       "      <th>0</th>\n",
       "      <td>LC10_unclear</td>\n",
       "      <td>LC10_unclear</td>\n",
       "      <td>37</td>\n",
       "    </tr>\n",
       "    <tr>\n",
       "      <th>1</th>\n",
       "      <td>LC10_unclear</td>\n",
       "      <td>LC10a</td>\n",
       "      <td>482</td>\n",
       "    </tr>\n",
       "    <tr>\n",
       "      <th>2</th>\n",
       "      <td>LC10_unclear</td>\n",
       "      <td>LC10c-1</td>\n",
       "      <td>10</td>\n",
       "    </tr>\n",
       "    <tr>\n",
       "      <th>3</th>\n",
       "      <td>LC10_unclear</td>\n",
       "      <td>LC10d</td>\n",
       "      <td>233</td>\n",
       "    </tr>\n",
       "    <tr>\n",
       "      <th>4</th>\n",
       "      <td>LC10a</td>\n",
       "      <td>LC10_unclear</td>\n",
       "      <td>301</td>\n",
       "    </tr>\n",
       "    <tr>\n",
       "      <th>5</th>\n",
       "      <td>LC10a</td>\n",
       "      <td>LC10a</td>\n",
       "      <td>20528</td>\n",
       "    </tr>\n",
       "    <tr>\n",
       "      <th>6</th>\n",
       "      <td>LC10a</td>\n",
       "      <td>LC10b</td>\n",
       "      <td>32</td>\n",
       "    </tr>\n",
       "    <tr>\n",
       "      <th>7</th>\n",
       "      <td>LC10a</td>\n",
       "      <td>LC10c-1</td>\n",
       "      <td>1209</td>\n",
       "    </tr>\n",
       "    <tr>\n",
       "      <th>8</th>\n",
       "      <td>LC10a</td>\n",
       "      <td>LC10c-2</td>\n",
       "      <td>910</td>\n",
       "    </tr>\n",
       "    <tr>\n",
       "      <th>9</th>\n",
       "      <td>LC10a</td>\n",
       "      <td>LC10d</td>\n",
       "      <td>11000</td>\n",
       "    </tr>\n",
       "    <tr>\n",
       "      <th>10</th>\n",
       "      <td>LC10a</td>\n",
       "      <td>LC10e</td>\n",
       "      <td>331</td>\n",
       "    </tr>\n",
       "    <tr>\n",
       "      <th>11</th>\n",
       "      <td>LC10b</td>\n",
       "      <td>LC10a</td>\n",
       "      <td>61</td>\n",
       "    </tr>\n",
       "    <tr>\n",
       "      <th>12</th>\n",
       "      <td>LC10b</td>\n",
       "      <td>LC10b</td>\n",
       "      <td>831</td>\n",
       "    </tr>\n",
       "    <tr>\n",
       "      <th>13</th>\n",
       "      <td>LC10b</td>\n",
       "      <td>LC10c-1</td>\n",
       "      <td>7</td>\n",
       "    </tr>\n",
       "    <tr>\n",
       "      <th>14</th>\n",
       "      <td>LC10b</td>\n",
       "      <td>LC10d</td>\n",
       "      <td>61</td>\n",
       "    </tr>\n",
       "    <tr>\n",
       "      <th>15</th>\n",
       "      <td>LC10b</td>\n",
       "      <td>LC10e</td>\n",
       "      <td>3</td>\n",
       "    </tr>\n",
       "    <tr>\n",
       "      <th>16</th>\n",
       "      <td>LC10c-1</td>\n",
       "      <td>LC10_unclear</td>\n",
       "      <td>24</td>\n",
       "    </tr>\n",
       "    <tr>\n",
       "      <th>17</th>\n",
       "      <td>LC10c-1</td>\n",
       "      <td>LC10a</td>\n",
       "      <td>7433</td>\n",
       "    </tr>\n",
       "    <tr>\n",
       "      <th>18</th>\n",
       "      <td>LC10c-1</td>\n",
       "      <td>LC10b</td>\n",
       "      <td>59</td>\n",
       "    </tr>\n",
       "    <tr>\n",
       "      <th>19</th>\n",
       "      <td>LC10c-1</td>\n",
       "      <td>LC10c-1</td>\n",
       "      <td>1041</td>\n",
       "    </tr>\n",
       "    <tr>\n",
       "      <th>20</th>\n",
       "      <td>LC10c-1</td>\n",
       "      <td>LC10c-2</td>\n",
       "      <td>4480</td>\n",
       "    </tr>\n",
       "    <tr>\n",
       "      <th>21</th>\n",
       "      <td>LC10c-1</td>\n",
       "      <td>LC10d</td>\n",
       "      <td>7497</td>\n",
       "    </tr>\n",
       "    <tr>\n",
       "      <th>22</th>\n",
       "      <td>LC10c-1</td>\n",
       "      <td>LC10e</td>\n",
       "      <td>437</td>\n",
       "    </tr>\n",
       "    <tr>\n",
       "      <th>23</th>\n",
       "      <td>LC10c-2</td>\n",
       "      <td>LC10a</td>\n",
       "      <td>5590</td>\n",
       "    </tr>\n",
       "    <tr>\n",
       "      <th>24</th>\n",
       "      <td>LC10c-2</td>\n",
       "      <td>LC10b</td>\n",
       "      <td>114</td>\n",
       "    </tr>\n",
       "    <tr>\n",
       "      <th>25</th>\n",
       "      <td>LC10c-2</td>\n",
       "      <td>LC10c-1</td>\n",
       "      <td>666</td>\n",
       "    </tr>\n",
       "    <tr>\n",
       "      <th>26</th>\n",
       "      <td>LC10c-2</td>\n",
       "      <td>LC10c-2</td>\n",
       "      <td>3462</td>\n",
       "    </tr>\n",
       "    <tr>\n",
       "      <th>27</th>\n",
       "      <td>LC10c-2</td>\n",
       "      <td>LC10d</td>\n",
       "      <td>4786</td>\n",
       "    </tr>\n",
       "    <tr>\n",
       "      <th>28</th>\n",
       "      <td>LC10c-2</td>\n",
       "      <td>LC10e</td>\n",
       "      <td>41</td>\n",
       "    </tr>\n",
       "    <tr>\n",
       "      <th>29</th>\n",
       "      <td>LC10d</td>\n",
       "      <td>LC10_unclear</td>\n",
       "      <td>10</td>\n",
       "    </tr>\n",
       "    <tr>\n",
       "      <th>30</th>\n",
       "      <td>LC10d</td>\n",
       "      <td>LC10a</td>\n",
       "      <td>980</td>\n",
       "    </tr>\n",
       "    <tr>\n",
       "      <th>31</th>\n",
       "      <td>LC10d</td>\n",
       "      <td>LC10b</td>\n",
       "      <td>193</td>\n",
       "    </tr>\n",
       "    <tr>\n",
       "      <th>32</th>\n",
       "      <td>LC10d</td>\n",
       "      <td>LC10c-1</td>\n",
       "      <td>181</td>\n",
       "    </tr>\n",
       "    <tr>\n",
       "      <th>33</th>\n",
       "      <td>LC10d</td>\n",
       "      <td>LC10c-2</td>\n",
       "      <td>129</td>\n",
       "    </tr>\n",
       "    <tr>\n",
       "      <th>34</th>\n",
       "      <td>LC10d</td>\n",
       "      <td>LC10d</td>\n",
       "      <td>4048</td>\n",
       "    </tr>\n",
       "    <tr>\n",
       "      <th>35</th>\n",
       "      <td>LC10d</td>\n",
       "      <td>LC10e</td>\n",
       "      <td>837</td>\n",
       "    </tr>\n",
       "    <tr>\n",
       "      <th>36</th>\n",
       "      <td>LC10e</td>\n",
       "      <td>LC10_unclear</td>\n",
       "      <td>10</td>\n",
       "    </tr>\n",
       "    <tr>\n",
       "      <th>37</th>\n",
       "      <td>LC10e</td>\n",
       "      <td>LC10a</td>\n",
       "      <td>834</td>\n",
       "    </tr>\n",
       "    <tr>\n",
       "      <th>38</th>\n",
       "      <td>LC10e</td>\n",
       "      <td>LC10b</td>\n",
       "      <td>88</td>\n",
       "    </tr>\n",
       "    <tr>\n",
       "      <th>39</th>\n",
       "      <td>LC10e</td>\n",
       "      <td>LC10c-1</td>\n",
       "      <td>337</td>\n",
       "    </tr>\n",
       "    <tr>\n",
       "      <th>40</th>\n",
       "      <td>LC10e</td>\n",
       "      <td>LC10c-2</td>\n",
       "      <td>34</td>\n",
       "    </tr>\n",
       "    <tr>\n",
       "      <th>41</th>\n",
       "      <td>LC10e</td>\n",
       "      <td>LC10d</td>\n",
       "      <td>4236</td>\n",
       "    </tr>\n",
       "    <tr>\n",
       "      <th>42</th>\n",
       "      <td>LC10e</td>\n",
       "      <td>LC10e</td>\n",
       "      <td>17</td>\n",
       "    </tr>\n",
       "  </tbody>\n",
       "</table>\n",
       "</div>"
      ],
      "text/plain": [
       "        type_pre     type_post  weight\n",
       "0   LC10_unclear  LC10_unclear      37\n",
       "1   LC10_unclear         LC10a     482\n",
       "2   LC10_unclear       LC10c-1      10\n",
       "3   LC10_unclear         LC10d     233\n",
       "4          LC10a  LC10_unclear     301\n",
       "5          LC10a         LC10a   20528\n",
       "6          LC10a         LC10b      32\n",
       "7          LC10a       LC10c-1    1209\n",
       "8          LC10a       LC10c-2     910\n",
       "9          LC10a         LC10d   11000\n",
       "10         LC10a         LC10e     331\n",
       "11         LC10b         LC10a      61\n",
       "12         LC10b         LC10b     831\n",
       "13         LC10b       LC10c-1       7\n",
       "14         LC10b         LC10d      61\n",
       "15         LC10b         LC10e       3\n",
       "16       LC10c-1  LC10_unclear      24\n",
       "17       LC10c-1         LC10a    7433\n",
       "18       LC10c-1         LC10b      59\n",
       "19       LC10c-1       LC10c-1    1041\n",
       "20       LC10c-1       LC10c-2    4480\n",
       "21       LC10c-1         LC10d    7497\n",
       "22       LC10c-1         LC10e     437\n",
       "23       LC10c-2         LC10a    5590\n",
       "24       LC10c-2         LC10b     114\n",
       "25       LC10c-2       LC10c-1     666\n",
       "26       LC10c-2       LC10c-2    3462\n",
       "27       LC10c-2         LC10d    4786\n",
       "28       LC10c-2         LC10e      41\n",
       "29         LC10d  LC10_unclear      10\n",
       "30         LC10d         LC10a     980\n",
       "31         LC10d         LC10b     193\n",
       "32         LC10d       LC10c-1     181\n",
       "33         LC10d       LC10c-2     129\n",
       "34         LC10d         LC10d    4048\n",
       "35         LC10d         LC10e     837\n",
       "36         LC10e  LC10_unclear      10\n",
       "37         LC10e         LC10a     834\n",
       "38         LC10e         LC10b      88\n",
       "39         LC10e       LC10c-1     337\n",
       "40         LC10e       LC10c-2      34\n",
       "41         LC10e         LC10d    4236\n",
       "42         LC10e         LC10e      17"
      ]
     },
     "execution_count": 39,
     "metadata": {},
     "output_type": "execute_result"
    }
   ],
   "source": [
    "conn_LC10_df_type"
   ]
  },
  {
   "cell_type": "code",
   "execution_count": 40,
   "metadata": {},
   "outputs": [],
   "source": [
    "# Pivot to create matrix form of the connection weights\n",
    "matrix_df = conn_LC10_df_type.pivot_table(index='type_pre', columns='type_post', values='weight', aggfunc='sum', fill_value=0)\n",
    "# Normalize each column (post-synaptic type) by its total input\n",
    "norm_matrix_df = matrix_df.div(matrix_df.sum(axis=0), axis=1)"
   ]
  },
  {
   "cell_type": "code",
   "execution_count": 42,
   "metadata": {},
   "outputs": [],
   "source": [
    "\n",
    "conn_LC10_df_type_sort = conn_LC10_df_type.sort_values(by='weight', ascending=False)\n",
    "\n",
    "#filter for only strong connections\n",
    "conn_LC10_df_type_top = conn_LC10_df_type_sort[conn_LC10_df_type_sort['weight']>300]"
   ]
  },
  {
   "cell_type": "code",
   "execution_count": 43,
   "metadata": {},
   "outputs": [
    {
     "data": {
      "image/png": "[encoded data removed]",
      "text/plain": [
       "<Figure size 1000x1000 with 2 Axes>"
      ]
     },
     "metadata": {},
     "output_type": "display_data"
    }
   ],
   "source": [
    "# Pivot the DataFrame to a matrix format\n",
    "# matrix_df = conn_AOTU_df_type_top.pivot_table(index='type_pre', columns='type_post', values='weight', aggfunc='sum', fill_value=0)\n",
    "\n",
    "# Create the heatmap\n",
    "plt.figure(figsize=(10, 10))\n",
    "ax = sb.heatmap(norm_matrix_df, cmap='Reds', annot=False, linewidths=0.5)\n",
    "\n",
    "# Labeling\n",
    "# Title and axis labels\n",
    "ax.set_title('Connection Weights: type_pre → type_post')\n",
    "ax.set_xlabel('type_post')\n",
    "ax.set_ylabel('type_pre')\n",
    "\n",
    "# Force all y-ticks to be shown\n",
    "ax.set_yticks(range(len(norm_matrix_df.index)))\n",
    "ax.set_yticklabels(norm_matrix_df.index, rotation=0, fontsize=7)\n",
    "\n",
    "# Also ensure all x-ticks are shown if needed\n",
    "ax.set_xticks(range(len(norm_matrix_df.columns)))\n",
    "ax.set_xticklabels(norm_matrix_df.columns, rotation=90, fontsize=7)\n",
    "\n",
    "plt.tight_layout()\n",
    "plt.show()"
   ]
  },
  {
   "cell_type": "markdown",
   "metadata": {},
   "source": [
    "### All LCs and AOTU041"
   ]
  },
  {
   "cell_type": "code",
   "execution_count": 59,
   "metadata": {},
   "outputs": [],
   "source": [
    "#  Define pre- and post-synaptic cell types\n",
    "celltypes_pre = LC_celltypes\n",
    "celltypes_post = 'AOTU041'\n",
    "#  Set connection weight threshold\n",
    "threshold = 3\n",
    "# Fetch synaptic connectivity between these types\n",
    "neu_df, conn_df = fetch_adjacencies(celltypes_pre, celltypes_post, min_roi_weight=threshold)\n",
    "# Merge with neuron properties to get types on both sides\n",
    "conn_LC_AOTU041_df = merge_neuron_properties(neu_df, conn_df)\n"
   ]
  },
  {
   "cell_type": "code",
   "execution_count": 60,
   "metadata": {},
   "outputs": [
    {
     "data": {
      "text/html": [
       "<div>\n",
       "<style scoped>\n",
       "    .dataframe tbody tr th:only-of-type {\n",
       "        vertical-align: middle;\n",
       "    }\n",
       "\n",
       "    .dataframe tbody tr th {\n",
       "        vertical-align: top;\n",
       "    }\n",
       "\n",
       "    .dataframe thead th {\n",
       "        text-align: right;\n",
       "    }\n",
       "</style>\n",
       "<table border=\"1\" class=\"dataframe\">\n",
       "  <thead>\n",
       "    <tr style=\"text-align: right;\">\n",
       "      <th></th>\n",
       "      <th>bodyId_pre</th>\n",
       "      <th>bodyId_post</th>\n",
       "      <th>roi</th>\n",
       "      <th>weight</th>\n",
       "      <th>type_pre</th>\n",
       "      <th>instance_pre</th>\n",
       "      <th>type_post</th>\n",
       "      <th>instance_post</th>\n",
       "    </tr>\n",
       "  </thead>\n",
       "  <tbody>\n",
       "    <tr>\n",
       "      <th>0</th>\n",
       "      <td>10573</td>\n",
       "      <td>10148</td>\n",
       "      <td>AOTU(L)</td>\n",
       "      <td>51</td>\n",
       "      <td>LC10a</td>\n",
       "      <td>LC10a_L</td>\n",
       "      <td>AOTU041</td>\n",
       "      <td>AOTU041_L</td>\n",
       "    </tr>\n",
       "    <tr>\n",
       "      <th>1</th>\n",
       "      <td>10573</td>\n",
       "      <td>10502</td>\n",
       "      <td>AOTU(L)</td>\n",
       "      <td>30</td>\n",
       "      <td>LC10a</td>\n",
       "      <td>LC10a_L</td>\n",
       "      <td>AOTU041</td>\n",
       "      <td>AOTU041_L</td>\n",
       "    </tr>\n",
       "    <tr>\n",
       "      <th>2</th>\n",
       "      <td>12130</td>\n",
       "      <td>10148</td>\n",
       "      <td>AOTU(L)</td>\n",
       "      <td>28</td>\n",
       "      <td>LC10a</td>\n",
       "      <td>LC10a_L</td>\n",
       "      <td>AOTU041</td>\n",
       "      <td>AOTU041_L</td>\n",
       "    </tr>\n",
       "    <tr>\n",
       "      <th>3</th>\n",
       "      <td>12130</td>\n",
       "      <td>10502</td>\n",
       "      <td>AOTU(L)</td>\n",
       "      <td>40</td>\n",
       "      <td>LC10a</td>\n",
       "      <td>LC10a_L</td>\n",
       "      <td>AOTU041</td>\n",
       "      <td>AOTU041_L</td>\n",
       "    </tr>\n",
       "    <tr>\n",
       "      <th>4</th>\n",
       "      <td>12424</td>\n",
       "      <td>10148</td>\n",
       "      <td>AOTU(L)</td>\n",
       "      <td>43</td>\n",
       "      <td>LC10a</td>\n",
       "      <td>LC10a_L</td>\n",
       "      <td>AOTU041</td>\n",
       "      <td>AOTU041_L</td>\n",
       "    </tr>\n",
       "    <tr>\n",
       "      <th>...</th>\n",
       "      <td>...</td>\n",
       "      <td>...</td>\n",
       "      <td>...</td>\n",
       "      <td>...</td>\n",
       "      <td>...</td>\n",
       "      <td>...</td>\n",
       "      <td>...</td>\n",
       "      <td>...</td>\n",
       "    </tr>\n",
       "    <tr>\n",
       "      <th>1791</th>\n",
       "      <td>919862</td>\n",
       "      <td>10502</td>\n",
       "      <td>AOTU(L)</td>\n",
       "      <td>42</td>\n",
       "      <td>LC10d</td>\n",
       "      <td>LC10d_L</td>\n",
       "      <td>AOTU041</td>\n",
       "      <td>AOTU041_L</td>\n",
       "    </tr>\n",
       "    <tr>\n",
       "      <th>1792</th>\n",
       "      <td>919862</td>\n",
       "      <td>523317</td>\n",
       "      <td>AOTU(L)</td>\n",
       "      <td>3</td>\n",
       "      <td>LC10d</td>\n",
       "      <td>LC10d_L</td>\n",
       "      <td>AOTU041</td>\n",
       "      <td>AOTU041_R</td>\n",
       "    </tr>\n",
       "    <tr>\n",
       "      <th>1793</th>\n",
       "      <td>212467981</td>\n",
       "      <td>10031</td>\n",
       "      <td>AOTU(L)</td>\n",
       "      <td>3</td>\n",
       "      <td>LC10d</td>\n",
       "      <td>LC10d_L</td>\n",
       "      <td>AOTU041</td>\n",
       "      <td>AOTU041_R</td>\n",
       "    </tr>\n",
       "    <tr>\n",
       "      <th>1794</th>\n",
       "      <td>212467981</td>\n",
       "      <td>10148</td>\n",
       "      <td>AOTU(L)</td>\n",
       "      <td>49</td>\n",
       "      <td>LC10d</td>\n",
       "      <td>LC10d_L</td>\n",
       "      <td>AOTU041</td>\n",
       "      <td>AOTU041_L</td>\n",
       "    </tr>\n",
       "    <tr>\n",
       "      <th>1795</th>\n",
       "      <td>212467981</td>\n",
       "      <td>10502</td>\n",
       "      <td>AOTU(L)</td>\n",
       "      <td>55</td>\n",
       "      <td>LC10d</td>\n",
       "      <td>LC10d_L</td>\n",
       "      <td>AOTU041</td>\n",
       "      <td>AOTU041_L</td>\n",
       "    </tr>\n",
       "  </tbody>\n",
       "</table>\n",
       "<p>1796 rows × 8 columns</p>\n",
       "</div>"
      ],
      "text/plain": [
       "      bodyId_pre  bodyId_post      roi  weight type_pre instance_pre  \\\n",
       "0          10573        10148  AOTU(L)      51    LC10a      LC10a_L   \n",
       "1          10573        10502  AOTU(L)      30    LC10a      LC10a_L   \n",
       "2          12130        10148  AOTU(L)      28    LC10a      LC10a_L   \n",
       "3          12130        10502  AOTU(L)      40    LC10a      LC10a_L   \n",
       "4          12424        10148  AOTU(L)      43    LC10a      LC10a_L   \n",
       "...          ...          ...      ...     ...      ...          ...   \n",
       "1791      919862        10502  AOTU(L)      42    LC10d      LC10d_L   \n",
       "1792      919862       523317  AOTU(L)       3    LC10d      LC10d_L   \n",
       "1793   212467981        10031  AOTU(L)       3    LC10d      LC10d_L   \n",
       "1794   212467981        10148  AOTU(L)      49    LC10d      LC10d_L   \n",
       "1795   212467981        10502  AOTU(L)      55    LC10d      LC10d_L   \n",
       "\n",
       "     type_post instance_post  \n",
       "0      AOTU041     AOTU041_L  \n",
       "1      AOTU041     AOTU041_L  \n",
       "2      AOTU041     AOTU041_L  \n",
       "3      AOTU041     AOTU041_L  \n",
       "4      AOTU041     AOTU041_L  \n",
       "...        ...           ...  \n",
       "1791   AOTU041     AOTU041_L  \n",
       "1792   AOTU041     AOTU041_R  \n",
       "1793   AOTU041     AOTU041_R  \n",
       "1794   AOTU041     AOTU041_L  \n",
       "1795   AOTU041     AOTU041_L  \n",
       "\n",
       "[1796 rows x 8 columns]"
      ]
     },
     "execution_count": 60,
     "metadata": {},
     "output_type": "execute_result"
    }
   ],
   "source": [
    "conn_LC_AOTU041_df"
   ]
  },
  {
   "cell_type": "code",
   "execution_count": null,
   "metadata": {},
   "outputs": [],
   "source": [
    "# Group by type combinations and sum the weights\n",
    "conn_LC_AOTU041_df_type = conn_LC_AOTU041_df.groupby(['type_pre','type_post'])['weight'].sum().reset_index()"
   ]
  },
  {
   "cell_type": "code",
   "execution_count": 63,
   "metadata": {},
   "outputs": [
    {
     "data": {
      "text/html": [
       "<div>\n",
       "<style scoped>\n",
       "    .dataframe tbody tr th:only-of-type {\n",
       "        vertical-align: middle;\n",
       "    }\n",
       "\n",
       "    .dataframe tbody tr th {\n",
       "        vertical-align: top;\n",
       "    }\n",
       "\n",
       "    .dataframe thead th {\n",
       "        text-align: right;\n",
       "    }\n",
       "</style>\n",
       "<table border=\"1\" class=\"dataframe\">\n",
       "  <thead>\n",
       "    <tr style=\"text-align: right;\">\n",
       "      <th></th>\n",
       "      <th>type_pre</th>\n",
       "      <th>type_post</th>\n",
       "      <th>weight</th>\n",
       "    </tr>\n",
       "  </thead>\n",
       "  <tbody>\n",
       "    <tr>\n",
       "      <th>0</th>\n",
       "      <td>LC10_unclear</td>\n",
       "      <td>AOTU041</td>\n",
       "      <td>113</td>\n",
       "    </tr>\n",
       "    <tr>\n",
       "      <th>1</th>\n",
       "      <td>LC10a</td>\n",
       "      <td>AOTU041</td>\n",
       "      <td>14180</td>\n",
       "    </tr>\n",
       "    <tr>\n",
       "      <th>2</th>\n",
       "      <td>LC10b</td>\n",
       "      <td>AOTU041</td>\n",
       "      <td>73</td>\n",
       "    </tr>\n",
       "    <tr>\n",
       "      <th>3</th>\n",
       "      <td>LC10c-1</td>\n",
       "      <td>AOTU041</td>\n",
       "      <td>5836</td>\n",
       "    </tr>\n",
       "    <tr>\n",
       "      <th>4</th>\n",
       "      <td>LC10c-2</td>\n",
       "      <td>AOTU041</td>\n",
       "      <td>3188</td>\n",
       "    </tr>\n",
       "    <tr>\n",
       "      <th>5</th>\n",
       "      <td>LC10d</td>\n",
       "      <td>AOTU041</td>\n",
       "      <td>28415</td>\n",
       "    </tr>\n",
       "    <tr>\n",
       "      <th>6</th>\n",
       "      <td>LC10e</td>\n",
       "      <td>AOTU041</td>\n",
       "      <td>998</td>\n",
       "    </tr>\n",
       "    <tr>\n",
       "      <th>7</th>\n",
       "      <td>LC33</td>\n",
       "      <td>AOTU041</td>\n",
       "      <td>36</td>\n",
       "    </tr>\n",
       "  </tbody>\n",
       "</table>\n",
       "</div>"
      ],
      "text/plain": [
       "       type_pre type_post  weight\n",
       "0  LC10_unclear   AOTU041     113\n",
       "1         LC10a   AOTU041   14180\n",
       "2         LC10b   AOTU041      73\n",
       "3       LC10c-1   AOTU041    5836\n",
       "4       LC10c-2   AOTU041    3188\n",
       "5         LC10d   AOTU041   28415\n",
       "6         LC10e   AOTU041     998\n",
       "7          LC33   AOTU041      36"
      ]
     },
     "execution_count": 63,
     "metadata": {},
     "output_type": "execute_result"
    }
   ],
   "source": [
    "conn_LC_AOTU041_df_type"
   ]
  },
  {
   "cell_type": "code",
   "execution_count": 65,
   "metadata": {},
   "outputs": [],
   "source": [
    "# Pivot to create matrix form of the connection weights\n",
    "matrix_df = conn_LC_AOTU041_df_type.pivot_table(index='type_pre', columns='type_post', values='weight', aggfunc='sum', fill_value=0)\n",
    "# Normalize each column (post-synaptic type) by its total input\n",
    "norm_matrix_df = matrix_df.div(matrix_df.sum(axis=0), axis=1)"
   ]
  },
  {
   "cell_type": "code",
   "execution_count": 66,
   "metadata": {},
   "outputs": [],
   "source": [
    "conn_LC_AOTU041_df_type_sort = conn_LC_AOTU041_df_type.sort_values(by='weight', ascending=False)\n",
    "\n",
    "#filter for only strong connections\n",
    "conn_LC_AOTU041_df_type_top = conn_LC_AOTU041_df_type_sort[conn_LC_AOTU041_df_type_sort['weight']>300]"
   ]
  },
  {
   "cell_type": "code",
   "execution_count": 68,
   "metadata": {},
   "outputs": [
    {
     "data": {
      "image/png": "[encoded data removed]",
      "text/plain": [
       "<Figure size 200x500 with 2 Axes>"
      ]
     },
     "metadata": {},
     "output_type": "display_data"
    }
   ],
   "source": [
    "# Pivot the DataFrame to a matrix format\n",
    "# matrix_df = conn_AOTU_df_type_top.pivot_table(index='type_pre', columns='type_post', values='weight', aggfunc='sum', fill_value=0)\n",
    "\n",
    "# Create the heatmap\n",
    "plt.figure(figsize=(2, 5))\n",
    "ax = sb.heatmap(norm_matrix_df, cmap='Reds', annot=False, linewidths=0.5)\n",
    "\n",
    "# Labeling\n",
    "# Title and axis labels\n",
    "ax.set_title('Connection Weights: type_pre → type_post')\n",
    "ax.set_xlabel('type_post')\n",
    "ax.set_ylabel('type_pre')\n",
    "\n",
    "# Force all y-ticks to be shown\n",
    "ax.set_yticks(range(len(norm_matrix_df.index)))\n",
    "ax.set_yticklabels(norm_matrix_df.index, rotation=0, fontsize=7)\n",
    "\n",
    "# Also ensure all x-ticks are shown if needed\n",
    "ax.set_xticks(range(len(norm_matrix_df.columns)))\n",
    "ax.set_xticklabels(norm_matrix_df.columns, rotation=90, fontsize=7)\n",
    "\n",
    "plt.tight_layout()\n",
    "plt.show()"
   ]
  },
  {
   "cell_type": "markdown",
   "metadata": {},
   "source": [
    "### All LCs and AOTU016_b"
   ]
  },
  {
   "cell_type": "code",
   "execution_count": 70,
   "metadata": {},
   "outputs": [
    {
     "data": {
      "text/html": [
       "<div>\n",
       "<style scoped>\n",
       "    .dataframe tbody tr th:only-of-type {\n",
       "        vertical-align: middle;\n",
       "    }\n",
       "\n",
       "    .dataframe tbody tr th {\n",
       "        vertical-align: top;\n",
       "    }\n",
       "\n",
       "    .dataframe thead th {\n",
       "        text-align: right;\n",
       "    }\n",
       "</style>\n",
       "<table border=\"1\" class=\"dataframe\">\n",
       "  <thead>\n",
       "    <tr style=\"text-align: right;\">\n",
       "      <th></th>\n",
       "      <th>bodyId_pre</th>\n",
       "      <th>bodyId_post</th>\n",
       "      <th>roi</th>\n",
       "      <th>weight</th>\n",
       "      <th>type_pre</th>\n",
       "      <th>instance_pre</th>\n",
       "      <th>type_post</th>\n",
       "      <th>instance_post</th>\n",
       "    </tr>\n",
       "  </thead>\n",
       "  <tbody>\n",
       "    <tr>\n",
       "      <th>0</th>\n",
       "      <td>10573</td>\n",
       "      <td>23775</td>\n",
       "      <td>AOTU(L)</td>\n",
       "      <td>40</td>\n",
       "      <td>LC10a</td>\n",
       "      <td>LC10a_L</td>\n",
       "      <td>AOTU016_b</td>\n",
       "      <td>AOTU016_b_L</td>\n",
       "    </tr>\n",
       "    <tr>\n",
       "      <th>1</th>\n",
       "      <td>10573</td>\n",
       "      <td>25830</td>\n",
       "      <td>AOTU(L)</td>\n",
       "      <td>10</td>\n",
       "      <td>LC10a</td>\n",
       "      <td>LC10a_L</td>\n",
       "      <td>AOTU016_b</td>\n",
       "      <td>AOTU016_b_L</td>\n",
       "    </tr>\n",
       "    <tr>\n",
       "      <th>2</th>\n",
       "      <td>10573</td>\n",
       "      <td>46259</td>\n",
       "      <td>AOTU(L)</td>\n",
       "      <td>8</td>\n",
       "      <td>LC10a</td>\n",
       "      <td>LC10a_L</td>\n",
       "      <td>AOTU016_b</td>\n",
       "      <td>AOTU016_b_L</td>\n",
       "    </tr>\n",
       "    <tr>\n",
       "      <th>3</th>\n",
       "      <td>10573</td>\n",
       "      <td>98923</td>\n",
       "      <td>AOTU(L)</td>\n",
       "      <td>3</td>\n",
       "      <td>LC10a</td>\n",
       "      <td>LC10a_L</td>\n",
       "      <td>AOTU016_b</td>\n",
       "      <td>AOTU016_b_L</td>\n",
       "    </tr>\n",
       "    <tr>\n",
       "      <th>4</th>\n",
       "      <td>12130</td>\n",
       "      <td>23775</td>\n",
       "      <td>AOTU(L)</td>\n",
       "      <td>6</td>\n",
       "      <td>LC10a</td>\n",
       "      <td>LC10a_L</td>\n",
       "      <td>AOTU016_b</td>\n",
       "      <td>AOTU016_b_L</td>\n",
       "    </tr>\n",
       "    <tr>\n",
       "      <th>...</th>\n",
       "      <td>...</td>\n",
       "      <td>...</td>\n",
       "      <td>...</td>\n",
       "      <td>...</td>\n",
       "      <td>...</td>\n",
       "      <td>...</td>\n",
       "      <td>...</td>\n",
       "      <td>...</td>\n",
       "    </tr>\n",
       "    <tr>\n",
       "      <th>805</th>\n",
       "      <td>575597</td>\n",
       "      <td>46259</td>\n",
       "      <td>AOTU(L)</td>\n",
       "      <td>6</td>\n",
       "      <td>LC10a</td>\n",
       "      <td>LC10a_L</td>\n",
       "      <td>AOTU016_b</td>\n",
       "      <td>AOTU016_b_L</td>\n",
       "    </tr>\n",
       "    <tr>\n",
       "      <th>806</th>\n",
       "      <td>575597</td>\n",
       "      <td>98923</td>\n",
       "      <td>AOTU(L)</td>\n",
       "      <td>40</td>\n",
       "      <td>LC10a</td>\n",
       "      <td>LC10a_L</td>\n",
       "      <td>AOTU016_b</td>\n",
       "      <td>AOTU016_b_L</td>\n",
       "    </tr>\n",
       "    <tr>\n",
       "      <th>807</th>\n",
       "      <td>212467981</td>\n",
       "      <td>25830</td>\n",
       "      <td>AOTU(L)</td>\n",
       "      <td>14</td>\n",
       "      <td>LC10d</td>\n",
       "      <td>LC10d_L</td>\n",
       "      <td>AOTU016_b</td>\n",
       "      <td>AOTU016_b_L</td>\n",
       "    </tr>\n",
       "    <tr>\n",
       "      <th>808</th>\n",
       "      <td>212467981</td>\n",
       "      <td>46259</td>\n",
       "      <td>AOTU(L)</td>\n",
       "      <td>8</td>\n",
       "      <td>LC10d</td>\n",
       "      <td>LC10d_L</td>\n",
       "      <td>AOTU016_b</td>\n",
       "      <td>AOTU016_b_L</td>\n",
       "    </tr>\n",
       "    <tr>\n",
       "      <th>809</th>\n",
       "      <td>212467981</td>\n",
       "      <td>98923</td>\n",
       "      <td>AOTU(L)</td>\n",
       "      <td>4</td>\n",
       "      <td>LC10d</td>\n",
       "      <td>LC10d_L</td>\n",
       "      <td>AOTU016_b</td>\n",
       "      <td>AOTU016_b_L</td>\n",
       "    </tr>\n",
       "  </tbody>\n",
       "</table>\n",
       "<p>810 rows × 8 columns</p>\n",
       "</div>"
      ],
      "text/plain": [
       "     bodyId_pre  bodyId_post      roi  weight type_pre instance_pre  \\\n",
       "0         10573        23775  AOTU(L)      40    LC10a      LC10a_L   \n",
       "1         10573        25830  AOTU(L)      10    LC10a      LC10a_L   \n",
       "2         10573        46259  AOTU(L)       8    LC10a      LC10a_L   \n",
       "3         10573        98923  AOTU(L)       3    LC10a      LC10a_L   \n",
       "4         12130        23775  AOTU(L)       6    LC10a      LC10a_L   \n",
       "..          ...          ...      ...     ...      ...          ...   \n",
       "805      575597        46259  AOTU(L)       6    LC10a      LC10a_L   \n",
       "806      575597        98923  AOTU(L)      40    LC10a      LC10a_L   \n",
       "807   212467981        25830  AOTU(L)      14    LC10d      LC10d_L   \n",
       "808   212467981        46259  AOTU(L)       8    LC10d      LC10d_L   \n",
       "809   212467981        98923  AOTU(L)       4    LC10d      LC10d_L   \n",
       "\n",
       "     type_post instance_post  \n",
       "0    AOTU016_b   AOTU016_b_L  \n",
       "1    AOTU016_b   AOTU016_b_L  \n",
       "2    AOTU016_b   AOTU016_b_L  \n",
       "3    AOTU016_b   AOTU016_b_L  \n",
       "4    AOTU016_b   AOTU016_b_L  \n",
       "..         ...           ...  \n",
       "805  AOTU016_b   AOTU016_b_L  \n",
       "806  AOTU016_b   AOTU016_b_L  \n",
       "807  AOTU016_b   AOTU016_b_L  \n",
       "808  AOTU016_b   AOTU016_b_L  \n",
       "809  AOTU016_b   AOTU016_b_L  \n",
       "\n",
       "[810 rows x 8 columns]"
      ]
     },
     "execution_count": 70,
     "metadata": {},
     "output_type": "execute_result"
    }
   ],
   "source": [
    "#  Define pre- and post-synaptic cell types\n",
    "celltypes_pre = LC_celltypes\n",
    "celltypes_post = 'AOTU016_b'\n",
    "#  Set connection weight threshold\n",
    "threshold = 3\n",
    "# Fetch synaptic connectivity between these types\n",
    "neu_df, conn_df = fetch_adjacencies(celltypes_pre, celltypes_post, min_roi_weight=threshold)\n",
    "# Merge with neuron properties to get types on both sides\n",
    "conn_LC_AOTU016_b_df = merge_neuron_properties(neu_df, conn_df)\n",
    "\n",
    "conn_LC_AOTU016_b_df"
   ]
  },
  {
   "cell_type": "code",
   "execution_count": 74,
   "metadata": {},
   "outputs": [
    {
     "data": {
      "text/html": [
       "<div>\n",
       "<style scoped>\n",
       "    .dataframe tbody tr th:only-of-type {\n",
       "        vertical-align: middle;\n",
       "    }\n",
       "\n",
       "    .dataframe tbody tr th {\n",
       "        vertical-align: top;\n",
       "    }\n",
       "\n",
       "    .dataframe thead th {\n",
       "        text-align: right;\n",
       "    }\n",
       "</style>\n",
       "<table border=\"1\" class=\"dataframe\">\n",
       "  <thead>\n",
       "    <tr style=\"text-align: right;\">\n",
       "      <th></th>\n",
       "      <th>type_pre</th>\n",
       "      <th>type_post</th>\n",
       "      <th>weight</th>\n",
       "    </tr>\n",
       "  </thead>\n",
       "  <tbody>\n",
       "    <tr>\n",
       "      <th>0</th>\n",
       "      <td>LC10_unclear</td>\n",
       "      <td>AOTU016_b</td>\n",
       "      <td>105</td>\n",
       "    </tr>\n",
       "    <tr>\n",
       "      <th>1</th>\n",
       "      <td>LC10a</td>\n",
       "      <td>AOTU016_b</td>\n",
       "      <td>8073</td>\n",
       "    </tr>\n",
       "    <tr>\n",
       "      <th>2</th>\n",
       "      <td>LC10c-1</td>\n",
       "      <td>AOTU016_b</td>\n",
       "      <td>801</td>\n",
       "    </tr>\n",
       "    <tr>\n",
       "      <th>3</th>\n",
       "      <td>LC10c-2</td>\n",
       "      <td>AOTU016_b</td>\n",
       "      <td>946</td>\n",
       "    </tr>\n",
       "    <tr>\n",
       "      <th>4</th>\n",
       "      <td>LC10d</td>\n",
       "      <td>AOTU016_b</td>\n",
       "      <td>4782</td>\n",
       "    </tr>\n",
       "    <tr>\n",
       "      <th>5</th>\n",
       "      <td>LC10e</td>\n",
       "      <td>AOTU016_b</td>\n",
       "      <td>162</td>\n",
       "    </tr>\n",
       "    <tr>\n",
       "      <th>6</th>\n",
       "      <td>LC19</td>\n",
       "      <td>AOTU016_b</td>\n",
       "      <td>14</td>\n",
       "    </tr>\n",
       "  </tbody>\n",
       "</table>\n",
       "</div>"
      ],
      "text/plain": [
       "       type_pre  type_post  weight\n",
       "0  LC10_unclear  AOTU016_b     105\n",
       "1         LC10a  AOTU016_b    8073\n",
       "2       LC10c-1  AOTU016_b     801\n",
       "3       LC10c-2  AOTU016_b     946\n",
       "4         LC10d  AOTU016_b    4782\n",
       "5         LC10e  AOTU016_b     162\n",
       "6          LC19  AOTU016_b      14"
      ]
     },
     "execution_count": 74,
     "metadata": {},
     "output_type": "execute_result"
    }
   ],
   "source": [
    "# Group by type combinations and sum the weights\n",
    "conn_LC_AOTU016_b_df_type = conn_LC_AOTU016_b_df.groupby(['type_pre','type_post'])['weight'].sum().reset_index()\n",
    "\n",
    "conn_LC_AOTU016_b_df_type"
   ]
  },
  {
   "cell_type": "code",
   "execution_count": 75,
   "metadata": {},
   "outputs": [],
   "source": [
    "# Pivot to create matrix form of the connection weights\n",
    "matrix_df = conn_LC_AOTU016_b_df_type.pivot_table(index='type_pre', columns='type_post', values='weight', aggfunc='sum', fill_value=0)\n",
    "# Normalize each column (post-synaptic type) by its total input\n",
    "norm_matrix_df = matrix_df.div(matrix_df.sum(axis=0), axis=1)\n",
    "\n",
    "\n",
    "conn_LC_AOTU016_b_df_type_sort = conn_LC_AOTU016_b_df_type.sort_values(by='weight', ascending=False)\n",
    "\n",
    "#filter for only strong connections\n",
    "conn_LC_AOTU016_b_df_type_top = conn_LC_AOTU016_b_df_type_sort[conn_LC_AOTU016_b_df_type_sort['weight']>300]\n",
    "\n"
   ]
  },
  {
   "cell_type": "code",
   "execution_count": 76,
   "metadata": {},
   "outputs": [
    {
     "data": {
      "image/png": "[encoded data removed]",
      "text/plain": [
       "<Figure size 200x500 with 2 Axes>"
      ]
     },
     "metadata": {},
     "output_type": "display_data"
    }
   ],
   "source": [
    "# Pivot the DataFrame to a matrix format\n",
    "# matrix_df = conn_AOTU_df_type_top.pivot_table(index='type_pre', columns='type_post', values='weight', aggfunc='sum', fill_value=0)\n",
    "\n",
    "# Create the heatmap\n",
    "plt.figure(figsize=(2, 5))\n",
    "ax = sb.heatmap(norm_matrix_df, cmap='Reds', annot=False, linewidths=0.5)\n",
    "\n",
    "# Labeling\n",
    "# Title and axis labels\n",
    "ax.set_title('Connection Weights: type_pre → type_post')\n",
    "ax.set_xlabel('type_post')\n",
    "ax.set_ylabel('type_pre')\n",
    "\n",
    "# Force all y-ticks to be shown\n",
    "ax.set_yticks(range(len(norm_matrix_df.index)))\n",
    "ax.set_yticklabels(norm_matrix_df.index, rotation=0, fontsize=7)\n",
    "\n",
    "# Also ensure all x-ticks are shown if needed\n",
    "ax.set_xticks(range(len(norm_matrix_df.columns)))\n",
    "ax.set_xticklabels(norm_matrix_df.columns, rotation=90, fontsize=7)\n",
    "\n",
    "plt.tight_layout()\n",
    "plt.show()"
   ]
  },
  {
   "cell_type": "markdown",
   "metadata": {},
   "source": [
    "### AOTUs connecting back to LCs\n"
   ]
  },
  {
   "cell_type": "code",
   "execution_count": 109,
   "metadata": {},
   "outputs": [
    {
     "data": {
      "text/plain": [
       "(array(['LC10a', 'LC22', 'LC9', 'LCNOpm', 'LC12', 'LC11', 'LC31b', 'LC4',\n",
       "        'LC14a-1', 'LC33', 'LC10c-2', 'LC17', 'LC10d', 'LC23', 'LC31a',\n",
       "        'LC36', 'LC20b', 'LC18', 'LC26', 'LC21', 'LC39b', 'LC19', 'LC15',\n",
       "        'LC14b', 'LC25', 'LC10c-1', 'LC29', 'LC6', 'LC14a-2', 'LC13',\n",
       "        'LC43', 'LC16', 'LC37', 'LC40', 'LC35a', 'LC39a', 'LC35b', 'LC10e',\n",
       "        'LC24', 'LC28', 'LC34', 'LC44', 'LC41', 'LC10b', 'LCNOp', 'LC30',\n",
       "        'LC10_unclear', 'LC20a', 'LC46b', 'LC27'], dtype=object),\n",
       " array(['AOTU019', 'AOTU041', 'AOTU042', 'AOTU023', 'AOTU012', 'AOTU035',\n",
       "        'AOTU005', 'AOTU100m', 'AOTU016_c', 'AOTU061', 'AOTU052',\n",
       "        'AOTU103m', 'AOTU063_b', 'AOTU064', 'AOTU033', 'AOTU101m',\n",
       "        'AOTU063_a', 'AOTU049', 'AOTU027', 'AOTU014', 'AOTU015', 'AOTU046',\n",
       "        'AOTU050', 'AOTU024', 'AOTU059', 'AOTU009', 'AOTU008', 'AOTU045',\n",
       "        'AOTU065', 'AOTU007_c', 'AOTU002_c', 'AOTU029', 'AOTU016_a',\n",
       "        'AOTU002_a', 'AOTU026', 'AOTU020', 'AOTU017', 'AOTU028',\n",
       "        'AOTU016_b', 'AOTU036', 'AOTU006', 'AOTU043', 'AOTU048', 'AOTU013',\n",
       "        'AOTU051', 'AOTU034', 'AOTU011', 'AOTU002_b', 'AOTU022', 'AOTU062',\n",
       "        'AOTU032', 'AOTU001', 'AOTU007_b', 'AOTU047', 'AOTU003',\n",
       "        'AOTU007_a', 'AOTU054', 'AOTU030', 'AOTU056', 'AOTU055', 'AOTU060',\n",
       "        'AOTU102m', 'AOTU038', 'AOTU058', 'AOTU053', 'AOTU037', 'AOTU018',\n",
       "        'AOTU004', 'AOTU039', 'AOTU040', 'AOTU021', 'AOTU025'],\n",
       "       dtype=object))"
      ]
     },
     "execution_count": 109,
     "metadata": {},
     "output_type": "execute_result"
    }
   ],
   "source": [
    "LC_celltypes = neurons_df_LC['type'].unique()\n",
    "AOTU_celltypes = neurons_df_AOTU['type'].unique()\n",
    "\n",
    "LC_celltypes, AOTU_celltypes"
   ]
  },
  {
   "cell_type": "code",
   "execution_count": 110,
   "metadata": {},
   "outputs": [
    {
     "data": {
      "application/vnd.jupyter.widget-view+json": {
       "model_id": "3eecda49ce784346bcdb8fce476b888e",
       "version_major": 2,
       "version_minor": 0
      },
      "text/plain": [
       "  0%|          | 0/2 [00:00<?, ?it/s]"
      ]
     },
     "metadata": {},
     "output_type": "display_data"
    },
    {
     "data": {
      "text/html": [
       "<div>\n",
       "<style scoped>\n",
       "    .dataframe tbody tr th:only-of-type {\n",
       "        vertical-align: middle;\n",
       "    }\n",
       "\n",
       "    .dataframe tbody tr th {\n",
       "        vertical-align: top;\n",
       "    }\n",
       "\n",
       "    .dataframe thead th {\n",
       "        text-align: right;\n",
       "    }\n",
       "</style>\n",
       "<table border=\"1\" class=\"dataframe\">\n",
       "  <thead>\n",
       "    <tr style=\"text-align: right;\">\n",
       "      <th></th>\n",
       "      <th>bodyId_pre</th>\n",
       "      <th>bodyId_post</th>\n",
       "      <th>roi</th>\n",
       "      <th>weight</th>\n",
       "      <th>type_pre</th>\n",
       "      <th>instance_pre</th>\n",
       "      <th>type_post</th>\n",
       "      <th>instance_post</th>\n",
       "    </tr>\n",
       "  </thead>\n",
       "  <tbody>\n",
       "    <tr>\n",
       "      <th>0</th>\n",
       "      <td>10005</td>\n",
       "      <td>13534</td>\n",
       "      <td>LAL(L)</td>\n",
       "      <td>7</td>\n",
       "      <td>AOTU019</td>\n",
       "      <td>AOTU019_R</td>\n",
       "      <td>LC33</td>\n",
       "      <td>LC33_L</td>\n",
       "    </tr>\n",
       "    <tr>\n",
       "      <th>1</th>\n",
       "      <td>10031</td>\n",
       "      <td>13593</td>\n",
       "      <td>AOTU(L)</td>\n",
       "      <td>10</td>\n",
       "      <td>AOTU041</td>\n",
       "      <td>AOTU041_R</td>\n",
       "      <td>LC10d</td>\n",
       "      <td>LC10d_L</td>\n",
       "    </tr>\n",
       "    <tr>\n",
       "      <th>2</th>\n",
       "      <td>10031</td>\n",
       "      <td>13697</td>\n",
       "      <td>AOTU(L)</td>\n",
       "      <td>6</td>\n",
       "      <td>AOTU041</td>\n",
       "      <td>AOTU041_R</td>\n",
       "      <td>LC10a</td>\n",
       "      <td>LC10a_L</td>\n",
       "    </tr>\n",
       "    <tr>\n",
       "      <th>3</th>\n",
       "      <td>10031</td>\n",
       "      <td>13853</td>\n",
       "      <td>AOTU(L)</td>\n",
       "      <td>13</td>\n",
       "      <td>AOTU041</td>\n",
       "      <td>AOTU041_R</td>\n",
       "      <td>LC10d</td>\n",
       "      <td>LC10d_L</td>\n",
       "    </tr>\n",
       "    <tr>\n",
       "      <th>4</th>\n",
       "      <td>10031</td>\n",
       "      <td>14037</td>\n",
       "      <td>AOTU(L)</td>\n",
       "      <td>5</td>\n",
       "      <td>AOTU041</td>\n",
       "      <td>AOTU041_R</td>\n",
       "      <td>LC10d</td>\n",
       "      <td>LC10d_L</td>\n",
       "    </tr>\n",
       "    <tr>\n",
       "      <th>...</th>\n",
       "      <td>...</td>\n",
       "      <td>...</td>\n",
       "      <td>...</td>\n",
       "      <td>...</td>\n",
       "      <td>...</td>\n",
       "      <td>...</td>\n",
       "      <td>...</td>\n",
       "      <td>...</td>\n",
       "    </tr>\n",
       "    <tr>\n",
       "      <th>4614</th>\n",
       "      <td>543277</td>\n",
       "      <td>22981</td>\n",
       "      <td>LAL(L)</td>\n",
       "      <td>5</td>\n",
       "      <td>AOTU018</td>\n",
       "      <td>AOTU018_L</td>\n",
       "      <td>LC33</td>\n",
       "      <td>LC33_L</td>\n",
       "    </tr>\n",
       "    <tr>\n",
       "      <th>4615</th>\n",
       "      <td>543277</td>\n",
       "      <td>517845</td>\n",
       "      <td>LAL(L)</td>\n",
       "      <td>4</td>\n",
       "      <td>AOTU018</td>\n",
       "      <td>AOTU018_L</td>\n",
       "      <td>LC33</td>\n",
       "      <td>LC33_L</td>\n",
       "    </tr>\n",
       "    <tr>\n",
       "      <th>4616</th>\n",
       "      <td>552128</td>\n",
       "      <td>24608</td>\n",
       "      <td>CentralBrain-unspecified</td>\n",
       "      <td>3</td>\n",
       "      <td>AOTU003</td>\n",
       "      <td>AOTU003_L</td>\n",
       "      <td>LC33</td>\n",
       "      <td>LC33_R</td>\n",
       "    </tr>\n",
       "    <tr>\n",
       "      <th>4617</th>\n",
       "      <td>382559434</td>\n",
       "      <td>12359</td>\n",
       "      <td>LAL(R)</td>\n",
       "      <td>33</td>\n",
       "      <td>AOTU001</td>\n",
       "      <td>AOTU001_L</td>\n",
       "      <td>LCNOpm</td>\n",
       "      <td>LCNOpm(LAL-NO3pm)_R</td>\n",
       "    </tr>\n",
       "    <tr>\n",
       "      <th>4618</th>\n",
       "      <td>382559434</td>\n",
       "      <td>14002</td>\n",
       "      <td>LAL(R)</td>\n",
       "      <td>13</td>\n",
       "      <td>AOTU001</td>\n",
       "      <td>AOTU001_L</td>\n",
       "      <td>LC33</td>\n",
       "      <td>LC33_R</td>\n",
       "    </tr>\n",
       "  </tbody>\n",
       "</table>\n",
       "<p>4619 rows × 8 columns</p>\n",
       "</div>"
      ],
      "text/plain": [
       "      bodyId_pre  bodyId_post                       roi  weight type_pre  \\\n",
       "0          10005        13534                    LAL(L)       7  AOTU019   \n",
       "1          10031        13593                   AOTU(L)      10  AOTU041   \n",
       "2          10031        13697                   AOTU(L)       6  AOTU041   \n",
       "3          10031        13853                   AOTU(L)      13  AOTU041   \n",
       "4          10031        14037                   AOTU(L)       5  AOTU041   \n",
       "...          ...          ...                       ...     ...      ...   \n",
       "4614      543277        22981                    LAL(L)       5  AOTU018   \n",
       "4615      543277       517845                    LAL(L)       4  AOTU018   \n",
       "4616      552128        24608  CentralBrain-unspecified       3  AOTU003   \n",
       "4617   382559434        12359                    LAL(R)      33  AOTU001   \n",
       "4618   382559434        14002                    LAL(R)      13  AOTU001   \n",
       "\n",
       "     instance_pre type_post        instance_post  \n",
       "0       AOTU019_R      LC33               LC33_L  \n",
       "1       AOTU041_R     LC10d              LC10d_L  \n",
       "2       AOTU041_R     LC10a              LC10a_L  \n",
       "3       AOTU041_R     LC10d              LC10d_L  \n",
       "4       AOTU041_R     LC10d              LC10d_L  \n",
       "...           ...       ...                  ...  \n",
       "4614    AOTU018_L      LC33               LC33_L  \n",
       "4615    AOTU018_L      LC33               LC33_L  \n",
       "4616    AOTU003_L      LC33               LC33_R  \n",
       "4617    AOTU001_L    LCNOpm  LCNOpm(LAL-NO3pm)_R  \n",
       "4618    AOTU001_L      LC33               LC33_R  \n",
       "\n",
       "[4619 rows x 8 columns]"
      ]
     },
     "execution_count": 110,
     "metadata": {},
     "output_type": "execute_result"
    }
   ],
   "source": [
    "#  Define pre- and post-synaptic cell types\n",
    "celltypes_pre = AOTU_celltypes\n",
    "celltypes_post = LC_celltypes\n",
    "#  Set connection weight threshold\n",
    "threshold = 3\n",
    "# Fetch synaptic connectivity between these types\n",
    "neu_df, conn_df = fetch_adjacencies(celltypes_pre, celltypes_post, min_roi_weight=threshold)\n",
    "# Merge with neuron properties to get types on both sides\n",
    "conn_AOTU_LC_df = merge_neuron_properties(neu_df, conn_df)\n",
    "\n",
    "conn_AOTU_LC_df\n"
   ]
  },
  {
   "cell_type": "code",
   "execution_count": 111,
   "metadata": {},
   "outputs": [
    {
     "data": {
      "text/html": [
       "<div>\n",
       "<style scoped>\n",
       "    .dataframe tbody tr th:only-of-type {\n",
       "        vertical-align: middle;\n",
       "    }\n",
       "\n",
       "    .dataframe tbody tr th {\n",
       "        vertical-align: top;\n",
       "    }\n",
       "\n",
       "    .dataframe thead th {\n",
       "        text-align: right;\n",
       "    }\n",
       "</style>\n",
       "<table border=\"1\" class=\"dataframe\">\n",
       "  <thead>\n",
       "    <tr style=\"text-align: right;\">\n",
       "      <th></th>\n",
       "      <th>type_pre</th>\n",
       "      <th>type_post</th>\n",
       "      <th>weight</th>\n",
       "    </tr>\n",
       "  </thead>\n",
       "  <tbody>\n",
       "    <tr>\n",
       "      <th>0</th>\n",
       "      <td>AOTU001</td>\n",
       "      <td>LC33</td>\n",
       "      <td>83</td>\n",
       "    </tr>\n",
       "    <tr>\n",
       "      <th>1</th>\n",
       "      <td>AOTU001</td>\n",
       "      <td>LCNOp</td>\n",
       "      <td>4</td>\n",
       "    </tr>\n",
       "    <tr>\n",
       "      <th>2</th>\n",
       "      <td>AOTU001</td>\n",
       "      <td>LCNOpm</td>\n",
       "      <td>168</td>\n",
       "    </tr>\n",
       "    <tr>\n",
       "      <th>3</th>\n",
       "      <td>AOTU002_a</td>\n",
       "      <td>LC33</td>\n",
       "      <td>9</td>\n",
       "    </tr>\n",
       "    <tr>\n",
       "      <th>4</th>\n",
       "      <td>AOTU002_b</td>\n",
       "      <td>LC10d</td>\n",
       "      <td>3</td>\n",
       "    </tr>\n",
       "    <tr>\n",
       "      <th>...</th>\n",
       "      <td>...</td>\n",
       "      <td>...</td>\n",
       "      <td>...</td>\n",
       "    </tr>\n",
       "    <tr>\n",
       "      <th>101</th>\n",
       "      <td>AOTU063_a</td>\n",
       "      <td>LC10a</td>\n",
       "      <td>3</td>\n",
       "    </tr>\n",
       "    <tr>\n",
       "      <th>102</th>\n",
       "      <td>AOTU063_a</td>\n",
       "      <td>LC10d</td>\n",
       "      <td>6</td>\n",
       "    </tr>\n",
       "    <tr>\n",
       "      <th>103</th>\n",
       "      <td>AOTU063_b</td>\n",
       "      <td>LC10a</td>\n",
       "      <td>3</td>\n",
       "    </tr>\n",
       "    <tr>\n",
       "      <th>104</th>\n",
       "      <td>AOTU063_b</td>\n",
       "      <td>LC10d</td>\n",
       "      <td>7</td>\n",
       "    </tr>\n",
       "    <tr>\n",
       "      <th>105</th>\n",
       "      <td>AOTU065</td>\n",
       "      <td>LC10c-2</td>\n",
       "      <td>3</td>\n",
       "    </tr>\n",
       "  </tbody>\n",
       "</table>\n",
       "<p>106 rows × 3 columns</p>\n",
       "</div>"
      ],
      "text/plain": [
       "      type_pre type_post  weight\n",
       "0      AOTU001      LC33      83\n",
       "1      AOTU001     LCNOp       4\n",
       "2      AOTU001    LCNOpm     168\n",
       "3    AOTU002_a      LC33       9\n",
       "4    AOTU002_b     LC10d       3\n",
       "..         ...       ...     ...\n",
       "101  AOTU063_a     LC10a       3\n",
       "102  AOTU063_a     LC10d       6\n",
       "103  AOTU063_b     LC10a       3\n",
       "104  AOTU063_b     LC10d       7\n",
       "105    AOTU065   LC10c-2       3\n",
       "\n",
       "[106 rows x 3 columns]"
      ]
     },
     "execution_count": 111,
     "metadata": {},
     "output_type": "execute_result"
    }
   ],
   "source": [
    "# Group by type combinations and sum the weights\n",
    "conn_AOTU_LC_df_type = conn_AOTU_LC_df.groupby(['type_pre','type_post'])['weight'].sum().reset_index()\n",
    "\n",
    "conn_AOTU_LC_df_type"
   ]
  },
  {
   "cell_type": "code",
   "execution_count": 113,
   "metadata": {},
   "outputs": [],
   "source": [
    "# Pivot to create matrix form of the connection weights\n",
    "matrix_df = conn_AOTU_LC_df_type.pivot_table(index='type_pre', columns='type_post', values='weight', aggfunc='sum', fill_value=0)\n",
    "# Normalize each column (post-synaptic type) by its total input\n",
    "norm_matrix_df = matrix_df.div(matrix_df.sum(axis=0), axis=1)\n",
    "\n",
    "\n",
    "conn_AOTU_LC_df_type_sort = conn_AOTU_LC_df_type.sort_values(by='weight', ascending=False)\n",
    "\n",
    "#filter for only strong connections\n",
    "conn_AOTU_LC_df_type_top = conn_AOTU_LC_df_type_sort[conn_AOTU_LC_df_type_sort['weight']>300]\n",
    "\n"
   ]
  },
  {
   "cell_type": "code",
   "execution_count": 114,
   "metadata": {},
   "outputs": [
    {
     "data": {
      "image/png": "[encoded data removed]",
      "text/plain": [
       "<Figure size 1000x1200 with 2 Axes>"
      ]
     },
     "metadata": {},
     "output_type": "display_data"
    }
   ],
   "source": [
    "# Pivot the DataFrame to a matrix format\n",
    "# matrix_df = conn_AOTU_df_type_top.pivot_table(index='type_pre', columns='type_post', values='weight', aggfunc='sum', fill_value=0)\n",
    "\n",
    "# Create the heatmap\n",
    "plt.figure(figsize=(10, 12))\n",
    "ax = sb.heatmap(norm_matrix_df, cmap='Blues', annot=False, linewidths=0.5)\n",
    "\n",
    "# Labeling\n",
    "# Title and axis labels\n",
    "ax.set_title('Connection Weights: type_pre → type_post')\n",
    "ax.set_xlabel('type_post')\n",
    "ax.set_ylabel('type_pre')\n",
    "\n",
    "# Force all y-ticks to be shown\n",
    "ax.set_yticks(range(len(norm_matrix_df.index)))\n",
    "ax.set_yticklabels(norm_matrix_df.index, rotation=0, fontsize=7)\n",
    "\n",
    "# Also ensure all x-ticks are shown if needed\n",
    "ax.set_xticks(range(len(norm_matrix_df.columns)))\n",
    "ax.set_xticklabels(norm_matrix_df.columns, rotation=90, fontsize=7)\n",
    "\n",
    "plt.tight_layout()\n",
    "plt.show()"
   ]
  },
  {
   "cell_type": "markdown",
   "metadata": {},
   "source": [
    "### AOTUs connecting back to LC10s\n"
   ]
  },
  {
   "cell_type": "code",
   "execution_count": null,
   "metadata": {},
   "outputs": [],
   "source": []
  },
  {
   "cell_type": "code",
   "execution_count": 102,
   "metadata": {},
   "outputs": [
    {
     "data": {
      "text/plain": [
       "(array(['LC10a', 'LC10c-2', 'LC10d', 'LC10c-1', 'LC10e', 'LC10b',\n",
       "        'LC10_unclear'], dtype=object),\n",
       " array(['AOTU019', 'AOTU041', 'AOTU042', 'AOTU023', 'AOTU012', 'AOTU035',\n",
       "        'AOTU005', 'AOTU100m', 'AOTU016_c', 'AOTU061', 'AOTU052',\n",
       "        'AOTU103m', 'AOTU063_b', 'AOTU064', 'AOTU033', 'AOTU101m',\n",
       "        'AOTU063_a', 'AOTU049', 'AOTU027', 'AOTU014', 'AOTU015', 'AOTU046',\n",
       "        'AOTU050', 'AOTU024', 'AOTU059', 'AOTU009', 'AOTU008', 'AOTU045',\n",
       "        'AOTU065', 'AOTU007_c', 'AOTU002_c', 'AOTU029', 'AOTU016_a',\n",
       "        'AOTU002_a', 'AOTU026', 'AOTU020', 'AOTU017', 'AOTU028',\n",
       "        'AOTU016_b', 'AOTU036', 'AOTU006', 'AOTU043', 'AOTU048', 'AOTU013',\n",
       "        'AOTU051', 'AOTU034', 'AOTU011', 'AOTU002_b', 'AOTU022', 'AOTU062',\n",
       "        'AOTU032', 'AOTU001', 'AOTU007_b', 'AOTU047', 'AOTU003',\n",
       "        'AOTU007_a', 'AOTU054', 'AOTU030', 'AOTU056', 'AOTU055', 'AOTU060',\n",
       "        'AOTU102m', 'AOTU038', 'AOTU058', 'AOTU053', 'AOTU037', 'AOTU018',\n",
       "        'AOTU004', 'AOTU039', 'AOTU040', 'AOTU021', 'AOTU025'],\n",
       "       dtype=object))"
      ]
     },
     "execution_count": 102,
     "metadata": {},
     "output_type": "execute_result"
    }
   ],
   "source": [
    "LC10_celltypes = neurons_df_LC10['type'].unique()\n",
    "AOTU_celltypes = neurons_df_AOTU['type'].unique()\n",
    "\n",
    "LC10_celltypes, AOTU_celltypes"
   ]
  },
  {
   "cell_type": "code",
   "execution_count": 103,
   "metadata": {},
   "outputs": [
    {
     "data": {
      "application/vnd.jupyter.widget-view+json": {
       "model_id": "020ba786b5f243769b310fbbaf1b29c3",
       "version_major": 2,
       "version_minor": 0
      },
      "text/plain": [
       "  0%|          | 0/2 [00:00<?, ?it/s]"
      ]
     },
     "metadata": {},
     "output_type": "display_data"
    },
    {
     "data": {
      "text/html": [
       "<div>\n",
       "<style scoped>\n",
       "    .dataframe tbody tr th:only-of-type {\n",
       "        vertical-align: middle;\n",
       "    }\n",
       "\n",
       "    .dataframe tbody tr th {\n",
       "        vertical-align: top;\n",
       "    }\n",
       "\n",
       "    .dataframe thead th {\n",
       "        text-align: right;\n",
       "    }\n",
       "</style>\n",
       "<table border=\"1\" class=\"dataframe\">\n",
       "  <thead>\n",
       "    <tr style=\"text-align: right;\">\n",
       "      <th></th>\n",
       "      <th>bodyId_pre</th>\n",
       "      <th>bodyId_post</th>\n",
       "      <th>roi</th>\n",
       "      <th>weight</th>\n",
       "      <th>type_pre</th>\n",
       "      <th>instance_pre</th>\n",
       "      <th>type_post</th>\n",
       "      <th>instance_post</th>\n",
       "    </tr>\n",
       "  </thead>\n",
       "  <tbody>\n",
       "    <tr>\n",
       "      <th>0</th>\n",
       "      <td>10031</td>\n",
       "      <td>13593</td>\n",
       "      <td>AOTU(L)</td>\n",
       "      <td>10</td>\n",
       "      <td>AOTU041</td>\n",
       "      <td>AOTU041_R</td>\n",
       "      <td>LC10d</td>\n",
       "      <td>LC10d_L</td>\n",
       "    </tr>\n",
       "    <tr>\n",
       "      <th>1</th>\n",
       "      <td>10031</td>\n",
       "      <td>13697</td>\n",
       "      <td>AOTU(L)</td>\n",
       "      <td>6</td>\n",
       "      <td>AOTU041</td>\n",
       "      <td>AOTU041_R</td>\n",
       "      <td>LC10a</td>\n",
       "      <td>LC10a_L</td>\n",
       "    </tr>\n",
       "    <tr>\n",
       "      <th>2</th>\n",
       "      <td>10031</td>\n",
       "      <td>13853</td>\n",
       "      <td>AOTU(L)</td>\n",
       "      <td>13</td>\n",
       "      <td>AOTU041</td>\n",
       "      <td>AOTU041_R</td>\n",
       "      <td>LC10d</td>\n",
       "      <td>LC10d_L</td>\n",
       "    </tr>\n",
       "    <tr>\n",
       "      <th>3</th>\n",
       "      <td>10031</td>\n",
       "      <td>14037</td>\n",
       "      <td>AOTU(L)</td>\n",
       "      <td>5</td>\n",
       "      <td>AOTU041</td>\n",
       "      <td>AOTU041_R</td>\n",
       "      <td>LC10d</td>\n",
       "      <td>LC10d_L</td>\n",
       "    </tr>\n",
       "    <tr>\n",
       "      <th>4</th>\n",
       "      <td>10031</td>\n",
       "      <td>15181</td>\n",
       "      <td>AOTU(L)</td>\n",
       "      <td>13</td>\n",
       "      <td>AOTU041</td>\n",
       "      <td>AOTU041_R</td>\n",
       "      <td>LC10d</td>\n",
       "      <td>LC10d_L</td>\n",
       "    </tr>\n",
       "    <tr>\n",
       "      <th>...</th>\n",
       "      <td>...</td>\n",
       "      <td>...</td>\n",
       "      <td>...</td>\n",
       "      <td>...</td>\n",
       "      <td>...</td>\n",
       "      <td>...</td>\n",
       "      <td>...</td>\n",
       "      <td>...</td>\n",
       "    </tr>\n",
       "    <tr>\n",
       "      <th>4512</th>\n",
       "      <td>531808</td>\n",
       "      <td>30188</td>\n",
       "      <td>AOTU(R)</td>\n",
       "      <td>5</td>\n",
       "      <td>AOTU032</td>\n",
       "      <td>AOTU032_R</td>\n",
       "      <td>LC10d</td>\n",
       "      <td>LC10d_R</td>\n",
       "    </tr>\n",
       "    <tr>\n",
       "      <th>4513</th>\n",
       "      <td>531808</td>\n",
       "      <td>31677</td>\n",
       "      <td>AOTU(R)</td>\n",
       "      <td>4</td>\n",
       "      <td>AOTU032</td>\n",
       "      <td>AOTU032_R</td>\n",
       "      <td>LC10d</td>\n",
       "      <td>LC10d_R</td>\n",
       "    </tr>\n",
       "    <tr>\n",
       "      <th>4514</th>\n",
       "      <td>531808</td>\n",
       "      <td>33094</td>\n",
       "      <td>AOTU(R)</td>\n",
       "      <td>5</td>\n",
       "      <td>AOTU032</td>\n",
       "      <td>AOTU032_R</td>\n",
       "      <td>LC10d</td>\n",
       "      <td>LC10d_R</td>\n",
       "    </tr>\n",
       "    <tr>\n",
       "      <th>4515</th>\n",
       "      <td>531808</td>\n",
       "      <td>35587</td>\n",
       "      <td>AOTU(R)</td>\n",
       "      <td>6</td>\n",
       "      <td>AOTU032</td>\n",
       "      <td>AOTU032_R</td>\n",
       "      <td>LC10d</td>\n",
       "      <td>LC10d_R</td>\n",
       "    </tr>\n",
       "    <tr>\n",
       "      <th>4516</th>\n",
       "      <td>531808</td>\n",
       "      <td>60828</td>\n",
       "      <td>AOTU(R)</td>\n",
       "      <td>4</td>\n",
       "      <td>AOTU032</td>\n",
       "      <td>AOTU032_R</td>\n",
       "      <td>LC10d</td>\n",
       "      <td>LC10d_R</td>\n",
       "    </tr>\n",
       "  </tbody>\n",
       "</table>\n",
       "<p>4517 rows × 8 columns</p>\n",
       "</div>"
      ],
      "text/plain": [
       "      bodyId_pre  bodyId_post      roi  weight type_pre instance_pre  \\\n",
       "0          10031        13593  AOTU(L)      10  AOTU041    AOTU041_R   \n",
       "1          10031        13697  AOTU(L)       6  AOTU041    AOTU041_R   \n",
       "2          10031        13853  AOTU(L)      13  AOTU041    AOTU041_R   \n",
       "3          10031        14037  AOTU(L)       5  AOTU041    AOTU041_R   \n",
       "4          10031        15181  AOTU(L)      13  AOTU041    AOTU041_R   \n",
       "...          ...          ...      ...     ...      ...          ...   \n",
       "4512      531808        30188  AOTU(R)       5  AOTU032    AOTU032_R   \n",
       "4513      531808        31677  AOTU(R)       4  AOTU032    AOTU032_R   \n",
       "4514      531808        33094  AOTU(R)       5  AOTU032    AOTU032_R   \n",
       "4515      531808        35587  AOTU(R)       6  AOTU032    AOTU032_R   \n",
       "4516      531808        60828  AOTU(R)       4  AOTU032    AOTU032_R   \n",
       "\n",
       "     type_post instance_post  \n",
       "0        LC10d       LC10d_L  \n",
       "1        LC10a       LC10a_L  \n",
       "2        LC10d       LC10d_L  \n",
       "3        LC10d       LC10d_L  \n",
       "4        LC10d       LC10d_L  \n",
       "...        ...           ...  \n",
       "4512     LC10d       LC10d_R  \n",
       "4513     LC10d       LC10d_R  \n",
       "4514     LC10d       LC10d_R  \n",
       "4515     LC10d       LC10d_R  \n",
       "4516     LC10d       LC10d_R  \n",
       "\n",
       "[4517 rows x 8 columns]"
      ]
     },
     "execution_count": 103,
     "metadata": {},
     "output_type": "execute_result"
    }
   ],
   "source": [
    "#  Define pre- and post-synaptic cell types\n",
    "celltypes_pre = AOTU_celltypes\n",
    "celltypes_post = LC10_celltypes\n",
    "#  Set connection weight threshold\n",
    "threshold = 3\n",
    "# Fetch synaptic connectivity between these types\n",
    "neu_df, conn_df = fetch_adjacencies(celltypes_pre, celltypes_post, min_roi_weight=threshold)\n",
    "# Merge with neuron properties to get types on both sides\n",
    "conn_AOTU_LC10_df = merge_neuron_properties(neu_df, conn_df)\n",
    "\n",
    "conn_AOTU_LC10_df\n"
   ]
  },
  {
   "cell_type": "code",
   "execution_count": 104,
   "metadata": {},
   "outputs": [
    {
     "data": {
      "text/html": [
       "<div>\n",
       "<style scoped>\n",
       "    .dataframe tbody tr th:only-of-type {\n",
       "        vertical-align: middle;\n",
       "    }\n",
       "\n",
       "    .dataframe tbody tr th {\n",
       "        vertical-align: top;\n",
       "    }\n",
       "\n",
       "    .dataframe thead th {\n",
       "        text-align: right;\n",
       "    }\n",
       "</style>\n",
       "<table border=\"1\" class=\"dataframe\">\n",
       "  <thead>\n",
       "    <tr style=\"text-align: right;\">\n",
       "      <th></th>\n",
       "      <th>type_pre</th>\n",
       "      <th>type_post</th>\n",
       "      <th>weight</th>\n",
       "    </tr>\n",
       "  </thead>\n",
       "  <tbody>\n",
       "    <tr>\n",
       "      <th>0</th>\n",
       "      <td>AOTU002_b</td>\n",
       "      <td>LC10d</td>\n",
       "      <td>3</td>\n",
       "    </tr>\n",
       "    <tr>\n",
       "      <th>1</th>\n",
       "      <td>AOTU002_c</td>\n",
       "      <td>LC10d</td>\n",
       "      <td>3</td>\n",
       "    </tr>\n",
       "    <tr>\n",
       "      <th>2</th>\n",
       "      <td>AOTU005</td>\n",
       "      <td>LC10e</td>\n",
       "      <td>5</td>\n",
       "    </tr>\n",
       "    <tr>\n",
       "      <th>3</th>\n",
       "      <td>AOTU008</td>\n",
       "      <td>LC10d</td>\n",
       "      <td>3</td>\n",
       "    </tr>\n",
       "    <tr>\n",
       "      <th>4</th>\n",
       "      <td>AOTU011</td>\n",
       "      <td>LC10b</td>\n",
       "      <td>34</td>\n",
       "    </tr>\n",
       "    <tr>\n",
       "      <th>...</th>\n",
       "      <td>...</td>\n",
       "      <td>...</td>\n",
       "      <td>...</td>\n",
       "    </tr>\n",
       "    <tr>\n",
       "      <th>73</th>\n",
       "      <td>AOTU063_a</td>\n",
       "      <td>LC10a</td>\n",
       "      <td>3</td>\n",
       "    </tr>\n",
       "    <tr>\n",
       "      <th>74</th>\n",
       "      <td>AOTU063_a</td>\n",
       "      <td>LC10d</td>\n",
       "      <td>6</td>\n",
       "    </tr>\n",
       "    <tr>\n",
       "      <th>75</th>\n",
       "      <td>AOTU063_b</td>\n",
       "      <td>LC10a</td>\n",
       "      <td>3</td>\n",
       "    </tr>\n",
       "    <tr>\n",
       "      <th>76</th>\n",
       "      <td>AOTU063_b</td>\n",
       "      <td>LC10d</td>\n",
       "      <td>7</td>\n",
       "    </tr>\n",
       "    <tr>\n",
       "      <th>77</th>\n",
       "      <td>AOTU065</td>\n",
       "      <td>LC10c-2</td>\n",
       "      <td>3</td>\n",
       "    </tr>\n",
       "  </tbody>\n",
       "</table>\n",
       "<p>78 rows × 3 columns</p>\n",
       "</div>"
      ],
      "text/plain": [
       "     type_pre type_post  weight\n",
       "0   AOTU002_b     LC10d       3\n",
       "1   AOTU002_c     LC10d       3\n",
       "2     AOTU005     LC10e       5\n",
       "3     AOTU008     LC10d       3\n",
       "4     AOTU011     LC10b      34\n",
       "..        ...       ...     ...\n",
       "73  AOTU063_a     LC10a       3\n",
       "74  AOTU063_a     LC10d       6\n",
       "75  AOTU063_b     LC10a       3\n",
       "76  AOTU063_b     LC10d       7\n",
       "77    AOTU065   LC10c-2       3\n",
       "\n",
       "[78 rows x 3 columns]"
      ]
     },
     "execution_count": 104,
     "metadata": {},
     "output_type": "execute_result"
    }
   ],
   "source": [
    "# Group by type combinations and sum the weights\n",
    "conn_AOTU_LC10_df_type = conn_AOTU_LC10_df.groupby(['type_pre','type_post'])['weight'].sum().reset_index()\n",
    "\n",
    "conn_AOTU_LC10_df_type"
   ]
  },
  {
   "cell_type": "code",
   "execution_count": 105,
   "metadata": {},
   "outputs": [],
   "source": [
    "# Pivot to create matrix form of the connection weights\n",
    "matrix_df = conn_AOTU_LC10_df_type.pivot_table(index='type_pre', columns='type_post', values='weight', aggfunc='sum', fill_value=0)\n",
    "# Normalize each column (post-synaptic type) by its total input\n",
    "norm_matrix_df = matrix_df.div(matrix_df.sum(axis=0), axis=1)\n",
    "\n",
    "\n",
    "conn_AOTU_LC10_df_type_sort = conn_AOTU_LC10_df_type.sort_values(by='weight', ascending=False)\n",
    "\n",
    "#filter for only strong connections\n",
    "conn_AOTU_LC10_df_type_top = conn_AOTU_LC10_df_type_sort[conn_AOTU_LC10_df_type_sort['weight']>300]\n",
    "\n"
   ]
  },
  {
   "cell_type": "code",
   "execution_count": 106,
   "metadata": {},
   "outputs": [
    {
     "data": {
      "image/png": "[encoded data removed]",
      "text/plain": [
       "<Figure size 1000x1200 with 2 Axes>"
      ]
     },
     "metadata": {},
     "output_type": "display_data"
    }
   ],
   "source": [
    "# Pivot the DataFrame to a matrix format\n",
    "# matrix_df = conn_AOTU_df_type_top.pivot_table(index='type_pre', columns='type_post', values='weight', aggfunc='sum', fill_value=0)\n",
    "\n",
    "# Create the heatmap\n",
    "plt.figure(figsize=(10, 12))\n",
    "ax = sb.heatmap(norm_matrix_df, cmap='Reds', annot=False, linewidths=0.5)\n",
    "\n",
    "# Labeling\n",
    "# Title and axis labels\n",
    "ax.set_title('Connection Weights: type_pre → type_post')\n",
    "ax.set_xlabel('type_post')\n",
    "ax.set_ylabel('type_pre')\n",
    "\n",
    "# Force all y-ticks to be shown\n",
    "ax.set_yticks(range(len(norm_matrix_df.index)))\n",
    "ax.set_yticklabels(norm_matrix_df.index, rotation=0, fontsize=7)\n",
    "\n",
    "# Also ensure all x-ticks are shown if needed\n",
    "ax.set_xticks(range(len(norm_matrix_df.columns)))\n",
    "ax.set_xticklabels(norm_matrix_df.columns, rotation=90, fontsize=7)\n",
    "\n",
    "plt.tight_layout()\n",
    "plt.show()"
   ]
  }
 ],
 "metadata": {
  "kernelspec": {
   "display_name": "default",
   "language": "python",
   "name": "python3"
  },
  "language_info": {
   "codemirror_mode": {
    "name": "ipython",
    "version": 3
   },
   "file_extension": ".py",
   "mimetype": "text/x-python",
   "name": "python",
   "nbconvert_exporter": "python",
   "pygments_lexer": "ipython3",
   "version": "3.12.10"
  }
 },
 "nbformat": 4,
 "nbformat_minor": 2
}
