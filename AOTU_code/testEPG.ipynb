{
 "cells": [
  {
   "cell_type": "code",
   "execution_count": null,
   "metadata": {},
   "outputs": [],
   "source": [
    "\"\"\"\n",
    "This cell does the initial project setup.\n",
    "If you start a new script or notebook, make sure to copy & paste this part.\n",
    "\n",
    "A script with this code uses the location of the `.env` file as the anchor for\n",
    "the whole project (= PROJECT_ROOT). Afterwards, code inside the `src` directory\n",
    "are available for import.\n",
    "\"\"\"\n",
    "from pathlib import Path\n",
    "import sys\n",
    "from dotenv import load_dotenv, find_dotenv\n",
    "load_dotenv()\n",
    "PROJECT_ROOT = Path(find_dotenv()).parent\n",
    "sys.path.append(str(PROJECT_ROOT.joinpath(\"src\")))\n",
    "print(f\"Project root directory: {PROJECT_ROOT}\")"
   ]
  },
  {
   "cell_type": "code",
   "execution_count": null,
   "metadata": {},
   "outputs": [],
   "source": [
    "from neuprint import NeuronCriteria as NC\n",
    "\n",
    "import navis\n",
    "import navis.interfaces.neuprint as neu\n",
    "\n",
    "from utils import olc_client\n",
    "\n",
    "c = olc_client.connect(verbose=True)"
   ]
  },
  {
   "cell_type": "code",
   "execution_count": null,
   "metadata": {},
   "outputs": [],
   "source": [
    "import matplotlib.pyplot as plt"
   ]
  },
  {
   "cell_type": "code",
   "execution_count": null,
   "metadata": {},
   "outputs": [],
   "source": [
    "from neuprint import fetch_neurons, fetch_synapses, SynapseCriteria as SC, fetch_adjacencies, merge_neuron_properties, NeuronCriteria as NC"
   ]
  },
  {
   "cell_type": "code",
   "execution_count": null,
   "metadata": {},
   "outputs": [],
   "source": [
    "neuron_df, roi_df = fetch_neurons(NC(type='AOTU001'))\n",
    "neuron_df, roi_counts_df = fetch_neurons(NC(type='AOTU001'))"
   ]
  },
  {
   "cell_type": "code",
   "execution_count": null,
   "metadata": {},
   "outputs": [],
   "source": [
    "neuron_df"
   ]
  },
  {
   "cell_type": "code",
   "execution_count": null,
   "metadata": {},
   "outputs": [],
   "source": [
    "roi_counts_df"
   ]
  },
  {
   "cell_type": "code",
   "execution_count": null,
   "metadata": {},
   "outputs": [],
   "source": [
    "from neuprint import fetch_adjacencies, NeuronCriteria as NC\n",
    "\n",
    "# Example: Fetch all downstream connections FROM a set of neurons\n",
    "# neuron_df, conn_df = fetch_adjacencies([387023620, 387364605, 416642425], None)\n",
    "\n",
    "# Example: Fetch all upstream connections TO a set of neurons\n",
    "# neuron_df, conn_df = fetch_adjacencies(None, [387023620, 387364605, 416642425])\n",
    "\n",
    "# Example: Fetch all direct connections between a set of upstream neurons and downstream neurons\n",
    "neuron_df, conn_df = fetch_adjacencies(NC(type='AOTU.*'))"
   ]
  },
  {
   "cell_type": "code",
   "execution_count": null,
   "metadata": {},
   "outputs": [],
   "source": [
    "#syn_df = fetch_synapses()\n",
    "conn_df.sort_values('weight', ascending=False)\n"
   ]
  },
  {
   "cell_type": "code",
   "execution_count": null,
   "metadata": {},
   "outputs": [],
   "source": [
    "from neuprint import merge_neuron_properties\n",
    "\n",
    "conn_df = merge_neuron_properties(neuron_df, conn_df, ['type', 'instance'])\n",
    "conn_df"
   ]
  },
  {
   "cell_type": "code",
   "execution_count": null,
   "metadata": {},
   "outputs": [],
   "source": [
    "from neuprint.utils import connection_table_to_matrix"
   ]
  },
  {
   "cell_type": "code",
   "execution_count": null,
   "metadata": {},
   "outputs": [],
   "source": [
    "matrix = connection_table_to_matrix(conn_df, 'bodyId', sort_by='type')\n",
    "matrix.iloc[:10, :10] "
   ]
  },
  {
   "cell_type": "code",
   "execution_count": null,
   "metadata": {},
   "outputs": [],
   "source": [
    "Neuron_criteria_pre = NC(rois=['LA(R)','ME(R)','AME(R)','LO(R)','LOP(R)'], roi_req='any')\n",
    "Neuron_criteria_post  = NC(type='EPG')\n",
    "\n",
    "neurons_OL_df,connections_OL_df = fetch_adjacencies(Neuron_criteria_pre,Neuron_criteria_post, min_roi_weight=3)\n",
    "conn_OL_df = merge_neuron_properties(neurons_OL_df, connections_OL_df, 'type')"
   ]
  },
  {
   "cell_type": "code",
   "execution_count": null,
   "metadata": {},
   "outputs": [],
   "source": [
    "conn_OL_df"
   ]
  },
  {
   "cell_type": "code",
   "execution_count": null,
   "metadata": {},
   "outputs": [],
   "source": [
    "plt.hist(conn_OL_df['roi'])"
   ]
  },
  {
   "cell_type": "code",
   "execution_count": null,
   "metadata": {},
   "outputs": [],
   "source": [
    "conn_OL_df['roi'].unique()"
   ]
  }
 ],
 "metadata": {
  "kernelspec": {
   "display_name": "Python 3",
   "language": "python",
   "name": "python3"
  },
  "language_info": {
   "codemirror_mode": {
    "name": "ipython",
    "version": 3
   },
   "file_extension": ".py",
   "mimetype": "text/x-python",
   "name": "python",
   "nbconvert_exporter": "python",
   "pygments_lexer": "ipython3",
   "version": "3.12.10"
  }
 },
 "nbformat": 4,
 "nbformat_minor": 2
}
