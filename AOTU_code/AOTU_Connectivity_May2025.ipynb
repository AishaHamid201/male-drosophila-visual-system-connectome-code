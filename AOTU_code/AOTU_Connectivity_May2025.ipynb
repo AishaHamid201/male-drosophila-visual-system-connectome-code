{
 "cells": [
  {
   "cell_type": "code",
   "execution_count": 1,
   "id": "5d680d5e-ff97-42eb-8fee-5f28dad7252e",
   "metadata": {
    "execution": {
     "iopub.execute_input": "2024-05-28T20:09:59.079676Z",
     "iopub.status.busy": "2024-05-28T20:09:59.078896Z",
     "iopub.status.idle": "2024-05-28T20:09:59.220082Z",
     "shell.execute_reply": "2024-05-28T20:09:59.219425Z",
     "shell.execute_reply.started": "2024-05-28T20:09:59.079588Z"
    },
    "lines_to_next_cell": 2
   },
   "outputs": [
    {
     "data": {
      "text/html": [
       "<script type=\"esms-options\">{\"shimMode\": true}</script><style>*[data-root-id],\n",
       "*[data-root-id] > * {\n",
       "  box-sizing: border-box;\n",
       "  font-family: var(--jp-ui-font-family);\n",
       "  font-size: var(--jp-ui-font-size1);\n",
       "  color: var(--vscode-editor-foreground, var(--jp-ui-font-color1));\n",
       "}\n",
       "\n",
       "/* Override VSCode background color */\n",
       ".cell-output-ipywidget-background:has(\n",
       "    > .cell-output-ipywidget-background > .lm-Widget > *[data-root-id]\n",
       "  ),\n",
       ".cell-output-ipywidget-background:has(> .lm-Widget > *[data-root-id]) {\n",
       "  background-color: transparent !important;\n",
       "}\n",
       "</style>"
      ]
     },
     "metadata": {},
     "output_type": "display_data"
    },
    {
     "data": {
      "application/javascript": "(function(root) {\n  function now() {\n    return new Date();\n  }\n\n  const force = true;\n  const py_version = '3.7.3'.replace('rc', '-rc.').replace('.dev', '-dev.');\n  const reloading = false;\n  const Bokeh = root.Bokeh;\n\n  // Set a timeout for this load but only if we are not already initializing\n  if (typeof (root._bokeh_timeout) === \"undefined\" || (force || !root._bokeh_is_initializing)) {\n    root._bokeh_timeout = Date.now() + 5000;\n    root._bokeh_failed_load = false;\n  }\n\n  function run_callbacks() {\n    try {\n      root._bokeh_onload_callbacks.forEach(function(callback) {\n        if (callback != null)\n          callback();\n      });\n    } finally {\n      delete root._bokeh_onload_callbacks;\n    }\n    console.debug(\"Bokeh: all callbacks have finished\");\n  }\n\n  function load_libs(css_urls, js_urls, js_modules, js_exports, callback) {\n    if (css_urls == null) css_urls = [];\n    if (js_urls == null) js_urls = [];\n    if (js_modules == null) js_modules = [];\n    if (js_exports == null) js_exports = {};\n\n    root._bokeh_onload_callbacks.push(callback);\n\n    if (root._bokeh_is_loading > 0) {\n      // Don't load bokeh if it is still initializing\n      console.debug(\"Bokeh: BokehJS is being loaded, scheduling callback at\", now());\n      return null;\n    } else if (js_urls.length === 0 && js_modules.length === 0 && Object.keys(js_exports).length === 0) {\n      // There is nothing to load\n      run_callbacks();\n      return null;\n    }\n\n    function on_load() {\n      root._bokeh_is_loading--;\n      if (root._bokeh_is_loading === 0) {\n        console.debug(\"Bokeh: all BokehJS libraries/stylesheets loaded\");\n        run_callbacks()\n      }\n    }\n    window._bokeh_on_load = on_load\n\n    function on_error(e) {\n      const src_el = e.srcElement\n      console.error(\"failed to load \" + (src_el.href || src_el.src));\n    }\n\n    const skip = [];\n    if (window.requirejs) {\n      window.requirejs.config({'packages': {}, 'paths': {}, 'shim': {}});\n      root._bokeh_is_loading = css_urls.length + 0;\n    } else {\n      root._bokeh_is_loading = css_urls.length + js_urls.length + js_modules.length + Object.keys(js_exports).length;\n    }\n\n    const existing_stylesheets = []\n    const links = document.getElementsByTagName('link')\n    for (let i = 0; i < links.length; i++) {\n      const link = links[i]\n      if (link.href != null) {\n        existing_stylesheets.push(link.href)\n      }\n    }\n    for (let i = 0; i < css_urls.length; i++) {\n      const url = css_urls[i];\n      const escaped = encodeURI(url)\n      if (existing_stylesheets.indexOf(escaped) !== -1) {\n        on_load()\n        continue;\n      }\n      const element = document.createElement(\"link\");\n      element.onload = on_load;\n      element.onerror = on_error;\n      element.rel = \"stylesheet\";\n      element.type = \"text/css\";\n      element.href = url;\n      console.debug(\"Bokeh: injecting link tag for BokehJS stylesheet: \", url);\n      document.body.appendChild(element);\n    }    var existing_scripts = []\n    const scripts = document.getElementsByTagName('script')\n    for (let i = 0; i < scripts.length; i++) {\n      var script = scripts[i]\n      if (script.src != null) {\n        existing_scripts.push(script.src)\n      }\n    }\n    for (let i = 0; i < js_urls.length; i++) {\n      const url = js_urls[i];\n      const escaped = encodeURI(url)\n      if (skip.indexOf(escaped) !== -1 || existing_scripts.indexOf(escaped) !== -1) {\n        if (!window.requirejs) {\n          on_load();\n        }\n        continue;\n      }\n      const element = document.createElement('script');\n      element.onload = on_load;\n      element.onerror = on_error;\n      element.async = false;\n      element.src = url;\n      console.debug(\"Bokeh: injecting script tag for BokehJS library: \", url);\n      document.head.appendChild(element);\n    }\n    for (let i = 0; i < js_modules.length; i++) {\n      const url = js_modules[i];\n      const escaped = encodeURI(url)\n      if (skip.indexOf(escaped) !== -1 || existing_scripts.indexOf(escaped) !== -1) {\n        if (!window.requirejs) {\n          on_load();\n        }\n        continue;\n      }\n      var element = document.createElement('script');\n      element.onload = on_load;\n      element.onerror = on_error;\n      element.async = false;\n      element.src = url;\n      element.type = \"module\";\n      console.debug(\"Bokeh: injecting script tag for BokehJS library: \", url);\n      document.head.appendChild(element);\n    }\n    for (const name in js_exports) {\n      const url = js_exports[name];\n      const escaped = encodeURI(url)\n      if (skip.indexOf(escaped) >= 0 || root[name] != null) {\n        if (!window.requirejs) {\n          on_load();\n        }\n        continue;\n      }\n      var element = document.createElement('script');\n      element.onerror = on_error;\n      element.async = false;\n      element.type = \"module\";\n      console.debug(\"Bokeh: injecting script tag for BokehJS library: \", url);\n      element.textContent = `\n      import ${name} from \"${url}\"\n      window.${name} = ${name}\n      window._bokeh_on_load()\n      `\n      document.head.appendChild(element);\n    }\n    if (!js_urls.length && !js_modules.length) {\n      on_load()\n    }\n  };\n\n  function inject_raw_css(css) {\n    const element = document.createElement(\"style\");\n    element.appendChild(document.createTextNode(css));\n    document.body.appendChild(element);\n  }\n\n  const js_urls = [\"https://cdn.holoviz.org/panel/1.7.0/dist/bundled/reactiveesm/es-module-shims@^1.10.0/dist/es-module-shims.min.js\", \"https://cdn.bokeh.org/bokeh/release/bokeh-3.7.3.min.js\", \"https://cdn.bokeh.org/bokeh/release/bokeh-gl-3.7.3.min.js\", \"https://cdn.bokeh.org/bokeh/release/bokeh-widgets-3.7.3.min.js\", \"https://cdn.bokeh.org/bokeh/release/bokeh-tables-3.7.3.min.js\", \"https://cdn.holoviz.org/panel/1.7.0/dist/panel.min.js\"];\n  const js_modules = [];\n  const js_exports = {};\n  const css_urls = [];\n  const inline_js = [    function(Bokeh) {\n      Bokeh.set_log_level(\"info\");\n    },\nfunction(Bokeh) {} // ensure no trailing comma for IE\n  ];\n\n  function run_inline_js() {\n    if ((root.Bokeh !== undefined) || (force === true)) {\n      for (let i = 0; i < inline_js.length; i++) {\n        try {\n          inline_js[i].call(root, root.Bokeh);\n        } catch(e) {\n          if (!reloading) {\n            throw e;\n          }\n        }\n      }\n      // Cache old bokeh versions\n      if (Bokeh != undefined && !reloading) {\n        var NewBokeh = root.Bokeh;\n        if (Bokeh.versions === undefined) {\n          Bokeh.versions = new Map();\n        }\n        if (NewBokeh.version !== Bokeh.version) {\n          Bokeh.versions.set(NewBokeh.version, NewBokeh)\n        }\n        root.Bokeh = Bokeh;\n      }\n    } else if (Date.now() < root._bokeh_timeout) {\n      setTimeout(run_inline_js, 100);\n    } else if (!root._bokeh_failed_load) {\n      console.log(\"Bokeh: BokehJS failed to load within specified timeout.\");\n      root._bokeh_failed_load = true;\n    }\n    root._bokeh_is_initializing = false\n  }\n\n  function load_or_wait() {\n    // Implement a backoff loop that tries to ensure we do not load multiple\n    // versions of Bokeh and its dependencies at the same time.\n    // In recent versions we use the root._bokeh_is_initializing flag\n    // to determine whether there is an ongoing attempt to initialize\n    // bokeh, however for backward compatibility we also try to ensure\n    // that we do not start loading a newer (Panel>=1.0 and Bokeh>3) version\n    // before older versions are fully initialized.\n    if (root._bokeh_is_initializing && Date.now() > root._bokeh_timeout) {\n      // If the timeout and bokeh was not successfully loaded we reset\n      // everything and try loading again\n      root._bokeh_timeout = Date.now() + 5000;\n      root._bokeh_is_initializing = false;\n      root._bokeh_onload_callbacks = undefined;\n      root._bokeh_is_loading = 0\n      console.log(\"Bokeh: BokehJS was loaded multiple times but one version failed to initialize.\");\n      load_or_wait();\n    } else if (root._bokeh_is_initializing || (typeof root._bokeh_is_initializing === \"undefined\" && root._bokeh_onload_callbacks !== undefined)) {\n      setTimeout(load_or_wait, 100);\n    } else {\n      root._bokeh_is_initializing = true\n      root._bokeh_onload_callbacks = []\n      const bokeh_loaded = root.Bokeh != null && (root.Bokeh.version === py_version || (root.Bokeh.versions !== undefined && root.Bokeh.versions.has(py_version)));\n      if (!reloading && !bokeh_loaded) {\n        if (root.Bokeh) {\n          root.Bokeh = undefined;\n        }\n        console.debug(\"Bokeh: BokehJS not loaded, scheduling load and callback at\", now());\n      }\n      load_libs(css_urls, js_urls, js_modules, js_exports, function() {\n        console.debug(\"Bokeh: BokehJS plotting callback run at\", now());\n        run_inline_js();\n      });\n    }\n  }\n  // Give older versions of the autoload script a head-start to ensure\n  // they initialize before we start loading newer version.\n  setTimeout(load_or_wait, 100)\n}(window));",
      "application/vnd.holoviews_load.v0+json": ""
     },
     "metadata": {},
     "output_type": "display_data"
    },
    {
     "data": {
      "application/javascript": "\nif ((window.PyViz === undefined) || (window.PyViz instanceof HTMLElement)) {\n  window.PyViz = {comms: {}, comm_status:{}, kernels:{}, receivers: {}, plot_index: []}\n}\n\n\n    function JupyterCommManager() {\n    }\n\n    JupyterCommManager.prototype.register_target = function(plot_id, comm_id, msg_handler) {\n      if (window.comm_manager || ((window.Jupyter !== undefined) && (Jupyter.notebook.kernel != null))) {\n        var comm_manager = window.comm_manager || Jupyter.notebook.kernel.comm_manager;\n        comm_manager.register_target(comm_id, function(comm) {\n          comm.on_msg(msg_handler);\n        });\n      } else if ((plot_id in window.PyViz.kernels) && (window.PyViz.kernels[plot_id])) {\n        window.PyViz.kernels[plot_id].registerCommTarget(comm_id, function(comm) {\n          comm.onMsg = msg_handler;\n        });\n      } else if (typeof google != 'undefined' && google.colab.kernel != null) {\n        google.colab.kernel.comms.registerTarget(comm_id, (comm) => {\n          var messages = comm.messages[Symbol.asyncIterator]();\n          function processIteratorResult(result) {\n            var message = result.value;\n            console.log(message)\n            var content = {data: message.data, comm_id};\n            var buffers = []\n            for (var buffer of message.buffers || []) {\n              buffers.push(new DataView(buffer))\n            }\n            var metadata = message.metadata || {};\n            var msg = {content, buffers, metadata}\n            msg_handler(msg);\n            return messages.next().then(processIteratorResult);\n          }\n          return messages.next().then(processIteratorResult);\n        })\n      }\n    }\n\n    JupyterCommManager.prototype.get_client_comm = function(plot_id, comm_id, msg_handler) {\n      if (comm_id in window.PyViz.comms) {\n        return window.PyViz.comms[comm_id];\n      } else if (window.comm_manager || ((window.Jupyter !== undefined) && (Jupyter.notebook.kernel != null))) {\n        var comm_manager = window.comm_manager || Jupyter.notebook.kernel.comm_manager;\n        var comm = comm_manager.new_comm(comm_id, {}, {}, {}, comm_id);\n        if (msg_handler) {\n          comm.on_msg(msg_handler);\n        }\n      } else if ((plot_id in window.PyViz.kernels) && (window.PyViz.kernels[plot_id])) {\n        var comm = window.PyViz.kernels[plot_id].connectToComm(comm_id);\n        comm.open();\n        if (msg_handler) {\n          comm.onMsg = msg_handler;\n        }\n      } else if (typeof google != 'undefined' && google.colab.kernel != null) {\n        var comm_promise = google.colab.kernel.comms.open(comm_id)\n        comm_promise.then((comm) => {\n          window.PyViz.comms[comm_id] = comm;\n          if (msg_handler) {\n            var messages = comm.messages[Symbol.asyncIterator]();\n            function processIteratorResult(result) {\n              var message = result.value;\n              var content = {data: message.data};\n              var metadata = message.metadata || {comm_id};\n              var msg = {content, metadata}\n              msg_handler(msg);\n              return messages.next().then(processIteratorResult);\n            }\n            return messages.next().then(processIteratorResult);\n          }\n        })\n        var sendClosure = (data, metadata, buffers, disposeOnDone) => {\n          return comm_promise.then((comm) => {\n            comm.send(data, metadata, buffers, disposeOnDone);\n          });\n        };\n        var comm = {\n          send: sendClosure\n        };\n      }\n      window.PyViz.comms[comm_id] = comm;\n      return comm;\n    }\n    window.PyViz.comm_manager = new JupyterCommManager();\n    \n\n\nvar JS_MIME_TYPE = 'application/javascript';\nvar HTML_MIME_TYPE = 'text/html';\nvar EXEC_MIME_TYPE = 'application/vnd.holoviews_exec.v0+json';\nvar CLASS_NAME = 'output';\n\n/**\n * Render data to the DOM node\n */\nfunction render(props, node) {\n  var div = document.createElement(\"div\");\n  var script = document.createElement(\"script\");\n  node.appendChild(div);\n  node.appendChild(script);\n}\n\n/**\n * Handle when a new output is added\n */\nfunction handle_add_output(event, handle) {\n  var output_area = handle.output_area;\n  var output = handle.output;\n  if ((output.data == undefined) || (!output.data.hasOwnProperty(EXEC_MIME_TYPE))) {\n    return\n  }\n  var id = output.metadata[EXEC_MIME_TYPE][\"id\"];\n  var toinsert = output_area.element.find(\".\" + CLASS_NAME.split(' ')[0]);\n  if (id !== undefined) {\n    var nchildren = toinsert.length;\n    var html_node = toinsert[nchildren-1].children[0];\n    html_node.innerHTML = output.data[HTML_MIME_TYPE];\n    var scripts = [];\n    var nodelist = html_node.querySelectorAll(\"script\");\n    for (var i in nodelist) {\n      if (nodelist.hasOwnProperty(i)) {\n        scripts.push(nodelist[i])\n      }\n    }\n\n    scripts.forEach( function (oldScript) {\n      var newScript = document.createElement(\"script\");\n      var attrs = [];\n      var nodemap = oldScript.attributes;\n      for (var j in nodemap) {\n        if (nodemap.hasOwnProperty(j)) {\n          attrs.push(nodemap[j])\n        }\n      }\n      attrs.forEach(function(attr) { newScript.setAttribute(attr.name, attr.value) });\n      newScript.appendChild(document.createTextNode(oldScript.innerHTML));\n      oldScript.parentNode.replaceChild(newScript, oldScript);\n    });\n    if (JS_MIME_TYPE in output.data) {\n      toinsert[nchildren-1].children[1].textContent = output.data[JS_MIME_TYPE];\n    }\n    output_area._hv_plot_id = id;\n    if ((window.Bokeh !== undefined) && (id in Bokeh.index)) {\n      window.PyViz.plot_index[id] = Bokeh.index[id];\n    } else {\n      window.PyViz.plot_index[id] = null;\n    }\n  } else if (output.metadata[EXEC_MIME_TYPE][\"server_id\"] !== undefined) {\n    var bk_div = document.createElement(\"div\");\n    bk_div.innerHTML = output.data[HTML_MIME_TYPE];\n    var script_attrs = bk_div.children[0].attributes;\n    for (var i = 0; i < script_attrs.length; i++) {\n      toinsert[toinsert.length - 1].childNodes[1].setAttribute(script_attrs[i].name, script_attrs[i].value);\n    }\n    // store reference to server id on output_area\n    output_area._bokeh_server_id = output.metadata[EXEC_MIME_TYPE][\"server_id\"];\n  }\n}\n\n/**\n * Handle when an output is cleared or removed\n */\nfunction handle_clear_output(event, handle) {\n  var id = handle.cell.output_area._hv_plot_id;\n  var server_id = handle.cell.output_area._bokeh_server_id;\n  if (((id === undefined) || !(id in PyViz.plot_index)) && (server_id !== undefined)) { return; }\n  var comm = window.PyViz.comm_manager.get_client_comm(\"hv-extension-comm\", \"hv-extension-comm\", function () {});\n  if (server_id !== null) {\n    comm.send({event_type: 'server_delete', 'id': server_id});\n    return;\n  } else if (comm !== null) {\n    comm.send({event_type: 'delete', 'id': id});\n  }\n  delete PyViz.plot_index[id];\n  if ((window.Bokeh !== undefined) & (id in window.Bokeh.index)) {\n    var doc = window.Bokeh.index[id].model.document\n    doc.clear();\n    const i = window.Bokeh.documents.indexOf(doc);\n    if (i > -1) {\n      window.Bokeh.documents.splice(i, 1);\n    }\n  }\n}\n\n/**\n * Handle kernel restart event\n */\nfunction handle_kernel_cleanup(event, handle) {\n  delete PyViz.comms[\"hv-extension-comm\"];\n  window.PyViz.plot_index = {}\n}\n\n/**\n * Handle update_display_data messages\n */\nfunction handle_update_output(event, handle) {\n  handle_clear_output(event, {cell: {output_area: handle.output_area}})\n  handle_add_output(event, handle)\n}\n\nfunction register_renderer(events, OutputArea) {\n  function append_mime(data, metadata, element) {\n    // create a DOM node to render to\n    var toinsert = this.create_output_subarea(\n    metadata,\n    CLASS_NAME,\n    EXEC_MIME_TYPE\n    );\n    this.keyboard_manager.register_events(toinsert);\n    // Render to node\n    var props = {data: data, metadata: metadata[EXEC_MIME_TYPE]};\n    render(props, toinsert[0]);\n    element.append(toinsert);\n    return toinsert\n  }\n\n  events.on('output_added.OutputArea', handle_add_output);\n  events.on('output_updated.OutputArea', handle_update_output);\n  events.on('clear_output.CodeCell', handle_clear_output);\n  events.on('delete.Cell', handle_clear_output);\n  events.on('kernel_ready.Kernel', handle_kernel_cleanup);\n\n  OutputArea.prototype.register_mime_type(EXEC_MIME_TYPE, append_mime, {\n    safe: true,\n    index: 0\n  });\n}\n\nif (window.Jupyter !== undefined) {\n  try {\n    var events = require('base/js/events');\n    var OutputArea = require('notebook/js/outputarea').OutputArea;\n    if (OutputArea.prototype.mime_types().indexOf(EXEC_MIME_TYPE) == -1) {\n      register_renderer(events, OutputArea);\n    }\n  } catch(err) {\n  }\n}\n",
      "application/vnd.holoviews_load.v0+json": ""
     },
     "metadata": {},
     "output_type": "display_data"
    },
    {
     "data": {
      "application/vnd.holoviews_exec.v0+json": "",
      "text/html": [
       "<div id='261c4288-9aee-411d-8e4c-74c4ca1d4657'>\n",
       "  <div id=\"d851d826-8f04-47bc-a7e0-485a8bcae4b0\" data-root-id=\"261c4288-9aee-411d-8e4c-74c4ca1d4657\" style=\"display: contents;\"></div>\n",
       "</div>\n",
       "<script type=\"application/javascript\">(function(root) {\n",
       "  var docs_json = {\"5fcc3952-07b1-4158-ab11-1749b761f9bc\":{\"version\":\"3.7.3\",\"title\":\"Bokeh Application\",\"roots\":[{\"type\":\"object\",\"name\":\"panel.models.browser.BrowserInfo\",\"id\":\"261c4288-9aee-411d-8e4c-74c4ca1d4657\"},{\"type\":\"object\",\"name\":\"panel.models.comm_manager.CommManager\",\"id\":\"58f1403f-dcf9-4d07-b24e-bbd0ec317d1d\",\"attributes\":{\"plot_id\":\"261c4288-9aee-411d-8e4c-74c4ca1d4657\",\"comm_id\":\"ca19147ab246421894d19a7a84092e8d\",\"client_comm_id\":\"3796fc706844408fb6345b3a213a04d5\"}}],\"defs\":[{\"type\":\"model\",\"name\":\"ReactiveHTML1\"},{\"type\":\"model\",\"name\":\"FlexBox1\",\"properties\":[{\"name\":\"align_content\",\"kind\":\"Any\",\"default\":\"flex-start\"},{\"name\":\"align_items\",\"kind\":\"Any\",\"default\":\"flex-start\"},{\"name\":\"flex_direction\",\"kind\":\"Any\",\"default\":\"row\"},{\"name\":\"flex_wrap\",\"kind\":\"Any\",\"default\":\"wrap\"},{\"name\":\"gap\",\"kind\":\"Any\",\"default\":\"\"},{\"name\":\"justify_content\",\"kind\":\"Any\",\"default\":\"flex-start\"}]},{\"type\":\"model\",\"name\":\"FloatPanel1\",\"properties\":[{\"name\":\"config\",\"kind\":\"Any\",\"default\":{\"type\":\"map\"}},{\"name\":\"contained\",\"kind\":\"Any\",\"default\":true},{\"name\":\"position\",\"kind\":\"Any\",\"default\":\"right-top\"},{\"name\":\"offsetx\",\"kind\":\"Any\",\"default\":null},{\"name\":\"offsety\",\"kind\":\"Any\",\"default\":null},{\"name\":\"theme\",\"kind\":\"Any\",\"default\":\"primary\"},{\"name\":\"status\",\"kind\":\"Any\",\"default\":\"normalized\"}]},{\"type\":\"model\",\"name\":\"GridStack1\",\"properties\":[{\"name\":\"ncols\",\"kind\":\"Any\",\"default\":null},{\"name\":\"nrows\",\"kind\":\"Any\",\"default\":null},{\"name\":\"allow_resize\",\"kind\":\"Any\",\"default\":true},{\"name\":\"allow_drag\",\"kind\":\"Any\",\"default\":true},{\"name\":\"state\",\"kind\":\"Any\",\"default\":[]}]},{\"type\":\"model\",\"name\":\"drag1\",\"properties\":[{\"name\":\"slider_width\",\"kind\":\"Any\",\"default\":5},{\"name\":\"slider_color\",\"kind\":\"Any\",\"default\":\"black\"},{\"name\":\"value\",\"kind\":\"Any\",\"default\":50}]},{\"type\":\"model\",\"name\":\"click1\",\"properties\":[{\"name\":\"terminal_output\",\"kind\":\"Any\",\"default\":\"\"},{\"name\":\"debug_name\",\"kind\":\"Any\",\"default\":\"\"},{\"name\":\"clears\",\"kind\":\"Any\",\"default\":0}]},{\"type\":\"model\",\"name\":\"FastWrapper1\",\"properties\":[{\"name\":\"object\",\"kind\":\"Any\",\"default\":null},{\"name\":\"style\",\"kind\":\"Any\",\"default\":null}]},{\"type\":\"model\",\"name\":\"NotificationArea1\",\"properties\":[{\"name\":\"js_events\",\"kind\":\"Any\",\"default\":{\"type\":\"map\"}},{\"name\":\"max_notifications\",\"kind\":\"Any\",\"default\":5},{\"name\":\"notifications\",\"kind\":\"Any\",\"default\":[]},{\"name\":\"position\",\"kind\":\"Any\",\"default\":\"bottom-right\"},{\"name\":\"_clear\",\"kind\":\"Any\",\"default\":0},{\"name\":\"types\",\"kind\":\"Any\",\"default\":[{\"type\":\"map\",\"entries\":[[\"type\",\"warning\"],[\"background\",\"#ffc107\"],[\"icon\",{\"type\":\"map\",\"entries\":[[\"className\",\"fas fa-exclamation-triangle\"],[\"tagName\",\"i\"],[\"color\",\"white\"]]}]]},{\"type\":\"map\",\"entries\":[[\"type\",\"info\"],[\"background\",\"#007bff\"],[\"icon\",{\"type\":\"map\",\"entries\":[[\"className\",\"fas fa-info-circle\"],[\"tagName\",\"i\"],[\"color\",\"white\"]]}]]}]}]},{\"type\":\"model\",\"name\":\"Notification\",\"properties\":[{\"name\":\"background\",\"kind\":\"Any\",\"default\":null},{\"name\":\"duration\",\"kind\":\"Any\",\"default\":3000},{\"name\":\"icon\",\"kind\":\"Any\",\"default\":null},{\"name\":\"message\",\"kind\":\"Any\",\"default\":\"\"},{\"name\":\"notification_type\",\"kind\":\"Any\",\"default\":null},{\"name\":\"_rendered\",\"kind\":\"Any\",\"default\":false},{\"name\":\"_destroyed\",\"kind\":\"Any\",\"default\":false}]},{\"type\":\"model\",\"name\":\"TemplateActions1\",\"properties\":[{\"name\":\"open_modal\",\"kind\":\"Any\",\"default\":0},{\"name\":\"close_modal\",\"kind\":\"Any\",\"default\":0}]},{\"type\":\"model\",\"name\":\"BootstrapTemplateActions1\",\"properties\":[{\"name\":\"open_modal\",\"kind\":\"Any\",\"default\":0},{\"name\":\"close_modal\",\"kind\":\"Any\",\"default\":0}]},{\"type\":\"model\",\"name\":\"TemplateEditor1\",\"properties\":[{\"name\":\"layout\",\"kind\":\"Any\",\"default\":[]}]},{\"type\":\"model\",\"name\":\"MaterialTemplateActions1\",\"properties\":[{\"name\":\"open_modal\",\"kind\":\"Any\",\"default\":0},{\"name\":\"close_modal\",\"kind\":\"Any\",\"default\":0}]},{\"type\":\"model\",\"name\":\"ReactiveESM1\",\"properties\":[{\"name\":\"esm_constants\",\"kind\":\"Any\",\"default\":{\"type\":\"map\"}}]},{\"type\":\"model\",\"name\":\"JSComponent1\",\"properties\":[{\"name\":\"esm_constants\",\"kind\":\"Any\",\"default\":{\"type\":\"map\"}}]},{\"type\":\"model\",\"name\":\"ReactComponent1\",\"properties\":[{\"name\":\"esm_constants\",\"kind\":\"Any\",\"default\":{\"type\":\"map\"}}]},{\"type\":\"model\",\"name\":\"AnyWidgetComponent1\",\"properties\":[{\"name\":\"esm_constants\",\"kind\":\"Any\",\"default\":{\"type\":\"map\"}}]},{\"type\":\"model\",\"name\":\"request_value1\",\"properties\":[{\"name\":\"fill\",\"kind\":\"Any\",\"default\":\"none\"},{\"name\":\"_synced\",\"kind\":\"Any\",\"default\":null},{\"name\":\"_request_sync\",\"kind\":\"Any\",\"default\":0}]}]}};\n",
       "  var render_items = [{\"docid\":\"5fcc3952-07b1-4158-ab11-1749b761f9bc\",\"roots\":{\"261c4288-9aee-411d-8e4c-74c4ca1d4657\":\"d851d826-8f04-47bc-a7e0-485a8bcae4b0\"},\"root_ids\":[\"261c4288-9aee-411d-8e4c-74c4ca1d4657\"]}];\n",
       "  var docs = Object.values(docs_json)\n",
       "  if (!docs) {\n",
       "    return\n",
       "  }\n",
       "  const py_version = docs[0].version.replace('rc', '-rc.').replace('.dev', '-dev.')\n",
       "  async function embed_document(root) {\n",
       "    var Bokeh = get_bokeh(root)\n",
       "    await Bokeh.embed.embed_items_notebook(docs_json, render_items);\n",
       "    for (const render_item of render_items) {\n",
       "      for (const root_id of render_item.root_ids) {\n",
       "\tconst id_el = document.getElementById(root_id)\n",
       "\tif (id_el.children.length && id_el.children[0].hasAttribute('data-root-id')) {\n",
       "\t  const root_el = id_el.children[0]\n",
       "\t  root_el.id = root_el.id + '-rendered'\n",
       "\t  for (const child of root_el.children) {\n",
       "            // Ensure JupyterLab does not capture keyboard shortcuts\n",
       "            // see: https://jupyterlab.readthedocs.io/en/4.1.x/extension/notebook.html#keyboard-interaction-model\n",
       "\t    child.setAttribute('data-lm-suppress-shortcuts', 'true')\n",
       "\t  }\n",
       "\t}\n",
       "      }\n",
       "    }\n",
       "  }\n",
       "  function get_bokeh(root) {\n",
       "    if (root.Bokeh === undefined) {\n",
       "      return null\n",
       "    } else if (root.Bokeh.version !== py_version) {\n",
       "      if (root.Bokeh.versions === undefined || !root.Bokeh.versions.has(py_version)) {\n",
       "\treturn null\n",
       "      }\n",
       "      return root.Bokeh.versions.get(py_version);\n",
       "    } else if (root.Bokeh.version === py_version) {\n",
       "      return root.Bokeh\n",
       "    }\n",
       "    return null\n",
       "  }\n",
       "  function is_loaded(root) {\n",
       "    var Bokeh = get_bokeh(root)\n",
       "    return (Bokeh != null && Bokeh.Panel !== undefined)\n",
       "  }\n",
       "  if (is_loaded(root)) {\n",
       "    embed_document(root);\n",
       "  } else {\n",
       "    var attempts = 0;\n",
       "    var timer = setInterval(function(root) {\n",
       "      if (is_loaded(root)) {\n",
       "        clearInterval(timer);\n",
       "        embed_document(root);\n",
       "      } else if (document.readyState == \"complete\") {\n",
       "        attempts++;\n",
       "        if (attempts > 200) {\n",
       "          clearInterval(timer);\n",
       "\t  var Bokeh = get_bokeh(root)\n",
       "\t  if (Bokeh == null || Bokeh.Panel == null) {\n",
       "            console.warn(\"Panel: ERROR: Unable to run Panel code because Bokeh or Panel library is missing\");\n",
       "\t  } else {\n",
       "\t    console.warn(\"Panel: WARNING: Attempting to render but not all required libraries could be resolved.\")\n",
       "\t    embed_document(root)\n",
       "\t  }\n",
       "        }\n",
       "      }\n",
       "    }, 25, root)\n",
       "  }\n",
       "})(window);</script>"
      ]
     },
     "metadata": {
      "application/vnd.holoviews_exec.v0+json": {
       "id": "261c4288-9aee-411d-8e4c-74c4ca1d4657"
      }
     },
     "output_type": "display_data"
    },
    {
     "data": {
      "text/html": [
       "<script type=\"esms-options\">{\"shimMode\": true}</script><style>*[data-root-id],\n",
       "*[data-root-id] > * {\n",
       "  box-sizing: border-box;\n",
       "  font-family: var(--jp-ui-font-family);\n",
       "  font-size: var(--jp-ui-font-size1);\n",
       "  color: var(--vscode-editor-foreground, var(--jp-ui-font-color1));\n",
       "}\n",
       "\n",
       "/* Override VSCode background color */\n",
       ".cell-output-ipywidget-background:has(\n",
       "    > .cell-output-ipywidget-background > .lm-Widget > *[data-root-id]\n",
       "  ),\n",
       ".cell-output-ipywidget-background:has(> .lm-Widget > *[data-root-id]) {\n",
       "  background-color: transparent !important;\n",
       "}\n",
       "</style>"
      ]
     },
     "metadata": {},
     "output_type": "display_data"
    },
    {
     "data": {
      "application/javascript": "(function(root) {\n  function now() {\n    return new Date();\n  }\n\n  const force = false;\n  const py_version = '3.7.3'.replace('rc', '-rc.').replace('.dev', '-dev.');\n  const reloading = true;\n  const Bokeh = root.Bokeh;\n\n  // Set a timeout for this load but only if we are not already initializing\n  if (typeof (root._bokeh_timeout) === \"undefined\" || (force || !root._bokeh_is_initializing)) {\n    root._bokeh_timeout = Date.now() + 5000;\n    root._bokeh_failed_load = false;\n  }\n\n  function run_callbacks() {\n    try {\n      root._bokeh_onload_callbacks.forEach(function(callback) {\n        if (callback != null)\n          callback();\n      });\n    } finally {\n      delete root._bokeh_onload_callbacks;\n    }\n    console.debug(\"Bokeh: all callbacks have finished\");\n  }\n\n  function load_libs(css_urls, js_urls, js_modules, js_exports, callback) {\n    if (css_urls == null) css_urls = [];\n    if (js_urls == null) js_urls = [];\n    if (js_modules == null) js_modules = [];\n    if (js_exports == null) js_exports = {};\n\n    root._bokeh_onload_callbacks.push(callback);\n\n    if (root._bokeh_is_loading > 0) {\n      // Don't load bokeh if it is still initializing\n      console.debug(\"Bokeh: BokehJS is being loaded, scheduling callback at\", now());\n      return null;\n    } else if (js_urls.length === 0 && js_modules.length === 0 && Object.keys(js_exports).length === 0) {\n      // There is nothing to load\n      run_callbacks();\n      return null;\n    }\n\n    function on_load() {\n      root._bokeh_is_loading--;\n      if (root._bokeh_is_loading === 0) {\n        console.debug(\"Bokeh: all BokehJS libraries/stylesheets loaded\");\n        run_callbacks()\n      }\n    }\n    window._bokeh_on_load = on_load\n\n    function on_error(e) {\n      const src_el = e.srcElement\n      console.error(\"failed to load \" + (src_el.href || src_el.src));\n    }\n\n    const skip = [];\n    if (window.requirejs) {\n      window.requirejs.config({'packages': {}, 'paths': {}, 'shim': {}});\n      root._bokeh_is_loading = css_urls.length + 0;\n    } else {\n      root._bokeh_is_loading = css_urls.length + js_urls.length + js_modules.length + Object.keys(js_exports).length;\n    }\n\n    const existing_stylesheets = []\n    const links = document.getElementsByTagName('link')\n    for (let i = 0; i < links.length; i++) {\n      const link = links[i]\n      if (link.href != null) {\n        existing_stylesheets.push(link.href)\n      }\n    }\n    for (let i = 0; i < css_urls.length; i++) {\n      const url = css_urls[i];\n      const escaped = encodeURI(url)\n      if (existing_stylesheets.indexOf(escaped) !== -1) {\n        on_load()\n        continue;\n      }\n      const element = document.createElement(\"link\");\n      element.onload = on_load;\n      element.onerror = on_error;\n      element.rel = \"stylesheet\";\n      element.type = \"text/css\";\n      element.href = url;\n      console.debug(\"Bokeh: injecting link tag for BokehJS stylesheet: \", url);\n      document.body.appendChild(element);\n    }    var existing_scripts = []\n    const scripts = document.getElementsByTagName('script')\n    for (let i = 0; i < scripts.length; i++) {\n      var script = scripts[i]\n      if (script.src != null) {\n        existing_scripts.push(script.src)\n      }\n    }\n    for (let i = 0; i < js_urls.length; i++) {\n      const url = js_urls[i];\n      const escaped = encodeURI(url)\n      if (skip.indexOf(escaped) !== -1 || existing_scripts.indexOf(escaped) !== -1) {\n        if (!window.requirejs) {\n          on_load();\n        }\n        continue;\n      }\n      const element = document.createElement('script');\n      element.onload = on_load;\n      element.onerror = on_error;\n      element.async = false;\n      element.src = url;\n      console.debug(\"Bokeh: injecting script tag for BokehJS library: \", url);\n      document.head.appendChild(element);\n    }\n    for (let i = 0; i < js_modules.length; i++) {\n      const url = js_modules[i];\n      const escaped = encodeURI(url)\n      if (skip.indexOf(escaped) !== -1 || existing_scripts.indexOf(escaped) !== -1) {\n        if (!window.requirejs) {\n          on_load();\n        }\n        continue;\n      }\n      var element = document.createElement('script');\n      element.onload = on_load;\n      element.onerror = on_error;\n      element.async = false;\n      element.src = url;\n      element.type = \"module\";\n      console.debug(\"Bokeh: injecting script tag for BokehJS library: \", url);\n      document.head.appendChild(element);\n    }\n    for (const name in js_exports) {\n      const url = js_exports[name];\n      const escaped = encodeURI(url)\n      if (skip.indexOf(escaped) >= 0 || root[name] != null) {\n        if (!window.requirejs) {\n          on_load();\n        }\n        continue;\n      }\n      var element = document.createElement('script');\n      element.onerror = on_error;\n      element.async = false;\n      element.type = \"module\";\n      console.debug(\"Bokeh: injecting script tag for BokehJS library: \", url);\n      element.textContent = `\n      import ${name} from \"${url}\"\n      window.${name} = ${name}\n      window._bokeh_on_load()\n      `\n      document.head.appendChild(element);\n    }\n    if (!js_urls.length && !js_modules.length) {\n      on_load()\n    }\n  };\n\n  function inject_raw_css(css) {\n    const element = document.createElement(\"style\");\n    element.appendChild(document.createTextNode(css));\n    document.body.appendChild(element);\n  }\n\n  const js_urls = [\"https://cdn.holoviz.org/panel/1.7.0/dist/bundled/reactiveesm/es-module-shims@^1.10.0/dist/es-module-shims.min.js\"];\n  const js_modules = [];\n  const js_exports = {};\n  const css_urls = [];\n  const inline_js = [    function(Bokeh) {\n      Bokeh.set_log_level(\"info\");\n    },\nfunction(Bokeh) {} // ensure no trailing comma for IE\n  ];\n\n  function run_inline_js() {\n    if ((root.Bokeh !== undefined) || (force === true)) {\n      for (let i = 0; i < inline_js.length; i++) {\n        try {\n          inline_js[i].call(root, root.Bokeh);\n        } catch(e) {\n          if (!reloading) {\n            throw e;\n          }\n        }\n      }\n      // Cache old bokeh versions\n      if (Bokeh != undefined && !reloading) {\n        var NewBokeh = root.Bokeh;\n        if (Bokeh.versions === undefined) {\n          Bokeh.versions = new Map();\n        }\n        if (NewBokeh.version !== Bokeh.version) {\n          Bokeh.versions.set(NewBokeh.version, NewBokeh)\n        }\n        root.Bokeh = Bokeh;\n      }\n    } else if (Date.now() < root._bokeh_timeout) {\n      setTimeout(run_inline_js, 100);\n    } else if (!root._bokeh_failed_load) {\n      console.log(\"Bokeh: BokehJS failed to load within specified timeout.\");\n      root._bokeh_failed_load = true;\n    }\n    root._bokeh_is_initializing = false\n  }\n\n  function load_or_wait() {\n    // Implement a backoff loop that tries to ensure we do not load multiple\n    // versions of Bokeh and its dependencies at the same time.\n    // In recent versions we use the root._bokeh_is_initializing flag\n    // to determine whether there is an ongoing attempt to initialize\n    // bokeh, however for backward compatibility we also try to ensure\n    // that we do not start loading a newer (Panel>=1.0 and Bokeh>3) version\n    // before older versions are fully initialized.\n    if (root._bokeh_is_initializing && Date.now() > root._bokeh_timeout) {\n      // If the timeout and bokeh was not successfully loaded we reset\n      // everything and try loading again\n      root._bokeh_timeout = Date.now() + 5000;\n      root._bokeh_is_initializing = false;\n      root._bokeh_onload_callbacks = undefined;\n      root._bokeh_is_loading = 0\n      console.log(\"Bokeh: BokehJS was loaded multiple times but one version failed to initialize.\");\n      load_or_wait();\n    } else if (root._bokeh_is_initializing || (typeof root._bokeh_is_initializing === \"undefined\" && root._bokeh_onload_callbacks !== undefined)) {\n      setTimeout(load_or_wait, 100);\n    } else {\n      root._bokeh_is_initializing = true\n      root._bokeh_onload_callbacks = []\n      const bokeh_loaded = root.Bokeh != null && (root.Bokeh.version === py_version || (root.Bokeh.versions !== undefined && root.Bokeh.versions.has(py_version)));\n      if (!reloading && !bokeh_loaded) {\n        if (root.Bokeh) {\n          root.Bokeh = undefined;\n        }\n        console.debug(\"Bokeh: BokehJS not loaded, scheduling load and callback at\", now());\n      }\n      load_libs(css_urls, js_urls, js_modules, js_exports, function() {\n        console.debug(\"Bokeh: BokehJS plotting callback run at\", now());\n        run_inline_js();\n      });\n    }\n  }\n  // Give older versions of the autoload script a head-start to ensure\n  // they initialize before we start loading newer version.\n  setTimeout(load_or_wait, 100)\n}(window));",
      "application/vnd.holoviews_load.v0+json": ""
     },
     "metadata": {},
     "output_type": "display_data"
    },
    {
     "data": {
      "application/javascript": "\nif ((window.PyViz === undefined) || (window.PyViz instanceof HTMLElement)) {\n  window.PyViz = {comms: {}, comm_status:{}, kernels:{}, receivers: {}, plot_index: []}\n}\n\n\n    function JupyterCommManager() {\n    }\n\n    JupyterCommManager.prototype.register_target = function(plot_id, comm_id, msg_handler) {\n      if (window.comm_manager || ((window.Jupyter !== undefined) && (Jupyter.notebook.kernel != null))) {\n        var comm_manager = window.comm_manager || Jupyter.notebook.kernel.comm_manager;\n        comm_manager.register_target(comm_id, function(comm) {\n          comm.on_msg(msg_handler);\n        });\n      } else if ((plot_id in window.PyViz.kernels) && (window.PyViz.kernels[plot_id])) {\n        window.PyViz.kernels[plot_id].registerCommTarget(comm_id, function(comm) {\n          comm.onMsg = msg_handler;\n        });\n      } else if (typeof google != 'undefined' && google.colab.kernel != null) {\n        google.colab.kernel.comms.registerTarget(comm_id, (comm) => {\n          var messages = comm.messages[Symbol.asyncIterator]();\n          function processIteratorResult(result) {\n            var message = result.value;\n            console.log(message)\n            var content = {data: message.data, comm_id};\n            var buffers = []\n            for (var buffer of message.buffers || []) {\n              buffers.push(new DataView(buffer))\n            }\n            var metadata = message.metadata || {};\n            var msg = {content, buffers, metadata}\n            msg_handler(msg);\n            return messages.next().then(processIteratorResult);\n          }\n          return messages.next().then(processIteratorResult);\n        })\n      }\n    }\n\n    JupyterCommManager.prototype.get_client_comm = function(plot_id, comm_id, msg_handler) {\n      if (comm_id in window.PyViz.comms) {\n        return window.PyViz.comms[comm_id];\n      } else if (window.comm_manager || ((window.Jupyter !== undefined) && (Jupyter.notebook.kernel != null))) {\n        var comm_manager = window.comm_manager || Jupyter.notebook.kernel.comm_manager;\n        var comm = comm_manager.new_comm(comm_id, {}, {}, {}, comm_id);\n        if (msg_handler) {\n          comm.on_msg(msg_handler);\n        }\n      } else if ((plot_id in window.PyViz.kernels) && (window.PyViz.kernels[plot_id])) {\n        var comm = window.PyViz.kernels[plot_id].connectToComm(comm_id);\n        comm.open();\n        if (msg_handler) {\n          comm.onMsg = msg_handler;\n        }\n      } else if (typeof google != 'undefined' && google.colab.kernel != null) {\n        var comm_promise = google.colab.kernel.comms.open(comm_id)\n        comm_promise.then((comm) => {\n          window.PyViz.comms[comm_id] = comm;\n          if (msg_handler) {\n            var messages = comm.messages[Symbol.asyncIterator]();\n            function processIteratorResult(result) {\n              var message = result.value;\n              var content = {data: message.data};\n              var metadata = message.metadata || {comm_id};\n              var msg = {content, metadata}\n              msg_handler(msg);\n              return messages.next().then(processIteratorResult);\n            }\n            return messages.next().then(processIteratorResult);\n          }\n        })\n        var sendClosure = (data, metadata, buffers, disposeOnDone) => {\n          return comm_promise.then((comm) => {\n            comm.send(data, metadata, buffers, disposeOnDone);\n          });\n        };\n        var comm = {\n          send: sendClosure\n        };\n      }\n      window.PyViz.comms[comm_id] = comm;\n      return comm;\n    }\n    window.PyViz.comm_manager = new JupyterCommManager();\n    \n\n\nvar JS_MIME_TYPE = 'application/javascript';\nvar HTML_MIME_TYPE = 'text/html';\nvar EXEC_MIME_TYPE = 'application/vnd.holoviews_exec.v0+json';\nvar CLASS_NAME = 'output';\n\n/**\n * Render data to the DOM node\n */\nfunction render(props, node) {\n  var div = document.createElement(\"div\");\n  var script = document.createElement(\"script\");\n  node.appendChild(div);\n  node.appendChild(script);\n}\n\n/**\n * Handle when a new output is added\n */\nfunction handle_add_output(event, handle) {\n  var output_area = handle.output_area;\n  var output = handle.output;\n  if ((output.data == undefined) || (!output.data.hasOwnProperty(EXEC_MIME_TYPE))) {\n    return\n  }\n  var id = output.metadata[EXEC_MIME_TYPE][\"id\"];\n  var toinsert = output_area.element.find(\".\" + CLASS_NAME.split(' ')[0]);\n  if (id !== undefined) {\n    var nchildren = toinsert.length;\n    var html_node = toinsert[nchildren-1].children[0];\n    html_node.innerHTML = output.data[HTML_MIME_TYPE];\n    var scripts = [];\n    var nodelist = html_node.querySelectorAll(\"script\");\n    for (var i in nodelist) {\n      if (nodelist.hasOwnProperty(i)) {\n        scripts.push(nodelist[i])\n      }\n    }\n\n    scripts.forEach( function (oldScript) {\n      var newScript = document.createElement(\"script\");\n      var attrs = [];\n      var nodemap = oldScript.attributes;\n      for (var j in nodemap) {\n        if (nodemap.hasOwnProperty(j)) {\n          attrs.push(nodemap[j])\n        }\n      }\n      attrs.forEach(function(attr) { newScript.setAttribute(attr.name, attr.value) });\n      newScript.appendChild(document.createTextNode(oldScript.innerHTML));\n      oldScript.parentNode.replaceChild(newScript, oldScript);\n    });\n    if (JS_MIME_TYPE in output.data) {\n      toinsert[nchildren-1].children[1].textContent = output.data[JS_MIME_TYPE];\n    }\n    output_area._hv_plot_id = id;\n    if ((window.Bokeh !== undefined) && (id in Bokeh.index)) {\n      window.PyViz.plot_index[id] = Bokeh.index[id];\n    } else {\n      window.PyViz.plot_index[id] = null;\n    }\n  } else if (output.metadata[EXEC_MIME_TYPE][\"server_id\"] !== undefined) {\n    var bk_div = document.createElement(\"div\");\n    bk_div.innerHTML = output.data[HTML_MIME_TYPE];\n    var script_attrs = bk_div.children[0].attributes;\n    for (var i = 0; i < script_attrs.length; i++) {\n      toinsert[toinsert.length - 1].childNodes[1].setAttribute(script_attrs[i].name, script_attrs[i].value);\n    }\n    // store reference to server id on output_area\n    output_area._bokeh_server_id = output.metadata[EXEC_MIME_TYPE][\"server_id\"];\n  }\n}\n\n/**\n * Handle when an output is cleared or removed\n */\nfunction handle_clear_output(event, handle) {\n  var id = handle.cell.output_area._hv_plot_id;\n  var server_id = handle.cell.output_area._bokeh_server_id;\n  if (((id === undefined) || !(id in PyViz.plot_index)) && (server_id !== undefined)) { return; }\n  var comm = window.PyViz.comm_manager.get_client_comm(\"hv-extension-comm\", \"hv-extension-comm\", function () {});\n  if (server_id !== null) {\n    comm.send({event_type: 'server_delete', 'id': server_id});\n    return;\n  } else if (comm !== null) {\n    comm.send({event_type: 'delete', 'id': id});\n  }\n  delete PyViz.plot_index[id];\n  if ((window.Bokeh !== undefined) & (id in window.Bokeh.index)) {\n    var doc = window.Bokeh.index[id].model.document\n    doc.clear();\n    const i = window.Bokeh.documents.indexOf(doc);\n    if (i > -1) {\n      window.Bokeh.documents.splice(i, 1);\n    }\n  }\n}\n\n/**\n * Handle kernel restart event\n */\nfunction handle_kernel_cleanup(event, handle) {\n  delete PyViz.comms[\"hv-extension-comm\"];\n  window.PyViz.plot_index = {}\n}\n\n/**\n * Handle update_display_data messages\n */\nfunction handle_update_output(event, handle) {\n  handle_clear_output(event, {cell: {output_area: handle.output_area}})\n  handle_add_output(event, handle)\n}\n\nfunction register_renderer(events, OutputArea) {\n  function append_mime(data, metadata, element) {\n    // create a DOM node to render to\n    var toinsert = this.create_output_subarea(\n    metadata,\n    CLASS_NAME,\n    EXEC_MIME_TYPE\n    );\n    this.keyboard_manager.register_events(toinsert);\n    // Render to node\n    var props = {data: data, metadata: metadata[EXEC_MIME_TYPE]};\n    render(props, toinsert[0]);\n    element.append(toinsert);\n    return toinsert\n  }\n\n  events.on('output_added.OutputArea', handle_add_output);\n  events.on('output_updated.OutputArea', handle_update_output);\n  events.on('clear_output.CodeCell', handle_clear_output);\n  events.on('delete.Cell', handle_clear_output);\n  events.on('kernel_ready.Kernel', handle_kernel_cleanup);\n\n  OutputArea.prototype.register_mime_type(EXEC_MIME_TYPE, append_mime, {\n    safe: true,\n    index: 0\n  });\n}\n\nif (window.Jupyter !== undefined) {\n  try {\n    var events = require('base/js/events');\n    var OutputArea = require('notebook/js/outputarea').OutputArea;\n    if (OutputArea.prototype.mime_types().indexOf(EXEC_MIME_TYPE) == -1) {\n      register_renderer(events, OutputArea);\n    }\n  } catch(err) {\n  }\n}\n",
      "application/vnd.holoviews_load.v0+json": ""
     },
     "metadata": {},
     "output_type": "display_data"
    },
    {
     "data": {
      "text/html": [
       "    <style>\n",
       "        .bk-notebook-logo {\n",
       "            display: block;\n",
       "            width: 20px;\n",
       "            height: 20px;\n",
       "            background-image: url(data:image/png;base64,iVBORw0KGgoAAAANSUhEUgAAABQAAAAUCAYAAACNiR0NAAAABHNCSVQICAgIfAhkiAAAAAlwSFlzAAALEgAACxIB0t1+/AAAABx0RVh0U29mdHdhcmUAQWRvYmUgRmlyZXdvcmtzIENTNui8sowAAAOkSURBVDiNjZRtaJVlGMd/1/08zzln5zjP1LWcU9N0NkN8m2CYjpgQYQXqSs0I84OLIC0hkEKoPtiH3gmKoiJDU7QpLgoLjLIQCpEsNJ1vqUOdO7ppbuec5+V+rj4ctwzd8IIbbi6u+8f1539dt3A78eXC7QizUF7gyV1fD1Yqg4JWz84yffhm0qkFqBogB9rM8tZdtwVsPUhWhGcFJngGeWrPzHm5oaMmkfEg1usvLFyc8jLRqDOMru7AyC8saQr7GG7f5fvDeH7Ej8CM66nIF+8yngt6HWaKh7k49Soy9nXurCi1o3qUbS3zWfrYeQDTB/Qj6kX6Ybhw4B+bOYoLKCC9H3Nu/leUTZ1JdRWkkn2ldcCamzrcf47KKXdAJllSlxAOkRgyHsGC/zRday5Qld9DyoM4/q/rUoy/CXh3jzOu3bHUVZeU+DEn8FInkPBFlu3+nW3Nw0mk6vCDiWg8CeJaxEwuHS3+z5RgY+YBR6V1Z1nxSOfoaPa4LASWxxdNp+VWTk7+4vzaou8v8PN+xo+KY2xsw6une2frhw05CTYOmQvsEhjhWjn0bmXPjpE1+kplmmkP3suftwTubK9Vq22qKmrBhpY4jvd5afdRA3wGjFAgcnTK2s4hY0/GPNIb0nErGMCRxWOOX64Z8RAC4oCXdklmEvcL8o0BfkNK4lUg9HTl+oPlQxdNo3Mg4Nv175e/1LDGzZen30MEjRUtmXSfiTVu1kK8W4txyV6BMKlbgk3lMwYCiusNy9fVfvvwMxv8Ynl6vxoByANLTWplvuj/nF9m2+PDtt1eiHPBr1oIfhCChQMBw6Aw0UulqTKZdfVvfG7VcfIqLG9bcldL/+pdWTLxLUy8Qq38heUIjh4XlzZxzQm19lLFlr8vdQ97rjZVOLf8nclzckbcD4wxXMidpX30sFd37Fv/GtwwhzhxGVAprjbg0gCAEeIgwCZyTV2Z1REEW8O4py0wsjeloKoMr6iCY6dP92H6Vw/oTyICIthibxjm/DfN9lVz8IqtqKYLUXfoKVMVQVVJOElGjrnnUt9T9wbgp8AyYKaGlqingHZU/uG2NTZSVqwHQTWkx9hxjkpWDaCg6Ckj5qebgBVbT3V3NNXMSiWSDdGV3hrtzla7J+duwPOToIg42ChPQOQjspnSlp1V+Gjdged7+8UN5CRAV7a5EdFNwCjEaBR27b3W890TE7g24NAP/mMDXRWrGoFPQI9ls/MWO2dWFAar/xcOIImbbpA3zgAAAABJRU5ErkJggg==);\n",
       "        }\n",
       "    </style>\n",
       "    <div>\n",
       "        <a href=\"https://bokeh.org\" target=\"_blank\" class=\"bk-notebook-logo\"></a>\n",
       "        <span id=\"a2c87bc6-7942-4856-8f66-9bb36ba0d288\">Loading BokehJS ...</span>\n",
       "    </div>\n"
      ]
     },
     "metadata": {},
     "output_type": "display_data"
    },
    {
     "data": {
      "application/javascript": "'use strict';\n(function(root) {\n  function now() {\n    return new Date();\n  }\n\n  const force = true;\n\n  if (typeof root._bokeh_onload_callbacks === \"undefined\" || force === true) {\n    root._bokeh_onload_callbacks = [];\n    root._bokeh_is_loading = undefined;\n  }\n\nconst JS_MIME_TYPE = 'application/javascript';\n  const HTML_MIME_TYPE = 'text/html';\n  const EXEC_MIME_TYPE = 'application/vnd.bokehjs_exec.v0+json';\n  const CLASS_NAME = 'output_bokeh rendered_html';\n\n  /**\n   * Render data to the DOM node\n   */\n  function render(props, node) {\n    const script = document.createElement(\"script\");\n    node.appendChild(script);\n  }\n\n  /**\n   * Handle when an output is cleared or removed\n   */\n  function handleClearOutput(event, handle) {\n    function drop(id) {\n      const view = Bokeh.index.get_by_id(id)\n      if (view != null) {\n        view.model.document.clear()\n        Bokeh.index.delete(view)\n      }\n    }\n\n    const cell = handle.cell;\n\n    const id = cell.output_area._bokeh_element_id;\n    const server_id = cell.output_area._bokeh_server_id;\n\n    // Clean up Bokeh references\n    if (id != null) {\n      drop(id)\n    }\n\n    if (server_id !== undefined) {\n      // Clean up Bokeh references\n      const cmd_clean = \"from bokeh.io.state import curstate; print(curstate().uuid_to_server['\" + server_id + \"'].get_sessions()[0].document.roots[0]._id)\";\n      cell.notebook.kernel.execute(cmd_clean, {\n        iopub: {\n          output: function(msg) {\n            const id = msg.content.text.trim()\n            drop(id)\n          }\n        }\n      });\n      // Destroy server and session\n      const cmd_destroy = \"import bokeh.io.notebook as ion; ion.destroy_server('\" + server_id + \"')\";\n      cell.notebook.kernel.execute(cmd_destroy);\n    }\n  }\n\n  /**\n   * Handle when a new output is added\n   */\n  function handleAddOutput(event, handle) {\n    const output_area = handle.output_area;\n    const output = handle.output;\n\n    // limit handleAddOutput to display_data with EXEC_MIME_TYPE content only\n    if ((output.output_type != \"display_data\") || (!Object.prototype.hasOwnProperty.call(output.data, EXEC_MIME_TYPE))) {\n      return\n    }\n\n    const toinsert = output_area.element.find(\".\" + CLASS_NAME.split(' ')[0]);\n\n    if (output.metadata[EXEC_MIME_TYPE][\"id\"] !== undefined) {\n      toinsert[toinsert.length - 1].firstChild.textContent = output.data[JS_MIME_TYPE];\n      // store reference to embed id on output_area\n      output_area._bokeh_element_id = output.metadata[EXEC_MIME_TYPE][\"id\"];\n    }\n    if (output.metadata[EXEC_MIME_TYPE][\"server_id\"] !== undefined) {\n      const bk_div = document.createElement(\"div\");\n      bk_div.innerHTML = output.data[HTML_MIME_TYPE];\n      const script_attrs = bk_div.children[0].attributes;\n      for (let i = 0; i < script_attrs.length; i++) {\n        toinsert[toinsert.length - 1].firstChild.setAttribute(script_attrs[i].name, script_attrs[i].value);\n        toinsert[toinsert.length - 1].firstChild.textContent = bk_div.children[0].textContent\n      }\n      // store reference to server id on output_area\n      output_area._bokeh_server_id = output.metadata[EXEC_MIME_TYPE][\"server_id\"];\n    }\n  }\n\n  function register_renderer(events, OutputArea) {\n\n    function append_mime(data, metadata, element) {\n      // create a DOM node to render to\n      const toinsert = this.create_output_subarea(\n        metadata,\n        CLASS_NAME,\n        EXEC_MIME_TYPE\n      );\n      this.keyboard_manager.register_events(toinsert);\n      // Render to node\n      const props = {data: data, metadata: metadata[EXEC_MIME_TYPE]};\n      render(props, toinsert[toinsert.length - 1]);\n      element.append(toinsert);\n      return toinsert\n    }\n\n    /* Handle when an output is cleared or removed */\n    events.on('clear_output.CodeCell', handleClearOutput);\n    events.on('delete.Cell', handleClearOutput);\n\n    /* Handle when a new output is added */\n    events.on('output_added.OutputArea', handleAddOutput);\n\n    /**\n     * Register the mime type and append_mime function with output_area\n     */\n    OutputArea.prototype.register_mime_type(EXEC_MIME_TYPE, append_mime, {\n      /* Is output safe? */\n      safe: true,\n      /* Index of renderer in `output_area.display_order` */\n      index: 0\n    });\n  }\n\n  // register the mime type if in Jupyter Notebook environment and previously unregistered\n  if (root.Jupyter !== undefined) {\n    const events = require('base/js/events');\n    const OutputArea = require('notebook/js/outputarea').OutputArea;\n\n    if (OutputArea.prototype.mime_types().indexOf(EXEC_MIME_TYPE) == -1) {\n      register_renderer(events, OutputArea);\n    }\n  }\n  if (typeof (root._bokeh_timeout) === \"undefined\" || force === true) {\n    root._bokeh_timeout = Date.now() + 5000;\n    root._bokeh_failed_load = false;\n  }\n\n  const NB_LOAD_WARNING = {'data': {'text/html':\n     \"<div style='background-color: #fdd'>\\n\"+\n     \"<p>\\n\"+\n     \"BokehJS does not appear to have successfully loaded. If loading BokehJS from CDN, this \\n\"+\n     \"may be due to a slow or bad network connection. Possible fixes:\\n\"+\n     \"</p>\\n\"+\n     \"<ul>\\n\"+\n     \"<li>re-rerun `output_notebook()` to attempt to load from CDN again, or</li>\\n\"+\n     \"<li>use INLINE resources instead, as so:</li>\\n\"+\n     \"</ul>\\n\"+\n     \"<code>\\n\"+\n     \"from bokeh.resources import INLINE\\n\"+\n     \"output_notebook(resources=INLINE)\\n\"+\n     \"</code>\\n\"+\n     \"</div>\"}};\n\n  function display_loaded(error = null) {\n    const el = document.getElementById(\"a2c87bc6-7942-4856-8f66-9bb36ba0d288\");\n    if (el != null) {\n      const html = (() => {\n        if (typeof root.Bokeh === \"undefined\") {\n          if (error == null) {\n            return \"BokehJS is loading ...\";\n          } else {\n            return \"BokehJS failed to load.\";\n          }\n        } else {\n          const prefix = `BokehJS ${root.Bokeh.version}`;\n          if (error == null) {\n            return `${prefix} successfully loaded.`;\n          } else {\n            return `${prefix} <b>encountered errors</b> while loading and may not function as expected.`;\n          }\n        }\n      })();\n      el.innerHTML = html;\n\n      if (error != null) {\n        const wrapper = document.createElement(\"div\");\n        wrapper.style.overflow = \"auto\";\n        wrapper.style.height = \"5em\";\n        wrapper.style.resize = \"vertical\";\n        const content = document.createElement(\"div\");\n        content.style.fontFamily = \"monospace\";\n        content.style.whiteSpace = \"pre-wrap\";\n        content.style.backgroundColor = \"rgb(255, 221, 221)\";\n        content.textContent = error.stack ?? error.toString();\n        wrapper.append(content);\n        el.append(wrapper);\n      }\n    } else if (Date.now() < root._bokeh_timeout) {\n      setTimeout(() => display_loaded(error), 100);\n    }\n  }\n\n  function run_callbacks() {\n    try {\n      root._bokeh_onload_callbacks.forEach(function(callback) {\n        if (callback != null)\n          callback();\n      });\n    } finally {\n      delete root._bokeh_onload_callbacks\n    }\n    console.debug(\"Bokeh: all callbacks have finished\");\n  }\n\n  function load_libs(css_urls, js_urls, callback) {\n    if (css_urls == null) css_urls = [];\n    if (js_urls == null) js_urls = [];\n\n    root._bokeh_onload_callbacks.push(callback);\n    if (root._bokeh_is_loading > 0) {\n      console.debug(\"Bokeh: BokehJS is being loaded, scheduling callback at\", now());\n      return null;\n    }\n    if (js_urls == null || js_urls.length === 0) {\n      run_callbacks();\n      return null;\n    }\n    console.debug(\"Bokeh: BokehJS not loaded, scheduling load and callback at\", now());\n    root._bokeh_is_loading = css_urls.length + js_urls.length;\n\n    function on_load() {\n      root._bokeh_is_loading--;\n      if (root._bokeh_is_loading === 0) {\n        console.debug(\"Bokeh: all BokehJS libraries/stylesheets loaded\");\n        run_callbacks()\n      }\n    }\n\n    function on_error(url) {\n      console.error(\"failed to load \" + url);\n    }\n\n    for (let i = 0; i < css_urls.length; i++) {\n      const url = css_urls[i];\n      const element = document.createElement(\"link\");\n      element.onload = on_load;\n      element.onerror = on_error.bind(null, url);\n      element.rel = \"stylesheet\";\n      element.type = \"text/css\";\n      element.href = url;\n      console.debug(\"Bokeh: injecting link tag for BokehJS stylesheet: \", url);\n      document.body.appendChild(element);\n    }\n\n    for (let i = 0; i < js_urls.length; i++) {\n      const url = js_urls[i];\n      const element = document.createElement('script');\n      element.onload = on_load;\n      element.onerror = on_error.bind(null, url);\n      element.async = false;\n      element.src = url;\n      console.debug(\"Bokeh: injecting script tag for BokehJS library: \", url);\n      document.head.appendChild(element);\n    }\n  };\n\n  function inject_raw_css(css) {\n    const element = document.createElement(\"style\");\n    element.appendChild(document.createTextNode(css));\n    document.body.appendChild(element);\n  }\n\n  const js_urls = [\"static/extensions/panel/bundled/reactiveesm/es-module-shims@^1.10.0/dist/es-module-shims.min.js\", \"https://cdn.bokeh.org/bokeh/release/bokeh-3.7.3.min.js\", \"https://cdn.bokeh.org/bokeh/release/bokeh-gl-3.7.3.min.js\", \"https://cdn.bokeh.org/bokeh/release/bokeh-widgets-3.7.3.min.js\", \"https://cdn.bokeh.org/bokeh/release/bokeh-tables-3.7.3.min.js\", \"https://cdn.bokeh.org/bokeh/release/bokeh-mathjax-3.7.3.min.js\", \"https://unpkg.com/@holoviz/panel@1.7.0/dist/panel.min.js\"];\n  const css_urls = [];\n\n  const inline_js = [    function(Bokeh) {\n      Bokeh.set_log_level(\"info\");\n    },\nfunction(Bokeh) {\n    }\n  ];\n\n  function run_inline_js() {\n    if (root.Bokeh !== undefined || force === true) {\n      try {\n            for (let i = 0; i < inline_js.length; i++) {\n      inline_js[i].call(root, root.Bokeh);\n    }\n\n      } catch (error) {display_loaded(error);throw error;\n      }if (force === true) {\n        display_loaded();\n      }} else if (Date.now() < root._bokeh_timeout) {\n      setTimeout(run_inline_js, 100);\n    } else if (!root._bokeh_failed_load) {\n      console.log(\"Bokeh: BokehJS failed to load within specified timeout.\");\n      root._bokeh_failed_load = true;\n    } else if (force !== true) {\n      const cell = $(document.getElementById(\"a2c87bc6-7942-4856-8f66-9bb36ba0d288\")).parents('.cell').data().cell;\n      cell.output_area.append_execute_result(NB_LOAD_WARNING)\n    }\n  }\n\n  if (root._bokeh_is_loading === 0) {\n    console.debug(\"Bokeh: BokehJS loaded, going straight to plotting\");\n    run_inline_js();\n  } else {\n    load_libs(css_urls, js_urls, function() {\n      console.debug(\"Bokeh: BokehJS plotting callback run at\", now());\n      run_inline_js();\n    });\n  }\n}(window));",
      "application/vnd.bokehjs_load.v0+json": ""
     },
     "metadata": {},
     "output_type": "display_data"
    },
    {
     "name": "stdout",
     "output_type": "stream",
     "text": [
      "Connected to https://neuprint-cns.janelia.org[cns].\n",
      "Client: neuprint-python v1.7.4\n",
      "User: aishahamid201@gmail.com [readwrite]\n",
      "\n"
     ]
    }
   ],
   "source": [
    "# Import standard libraries\n",
    "import os, datetime\n",
    "from pathlib import Path\n",
    "import matplotlib as mpl\n",
    "import matplotlib.pyplot as plt\n",
    "import pickle as pl\n",
    "import igraph\n",
    "import time\n",
    "import numpy as np\n",
    "import matplotlib.pyplot as plt\n",
    "import pandas as pd\n",
    "import bokeh\n",
    "import hvplot.pandas\n",
    "import holoviews as hv\n",
    "from holoviews import opts\n",
    "hv.extension('bokeh', 'matplotlib')\n",
    "\n",
    "import bokeh.palettes\n",
    "from bokeh.plotting import figure, show, output_notebook\n",
    "output_notebook()\n",
    "import seaborn as sb\n",
    "from scipy.sparse import csr_matrix\n",
    "from scipy.sparse import save_npz, load_npz\n",
    "# import cairo\n",
    "import plotly.graph_objects as go\n",
    "import plotly.express as px\n",
    "from scipy.stats import zscore\n",
    "from scipy.sparse.linalg import norm\n",
    "import networkx as nx\n",
    "from pyvis.network import Network\n",
    "\n",
    "## Load environment variables from .env file and find project root\n",
    "import sys\n",
    "from dotenv import load_dotenv, find_dotenv\n",
    "load_dotenv()\n",
    "PROJECT_ROOT = Path(find_dotenv()).parent\n",
    "# data_path = Path(PROJECT_ROOT, 'results', 'eyemap')\n",
    "store_path = Path(PROJECT_ROOT, 'results','AOTU_Connectivity')\n",
    "sys.path.append(str(PROJECT_ROOT.joinpath('src')))\n",
    "\n",
    "\n",
    "from utils import olc_client\n",
    "c = olc_client.connect(verbose=True)\n",
    "\n",
    "from utils.celltype_conn_by_roi import CelltypeConnByRoi\n",
    "from utils.celltype_conn_plotter import CelltypeConnPlotter\n",
    "from utils.plotter import plot_cns, save_figure, get_skeletons, get_skeleton, get_meshes, get_mesh, show_figure\n",
    "from utils.helper import slugify\n",
    "from utils.neuron_bag import NeuronBag\n",
    "\n",
    "# Import neuPrint specific libraries\n",
    "from neuprint import Client, fetch_neurons, NeuronCriteria as NC, fetch_neurons, fetch_simple_connections, fetch_adjacencies, connection_table_to_matrix, merge_neuron_properties, NotNull, fetch_synapse_connections, fetch_neurons,fetch_primary_rois, fetch_all_rois, fetch_synapses, fetch_roi_hierarchy\n",
    "from neuprint.utils import connection_table_to_matrix"
   ]
  },
  {
   "cell_type": "code",
   "execution_count": 2,
   "id": "5e0dfedc",
   "metadata": {},
   "outputs": [
    {
     "data": {
      "text/plain": [
       "PosixPath('/Users/hamida/Documents/GitHub/male-drosophila-visual-system-connectome-code')"
      ]
     },
     "execution_count": 2,
     "metadata": {},
     "output_type": "execute_result"
    }
   ],
   "source": [
    "PROJECT_ROOT"
   ]
  },
  {
   "cell_type": "code",
   "execution_count": 3,
   "id": "ea897a28-c776-4c87-9902-c95c6188f744",
   "metadata": {
    "execution": {
     "iopub.execute_input": "2024-05-27T19:45:15.658504Z",
     "iopub.status.busy": "2024-05-27T19:45:15.658058Z",
     "iopub.status.idle": "2024-05-27T19:45:15.780089Z",
     "shell.execute_reply": "2024-05-27T19:45:15.779798Z",
     "shell.execute_reply.started": "2024-05-27T19:45:15.658481Z"
    }
   },
   "outputs": [
    {
     "name": "stderr",
     "output_type": "stream",
     "text": [
      "/Users/hamida/Documents/GitHub/male-drosophila-visual-system-connectome-code/.pixi/envs/default/lib/python3.12/site-packages/neuprint/client.py:609: FutureWarning: Series.__getitem__ treating keys as positions is deprecated. In a future version, integer keys will always be treated as labels (consistent with DataFrame behavior). To access a value by position, use `ser.iloc[pos]`\n",
      "  neuron_props_val = df_results.iloc[0][0]\n",
      "/Users/hamida/Documents/GitHub/male-drosophila-visual-system-connectome-code/.pixi/envs/default/lib/python3.12/site-packages/neuprint/client.py:619: FutureWarning: Series.__getitem__ treating keys as positions is deprecated. In a future version, integer keys will always be treated as labels (consistent with DataFrame behavior). To access a value by position, use `ser.iloc[pos]`\n",
      "  neuron_props_val = df_results.iloc[0][0]\n"
     ]
    },
    {
     "data": {
      "text/html": [
       "<div>\n",
       "<style scoped>\n",
       "    .dataframe tbody tr th:only-of-type {\n",
       "        vertical-align: middle;\n",
       "    }\n",
       "\n",
       "    .dataframe tbody tr th {\n",
       "        vertical-align: top;\n",
       "    }\n",
       "\n",
       "    .dataframe thead th {\n",
       "        text-align: right;\n",
       "    }\n",
       "</style>\n",
       "<table border=\"1\" class=\"dataframe\">\n",
       "  <thead>\n",
       "    <tr style=\"text-align: right;\">\n",
       "      <th></th>\n",
       "      <th>bodyId</th>\n",
       "      <th>instance</th>\n",
       "      <th>type</th>\n",
       "      <th>pre</th>\n",
       "      <th>post</th>\n",
       "      <th>downstream</th>\n",
       "      <th>upstream</th>\n",
       "      <th>size</th>\n",
       "      <th>status</th>\n",
       "      <th>statusLabel</th>\n",
       "      <th>...</th>\n",
       "      <th>fruDsx</th>\n",
       "      <th>trumanHl</th>\n",
       "      <th>matchingNotes</th>\n",
       "      <th>celltypePredictedNt</th>\n",
       "      <th>anteriorCervicalRootPosition</th>\n",
       "      <th>celltypePredictedNtConfidence</th>\n",
       "      <th>assignedOlHex1</th>\n",
       "      <th>supertype</th>\n",
       "      <th>inputRois</th>\n",
       "      <th>outputRois</th>\n",
       "    </tr>\n",
       "  </thead>\n",
       "  <tbody>\n",
       "    <tr>\n",
       "      <th>0</th>\n",
       "      <td>21065</td>\n",
       "      <td>LC10a_R</td>\n",
       "      <td>LC10a</td>\n",
       "      <td>392</td>\n",
       "      <td>1857</td>\n",
       "      <td>2694</td>\n",
       "      <td>1857</td>\n",
       "      <td>624799190</td>\n",
       "      <td>Traced</td>\n",
       "      <td>Roughly traced</td>\n",
       "      <td>...</td>\n",
       "      <td>fru_high</td>\n",
       "      <td>None</td>\n",
       "      <td>None</td>\n",
       "      <td>acetylcholine</td>\n",
       "      <td>None</td>\n",
       "      <td>0.576722</td>\n",
       "      <td>None</td>\n",
       "      <td>None</td>\n",
       "      <td>[AOTU(R), CentralBrain, CentralBrain-unspecifi...</td>\n",
       "      <td>[AOTU(R), CentralBrain, CentralBrain-unspecifi...</td>\n",
       "    </tr>\n",
       "    <tr>\n",
       "      <th>1</th>\n",
       "      <td>21199</td>\n",
       "      <td>LC10a_R</td>\n",
       "      <td>LC10a</td>\n",
       "      <td>398</td>\n",
       "      <td>1649</td>\n",
       "      <td>2786</td>\n",
       "      <td>1649</td>\n",
       "      <td>616008264</td>\n",
       "      <td>Traced</td>\n",
       "      <td>Roughly traced</td>\n",
       "      <td>...</td>\n",
       "      <td>fru_high</td>\n",
       "      <td>None</td>\n",
       "      <td>None</td>\n",
       "      <td>acetylcholine</td>\n",
       "      <td>None</td>\n",
       "      <td>0.576722</td>\n",
       "      <td>None</td>\n",
       "      <td>None</td>\n",
       "      <td>[AOTU(R), CentralBrain, CentralBrain-unspecifi...</td>\n",
       "      <td>[AOTU(R), CentralBrain, LO(R), LO_R_col_20_14,...</td>\n",
       "    </tr>\n",
       "    <tr>\n",
       "      <th>2</th>\n",
       "      <td>21238</td>\n",
       "      <td>LC10a_R</td>\n",
       "      <td>LC10a</td>\n",
       "      <td>375</td>\n",
       "      <td>1886</td>\n",
       "      <td>2658</td>\n",
       "      <td>1886</td>\n",
       "      <td>616583509</td>\n",
       "      <td>Traced</td>\n",
       "      <td>Roughly traced</td>\n",
       "      <td>...</td>\n",
       "      <td>fru_high</td>\n",
       "      <td>None</td>\n",
       "      <td>None</td>\n",
       "      <td>acetylcholine</td>\n",
       "      <td>None</td>\n",
       "      <td>0.576722</td>\n",
       "      <td>None</td>\n",
       "      <td>None</td>\n",
       "      <td>[AOTU(R), CentralBrain, LO(R), LO_R_col_19_17,...</td>\n",
       "      <td>[AOTU(R), CentralBrain, CentralBrain-unspecifi...</td>\n",
       "    </tr>\n",
       "    <tr>\n",
       "      <th>3</th>\n",
       "      <td>21426</td>\n",
       "      <td>LC10a_R</td>\n",
       "      <td>LC10a</td>\n",
       "      <td>356</td>\n",
       "      <td>1548</td>\n",
       "      <td>2445</td>\n",
       "      <td>1548</td>\n",
       "      <td>607347200</td>\n",
       "      <td>Traced</td>\n",
       "      <td>Roughly traced</td>\n",
       "      <td>...</td>\n",
       "      <td>fru_high</td>\n",
       "      <td>None</td>\n",
       "      <td>None</td>\n",
       "      <td>acetylcholine</td>\n",
       "      <td>None</td>\n",
       "      <td>0.576722</td>\n",
       "      <td>None</td>\n",
       "      <td>None</td>\n",
       "      <td>[AOTU(R), CentralBrain, CentralBrain-unspecifi...</td>\n",
       "      <td>[AOTU(R), CentralBrain, LO(R), LO_R_col_11_13,...</td>\n",
       "    </tr>\n",
       "    <tr>\n",
       "      <th>4</th>\n",
       "      <td>21632</td>\n",
       "      <td>LC10a_R</td>\n",
       "      <td>LC10a</td>\n",
       "      <td>385</td>\n",
       "      <td>1737</td>\n",
       "      <td>2703</td>\n",
       "      <td>1737</td>\n",
       "      <td>606127533</td>\n",
       "      <td>Traced</td>\n",
       "      <td>Roughly traced</td>\n",
       "      <td>...</td>\n",
       "      <td>fru_high</td>\n",
       "      <td>None</td>\n",
       "      <td>None</td>\n",
       "      <td>acetylcholine</td>\n",
       "      <td>None</td>\n",
       "      <td>0.576722</td>\n",
       "      <td>None</td>\n",
       "      <td>None</td>\n",
       "      <td>[AOTU(R), CentralBrain, CentralBrain-unspecifi...</td>\n",
       "      <td>[AOTU(R), CentralBrain, CentralBrain-unspecifi...</td>\n",
       "    </tr>\n",
       "    <tr>\n",
       "      <th>...</th>\n",
       "      <td>...</td>\n",
       "      <td>...</td>\n",
       "      <td>...</td>\n",
       "      <td>...</td>\n",
       "      <td>...</td>\n",
       "      <td>...</td>\n",
       "      <td>...</td>\n",
       "      <td>...</td>\n",
       "      <td>...</td>\n",
       "      <td>...</td>\n",
       "      <td>...</td>\n",
       "      <td>...</td>\n",
       "      <td>...</td>\n",
       "      <td>...</td>\n",
       "      <td>...</td>\n",
       "      <td>...</td>\n",
       "      <td>...</td>\n",
       "      <td>...</td>\n",
       "      <td>...</td>\n",
       "      <td>...</td>\n",
       "      <td>...</td>\n",
       "    </tr>\n",
       "    <tr>\n",
       "      <th>135</th>\n",
       "      <td>84104</td>\n",
       "      <td>LC10a_R</td>\n",
       "      <td>LC10a</td>\n",
       "      <td>83</td>\n",
       "      <td>274</td>\n",
       "      <td>443</td>\n",
       "      <td>274</td>\n",
       "      <td>143987170</td>\n",
       "      <td>Traced</td>\n",
       "      <td>Roughly traced</td>\n",
       "      <td>...</td>\n",
       "      <td>fru_high</td>\n",
       "      <td>None</td>\n",
       "      <td>None</td>\n",
       "      <td>acetylcholine</td>\n",
       "      <td>None</td>\n",
       "      <td>0.576722</td>\n",
       "      <td>None</td>\n",
       "      <td>None</td>\n",
       "      <td>[AOTU(R), CentralBrain, CentralBrain-unspecifi...</td>\n",
       "      <td>[AOTU(R), CentralBrain, CentralBrain-unspecifi...</td>\n",
       "    </tr>\n",
       "    <tr>\n",
       "      <th>136</th>\n",
       "      <td>84470</td>\n",
       "      <td>LC10a_R</td>\n",
       "      <td>LC10a</td>\n",
       "      <td>74</td>\n",
       "      <td>248</td>\n",
       "      <td>366</td>\n",
       "      <td>248</td>\n",
       "      <td>143148999</td>\n",
       "      <td>Traced</td>\n",
       "      <td>Roughly traced</td>\n",
       "      <td>...</td>\n",
       "      <td>fru_high</td>\n",
       "      <td>None</td>\n",
       "      <td>None</td>\n",
       "      <td>acetylcholine</td>\n",
       "      <td>None</td>\n",
       "      <td>0.576722</td>\n",
       "      <td>None</td>\n",
       "      <td>None</td>\n",
       "      <td>[AOTU(R), CentralBrain, CentralBrain-unspecifi...</td>\n",
       "      <td>[AOTU(R), CentralBrain, CentralBrain-unspecifi...</td>\n",
       "    </tr>\n",
       "    <tr>\n",
       "      <th>137</th>\n",
       "      <td>85707</td>\n",
       "      <td>LC10a_R</td>\n",
       "      <td>LC10a</td>\n",
       "      <td>81</td>\n",
       "      <td>222</td>\n",
       "      <td>434</td>\n",
       "      <td>222</td>\n",
       "      <td>140526697</td>\n",
       "      <td>Traced</td>\n",
       "      <td>Roughly traced</td>\n",
       "      <td>...</td>\n",
       "      <td>fru_high</td>\n",
       "      <td>None</td>\n",
       "      <td>None</td>\n",
       "      <td>acetylcholine</td>\n",
       "      <td>None</td>\n",
       "      <td>0.576722</td>\n",
       "      <td>None</td>\n",
       "      <td>None</td>\n",
       "      <td>[AOTU(R), CentralBrain, CentralBrain-unspecifi...</td>\n",
       "      <td>[AOTU(R), CentralBrain, CentralBrain-unspecifi...</td>\n",
       "    </tr>\n",
       "    <tr>\n",
       "      <th>138</th>\n",
       "      <td>86507</td>\n",
       "      <td>LC10a_R</td>\n",
       "      <td>LC10a</td>\n",
       "      <td>85</td>\n",
       "      <td>380</td>\n",
       "      <td>431</td>\n",
       "      <td>380</td>\n",
       "      <td>139299803</td>\n",
       "      <td>Traced</td>\n",
       "      <td>Roughly traced</td>\n",
       "      <td>...</td>\n",
       "      <td>fru_high</td>\n",
       "      <td>None</td>\n",
       "      <td>None</td>\n",
       "      <td>acetylcholine</td>\n",
       "      <td>None</td>\n",
       "      <td>0.576722</td>\n",
       "      <td>None</td>\n",
       "      <td>None</td>\n",
       "      <td>[AOTU(R), CentralBrain, CentralBrain-unspecifi...</td>\n",
       "      <td>[AOTU(R), CentralBrain, CentralBrain-unspecifi...</td>\n",
       "    </tr>\n",
       "    <tr>\n",
       "      <th>139</th>\n",
       "      <td>100368</td>\n",
       "      <td>LC10a_R</td>\n",
       "      <td>LC10a</td>\n",
       "      <td>64</td>\n",
       "      <td>275</td>\n",
       "      <td>352</td>\n",
       "      <td>275</td>\n",
       "      <td>119805905</td>\n",
       "      <td>Traced</td>\n",
       "      <td>Roughly traced</td>\n",
       "      <td>...</td>\n",
       "      <td>fru_high</td>\n",
       "      <td>None</td>\n",
       "      <td>None</td>\n",
       "      <td>acetylcholine</td>\n",
       "      <td>None</td>\n",
       "      <td>0.576722</td>\n",
       "      <td>None</td>\n",
       "      <td>None</td>\n",
       "      <td>[AOTU(R), CentralBrain, CentralBrain-unspecifi...</td>\n",
       "      <td>[AOTU(R), CentralBrain, CentralBrain-unspecifi...</td>\n",
       "    </tr>\n",
       "  </tbody>\n",
       "</table>\n",
       "<p>140 rows × 58 columns</p>\n",
       "</div>"
      ],
      "text/plain": [
       "     bodyId instance   type  pre  post  downstream  upstream       size  \\\n",
       "0     21065  LC10a_R  LC10a  392  1857        2694      1857  624799190   \n",
       "1     21199  LC10a_R  LC10a  398  1649        2786      1649  616008264   \n",
       "2     21238  LC10a_R  LC10a  375  1886        2658      1886  616583509   \n",
       "3     21426  LC10a_R  LC10a  356  1548        2445      1548  607347200   \n",
       "4     21632  LC10a_R  LC10a  385  1737        2703      1737  606127533   \n",
       "..      ...      ...    ...  ...   ...         ...       ...        ...   \n",
       "135   84104  LC10a_R  LC10a   83   274         443       274  143987170   \n",
       "136   84470  LC10a_R  LC10a   74   248         366       248  143148999   \n",
       "137   85707  LC10a_R  LC10a   81   222         434       222  140526697   \n",
       "138   86507  LC10a_R  LC10a   85   380         431       380  139299803   \n",
       "139  100368  LC10a_R  LC10a   64   275         352       275  119805905   \n",
       "\n",
       "     status     statusLabel  ...    fruDsx trumanHl matchingNotes  \\\n",
       "0    Traced  Roughly traced  ...  fru_high     None          None   \n",
       "1    Traced  Roughly traced  ...  fru_high     None          None   \n",
       "2    Traced  Roughly traced  ...  fru_high     None          None   \n",
       "3    Traced  Roughly traced  ...  fru_high     None          None   \n",
       "4    Traced  Roughly traced  ...  fru_high     None          None   \n",
       "..      ...             ...  ...       ...      ...           ...   \n",
       "135  Traced  Roughly traced  ...  fru_high     None          None   \n",
       "136  Traced  Roughly traced  ...  fru_high     None          None   \n",
       "137  Traced  Roughly traced  ...  fru_high     None          None   \n",
       "138  Traced  Roughly traced  ...  fru_high     None          None   \n",
       "139  Traced  Roughly traced  ...  fru_high     None          None   \n",
       "\n",
       "    celltypePredictedNt  anteriorCervicalRootPosition  \\\n",
       "0         acetylcholine                          None   \n",
       "1         acetylcholine                          None   \n",
       "2         acetylcholine                          None   \n",
       "3         acetylcholine                          None   \n",
       "4         acetylcholine                          None   \n",
       "..                  ...                           ...   \n",
       "135       acetylcholine                          None   \n",
       "136       acetylcholine                          None   \n",
       "137       acetylcholine                          None   \n",
       "138       acetylcholine                          None   \n",
       "139       acetylcholine                          None   \n",
       "\n",
       "    celltypePredictedNtConfidence assignedOlHex1 supertype  \\\n",
       "0                        0.576722           None      None   \n",
       "1                        0.576722           None      None   \n",
       "2                        0.576722           None      None   \n",
       "3                        0.576722           None      None   \n",
       "4                        0.576722           None      None   \n",
       "..                            ...            ...       ...   \n",
       "135                      0.576722           None      None   \n",
       "136                      0.576722           None      None   \n",
       "137                      0.576722           None      None   \n",
       "138                      0.576722           None      None   \n",
       "139                      0.576722           None      None   \n",
       "\n",
       "                                             inputRois  \\\n",
       "0    [AOTU(R), CentralBrain, CentralBrain-unspecifi...   \n",
       "1    [AOTU(R), CentralBrain, CentralBrain-unspecifi...   \n",
       "2    [AOTU(R), CentralBrain, LO(R), LO_R_col_19_17,...   \n",
       "3    [AOTU(R), CentralBrain, CentralBrain-unspecifi...   \n",
       "4    [AOTU(R), CentralBrain, CentralBrain-unspecifi...   \n",
       "..                                                 ...   \n",
       "135  [AOTU(R), CentralBrain, CentralBrain-unspecifi...   \n",
       "136  [AOTU(R), CentralBrain, CentralBrain-unspecifi...   \n",
       "137  [AOTU(R), CentralBrain, CentralBrain-unspecifi...   \n",
       "138  [AOTU(R), CentralBrain, CentralBrain-unspecifi...   \n",
       "139  [AOTU(R), CentralBrain, CentralBrain-unspecifi...   \n",
       "\n",
       "                                            outputRois  \n",
       "0    [AOTU(R), CentralBrain, CentralBrain-unspecifi...  \n",
       "1    [AOTU(R), CentralBrain, LO(R), LO_R_col_20_14,...  \n",
       "2    [AOTU(R), CentralBrain, CentralBrain-unspecifi...  \n",
       "3    [AOTU(R), CentralBrain, LO(R), LO_R_col_11_13,...  \n",
       "4    [AOTU(R), CentralBrain, CentralBrain-unspecifi...  \n",
       "..                                                 ...  \n",
       "135  [AOTU(R), CentralBrain, CentralBrain-unspecifi...  \n",
       "136  [AOTU(R), CentralBrain, CentralBrain-unspecifi...  \n",
       "137  [AOTU(R), CentralBrain, CentralBrain-unspecifi...  \n",
       "138  [AOTU(R), CentralBrain, CentralBrain-unspecifi...  \n",
       "139  [AOTU(R), CentralBrain, CentralBrain-unspecifi...  \n",
       "\n",
       "[140 rows x 58 columns]"
      ]
     },
     "execution_count": 3,
     "metadata": {},
     "output_type": "execute_result"
    }
   ],
   "source": [
    "# Specify LC10 Neurons of Interest by instance or type (save neuron properties & synapse ROIs if you wish):\n",
    "\n",
    "## For all LC10 neurons on the right side:\n",
    "#LC10_R_criteria = NC(instance = ('LC10a_R', 'LC10b_R','LC10c-1_R','LC10c-2_R','LC10d_R', 'LC10e_R', 'LC10unclear_R'))\n",
    "#LC10s_neuron_df, roi_counts_df = featch(LC10_R_criteria)\n",
    "\n",
    "## For only LC10a neurons on right side:\n",
    "LC10a_R_criteria =  NC(instance = ('LC10a_R'));\n",
    "LC10a_neuron_df,roi_counts_df = fetch_neurons(LC10a_R_criteria)\n",
    "\n",
    "## To save neuron properties and synapse ROIs as .csv files:\n",
    "LC10a_neuron_df.to_csv(PROJECT_ROOT/'AOTU_results/LC10a_R_NeuronProperties.csv')#\n",
    "roi_counts_df.to_csv(PROJECT_ROOT/'AOTU_results/LC10a_R_SynapsePerROICounts.csv')\n",
    "\n",
    "## to list LC10s, uncomment:\n",
    "LC10a_neuron_df"
   ]
  },
  {
   "cell_type": "code",
   "execution_count": 4,
   "id": "01617c16-4d38-4c32-a0d2-7507d1796960",
   "metadata": {
    "execution": {
     "iopub.execute_input": "2024-05-27T19:45:31.916650Z",
     "iopub.status.busy": "2024-05-27T19:45:31.915551Z",
     "iopub.status.idle": "2024-05-27T19:45:33.227627Z",
     "shell.execute_reply": "2024-05-27T19:45:33.227240Z",
     "shell.execute_reply.started": "2024-05-27T19:45:31.916597Z"
    }
   },
   "outputs": [
    {
     "data": {
      "text/html": [
       "<div>\n",
       "<style scoped>\n",
       "    .dataframe tbody tr th:only-of-type {\n",
       "        vertical-align: middle;\n",
       "    }\n",
       "\n",
       "    .dataframe tbody tr th {\n",
       "        vertical-align: top;\n",
       "    }\n",
       "\n",
       "    .dataframe thead th {\n",
       "        text-align: right;\n",
       "    }\n",
       "</style>\n",
       "<table border=\"1\" class=\"dataframe\">\n",
       "  <thead>\n",
       "    <tr style=\"text-align: right;\">\n",
       "      <th></th>\n",
       "      <th>bodyId_pre</th>\n",
       "      <th>bodyId_post</th>\n",
       "      <th>roi</th>\n",
       "      <th>weight</th>\n",
       "      <th>type_pre</th>\n",
       "      <th>instance_pre</th>\n",
       "      <th>type_post</th>\n",
       "      <th>instance_post</th>\n",
       "    </tr>\n",
       "  </thead>\n",
       "  <tbody>\n",
       "    <tr>\n",
       "      <th>0</th>\n",
       "      <td>21065</td>\n",
       "      <td>10005</td>\n",
       "      <td>AOTU(R)</td>\n",
       "      <td>128</td>\n",
       "      <td>LC10a</td>\n",
       "      <td>LC10a_R</td>\n",
       "      <td>AOTU019</td>\n",
       "      <td>AOTU019_R</td>\n",
       "    </tr>\n",
       "    <tr>\n",
       "      <th>1</th>\n",
       "      <td>21065</td>\n",
       "      <td>10031</td>\n",
       "      <td>AOTU(R)</td>\n",
       "      <td>70</td>\n",
       "      <td>LC10a</td>\n",
       "      <td>LC10a_R</td>\n",
       "      <td>AOTU041</td>\n",
       "      <td>AOTU041_R</td>\n",
       "    </tr>\n",
       "    <tr>\n",
       "      <th>2</th>\n",
       "      <td>21065</td>\n",
       "      <td>10148</td>\n",
       "      <td>AOTU(R)</td>\n",
       "      <td>2</td>\n",
       "      <td>LC10a</td>\n",
       "      <td>LC10a_R</td>\n",
       "      <td>AOTU041</td>\n",
       "      <td>AOTU041_L</td>\n",
       "    </tr>\n",
       "    <tr>\n",
       "      <th>3</th>\n",
       "      <td>21065</td>\n",
       "      <td>10212</td>\n",
       "      <td>AOTU(R)</td>\n",
       "      <td>4</td>\n",
       "      <td>LC10a</td>\n",
       "      <td>LC10a_R</td>\n",
       "      <td>AOTU042</td>\n",
       "      <td>AOTU042_L</td>\n",
       "    </tr>\n",
       "    <tr>\n",
       "      <th>4</th>\n",
       "      <td>21065</td>\n",
       "      <td>10379</td>\n",
       "      <td>AOTU(R)</td>\n",
       "      <td>2</td>\n",
       "      <td>LC10a</td>\n",
       "      <td>LC10a_R</td>\n",
       "      <td>DNa10</td>\n",
       "      <td>DNa10_R</td>\n",
       "    </tr>\n",
       "    <tr>\n",
       "      <th>...</th>\n",
       "      <td>...</td>\n",
       "      <td>...</td>\n",
       "      <td>...</td>\n",
       "      <td>...</td>\n",
       "      <td>...</td>\n",
       "      <td>...</td>\n",
       "      <td>...</td>\n",
       "      <td>...</td>\n",
       "    </tr>\n",
       "    <tr>\n",
       "      <th>21180</th>\n",
       "      <td>100368</td>\n",
       "      <td>141656</td>\n",
       "      <td>LO(R)</td>\n",
       "      <td>1</td>\n",
       "      <td>LC10a</td>\n",
       "      <td>LC10a_R</td>\n",
       "      <td>T3</td>\n",
       "      <td>T3_R</td>\n",
       "    </tr>\n",
       "    <tr>\n",
       "      <th>21181</th>\n",
       "      <td>100368</td>\n",
       "      <td>151869</td>\n",
       "      <td>AOTU(R)</td>\n",
       "      <td>4</td>\n",
       "      <td>LC10a</td>\n",
       "      <td>LC10a_R</td>\n",
       "      <td>AOTU053</td>\n",
       "      <td>AOTU053_R</td>\n",
       "    </tr>\n",
       "    <tr>\n",
       "      <th>21182</th>\n",
       "      <td>100368</td>\n",
       "      <td>165007</td>\n",
       "      <td>LO(R)</td>\n",
       "      <td>1</td>\n",
       "      <td>LC10a</td>\n",
       "      <td>LC10a_R</td>\n",
       "      <td>Tm5c</td>\n",
       "      <td>Tm5c_R</td>\n",
       "    </tr>\n",
       "    <tr>\n",
       "      <th>21183</th>\n",
       "      <td>100368</td>\n",
       "      <td>523317</td>\n",
       "      <td>AOTU(R)</td>\n",
       "      <td>3</td>\n",
       "      <td>LC10a</td>\n",
       "      <td>LC10a_R</td>\n",
       "      <td>AOTU041</td>\n",
       "      <td>AOTU041_R</td>\n",
       "    </tr>\n",
       "    <tr>\n",
       "      <th>21184</th>\n",
       "      <td>100368</td>\n",
       "      <td>524268</td>\n",
       "      <td>AOTU(R)</td>\n",
       "      <td>3</td>\n",
       "      <td>LC10a</td>\n",
       "      <td>LC10a_R</td>\n",
       "      <td>AOTU063_a</td>\n",
       "      <td>AOTU063_a_R</td>\n",
       "    </tr>\n",
       "  </tbody>\n",
       "</table>\n",
       "<p>21185 rows × 8 columns</p>\n",
       "</div>"
      ],
      "text/plain": [
       "       bodyId_pre  bodyId_post      roi  weight type_pre instance_pre  \\\n",
       "0           21065        10005  AOTU(R)     128    LC10a      LC10a_R   \n",
       "1           21065        10031  AOTU(R)      70    LC10a      LC10a_R   \n",
       "2           21065        10148  AOTU(R)       2    LC10a      LC10a_R   \n",
       "3           21065        10212  AOTU(R)       4    LC10a      LC10a_R   \n",
       "4           21065        10379  AOTU(R)       2    LC10a      LC10a_R   \n",
       "...           ...          ...      ...     ...      ...          ...   \n",
       "21180      100368       141656    LO(R)       1    LC10a      LC10a_R   \n",
       "21181      100368       151869  AOTU(R)       4    LC10a      LC10a_R   \n",
       "21182      100368       165007    LO(R)       1    LC10a      LC10a_R   \n",
       "21183      100368       523317  AOTU(R)       3    LC10a      LC10a_R   \n",
       "21184      100368       524268  AOTU(R)       3    LC10a      LC10a_R   \n",
       "\n",
       "       type_post instance_post  \n",
       "0        AOTU019     AOTU019_R  \n",
       "1        AOTU041     AOTU041_R  \n",
       "2        AOTU041     AOTU041_L  \n",
       "3        AOTU042     AOTU042_L  \n",
       "4          DNa10       DNa10_R  \n",
       "...          ...           ...  \n",
       "21180         T3          T3_R  \n",
       "21181    AOTU053     AOTU053_R  \n",
       "21182       Tm5c        Tm5c_R  \n",
       "21183    AOTU041     AOTU041_R  \n",
       "21184  AOTU063_a   AOTU063_a_R  \n",
       "\n",
       "[21185 rows x 8 columns]"
      ]
     },
     "execution_count": 4,
     "metadata": {},
     "output_type": "execute_result"
    }
   ],
   "source": [
    "# Fetch all postsynaptic connections to LC10a_R neurons:\n",
    "neuron_df, down_conn_df = fetch_adjacencies(LC10a_R_criteria, None) # min_roi_weight = 3, min_total_weight = 5) # you can threshold by listing min_roi_weight or min_total_weight as additional input variable\n",
    "merged_df = merge_neuron_properties(neuron_df, down_conn_df, ['type','instance'])\n",
    "merged_df.to_csv(PROJECT_ROOT/'AOTU_results/LC10a_R_AllPostsynapticConnections.csv')\n",
    "postsynaptic_df = merged_df\n",
    "postsynaptic_df"
   ]
  },
  {
   "cell_type": "code",
   "execution_count": 5,
   "id": "d2d3f12f-4551-4176-992c-0be1bae97585",
   "metadata": {
    "execution": {
     "iopub.execute_input": "2024-05-27T19:45:41.847396Z",
     "iopub.status.busy": "2024-05-27T19:45:41.846870Z",
     "iopub.status.idle": "2024-05-27T19:45:44.274337Z",
     "shell.execute_reply": "2024-05-27T19:45:44.274086Z",
     "shell.execute_reply.started": "2024-05-27T19:45:41.847365Z"
    }
   },
   "outputs": [
    {
     "data": {
      "application/vnd.jupyter.widget-view+json": {
       "model_id": "5057b433a7ee46bca8ddc94a05183a2b",
       "version_major": 2,
       "version_minor": 0
      },
      "text/plain": [
       "  0%|          | 0/2 [00:00<?, ?it/s]"
      ]
     },
     "metadata": {},
     "output_type": "display_data"
    },
    {
     "data": {
      "text/html": [
       "<div>\n",
       "<style scoped>\n",
       "    .dataframe tbody tr th:only-of-type {\n",
       "        vertical-align: middle;\n",
       "    }\n",
       "\n",
       "    .dataframe tbody tr th {\n",
       "        vertical-align: top;\n",
       "    }\n",
       "\n",
       "    .dataframe thead th {\n",
       "        text-align: right;\n",
       "    }\n",
       "</style>\n",
       "<table border=\"1\" class=\"dataframe\">\n",
       "  <thead>\n",
       "    <tr style=\"text-align: right;\">\n",
       "      <th></th>\n",
       "      <th>bodyId_pre</th>\n",
       "      <th>bodyId_post</th>\n",
       "      <th>roi</th>\n",
       "      <th>weight</th>\n",
       "      <th>type_pre</th>\n",
       "      <th>instance_pre</th>\n",
       "      <th>type_post</th>\n",
       "      <th>instance_post</th>\n",
       "    </tr>\n",
       "  </thead>\n",
       "  <tbody>\n",
       "    <tr>\n",
       "      <th>0</th>\n",
       "      <td>10005</td>\n",
       "      <td>22397</td>\n",
       "      <td>AOTU(R)</td>\n",
       "      <td>1</td>\n",
       "      <td>AOTU019</td>\n",
       "      <td>AOTU019_R</td>\n",
       "      <td>LC10a</td>\n",
       "      <td>LC10a_R</td>\n",
       "    </tr>\n",
       "    <tr>\n",
       "      <th>1</th>\n",
       "      <td>10029</td>\n",
       "      <td>23421</td>\n",
       "      <td>LO(R)</td>\n",
       "      <td>1</td>\n",
       "      <td>LoVC16</td>\n",
       "      <td>LoVC16_R</td>\n",
       "      <td>LC10a</td>\n",
       "      <td>LC10a_R</td>\n",
       "    </tr>\n",
       "    <tr>\n",
       "      <th>2</th>\n",
       "      <td>10029</td>\n",
       "      <td>24035</td>\n",
       "      <td>LO(R)</td>\n",
       "      <td>1</td>\n",
       "      <td>LoVC16</td>\n",
       "      <td>LoVC16_R</td>\n",
       "      <td>LC10a</td>\n",
       "      <td>LC10a_R</td>\n",
       "    </tr>\n",
       "    <tr>\n",
       "      <th>3</th>\n",
       "      <td>10029</td>\n",
       "      <td>37871</td>\n",
       "      <td>LO(R)</td>\n",
       "      <td>1</td>\n",
       "      <td>LoVC16</td>\n",
       "      <td>LoVC16_R</td>\n",
       "      <td>LC10a</td>\n",
       "      <td>LC10a_R</td>\n",
       "    </tr>\n",
       "    <tr>\n",
       "      <th>4</th>\n",
       "      <td>10029</td>\n",
       "      <td>42452</td>\n",
       "      <td>LO(R)</td>\n",
       "      <td>1</td>\n",
       "      <td>LoVC16</td>\n",
       "      <td>LoVC16_R</td>\n",
       "      <td>LC10a</td>\n",
       "      <td>LC10a_R</td>\n",
       "    </tr>\n",
       "    <tr>\n",
       "      <th>...</th>\n",
       "      <td>...</td>\n",
       "      <td>...</td>\n",
       "      <td>...</td>\n",
       "      <td>...</td>\n",
       "      <td>...</td>\n",
       "      <td>...</td>\n",
       "      <td>...</td>\n",
       "      <td>...</td>\n",
       "    </tr>\n",
       "    <tr>\n",
       "      <th>37418</th>\n",
       "      <td>862647850</td>\n",
       "      <td>36779</td>\n",
       "      <td>AOTU(R)</td>\n",
       "      <td>1</td>\n",
       "      <td>None</td>\n",
       "      <td>None</td>\n",
       "      <td>LC10a</td>\n",
       "      <td>LC10a_R</td>\n",
       "    </tr>\n",
       "    <tr>\n",
       "      <th>37419</th>\n",
       "      <td>917042442</td>\n",
       "      <td>22397</td>\n",
       "      <td>LO(R)</td>\n",
       "      <td>2</td>\n",
       "      <td>None</td>\n",
       "      <td>None</td>\n",
       "      <td>LC10a</td>\n",
       "      <td>LC10a_R</td>\n",
       "    </tr>\n",
       "    <tr>\n",
       "      <th>37420</th>\n",
       "      <td>917042442</td>\n",
       "      <td>23154</td>\n",
       "      <td>LO(R)</td>\n",
       "      <td>1</td>\n",
       "      <td>None</td>\n",
       "      <td>None</td>\n",
       "      <td>LC10a</td>\n",
       "      <td>LC10a_R</td>\n",
       "    </tr>\n",
       "    <tr>\n",
       "      <th>37421</th>\n",
       "      <td>988188512</td>\n",
       "      <td>26788</td>\n",
       "      <td>LO(R)</td>\n",
       "      <td>2</td>\n",
       "      <td>None</td>\n",
       "      <td>None</td>\n",
       "      <td>LC10a</td>\n",
       "      <td>LC10a_R</td>\n",
       "    </tr>\n",
       "    <tr>\n",
       "      <th>37422</th>\n",
       "      <td>988188512</td>\n",
       "      <td>31878</td>\n",
       "      <td>LO(R)</td>\n",
       "      <td>3</td>\n",
       "      <td>None</td>\n",
       "      <td>None</td>\n",
       "      <td>LC10a</td>\n",
       "      <td>LC10a_R</td>\n",
       "    </tr>\n",
       "  </tbody>\n",
       "</table>\n",
       "<p>37423 rows × 8 columns</p>\n",
       "</div>"
      ],
      "text/plain": [
       "       bodyId_pre  bodyId_post      roi  weight type_pre instance_pre  \\\n",
       "0           10005        22397  AOTU(R)       1  AOTU019    AOTU019_R   \n",
       "1           10029        23421    LO(R)       1   LoVC16     LoVC16_R   \n",
       "2           10029        24035    LO(R)       1   LoVC16     LoVC16_R   \n",
       "3           10029        37871    LO(R)       1   LoVC16     LoVC16_R   \n",
       "4           10029        42452    LO(R)       1   LoVC16     LoVC16_R   \n",
       "...           ...          ...      ...     ...      ...          ...   \n",
       "37418   862647850        36779  AOTU(R)       1     None         None   \n",
       "37419   917042442        22397    LO(R)       2     None         None   \n",
       "37420   917042442        23154    LO(R)       1     None         None   \n",
       "37421   988188512        26788    LO(R)       2     None         None   \n",
       "37422   988188512        31878    LO(R)       3     None         None   \n",
       "\n",
       "      type_post instance_post  \n",
       "0         LC10a       LC10a_R  \n",
       "1         LC10a       LC10a_R  \n",
       "2         LC10a       LC10a_R  \n",
       "3         LC10a       LC10a_R  \n",
       "4         LC10a       LC10a_R  \n",
       "...         ...           ...  \n",
       "37418     LC10a       LC10a_R  \n",
       "37419     LC10a       LC10a_R  \n",
       "37420     LC10a       LC10a_R  \n",
       "37421     LC10a       LC10a_R  \n",
       "37422     LC10a       LC10a_R  \n",
       "\n",
       "[37423 rows x 8 columns]"
      ]
     },
     "execution_count": 5,
     "metadata": {},
     "output_type": "execute_result"
    }
   ],
   "source": [
    "# Fetch all postsynaptic connections to LC10a_R neurons:\n",
    "neuron_df, up_conn_df = fetch_adjacencies(None, LC10a_R_criteria) # min_roi_weight = 3, min_total_weight = 5) # you can threshold by listing min_roi_weight or min_total_weight as additional input variable\n",
    "merged_df = merge_neuron_properties(neuron_df, up_conn_df, ['type','instance'])\n",
    "merged_df.to_csv(PROJECT_ROOT/'AOTU_results/LC10a_R_AllPresynapticConnections.csv')\n",
    "presynaptic_df = merged_df\n",
    "presynaptic_df"
   ]
  },
  {
   "cell_type": "code",
   "execution_count": 6,
   "id": "4f44e7ff-9de1-4acc-811f-7610e1172844",
   "metadata": {
    "execution": {
     "iopub.execute_input": "2024-05-27T19:45:55.219875Z",
     "iopub.status.busy": "2024-05-27T19:45:55.219494Z",
     "iopub.status.idle": "2024-05-27T19:45:55.873253Z",
     "shell.execute_reply": "2024-05-27T19:45:55.872996Z",
     "shell.execute_reply.started": "2024-05-27T19:45:55.219851Z"
    }
   },
   "outputs": [
    {
     "data": {
      "text/html": [
       "<div>\n",
       "<style scoped>\n",
       "    .dataframe tbody tr th:only-of-type {\n",
       "        vertical-align: middle;\n",
       "    }\n",
       "\n",
       "    .dataframe tbody tr th {\n",
       "        vertical-align: top;\n",
       "    }\n",
       "\n",
       "    .dataframe thead th {\n",
       "        text-align: right;\n",
       "    }\n",
       "</style>\n",
       "<table border=\"1\" class=\"dataframe\">\n",
       "  <thead>\n",
       "    <tr style=\"text-align: right;\">\n",
       "      <th></th>\n",
       "      <th>bodyId_pre</th>\n",
       "      <th>bodyId_post</th>\n",
       "      <th>roi</th>\n",
       "      <th>weight</th>\n",
       "      <th>type_pre</th>\n",
       "      <th>instance_pre</th>\n",
       "      <th>type_post</th>\n",
       "      <th>instance_post</th>\n",
       "    </tr>\n",
       "  </thead>\n",
       "  <tbody>\n",
       "    <tr>\n",
       "      <th>0</th>\n",
       "      <td>21065</td>\n",
       "      <td>10005</td>\n",
       "      <td>AOTU(R)</td>\n",
       "      <td>128</td>\n",
       "      <td>LC10a</td>\n",
       "      <td>LC10a_R</td>\n",
       "      <td>AOTU019</td>\n",
       "      <td>AOTU019_R</td>\n",
       "    </tr>\n",
       "    <tr>\n",
       "      <th>1</th>\n",
       "      <td>21065</td>\n",
       "      <td>10031</td>\n",
       "      <td>AOTU(R)</td>\n",
       "      <td>70</td>\n",
       "      <td>LC10a</td>\n",
       "      <td>LC10a_R</td>\n",
       "      <td>AOTU041</td>\n",
       "      <td>AOTU041_R</td>\n",
       "    </tr>\n",
       "    <tr>\n",
       "      <th>2</th>\n",
       "      <td>21065</td>\n",
       "      <td>10148</td>\n",
       "      <td>AOTU(R)</td>\n",
       "      <td>2</td>\n",
       "      <td>LC10a</td>\n",
       "      <td>LC10a_R</td>\n",
       "      <td>AOTU041</td>\n",
       "      <td>AOTU041_L</td>\n",
       "    </tr>\n",
       "    <tr>\n",
       "      <th>3</th>\n",
       "      <td>21065</td>\n",
       "      <td>10212</td>\n",
       "      <td>AOTU(R)</td>\n",
       "      <td>4</td>\n",
       "      <td>LC10a</td>\n",
       "      <td>LC10a_R</td>\n",
       "      <td>AOTU042</td>\n",
       "      <td>AOTU042_L</td>\n",
       "    </tr>\n",
       "    <tr>\n",
       "      <th>4</th>\n",
       "      <td>21065</td>\n",
       "      <td>10379</td>\n",
       "      <td>AOTU(R)</td>\n",
       "      <td>2</td>\n",
       "      <td>LC10a</td>\n",
       "      <td>LC10a_R</td>\n",
       "      <td>DNa10</td>\n",
       "      <td>DNa10_R</td>\n",
       "    </tr>\n",
       "    <tr>\n",
       "      <th>...</th>\n",
       "      <td>...</td>\n",
       "      <td>...</td>\n",
       "      <td>...</td>\n",
       "      <td>...</td>\n",
       "      <td>...</td>\n",
       "      <td>...</td>\n",
       "      <td>...</td>\n",
       "      <td>...</td>\n",
       "    </tr>\n",
       "    <tr>\n",
       "      <th>15681</th>\n",
       "      <td>100368</td>\n",
       "      <td>85707</td>\n",
       "      <td>AOTU(R)</td>\n",
       "      <td>6</td>\n",
       "      <td>LC10a</td>\n",
       "      <td>LC10a_R</td>\n",
       "      <td>LC10a</td>\n",
       "      <td>LC10a_R</td>\n",
       "    </tr>\n",
       "    <tr>\n",
       "      <th>15682</th>\n",
       "      <td>100368</td>\n",
       "      <td>86507</td>\n",
       "      <td>AOTU(R)</td>\n",
       "      <td>4</td>\n",
       "      <td>LC10a</td>\n",
       "      <td>LC10a_R</td>\n",
       "      <td>LC10a</td>\n",
       "      <td>LC10a_R</td>\n",
       "    </tr>\n",
       "    <tr>\n",
       "      <th>15683</th>\n",
       "      <td>100368</td>\n",
       "      <td>151869</td>\n",
       "      <td>AOTU(R)</td>\n",
       "      <td>4</td>\n",
       "      <td>LC10a</td>\n",
       "      <td>LC10a_R</td>\n",
       "      <td>AOTU053</td>\n",
       "      <td>AOTU053_R</td>\n",
       "    </tr>\n",
       "    <tr>\n",
       "      <th>15684</th>\n",
       "      <td>100368</td>\n",
       "      <td>523317</td>\n",
       "      <td>AOTU(R)</td>\n",
       "      <td>3</td>\n",
       "      <td>LC10a</td>\n",
       "      <td>LC10a_R</td>\n",
       "      <td>AOTU041</td>\n",
       "      <td>AOTU041_R</td>\n",
       "    </tr>\n",
       "    <tr>\n",
       "      <th>15685</th>\n",
       "      <td>100368</td>\n",
       "      <td>524268</td>\n",
       "      <td>AOTU(R)</td>\n",
       "      <td>3</td>\n",
       "      <td>LC10a</td>\n",
       "      <td>LC10a_R</td>\n",
       "      <td>AOTU063_a</td>\n",
       "      <td>AOTU063_a_R</td>\n",
       "    </tr>\n",
       "  </tbody>\n",
       "</table>\n",
       "<p>15686 rows × 8 columns</p>\n",
       "</div>"
      ],
      "text/plain": [
       "       bodyId_pre  bodyId_post      roi  weight type_pre instance_pre  \\\n",
       "0           21065        10005  AOTU(R)     128    LC10a      LC10a_R   \n",
       "1           21065        10031  AOTU(R)      70    LC10a      LC10a_R   \n",
       "2           21065        10148  AOTU(R)       2    LC10a      LC10a_R   \n",
       "3           21065        10212  AOTU(R)       4    LC10a      LC10a_R   \n",
       "4           21065        10379  AOTU(R)       2    LC10a      LC10a_R   \n",
       "...           ...          ...      ...     ...      ...          ...   \n",
       "15681      100368        85707  AOTU(R)       6    LC10a      LC10a_R   \n",
       "15682      100368        86507  AOTU(R)       4    LC10a      LC10a_R   \n",
       "15683      100368       151869  AOTU(R)       4    LC10a      LC10a_R   \n",
       "15684      100368       523317  AOTU(R)       3    LC10a      LC10a_R   \n",
       "15685      100368       524268  AOTU(R)       3    LC10a      LC10a_R   \n",
       "\n",
       "       type_post instance_post  \n",
       "0        AOTU019     AOTU019_R  \n",
       "1        AOTU041     AOTU041_R  \n",
       "2        AOTU041     AOTU041_L  \n",
       "3        AOTU042     AOTU042_L  \n",
       "4          DNa10       DNa10_R  \n",
       "...          ...           ...  \n",
       "15681      LC10a       LC10a_R  \n",
       "15682      LC10a       LC10a_R  \n",
       "15683    AOTU053     AOTU053_R  \n",
       "15684    AOTU041     AOTU041_R  \n",
       "15685  AOTU063_a   AOTU063_a_R  \n",
       "\n",
       "[15686 rows x 8 columns]"
      ]
     },
     "execution_count": 6,
     "metadata": {},
     "output_type": "execute_result"
    }
   ],
   "source": [
    " # Fetch all postsynaptic connections from right-side LC10a neurons to any neurons in right AOTU, specifically:\n",
    "neuron_df, AOTU_outputs_df = fetch_adjacencies(LC10a_R_criteria, rois='AOTU(R)') \n",
    "merged_df = merge_neuron_properties(neuron_df, AOTU_outputs_df, ['type','instance'])\n",
    "LC10a_AOTUroi_outputs_df = merged_df\n",
    "LC10a_AOTUroi_outputs_df.to_csv(PROJECT_ROOT/'AOTU_results/LC10a_R_ALLPostsynapticConnectionsinAOTU_R.csv')\n",
    "LC10a_AOTUroi_outputs_df"
   ]
  },
  {
   "cell_type": "code",
   "execution_count": 7,
   "id": "8db414c1-0fe4-4856-9537-226f346b2a2e",
   "metadata": {
    "execution": {
     "iopub.execute_input": "2024-05-27T19:46:19.779759Z",
     "iopub.status.busy": "2024-05-27T19:46:19.779185Z",
     "iopub.status.idle": "2024-05-27T19:46:20.258548Z",
     "shell.execute_reply": "2024-05-27T19:46:20.258228Z",
     "shell.execute_reply.started": "2024-05-27T19:46:19.779730Z"
    }
   },
   "outputs": [
    {
     "data": {
      "text/html": [
       "<div>\n",
       "<style scoped>\n",
       "    .dataframe tbody tr th:only-of-type {\n",
       "        vertical-align: middle;\n",
       "    }\n",
       "\n",
       "    .dataframe tbody tr th {\n",
       "        vertical-align: top;\n",
       "    }\n",
       "\n",
       "    .dataframe thead th {\n",
       "        text-align: right;\n",
       "    }\n",
       "</style>\n",
       "<table border=\"1\" class=\"dataframe\">\n",
       "  <thead>\n",
       "    <tr style=\"text-align: right;\">\n",
       "      <th></th>\n",
       "      <th>bodyId_pre</th>\n",
       "      <th>bodyId_post</th>\n",
       "      <th>roi</th>\n",
       "      <th>weight</th>\n",
       "      <th>type_pre</th>\n",
       "      <th>instance_pre</th>\n",
       "      <th>type_post</th>\n",
       "      <th>instance_post</th>\n",
       "    </tr>\n",
       "  </thead>\n",
       "  <tbody>\n",
       "    <tr>\n",
       "      <th>0</th>\n",
       "      <td>21065</td>\n",
       "      <td>10005</td>\n",
       "      <td>AOTU(R)</td>\n",
       "      <td>128</td>\n",
       "      <td>LC10a</td>\n",
       "      <td>LC10a_R</td>\n",
       "      <td>AOTU019</td>\n",
       "      <td>AOTU019_R</td>\n",
       "    </tr>\n",
       "    <tr>\n",
       "      <th>1</th>\n",
       "      <td>21065</td>\n",
       "      <td>10031</td>\n",
       "      <td>AOTU(R)</td>\n",
       "      <td>70</td>\n",
       "      <td>LC10a</td>\n",
       "      <td>LC10a_R</td>\n",
       "      <td>AOTU041</td>\n",
       "      <td>AOTU041_R</td>\n",
       "    </tr>\n",
       "    <tr>\n",
       "      <th>2</th>\n",
       "      <td>21065</td>\n",
       "      <td>10148</td>\n",
       "      <td>AOTU(R)</td>\n",
       "      <td>2</td>\n",
       "      <td>LC10a</td>\n",
       "      <td>LC10a_R</td>\n",
       "      <td>AOTU041</td>\n",
       "      <td>AOTU041_L</td>\n",
       "    </tr>\n",
       "    <tr>\n",
       "      <th>3</th>\n",
       "      <td>21065</td>\n",
       "      <td>10212</td>\n",
       "      <td>AOTU(R)</td>\n",
       "      <td>4</td>\n",
       "      <td>LC10a</td>\n",
       "      <td>LC10a_R</td>\n",
       "      <td>AOTU042</td>\n",
       "      <td>AOTU042_L</td>\n",
       "    </tr>\n",
       "    <tr>\n",
       "      <th>4</th>\n",
       "      <td>21065</td>\n",
       "      <td>10406</td>\n",
       "      <td>AOTU(R)</td>\n",
       "      <td>1</td>\n",
       "      <td>LC10a</td>\n",
       "      <td>LC10a_R</td>\n",
       "      <td>AOTU012</td>\n",
       "      <td>AOTU012_R</td>\n",
       "    </tr>\n",
       "    <tr>\n",
       "      <th>...</th>\n",
       "      <td>...</td>\n",
       "      <td>...</td>\n",
       "      <td>...</td>\n",
       "      <td>...</td>\n",
       "      <td>...</td>\n",
       "      <td>...</td>\n",
       "      <td>...</td>\n",
       "      <td>...</td>\n",
       "    </tr>\n",
       "    <tr>\n",
       "      <th>5990</th>\n",
       "      <td>100368</td>\n",
       "      <td>37623</td>\n",
       "      <td>AOTU(R)</td>\n",
       "      <td>1</td>\n",
       "      <td>LC10a</td>\n",
       "      <td>LC10a_R</td>\n",
       "      <td>AOTU054</td>\n",
       "      <td>AOTU054_R</td>\n",
       "    </tr>\n",
       "    <tr>\n",
       "      <th>5991</th>\n",
       "      <td>100368</td>\n",
       "      <td>37829</td>\n",
       "      <td>AOTU(R)</td>\n",
       "      <td>9</td>\n",
       "      <td>LC10a</td>\n",
       "      <td>LC10a_R</td>\n",
       "      <td>AOTU059</td>\n",
       "      <td>14368(AOTU)_R</td>\n",
       "    </tr>\n",
       "    <tr>\n",
       "      <th>5992</th>\n",
       "      <td>100368</td>\n",
       "      <td>151869</td>\n",
       "      <td>AOTU(R)</td>\n",
       "      <td>4</td>\n",
       "      <td>LC10a</td>\n",
       "      <td>LC10a_R</td>\n",
       "      <td>AOTU053</td>\n",
       "      <td>AOTU053_R</td>\n",
       "    </tr>\n",
       "    <tr>\n",
       "      <th>5993</th>\n",
       "      <td>100368</td>\n",
       "      <td>523317</td>\n",
       "      <td>AOTU(R)</td>\n",
       "      <td>3</td>\n",
       "      <td>LC10a</td>\n",
       "      <td>LC10a_R</td>\n",
       "      <td>AOTU041</td>\n",
       "      <td>AOTU041_R</td>\n",
       "    </tr>\n",
       "    <tr>\n",
       "      <th>5994</th>\n",
       "      <td>100368</td>\n",
       "      <td>524268</td>\n",
       "      <td>AOTU(R)</td>\n",
       "      <td>3</td>\n",
       "      <td>LC10a</td>\n",
       "      <td>LC10a_R</td>\n",
       "      <td>AOTU063_a</td>\n",
       "      <td>AOTU063_a_R</td>\n",
       "    </tr>\n",
       "  </tbody>\n",
       "</table>\n",
       "<p>5995 rows × 8 columns</p>\n",
       "</div>"
      ],
      "text/plain": [
       "      bodyId_pre  bodyId_post      roi  weight type_pre instance_pre  \\\n",
       "0          21065        10005  AOTU(R)     128    LC10a      LC10a_R   \n",
       "1          21065        10031  AOTU(R)      70    LC10a      LC10a_R   \n",
       "2          21065        10148  AOTU(R)       2    LC10a      LC10a_R   \n",
       "3          21065        10212  AOTU(R)       4    LC10a      LC10a_R   \n",
       "4          21065        10406  AOTU(R)       1    LC10a      LC10a_R   \n",
       "...          ...          ...      ...     ...      ...          ...   \n",
       "5990      100368        37623  AOTU(R)       1    LC10a      LC10a_R   \n",
       "5991      100368        37829  AOTU(R)       9    LC10a      LC10a_R   \n",
       "5992      100368       151869  AOTU(R)       4    LC10a      LC10a_R   \n",
       "5993      100368       523317  AOTU(R)       3    LC10a      LC10a_R   \n",
       "5994      100368       524268  AOTU(R)       3    LC10a      LC10a_R   \n",
       "\n",
       "      type_post  instance_post  \n",
       "0       AOTU019      AOTU019_R  \n",
       "1       AOTU041      AOTU041_R  \n",
       "2       AOTU041      AOTU041_L  \n",
       "3       AOTU042      AOTU042_L  \n",
       "4       AOTU012      AOTU012_R  \n",
       "...         ...            ...  \n",
       "5990    AOTU054      AOTU054_R  \n",
       "5991    AOTU059  14368(AOTU)_R  \n",
       "5992    AOTU053      AOTU053_R  \n",
       "5993    AOTU041      AOTU041_R  \n",
       "5994  AOTU063_a    AOTU063_a_R  \n",
       "\n",
       "[5995 rows x 8 columns]"
      ]
     },
     "execution_count": 7,
     "metadata": {},
     "output_type": "execute_result"
    }
   ],
   "source": [
    " # Fetch all postsynaptic connections from right-side LC10a neurons to AOTU neurons (in right or left AOTU):\n",
    "neuron_df, AOTU_outputs_df = fetch_adjacencies(LC10a_R_criteria, NC(type=('AOTU.*')))#,min_roi_weight=3)\n",
    "merged_df = merge_neuron_properties(neuron_df, AOTU_outputs_df, ['type','instance'])\n",
    "LC10a_AOTU_outputs_df = merged_df\n",
    "LC10a_AOTU_outputs_df.to_csv(PROJECT_ROOT/'AOTU_results/LC10a_R_PostsynapticConnectionstoAOTUs.csv')\n",
    "LC10a_AOTU_outputs_df"
   ]
  },
  {
   "cell_type": "code",
   "execution_count": 8,
   "id": "1d2211ef-4167-4121-aa75-763212fda413",
   "metadata": {
    "execution": {
     "iopub.execute_input": "2024-05-27T19:46:43.520149Z",
     "iopub.status.busy": "2024-05-27T19:46:43.519752Z",
     "iopub.status.idle": "2024-05-27T19:46:43.647353Z",
     "shell.execute_reply": "2024-05-27T19:46:43.646677Z",
     "shell.execute_reply.started": "2024-05-27T19:46:43.520127Z"
    }
   },
   "outputs": [
    {
     "data": {},
     "metadata": {},
     "output_type": "display_data"
    },
    {
     "data": {
      "application/vnd.holoviews_exec.v0+json": "",
      "text/html": [
       "<div id='9842f833-010a-45e9-847b-9c1eebd2d88b'>\n",
       "  <div id=\"bea6158c-fffa-4b69-b332-92ad54a6458f\" data-root-id=\"9842f833-010a-45e9-847b-9c1eebd2d88b\" style=\"display: contents;\"></div>\n",
       "</div>\n",
       "<script type=\"application/javascript\">(function(root) {\n",
       "  var docs_json = {\"6e11b57b-d9ec-4546-8d10-f67f9823f649\":{\"version\":\"3.7.3\",\"title\":\"Bokeh Application\",\"roots\":[{\"type\":\"object\",\"name\":\"Row\",\"id\":\"9842f833-010a-45e9-847b-9c1eebd2d88b\",\"attributes\":{\"name\":\"Row00492\",\"tags\":[\"embedded\"],\"stylesheets\":[\"\\n:host(.pn-loading):before, .pn-loading:before {\\n  background-color: #c3c3c3;\\n  mask-size: auto calc(min(50%, 400px));\\n  -webkit-mask-size: auto calc(min(50%, 400px));\\n}\",{\"type\":\"object\",\"name\":\"ImportedStyleSheet\",\"id\":\"29edea7c-8686-47d1-a866-b35f4cce444d\",\"attributes\":{\"url\":\"https://cdn.holoviz.org/panel/1.7.0/dist/css/loading.css\"}},{\"type\":\"object\",\"name\":\"ImportedStyleSheet\",\"id\":\"364051c3-db28-4d59-9410-071787164228\",\"attributes\":{\"url\":\"https://cdn.holoviz.org/panel/1.7.0/dist/css/listpanel.css\"}},{\"type\":\"object\",\"name\":\"ImportedStyleSheet\",\"id\":\"839722f9-a0d6-4885-a4ab-0f8226cc2621\",\"attributes\":{\"url\":\"https://cdn.holoviz.org/panel/1.7.0/dist/bundled/theme/default.css\"}},{\"type\":\"object\",\"name\":\"ImportedStyleSheet\",\"id\":\"4cf2649f-d1cd-4068-8d9f-b434383088e0\",\"attributes\":{\"url\":\"https://cdn.holoviz.org/panel/1.7.0/dist/bundled/theme/native.css\"}}],\"min_width\":1050,\"margin\":0,\"sizing_mode\":\"stretch_width\",\"align\":\"start\",\"children\":[{\"type\":\"object\",\"name\":\"Spacer\",\"id\":\"26548ebc-f1d3-4928-a5e4-027b3b32b7b6\",\"attributes\":{\"name\":\"HSpacer00496\",\"stylesheets\":[\"\\n:host(.pn-loading):before, .pn-loading:before {\\n  background-color: #c3c3c3;\\n  mask-size: auto calc(min(50%, 400px));\\n  -webkit-mask-size: auto calc(min(50%, 400px));\\n}\",{\"id\":\"29edea7c-8686-47d1-a866-b35f4cce444d\"},{\"id\":\"839722f9-a0d6-4885-a4ab-0f8226cc2621\"},{\"id\":\"4cf2649f-d1cd-4068-8d9f-b434383088e0\"}],\"min_width\":0,\"margin\":0,\"sizing_mode\":\"stretch_width\",\"align\":\"start\"}},{\"type\":\"object\",\"name\":\"Figure\",\"id\":\"0724ccd8-5803-4c88-b652-ba4f0d5eabda\",\"attributes\":{\"width\":1050,\"margin\":[5,10],\"sizing_mode\":\"fixed\",\"align\":\"start\",\"x_range\":{\"type\":\"object\",\"name\":\"FactorRange\",\"id\":\"830eac10-3243-4b9e-b0d6-128cbefbecd6\",\"attributes\":{\"name\":\"columns\",\"tags\":[[[\"columns\",null]],[]],\"factors\":[\"AOTU001\",\"AOTU002_a\",\"AOTU002_b\",\"AOTU002_c\",\"AOTU003\",\"AOTU004\",\"AOTU005\",\"AOTU006\",\"AOTU007_a\",\"AOTU007_b\",\"AOTU007_c\",\"AOTU008\",\"AOTU009\",\"AOTU011\",\"AOTU012\",\"AOTU013\",\"AOTU014\",\"AOTU015\",\"AOTU016_a\",\"AOTU016_b\",\"AOTU016_c\",\"AOTU017\",\"AOTU018\",\"AOTU019\",\"AOTU020\",\"AOTU022\",\"AOTU023\",\"AOTU024\",\"AOTU025\",\"AOTU026\",\"AOTU027\",\"AOTU028\",\"AOTU029\",\"AOTU030\",\"AOTU032\",\"AOTU033\",\"AOTU034\",\"AOTU035\",\"AOTU036\",\"AOTU037\",\"AOTU038\",\"AOTU041\",\"AOTU042\",\"AOTU043\",\"AOTU045\",\"AOTU046\",\"AOTU047\",\"AOTU048\",\"AOTU050\",\"AOTU051\",\"AOTU052\",\"AOTU053\",\"AOTU054\",\"AOTU058\",\"AOTU059\",\"AOTU060\",\"AOTU061\",\"AOTU062\",\"AOTU063_a\",\"AOTU063_b\",\"AOTU064\",\"AOTU065\",\"AOTU100m\",\"AOTU101m\",\"AOTU102m\",\"AOTU103m\"]}},\"y_range\":{\"type\":\"object\",\"name\":\"FactorRange\",\"id\":\"3691cb6d-2d74-4c8c-838c-32882b3cd065\",\"attributes\":{\"name\":\"index\",\"tags\":[[[\"index\",null]],{\"type\":\"map\",\"entries\":[[\"invert_yaxis\",false],[\"autorange\",false]]}],\"factors\":[\"21065\",\"28390\",\"28259\",\"28654\",\"28823\",\"28599\",\"27704\",\"27709\",\"27579\",\"28204\",\"29979\",\"30499\",\"29744\",\"31250\",\"30993\",\"31623\",\"29092\",\"29186\",\"29359\",\"25641\",\"25711\",\"25472\",\"25952\",\"26373\",\"25400\",\"25446\",\"25394\",\"27067\",\"27300\",\"26976\",\"27334\",\"26560\",\"26450\",\"26788\",\"26811\",\"46034\",\"45300\",\"47400\",\"44856\",\"44666\",\"49773\",\"50564\",\"49244\",\"48716\",\"42452\",\"43910\",\"41089\",\"41240\",\"44656\",\"44299\",\"70408\",\"69463\",\"76174\",\"57894\",\"57264\",\"86507\",\"85707\",\"100368\",\"84104\",\"84470\",\"52783\",\"53572\",\"52329\",\"51397\",\"54562\",\"54638\",\"54421\",\"32614\",\"32336\",\"31976\",\"32946\",\"33048\",\"33177\",\"31634\",\"31878\",\"31941\",\"37871\",\"37958\",\"36779\",\"38810\",\"38374\",\"34774\",\"34756\",\"34838\",\"36421\",\"35250\",\"22997\",\"22989\",\"23002\",\"23128\",\"22783\",\"22750\",\"22831\",\"23463\",\"23421\",\"23377\",\"23499\",\"23677\",\"23154\",\"23210\",\"21632\",\"21426\",\"21983\",\"21984\",\"21199\",\"21238\",\"22397\",\"22505\",\"22248\",\"22510\",\"22070\",\"22148\",\"24784\",\"24769\",\"24592\",\"24909\",\"24854\",\"24505\",\"24492\",\"24545\",\"25202\",\"25296\",\"25198\",\"25369\",\"25088\",\"25067\",\"25167\",\"23867\",\"23868\",\"23830\",\"23890\",\"23686\",\"23719\",\"24035\",\"24283\",\"24211\",\"24208\",\"24482\",\"24071\",\"24164\"]}},\"x_scale\":{\"type\":\"object\",\"name\":\"CategoricalScale\",\"id\":\"32f4c16c-b6ac-4db5-8d66-f8b14e1a5388\"},\"y_scale\":{\"type\":\"object\",\"name\":\"CategoricalScale\",\"id\":\"bee5b212-b6d7-4e6e-aeba-d2b728d83d0d\"},\"title\":{\"type\":\"object\",\"name\":\"Title\",\"id\":\"a01d7ce7-5b15-4886-843a-93b9924b3547\",\"attributes\":{\"text_color\":\"black\",\"text_font_size\":\"12pt\"}},\"renderers\":[{\"type\":\"object\",\"name\":\"GlyphRenderer\",\"id\":\"30332d0e-726d-4be6-b683-8d76d8e09adc\",\"attributes\":{\"data_source\":{\"type\":\"object\",\"name\":\"ColumnDataSource\",\"id\":\"441e6067-9935-4c02-a228-54dc192ab5d9\",\"attributes\":{\"selected\":{\"type\":\"object\",\"name\":\"Selection\",\"id\":\"980c760b-20a6-4602-9ae0-a284b002b701\",\"attributes\":{\"indices\":[],\"line_indices\":[]}},\"selection_policy\":{\"type\":\"object\",\"name\":\"UnionRenderers\",\"id\":\"a178d97d-04b7-40a6-801a-b4d780a433db\"},\"data\":{\"type\":\"map\",\"entries\":[[\"columns\",[\"AOTU001\",\"AOTU001\",\"AOTU001\",\"AOTU001\",\"AOTU001\",\"AOTU001\",\"AOTU001\",\"AOTU001\",\"AOTU001\",\"AOTU001\",\"AOTU001\",\"AOTU001\",\"AOTU001\",\"AOTU001\",\"AOTU001\",\"AOTU001\",\"AOTU001\",\"AOTU001\",\"AOTU001\",\"AOTU001\",\"AOTU001\",\"AOTU001\",\"AOTU001\",\"AOTU001\",\"AOTU001\",\"AOTU001\",\"AOTU001\",\"AOTU001\",\"AOTU001\",\"AOTU001\",\"AOTU001\",\"AOTU001\",\"AOTU001\",\"AOTU001\",\"AOTU001\",\"AOTU001\",\"AOTU001\",\"AOTU001\",\"AOTU001\",\"AOTU001\",\"AOTU001\",\"AOTU001\",\"AOTU001\",\"AOTU001\",\"AOTU001\",\"AOTU001\",\"AOTU001\",\"AOTU001\",\"AOTU001\",\"AOTU001\",\"AOTU001\",\"AOTU001\",\"AOTU001\",\"AOTU001\",\"AOTU001\",\"AOTU001\",\"AOTU001\",\"AOTU001\",\"AOTU001\",\"AOTU001\",\"AOTU001\",\"AOTU001\",\"AOTU001\",\"AOTU001\",\"AOTU001\",\"AOTU001\",\"AOTU001\",\"AOTU001\",\"AOTU001\",\"AOTU001\",\"AOTU001\",\"AOTU001\",\"AOTU001\",\"AOTU001\",\"AOTU001\",\"AOTU001\",\"AOTU001\",\"AOTU001\",\"AOTU001\",\"AOTU001\",\"AOTU001\",\"AOTU001\",\"AOTU001\",\"AOTU001\",\"AOTU001\",\"AOTU001\",\"AOTU001\",\"AOTU001\",\"AOTU001\",\"AOTU001\",\"AOTU001\",\"AOTU001\",\"AOTU001\",\"AOTU001\",\"AOTU001\",\"AOTU001\",\"AOTU001\",\"AOTU001\",\"AOTU001\",\"AOTU001\",\"AOTU001\",\"AOTU001\",\"AOTU001\",\"AOTU001\",\"AOTU001\",\"AOTU001\",\"AOTU001\",\"AOTU001\",\"AOTU001\",\"AOTU001\",\"AOTU001\",\"AOTU001\",\"AOTU001\",\"AOTU001\",\"AOTU001\",\"AOTU001\",\"AOTU001\",\"AOTU001\",\"AOTU001\",\"AOTU001\",\"AOTU001\",\"AOTU001\",\"AOTU001\",\"AOTU001\",\"AOTU001\",\"AOTU001\",\"AOTU001\",\"AOTU001\",\"AOTU001\",\"AOTU001\",\"AOTU001\",\"AOTU001\",\"AOTU001\",\"AOTU001\",\"AOTU001\",\"AOTU001\",\"AOTU001\",\"AOTU001\",\"AOTU001\",\"AOTU001\",\"AOTU002_a\",\"AOTU002_a\",\"AOTU002_a\",\"AOTU002_a\",\"AOTU002_a\",\"AOTU002_a\",\"AOTU002_a\",\"AOTU002_a\",\"AOTU002_a\",\"AOTU002_a\",\"AOTU002_a\",\"AOTU002_a\",\"AOTU002_a\",\"AOTU002_a\",\"AOTU002_a\",\"AOTU002_a\",\"AOTU002_a\",\"AOTU002_a\",\"AOTU002_a\",\"AOTU002_a\",\"AOTU002_a\",\"AOTU002_a\",\"AOTU002_a\",\"AOTU002_a\",\"AOTU002_a\",\"AOTU002_a\",\"AOTU002_a\",\"AOTU002_a\",\"AOTU002_a\",\"AOTU002_a\",\"AOTU002_a\",\"AOTU002_a\",\"AOTU002_a\",\"AOTU002_a\",\"AOTU002_a\",\"AOTU002_a\",\"AOTU002_a\",\"AOTU002_a\",\"AOTU002_a\",\"AOTU002_a\",\"AOTU002_a\",\"AOTU002_a\",\"AOTU002_a\",\"AOTU002_a\",\"AOTU002_a\",\"AOTU002_a\",\"AOTU002_a\",\"AOTU002_a\",\"AOTU002_a\",\"AOTU002_a\",\"AOTU002_a\",\"AOTU002_a\",\"AOTU002_a\",\"AOTU002_a\",\"AOTU002_a\",\"AOTU002_a\",\"AOTU002_a\",\"AOTU002_a\",\"AOTU002_a\",\"AOTU002_a\",\"AOTU002_a\",\"AOTU002_a\",\"AOTU002_a\",\"AOTU002_a\",\"AOTU002_a\",\"AOTU002_a\",\"AOTU002_a\",\"AOTU002_a\",\"AOTU002_a\",\"AOTU002_a\",\"AOTU002_a\",\"AOTU002_a\",\"AOTU002_a\",\"AOTU002_a\",\"AOTU002_a\",\"AOTU002_a\",\"AOTU002_a\",\"AOTU002_a\",\"AOTU002_a\",\"AOTU002_a\",\"AOTU002_a\",\"AOTU002_a\",\"AOTU002_a\",\"AOTU002_a\",\"AOTU002_a\",\"AOTU002_a\",\"AOTU002_a\",\"AOTU002_a\",\"AOTU002_a\",\"AOTU002_a\",\"AOTU002_a\",\"AOTU002_a\",\"AOTU002_a\",\"AOTU002_a\",\"AOTU002_a\",\"AOTU002_a\",\"AOTU002_a\",\"AOTU002_a\",\"AOTU002_a\",\"AOTU002_a\",\"AOTU002_a\",\"AOTU002_a\",\"AOTU002_a\",\"AOTU002_a\",\"AOTU002_a\",\"AOTU002_a\",\"AOTU002_a\",\"AOTU002_a\",\"AOTU002_a\",\"AOTU002_a\",\"AOTU002_a\",\"AOTU002_a\",\"AOTU002_a\",\"AOTU002_a\",\"AOTU002_a\",\"AOTU002_a\",\"AOTU002_a\",\"AOTU002_a\",\"AOTU002_a\",\"AOTU002_a\",\"AOTU002_a\",\"AOTU002_a\",\"AOTU002_a\",\"AOTU002_a\",\"AOTU002_a\",\"AOTU002_a\",\"AOTU002_a\",\"AOTU002_a\",\"AOTU002_a\",\"AOTU002_a\",\"AOTU002_a\",\"AOTU002_a\",\"AOTU002_a\",\"AOTU002_a\",\"AOTU002_a\",\"AOTU002_a\",\"AOTU002_a\",\"AOTU002_a\",\"AOTU002_a\",\"AOTU002_a\",\"AOTU002_b\",\"AOTU002_b\",\"AOTU002_b\",\"AOTU002_b\",\"AOTU002_b\",\"AOTU002_b\",\"AOTU002_b\",\"AOTU002_b\",\"AOTU002_b\",\"AOTU002_b\",\"AOTU002_b\",\"AOTU002_b\",\"AOTU002_b\",\"AOTU002_b\",\"AOTU002_b\",\"AOTU002_b\",\"AOTU002_b\",\"AOTU002_b\",\"AOTU002_b\",\"AOTU002_b\",\"AOTU002_b\",\"AOTU002_b\",\"AOTU002_b\",\"AOTU002_b\",\"AOTU002_b\",\"AOTU002_b\",\"AOTU002_b\",\"AOTU002_b\",\"AOTU002_b\",\"AOTU002_b\",\"AOTU002_b\",\"AOTU002_b\",\"AOTU002_b\",\"AOTU002_b\",\"AOTU002_b\",\"AOTU002_b\",\"AOTU002_b\",\"AOTU002_b\",\"AOTU002_b\",\"AOTU002_b\",\"AOTU002_b\",\"AOTU002_b\",\"AOTU002_b\",\"AOTU002_b\",\"AOTU002_b\",\"AOTU002_b\",\"AOTU002_b\",\"AOTU002_b\",\"AOTU002_b\",\"AOTU002_b\",\"AOTU002_b\",\"AOTU002_b\",\"AOTU002_b\",\"AOTU002_b\",\"AOTU002_b\",\"AOTU002_b\",\"AOTU002_b\",\"AOTU002_b\",\"AOTU002_b\",\"AOTU002_b\",\"AOTU002_b\",\"AOTU002_b\",\"AOTU002_b\",\"AOTU002_b\",\"AOTU002_b\",\"AOTU002_b\",\"AOTU002_b\",\"AOTU002_b\",\"AOTU002_b\",\"AOTU002_b\",\"AOTU002_b\",\"AOTU002_b\",\"AOTU002_b\",\"AOTU002_b\",\"AOTU002_b\",\"AOTU002_b\",\"AOTU002_b\",\"AOTU002_b\",\"AOTU002_b\",\"AOTU002_b\",\"AOTU002_b\",\"AOTU002_b\",\"AOTU002_b\",\"AOTU002_b\",\"AOTU002_b\",\"AOTU002_b\",\"AOTU002_b\",\"AOTU002_b\",\"AOTU002_b\",\"AOTU002_b\",\"AOTU002_b\",\"AOTU002_b\",\"AOTU002_b\",\"AOTU002_b\",\"AOTU002_b\",\"AOTU002_b\",\"AOTU002_b\",\"AOTU002_b\",\"AOTU002_b\",\"AOTU002_b\",\"AOTU002_b\",\"AOTU002_b\",\"AOTU002_b\",\"AOTU002_b\",\"AOTU002_b\",\"AOTU002_b\",\"AOTU002_b\",\"AOTU002_b\",\"AOTU002_b\",\"AOTU002_b\",\"AOTU002_b\",\"AOTU002_b\",\"AOTU002_b\",\"AOTU002_b\",\"AOTU002_b\",\"AOTU002_b\",\"AOTU002_b\",\"AOTU002_b\",\"AOTU002_b\",\"AOTU002_b\",\"AOTU002_b\",\"AOTU002_b\",\"AOTU002_b\",\"AOTU002_b\",\"AOTU002_b\",\"AOTU002_b\",\"AOTU002_b\",\"AOTU002_b\",\"AOTU002_b\",\"AOTU002_b\",\"AOTU002_b\",\"AOTU002_b\",\"AOTU002_b\",\"AOTU002_b\",\"AOTU002_b\",\"AOTU002_b\",\"AOTU002_b\",\"AOTU002_b\",\"AOTU002_b\",\"AOTU002_b\",\"AOTU002_c\",\"AOTU002_c\",\"AOTU002_c\",\"AOTU002_c\",\"AOTU002_c\",\"AOTU002_c\",\"AOTU002_c\",\"AOTU002_c\",\"AOTU002_c\",\"AOTU002_c\",\"AOTU002_c\",\"AOTU002_c\",\"AOTU002_c\",\"AOTU002_c\",\"AOTU002_c\",\"AOTU002_c\",\"AOTU002_c\",\"AOTU002_c\",\"AOTU002_c\",\"AOTU002_c\",\"AOTU002_c\",\"AOTU002_c\",\"AOTU002_c\",\"AOTU002_c\",\"AOTU002_c\",\"AOTU002_c\",\"AOTU002_c\",\"AOTU002_c\",\"AOTU002_c\",\"AOTU002_c\",\"AOTU002_c\",\"AOTU002_c\",\"AOTU002_c\",\"AOTU002_c\",\"AOTU002_c\",\"AOTU002_c\",\"AOTU002_c\",\"AOTU002_c\",\"AOTU002_c\",\"AOTU002_c\",\"AOTU002_c\",\"AOTU002_c\",\"AOTU002_c\",\"AOTU002_c\",\"AOTU002_c\",\"AOTU002_c\",\"AOTU002_c\",\"AOTU002_c\",\"AOTU002_c\",\"AOTU002_c\",\"AOTU002_c\",\"AOTU002_c\",\"AOTU002_c\",\"AOTU002_c\",\"AOTU002_c\",\"AOTU002_c\",\"AOTU002_c\",\"AOTU002_c\",\"AOTU002_c\",\"AOTU002_c\",\"AOTU002_c\",\"AOTU002_c\",\"AOTU002_c\",\"AOTU002_c\",\"AOTU002_c\",\"AOTU002_c\",\"AOTU002_c\",\"AOTU002_c\",\"AOTU002_c\",\"AOTU002_c\",\"AOTU002_c\",\"AOTU002_c\",\"AOTU002_c\",\"AOTU002_c\",\"AOTU002_c\",\"AOTU002_c\",\"AOTU002_c\",\"AOTU002_c\",\"AOTU002_c\",\"AOTU002_c\",\"AOTU002_c\",\"AOTU002_c\",\"AOTU002_c\",\"AOTU002_c\",\"AOTU002_c\",\"AOTU002_c\",\"AOTU002_c\",\"AOTU002_c\",\"AOTU002_c\",\"AOTU002_c\",\"AOTU002_c\",\"AOTU002_c\",\"AOTU002_c\",\"AOTU002_c\",\"AOTU002_c\",\"AOTU002_c\",\"AOTU002_c\",\"AOTU002_c\",\"AOTU002_c\",\"AOTU002_c\",\"AOTU002_c\",\"AOTU002_c\",\"AOTU002_c\",\"AOTU002_c\",\"AOTU002_c\",\"AOTU002_c\",\"AOTU002_c\",\"AOTU002_c\",\"AOTU002_c\",\"AOTU002_c\",\"AOTU002_c\",\"AOTU002_c\",\"AOTU002_c\",\"AOTU002_c\",\"AOTU002_c\",\"AOTU002_c\",\"AOTU002_c\",\"AOTU002_c\",\"AOTU002_c\",\"AOTU002_c\",\"AOTU002_c\",\"AOTU002_c\",\"AOTU002_c\",\"AOTU002_c\",\"AOTU002_c\",\"AOTU002_c\",\"AOTU002_c\",\"AOTU002_c\",\"AOTU002_c\",\"AOTU002_c\",\"AOTU002_c\",\"AOTU002_c\",\"AOTU002_c\",\"AOTU002_c\",\"AOTU002_c\",\"AOTU002_c\",\"AOTU002_c\",\"AOTU002_c\",\"AOTU002_c\",\"AOTU002_c\",\"AOTU003\",\"AOTU003\",\"AOTU003\",\"AOTU003\",\"AOTU003\",\"AOTU003\",\"AOTU003\",\"AOTU003\",\"AOTU003\",\"AOTU003\",\"AOTU003\",\"AOTU003\",\"AOTU003\",\"AOTU003\",\"AOTU003\",\"AOTU003\",\"AOTU003\",\"AOTU003\",\"AOTU003\",\"AOTU003\",\"AOTU003\",\"AOTU003\",\"AOTU003\",\"AOTU003\",\"AOTU003\",\"AOTU003\",\"AOTU003\",\"AOTU003\",\"AOTU003\",\"AOTU003\",\"AOTU003\",\"AOTU003\",\"AOTU003\",\"AOTU003\",\"AOTU003\",\"AOTU003\",\"AOTU003\",\"AOTU003\",\"AOTU003\",\"AOTU003\",\"AOTU003\",\"AOTU003\",\"AOTU003\",\"AOTU003\",\"AOTU003\",\"AOTU003\",\"AOTU003\",\"AOTU003\",\"AOTU003\",\"AOTU003\",\"AOTU003\",\"AOTU003\",\"AOTU003\",\"AOTU003\",\"AOTU003\",\"AOTU003\",\"AOTU003\",\"AOTU003\",\"AOTU003\",\"AOTU003\",\"AOTU003\",\"AOTU003\",\"AOTU003\",\"AOTU003\",\"AOTU003\",\"AOTU003\",\"AOTU003\",\"AOTU003\",\"AOTU003\",\"AOTU003\",\"AOTU003\",\"AOTU003\",\"AOTU003\",\"AOTU003\",\"AOTU003\",\"AOTU003\",\"AOTU003\",\"AOTU003\",\"AOTU003\",\"AOTU003\",\"AOTU003\",\"AOTU003\",\"AOTU003\",\"AOTU003\",\"AOTU003\",\"AOTU003\",\"AOTU003\",\"AOTU003\",\"AOTU003\",\"AOTU003\",\"AOTU003\",\"AOTU003\",\"AOTU003\",\"AOTU003\",\"AOTU003\",\"AOTU003\",\"AOTU003\",\"AOTU003\",\"AOTU003\",\"AOTU003\",\"AOTU003\",\"AOTU003\",\"AOTU003\",\"AOTU003\",\"AOTU003\",\"AOTU003\",\"AOTU003\",\"AOTU003\",\"AOTU003\",\"AOTU003\",\"AOTU003\",\"AOTU003\",\"AOTU003\",\"AOTU003\",\"AOTU003\",\"AOTU003\",\"AOTU003\",\"AOTU003\",\"AOTU003\",\"AOTU003\",\"AOTU003\",\"AOTU003\",\"AOTU003\",\"AOTU003\",\"AOTU003\",\"AOTU003\",\"AOTU003\",\"AOTU003\",\"AOTU003\",\"AOTU003\",\"AOTU003\",\"AOTU003\",\"AOTU003\",\"AOTU003\",\"AOTU003\",\"AOTU003\",\"AOTU003\",\"AOTU003\",\"AOTU003\",\"AOTU003\",\"AOTU004\",\"AOTU004\",\"AOTU004\",\"AOTU004\",\"AOTU004\",\"AOTU004\",\"AOTU004\",\"AOTU004\",\"AOTU004\",\"AOTU004\",\"AOTU004\",\"AOTU004\",\"AOTU004\",\"AOTU004\",\"AOTU004\",\"AOTU004\",\"AOTU004\",\"AOTU004\",\"AOTU004\",\"AOTU004\",\"AOTU004\",\"AOTU004\",\"AOTU004\",\"AOTU004\",\"AOTU004\",\"AOTU004\",\"AOTU004\",\"AOTU004\",\"AOTU004\",\"AOTU004\",\"AOTU004\",\"AOTU004\",\"AOTU004\",\"AOTU004\",\"AOTU004\",\"AOTU004\",\"AOTU004\",\"AOTU004\",\"AOTU004\",\"AOTU004\",\"AOTU004\",\"AOTU004\",\"AOTU004\",\"AOTU004\",\"AOTU004\",\"AOTU004\",\"AOTU004\",\"AOTU004\",\"AOTU004\",\"AOTU004\",\"AOTU004\",\"AOTU004\",\"AOTU004\",\"AOTU004\",\"AOTU004\",\"AOTU004\",\"AOTU004\",\"AOTU004\",\"AOTU004\",\"AOTU004\",\"AOTU004\",\"AOTU004\",\"AOTU004\",\"AOTU004\",\"AOTU004\",\"AOTU004\",\"AOTU004\",\"AOTU004\",\"AOTU004\",\"AOTU004\",\"AOTU004\",\"AOTU004\",\"AOTU004\",\"AOTU004\",\"AOTU004\",\"AOTU004\",\"AOTU004\",\"AOTU004\",\"AOTU004\",\"AOTU004\",\"AOTU004\",\"AOTU004\",\"AOTU004\",\"AOTU004\",\"AOTU004\",\"AOTU004\",\"AOTU004\",\"AOTU004\",\"AOTU004\",\"AOTU004\",\"AOTU004\",\"AOTU004\",\"AOTU004\",\"AOTU004\",\"AOTU004\",\"AOTU004\",\"AOTU004\",\"AOTU004\",\"AOTU004\",\"AOTU004\",\"AOTU004\",\"AOTU004\",\"AOTU004\",\"AOTU004\",\"AOTU004\",\"AOTU004\",\"AOTU004\",\"AOTU004\",\"AOTU004\",\"AOTU004\",\"AOTU004\",\"AOTU004\",\"AOTU004\",\"AOTU004\",\"AOTU004\",\"AOTU004\",\"AOTU004\",\"AOTU004\",\"AOTU004\",\"AOTU004\",\"AOTU004\",\"AOTU004\",\"AOTU004\",\"AOTU004\",\"AOTU004\",\"AOTU004\",\"AOTU004\",\"AOTU004\",\"AOTU004\",\"AOTU004\",\"AOTU004\",\"AOTU004\",\"AOTU004\",\"AOTU004\",\"AOTU004\",\"AOTU004\",\"AOTU004\",\"AOTU004\",\"AOTU004\",\"AOTU004\",\"AOTU005\",\"AOTU005\",\"AOTU005\",\"AOTU005\",\"AOTU005\",\"AOTU005\",\"AOTU005\",\"AOTU005\",\"AOTU005\",\"AOTU005\",\"AOTU005\",\"AOTU005\",\"AOTU005\",\"AOTU005\",\"AOTU005\",\"AOTU005\",\"AOTU005\",\"AOTU005\",\"AOTU005\",\"AOTU005\",\"AOTU005\",\"AOTU005\",\"AOTU005\",\"AOTU005\",\"AOTU005\",\"AOTU005\",\"AOTU005\",\"AOTU005\",\"AOTU005\",\"AOTU005\",\"AOTU005\",\"AOTU005\",\"AOTU005\",\"AOTU005\",\"AOTU005\",\"AOTU005\",\"AOTU005\",\"AOTU005\",\"AOTU005\",\"AOTU005\",\"AOTU005\",\"AOTU005\",\"AOTU005\",\"AOTU005\",\"AOTU005\",\"AOTU005\",\"AOTU005\",\"AOTU005\",\"AOTU005\",\"AOTU005\",\"AOTU005\",\"AOTU005\",\"AOTU005\",\"AOTU005\",\"AOTU005\",\"AOTU005\",\"AOTU005\",\"AOTU005\",\"AOTU005\",\"AOTU005\",\"AOTU005\",\"AOTU005\",\"AOTU005\",\"AOTU005\",\"AOTU005\",\"AOTU005\",\"AOTU005\",\"AOTU005\",\"AOTU005\",\"AOTU005\",\"AOTU005\",\"AOTU005\",\"AOTU005\",\"AOTU005\",\"AOTU005\",\"AOTU005\",\"AOTU005\",\"AOTU005\",\"AOTU005\",\"AOTU005\",\"AOTU005\",\"AOTU005\",\"AOTU005\",\"AOTU005\",\"AOTU005\",\"AOTU005\",\"AOTU005\",\"AOTU005\",\"AOTU005\",\"AOTU005\",\"AOTU005\",\"AOTU005\",\"AOTU005\",\"AOTU005\",\"AOTU005\",\"AOTU005\",\"AOTU005\",\"AOTU005\",\"AOTU005\",\"AOTU005\",\"AOTU005\",\"AOTU005\",\"AOTU005\",\"AOTU005\",\"AOTU005\",\"AOTU005\",\"AOTU005\",\"AOTU005\",\"AOTU005\",\"AOTU005\",\"AOTU005\",\"AOTU005\",\"AOTU005\",\"AOTU005\",\"AOTU005\",\"AOTU005\",\"AOTU005\",\"AOTU005\",\"AOTU005\",\"AOTU005\",\"AOTU005\",\"AOTU005\",\"AOTU005\",\"AOTU005\",\"AOTU005\",\"AOTU005\",\"AOTU005\",\"AOTU005\",\"AOTU005\",\"AOTU005\",\"AOTU005\",\"AOTU005\",\"AOTU005\",\"AOTU005\",\"AOTU005\",\"AOTU005\",\"AOTU005\",\"AOTU005\",\"AOTU005\",\"AOTU005\",\"AOTU006\",\"AOTU006\",\"AOTU006\",\"AOTU006\",\"AOTU006\",\"AOTU006\",\"AOTU006\",\"AOTU006\",\"AOTU006\",\"AOTU006\",\"AOTU006\",\"AOTU006\",\"AOTU006\",\"AOTU006\",\"AOTU006\",\"AOTU006\",\"AOTU006\",\"AOTU006\",\"AOTU006\",\"AOTU006\",\"AOTU006\",\"AOTU006\",\"AOTU006\",\"AOTU006\",\"AOTU006\",\"AOTU006\",\"AOTU006\",\"AOTU006\",\"AOTU006\",\"AOTU006\",\"AOTU006\",\"AOTU006\",\"AOTU006\",\"AOTU006\",\"AOTU006\",\"AOTU006\",\"AOTU006\",\"AOTU006\",\"AOTU006\",\"AOTU006\",\"AOTU006\",\"AOTU006\",\"AOTU006\",\"AOTU006\",\"AOTU006\",\"AOTU006\",\"AOTU006\",\"AOTU006\",\"AOTU006\",\"AOTU006\",\"AOTU006\",\"AOTU006\",\"AOTU006\",\"AOTU006\",\"AOTU006\",\"AOTU006\",\"AOTU006\",\"AOTU006\",\"AOTU006\",\"AOTU006\",\"AOTU006\",\"AOTU006\",\"AOTU006\",\"AOTU006\",\"AOTU006\",\"AOTU006\",\"AOTU006\",\"AOTU006\",\"AOTU006\",\"AOTU006\",\"AOTU006\",\"AOTU006\",\"AOTU006\",\"AOTU006\",\"AOTU006\",\"AOTU006\",\"AOTU006\",\"AOTU006\",\"AOTU006\",\"AOTU006\",\"AOTU006\",\"AOTU006\",\"AOTU006\",\"AOTU006\",\"AOTU006\",\"AOTU006\",\"AOTU006\",\"AOTU006\",\"AOTU006\",\"AOTU006\",\"AOTU006\",\"AOTU006\",\"AOTU006\",\"AOTU006\",\"AOTU006\",\"AOTU006\",\"AOTU006\",\"AOTU006\",\"AOTU006\",\"AOTU006\",\"AOTU006\",\"AOTU006\",\"AOTU006\",\"AOTU006\",\"AOTU006\",\"AOTU006\",\"AOTU006\",\"AOTU006\",\"AOTU006\",\"AOTU006\",\"AOTU006\",\"AOTU006\",\"AOTU006\",\"AOTU006\",\"AOTU006\",\"AOTU006\",\"AOTU006\",\"AOTU006\",\"AOTU006\",\"AOTU006\",\"AOTU006\",\"AOTU006\",\"AOTU006\",\"AOTU006\",\"AOTU006\",\"AOTU006\",\"AOTU006\",\"AOTU006\",\"AOTU006\",\"AOTU006\",\"AOTU006\",\"AOTU006\",\"AOTU006\",\"AOTU006\",\"AOTU006\",\"AOTU006\",\"AOTU006\",\"AOTU006\",\"AOTU006\",\"AOTU006\",\"AOTU007_a\",\"AOTU007_a\",\"AOTU007_a\",\"AOTU007_a\",\"AOTU007_a\",\"AOTU007_a\",\"AOTU007_a\",\"AOTU007_a\",\"AOTU007_a\",\"AOTU007_a\",\"AOTU007_a\",\"AOTU007_a\",\"AOTU007_a\",\"AOTU007_a\",\"AOTU007_a\",\"AOTU007_a\",\"AOTU007_a\",\"AOTU007_a\",\"AOTU007_a\",\"AOTU007_a\",\"AOTU007_a\",\"AOTU007_a\",\"AOTU007_a\",\"AOTU007_a\",\"AOTU007_a\",\"AOTU007_a\",\"AOTU007_a\",\"AOTU007_a\",\"AOTU007_a\",\"AOTU007_a\",\"AOTU007_a\",\"AOTU007_a\",\"AOTU007_a\",\"AOTU007_a\",\"AOTU007_a\",\"AOTU007_a\",\"AOTU007_a\",\"AOTU007_a\",\"AOTU007_a\",\"AOTU007_a\",\"AOTU007_a\",\"AOTU007_a\",\"AOTU007_a\",\"AOTU007_a\",\"AOTU007_a\",\"AOTU007_a\",\"AOTU007_a\",\"AOTU007_a\",\"AOTU007_a\",\"AOTU007_a\",\"AOTU007_a\",\"AOTU007_a\",\"AOTU007_a\",\"AOTU007_a\",\"AOTU007_a\",\"AOTU007_a\",\"AOTU007_a\",\"AOTU007_a\",\"AOTU007_a\",\"AOTU007_a\",\"AOTU007_a\",\"AOTU007_a\",\"AOTU007_a\",\"AOTU007_a\",\"AOTU007_a\",\"AOTU007_a\",\"AOTU007_a\",\"AOTU007_a\",\"AOTU007_a\",\"AOTU007_a\",\"AOTU007_a\",\"AOTU007_a\",\"AOTU007_a\",\"AOTU007_a\",\"AOTU007_a\",\"AOTU007_a\",\"AOTU007_a\",\"AOTU007_a\",\"AOTU007_a\",\"AOTU007_a\",\"AOTU007_a\",\"AOTU007_a\",\"AOTU007_a\",\"AOTU007_a\",\"AOTU007_a\",\"AOTU007_a\",\"AOTU007_a\",\"AOTU007_a\",\"AOTU007_a\",\"AOTU007_a\",\"AOTU007_a\",\"AOTU007_a\",\"AOTU007_a\",\"AOTU007_a\",\"AOTU007_a\",\"AOTU007_a\",\"AOTU007_a\",\"AOTU007_a\",\"AOTU007_a\",\"AOTU007_a\",\"AOTU007_a\",\"AOTU007_a\",\"AOTU007_a\",\"AOTU007_a\",\"AOTU007_a\",\"AOTU007_a\",\"AOTU007_a\",\"AOTU007_a\",\"AOTU007_a\",\"AOTU007_a\",\"AOTU007_a\",\"AOTU007_a\",\"AOTU007_a\",\"AOTU007_a\",\"AOTU007_a\",\"AOTU007_a\",\"AOTU007_a\",\"AOTU007_a\",\"AOTU007_a\",\"AOTU007_a\",\"AOTU007_a\",\"AOTU007_a\",\"AOTU007_a\",\"AOTU007_a\",\"AOTU007_a\",\"AOTU007_a\",\"AOTU007_a\",\"AOTU007_a\",\"AOTU007_a\",\"AOTU007_a\",\"AOTU007_a\",\"AOTU007_a\",\"AOTU007_a\",\"AOTU007_a\",\"AOTU007_a\",\"AOTU007_a\",\"AOTU007_a\",\"AOTU007_a\",\"AOTU007_a\",\"AOTU007_a\",\"AOTU007_b\",\"AOTU007_b\",\"AOTU007_b\",\"AOTU007_b\",\"AOTU007_b\",\"AOTU007_b\",\"AOTU007_b\",\"AOTU007_b\",\"AOTU007_b\",\"AOTU007_b\",\"AOTU007_b\",\"AOTU007_b\",\"AOTU007_b\",\"AOTU007_b\",\"AOTU007_b\",\"AOTU007_b\",\"AOTU007_b\",\"AOTU007_b\",\"AOTU007_b\",\"AOTU007_b\",\"AOTU007_b\",\"AOTU007_b\",\"AOTU007_b\",\"AOTU007_b\",\"AOTU007_b\",\"AOTU007_b\",\"AOTU007_b\",\"AOTU007_b\",\"AOTU007_b\",\"AOTU007_b\",\"AOTU007_b\",\"AOTU007_b\",\"AOTU007_b\",\"AOTU007_b\",\"AOTU007_b\",\"AOTU007_b\",\"AOTU007_b\",\"AOTU007_b\",\"AOTU007_b\",\"AOTU007_b\",\"AOTU007_b\",\"AOTU007_b\",\"AOTU007_b\",\"AOTU007_b\",\"AOTU007_b\",\"AOTU007_b\",\"AOTU007_b\",\"AOTU007_b\",\"AOTU007_b\",\"AOTU007_b\",\"AOTU007_b\",\"AOTU007_b\",\"AOTU007_b\",\"AOTU007_b\",\"AOTU007_b\",\"AOTU007_b\",\"AOTU007_b\",\"AOTU007_b\",\"AOTU007_b\",\"AOTU007_b\",\"AOTU007_b\",\"AOTU007_b\",\"AOTU007_b\",\"AOTU007_b\",\"AOTU007_b\",\"AOTU007_b\",\"AOTU007_b\",\"AOTU007_b\",\"AOTU007_b\",\"AOTU007_b\",\"AOTU007_b\",\"AOTU007_b\",\"AOTU007_b\",\"AOTU007_b\",\"AOTU007_b\",\"AOTU007_b\",\"AOTU007_b\",\"AOTU007_b\",\"AOTU007_b\",\"AOTU007_b\",\"AOTU007_b\",\"AOTU007_b\",\"AOTU007_b\",\"AOTU007_b\",\"AOTU007_b\",\"AOTU007_b\",\"AOTU007_b\",\"AOTU007_b\",\"AOTU007_b\",\"AOTU007_b\",\"AOTU007_b\",\"AOTU007_b\",\"AOTU007_b\",\"AOTU007_b\",\"AOTU007_b\",\"AOTU007_b\",\"AOTU007_b\",\"AOTU007_b\",\"AOTU007_b\",\"AOTU007_b\",\"AOTU007_b\",\"AOTU007_b\",\"AOTU007_b\",\"AOTU007_b\",\"AOTU007_b\",\"AOTU007_b\",\"AOTU007_b\",\"AOTU007_b\",\"AOTU007_b\",\"AOTU007_b\",\"AOTU007_b\",\"AOTU007_b\",\"AOTU007_b\",\"AOTU007_b\",\"AOTU007_b\",\"AOTU007_b\",\"AOTU007_b\",\"AOTU007_b\",\"AOTU007_b\",\"AOTU007_b\",\"AOTU007_b\",\"AOTU007_b\",\"AOTU007_b\",\"AOTU007_b\",\"AOTU007_b\",\"AOTU007_b\",\"AOTU007_b\",\"AOTU007_b\",\"AOTU007_b\",\"AOTU007_b\",\"AOTU007_b\",\"AOTU007_b\",\"AOTU007_b\",\"AOTU007_b\",\"AOTU007_b\",\"AOTU007_b\",\"AOTU007_b\",\"AOTU007_b\",\"AOTU007_b\",\"AOTU007_b\",\"AOTU007_c\",\"AOTU007_c\",\"AOTU007_c\",\"AOTU007_c\",\"AOTU007_c\",\"AOTU007_c\",\"AOTU007_c\",\"AOTU007_c\",\"AOTU007_c\",\"AOTU007_c\",\"AOTU007_c\",\"AOTU007_c\",\"AOTU007_c\",\"AOTU007_c\",\"AOTU007_c\",\"AOTU007_c\",\"AOTU007_c\",\"AOTU007_c\",\"AOTU007_c\",\"AOTU007_c\",\"AOTU007_c\",\"AOTU007_c\",\"AOTU007_c\",\"AOTU007_c\",\"AOTU007_c\",\"AOTU007_c\",\"AOTU007_c\",\"AOTU007_c\",\"AOTU007_c\",\"AOTU007_c\",\"AOTU007_c\",\"AOTU007_c\",\"AOTU007_c\",\"AOTU007_c\",\"AOTU007_c\",\"AOTU007_c\",\"AOTU007_c\",\"AOTU007_c\",\"AOTU007_c\",\"AOTU007_c\",\"AOTU007_c\",\"AOTU007_c\",\"AOTU007_c\",\"AOTU007_c\",\"AOTU007_c\",\"AOTU007_c\",\"AOTU007_c\",\"AOTU007_c\",\"AOTU007_c\",\"AOTU007_c\",\"AOTU007_c\",\"AOTU007_c\",\"AOTU007_c\",\"AOTU007_c\",\"AOTU007_c\",\"AOTU007_c\",\"AOTU007_c\",\"AOTU007_c\",\"AOTU007_c\",\"AOTU007_c\",\"AOTU007_c\",\"AOTU007_c\",\"AOTU007_c\",\"AOTU007_c\",\"AOTU007_c\",\"AOTU007_c\",\"AOTU007_c\",\"AOTU007_c\",\"AOTU007_c\",\"AOTU007_c\",\"AOTU007_c\",\"AOTU007_c\",\"AOTU007_c\",\"AOTU007_c\",\"AOTU007_c\",\"AOTU007_c\",\"AOTU007_c\",\"AOTU007_c\",\"AOTU007_c\",\"AOTU007_c\",\"AOTU007_c\",\"AOTU007_c\",\"AOTU007_c\",\"AOTU007_c\",\"AOTU007_c\",\"AOTU007_c\",\"AOTU007_c\",\"AOTU007_c\",\"AOTU007_c\",\"AOTU007_c\",\"AOTU007_c\",\"AOTU007_c\",\"AOTU007_c\",\"AOTU007_c\",\"AOTU007_c\",\"AOTU007_c\",\"AOTU007_c\",\"AOTU007_c\",\"AOTU007_c\",\"AOTU007_c\",\"AOTU007_c\",\"AOTU007_c\",\"AOTU007_c\",\"AOTU007_c\",\"AOTU007_c\",\"AOTU007_c\",\"AOTU007_c\",\"AOTU007_c\",\"AOTU007_c\",\"AOTU007_c\",\"AOTU007_c\",\"AOTU007_c\",\"AOTU007_c\",\"AOTU007_c\",\"AOTU007_c\",\"AOTU007_c\",\"AOTU007_c\",\"AOTU007_c\",\"AOTU007_c\",\"AOTU007_c\",\"AOTU007_c\",\"AOTU007_c\",\"AOTU007_c\",\"AOTU007_c\",\"AOTU007_c\",\"AOTU007_c\",\"AOTU007_c\",\"AOTU007_c\",\"AOTU007_c\",\"AOTU007_c\",\"AOTU007_c\",\"AOTU007_c\",\"AOTU007_c\",\"AOTU007_c\",\"AOTU007_c\",\"AOTU007_c\",\"AOTU007_c\",\"AOTU007_c\",\"AOTU007_c\",\"AOTU007_c\",\"AOTU008\",\"AOTU008\",\"AOTU008\",\"AOTU008\",\"AOTU008\",\"AOTU008\",\"AOTU008\",\"AOTU008\",\"AOTU008\",\"AOTU008\",\"AOTU008\",\"AOTU008\",\"AOTU008\",\"AOTU008\",\"AOTU008\",\"AOTU008\",\"AOTU008\",\"AOTU008\",\"AOTU008\",\"AOTU008\",\"AOTU008\",\"AOTU008\",\"AOTU008\",\"AOTU008\",\"AOTU008\",\"AOTU008\",\"AOTU008\",\"AOTU008\",\"AOTU008\",\"AOTU008\",\"AOTU008\",\"AOTU008\",\"AOTU008\",\"AOTU008\",\"AOTU008\",\"AOTU008\",\"AOTU008\",\"AOTU008\",\"AOTU008\",\"AOTU008\",\"AOTU008\",\"AOTU008\",\"AOTU008\",\"AOTU008\",\"AOTU008\",\"AOTU008\",\"AOTU008\",\"AOTU008\",\"AOTU008\",\"AOTU008\",\"AOTU008\",\"AOTU008\",\"AOTU008\",\"AOTU008\",\"AOTU008\",\"AOTU008\",\"AOTU008\",\"AOTU008\",\"AOTU008\",\"AOTU008\",\"AOTU008\",\"AOTU008\",\"AOTU008\",\"AOTU008\",\"AOTU008\",\"AOTU008\",\"AOTU008\",\"AOTU008\",\"AOTU008\",\"AOTU008\",\"AOTU008\",\"AOTU008\",\"AOTU008\",\"AOTU008\",\"AOTU008\",\"AOTU008\",\"AOTU008\",\"AOTU008\",\"AOTU008\",\"AOTU008\",\"AOTU008\",\"AOTU008\",\"AOTU008\",\"AOTU008\",\"AOTU008\",\"AOTU008\",\"AOTU008\",\"AOTU008\",\"AOTU008\",\"AOTU008\",\"AOTU008\",\"AOTU008\",\"AOTU008\",\"AOTU008\",\"AOTU008\",\"AOTU008\",\"AOTU008\",\"AOTU008\",\"AOTU008\",\"AOTU008\",\"AOTU008\",\"AOTU008\",\"AOTU008\",\"AOTU008\",\"AOTU008\",\"AOTU008\",\"AOTU008\",\"AOTU008\",\"AOTU008\",\"AOTU008\",\"AOTU008\",\"AOTU008\",\"AOTU008\",\"AOTU008\",\"AOTU008\",\"AOTU008\",\"AOTU008\",\"AOTU008\",\"AOTU008\",\"AOTU008\",\"AOTU008\",\"AOTU008\",\"AOTU008\",\"AOTU008\",\"AOTU008\",\"AOTU008\",\"AOTU008\",\"AOTU008\",\"AOTU008\",\"AOTU008\",\"AOTU008\",\"AOTU008\",\"AOTU008\",\"AOTU008\",\"AOTU008\",\"AOTU008\",\"AOTU008\",\"AOTU008\",\"AOTU008\",\"AOTU008\",\"AOTU009\",\"AOTU009\",\"AOTU009\",\"AOTU009\",\"AOTU009\",\"AOTU009\",\"AOTU009\",\"AOTU009\",\"AOTU009\",\"AOTU009\",\"AOTU009\",\"AOTU009\",\"AOTU009\",\"AOTU009\",\"AOTU009\",\"AOTU009\",\"AOTU009\",\"AOTU009\",\"AOTU009\",\"AOTU009\",\"AOTU009\",\"AOTU009\",\"AOTU009\",\"AOTU009\",\"AOTU009\",\"AOTU009\",\"AOTU009\",\"AOTU009\",\"AOTU009\",\"AOTU009\",\"AOTU009\",\"AOTU009\",\"AOTU009\",\"AOTU009\",\"AOTU009\",\"AOTU009\",\"AOTU009\",\"AOTU009\",\"AOTU009\",\"AOTU009\",\"AOTU009\",\"AOTU009\",\"AOTU009\",\"AOTU009\",\"AOTU009\",\"AOTU009\",\"AOTU009\",\"AOTU009\",\"AOTU009\",\"AOTU009\",\"AOTU009\",\"AOTU009\",\"AOTU009\",\"AOTU009\",\"AOTU009\",\"AOTU009\",\"AOTU009\",\"AOTU009\",\"AOTU009\",\"AOTU009\",\"AOTU009\",\"AOTU009\",\"AOTU009\",\"AOTU009\",\"AOTU009\",\"AOTU009\",\"AOTU009\",\"AOTU009\",\"AOTU009\",\"AOTU009\",\"AOTU009\",\"AOTU009\",\"AOTU009\",\"AOTU009\",\"AOTU009\",\"AOTU009\",\"AOTU009\",\"AOTU009\",\"AOTU009\",\"AOTU009\",\"AOTU009\",\"AOTU009\",\"AOTU009\",\"AOTU009\",\"AOTU009\",\"AOTU009\",\"AOTU009\",\"AOTU009\",\"AOTU009\",\"AOTU009\",\"AOTU009\",\"AOTU009\",\"AOTU009\",\"AOTU009\",\"AOTU009\",\"AOTU009\",\"AOTU009\",\"AOTU009\",\"AOTU009\",\"AOTU009\",\"AOTU009\",\"AOTU009\",\"AOTU009\",\"AOTU009\",\"AOTU009\",\"AOTU009\",\"AOTU009\",\"AOTU009\",\"AOTU009\",\"AOTU009\",\"AOTU009\",\"AOTU009\",\"AOTU009\",\"AOTU009\",\"AOTU009\",\"AOTU009\",\"AOTU009\",\"AOTU009\",\"AOTU009\",\"AOTU009\",\"AOTU009\",\"AOTU009\",\"AOTU009\",\"AOTU009\",\"AOTU009\",\"AOTU009\",\"AOTU009\",\"AOTU009\",\"AOTU009\",\"AOTU009\",\"AOTU009\",\"AOTU009\",\"AOTU009\",\"AOTU009\",\"AOTU009\",\"AOTU009\",\"AOTU009\",\"AOTU009\",\"AOTU009\",\"AOTU009\",\"AOTU011\",\"AOTU011\",\"AOTU011\",\"AOTU011\",\"AOTU011\",\"AOTU011\",\"AOTU011\",\"AOTU011\",\"AOTU011\",\"AOTU011\",\"AOTU011\",\"AOTU011\",\"AOTU011\",\"AOTU011\",\"AOTU011\",\"AOTU011\",\"AOTU011\",\"AOTU011\",\"AOTU011\",\"AOTU011\",\"AOTU011\",\"AOTU011\",\"AOTU011\",\"AOTU011\",\"AOTU011\",\"AOTU011\",\"AOTU011\",\"AOTU011\",\"AOTU011\",\"AOTU011\",\"AOTU011\",\"AOTU011\",\"AOTU011\",\"AOTU011\",\"AOTU011\",\"AOTU011\",\"AOTU011\",\"AOTU011\",\"AOTU011\",\"AOTU011\",\"AOTU011\",\"AOTU011\",\"AOTU011\",\"AOTU011\",\"AOTU011\",\"AOTU011\",\"AOTU011\",\"AOTU011\",\"AOTU011\",\"AOTU011\",\"AOTU011\",\"AOTU011\",\"AOTU011\",\"AOTU011\",\"AOTU011\",\"AOTU011\",\"AOTU011\",\"AOTU011\",\"AOTU011\",\"AOTU011\",\"AOTU011\",\"AOTU011\",\"AOTU011\",\"AOTU011\",\"AOTU011\",\"AOTU011\",\"AOTU011\",\"AOTU011\",\"AOTU011\",\"AOTU011\",\"AOTU011\",\"AOTU011\",\"AOTU011\",\"AOTU011\",\"AOTU011\",\"AOTU011\",\"AOTU011\",\"AOTU011\",\"AOTU011\",\"AOTU011\",\"AOTU011\",\"AOTU011\",\"AOTU011\",\"AOTU011\",\"AOTU011\",\"AOTU011\",\"AOTU011\",\"AOTU011\",\"AOTU011\",\"AOTU011\",\"AOTU011\",\"AOTU011\",\"AOTU011\",\"AOTU011\",\"AOTU011\",\"AOTU011\",\"AOTU011\",\"AOTU011\",\"AOTU011\",\"AOTU011\",\"AOTU011\",\"AOTU011\",\"AOTU011\",\"AOTU011\",\"AOTU011\",\"AOTU011\",\"AOTU011\",\"AOTU011\",\"AOTU011\",\"AOTU011\",\"AOTU011\",\"AOTU011\",\"AOTU011\",\"AOTU011\",\"AOTU011\",\"AOTU011\",\"AOTU011\",\"AOTU011\",\"AOTU011\",\"AOTU011\",\"AOTU011\",\"AOTU011\",\"AOTU011\",\"AOTU011\",\"AOTU011\",\"AOTU011\",\"AOTU011\",\"AOTU011\",\"AOTU011\",\"AOTU011\",\"AOTU011\",\"AOTU011\",\"AOTU011\",\"AOTU011\",\"AOTU011\",\"AOTU011\",\"AOTU011\",\"AOTU011\",\"AOTU011\",\"AOTU011\",\"AOTU012\",\"AOTU012\",\"AOTU012\",\"AOTU012\",\"AOTU012\",\"AOTU012\",\"AOTU012\",\"AOTU012\",\"AOTU012\",\"AOTU012\",\"AOTU012\",\"AOTU012\",\"AOTU012\",\"AOTU012\",\"AOTU012\",\"AOTU012\",\"AOTU012\",\"AOTU012\",\"AOTU012\",\"AOTU012\",\"AOTU012\",\"AOTU012\",\"AOTU012\",\"AOTU012\",\"AOTU012\",\"AOTU012\",\"AOTU012\",\"AOTU012\",\"AOTU012\",\"AOTU012\",\"AOTU012\",\"AOTU012\",\"AOTU012\",\"AOTU012\",\"AOTU012\",\"AOTU012\",\"AOTU012\",\"AOTU012\",\"AOTU012\",\"AOTU012\",\"AOTU012\",\"AOTU012\",\"AOTU012\",\"AOTU012\",\"AOTU012\",\"AOTU012\",\"AOTU012\",\"AOTU012\",\"AOTU012\",\"AOTU012\",\"AOTU012\",\"AOTU012\",\"AOTU012\",\"AOTU012\",\"AOTU012\",\"AOTU012\",\"AOTU012\",\"AOTU012\",\"AOTU012\",\"AOTU012\",\"AOTU012\",\"AOTU012\",\"AOTU012\",\"AOTU012\",\"AOTU012\",\"AOTU012\",\"AOTU012\",\"AOTU012\",\"AOTU012\",\"AOTU012\",\"AOTU012\",\"AOTU012\",\"AOTU012\",\"AOTU012\",\"AOTU012\",\"AOTU012\",\"AOTU012\",\"AOTU012\",\"AOTU012\",\"AOTU012\",\"AOTU012\",\"AOTU012\",\"AOTU012\",\"AOTU012\",\"AOTU012\",\"AOTU012\",\"AOTU012\",\"AOTU012\",\"AOTU012\",\"AOTU012\",\"AOTU012\",\"AOTU012\",\"AOTU012\",\"AOTU012\",\"AOTU012\",\"AOTU012\",\"AOTU012\",\"AOTU012\",\"AOTU012\",\"AOTU012\",\"AOTU012\",\"AOTU012\",\"AOTU012\",\"AOTU012\",\"AOTU012\",\"AOTU012\",\"AOTU012\",\"AOTU012\",\"AOTU012\",\"AOTU012\",\"AOTU012\",\"AOTU012\",\"AOTU012\",\"AOTU012\",\"AOTU012\",\"AOTU012\",\"AOTU012\",\"AOTU012\",\"AOTU012\",\"AOTU012\",\"AOTU012\",\"AOTU012\",\"AOTU012\",\"AOTU012\",\"AOTU012\",\"AOTU012\",\"AOTU012\",\"AOTU012\",\"AOTU012\",\"AOTU012\",\"AOTU012\",\"AOTU012\",\"AOTU012\",\"AOTU012\",\"AOTU012\",\"AOTU012\",\"AOTU012\",\"AOTU012\",\"AOTU012\",\"AOTU012\",\"AOTU013\",\"AOTU013\",\"AOTU013\",\"AOTU013\",\"AOTU013\",\"AOTU013\",\"AOTU013\",\"AOTU013\",\"AOTU013\",\"AOTU013\",\"AOTU013\",\"AOTU013\",\"AOTU013\",\"AOTU013\",\"AOTU013\",\"AOTU013\",\"AOTU013\",\"AOTU013\",\"AOTU013\",\"AOTU013\",\"AOTU013\",\"AOTU013\",\"AOTU013\",\"AOTU013\",\"AOTU013\",\"AOTU013\",\"AOTU013\",\"AOTU013\",\"AOTU013\",\"AOTU013\",\"AOTU013\",\"AOTU013\",\"AOTU013\",\"AOTU013\",\"AOTU013\",\"AOTU013\",\"AOTU013\",\"AOTU013\",\"AOTU013\",\"AOTU013\",\"AOTU013\",\"AOTU013\",\"AOTU013\",\"AOTU013\",\"AOTU013\",\"AOTU013\",\"AOTU013\",\"AOTU013\",\"AOTU013\",\"AOTU013\",\"AOTU013\",\"AOTU013\",\"AOTU013\",\"AOTU013\",\"AOTU013\",\"AOTU013\",\"AOTU013\",\"AOTU013\",\"AOTU013\",\"AOTU013\",\"AOTU013\",\"AOTU013\",\"AOTU013\",\"AOTU013\",\"AOTU013\",\"AOTU013\",\"AOTU013\",\"AOTU013\",\"AOTU013\",\"AOTU013\",\"AOTU013\",\"AOTU013\",\"AOTU013\",\"AOTU013\",\"AOTU013\",\"AOTU013\",\"AOTU013\",\"AOTU013\",\"AOTU013\",\"AOTU013\",\"AOTU013\",\"AOTU013\",\"AOTU013\",\"AOTU013\",\"AOTU013\",\"AOTU013\",\"AOTU013\",\"AOTU013\",\"AOTU013\",\"AOTU013\",\"AOTU013\",\"AOTU013\",\"AOTU013\",\"AOTU013\",\"AOTU013\",\"AOTU013\",\"AOTU013\",\"AOTU013\",\"AOTU013\",\"AOTU013\",\"AOTU013\",\"AOTU013\",\"AOTU013\",\"AOTU013\",\"AOTU013\",\"AOTU013\",\"AOTU013\",\"AOTU013\",\"AOTU013\",\"AOTU013\",\"AOTU013\",\"AOTU013\",\"AOTU013\",\"AOTU013\",\"AOTU013\",\"AOTU013\",\"AOTU013\",\"AOTU013\",\"AOTU013\",\"AOTU013\",\"AOTU013\",\"AOTU013\",\"AOTU013\",\"AOTU013\",\"AOTU013\",\"AOTU013\",\"AOTU013\",\"AOTU013\",\"AOTU013\",\"AOTU013\",\"AOTU013\",\"AOTU013\",\"AOTU013\",\"AOTU013\",\"AOTU013\",\"AOTU013\",\"AOTU013\",\"AOTU013\",\"AOTU013\",\"AOTU013\",\"AOTU014\",\"AOTU014\",\"AOTU014\",\"AOTU014\",\"AOTU014\",\"AOTU014\",\"AOTU014\",\"AOTU014\",\"AOTU014\",\"AOTU014\",\"AOTU014\",\"AOTU014\",\"AOTU014\",\"AOTU014\",\"AOTU014\",\"AOTU014\",\"AOTU014\",\"AOTU014\",\"AOTU014\",\"AOTU014\",\"AOTU014\",\"AOTU014\",\"AOTU014\",\"AOTU014\",\"AOTU014\",\"AOTU014\",\"AOTU014\",\"AOTU014\",\"AOTU014\",\"AOTU014\",\"AOTU014\",\"AOTU014\",\"AOTU014\",\"AOTU014\",\"AOTU014\",\"AOTU014\",\"AOTU014\",\"AOTU014\",\"AOTU014\",\"AOTU014\",\"AOTU014\",\"AOTU014\",\"AOTU014\",\"AOTU014\",\"AOTU014\",\"AOTU014\",\"AOTU014\",\"AOTU014\",\"AOTU014\",\"AOTU014\",\"AOTU014\",\"AOTU014\",\"AOTU014\",\"AOTU014\",\"AOTU014\",\"AOTU014\",\"AOTU014\",\"AOTU014\",\"AOTU014\",\"AOTU014\",\"AOTU014\",\"AOTU014\",\"AOTU014\",\"AOTU014\",\"AOTU014\",\"AOTU014\",\"AOTU014\",\"AOTU014\",\"AOTU014\",\"AOTU014\",\"AOTU014\",\"AOTU014\",\"AOTU014\",\"AOTU014\",\"AOTU014\",\"AOTU014\",\"AOTU014\",\"AOTU014\",\"AOTU014\",\"AOTU014\",\"AOTU014\",\"AOTU014\",\"AOTU014\",\"AOTU014\",\"AOTU014\",\"AOTU014\",\"AOTU014\",\"AOTU014\",\"AOTU014\",\"AOTU014\",\"AOTU014\",\"AOTU014\",\"AOTU014\",\"AOTU014\",\"AOTU014\",\"AOTU014\",\"AOTU014\",\"AOTU014\",\"AOTU014\",\"AOTU014\",\"AOTU014\",\"AOTU014\",\"AOTU014\",\"AOTU014\",\"AOTU014\",\"AOTU014\",\"AOTU014\",\"AOTU014\",\"AOTU014\",\"AOTU014\",\"AOTU014\",\"AOTU014\",\"AOTU014\",\"AOTU014\",\"AOTU014\",\"AOTU014\",\"AOTU014\",\"AOTU014\",\"AOTU014\",\"AOTU014\",\"AOTU014\",\"AOTU014\",\"AOTU014\",\"AOTU014\",\"AOTU014\",\"AOTU014\",\"AOTU014\",\"AOTU014\",\"AOTU014\",\"AOTU014\",\"AOTU014\",\"AOTU014\",\"AOTU014\",\"AOTU014\",\"AOTU014\",\"AOTU014\",\"AOTU014\",\"AOTU014\",\"AOTU014\",\"AOTU014\",\"AOTU015\",\"AOTU015\",\"AOTU015\",\"AOTU015\",\"AOTU015\",\"AOTU015\",\"AOTU015\",\"AOTU015\",\"AOTU015\",\"AOTU015\",\"AOTU015\",\"AOTU015\",\"AOTU015\",\"AOTU015\",\"AOTU015\",\"AOTU015\",\"AOTU015\",\"AOTU015\",\"AOTU015\",\"AOTU015\",\"AOTU015\",\"AOTU015\",\"AOTU015\",\"AOTU015\",\"AOTU015\",\"AOTU015\",\"AOTU015\",\"AOTU015\",\"AOTU015\",\"AOTU015\",\"AOTU015\",\"AOTU015\",\"AOTU015\",\"AOTU015\",\"AOTU015\",\"AOTU015\",\"AOTU015\",\"AOTU015\",\"AOTU015\",\"AOTU015\",\"AOTU015\",\"AOTU015\",\"AOTU015\",\"AOTU015\",\"AOTU015\",\"AOTU015\",\"AOTU015\",\"AOTU015\",\"AOTU015\",\"AOTU015\",\"AOTU015\",\"AOTU015\",\"AOTU015\",\"AOTU015\",\"AOTU015\",\"AOTU015\",\"AOTU015\",\"AOTU015\",\"AOTU015\",\"AOTU015\",\"AOTU015\",\"AOTU015\",\"AOTU015\",\"AOTU015\",\"AOTU015\",\"AOTU015\",\"AOTU015\",\"AOTU015\",\"AOTU015\",\"AOTU015\",\"AOTU015\",\"AOTU015\",\"AOTU015\",\"AOTU015\",\"AOTU015\",\"AOTU015\",\"AOTU015\",\"AOTU015\",\"AOTU015\",\"AOTU015\",\"AOTU015\",\"AOTU015\",\"AOTU015\",\"AOTU015\",\"AOTU015\",\"AOTU015\",\"AOTU015\",\"AOTU015\",\"AOTU015\",\"AOTU015\",\"AOTU015\",\"AOTU015\",\"AOTU015\",\"AOTU015\",\"AOTU015\",\"AOTU015\",\"AOTU015\",\"AOTU015\",\"AOTU015\",\"AOTU015\",\"AOTU015\",\"AOTU015\",\"AOTU015\",\"AOTU015\",\"AOTU015\",\"AOTU015\",\"AOTU015\",\"AOTU015\",\"AOTU015\",\"AOTU015\",\"AOTU015\",\"AOTU015\",\"AOTU015\",\"AOTU015\",\"AOTU015\",\"AOTU015\",\"AOTU015\",\"AOTU015\",\"AOTU015\",\"AOTU015\",\"AOTU015\",\"AOTU015\",\"AOTU015\",\"AOTU015\",\"AOTU015\",\"AOTU015\",\"AOTU015\",\"AOTU015\",\"AOTU015\",\"AOTU015\",\"AOTU015\",\"AOTU015\",\"AOTU015\",\"AOTU015\",\"AOTU015\",\"AOTU015\",\"AOTU015\",\"AOTU015\",\"AOTU015\",\"AOTU015\",\"AOTU016_a\",\"AOTU016_a\",\"AOTU016_a\",\"AOTU016_a\",\"AOTU016_a\",\"AOTU016_a\",\"AOTU016_a\",\"AOTU016_a\",\"AOTU016_a\",\"AOTU016_a\",\"AOTU016_a\",\"AOTU016_a\",\"AOTU016_a\",\"AOTU016_a\",\"AOTU016_a\",\"AOTU016_a\",\"AOTU016_a\",\"AOTU016_a\",\"AOTU016_a\",\"AOTU016_a\",\"AOTU016_a\",\"AOTU016_a\",\"AOTU016_a\",\"AOTU016_a\",\"AOTU016_a\",\"AOTU016_a\",\"AOTU016_a\",\"AOTU016_a\",\"AOTU016_a\",\"AOTU016_a\",\"AOTU016_a\",\"AOTU016_a\",\"AOTU016_a\",\"AOTU016_a\",\"AOTU016_a\",\"AOTU016_a\",\"AOTU016_a\",\"AOTU016_a\",\"AOTU016_a\",\"AOTU016_a\",\"AOTU016_a\",\"AOTU016_a\",\"AOTU016_a\",\"AOTU016_a\",\"AOTU016_a\",\"AOTU016_a\",\"AOTU016_a\",\"AOTU016_a\",\"AOTU016_a\",\"AOTU016_a\",\"AOTU016_a\",\"AOTU016_a\",\"AOTU016_a\",\"AOTU016_a\",\"AOTU016_a\",\"AOTU016_a\",\"AOTU016_a\",\"AOTU016_a\",\"AOTU016_a\",\"AOTU016_a\",\"AOTU016_a\",\"AOTU016_a\",\"AOTU016_a\",\"AOTU016_a\",\"AOTU016_a\",\"AOTU016_a\",\"AOTU016_a\",\"AOTU016_a\",\"AOTU016_a\",\"AOTU016_a\",\"AOTU016_a\",\"AOTU016_a\",\"AOTU016_a\",\"AOTU016_a\",\"AOTU016_a\",\"AOTU016_a\",\"AOTU016_a\",\"AOTU016_a\",\"AOTU016_a\",\"AOTU016_a\",\"AOTU016_a\",\"AOTU016_a\",\"AOTU016_a\",\"AOTU016_a\",\"AOTU016_a\",\"AOTU016_a\",\"AOTU016_a\",\"AOTU016_a\",\"AOTU016_a\",\"AOTU016_a\",\"AOTU016_a\",\"AOTU016_a\",\"AOTU016_a\",\"AOTU016_a\",\"AOTU016_a\",\"AOTU016_a\",\"AOTU016_a\",\"AOTU016_a\",\"AOTU016_a\",\"AOTU016_a\",\"AOTU016_a\",\"AOTU016_a\",\"AOTU016_a\",\"AOTU016_a\",\"AOTU016_a\",\"AOTU016_a\",\"AOTU016_a\",\"AOTU016_a\",\"AOTU016_a\",\"AOTU016_a\",\"AOTU016_a\",\"AOTU016_a\",\"AOTU016_a\",\"AOTU016_a\",\"AOTU016_a\",\"AOTU016_a\",\"AOTU016_a\",\"AOTU016_a\",\"AOTU016_a\",\"AOTU016_a\",\"AOTU016_a\",\"AOTU016_a\",\"AOTU016_a\",\"AOTU016_a\",\"AOTU016_a\",\"AOTU016_a\",\"AOTU016_a\",\"AOTU016_a\",\"AOTU016_a\",\"AOTU016_a\",\"AOTU016_a\",\"AOTU016_a\",\"AOTU016_a\",\"AOTU016_a\",\"AOTU016_a\",\"AOTU016_a\",\"AOTU016_a\",\"AOTU016_a\",\"AOTU016_a\",\"AOTU016_a\",\"AOTU016_b\",\"AOTU016_b\",\"AOTU016_b\",\"AOTU016_b\",\"AOTU016_b\",\"AOTU016_b\",\"AOTU016_b\",\"AOTU016_b\",\"AOTU016_b\",\"AOTU016_b\",\"AOTU016_b\",\"AOTU016_b\",\"AOTU016_b\",\"AOTU016_b\",\"AOTU016_b\",\"AOTU016_b\",\"AOTU016_b\",\"AOTU016_b\",\"AOTU016_b\",\"AOTU016_b\",\"AOTU016_b\",\"AOTU016_b\",\"AOTU016_b\",\"AOTU016_b\",\"AOTU016_b\",\"AOTU016_b\",\"AOTU016_b\",\"AOTU016_b\",\"AOTU016_b\",\"AOTU016_b\",\"AOTU016_b\",\"AOTU016_b\",\"AOTU016_b\",\"AOTU016_b\",\"AOTU016_b\",\"AOTU016_b\",\"AOTU016_b\",\"AOTU016_b\",\"AOTU016_b\",\"AOTU016_b\",\"AOTU016_b\",\"AOTU016_b\",\"AOTU016_b\",\"AOTU016_b\",\"AOTU016_b\",\"AOTU016_b\",\"AOTU016_b\",\"AOTU016_b\",\"AOTU016_b\",\"AOTU016_b\",\"AOTU016_b\",\"AOTU016_b\",\"AOTU016_b\",\"AOTU016_b\",\"AOTU016_b\",\"AOTU016_b\",\"AOTU016_b\",\"AOTU016_b\",\"AOTU016_b\",\"AOTU016_b\",\"AOTU016_b\",\"AOTU016_b\",\"AOTU016_b\",\"AOTU016_b\",\"AOTU016_b\",\"AOTU016_b\",\"AOTU016_b\",\"AOTU016_b\",\"AOTU016_b\",\"AOTU016_b\",\"AOTU016_b\",\"AOTU016_b\",\"AOTU016_b\",\"AOTU016_b\",\"AOTU016_b\",\"AOTU016_b\",\"AOTU016_b\",\"AOTU016_b\",\"AOTU016_b\",\"AOTU016_b\",\"AOTU016_b\",\"AOTU016_b\",\"AOTU016_b\",\"AOTU016_b\",\"AOTU016_b\",\"AOTU016_b\",\"AOTU016_b\",\"AOTU016_b\",\"AOTU016_b\",\"AOTU016_b\",\"AOTU016_b\",\"AOTU016_b\",\"AOTU016_b\",\"AOTU016_b\",\"AOTU016_b\",\"AOTU016_b\",\"AOTU016_b\",\"AOTU016_b\",\"AOTU016_b\",\"AOTU016_b\",\"AOTU016_b\",\"AOTU016_b\",\"AOTU016_b\",\"AOTU016_b\",\"AOTU016_b\",\"AOTU016_b\",\"AOTU016_b\",\"AOTU016_b\",\"AOTU016_b\",\"AOTU016_b\",\"AOTU016_b\",\"AOTU016_b\",\"AOTU016_b\",\"AOTU016_b\",\"AOTU016_b\",\"AOTU016_b\",\"AOTU016_b\",\"AOTU016_b\",\"AOTU016_b\",\"AOTU016_b\",\"AOTU016_b\",\"AOTU016_b\",\"AOTU016_b\",\"AOTU016_b\",\"AOTU016_b\",\"AOTU016_b\",\"AOTU016_b\",\"AOTU016_b\",\"AOTU016_b\",\"AOTU016_b\",\"AOTU016_b\",\"AOTU016_b\",\"AOTU016_b\",\"AOTU016_b\",\"AOTU016_b\",\"AOTU016_b\",\"AOTU016_b\",\"AOTU016_b\",\"AOTU016_b\",\"AOTU016_b\",\"AOTU016_c\",\"AOTU016_c\",\"AOTU016_c\",\"AOTU016_c\",\"AOTU016_c\",\"AOTU016_c\",\"AOTU016_c\",\"AOTU016_c\",\"AOTU016_c\",\"AOTU016_c\",\"AOTU016_c\",\"AOTU016_c\",\"AOTU016_c\",\"AOTU016_c\",\"AOTU016_c\",\"AOTU016_c\",\"AOTU016_c\",\"AOTU016_c\",\"AOTU016_c\",\"AOTU016_c\",\"AOTU016_c\",\"AOTU016_c\",\"AOTU016_c\",\"AOTU016_c\",\"AOTU016_c\",\"AOTU016_c\",\"AOTU016_c\",\"AOTU016_c\",\"AOTU016_c\",\"AOTU016_c\",\"AOTU016_c\",\"AOTU016_c\",\"AOTU016_c\",\"AOTU016_c\",\"AOTU016_c\",\"AOTU016_c\",\"AOTU016_c\",\"AOTU016_c\",\"AOTU016_c\",\"AOTU016_c\",\"AOTU016_c\",\"AOTU016_c\",\"AOTU016_c\",\"AOTU016_c\",\"AOTU016_c\",\"AOTU016_c\",\"AOTU016_c\",\"AOTU016_c\",\"AOTU016_c\",\"AOTU016_c\",\"AOTU016_c\",\"AOTU016_c\",\"AOTU016_c\",\"AOTU016_c\",\"AOTU016_c\",\"AOTU016_c\",\"AOTU016_c\",\"AOTU016_c\",\"AOTU016_c\",\"AOTU016_c\",\"AOTU016_c\",\"AOTU016_c\",\"AOTU016_c\",\"AOTU016_c\",\"AOTU016_c\",\"AOTU016_c\",\"AOTU016_c\",\"AOTU016_c\",\"AOTU016_c\",\"AOTU016_c\",\"AOTU016_c\",\"AOTU016_c\",\"AOTU016_c\",\"AOTU016_c\",\"AOTU016_c\",\"AOTU016_c\",\"AOTU016_c\",\"AOTU016_c\",\"AOTU016_c\",\"AOTU016_c\",\"AOTU016_c\",\"AOTU016_c\",\"AOTU016_c\",\"AOTU016_c\",\"AOTU016_c\",\"AOTU016_c\",\"AOTU016_c\",\"AOTU016_c\",\"AOTU016_c\",\"AOTU016_c\",\"AOTU016_c\",\"AOTU016_c\",\"AOTU016_c\",\"AOTU016_c\",\"AOTU016_c\",\"AOTU016_c\",\"AOTU016_c\",\"AOTU016_c\",\"AOTU016_c\",\"AOTU016_c\",\"AOTU016_c\",\"AOTU016_c\",\"AOTU016_c\",\"AOTU016_c\",\"AOTU016_c\",\"AOTU016_c\",\"AOTU016_c\",\"AOTU016_c\",\"AOTU016_c\",\"AOTU016_c\",\"AOTU016_c\",\"AOTU016_c\",\"AOTU016_c\",\"AOTU016_c\",\"AOTU016_c\",\"AOTU016_c\",\"AOTU016_c\",\"AOTU016_c\",\"AOTU016_c\",\"AOTU016_c\",\"AOTU016_c\",\"AOTU016_c\",\"AOTU016_c\",\"AOTU016_c\",\"AOTU016_c\",\"AOTU016_c\",\"AOTU016_c\",\"AOTU016_c\",\"AOTU016_c\",\"AOTU016_c\",\"AOTU016_c\",\"AOTU016_c\",\"AOTU016_c\",\"AOTU016_c\",\"AOTU016_c\",\"AOTU016_c\",\"AOTU016_c\",\"AOTU016_c\",\"AOTU016_c\",\"AOTU016_c\",\"AOTU017\",\"AOTU017\",\"AOTU017\",\"AOTU017\",\"AOTU017\",\"AOTU017\",\"AOTU017\",\"AOTU017\",\"AOTU017\",\"AOTU017\",\"AOTU017\",\"AOTU017\",\"AOTU017\",\"AOTU017\",\"AOTU017\",\"AOTU017\",\"AOTU017\",\"AOTU017\",\"AOTU017\",\"AOTU017\",\"AOTU017\",\"AOTU017\",\"AOTU017\",\"AOTU017\",\"AOTU017\",\"AOTU017\",\"AOTU017\",\"AOTU017\",\"AOTU017\",\"AOTU017\",\"AOTU017\",\"AOTU017\",\"AOTU017\",\"AOTU017\",\"AOTU017\",\"AOTU017\",\"AOTU017\",\"AOTU017\",\"AOTU017\",\"AOTU017\",\"AOTU017\",\"AOTU017\",\"AOTU017\",\"AOTU017\",\"AOTU017\",\"AOTU017\",\"AOTU017\",\"AOTU017\",\"AOTU017\",\"AOTU017\",\"AOTU017\",\"AOTU017\",\"AOTU017\",\"AOTU017\",\"AOTU017\",\"AOTU017\",\"AOTU017\",\"AOTU017\",\"AOTU017\",\"AOTU017\",\"AOTU017\",\"AOTU017\",\"AOTU017\",\"AOTU017\",\"AOTU017\",\"AOTU017\",\"AOTU017\",\"AOTU017\",\"AOTU017\",\"AOTU017\",\"AOTU017\",\"AOTU017\",\"AOTU017\",\"AOTU017\",\"AOTU017\",\"AOTU017\",\"AOTU017\",\"AOTU017\",\"AOTU017\",\"AOTU017\",\"AOTU017\",\"AOTU017\",\"AOTU017\",\"AOTU017\",\"AOTU017\",\"AOTU017\",\"AOTU017\",\"AOTU017\",\"AOTU017\",\"AOTU017\",\"AOTU017\",\"AOTU017\",\"AOTU017\",\"AOTU017\",\"AOTU017\",\"AOTU017\",\"AOTU017\",\"AOTU017\",\"AOTU017\",\"AOTU017\",\"AOTU017\",\"AOTU017\",\"AOTU017\",\"AOTU017\",\"AOTU017\",\"AOTU017\",\"AOTU017\",\"AOTU017\",\"AOTU017\",\"AOTU017\",\"AOTU017\",\"AOTU017\",\"AOTU017\",\"AOTU017\",\"AOTU017\",\"AOTU017\",\"AOTU017\",\"AOTU017\",\"AOTU017\",\"AOTU017\",\"AOTU017\",\"AOTU017\",\"AOTU017\",\"AOTU017\",\"AOTU017\",\"AOTU017\",\"AOTU017\",\"AOTU017\",\"AOTU017\",\"AOTU017\",\"AOTU017\",\"AOTU017\",\"AOTU017\",\"AOTU017\",\"AOTU017\",\"AOTU017\",\"AOTU017\",\"AOTU017\",\"AOTU017\",\"AOTU017\",\"AOTU018\",\"AOTU018\",\"AOTU018\",\"AOTU018\",\"AOTU018\",\"AOTU018\",\"AOTU018\",\"AOTU018\",\"AOTU018\",\"AOTU018\",\"AOTU018\",\"AOTU018\",\"AOTU018\",\"AOTU018\",\"AOTU018\",\"AOTU018\",\"AOTU018\",\"AOTU018\",\"AOTU018\",\"AOTU018\",\"AOTU018\",\"AOTU018\",\"AOTU018\",\"AOTU018\",\"AOTU018\",\"AOTU018\",\"AOTU018\",\"AOTU018\",\"AOTU018\",\"AOTU018\",\"AOTU018\",\"AOTU018\",\"AOTU018\",\"AOTU018\",\"AOTU018\",\"AOTU018\",\"AOTU018\",\"AOTU018\",\"AOTU018\",\"AOTU018\",\"AOTU018\",\"AOTU018\",\"AOTU018\",\"AOTU018\",\"AOTU018\",\"AOTU018\",\"AOTU018\",\"AOTU018\",\"AOTU018\",\"AOTU018\",\"AOTU018\",\"AOTU018\",\"AOTU018\",\"AOTU018\",\"AOTU018\",\"AOTU018\",\"AOTU018\",\"AOTU018\",\"AOTU018\",\"AOTU018\",\"AOTU018\",\"AOTU018\",\"AOTU018\",\"AOTU018\",\"AOTU018\",\"AOTU018\",\"AOTU018\",\"AOTU018\",\"AOTU018\",\"AOTU018\",\"AOTU018\",\"AOTU018\",\"AOTU018\",\"AOTU018\",\"AOTU018\",\"AOTU018\",\"AOTU018\",\"AOTU018\",\"AOTU018\",\"AOTU018\",\"AOTU018\",\"AOTU018\",\"AOTU018\",\"AOTU018\",\"AOTU018\",\"AOTU018\",\"AOTU018\",\"AOTU018\",\"AOTU018\",\"AOTU018\",\"AOTU018\",\"AOTU018\",\"AOTU018\",\"AOTU018\",\"AOTU018\",\"AOTU018\",\"AOTU018\",\"AOTU018\",\"AOTU018\",\"AOTU018\",\"AOTU018\",\"AOTU018\",\"AOTU018\",\"AOTU018\",\"AOTU018\",\"AOTU018\",\"AOTU018\",\"AOTU018\",\"AOTU018\",\"AOTU018\",\"AOTU018\",\"AOTU018\",\"AOTU018\",\"AOTU018\",\"AOTU018\",\"AOTU018\",\"AOTU018\",\"AOTU018\",\"AOTU018\",\"AOTU018\",\"AOTU018\",\"AOTU018\",\"AOTU018\",\"AOTU018\",\"AOTU018\",\"AOTU018\",\"AOTU018\",\"AOTU018\",\"AOTU018\",\"AOTU018\",\"AOTU018\",\"AOTU018\",\"AOTU018\",\"AOTU018\",\"AOTU018\",\"AOTU018\",\"AOTU018\",\"AOTU018\",\"AOTU018\",\"AOTU018\",\"AOTU019\",\"AOTU019\",\"AOTU019\",\"AOTU019\",\"AOTU019\",\"AOTU019\",\"AOTU019\",\"AOTU019\",\"AOTU019\",\"AOTU019\",\"AOTU019\",\"AOTU019\",\"AOTU019\",\"AOTU019\",\"AOTU019\",\"AOTU019\",\"AOTU019\",\"AOTU019\",\"AOTU019\",\"AOTU019\",\"AOTU019\",\"AOTU019\",\"AOTU019\",\"AOTU019\",\"AOTU019\",\"AOTU019\",\"AOTU019\",\"AOTU019\",\"AOTU019\",\"AOTU019\",\"AOTU019\",\"AOTU019\",\"AOTU019\",\"AOTU019\",\"AOTU019\",\"AOTU019\",\"AOTU019\",\"AOTU019\",\"AOTU019\",\"AOTU019\",\"AOTU019\",\"AOTU019\",\"AOTU019\",\"AOTU019\",\"AOTU019\",\"AOTU019\",\"AOTU019\",\"AOTU019\",\"AOTU019\",\"AOTU019\",\"AOTU019\",\"AOTU019\",\"AOTU019\",\"AOTU019\",\"AOTU019\",\"AOTU019\",\"AOTU019\",\"AOTU019\",\"AOTU019\",\"AOTU019\",\"AOTU019\",\"AOTU019\",\"AOTU019\",\"AOTU019\",\"AOTU019\",\"AOTU019\",\"AOTU019\",\"AOTU019\",\"AOTU019\",\"AOTU019\",\"AOTU019\",\"AOTU019\",\"AOTU019\",\"AOTU019\",\"AOTU019\",\"AOTU019\",\"AOTU019\",\"AOTU019\",\"AOTU019\",\"AOTU019\",\"AOTU019\",\"AOTU019\",\"AOTU019\",\"AOTU019\",\"AOTU019\",\"AOTU019\",\"AOTU019\",\"AOTU019\",\"AOTU019\",\"AOTU019\",\"AOTU019\",\"AOTU019\",\"AOTU019\",\"AOTU019\",\"AOTU019\",\"AOTU019\",\"AOTU019\",\"AOTU019\",\"AOTU019\",\"AOTU019\",\"AOTU019\",\"AOTU019\",\"AOTU019\",\"AOTU019\",\"AOTU019\",\"AOTU019\",\"AOTU019\",\"AOTU019\",\"AOTU019\",\"AOTU019\",\"AOTU019\",\"AOTU019\",\"AOTU019\",\"AOTU019\",\"AOTU019\",\"AOTU019\",\"AOTU019\",\"AOTU019\",\"AOTU019\",\"AOTU019\",\"AOTU019\",\"AOTU019\",\"AOTU019\",\"AOTU019\",\"AOTU019\",\"AOTU019\",\"AOTU019\",\"AOTU019\",\"AOTU019\",\"AOTU019\",\"AOTU019\",\"AOTU019\",\"AOTU019\",\"AOTU019\",\"AOTU019\",\"AOTU019\",\"AOTU019\",\"AOTU019\",\"AOTU019\",\"AOTU019\",\"AOTU020\",\"AOTU020\",\"AOTU020\",\"AOTU020\",\"AOTU020\",\"AOTU020\",\"AOTU020\",\"AOTU020\",\"AOTU020\",\"AOTU020\",\"AOTU020\",\"AOTU020\",\"AOTU020\",\"AOTU020\",\"AOTU020\",\"AOTU020\",\"AOTU020\",\"AOTU020\",\"AOTU020\",\"AOTU020\",\"AOTU020\",\"AOTU020\",\"AOTU020\",\"AOTU020\",\"AOTU020\",\"AOTU020\",\"AOTU020\",\"AOTU020\",\"AOTU020\",\"AOTU020\",\"AOTU020\",\"AOTU020\",\"AOTU020\",\"AOTU020\",\"AOTU020\",\"AOTU020\",\"AOTU020\",\"AOTU020\",\"AOTU020\",\"AOTU020\",\"AOTU020\",\"AOTU020\",\"AOTU020\",\"AOTU020\",\"AOTU020\",\"AOTU020\",\"AOTU020\",\"AOTU020\",\"AOTU020\",\"AOTU020\",\"AOTU020\",\"AOTU020\",\"AOTU020\",\"AOTU020\",\"AOTU020\",\"AOTU020\",\"AOTU020\",\"AOTU020\",\"AOTU020\",\"AOTU020\",\"AOTU020\",\"AOTU020\",\"AOTU020\",\"AOTU020\",\"AOTU020\",\"AOTU020\",\"AOTU020\",\"AOTU020\",\"AOTU020\",\"AOTU020\",\"AOTU020\",\"AOTU020\",\"AOTU020\",\"AOTU020\",\"AOTU020\",\"AOTU020\",\"AOTU020\",\"AOTU020\",\"AOTU020\",\"AOTU020\",\"AOTU020\",\"AOTU020\",\"AOTU020\",\"AOTU020\",\"AOTU020\",\"AOTU020\",\"AOTU020\",\"AOTU020\",\"AOTU020\",\"AOTU020\",\"AOTU020\",\"AOTU020\",\"AOTU020\",\"AOTU020\",\"AOTU020\",\"AOTU020\",\"AOTU020\",\"AOTU020\",\"AOTU020\",\"AOTU020\",\"AOTU020\",\"AOTU020\",\"AOTU020\",\"AOTU020\",\"AOTU020\",\"AOTU020\",\"AOTU020\",\"AOTU020\",\"AOTU020\",\"AOTU020\",\"AOTU020\",\"AOTU020\",\"AOTU020\",\"AOTU020\",\"AOTU020\",\"AOTU020\",\"AOTU020\",\"AOTU020\",\"AOTU020\",\"AOTU020\",\"AOTU020\",\"AOTU020\",\"AOTU020\",\"AOTU020\",\"AOTU020\",\"AOTU020\",\"AOTU020\",\"AOTU020\",\"AOTU020\",\"AOTU020\",\"AOTU020\",\"AOTU020\",\"AOTU020\",\"AOTU020\",\"AOTU020\",\"AOTU020\",\"AOTU020\",\"AOTU020\",\"AOTU020\",\"AOTU020\",\"AOTU022\",\"AOTU022\",\"AOTU022\",\"AOTU022\",\"AOTU022\",\"AOTU022\",\"AOTU022\",\"AOTU022\",\"AOTU022\",\"AOTU022\",\"AOTU022\",\"AOTU022\",\"AOTU022\",\"AOTU022\",\"AOTU022\",\"AOTU022\",\"AOTU022\",\"AOTU022\",\"AOTU022\",\"AOTU022\",\"AOTU022\",\"AOTU022\",\"AOTU022\",\"AOTU022\",\"AOTU022\",\"AOTU022\",\"AOTU022\",\"AOTU022\",\"AOTU022\",\"AOTU022\",\"AOTU022\",\"AOTU022\",\"AOTU022\",\"AOTU022\",\"AOTU022\",\"AOTU022\",\"AOTU022\",\"AOTU022\",\"AOTU022\",\"AOTU022\",\"AOTU022\",\"AOTU022\",\"AOTU022\",\"AOTU022\",\"AOTU022\",\"AOTU022\",\"AOTU022\",\"AOTU022\",\"AOTU022\",\"AOTU022\",\"AOTU022\",\"AOTU022\",\"AOTU022\",\"AOTU022\",\"AOTU022\",\"AOTU022\",\"AOTU022\",\"AOTU022\",\"AOTU022\",\"AOTU022\",\"AOTU022\",\"AOTU022\",\"AOTU022\",\"AOTU022\",\"AOTU022\",\"AOTU022\",\"AOTU022\",\"AOTU022\",\"AOTU022\",\"AOTU022\",\"AOTU022\",\"AOTU022\",\"AOTU022\",\"AOTU022\",\"AOTU022\",\"AOTU022\",\"AOTU022\",\"AOTU022\",\"AOTU022\",\"AOTU022\",\"AOTU022\",\"AOTU022\",\"AOTU022\",\"AOTU022\",\"AOTU022\",\"AOTU022\",\"AOTU022\",\"AOTU022\",\"AOTU022\",\"AOTU022\",\"AOTU022\",\"AOTU022\",\"AOTU022\",\"AOTU022\",\"AOTU022\",\"AOTU022\",\"AOTU022\",\"AOTU022\",\"AOTU022\",\"AOTU022\",\"AOTU022\",\"AOTU022\",\"AOTU022\",\"AOTU022\",\"AOTU022\",\"AOTU022\",\"AOTU022\",\"AOTU022\",\"AOTU022\",\"AOTU022\",\"AOTU022\",\"AOTU022\",\"AOTU022\",\"AOTU022\",\"AOTU022\",\"AOTU022\",\"AOTU022\",\"AOTU022\",\"AOTU022\",\"AOTU022\",\"AOTU022\",\"AOTU022\",\"AOTU022\",\"AOTU022\",\"AOTU022\",\"AOTU022\",\"AOTU022\",\"AOTU022\",\"AOTU022\",\"AOTU022\",\"AOTU022\",\"AOTU022\",\"AOTU022\",\"AOTU022\",\"AOTU022\",\"AOTU022\",\"AOTU022\",\"AOTU022\",\"AOTU022\",\"AOTU022\",\"AOTU023\",\"AOTU023\",\"AOTU023\",\"AOTU023\",\"AOTU023\",\"AOTU023\",\"AOTU023\",\"AOTU023\",\"AOTU023\",\"AOTU023\",\"AOTU023\",\"AOTU023\",\"AOTU023\",\"AOTU023\",\"AOTU023\",\"AOTU023\",\"AOTU023\",\"AOTU023\",\"AOTU023\",\"AOTU023\",\"AOTU023\",\"AOTU023\",\"AOTU023\",\"AOTU023\",\"AOTU023\",\"AOTU023\",\"AOTU023\",\"AOTU023\",\"AOTU023\",\"AOTU023\",\"AOTU023\",\"AOTU023\",\"AOTU023\",\"AOTU023\",\"AOTU023\",\"AOTU023\",\"AOTU023\",\"AOTU023\",\"AOTU023\",\"AOTU023\",\"AOTU023\",\"AOTU023\",\"AOTU023\",\"AOTU023\",\"AOTU023\",\"AOTU023\",\"AOTU023\",\"AOTU023\",\"AOTU023\",\"AOTU023\",\"AOTU023\",\"AOTU023\",\"AOTU023\",\"AOTU023\",\"AOTU023\",\"AOTU023\",\"AOTU023\",\"AOTU023\",\"AOTU023\",\"AOTU023\",\"AOTU023\",\"AOTU023\",\"AOTU023\",\"AOTU023\",\"AOTU023\",\"AOTU023\",\"AOTU023\",\"AOTU023\",\"AOTU023\",\"AOTU023\",\"AOTU023\",\"AOTU023\",\"AOTU023\",\"AOTU023\",\"AOTU023\",\"AOTU023\",\"AOTU023\",\"AOTU023\",\"AOTU023\",\"AOTU023\",\"AOTU023\",\"AOTU023\",\"AOTU023\",\"AOTU023\",\"AOTU023\",\"AOTU023\",\"AOTU023\",\"AOTU023\",\"AOTU023\",\"AOTU023\",\"AOTU023\",\"AOTU023\",\"AOTU023\",\"AOTU023\",\"AOTU023\",\"AOTU023\",\"AOTU023\",\"AOTU023\",\"AOTU023\",\"AOTU023\",\"AOTU023\",\"AOTU023\",\"AOTU023\",\"AOTU023\",\"AOTU023\",\"AOTU023\",\"AOTU023\",\"AOTU023\",\"AOTU023\",\"AOTU023\",\"AOTU023\",\"AOTU023\",\"AOTU023\",\"AOTU023\",\"AOTU023\",\"AOTU023\",\"AOTU023\",\"AOTU023\",\"AOTU023\",\"AOTU023\",\"AOTU023\",\"AOTU023\",\"AOTU023\",\"AOTU023\",\"AOTU023\",\"AOTU023\",\"AOTU023\",\"AOTU023\",\"AOTU023\",\"AOTU023\",\"AOTU023\",\"AOTU023\",\"AOTU023\",\"AOTU023\",\"AOTU023\",\"AOTU023\",\"AOTU023\",\"AOTU023\",\"AOTU023\",\"AOTU023\",\"AOTU024\",\"AOTU024\",\"AOTU024\",\"AOTU024\",\"AOTU024\",\"AOTU024\",\"AOTU024\",\"AOTU024\",\"AOTU024\",\"AOTU024\",\"AOTU024\",\"AOTU024\",\"AOTU024\",\"AOTU024\",\"AOTU024\",\"AOTU024\",\"AOTU024\",\"AOTU024\",\"AOTU024\",\"AOTU024\",\"AOTU024\",\"AOTU024\",\"AOTU024\",\"AOTU024\",\"AOTU024\",\"AOTU024\",\"AOTU024\",\"AOTU024\",\"AOTU024\",\"AOTU024\",\"AOTU024\",\"AOTU024\",\"AOTU024\",\"AOTU024\",\"AOTU024\",\"AOTU024\",\"AOTU024\",\"AOTU024\",\"AOTU024\",\"AOTU024\",\"AOTU024\",\"AOTU024\",\"AOTU024\",\"AOTU024\",\"AOTU024\",\"AOTU024\",\"AOTU024\",\"AOTU024\",\"AOTU024\",\"AOTU024\",\"AOTU024\",\"AOTU024\",\"AOTU024\",\"AOTU024\",\"AOTU024\",\"AOTU024\",\"AOTU024\",\"AOTU024\",\"AOTU024\",\"AOTU024\",\"AOTU024\",\"AOTU024\",\"AOTU024\",\"AOTU024\",\"AOTU024\",\"AOTU024\",\"AOTU024\",\"AOTU024\",\"AOTU024\",\"AOTU024\",\"AOTU024\",\"AOTU024\",\"AOTU024\",\"AOTU024\",\"AOTU024\",\"AOTU024\",\"AOTU024\",\"AOTU024\",\"AOTU024\",\"AOTU024\",\"AOTU024\",\"AOTU024\",\"AOTU024\",\"AOTU024\",\"AOTU024\",\"AOTU024\",\"AOTU024\",\"AOTU024\",\"AOTU024\",\"AOTU024\",\"AOTU024\",\"AOTU024\",\"AOTU024\",\"AOTU024\",\"AOTU024\",\"AOTU024\",\"AOTU024\",\"AOTU024\",\"AOTU024\",\"AOTU024\",\"AOTU024\",\"AOTU024\",\"AOTU024\",\"AOTU024\",\"AOTU024\",\"AOTU024\",\"AOTU024\",\"AOTU024\",\"AOTU024\",\"AOTU024\",\"AOTU024\",\"AOTU024\",\"AOTU024\",\"AOTU024\",\"AOTU024\",\"AOTU024\",\"AOTU024\",\"AOTU024\",\"AOTU024\",\"AOTU024\",\"AOTU024\",\"AOTU024\",\"AOTU024\",\"AOTU024\",\"AOTU024\",\"AOTU024\",\"AOTU024\",\"AOTU024\",\"AOTU024\",\"AOTU024\",\"AOTU024\",\"AOTU024\",\"AOTU024\",\"AOTU024\",\"AOTU024\",\"AOTU024\",\"AOTU024\",\"AOTU024\",\"AOTU024\",\"AOTU024\",\"AOTU025\",\"AOTU025\",\"AOTU025\",\"AOTU025\",\"AOTU025\",\"AOTU025\",\"AOTU025\",\"AOTU025\",\"AOTU025\",\"AOTU025\",\"AOTU025\",\"AOTU025\",\"AOTU025\",\"AOTU025\",\"AOTU025\",\"AOTU025\",\"AOTU025\",\"AOTU025\",\"AOTU025\",\"AOTU025\",\"AOTU025\",\"AOTU025\",\"AOTU025\",\"AOTU025\",\"AOTU025\",\"AOTU025\",\"AOTU025\",\"AOTU025\",\"AOTU025\",\"AOTU025\",\"AOTU025\",\"AOTU025\",\"AOTU025\",\"AOTU025\",\"AOTU025\",\"AOTU025\",\"AOTU025\",\"AOTU025\",\"AOTU025\",\"AOTU025\",\"AOTU025\",\"AOTU025\",\"AOTU025\",\"AOTU025\",\"AOTU025\",\"AOTU025\",\"AOTU025\",\"AOTU025\",\"AOTU025\",\"AOTU025\",\"AOTU025\",\"AOTU025\",\"AOTU025\",\"AOTU025\",\"AOTU025\",\"AOTU025\",\"AOTU025\",\"AOTU025\",\"AOTU025\",\"AOTU025\",\"AOTU025\",\"AOTU025\",\"AOTU025\",\"AOTU025\",\"AOTU025\",\"AOTU025\",\"AOTU025\",\"AOTU025\",\"AOTU025\",\"AOTU025\",\"AOTU025\",\"AOTU025\",\"AOTU025\",\"AOTU025\",\"AOTU025\",\"AOTU025\",\"AOTU025\",\"AOTU025\",\"AOTU025\",\"AOTU025\",\"AOTU025\",\"AOTU025\",\"AOTU025\",\"AOTU025\",\"AOTU025\",\"AOTU025\",\"AOTU025\",\"AOTU025\",\"AOTU025\",\"AOTU025\",\"AOTU025\",\"AOTU025\",\"AOTU025\",\"AOTU025\",\"AOTU025\",\"AOTU025\",\"AOTU025\",\"AOTU025\",\"AOTU025\",\"AOTU025\",\"AOTU025\",\"AOTU025\",\"AOTU025\",\"AOTU025\",\"AOTU025\",\"AOTU025\",\"AOTU025\",\"AOTU025\",\"AOTU025\",\"AOTU025\",\"AOTU025\",\"AOTU025\",\"AOTU025\",\"AOTU025\",\"AOTU025\",\"AOTU025\",\"AOTU025\",\"AOTU025\",\"AOTU025\",\"AOTU025\",\"AOTU025\",\"AOTU025\",\"AOTU025\",\"AOTU025\",\"AOTU025\",\"AOTU025\",\"AOTU025\",\"AOTU025\",\"AOTU025\",\"AOTU025\",\"AOTU025\",\"AOTU025\",\"AOTU025\",\"AOTU025\",\"AOTU025\",\"AOTU025\",\"AOTU025\",\"AOTU025\",\"AOTU025\",\"AOTU025\",\"AOTU026\",\"AOTU026\",\"AOTU026\",\"AOTU026\",\"AOTU026\",\"AOTU026\",\"AOTU026\",\"AOTU026\",\"AOTU026\",\"AOTU026\",\"AOTU026\",\"AOTU026\",\"AOTU026\",\"AOTU026\",\"AOTU026\",\"AOTU026\",\"AOTU026\",\"AOTU026\",\"AOTU026\",\"AOTU026\",\"AOTU026\",\"AOTU026\",\"AOTU026\",\"AOTU026\",\"AOTU026\",\"AOTU026\",\"AOTU026\",\"AOTU026\",\"AOTU026\",\"AOTU026\",\"AOTU026\",\"AOTU026\",\"AOTU026\",\"AOTU026\",\"AOTU026\",\"AOTU026\",\"AOTU026\",\"AOTU026\",\"AOTU026\",\"AOTU026\",\"AOTU026\",\"AOTU026\",\"AOTU026\",\"AOTU026\",\"AOTU026\",\"AOTU026\",\"AOTU026\",\"AOTU026\",\"AOTU026\",\"AOTU026\",\"AOTU026\",\"AOTU026\",\"AOTU026\",\"AOTU026\",\"AOTU026\",\"AOTU026\",\"AOTU026\",\"AOTU026\",\"AOTU026\",\"AOTU026\",\"AOTU026\",\"AOTU026\",\"AOTU026\",\"AOTU026\",\"AOTU026\",\"AOTU026\",\"AOTU026\",\"AOTU026\",\"AOTU026\",\"AOTU026\",\"AOTU026\",\"AOTU026\",\"AOTU026\",\"AOTU026\",\"AOTU026\",\"AOTU026\",\"AOTU026\",\"AOTU026\",\"AOTU026\",\"AOTU026\",\"AOTU026\",\"AOTU026\",\"AOTU026\",\"AOTU026\",\"AOTU026\",\"AOTU026\",\"AOTU026\",\"AOTU026\",\"AOTU026\",\"AOTU026\",\"AOTU026\",\"AOTU026\",\"AOTU026\",\"AOTU026\",\"AOTU026\",\"AOTU026\",\"AOTU026\",\"AOTU026\",\"AOTU026\",\"AOTU026\",\"AOTU026\",\"AOTU026\",\"AOTU026\",\"AOTU026\",\"AOTU026\",\"AOTU026\",\"AOTU026\",\"AOTU026\",\"AOTU026\",\"AOTU026\",\"AOTU026\",\"AOTU026\",\"AOTU026\",\"AOTU026\",\"AOTU026\",\"AOTU026\",\"AOTU026\",\"AOTU026\",\"AOTU026\",\"AOTU026\",\"AOTU026\",\"AOTU026\",\"AOTU026\",\"AOTU026\",\"AOTU026\",\"AOTU026\",\"AOTU026\",\"AOTU026\",\"AOTU026\",\"AOTU026\",\"AOTU026\",\"AOTU026\",\"AOTU026\",\"AOTU026\",\"AOTU026\",\"AOTU026\",\"AOTU026\",\"AOTU026\",\"AOTU026\",\"AOTU026\",\"AOTU027\",\"AOTU027\",\"AOTU027\",\"AOTU027\",\"AOTU027\",\"AOTU027\",\"AOTU027\",\"AOTU027\",\"AOTU027\",\"AOTU027\",\"AOTU027\",\"AOTU027\",\"AOTU027\",\"AOTU027\",\"AOTU027\",\"AOTU027\",\"AOTU027\",\"AOTU027\",\"AOTU027\",\"AOTU027\",\"AOTU027\",\"AOTU027\",\"AOTU027\",\"AOTU027\",\"AOTU027\",\"AOTU027\",\"AOTU027\",\"AOTU027\",\"AOTU027\",\"AOTU027\",\"AOTU027\",\"AOTU027\",\"AOTU027\",\"AOTU027\",\"AOTU027\",\"AOTU027\",\"AOTU027\",\"AOTU027\",\"AOTU027\",\"AOTU027\",\"AOTU027\",\"AOTU027\",\"AOTU027\",\"AOTU027\",\"AOTU027\",\"AOTU027\",\"AOTU027\",\"AOTU027\",\"AOTU027\",\"AOTU027\",\"AOTU027\",\"AOTU027\",\"AOTU027\",\"AOTU027\",\"AOTU027\",\"AOTU027\",\"AOTU027\",\"AOTU027\",\"AOTU027\",\"AOTU027\",\"AOTU027\",\"AOTU027\",\"AOTU027\",\"AOTU027\",\"AOTU027\",\"AOTU027\",\"AOTU027\",\"AOTU027\",\"AOTU027\",\"AOTU027\",\"AOTU027\",\"AOTU027\",\"AOTU027\",\"AOTU027\",\"AOTU027\",\"AOTU027\",\"AOTU027\",\"AOTU027\",\"AOTU027\",\"AOTU027\",\"AOTU027\",\"AOTU027\",\"AOTU027\",\"AOTU027\",\"AOTU027\",\"AOTU027\",\"AOTU027\",\"AOTU027\",\"AOTU027\",\"AOTU027\",\"AOTU027\",\"AOTU027\",\"AOTU027\",\"AOTU027\",\"AOTU027\",\"AOTU027\",\"AOTU027\",\"AOTU027\",\"AOTU027\",\"AOTU027\",\"AOTU027\",\"AOTU027\",\"AOTU027\",\"AOTU027\",\"AOTU027\",\"AOTU027\",\"AOTU027\",\"AOTU027\",\"AOTU027\",\"AOTU027\",\"AOTU027\",\"AOTU027\",\"AOTU027\",\"AOTU027\",\"AOTU027\",\"AOTU027\",\"AOTU027\",\"AOTU027\",\"AOTU027\",\"AOTU027\",\"AOTU027\",\"AOTU027\",\"AOTU027\",\"AOTU027\",\"AOTU027\",\"AOTU027\",\"AOTU027\",\"AOTU027\",\"AOTU027\",\"AOTU027\",\"AOTU027\",\"AOTU027\",\"AOTU027\",\"AOTU027\",\"AOTU027\",\"AOTU027\",\"AOTU027\",\"AOTU027\",\"AOTU027\",\"AOTU027\",\"AOTU028\",\"AOTU028\",\"AOTU028\",\"AOTU028\",\"AOTU028\",\"AOTU028\",\"AOTU028\",\"AOTU028\",\"AOTU028\",\"AOTU028\",\"AOTU028\",\"AOTU028\",\"AOTU028\",\"AOTU028\",\"AOTU028\",\"AOTU028\",\"AOTU028\",\"AOTU028\",\"AOTU028\",\"AOTU028\",\"AOTU028\",\"AOTU028\",\"AOTU028\",\"AOTU028\",\"AOTU028\",\"AOTU028\",\"AOTU028\",\"AOTU028\",\"AOTU028\",\"AOTU028\",\"AOTU028\",\"AOTU028\",\"AOTU028\",\"AOTU028\",\"AOTU028\",\"AOTU028\",\"AOTU028\",\"AOTU028\",\"AOTU028\",\"AOTU028\",\"AOTU028\",\"AOTU028\",\"AOTU028\",\"AOTU028\",\"AOTU028\",\"AOTU028\",\"AOTU028\",\"AOTU028\",\"AOTU028\",\"AOTU028\",\"AOTU028\",\"AOTU028\",\"AOTU028\",\"AOTU028\",\"AOTU028\",\"AOTU028\",\"AOTU028\",\"AOTU028\",\"AOTU028\",\"AOTU028\",\"AOTU028\",\"AOTU028\",\"AOTU028\",\"AOTU028\",\"AOTU028\",\"AOTU028\",\"AOTU028\",\"AOTU028\",\"AOTU028\",\"AOTU028\",\"AOTU028\",\"AOTU028\",\"AOTU028\",\"AOTU028\",\"AOTU028\",\"AOTU028\",\"AOTU028\",\"AOTU028\",\"AOTU028\",\"AOTU028\",\"AOTU028\",\"AOTU028\",\"AOTU028\",\"AOTU028\",\"AOTU028\",\"AOTU028\",\"AOTU028\",\"AOTU028\",\"AOTU028\",\"AOTU028\",\"AOTU028\",\"AOTU028\",\"AOTU028\",\"AOTU028\",\"AOTU028\",\"AOTU028\",\"AOTU028\",\"AOTU028\",\"AOTU028\",\"AOTU028\",\"AOTU028\",\"AOTU028\",\"AOTU028\",\"AOTU028\",\"AOTU028\",\"AOTU028\",\"AOTU028\",\"AOTU028\",\"AOTU028\",\"AOTU028\",\"AOTU028\",\"AOTU028\",\"AOTU028\",\"AOTU028\",\"AOTU028\",\"AOTU028\",\"AOTU028\",\"AOTU028\",\"AOTU028\",\"AOTU028\",\"AOTU028\",\"AOTU028\",\"AOTU028\",\"AOTU028\",\"AOTU028\",\"AOTU028\",\"AOTU028\",\"AOTU028\",\"AOTU028\",\"AOTU028\",\"AOTU028\",\"AOTU028\",\"AOTU028\",\"AOTU028\",\"AOTU028\",\"AOTU028\",\"AOTU028\",\"AOTU028\",\"AOTU028\",\"AOTU028\",\"AOTU029\",\"AOTU029\",\"AOTU029\",\"AOTU029\",\"AOTU029\",\"AOTU029\",\"AOTU029\",\"AOTU029\",\"AOTU029\",\"AOTU029\",\"AOTU029\",\"AOTU029\",\"AOTU029\",\"AOTU029\",\"AOTU029\",\"AOTU029\",\"AOTU029\",\"AOTU029\",\"AOTU029\",\"AOTU029\",\"AOTU029\",\"AOTU029\",\"AOTU029\",\"AOTU029\",\"AOTU029\",\"AOTU029\",\"AOTU029\",\"AOTU029\",\"AOTU029\",\"AOTU029\",\"AOTU029\",\"AOTU029\",\"AOTU029\",\"AOTU029\",\"AOTU029\",\"AOTU029\",\"AOTU029\",\"AOTU029\",\"AOTU029\",\"AOTU029\",\"AOTU029\",\"AOTU029\",\"AOTU029\",\"AOTU029\",\"AOTU029\",\"AOTU029\",\"AOTU029\",\"AOTU029\",\"AOTU029\",\"AOTU029\",\"AOTU029\",\"AOTU029\",\"AOTU029\",\"AOTU029\",\"AOTU029\",\"AOTU029\",\"AOTU029\",\"AOTU029\",\"AOTU029\",\"AOTU029\",\"AOTU029\",\"AOTU029\",\"AOTU029\",\"AOTU029\",\"AOTU029\",\"AOTU029\",\"AOTU029\",\"AOTU029\",\"AOTU029\",\"AOTU029\",\"AOTU029\",\"AOTU029\",\"AOTU029\",\"AOTU029\",\"AOTU029\",\"AOTU029\",\"AOTU029\",\"AOTU029\",\"AOTU029\",\"AOTU029\",\"AOTU029\",\"AOTU029\",\"AOTU029\",\"AOTU029\",\"AOTU029\",\"AOTU029\",\"AOTU029\",\"AOTU029\",\"AOTU029\",\"AOTU029\",\"AOTU029\",\"AOTU029\",\"AOTU029\",\"AOTU029\",\"AOTU029\",\"AOTU029\",\"AOTU029\",\"AOTU029\",\"AOTU029\",\"AOTU029\",\"AOTU029\",\"AOTU029\",\"AOTU029\",\"AOTU029\",\"AOTU029\",\"AOTU029\",\"AOTU029\",\"AOTU029\",\"AOTU029\",\"AOTU029\",\"AOTU029\",\"AOTU029\",\"AOTU029\",\"AOTU029\",\"AOTU029\",\"AOTU029\",\"AOTU029\",\"AOTU029\",\"AOTU029\",\"AOTU029\",\"AOTU029\",\"AOTU029\",\"AOTU029\",\"AOTU029\",\"AOTU029\",\"AOTU029\",\"AOTU029\",\"AOTU029\",\"AOTU029\",\"AOTU029\",\"AOTU029\",\"AOTU029\",\"AOTU029\",\"AOTU029\",\"AOTU029\",\"AOTU029\",\"AOTU029\",\"AOTU029\",\"AOTU029\",\"AOTU029\",\"AOTU030\",\"AOTU030\",\"AOTU030\",\"AOTU030\",\"AOTU030\",\"AOTU030\",\"AOTU030\",\"AOTU030\",\"AOTU030\",\"AOTU030\",\"AOTU030\",\"AOTU030\",\"AOTU030\",\"AOTU030\",\"AOTU030\",\"AOTU030\",\"AOTU030\",\"AOTU030\",\"AOTU030\",\"AOTU030\",\"AOTU030\",\"AOTU030\",\"AOTU030\",\"AOTU030\",\"AOTU030\",\"AOTU030\",\"AOTU030\",\"AOTU030\",\"AOTU030\",\"AOTU030\",\"AOTU030\",\"AOTU030\",\"AOTU030\",\"AOTU030\",\"AOTU030\",\"AOTU030\",\"AOTU030\",\"AOTU030\",\"AOTU030\",\"AOTU030\",\"AOTU030\",\"AOTU030\",\"AOTU030\",\"AOTU030\",\"AOTU030\",\"AOTU030\",\"AOTU030\",\"AOTU030\",\"AOTU030\",\"AOTU030\",\"AOTU030\",\"AOTU030\",\"AOTU030\",\"AOTU030\",\"AOTU030\",\"AOTU030\",\"AOTU030\",\"AOTU030\",\"AOTU030\",\"AOTU030\",\"AOTU030\",\"AOTU030\",\"AOTU030\",\"AOTU030\",\"AOTU030\",\"AOTU030\",\"AOTU030\",\"AOTU030\",\"AOTU030\",\"AOTU030\",\"AOTU030\",\"AOTU030\",\"AOTU030\",\"AOTU030\",\"AOTU030\",\"AOTU030\",\"AOTU030\",\"AOTU030\",\"AOTU030\",\"AOTU030\",\"AOTU030\",\"AOTU030\",\"AOTU030\",\"AOTU030\",\"AOTU030\",\"AOTU030\",\"AOTU030\",\"AOTU030\",\"AOTU030\",\"AOTU030\",\"AOTU030\",\"AOTU030\",\"AOTU030\",\"AOTU030\",\"AOTU030\",\"AOTU030\",\"AOTU030\",\"AOTU030\",\"AOTU030\",\"AOTU030\",\"AOTU030\",\"AOTU030\",\"AOTU030\",\"AOTU030\",\"AOTU030\",\"AOTU030\",\"AOTU030\",\"AOTU030\",\"AOTU030\",\"AOTU030\",\"AOTU030\",\"AOTU030\",\"AOTU030\",\"AOTU030\",\"AOTU030\",\"AOTU030\",\"AOTU030\",\"AOTU030\",\"AOTU030\",\"AOTU030\",\"AOTU030\",\"AOTU030\",\"AOTU030\",\"AOTU030\",\"AOTU030\",\"AOTU030\",\"AOTU030\",\"AOTU030\",\"AOTU030\",\"AOTU030\",\"AOTU030\",\"AOTU030\",\"AOTU030\",\"AOTU030\",\"AOTU030\",\"AOTU030\",\"AOTU030\",\"AOTU030\",\"AOTU030\",\"AOTU030\",\"AOTU032\",\"AOTU032\",\"AOTU032\",\"AOTU032\",\"AOTU032\",\"AOTU032\",\"AOTU032\",\"AOTU032\",\"AOTU032\",\"AOTU032\",\"AOTU032\",\"AOTU032\",\"AOTU032\",\"AOTU032\",\"AOTU032\",\"AOTU032\",\"AOTU032\",\"AOTU032\",\"AOTU032\",\"AOTU032\",\"AOTU032\",\"AOTU032\",\"AOTU032\",\"AOTU032\",\"AOTU032\",\"AOTU032\",\"AOTU032\",\"AOTU032\",\"AOTU032\",\"AOTU032\",\"AOTU032\",\"AOTU032\",\"AOTU032\",\"AOTU032\",\"AOTU032\",\"AOTU032\",\"AOTU032\",\"AOTU032\",\"AOTU032\",\"AOTU032\",\"AOTU032\",\"AOTU032\",\"AOTU032\",\"AOTU032\",\"AOTU032\",\"AOTU032\",\"AOTU032\",\"AOTU032\",\"AOTU032\",\"AOTU032\",\"AOTU032\",\"AOTU032\",\"AOTU032\",\"AOTU032\",\"AOTU032\",\"AOTU032\",\"AOTU032\",\"AOTU032\",\"AOTU032\",\"AOTU032\",\"AOTU032\",\"AOTU032\",\"AOTU032\",\"AOTU032\",\"AOTU032\",\"AOTU032\",\"AOTU032\",\"AOTU032\",\"AOTU032\",\"AOTU032\",\"AOTU032\",\"AOTU032\",\"AOTU032\",\"AOTU032\",\"AOTU032\",\"AOTU032\",\"AOTU032\",\"AOTU032\",\"AOTU032\",\"AOTU032\",\"AOTU032\",\"AOTU032\",\"AOTU032\",\"AOTU032\",\"AOTU032\",\"AOTU032\",\"AOTU032\",\"AOTU032\",\"AOTU032\",\"AOTU032\",\"AOTU032\",\"AOTU032\",\"AOTU032\",\"AOTU032\",\"AOTU032\",\"AOTU032\",\"AOTU032\",\"AOTU032\",\"AOTU032\",\"AOTU032\",\"AOTU032\",\"AOTU032\",\"AOTU032\",\"AOTU032\",\"AOTU032\",\"AOTU032\",\"AOTU032\",\"AOTU032\",\"AOTU032\",\"AOTU032\",\"AOTU032\",\"AOTU032\",\"AOTU032\",\"AOTU032\",\"AOTU032\",\"AOTU032\",\"AOTU032\",\"AOTU032\",\"AOTU032\",\"AOTU032\",\"AOTU032\",\"AOTU032\",\"AOTU032\",\"AOTU032\",\"AOTU032\",\"AOTU032\",\"AOTU032\",\"AOTU032\",\"AOTU032\",\"AOTU032\",\"AOTU032\",\"AOTU032\",\"AOTU032\",\"AOTU032\",\"AOTU032\",\"AOTU032\",\"AOTU032\",\"AOTU032\",\"AOTU032\",\"AOTU032\",\"AOTU033\",\"AOTU033\",\"AOTU033\",\"AOTU033\",\"AOTU033\",\"AOTU033\",\"AOTU033\",\"AOTU033\",\"AOTU033\",\"AOTU033\",\"AOTU033\",\"AOTU033\",\"AOTU033\",\"AOTU033\",\"AOTU033\",\"AOTU033\",\"AOTU033\",\"AOTU033\",\"AOTU033\",\"AOTU033\",\"AOTU033\",\"AOTU033\",\"AOTU033\",\"AOTU033\",\"AOTU033\",\"AOTU033\",\"AOTU033\",\"AOTU033\",\"AOTU033\",\"AOTU033\",\"AOTU033\",\"AOTU033\",\"AOTU033\",\"AOTU033\",\"AOTU033\",\"AOTU033\",\"AOTU033\",\"AOTU033\",\"AOTU033\",\"AOTU033\",\"AOTU033\",\"AOTU033\",\"AOTU033\",\"AOTU033\",\"AOTU033\",\"AOTU033\",\"AOTU033\",\"AOTU033\",\"AOTU033\",\"AOTU033\",\"AOTU033\",\"AOTU033\",\"AOTU033\",\"AOTU033\",\"AOTU033\",\"AOTU033\",\"AOTU033\",\"AOTU033\",\"AOTU033\",\"AOTU033\",\"AOTU033\",\"AOTU033\",\"AOTU033\",\"AOTU033\",\"AOTU033\",\"AOTU033\",\"AOTU033\",\"AOTU033\",\"AOTU033\",\"AOTU033\",\"AOTU033\",\"AOTU033\",\"AOTU033\",\"AOTU033\",\"AOTU033\",\"AOTU033\",\"AOTU033\",\"AOTU033\",\"AOTU033\",\"AOTU033\",\"AOTU033\",\"AOTU033\",\"AOTU033\",\"AOTU033\",\"AOTU033\",\"AOTU033\",\"AOTU033\",\"AOTU033\",\"AOTU033\",\"AOTU033\",\"AOTU033\",\"AOTU033\",\"AOTU033\",\"AOTU033\",\"AOTU033\",\"AOTU033\",\"AOTU033\",\"AOTU033\",\"AOTU033\",\"AOTU033\",\"AOTU033\",\"AOTU033\",\"AOTU033\",\"AOTU033\",\"AOTU033\",\"AOTU033\",\"AOTU033\",\"AOTU033\",\"AOTU033\",\"AOTU033\",\"AOTU033\",\"AOTU033\",\"AOTU033\",\"AOTU033\",\"AOTU033\",\"AOTU033\",\"AOTU033\",\"AOTU033\",\"AOTU033\",\"AOTU033\",\"AOTU033\",\"AOTU033\",\"AOTU033\",\"AOTU033\",\"AOTU033\",\"AOTU033\",\"AOTU033\",\"AOTU033\",\"AOTU033\",\"AOTU033\",\"AOTU033\",\"AOTU033\",\"AOTU033\",\"AOTU033\",\"AOTU033\",\"AOTU033\",\"AOTU033\",\"AOTU033\",\"AOTU033\",\"AOTU033\",\"AOTU034\",\"AOTU034\",\"AOTU034\",\"AOTU034\",\"AOTU034\",\"AOTU034\",\"AOTU034\",\"AOTU034\",\"AOTU034\",\"AOTU034\",\"AOTU034\",\"AOTU034\",\"AOTU034\",\"AOTU034\",\"AOTU034\",\"AOTU034\",\"AOTU034\",\"AOTU034\",\"AOTU034\",\"AOTU034\",\"AOTU034\",\"AOTU034\",\"AOTU034\",\"AOTU034\",\"AOTU034\",\"AOTU034\",\"AOTU034\",\"AOTU034\",\"AOTU034\",\"AOTU034\",\"AOTU034\",\"AOTU034\",\"AOTU034\",\"AOTU034\",\"AOTU034\",\"AOTU034\",\"AOTU034\",\"AOTU034\",\"AOTU034\",\"AOTU034\",\"AOTU034\",\"AOTU034\",\"AOTU034\",\"AOTU034\",\"AOTU034\",\"AOTU034\",\"AOTU034\",\"AOTU034\",\"AOTU034\",\"AOTU034\",\"AOTU034\",\"AOTU034\",\"AOTU034\",\"AOTU034\",\"AOTU034\",\"AOTU034\",\"AOTU034\",\"AOTU034\",\"AOTU034\",\"AOTU034\",\"AOTU034\",\"AOTU034\",\"AOTU034\",\"AOTU034\",\"AOTU034\",\"AOTU034\",\"AOTU034\",\"AOTU034\",\"AOTU034\",\"AOTU034\",\"AOTU034\",\"AOTU034\",\"AOTU034\",\"AOTU034\",\"AOTU034\",\"AOTU034\",\"AOTU034\",\"AOTU034\",\"AOTU034\",\"AOTU034\",\"AOTU034\",\"AOTU034\",\"AOTU034\",\"AOTU034\",\"AOTU034\",\"AOTU034\",\"AOTU034\",\"AOTU034\",\"AOTU034\",\"AOTU034\",\"AOTU034\",\"AOTU034\",\"AOTU034\",\"AOTU034\",\"AOTU034\",\"AOTU034\",\"AOTU034\",\"AOTU034\",\"AOTU034\",\"AOTU034\",\"AOTU034\",\"AOTU034\",\"AOTU034\",\"AOTU034\",\"AOTU034\",\"AOTU034\",\"AOTU034\",\"AOTU034\",\"AOTU034\",\"AOTU034\",\"AOTU034\",\"AOTU034\",\"AOTU034\",\"AOTU034\",\"AOTU034\",\"AOTU034\",\"AOTU034\",\"AOTU034\",\"AOTU034\",\"AOTU034\",\"AOTU034\",\"AOTU034\",\"AOTU034\",\"AOTU034\",\"AOTU034\",\"AOTU034\",\"AOTU034\",\"AOTU034\",\"AOTU034\",\"AOTU034\",\"AOTU034\",\"AOTU034\",\"AOTU034\",\"AOTU034\",\"AOTU034\",\"AOTU034\",\"AOTU034\",\"AOTU034\",\"AOTU034\",\"AOTU034\",\"AOTU035\",\"AOTU035\",\"AOTU035\",\"AOTU035\",\"AOTU035\",\"AOTU035\",\"AOTU035\",\"AOTU035\",\"AOTU035\",\"AOTU035\",\"AOTU035\",\"AOTU035\",\"AOTU035\",\"AOTU035\",\"AOTU035\",\"AOTU035\",\"AOTU035\",\"AOTU035\",\"AOTU035\",\"AOTU035\",\"AOTU035\",\"AOTU035\",\"AOTU035\",\"AOTU035\",\"AOTU035\",\"AOTU035\",\"AOTU035\",\"AOTU035\",\"AOTU035\",\"AOTU035\",\"AOTU035\",\"AOTU035\",\"AOTU035\",\"AOTU035\",\"AOTU035\",\"AOTU035\",\"AOTU035\",\"AOTU035\",\"AOTU035\",\"AOTU035\",\"AOTU035\",\"AOTU035\",\"AOTU035\",\"AOTU035\",\"AOTU035\",\"AOTU035\",\"AOTU035\",\"AOTU035\",\"AOTU035\",\"AOTU035\",\"AOTU035\",\"AOTU035\",\"AOTU035\",\"AOTU035\",\"AOTU035\",\"AOTU035\",\"AOTU035\",\"AOTU035\",\"AOTU035\",\"AOTU035\",\"AOTU035\",\"AOTU035\",\"AOTU035\",\"AOTU035\",\"AOTU035\",\"AOTU035\",\"AOTU035\",\"AOTU035\",\"AOTU035\",\"AOTU035\",\"AOTU035\",\"AOTU035\",\"AOTU035\",\"AOTU035\",\"AOTU035\",\"AOTU035\",\"AOTU035\",\"AOTU035\",\"AOTU035\",\"AOTU035\",\"AOTU035\",\"AOTU035\",\"AOTU035\",\"AOTU035\",\"AOTU035\",\"AOTU035\",\"AOTU035\",\"AOTU035\",\"AOTU035\",\"AOTU035\",\"AOTU035\",\"AOTU035\",\"AOTU035\",\"AOTU035\",\"AOTU035\",\"AOTU035\",\"AOTU035\",\"AOTU035\",\"AOTU035\",\"AOTU035\",\"AOTU035\",\"AOTU035\",\"AOTU035\",\"AOTU035\",\"AOTU035\",\"AOTU035\",\"AOTU035\",\"AOTU035\",\"AOTU035\",\"AOTU035\",\"AOTU035\",\"AOTU035\",\"AOTU035\",\"AOTU035\",\"AOTU035\",\"AOTU035\",\"AOTU035\",\"AOTU035\",\"AOTU035\",\"AOTU035\",\"AOTU035\",\"AOTU035\",\"AOTU035\",\"AOTU035\",\"AOTU035\",\"AOTU035\",\"AOTU035\",\"AOTU035\",\"AOTU035\",\"AOTU035\",\"AOTU035\",\"AOTU035\",\"AOTU035\",\"AOTU035\",\"AOTU035\",\"AOTU035\",\"AOTU035\",\"AOTU035\",\"AOTU035\",\"AOTU035\",\"AOTU036\",\"AOTU036\",\"AOTU036\",\"AOTU036\",\"AOTU036\",\"AOTU036\",\"AOTU036\",\"AOTU036\",\"AOTU036\",\"AOTU036\",\"AOTU036\",\"AOTU036\",\"AOTU036\",\"AOTU036\",\"AOTU036\",\"AOTU036\",\"AOTU036\",\"AOTU036\",\"AOTU036\",\"AOTU036\",\"AOTU036\",\"AOTU036\",\"AOTU036\",\"AOTU036\",\"AOTU036\",\"AOTU036\",\"AOTU036\",\"AOTU036\",\"AOTU036\",\"AOTU036\",\"AOTU036\",\"AOTU036\",\"AOTU036\",\"AOTU036\",\"AOTU036\",\"AOTU036\",\"AOTU036\",\"AOTU036\",\"AOTU036\",\"AOTU036\",\"AOTU036\",\"AOTU036\",\"AOTU036\",\"AOTU036\",\"AOTU036\",\"AOTU036\",\"AOTU036\",\"AOTU036\",\"AOTU036\",\"AOTU036\",\"AOTU036\",\"AOTU036\",\"AOTU036\",\"AOTU036\",\"AOTU036\",\"AOTU036\",\"AOTU036\",\"AOTU036\",\"AOTU036\",\"AOTU036\",\"AOTU036\",\"AOTU036\",\"AOTU036\",\"AOTU036\",\"AOTU036\",\"AOTU036\",\"AOTU036\",\"AOTU036\",\"AOTU036\",\"AOTU036\",\"AOTU036\",\"AOTU036\",\"AOTU036\",\"AOTU036\",\"AOTU036\",\"AOTU036\",\"AOTU036\",\"AOTU036\",\"AOTU036\",\"AOTU036\",\"AOTU036\",\"AOTU036\",\"AOTU036\",\"AOTU036\",\"AOTU036\",\"AOTU036\",\"AOTU036\",\"AOTU036\",\"AOTU036\",\"AOTU036\",\"AOTU036\",\"AOTU036\",\"AOTU036\",\"AOTU036\",\"AOTU036\",\"AOTU036\",\"AOTU036\",\"AOTU036\",\"AOTU036\",\"AOTU036\",\"AOTU036\",\"AOTU036\",\"AOTU036\",\"AOTU036\",\"AOTU036\",\"AOTU036\",\"AOTU036\",\"AOTU036\",\"AOTU036\",\"AOTU036\",\"AOTU036\",\"AOTU036\",\"AOTU036\",\"AOTU036\",\"AOTU036\",\"AOTU036\",\"AOTU036\",\"AOTU036\",\"AOTU036\",\"AOTU036\",\"AOTU036\",\"AOTU036\",\"AOTU036\",\"AOTU036\",\"AOTU036\",\"AOTU036\",\"AOTU036\",\"AOTU036\",\"AOTU036\",\"AOTU036\",\"AOTU036\",\"AOTU036\",\"AOTU036\",\"AOTU036\",\"AOTU036\",\"AOTU036\",\"AOTU036\",\"AOTU036\",\"AOTU036\",\"AOTU036\",\"AOTU037\",\"AOTU037\",\"AOTU037\",\"AOTU037\",\"AOTU037\",\"AOTU037\",\"AOTU037\",\"AOTU037\",\"AOTU037\",\"AOTU037\",\"AOTU037\",\"AOTU037\",\"AOTU037\",\"AOTU037\",\"AOTU037\",\"AOTU037\",\"AOTU037\",\"AOTU037\",\"AOTU037\",\"AOTU037\",\"AOTU037\",\"AOTU037\",\"AOTU037\",\"AOTU037\",\"AOTU037\",\"AOTU037\",\"AOTU037\",\"AOTU037\",\"AOTU037\",\"AOTU037\",\"AOTU037\",\"AOTU037\",\"AOTU037\",\"AOTU037\",\"AOTU037\",\"AOTU037\",\"AOTU037\",\"AOTU037\",\"AOTU037\",\"AOTU037\",\"AOTU037\",\"AOTU037\",\"AOTU037\",\"AOTU037\",\"AOTU037\",\"AOTU037\",\"AOTU037\",\"AOTU037\",\"AOTU037\",\"AOTU037\",\"AOTU037\",\"AOTU037\",\"AOTU037\",\"AOTU037\",\"AOTU037\",\"AOTU037\",\"AOTU037\",\"AOTU037\",\"AOTU037\",\"AOTU037\",\"AOTU037\",\"AOTU037\",\"AOTU037\",\"AOTU037\",\"AOTU037\",\"AOTU037\",\"AOTU037\",\"AOTU037\",\"AOTU037\",\"AOTU037\",\"AOTU037\",\"AOTU037\",\"AOTU037\",\"AOTU037\",\"AOTU037\",\"AOTU037\",\"AOTU037\",\"AOTU037\",\"AOTU037\",\"AOTU037\",\"AOTU037\",\"AOTU037\",\"AOTU037\",\"AOTU037\",\"AOTU037\",\"AOTU037\",\"AOTU037\",\"AOTU037\",\"AOTU037\",\"AOTU037\",\"AOTU037\",\"AOTU037\",\"AOTU037\",\"AOTU037\",\"AOTU037\",\"AOTU037\",\"AOTU037\",\"AOTU037\",\"AOTU037\",\"AOTU037\",\"AOTU037\",\"AOTU037\",\"AOTU037\",\"AOTU037\",\"AOTU037\",\"AOTU037\",\"AOTU037\",\"AOTU037\",\"AOTU037\",\"AOTU037\",\"AOTU037\",\"AOTU037\",\"AOTU037\",\"AOTU037\",\"AOTU037\",\"AOTU037\",\"AOTU037\",\"AOTU037\",\"AOTU037\",\"AOTU037\",\"AOTU037\",\"AOTU037\",\"AOTU037\",\"AOTU037\",\"AOTU037\",\"AOTU037\",\"AOTU037\",\"AOTU037\",\"AOTU037\",\"AOTU037\",\"AOTU037\",\"AOTU037\",\"AOTU037\",\"AOTU037\",\"AOTU037\",\"AOTU037\",\"AOTU037\",\"AOTU037\",\"AOTU037\",\"AOTU037\",\"AOTU038\",\"AOTU038\",\"AOTU038\",\"AOTU038\",\"AOTU038\",\"AOTU038\",\"AOTU038\",\"AOTU038\",\"AOTU038\",\"AOTU038\",\"AOTU038\",\"AOTU038\",\"AOTU038\",\"AOTU038\",\"AOTU038\",\"AOTU038\",\"AOTU038\",\"AOTU038\",\"AOTU038\",\"AOTU038\",\"AOTU038\",\"AOTU038\",\"AOTU038\",\"AOTU038\",\"AOTU038\",\"AOTU038\",\"AOTU038\",\"AOTU038\",\"AOTU038\",\"AOTU038\",\"AOTU038\",\"AOTU038\",\"AOTU038\",\"AOTU038\",\"AOTU038\",\"AOTU038\",\"AOTU038\",\"AOTU038\",\"AOTU038\",\"AOTU038\",\"AOTU038\",\"AOTU038\",\"AOTU038\",\"AOTU038\",\"AOTU038\",\"AOTU038\",\"AOTU038\",\"AOTU038\",\"AOTU038\",\"AOTU038\",\"AOTU038\",\"AOTU038\",\"AOTU038\",\"AOTU038\",\"AOTU038\",\"AOTU038\",\"AOTU038\",\"AOTU038\",\"AOTU038\",\"AOTU038\",\"AOTU038\",\"AOTU038\",\"AOTU038\",\"AOTU038\",\"AOTU038\",\"AOTU038\",\"AOTU038\",\"AOTU038\",\"AOTU038\",\"AOTU038\",\"AOTU038\",\"AOTU038\",\"AOTU038\",\"AOTU038\",\"AOTU038\",\"AOTU038\",\"AOTU038\",\"AOTU038\",\"AOTU038\",\"AOTU038\",\"AOTU038\",\"AOTU038\",\"AOTU038\",\"AOTU038\",\"AOTU038\",\"AOTU038\",\"AOTU038\",\"AOTU038\",\"AOTU038\",\"AOTU038\",\"AOTU038\",\"AOTU038\",\"AOTU038\",\"AOTU038\",\"AOTU038\",\"AOTU038\",\"AOTU038\",\"AOTU038\",\"AOTU038\",\"AOTU038\",\"AOTU038\",\"AOTU038\",\"AOTU038\",\"AOTU038\",\"AOTU038\",\"AOTU038\",\"AOTU038\",\"AOTU038\",\"AOTU038\",\"AOTU038\",\"AOTU038\",\"AOTU038\",\"AOTU038\",\"AOTU038\",\"AOTU038\",\"AOTU038\",\"AOTU038\",\"AOTU038\",\"AOTU038\",\"AOTU038\",\"AOTU038\",\"AOTU038\",\"AOTU038\",\"AOTU038\",\"AOTU038\",\"AOTU038\",\"AOTU038\",\"AOTU038\",\"AOTU038\",\"AOTU038\",\"AOTU038\",\"AOTU038\",\"AOTU038\",\"AOTU038\",\"AOTU038\",\"AOTU038\",\"AOTU038\",\"AOTU038\",\"AOTU038\",\"AOTU038\",\"AOTU041\",\"AOTU041\",\"AOTU041\",\"AOTU041\",\"AOTU041\",\"AOTU041\",\"AOTU041\",\"AOTU041\",\"AOTU041\",\"AOTU041\",\"AOTU041\",\"AOTU041\",\"AOTU041\",\"AOTU041\",\"AOTU041\",\"AOTU041\",\"AOTU041\",\"AOTU041\",\"AOTU041\",\"AOTU041\",\"AOTU041\",\"AOTU041\",\"AOTU041\",\"AOTU041\",\"AOTU041\",\"AOTU041\",\"AOTU041\",\"AOTU041\",\"AOTU041\",\"AOTU041\",\"AOTU041\",\"AOTU041\",\"AOTU041\",\"AOTU041\",\"AOTU041\",\"AOTU041\",\"AOTU041\",\"AOTU041\",\"AOTU041\",\"AOTU041\",\"AOTU041\",\"AOTU041\",\"AOTU041\",\"AOTU041\",\"AOTU041\",\"AOTU041\",\"AOTU041\",\"AOTU041\",\"AOTU041\",\"AOTU041\",\"AOTU041\",\"AOTU041\",\"AOTU041\",\"AOTU041\",\"AOTU041\",\"AOTU041\",\"AOTU041\",\"AOTU041\",\"AOTU041\",\"AOTU041\",\"AOTU041\",\"AOTU041\",\"AOTU041\",\"AOTU041\",\"AOTU041\",\"AOTU041\",\"AOTU041\",\"AOTU041\",\"AOTU041\",\"AOTU041\",\"AOTU041\",\"AOTU041\",\"AOTU041\",\"AOTU041\",\"AOTU041\",\"AOTU041\",\"AOTU041\",\"AOTU041\",\"AOTU041\",\"AOTU041\",\"AOTU041\",\"AOTU041\",\"AOTU041\",\"AOTU041\",\"AOTU041\",\"AOTU041\",\"AOTU041\",\"AOTU041\",\"AOTU041\",\"AOTU041\",\"AOTU041\",\"AOTU041\",\"AOTU041\",\"AOTU041\",\"AOTU041\",\"AOTU041\",\"AOTU041\",\"AOTU041\",\"AOTU041\",\"AOTU041\",\"AOTU041\",\"AOTU041\",\"AOTU041\",\"AOTU041\",\"AOTU041\",\"AOTU041\",\"AOTU041\",\"AOTU041\",\"AOTU041\",\"AOTU041\",\"AOTU041\",\"AOTU041\",\"AOTU041\",\"AOTU041\",\"AOTU041\",\"AOTU041\",\"AOTU041\",\"AOTU041\",\"AOTU041\",\"AOTU041\",\"AOTU041\",\"AOTU041\",\"AOTU041\",\"AOTU041\",\"AOTU041\",\"AOTU041\",\"AOTU041\",\"AOTU041\",\"AOTU041\",\"AOTU041\",\"AOTU041\",\"AOTU041\",\"AOTU041\",\"AOTU041\",\"AOTU041\",\"AOTU041\",\"AOTU041\",\"AOTU041\",\"AOTU041\",\"AOTU041\",\"AOTU042\",\"AOTU042\",\"AOTU042\",\"AOTU042\",\"AOTU042\",\"AOTU042\",\"AOTU042\",\"AOTU042\",\"AOTU042\",\"AOTU042\",\"AOTU042\",\"AOTU042\",\"AOTU042\",\"AOTU042\",\"AOTU042\",\"AOTU042\",\"AOTU042\",\"AOTU042\",\"AOTU042\",\"AOTU042\",\"AOTU042\",\"AOTU042\",\"AOTU042\",\"AOTU042\",\"AOTU042\",\"AOTU042\",\"AOTU042\",\"AOTU042\",\"AOTU042\",\"AOTU042\",\"AOTU042\",\"AOTU042\",\"AOTU042\",\"AOTU042\",\"AOTU042\",\"AOTU042\",\"AOTU042\",\"AOTU042\",\"AOTU042\",\"AOTU042\",\"AOTU042\",\"AOTU042\",\"AOTU042\",\"AOTU042\",\"AOTU042\",\"AOTU042\",\"AOTU042\",\"AOTU042\",\"AOTU042\",\"AOTU042\",\"AOTU042\",\"AOTU042\",\"AOTU042\",\"AOTU042\",\"AOTU042\",\"AOTU042\",\"AOTU042\",\"AOTU042\",\"AOTU042\",\"AOTU042\",\"AOTU042\",\"AOTU042\",\"AOTU042\",\"AOTU042\",\"AOTU042\",\"AOTU042\",\"AOTU042\",\"AOTU042\",\"AOTU042\",\"AOTU042\",\"AOTU042\",\"AOTU042\",\"AOTU042\",\"AOTU042\",\"AOTU042\",\"AOTU042\",\"AOTU042\",\"AOTU042\",\"AOTU042\",\"AOTU042\",\"AOTU042\",\"AOTU042\",\"AOTU042\",\"AOTU042\",\"AOTU042\",\"AOTU042\",\"AOTU042\",\"AOTU042\",\"AOTU042\",\"AOTU042\",\"AOTU042\",\"AOTU042\",\"AOTU042\",\"AOTU042\",\"AOTU042\",\"AOTU042\",\"AOTU042\",\"AOTU042\",\"AOTU042\",\"AOTU042\",\"AOTU042\",\"AOTU042\",\"AOTU042\",\"AOTU042\",\"AOTU042\",\"AOTU042\",\"AOTU042\",\"AOTU042\",\"AOTU042\",\"AOTU042\",\"AOTU042\",\"AOTU042\",\"AOTU042\",\"AOTU042\",\"AOTU042\",\"AOTU042\",\"AOTU042\",\"AOTU042\",\"AOTU042\",\"AOTU042\",\"AOTU042\",\"AOTU042\",\"AOTU042\",\"AOTU042\",\"AOTU042\",\"AOTU042\",\"AOTU042\",\"AOTU042\",\"AOTU042\",\"AOTU042\",\"AOTU042\",\"AOTU042\",\"AOTU042\",\"AOTU042\",\"AOTU042\",\"AOTU042\",\"AOTU042\",\"AOTU042\",\"AOTU042\",\"AOTU042\",\"AOTU043\",\"AOTU043\",\"AOTU043\",\"AOTU043\",\"AOTU043\",\"AOTU043\",\"AOTU043\",\"AOTU043\",\"AOTU043\",\"AOTU043\",\"AOTU043\",\"AOTU043\",\"AOTU043\",\"AOTU043\",\"AOTU043\",\"AOTU043\",\"AOTU043\",\"AOTU043\",\"AOTU043\",\"AOTU043\",\"AOTU043\",\"AOTU043\",\"AOTU043\",\"AOTU043\",\"AOTU043\",\"AOTU043\",\"AOTU043\",\"AOTU043\",\"AOTU043\",\"AOTU043\",\"AOTU043\",\"AOTU043\",\"AOTU043\",\"AOTU043\",\"AOTU043\",\"AOTU043\",\"AOTU043\",\"AOTU043\",\"AOTU043\",\"AOTU043\",\"AOTU043\",\"AOTU043\",\"AOTU043\",\"AOTU043\",\"AOTU043\",\"AOTU043\",\"AOTU043\",\"AOTU043\",\"AOTU043\",\"AOTU043\",\"AOTU043\",\"AOTU043\",\"AOTU043\",\"AOTU043\",\"AOTU043\",\"AOTU043\",\"AOTU043\",\"AOTU043\",\"AOTU043\",\"AOTU043\",\"AOTU043\",\"AOTU043\",\"AOTU043\",\"AOTU043\",\"AOTU043\",\"AOTU043\",\"AOTU043\",\"AOTU043\",\"AOTU043\",\"AOTU043\",\"AOTU043\",\"AOTU043\",\"AOTU043\",\"AOTU043\",\"AOTU043\",\"AOTU043\",\"AOTU043\",\"AOTU043\",\"AOTU043\",\"AOTU043\",\"AOTU043\",\"AOTU043\",\"AOTU043\",\"AOTU043\",\"AOTU043\",\"AOTU043\",\"AOTU043\",\"AOTU043\",\"AOTU043\",\"AOTU043\",\"AOTU043\",\"AOTU043\",\"AOTU043\",\"AOTU043\",\"AOTU043\",\"AOTU043\",\"AOTU043\",\"AOTU043\",\"AOTU043\",\"AOTU043\",\"AOTU043\",\"AOTU043\",\"AOTU043\",\"AOTU043\",\"AOTU043\",\"AOTU043\",\"AOTU043\",\"AOTU043\",\"AOTU043\",\"AOTU043\",\"AOTU043\",\"AOTU043\",\"AOTU043\",\"AOTU043\",\"AOTU043\",\"AOTU043\",\"AOTU043\",\"AOTU043\",\"AOTU043\",\"AOTU043\",\"AOTU043\",\"AOTU043\",\"AOTU043\",\"AOTU043\",\"AOTU043\",\"AOTU043\",\"AOTU043\",\"AOTU043\",\"AOTU043\",\"AOTU043\",\"AOTU043\",\"AOTU043\",\"AOTU043\",\"AOTU043\",\"AOTU043\",\"AOTU043\",\"AOTU043\",\"AOTU043\",\"AOTU043\",\"AOTU043\",\"AOTU045\",\"AOTU045\",\"AOTU045\",\"AOTU045\",\"AOTU045\",\"AOTU045\",\"AOTU045\",\"AOTU045\",\"AOTU045\",\"AOTU045\",\"AOTU045\",\"AOTU045\",\"AOTU045\",\"AOTU045\",\"AOTU045\",\"AOTU045\",\"AOTU045\",\"AOTU045\",\"AOTU045\",\"AOTU045\",\"AOTU045\",\"AOTU045\",\"AOTU045\",\"AOTU045\",\"AOTU045\",\"AOTU045\",\"AOTU045\",\"AOTU045\",\"AOTU045\",\"AOTU045\",\"AOTU045\",\"AOTU045\",\"AOTU045\",\"AOTU045\",\"AOTU045\",\"AOTU045\",\"AOTU045\",\"AOTU045\",\"AOTU045\",\"AOTU045\",\"AOTU045\",\"AOTU045\",\"AOTU045\",\"AOTU045\",\"AOTU045\",\"AOTU045\",\"AOTU045\",\"AOTU045\",\"AOTU045\",\"AOTU045\",\"AOTU045\",\"AOTU045\",\"AOTU045\",\"AOTU045\",\"AOTU045\",\"AOTU045\",\"AOTU045\",\"AOTU045\",\"AOTU045\",\"AOTU045\",\"AOTU045\",\"AOTU045\",\"AOTU045\",\"AOTU045\",\"AOTU045\",\"AOTU045\",\"AOTU045\",\"AOTU045\",\"AOTU045\",\"AOTU045\",\"AOTU045\",\"AOTU045\",\"AOTU045\",\"AOTU045\",\"AOTU045\",\"AOTU045\",\"AOTU045\",\"AOTU045\",\"AOTU045\",\"AOTU045\",\"AOTU045\",\"AOTU045\",\"AOTU045\",\"AOTU045\",\"AOTU045\",\"AOTU045\",\"AOTU045\",\"AOTU045\",\"AOTU045\",\"AOTU045\",\"AOTU045\",\"AOTU045\",\"AOTU045\",\"AOTU045\",\"AOTU045\",\"AOTU045\",\"AOTU045\",\"AOTU045\",\"AOTU045\",\"AOTU045\",\"AOTU045\",\"AOTU045\",\"AOTU045\",\"AOTU045\",\"AOTU045\",\"AOTU045\",\"AOTU045\",\"AOTU045\",\"AOTU045\",\"AOTU045\",\"AOTU045\",\"AOTU045\",\"AOTU045\",\"AOTU045\",\"AOTU045\",\"AOTU045\",\"AOTU045\",\"AOTU045\",\"AOTU045\",\"AOTU045\",\"AOTU045\",\"AOTU045\",\"AOTU045\",\"AOTU045\",\"AOTU045\",\"AOTU045\",\"AOTU045\",\"AOTU045\",\"AOTU045\",\"AOTU045\",\"AOTU045\",\"AOTU045\",\"AOTU045\",\"AOTU045\",\"AOTU045\",\"AOTU045\",\"AOTU045\",\"AOTU045\",\"AOTU045\",\"AOTU045\",\"AOTU046\",\"AOTU046\",\"AOTU046\",\"AOTU046\",\"AOTU046\",\"AOTU046\",\"AOTU046\",\"AOTU046\",\"AOTU046\",\"AOTU046\",\"AOTU046\",\"AOTU046\",\"AOTU046\",\"AOTU046\",\"AOTU046\",\"AOTU046\",\"AOTU046\",\"AOTU046\",\"AOTU046\",\"AOTU046\",\"AOTU046\",\"AOTU046\",\"AOTU046\",\"AOTU046\",\"AOTU046\",\"AOTU046\",\"AOTU046\",\"AOTU046\",\"AOTU046\",\"AOTU046\",\"AOTU046\",\"AOTU046\",\"AOTU046\",\"AOTU046\",\"AOTU046\",\"AOTU046\",\"AOTU046\",\"AOTU046\",\"AOTU046\",\"AOTU046\",\"AOTU046\",\"AOTU046\",\"AOTU046\",\"AOTU046\",\"AOTU046\",\"AOTU046\",\"AOTU046\",\"AOTU046\",\"AOTU046\",\"AOTU046\",\"AOTU046\",\"AOTU046\",\"AOTU046\",\"AOTU046\",\"AOTU046\",\"AOTU046\",\"AOTU046\",\"AOTU046\",\"AOTU046\",\"AOTU046\",\"AOTU046\",\"AOTU046\",\"AOTU046\",\"AOTU046\",\"AOTU046\",\"AOTU046\",\"AOTU046\",\"AOTU046\",\"AOTU046\",\"AOTU046\",\"AOTU046\",\"AOTU046\",\"AOTU046\",\"AOTU046\",\"AOTU046\",\"AOTU046\",\"AOTU046\",\"AOTU046\",\"AOTU046\",\"AOTU046\",\"AOTU046\",\"AOTU046\",\"AOTU046\",\"AOTU046\",\"AOTU046\",\"AOTU046\",\"AOTU046\",\"AOTU046\",\"AOTU046\",\"AOTU046\",\"AOTU046\",\"AOTU046\",\"AOTU046\",\"AOTU046\",\"AOTU046\",\"AOTU046\",\"AOTU046\",\"AOTU046\",\"AOTU046\",\"AOTU046\",\"AOTU046\",\"AOTU046\",\"AOTU046\",\"AOTU046\",\"AOTU046\",\"AOTU046\",\"AOTU046\",\"AOTU046\",\"AOTU046\",\"AOTU046\",\"AOTU046\",\"AOTU046\",\"AOTU046\",\"AOTU046\",\"AOTU046\",\"AOTU046\",\"AOTU046\",\"AOTU046\",\"AOTU046\",\"AOTU046\",\"AOTU046\",\"AOTU046\",\"AOTU046\",\"AOTU046\",\"AOTU046\",\"AOTU046\",\"AOTU046\",\"AOTU046\",\"AOTU046\",\"AOTU046\",\"AOTU046\",\"AOTU046\",\"AOTU046\",\"AOTU046\",\"AOTU046\",\"AOTU046\",\"AOTU046\",\"AOTU046\",\"AOTU046\",\"AOTU046\",\"AOTU047\",\"AOTU047\",\"AOTU047\",\"AOTU047\",\"AOTU047\",\"AOTU047\",\"AOTU047\",\"AOTU047\",\"AOTU047\",\"AOTU047\",\"AOTU047\",\"AOTU047\",\"AOTU047\",\"AOTU047\",\"AOTU047\",\"AOTU047\",\"AOTU047\",\"AOTU047\",\"AOTU047\",\"AOTU047\",\"AOTU047\",\"AOTU047\",\"AOTU047\",\"AOTU047\",\"AOTU047\",\"AOTU047\",\"AOTU047\",\"AOTU047\",\"AOTU047\",\"AOTU047\",\"AOTU047\",\"AOTU047\",\"AOTU047\",\"AOTU047\",\"AOTU047\",\"AOTU047\",\"AOTU047\",\"AOTU047\",\"AOTU047\",\"AOTU047\",\"AOTU047\",\"AOTU047\",\"AOTU047\",\"AOTU047\",\"AOTU047\",\"AOTU047\",\"AOTU047\",\"AOTU047\",\"AOTU047\",\"AOTU047\",\"AOTU047\",\"AOTU047\",\"AOTU047\",\"AOTU047\",\"AOTU047\",\"AOTU047\",\"AOTU047\",\"AOTU047\",\"AOTU047\",\"AOTU047\",\"AOTU047\",\"AOTU047\",\"AOTU047\",\"AOTU047\",\"AOTU047\",\"AOTU047\",\"AOTU047\",\"AOTU047\",\"AOTU047\",\"AOTU047\",\"AOTU047\",\"AOTU047\",\"AOTU047\",\"AOTU047\",\"AOTU047\",\"AOTU047\",\"AOTU047\",\"AOTU047\",\"AOTU047\",\"AOTU047\",\"AOTU047\",\"AOTU047\",\"AOTU047\",\"AOTU047\",\"AOTU047\",\"AOTU047\",\"AOTU047\",\"AOTU047\",\"AOTU047\",\"AOTU047\",\"AOTU047\",\"AOTU047\",\"AOTU047\",\"AOTU047\",\"AOTU047\",\"AOTU047\",\"AOTU047\",\"AOTU047\",\"AOTU047\",\"AOTU047\",\"AOTU047\",\"AOTU047\",\"AOTU047\",\"AOTU047\",\"AOTU047\",\"AOTU047\",\"AOTU047\",\"AOTU047\",\"AOTU047\",\"AOTU047\",\"AOTU047\",\"AOTU047\",\"AOTU047\",\"AOTU047\",\"AOTU047\",\"AOTU047\",\"AOTU047\",\"AOTU047\",\"AOTU047\",\"AOTU047\",\"AOTU047\",\"AOTU047\",\"AOTU047\",\"AOTU047\",\"AOTU047\",\"AOTU047\",\"AOTU047\",\"AOTU047\",\"AOTU047\",\"AOTU047\",\"AOTU047\",\"AOTU047\",\"AOTU047\",\"AOTU047\",\"AOTU047\",\"AOTU047\",\"AOTU047\",\"AOTU047\",\"AOTU047\",\"AOTU047\",\"AOTU048\",\"AOTU048\",\"AOTU048\",\"AOTU048\",\"AOTU048\",\"AOTU048\",\"AOTU048\",\"AOTU048\",\"AOTU048\",\"AOTU048\",\"AOTU048\",\"AOTU048\",\"AOTU048\",\"AOTU048\",\"AOTU048\",\"AOTU048\",\"AOTU048\",\"AOTU048\",\"AOTU048\",\"AOTU048\",\"AOTU048\",\"AOTU048\",\"AOTU048\",\"AOTU048\",\"AOTU048\",\"AOTU048\",\"AOTU048\",\"AOTU048\",\"AOTU048\",\"AOTU048\",\"AOTU048\",\"AOTU048\",\"AOTU048\",\"AOTU048\",\"AOTU048\",\"AOTU048\",\"AOTU048\",\"AOTU048\",\"AOTU048\",\"AOTU048\",\"AOTU048\",\"AOTU048\",\"AOTU048\",\"AOTU048\",\"AOTU048\",\"AOTU048\",\"AOTU048\",\"AOTU048\",\"AOTU048\",\"AOTU048\",\"AOTU048\",\"AOTU048\",\"AOTU048\",\"AOTU048\",\"AOTU048\",\"AOTU048\",\"AOTU048\",\"AOTU048\",\"AOTU048\",\"AOTU048\",\"AOTU048\",\"AOTU048\",\"AOTU048\",\"AOTU048\",\"AOTU048\",\"AOTU048\",\"AOTU048\",\"AOTU048\",\"AOTU048\",\"AOTU048\",\"AOTU048\",\"AOTU048\",\"AOTU048\",\"AOTU048\",\"AOTU048\",\"AOTU048\",\"AOTU048\",\"AOTU048\",\"AOTU048\",\"AOTU048\",\"AOTU048\",\"AOTU048\",\"AOTU048\",\"AOTU048\",\"AOTU048\",\"AOTU048\",\"AOTU048\",\"AOTU048\",\"AOTU048\",\"AOTU048\",\"AOTU048\",\"AOTU048\",\"AOTU048\",\"AOTU048\",\"AOTU048\",\"AOTU048\",\"AOTU048\",\"AOTU048\",\"AOTU048\",\"AOTU048\",\"AOTU048\",\"AOTU048\",\"AOTU048\",\"AOTU048\",\"AOTU048\",\"AOTU048\",\"AOTU048\",\"AOTU048\",\"AOTU048\",\"AOTU048\",\"AOTU048\",\"AOTU048\",\"AOTU048\",\"AOTU048\",\"AOTU048\",\"AOTU048\",\"AOTU048\",\"AOTU048\",\"AOTU048\",\"AOTU048\",\"AOTU048\",\"AOTU048\",\"AOTU048\",\"AOTU048\",\"AOTU048\",\"AOTU048\",\"AOTU048\",\"AOTU048\",\"AOTU048\",\"AOTU048\",\"AOTU048\",\"AOTU048\",\"AOTU048\",\"AOTU048\",\"AOTU048\",\"AOTU048\",\"AOTU048\",\"AOTU048\",\"AOTU048\",\"AOTU048\",\"AOTU050\",\"AOTU050\",\"AOTU050\",\"AOTU050\",\"AOTU050\",\"AOTU050\",\"AOTU050\",\"AOTU050\",\"AOTU050\",\"AOTU050\",\"AOTU050\",\"AOTU050\",\"AOTU050\",\"AOTU050\",\"AOTU050\",\"AOTU050\",\"AOTU050\",\"AOTU050\",\"AOTU050\",\"AOTU050\",\"AOTU050\",\"AOTU050\",\"AOTU050\",\"AOTU050\",\"AOTU050\",\"AOTU050\",\"AOTU050\",\"AOTU050\",\"AOTU050\",\"AOTU050\",\"AOTU050\",\"AOTU050\",\"AOTU050\",\"AOTU050\",\"AOTU050\",\"AOTU050\",\"AOTU050\",\"AOTU050\",\"AOTU050\",\"AOTU050\",\"AOTU050\",\"AOTU050\",\"AOTU050\",\"AOTU050\",\"AOTU050\",\"AOTU050\",\"AOTU050\",\"AOTU050\",\"AOTU050\",\"AOTU050\",\"AOTU050\",\"AOTU050\",\"AOTU050\",\"AOTU050\",\"AOTU050\",\"AOTU050\",\"AOTU050\",\"AOTU050\",\"AOTU050\",\"AOTU050\",\"AOTU050\",\"AOTU050\",\"AOTU050\",\"AOTU050\",\"AOTU050\",\"AOTU050\",\"AOTU050\",\"AOTU050\",\"AOTU050\",\"AOTU050\",\"AOTU050\",\"AOTU050\",\"AOTU050\",\"AOTU050\",\"AOTU050\",\"AOTU050\",\"AOTU050\",\"AOTU050\",\"AOTU050\",\"AOTU050\",\"AOTU050\",\"AOTU050\",\"AOTU050\",\"AOTU050\",\"AOTU050\",\"AOTU050\",\"AOTU050\",\"AOTU050\",\"AOTU050\",\"AOTU050\",\"AOTU050\",\"AOTU050\",\"AOTU050\",\"AOTU050\",\"AOTU050\",\"AOTU050\",\"AOTU050\",\"AOTU050\",\"AOTU050\",\"AOTU050\",\"AOTU050\",\"AOTU050\",\"AOTU050\",\"AOTU050\",\"AOTU050\",\"AOTU050\",\"AOTU050\",\"AOTU050\",\"AOTU050\",\"AOTU050\",\"AOTU050\",\"AOTU050\",\"AOTU050\",\"AOTU050\",\"AOTU050\",\"AOTU050\",\"AOTU050\",\"AOTU050\",\"AOTU050\",\"AOTU050\",\"AOTU050\",\"AOTU050\",\"AOTU050\",\"AOTU050\",\"AOTU050\",\"AOTU050\",\"AOTU050\",\"AOTU050\",\"AOTU050\",\"AOTU050\",\"AOTU050\",\"AOTU050\",\"AOTU050\",\"AOTU050\",\"AOTU050\",\"AOTU050\",\"AOTU050\",\"AOTU050\",\"AOTU050\",\"AOTU050\",\"AOTU051\",\"AOTU051\",\"AOTU051\",\"AOTU051\",\"AOTU051\",\"AOTU051\",\"AOTU051\",\"AOTU051\",\"AOTU051\",\"AOTU051\",\"AOTU051\",\"AOTU051\",\"AOTU051\",\"AOTU051\",\"AOTU051\",\"AOTU051\",\"AOTU051\",\"AOTU051\",\"AOTU051\",\"AOTU051\",\"AOTU051\",\"AOTU051\",\"AOTU051\",\"AOTU051\",\"AOTU051\",\"AOTU051\",\"AOTU051\",\"AOTU051\",\"AOTU051\",\"AOTU051\",\"AOTU051\",\"AOTU051\",\"AOTU051\",\"AOTU051\",\"AOTU051\",\"AOTU051\",\"AOTU051\",\"AOTU051\",\"AOTU051\",\"AOTU051\",\"AOTU051\",\"AOTU051\",\"AOTU051\",\"AOTU051\",\"AOTU051\",\"AOTU051\",\"AOTU051\",\"AOTU051\",\"AOTU051\",\"AOTU051\",\"AOTU051\",\"AOTU051\",\"AOTU051\",\"AOTU051\",\"AOTU051\",\"AOTU051\",\"AOTU051\",\"AOTU051\",\"AOTU051\",\"AOTU051\",\"AOTU051\",\"AOTU051\",\"AOTU051\",\"AOTU051\",\"AOTU051\",\"AOTU051\",\"AOTU051\",\"AOTU051\",\"AOTU051\",\"AOTU051\",\"AOTU051\",\"AOTU051\",\"AOTU051\",\"AOTU051\",\"AOTU051\",\"AOTU051\",\"AOTU051\",\"AOTU051\",\"AOTU051\",\"AOTU051\",\"AOTU051\",\"AOTU051\",\"AOTU051\",\"AOTU051\",\"AOTU051\",\"AOTU051\",\"AOTU051\",\"AOTU051\",\"AOTU051\",\"AOTU051\",\"AOTU051\",\"AOTU051\",\"AOTU051\",\"AOTU051\",\"AOTU051\",\"AOTU051\",\"AOTU051\",\"AOTU051\",\"AOTU051\",\"AOTU051\",\"AOTU051\",\"AOTU051\",\"AOTU051\",\"AOTU051\",\"AOTU051\",\"AOTU051\",\"AOTU051\",\"AOTU051\",\"AOTU051\",\"AOTU051\",\"AOTU051\",\"AOTU051\",\"AOTU051\",\"AOTU051\",\"AOTU051\",\"AOTU051\",\"AOTU051\",\"AOTU051\",\"AOTU051\",\"AOTU051\",\"AOTU051\",\"AOTU051\",\"AOTU051\",\"AOTU051\",\"AOTU051\",\"AOTU051\",\"AOTU051\",\"AOTU051\",\"AOTU051\",\"AOTU051\",\"AOTU051\",\"AOTU051\",\"AOTU051\",\"AOTU051\",\"AOTU051\",\"AOTU051\",\"AOTU051\",\"AOTU051\",\"AOTU051\",\"AOTU051\",\"AOTU052\",\"AOTU052\",\"AOTU052\",\"AOTU052\",\"AOTU052\",\"AOTU052\",\"AOTU052\",\"AOTU052\",\"AOTU052\",\"AOTU052\",\"AOTU052\",\"AOTU052\",\"AOTU052\",\"AOTU052\",\"AOTU052\",\"AOTU052\",\"AOTU052\",\"AOTU052\",\"AOTU052\",\"AOTU052\",\"AOTU052\",\"AOTU052\",\"AOTU052\",\"AOTU052\",\"AOTU052\",\"AOTU052\",\"AOTU052\",\"AOTU052\",\"AOTU052\",\"AOTU052\",\"AOTU052\",\"AOTU052\",\"AOTU052\",\"AOTU052\",\"AOTU052\",\"AOTU052\",\"AOTU052\",\"AOTU052\",\"AOTU052\",\"AOTU052\",\"AOTU052\",\"AOTU052\",\"AOTU052\",\"AOTU052\",\"AOTU052\",\"AOTU052\",\"AOTU052\",\"AOTU052\",\"AOTU052\",\"AOTU052\",\"AOTU052\",\"AOTU052\",\"AOTU052\",\"AOTU052\",\"AOTU052\",\"AOTU052\",\"AOTU052\",\"AOTU052\",\"AOTU052\",\"AOTU052\",\"AOTU052\",\"AOTU052\",\"AOTU052\",\"AOTU052\",\"AOTU052\",\"AOTU052\",\"AOTU052\",\"AOTU052\",\"AOTU052\",\"AOTU052\",\"AOTU052\",\"AOTU052\",\"AOTU052\",\"AOTU052\",\"AOTU052\",\"AOTU052\",\"AOTU052\",\"AOTU052\",\"AOTU052\",\"AOTU052\",\"AOTU052\",\"AOTU052\",\"AOTU052\",\"AOTU052\",\"AOTU052\",\"AOTU052\",\"AOTU052\",\"AOTU052\",\"AOTU052\",\"AOTU052\",\"AOTU052\",\"AOTU052\",\"AOTU052\",\"AOTU052\",\"AOTU052\",\"AOTU052\",\"AOTU052\",\"AOTU052\",\"AOTU052\",\"AOTU052\",\"AOTU052\",\"AOTU052\",\"AOTU052\",\"AOTU052\",\"AOTU052\",\"AOTU052\",\"AOTU052\",\"AOTU052\",\"AOTU052\",\"AOTU052\",\"AOTU052\",\"AOTU052\",\"AOTU052\",\"AOTU052\",\"AOTU052\",\"AOTU052\",\"AOTU052\",\"AOTU052\",\"AOTU052\",\"AOTU052\",\"AOTU052\",\"AOTU052\",\"AOTU052\",\"AOTU052\",\"AOTU052\",\"AOTU052\",\"AOTU052\",\"AOTU052\",\"AOTU052\",\"AOTU052\",\"AOTU052\",\"AOTU052\",\"AOTU052\",\"AOTU052\",\"AOTU052\",\"AOTU052\",\"AOTU052\",\"AOTU052\",\"AOTU052\",\"AOTU052\",\"AOTU053\",\"AOTU053\",\"AOTU053\",\"AOTU053\",\"AOTU053\",\"AOTU053\",\"AOTU053\",\"AOTU053\",\"AOTU053\",\"AOTU053\",\"AOTU053\",\"AOTU053\",\"AOTU053\",\"AOTU053\",\"AOTU053\",\"AOTU053\",\"AOTU053\",\"AOTU053\",\"AOTU053\",\"AOTU053\",\"AOTU053\",\"AOTU053\",\"AOTU053\",\"AOTU053\",\"AOTU053\",\"AOTU053\",\"AOTU053\",\"AOTU053\",\"AOTU053\",\"AOTU053\",\"AOTU053\",\"AOTU053\",\"AOTU053\",\"AOTU053\",\"AOTU053\",\"AOTU053\",\"AOTU053\",\"AOTU053\",\"AOTU053\",\"AOTU053\",\"AOTU053\",\"AOTU053\",\"AOTU053\",\"AOTU053\",\"AOTU053\",\"AOTU053\",\"AOTU053\",\"AOTU053\",\"AOTU053\",\"AOTU053\",\"AOTU053\",\"AOTU053\",\"AOTU053\",\"AOTU053\",\"AOTU053\",\"AOTU053\",\"AOTU053\",\"AOTU053\",\"AOTU053\",\"AOTU053\",\"AOTU053\",\"AOTU053\",\"AOTU053\",\"AOTU053\",\"AOTU053\",\"AOTU053\",\"AOTU053\",\"AOTU053\",\"AOTU053\",\"AOTU053\",\"AOTU053\",\"AOTU053\",\"AOTU053\",\"AOTU053\",\"AOTU053\",\"AOTU053\",\"AOTU053\",\"AOTU053\",\"AOTU053\",\"AOTU053\",\"AOTU053\",\"AOTU053\",\"AOTU053\",\"AOTU053\",\"AOTU053\",\"AOTU053\",\"AOTU053\",\"AOTU053\",\"AOTU053\",\"AOTU053\",\"AOTU053\",\"AOTU053\",\"AOTU053\",\"AOTU053\",\"AOTU053\",\"AOTU053\",\"AOTU053\",\"AOTU053\",\"AOTU053\",\"AOTU053\",\"AOTU053\",\"AOTU053\",\"AOTU053\",\"AOTU053\",\"AOTU053\",\"AOTU053\",\"AOTU053\",\"AOTU053\",\"AOTU053\",\"AOTU053\",\"AOTU053\",\"AOTU053\",\"AOTU053\",\"AOTU053\",\"AOTU053\",\"AOTU053\",\"AOTU053\",\"AOTU053\",\"AOTU053\",\"AOTU053\",\"AOTU053\",\"AOTU053\",\"AOTU053\",\"AOTU053\",\"AOTU053\",\"AOTU053\",\"AOTU053\",\"AOTU053\",\"AOTU053\",\"AOTU053\",\"AOTU053\",\"AOTU053\",\"AOTU053\",\"AOTU053\",\"AOTU053\",\"AOTU053\",\"AOTU053\",\"AOTU053\",\"AOTU053\",\"AOTU053\",\"AOTU054\",\"AOTU054\",\"AOTU054\",\"AOTU054\",\"AOTU054\",\"AOTU054\",\"AOTU054\",\"AOTU054\",\"AOTU054\",\"AOTU054\",\"AOTU054\",\"AOTU054\",\"AOTU054\",\"AOTU054\",\"AOTU054\",\"AOTU054\",\"AOTU054\",\"AOTU054\",\"AOTU054\",\"AOTU054\",\"AOTU054\",\"AOTU054\",\"AOTU054\",\"AOTU054\",\"AOTU054\",\"AOTU054\",\"AOTU054\",\"AOTU054\",\"AOTU054\",\"AOTU054\",\"AOTU054\",\"AOTU054\",\"AOTU054\",\"AOTU054\",\"AOTU054\",\"AOTU054\",\"AOTU054\",\"AOTU054\",\"AOTU054\",\"AOTU054\",\"AOTU054\",\"AOTU054\",\"AOTU054\",\"AOTU054\",\"AOTU054\",\"AOTU054\",\"AOTU054\",\"AOTU054\",\"AOTU054\",\"AOTU054\",\"AOTU054\",\"AOTU054\",\"AOTU054\",\"AOTU054\",\"AOTU054\",\"AOTU054\",\"AOTU054\",\"AOTU054\",\"AOTU054\",\"AOTU054\",\"AOTU054\",\"AOTU054\",\"AOTU054\",\"AOTU054\",\"AOTU054\",\"AOTU054\",\"AOTU054\",\"AOTU054\",\"AOTU054\",\"AOTU054\",\"AOTU054\",\"AOTU054\",\"AOTU054\",\"AOTU054\",\"AOTU054\",\"AOTU054\",\"AOTU054\",\"AOTU054\",\"AOTU054\",\"AOTU054\",\"AOTU054\",\"AOTU054\",\"AOTU054\",\"AOTU054\",\"AOTU054\",\"AOTU054\",\"AOTU054\",\"AOTU054\",\"AOTU054\",\"AOTU054\",\"AOTU054\",\"AOTU054\",\"AOTU054\",\"AOTU054\",\"AOTU054\",\"AOTU054\",\"AOTU054\",\"AOTU054\",\"AOTU054\",\"AOTU054\",\"AOTU054\",\"AOTU054\",\"AOTU054\",\"AOTU054\",\"AOTU054\",\"AOTU054\",\"AOTU054\",\"AOTU054\",\"AOTU054\",\"AOTU054\",\"AOTU054\",\"AOTU054\",\"AOTU054\",\"AOTU054\",\"AOTU054\",\"AOTU054\",\"AOTU054\",\"AOTU054\",\"AOTU054\",\"AOTU054\",\"AOTU054\",\"AOTU054\",\"AOTU054\",\"AOTU054\",\"AOTU054\",\"AOTU054\",\"AOTU054\",\"AOTU054\",\"AOTU054\",\"AOTU054\",\"AOTU054\",\"AOTU054\",\"AOTU054\",\"AOTU054\",\"AOTU054\",\"AOTU054\",\"AOTU054\",\"AOTU054\",\"AOTU054\",\"AOTU054\",\"AOTU058\",\"AOTU058\",\"AOTU058\",\"AOTU058\",\"AOTU058\",\"AOTU058\",\"AOTU058\",\"AOTU058\",\"AOTU058\",\"AOTU058\",\"AOTU058\",\"AOTU058\",\"AOTU058\",\"AOTU058\",\"AOTU058\",\"AOTU058\",\"AOTU058\",\"AOTU058\",\"AOTU058\",\"AOTU058\",\"AOTU058\",\"AOTU058\",\"AOTU058\",\"AOTU058\",\"AOTU058\",\"AOTU058\",\"AOTU058\",\"AOTU058\",\"AOTU058\",\"AOTU058\",\"AOTU058\",\"AOTU058\",\"AOTU058\",\"AOTU058\",\"AOTU058\",\"AOTU058\",\"AOTU058\",\"AOTU058\",\"AOTU058\",\"AOTU058\",\"AOTU058\",\"AOTU058\",\"AOTU058\",\"AOTU058\",\"AOTU058\",\"AOTU058\",\"AOTU058\",\"AOTU058\",\"AOTU058\",\"AOTU058\",\"AOTU058\",\"AOTU058\",\"AOTU058\",\"AOTU058\",\"AOTU058\",\"AOTU058\",\"AOTU058\",\"AOTU058\",\"AOTU058\",\"AOTU058\",\"AOTU058\",\"AOTU058\",\"AOTU058\",\"AOTU058\",\"AOTU058\",\"AOTU058\",\"AOTU058\",\"AOTU058\",\"AOTU058\",\"AOTU058\",\"AOTU058\",\"AOTU058\",\"AOTU058\",\"AOTU058\",\"AOTU058\",\"AOTU058\",\"AOTU058\",\"AOTU058\",\"AOTU058\",\"AOTU058\",\"AOTU058\",\"AOTU058\",\"AOTU058\",\"AOTU058\",\"AOTU058\",\"AOTU058\",\"AOTU058\",\"AOTU058\",\"AOTU058\",\"AOTU058\",\"AOTU058\",\"AOTU058\",\"AOTU058\",\"AOTU058\",\"AOTU058\",\"AOTU058\",\"AOTU058\",\"AOTU058\",\"AOTU058\",\"AOTU058\",\"AOTU058\",\"AOTU058\",\"AOTU058\",\"AOTU058\",\"AOTU058\",\"AOTU058\",\"AOTU058\",\"AOTU058\",\"AOTU058\",\"AOTU058\",\"AOTU058\",\"AOTU058\",\"AOTU058\",\"AOTU058\",\"AOTU058\",\"AOTU058\",\"AOTU058\",\"AOTU058\",\"AOTU058\",\"AOTU058\",\"AOTU058\",\"AOTU058\",\"AOTU058\",\"AOTU058\",\"AOTU058\",\"AOTU058\",\"AOTU058\",\"AOTU058\",\"AOTU058\",\"AOTU058\",\"AOTU058\",\"AOTU058\",\"AOTU058\",\"AOTU058\",\"AOTU058\",\"AOTU058\",\"AOTU058\",\"AOTU058\",\"AOTU058\",\"AOTU058\",\"AOTU059\",\"AOTU059\",\"AOTU059\",\"AOTU059\",\"AOTU059\",\"AOTU059\",\"AOTU059\",\"AOTU059\",\"AOTU059\",\"AOTU059\",\"AOTU059\",\"AOTU059\",\"AOTU059\",\"AOTU059\",\"AOTU059\",\"AOTU059\",\"AOTU059\",\"AOTU059\",\"AOTU059\",\"AOTU059\",\"AOTU059\",\"AOTU059\",\"AOTU059\",\"AOTU059\",\"AOTU059\",\"AOTU059\",\"AOTU059\",\"AOTU059\",\"AOTU059\",\"AOTU059\",\"AOTU059\",\"AOTU059\",\"AOTU059\",\"AOTU059\",\"AOTU059\",\"AOTU059\",\"AOTU059\",\"AOTU059\",\"AOTU059\",\"AOTU059\",\"AOTU059\",\"AOTU059\",\"AOTU059\",\"AOTU059\",\"AOTU059\",\"AOTU059\",\"AOTU059\",\"AOTU059\",\"AOTU059\",\"AOTU059\",\"AOTU059\",\"AOTU059\",\"AOTU059\",\"AOTU059\",\"AOTU059\",\"AOTU059\",\"AOTU059\",\"AOTU059\",\"AOTU059\",\"AOTU059\",\"AOTU059\",\"AOTU059\",\"AOTU059\",\"AOTU059\",\"AOTU059\",\"AOTU059\",\"AOTU059\",\"AOTU059\",\"AOTU059\",\"AOTU059\",\"AOTU059\",\"AOTU059\",\"AOTU059\",\"AOTU059\",\"AOTU059\",\"AOTU059\",\"AOTU059\",\"AOTU059\",\"AOTU059\",\"AOTU059\",\"AOTU059\",\"AOTU059\",\"AOTU059\",\"AOTU059\",\"AOTU059\",\"AOTU059\",\"AOTU059\",\"AOTU059\",\"AOTU059\",\"AOTU059\",\"AOTU059\",\"AOTU059\",\"AOTU059\",\"AOTU059\",\"AOTU059\",\"AOTU059\",\"AOTU059\",\"AOTU059\",\"AOTU059\",\"AOTU059\",\"AOTU059\",\"AOTU059\",\"AOTU059\",\"AOTU059\",\"AOTU059\",\"AOTU059\",\"AOTU059\",\"AOTU059\",\"AOTU059\",\"AOTU059\",\"AOTU059\",\"AOTU059\",\"AOTU059\",\"AOTU059\",\"AOTU059\",\"AOTU059\",\"AOTU059\",\"AOTU059\",\"AOTU059\",\"AOTU059\",\"AOTU059\",\"AOTU059\",\"AOTU059\",\"AOTU059\",\"AOTU059\",\"AOTU059\",\"AOTU059\",\"AOTU059\",\"AOTU059\",\"AOTU059\",\"AOTU059\",\"AOTU059\",\"AOTU059\",\"AOTU059\",\"AOTU059\",\"AOTU059\",\"AOTU059\",\"AOTU059\",\"AOTU059\",\"AOTU059\",\"AOTU060\",\"AOTU060\",\"AOTU060\",\"AOTU060\",\"AOTU060\",\"AOTU060\",\"AOTU060\",\"AOTU060\",\"AOTU060\",\"AOTU060\",\"AOTU060\",\"AOTU060\",\"AOTU060\",\"AOTU060\",\"AOTU060\",\"AOTU060\",\"AOTU060\",\"AOTU060\",\"AOTU060\",\"AOTU060\",\"AOTU060\",\"AOTU060\",\"AOTU060\",\"AOTU060\",\"AOTU060\",\"AOTU060\",\"AOTU060\",\"AOTU060\",\"AOTU060\",\"AOTU060\",\"AOTU060\",\"AOTU060\",\"AOTU060\",\"AOTU060\",\"AOTU060\",\"AOTU060\",\"AOTU060\",\"AOTU060\",\"AOTU060\",\"AOTU060\",\"AOTU060\",\"AOTU060\",\"AOTU060\",\"AOTU060\",\"AOTU060\",\"AOTU060\",\"AOTU060\",\"AOTU060\",\"AOTU060\",\"AOTU060\",\"AOTU060\",\"AOTU060\",\"AOTU060\",\"AOTU060\",\"AOTU060\",\"AOTU060\",\"AOTU060\",\"AOTU060\",\"AOTU060\",\"AOTU060\",\"AOTU060\",\"AOTU060\",\"AOTU060\",\"AOTU060\",\"AOTU060\",\"AOTU060\",\"AOTU060\",\"AOTU060\",\"AOTU060\",\"AOTU060\",\"AOTU060\",\"AOTU060\",\"AOTU060\",\"AOTU060\",\"AOTU060\",\"AOTU060\",\"AOTU060\",\"AOTU060\",\"AOTU060\",\"AOTU060\",\"AOTU060\",\"AOTU060\",\"AOTU060\",\"AOTU060\",\"AOTU060\",\"AOTU060\",\"AOTU060\",\"AOTU060\",\"AOTU060\",\"AOTU060\",\"AOTU060\",\"AOTU060\",\"AOTU060\",\"AOTU060\",\"AOTU060\",\"AOTU060\",\"AOTU060\",\"AOTU060\",\"AOTU060\",\"AOTU060\",\"AOTU060\",\"AOTU060\",\"AOTU060\",\"AOTU060\",\"AOTU060\",\"AOTU060\",\"AOTU060\",\"AOTU060\",\"AOTU060\",\"AOTU060\",\"AOTU060\",\"AOTU060\",\"AOTU060\",\"AOTU060\",\"AOTU060\",\"AOTU060\",\"AOTU060\",\"AOTU060\",\"AOTU060\",\"AOTU060\",\"AOTU060\",\"AOTU060\",\"AOTU060\",\"AOTU060\",\"AOTU060\",\"AOTU060\",\"AOTU060\",\"AOTU060\",\"AOTU060\",\"AOTU060\",\"AOTU060\",\"AOTU060\",\"AOTU060\",\"AOTU060\",\"AOTU060\",\"AOTU060\",\"AOTU060\",\"AOTU060\",\"AOTU060\",\"AOTU060\",\"AOTU061\",\"AOTU061\",\"AOTU061\",\"AOTU061\",\"AOTU061\",\"AOTU061\",\"AOTU061\",\"AOTU061\",\"AOTU061\",\"AOTU061\",\"AOTU061\",\"AOTU061\",\"AOTU061\",\"AOTU061\",\"AOTU061\",\"AOTU061\",\"AOTU061\",\"AOTU061\",\"AOTU061\",\"AOTU061\",\"AOTU061\",\"AOTU061\",\"AOTU061\",\"AOTU061\",\"AOTU061\",\"AOTU061\",\"AOTU061\",\"AOTU061\",\"AOTU061\",\"AOTU061\",\"AOTU061\",\"AOTU061\",\"AOTU061\",\"AOTU061\",\"AOTU061\",\"AOTU061\",\"AOTU061\",\"AOTU061\",\"AOTU061\",\"AOTU061\",\"AOTU061\",\"AOTU061\",\"AOTU061\",\"AOTU061\",\"AOTU061\",\"AOTU061\",\"AOTU061\",\"AOTU061\",\"AOTU061\",\"AOTU061\",\"AOTU061\",\"AOTU061\",\"AOTU061\",\"AOTU061\",\"AOTU061\",\"AOTU061\",\"AOTU061\",\"AOTU061\",\"AOTU061\",\"AOTU061\",\"AOTU061\",\"AOTU061\",\"AOTU061\",\"AOTU061\",\"AOTU061\",\"AOTU061\",\"AOTU061\",\"AOTU061\",\"AOTU061\",\"AOTU061\",\"AOTU061\",\"AOTU061\",\"AOTU061\",\"AOTU061\",\"AOTU061\",\"AOTU061\",\"AOTU061\",\"AOTU061\",\"AOTU061\",\"AOTU061\",\"AOTU061\",\"AOTU061\",\"AOTU061\",\"AOTU061\",\"AOTU061\",\"AOTU061\",\"AOTU061\",\"AOTU061\",\"AOTU061\",\"AOTU061\",\"AOTU061\",\"AOTU061\",\"AOTU061\",\"AOTU061\",\"AOTU061\",\"AOTU061\",\"AOTU061\",\"AOTU061\",\"AOTU061\",\"AOTU061\",\"AOTU061\",\"AOTU061\",\"AOTU061\",\"AOTU061\",\"AOTU061\",\"AOTU061\",\"AOTU061\",\"AOTU061\",\"AOTU061\",\"AOTU061\",\"AOTU061\",\"AOTU061\",\"AOTU061\",\"AOTU061\",\"AOTU061\",\"AOTU061\",\"AOTU061\",\"AOTU061\",\"AOTU061\",\"AOTU061\",\"AOTU061\",\"AOTU061\",\"AOTU061\",\"AOTU061\",\"AOTU061\",\"AOTU061\",\"AOTU061\",\"AOTU061\",\"AOTU061\",\"AOTU061\",\"AOTU061\",\"AOTU061\",\"AOTU061\",\"AOTU061\",\"AOTU061\",\"AOTU061\",\"AOTU061\",\"AOTU061\",\"AOTU061\",\"AOTU061\",\"AOTU062\",\"AOTU062\",\"AOTU062\",\"AOTU062\",\"AOTU062\",\"AOTU062\",\"AOTU062\",\"AOTU062\",\"AOTU062\",\"AOTU062\",\"AOTU062\",\"AOTU062\",\"AOTU062\",\"AOTU062\",\"AOTU062\",\"AOTU062\",\"AOTU062\",\"AOTU062\",\"AOTU062\",\"AOTU062\",\"AOTU062\",\"AOTU062\",\"AOTU062\",\"AOTU062\",\"AOTU062\",\"AOTU062\",\"AOTU062\",\"AOTU062\",\"AOTU062\",\"AOTU062\",\"AOTU062\",\"AOTU062\",\"AOTU062\",\"AOTU062\",\"AOTU062\",\"AOTU062\",\"AOTU062\",\"AOTU062\",\"AOTU062\",\"AOTU062\",\"AOTU062\",\"AOTU062\",\"AOTU062\",\"AOTU062\",\"AOTU062\",\"AOTU062\",\"AOTU062\",\"AOTU062\",\"AOTU062\",\"AOTU062\",\"AOTU062\",\"AOTU062\",\"AOTU062\",\"AOTU062\",\"AOTU062\",\"AOTU062\",\"AOTU062\",\"AOTU062\",\"AOTU062\",\"AOTU062\",\"AOTU062\",\"AOTU062\",\"AOTU062\",\"AOTU062\",\"AOTU062\",\"AOTU062\",\"AOTU062\",\"AOTU062\",\"AOTU062\",\"AOTU062\",\"AOTU062\",\"AOTU062\",\"AOTU062\",\"AOTU062\",\"AOTU062\",\"AOTU062\",\"AOTU062\",\"AOTU062\",\"AOTU062\",\"AOTU062\",\"AOTU062\",\"AOTU062\",\"AOTU062\",\"AOTU062\",\"AOTU062\",\"AOTU062\",\"AOTU062\",\"AOTU062\",\"AOTU062\",\"AOTU062\",\"AOTU062\",\"AOTU062\",\"AOTU062\",\"AOTU062\",\"AOTU062\",\"AOTU062\",\"AOTU062\",\"AOTU062\",\"AOTU062\",\"AOTU062\",\"AOTU062\",\"AOTU062\",\"AOTU062\",\"AOTU062\",\"AOTU062\",\"AOTU062\",\"AOTU062\",\"AOTU062\",\"AOTU062\",\"AOTU062\",\"AOTU062\",\"AOTU062\",\"AOTU062\",\"AOTU062\",\"AOTU062\",\"AOTU062\",\"AOTU062\",\"AOTU062\",\"AOTU062\",\"AOTU062\",\"AOTU062\",\"AOTU062\",\"AOTU062\",\"AOTU062\",\"AOTU062\",\"AOTU062\",\"AOTU062\",\"AOTU062\",\"AOTU062\",\"AOTU062\",\"AOTU062\",\"AOTU062\",\"AOTU062\",\"AOTU062\",\"AOTU062\",\"AOTU062\",\"AOTU062\",\"AOTU062\",\"AOTU062\",\"AOTU062\",\"AOTU063_a\",\"AOTU063_a\",\"AOTU063_a\",\"AOTU063_a\",\"AOTU063_a\",\"AOTU063_a\",\"AOTU063_a\",\"AOTU063_a\",\"AOTU063_a\",\"AOTU063_a\",\"AOTU063_a\",\"AOTU063_a\",\"AOTU063_a\",\"AOTU063_a\",\"AOTU063_a\",\"AOTU063_a\",\"AOTU063_a\",\"AOTU063_a\",\"AOTU063_a\",\"AOTU063_a\",\"AOTU063_a\",\"AOTU063_a\",\"AOTU063_a\",\"AOTU063_a\",\"AOTU063_a\",\"AOTU063_a\",\"AOTU063_a\",\"AOTU063_a\",\"AOTU063_a\",\"AOTU063_a\",\"AOTU063_a\",\"AOTU063_a\",\"AOTU063_a\",\"AOTU063_a\",\"AOTU063_a\",\"AOTU063_a\",\"AOTU063_a\",\"AOTU063_a\",\"AOTU063_a\",\"AOTU063_a\",\"AOTU063_a\",\"AOTU063_a\",\"AOTU063_a\",\"AOTU063_a\",\"AOTU063_a\",\"AOTU063_a\",\"AOTU063_a\",\"AOTU063_a\",\"AOTU063_a\",\"AOTU063_a\",\"AOTU063_a\",\"AOTU063_a\",\"AOTU063_a\",\"AOTU063_a\",\"AOTU063_a\",\"AOTU063_a\",\"AOTU063_a\",\"AOTU063_a\",\"AOTU063_a\",\"AOTU063_a\",\"AOTU063_a\",\"AOTU063_a\",\"AOTU063_a\",\"AOTU063_a\",\"AOTU063_a\",\"AOTU063_a\",\"AOTU063_a\",\"AOTU063_a\",\"AOTU063_a\",\"AOTU063_a\",\"AOTU063_a\",\"AOTU063_a\",\"AOTU063_a\",\"AOTU063_a\",\"AOTU063_a\",\"AOTU063_a\",\"AOTU063_a\",\"AOTU063_a\",\"AOTU063_a\",\"AOTU063_a\",\"AOTU063_a\",\"AOTU063_a\",\"AOTU063_a\",\"AOTU063_a\",\"AOTU063_a\",\"AOTU063_a\",\"AOTU063_a\",\"AOTU063_a\",\"AOTU063_a\",\"AOTU063_a\",\"AOTU063_a\",\"AOTU063_a\",\"AOTU063_a\",\"AOTU063_a\",\"AOTU063_a\",\"AOTU063_a\",\"AOTU063_a\",\"AOTU063_a\",\"AOTU063_a\",\"AOTU063_a\",\"AOTU063_a\",\"AOTU063_a\",\"AOTU063_a\",\"AOTU063_a\",\"AOTU063_a\",\"AOTU063_a\",\"AOTU063_a\",\"AOTU063_a\",\"AOTU063_a\",\"AOTU063_a\",\"AOTU063_a\",\"AOTU063_a\",\"AOTU063_a\",\"AOTU063_a\",\"AOTU063_a\",\"AOTU063_a\",\"AOTU063_a\",\"AOTU063_a\",\"AOTU063_a\",\"AOTU063_a\",\"AOTU063_a\",\"AOTU063_a\",\"AOTU063_a\",\"AOTU063_a\",\"AOTU063_a\",\"AOTU063_a\",\"AOTU063_a\",\"AOTU063_a\",\"AOTU063_a\",\"AOTU063_a\",\"AOTU063_a\",\"AOTU063_a\",\"AOTU063_a\",\"AOTU063_a\",\"AOTU063_a\",\"AOTU063_a\",\"AOTU063_a\",\"AOTU063_a\",\"AOTU063_a\",\"AOTU063_a\",\"AOTU063_b\",\"AOTU063_b\",\"AOTU063_b\",\"AOTU063_b\",\"AOTU063_b\",\"AOTU063_b\",\"AOTU063_b\",\"AOTU063_b\",\"AOTU063_b\",\"AOTU063_b\",\"AOTU063_b\",\"AOTU063_b\",\"AOTU063_b\",\"AOTU063_b\",\"AOTU063_b\",\"AOTU063_b\",\"AOTU063_b\",\"AOTU063_b\",\"AOTU063_b\",\"AOTU063_b\",\"AOTU063_b\",\"AOTU063_b\",\"AOTU063_b\",\"AOTU063_b\",\"AOTU063_b\",\"AOTU063_b\",\"AOTU063_b\",\"AOTU063_b\",\"AOTU063_b\",\"AOTU063_b\",\"AOTU063_b\",\"AOTU063_b\",\"AOTU063_b\",\"AOTU063_b\",\"AOTU063_b\",\"AOTU063_b\",\"AOTU063_b\",\"AOTU063_b\",\"AOTU063_b\",\"AOTU063_b\",\"AOTU063_b\",\"AOTU063_b\",\"AOTU063_b\",\"AOTU063_b\",\"AOTU063_b\",\"AOTU063_b\",\"AOTU063_b\",\"AOTU063_b\",\"AOTU063_b\",\"AOTU063_b\",\"AOTU063_b\",\"AOTU063_b\",\"AOTU063_b\",\"AOTU063_b\",\"AOTU063_b\",\"AOTU063_b\",\"AOTU063_b\",\"AOTU063_b\",\"AOTU063_b\",\"AOTU063_b\",\"AOTU063_b\",\"AOTU063_b\",\"AOTU063_b\",\"AOTU063_b\",\"AOTU063_b\",\"AOTU063_b\",\"AOTU063_b\",\"AOTU063_b\",\"AOTU063_b\",\"AOTU063_b\",\"AOTU063_b\",\"AOTU063_b\",\"AOTU063_b\",\"AOTU063_b\",\"AOTU063_b\",\"AOTU063_b\",\"AOTU063_b\",\"AOTU063_b\",\"AOTU063_b\",\"AOTU063_b\",\"AOTU063_b\",\"AOTU063_b\",\"AOTU063_b\",\"AOTU063_b\",\"AOTU063_b\",\"AOTU063_b\",\"AOTU063_b\",\"AOTU063_b\",\"AOTU063_b\",\"AOTU063_b\",\"AOTU063_b\",\"AOTU063_b\",\"AOTU063_b\",\"AOTU063_b\",\"AOTU063_b\",\"AOTU063_b\",\"AOTU063_b\",\"AOTU063_b\",\"AOTU063_b\",\"AOTU063_b\",\"AOTU063_b\",\"AOTU063_b\",\"AOTU063_b\",\"AOTU063_b\",\"AOTU063_b\",\"AOTU063_b\",\"AOTU063_b\",\"AOTU063_b\",\"AOTU063_b\",\"AOTU063_b\",\"AOTU063_b\",\"AOTU063_b\",\"AOTU063_b\",\"AOTU063_b\",\"AOTU063_b\",\"AOTU063_b\",\"AOTU063_b\",\"AOTU063_b\",\"AOTU063_b\",\"AOTU063_b\",\"AOTU063_b\",\"AOTU063_b\",\"AOTU063_b\",\"AOTU063_b\",\"AOTU063_b\",\"AOTU063_b\",\"AOTU063_b\",\"AOTU063_b\",\"AOTU063_b\",\"AOTU063_b\",\"AOTU063_b\",\"AOTU063_b\",\"AOTU063_b\",\"AOTU063_b\",\"AOTU063_b\",\"AOTU063_b\",\"AOTU063_b\",\"AOTU063_b\",\"AOTU063_b\",\"AOTU063_b\",\"AOTU064\",\"AOTU064\",\"AOTU064\",\"AOTU064\",\"AOTU064\",\"AOTU064\",\"AOTU064\",\"AOTU064\",\"AOTU064\",\"AOTU064\",\"AOTU064\",\"AOTU064\",\"AOTU064\",\"AOTU064\",\"AOTU064\",\"AOTU064\",\"AOTU064\",\"AOTU064\",\"AOTU064\",\"AOTU064\",\"AOTU064\",\"AOTU064\",\"AOTU064\",\"AOTU064\",\"AOTU064\",\"AOTU064\",\"AOTU064\",\"AOTU064\",\"AOTU064\",\"AOTU064\",\"AOTU064\",\"AOTU064\",\"AOTU064\",\"AOTU064\",\"AOTU064\",\"AOTU064\",\"AOTU064\",\"AOTU064\",\"AOTU064\",\"AOTU064\",\"AOTU064\",\"AOTU064\",\"AOTU064\",\"AOTU064\",\"AOTU064\",\"AOTU064\",\"AOTU064\",\"AOTU064\",\"AOTU064\",\"AOTU064\",\"AOTU064\",\"AOTU064\",\"AOTU064\",\"AOTU064\",\"AOTU064\",\"AOTU064\",\"AOTU064\",\"AOTU064\",\"AOTU064\",\"AOTU064\",\"AOTU064\",\"AOTU064\",\"AOTU064\",\"AOTU064\",\"AOTU064\",\"AOTU064\",\"AOTU064\",\"AOTU064\",\"AOTU064\",\"AOTU064\",\"AOTU064\",\"AOTU064\",\"AOTU064\",\"AOTU064\",\"AOTU064\",\"AOTU064\",\"AOTU064\",\"AOTU064\",\"AOTU064\",\"AOTU064\",\"AOTU064\",\"AOTU064\",\"AOTU064\",\"AOTU064\",\"AOTU064\",\"AOTU064\",\"AOTU064\",\"AOTU064\",\"AOTU064\",\"AOTU064\",\"AOTU064\",\"AOTU064\",\"AOTU064\",\"AOTU064\",\"AOTU064\",\"AOTU064\",\"AOTU064\",\"AOTU064\",\"AOTU064\",\"AOTU064\",\"AOTU064\",\"AOTU064\",\"AOTU064\",\"AOTU064\",\"AOTU064\",\"AOTU064\",\"AOTU064\",\"AOTU064\",\"AOTU064\",\"AOTU064\",\"AOTU064\",\"AOTU064\",\"AOTU064\",\"AOTU064\",\"AOTU064\",\"AOTU064\",\"AOTU064\",\"AOTU064\",\"AOTU064\",\"AOTU064\",\"AOTU064\",\"AOTU064\",\"AOTU064\",\"AOTU064\",\"AOTU064\",\"AOTU064\",\"AOTU064\",\"AOTU064\",\"AOTU064\",\"AOTU064\",\"AOTU064\",\"AOTU064\",\"AOTU064\",\"AOTU064\",\"AOTU064\",\"AOTU064\",\"AOTU064\",\"AOTU064\",\"AOTU064\",\"AOTU064\",\"AOTU065\",\"AOTU065\",\"AOTU065\",\"AOTU065\",\"AOTU065\",\"AOTU065\",\"AOTU065\",\"AOTU065\",\"AOTU065\",\"AOTU065\",\"AOTU065\",\"AOTU065\",\"AOTU065\",\"AOTU065\",\"AOTU065\",\"AOTU065\",\"AOTU065\",\"AOTU065\",\"AOTU065\",\"AOTU065\",\"AOTU065\",\"AOTU065\",\"AOTU065\",\"AOTU065\",\"AOTU065\",\"AOTU065\",\"AOTU065\",\"AOTU065\",\"AOTU065\",\"AOTU065\",\"AOTU065\",\"AOTU065\",\"AOTU065\",\"AOTU065\",\"AOTU065\",\"AOTU065\",\"AOTU065\",\"AOTU065\",\"AOTU065\",\"AOTU065\",\"AOTU065\",\"AOTU065\",\"AOTU065\",\"AOTU065\",\"AOTU065\",\"AOTU065\",\"AOTU065\",\"AOTU065\",\"AOTU065\",\"AOTU065\",\"AOTU065\",\"AOTU065\",\"AOTU065\",\"AOTU065\",\"AOTU065\",\"AOTU065\",\"AOTU065\",\"AOTU065\",\"AOTU065\",\"AOTU065\",\"AOTU065\",\"AOTU065\",\"AOTU065\",\"AOTU065\",\"AOTU065\",\"AOTU065\",\"AOTU065\",\"AOTU065\",\"AOTU065\",\"AOTU065\",\"AOTU065\",\"AOTU065\",\"AOTU065\",\"AOTU065\",\"AOTU065\",\"AOTU065\",\"AOTU065\",\"AOTU065\",\"AOTU065\",\"AOTU065\",\"AOTU065\",\"AOTU065\",\"AOTU065\",\"AOTU065\",\"AOTU065\",\"AOTU065\",\"AOTU065\",\"AOTU065\",\"AOTU065\",\"AOTU065\",\"AOTU065\",\"AOTU065\",\"AOTU065\",\"AOTU065\",\"AOTU065\",\"AOTU065\",\"AOTU065\",\"AOTU065\",\"AOTU065\",\"AOTU065\",\"AOTU065\",\"AOTU065\",\"AOTU065\",\"AOTU065\",\"AOTU065\",\"AOTU065\",\"AOTU065\",\"AOTU065\",\"AOTU065\",\"AOTU065\",\"AOTU065\",\"AOTU065\",\"AOTU065\",\"AOTU065\",\"AOTU065\",\"AOTU065\",\"AOTU065\",\"AOTU065\",\"AOTU065\",\"AOTU065\",\"AOTU065\",\"AOTU065\",\"AOTU065\",\"AOTU065\",\"AOTU065\",\"AOTU065\",\"AOTU065\",\"AOTU065\",\"AOTU065\",\"AOTU065\",\"AOTU065\",\"AOTU065\",\"AOTU065\",\"AOTU065\",\"AOTU065\",\"AOTU065\",\"AOTU065\",\"AOTU065\",\"AOTU065\",\"AOTU065\",\"AOTU100m\",\"AOTU100m\",\"AOTU100m\",\"AOTU100m\",\"AOTU100m\",\"AOTU100m\",\"AOTU100m\",\"AOTU100m\",\"AOTU100m\",\"AOTU100m\",\"AOTU100m\",\"AOTU100m\",\"AOTU100m\",\"AOTU100m\",\"AOTU100m\",\"AOTU100m\",\"AOTU100m\",\"AOTU100m\",\"AOTU100m\",\"AOTU100m\",\"AOTU100m\",\"AOTU100m\",\"AOTU100m\",\"AOTU100m\",\"AOTU100m\",\"AOTU100m\",\"AOTU100m\",\"AOTU100m\",\"AOTU100m\",\"AOTU100m\",\"AOTU100m\",\"AOTU100m\",\"AOTU100m\",\"AOTU100m\",\"AOTU100m\",\"AOTU100m\",\"AOTU100m\",\"AOTU100m\",\"AOTU100m\",\"AOTU100m\",\"AOTU100m\",\"AOTU100m\",\"AOTU100m\",\"AOTU100m\",\"AOTU100m\",\"AOTU100m\",\"AOTU100m\",\"AOTU100m\",\"AOTU100m\",\"AOTU100m\",\"AOTU100m\",\"AOTU100m\",\"AOTU100m\",\"AOTU100m\",\"AOTU100m\",\"AOTU100m\",\"AOTU100m\",\"AOTU100m\",\"AOTU100m\",\"AOTU100m\",\"AOTU100m\",\"AOTU100m\",\"AOTU100m\",\"AOTU100m\",\"AOTU100m\",\"AOTU100m\",\"AOTU100m\",\"AOTU100m\",\"AOTU100m\",\"AOTU100m\",\"AOTU100m\",\"AOTU100m\",\"AOTU100m\",\"AOTU100m\",\"AOTU100m\",\"AOTU100m\",\"AOTU100m\",\"AOTU100m\",\"AOTU100m\",\"AOTU100m\",\"AOTU100m\",\"AOTU100m\",\"AOTU100m\",\"AOTU100m\",\"AOTU100m\",\"AOTU100m\",\"AOTU100m\",\"AOTU100m\",\"AOTU100m\",\"AOTU100m\",\"AOTU100m\",\"AOTU100m\",\"AOTU100m\",\"AOTU100m\",\"AOTU100m\",\"AOTU100m\",\"AOTU100m\",\"AOTU100m\",\"AOTU100m\",\"AOTU100m\",\"AOTU100m\",\"AOTU100m\",\"AOTU100m\",\"AOTU100m\",\"AOTU100m\",\"AOTU100m\",\"AOTU100m\",\"AOTU100m\",\"AOTU100m\",\"AOTU100m\",\"AOTU100m\",\"AOTU100m\",\"AOTU100m\",\"AOTU100m\",\"AOTU100m\",\"AOTU100m\",\"AOTU100m\",\"AOTU100m\",\"AOTU100m\",\"AOTU100m\",\"AOTU100m\",\"AOTU100m\",\"AOTU100m\",\"AOTU100m\",\"AOTU100m\",\"AOTU100m\",\"AOTU100m\",\"AOTU100m\",\"AOTU100m\",\"AOTU100m\",\"AOTU100m\",\"AOTU100m\",\"AOTU100m\",\"AOTU100m\",\"AOTU100m\",\"AOTU100m\",\"AOTU100m\",\"AOTU100m\",\"AOTU100m\",\"AOTU100m\",\"AOTU101m\",\"AOTU101m\",\"AOTU101m\",\"AOTU101m\",\"AOTU101m\",\"AOTU101m\",\"AOTU101m\",\"AOTU101m\",\"AOTU101m\",\"AOTU101m\",\"AOTU101m\",\"AOTU101m\",\"AOTU101m\",\"AOTU101m\",\"AOTU101m\",\"AOTU101m\",\"AOTU101m\",\"AOTU101m\",\"AOTU101m\",\"AOTU101m\",\"AOTU101m\",\"AOTU101m\",\"AOTU101m\",\"AOTU101m\",\"AOTU101m\",\"AOTU101m\",\"AOTU101m\",\"AOTU101m\",\"AOTU101m\",\"AOTU101m\",\"AOTU101m\",\"AOTU101m\",\"AOTU101m\",\"AOTU101m\",\"AOTU101m\",\"AOTU101m\",\"AOTU101m\",\"AOTU101m\",\"AOTU101m\",\"AOTU101m\",\"AOTU101m\",\"AOTU101m\",\"AOTU101m\",\"AOTU101m\",\"AOTU101m\",\"AOTU101m\",\"AOTU101m\",\"AOTU101m\",\"AOTU101m\",\"AOTU101m\",\"AOTU101m\",\"AOTU101m\",\"AOTU101m\",\"AOTU101m\",\"AOTU101m\",\"AOTU101m\",\"AOTU101m\",\"AOTU101m\",\"AOTU101m\",\"AOTU101m\",\"AOTU101m\",\"AOTU101m\",\"AOTU101m\",\"AOTU101m\",\"AOTU101m\",\"AOTU101m\",\"AOTU101m\",\"AOTU101m\",\"AOTU101m\",\"AOTU101m\",\"AOTU101m\",\"AOTU101m\",\"AOTU101m\",\"AOTU101m\",\"AOTU101m\",\"AOTU101m\",\"AOTU101m\",\"AOTU101m\",\"AOTU101m\",\"AOTU101m\",\"AOTU101m\",\"AOTU101m\",\"AOTU101m\",\"AOTU101m\",\"AOTU101m\",\"AOTU101m\",\"AOTU101m\",\"AOTU101m\",\"AOTU101m\",\"AOTU101m\",\"AOTU101m\",\"AOTU101m\",\"AOTU101m\",\"AOTU101m\",\"AOTU101m\",\"AOTU101m\",\"AOTU101m\",\"AOTU101m\",\"AOTU101m\",\"AOTU101m\",\"AOTU101m\",\"AOTU101m\",\"AOTU101m\",\"AOTU101m\",\"AOTU101m\",\"AOTU101m\",\"AOTU101m\",\"AOTU101m\",\"AOTU101m\",\"AOTU101m\",\"AOTU101m\",\"AOTU101m\",\"AOTU101m\",\"AOTU101m\",\"AOTU101m\",\"AOTU101m\",\"AOTU101m\",\"AOTU101m\",\"AOTU101m\",\"AOTU101m\",\"AOTU101m\",\"AOTU101m\",\"AOTU101m\",\"AOTU101m\",\"AOTU101m\",\"AOTU101m\",\"AOTU101m\",\"AOTU101m\",\"AOTU101m\",\"AOTU101m\",\"AOTU101m\",\"AOTU101m\",\"AOTU101m\",\"AOTU101m\",\"AOTU101m\",\"AOTU101m\",\"AOTU101m\",\"AOTU101m\",\"AOTU101m\",\"AOTU101m\",\"AOTU102m\",\"AOTU102m\",\"AOTU102m\",\"AOTU102m\",\"AOTU102m\",\"AOTU102m\",\"AOTU102m\",\"AOTU102m\",\"AOTU102m\",\"AOTU102m\",\"AOTU102m\",\"AOTU102m\",\"AOTU102m\",\"AOTU102m\",\"AOTU102m\",\"AOTU102m\",\"AOTU102m\",\"AOTU102m\",\"AOTU102m\",\"AOTU102m\",\"AOTU102m\",\"AOTU102m\",\"AOTU102m\",\"AOTU102m\",\"AOTU102m\",\"AOTU102m\",\"AOTU102m\",\"AOTU102m\",\"AOTU102m\",\"AOTU102m\",\"AOTU102m\",\"AOTU102m\",\"AOTU102m\",\"AOTU102m\",\"AOTU102m\",\"AOTU102m\",\"AOTU102m\",\"AOTU102m\",\"AOTU102m\",\"AOTU102m\",\"AOTU102m\",\"AOTU102m\",\"AOTU102m\",\"AOTU102m\",\"AOTU102m\",\"AOTU102m\",\"AOTU102m\",\"AOTU102m\",\"AOTU102m\",\"AOTU102m\",\"AOTU102m\",\"AOTU102m\",\"AOTU102m\",\"AOTU102m\",\"AOTU102m\",\"AOTU102m\",\"AOTU102m\",\"AOTU102m\",\"AOTU102m\",\"AOTU102m\",\"AOTU102m\",\"AOTU102m\",\"AOTU102m\",\"AOTU102m\",\"AOTU102m\",\"AOTU102m\",\"AOTU102m\",\"AOTU102m\",\"AOTU102m\",\"AOTU102m\",\"AOTU102m\",\"AOTU102m\",\"AOTU102m\",\"AOTU102m\",\"AOTU102m\",\"AOTU102m\",\"AOTU102m\",\"AOTU102m\",\"AOTU102m\",\"AOTU102m\",\"AOTU102m\",\"AOTU102m\",\"AOTU102m\",\"AOTU102m\",\"AOTU102m\",\"AOTU102m\",\"AOTU102m\",\"AOTU102m\",\"AOTU102m\",\"AOTU102m\",\"AOTU102m\",\"AOTU102m\",\"AOTU102m\",\"AOTU102m\",\"AOTU102m\",\"AOTU102m\",\"AOTU102m\",\"AOTU102m\",\"AOTU102m\",\"AOTU102m\",\"AOTU102m\",\"AOTU102m\",\"AOTU102m\",\"AOTU102m\",\"AOTU102m\",\"AOTU102m\",\"AOTU102m\",\"AOTU102m\",\"AOTU102m\",\"AOTU102m\",\"AOTU102m\",\"AOTU102m\",\"AOTU102m\",\"AOTU102m\",\"AOTU102m\",\"AOTU102m\",\"AOTU102m\",\"AOTU102m\",\"AOTU102m\",\"AOTU102m\",\"AOTU102m\",\"AOTU102m\",\"AOTU102m\",\"AOTU102m\",\"AOTU102m\",\"AOTU102m\",\"AOTU102m\",\"AOTU102m\",\"AOTU102m\",\"AOTU102m\",\"AOTU102m\",\"AOTU102m\",\"AOTU102m\",\"AOTU102m\",\"AOTU102m\",\"AOTU102m\",\"AOTU102m\",\"AOTU102m\",\"AOTU102m\",\"AOTU102m\",\"AOTU103m\",\"AOTU103m\",\"AOTU103m\",\"AOTU103m\",\"AOTU103m\",\"AOTU103m\",\"AOTU103m\",\"AOTU103m\",\"AOTU103m\",\"AOTU103m\",\"AOTU103m\",\"AOTU103m\",\"AOTU103m\",\"AOTU103m\",\"AOTU103m\",\"AOTU103m\",\"AOTU103m\",\"AOTU103m\",\"AOTU103m\",\"AOTU103m\",\"AOTU103m\",\"AOTU103m\",\"AOTU103m\",\"AOTU103m\",\"AOTU103m\",\"AOTU103m\",\"AOTU103m\",\"AOTU103m\",\"AOTU103m\",\"AOTU103m\",\"AOTU103m\",\"AOTU103m\",\"AOTU103m\",\"AOTU103m\",\"AOTU103m\",\"AOTU103m\",\"AOTU103m\",\"AOTU103m\",\"AOTU103m\",\"AOTU103m\",\"AOTU103m\",\"AOTU103m\",\"AOTU103m\",\"AOTU103m\",\"AOTU103m\",\"AOTU103m\",\"AOTU103m\",\"AOTU103m\",\"AOTU103m\",\"AOTU103m\",\"AOTU103m\",\"AOTU103m\",\"AOTU103m\",\"AOTU103m\",\"AOTU103m\",\"AOTU103m\",\"AOTU103m\",\"AOTU103m\",\"AOTU103m\",\"AOTU103m\",\"AOTU103m\",\"AOTU103m\",\"AOTU103m\",\"AOTU103m\",\"AOTU103m\",\"AOTU103m\",\"AOTU103m\",\"AOTU103m\",\"AOTU103m\",\"AOTU103m\",\"AOTU103m\",\"AOTU103m\",\"AOTU103m\",\"AOTU103m\",\"AOTU103m\",\"AOTU103m\",\"AOTU103m\",\"AOTU103m\",\"AOTU103m\",\"AOTU103m\",\"AOTU103m\",\"AOTU103m\",\"AOTU103m\",\"AOTU103m\",\"AOTU103m\",\"AOTU103m\",\"AOTU103m\",\"AOTU103m\",\"AOTU103m\",\"AOTU103m\",\"AOTU103m\",\"AOTU103m\",\"AOTU103m\",\"AOTU103m\",\"AOTU103m\",\"AOTU103m\",\"AOTU103m\",\"AOTU103m\",\"AOTU103m\",\"AOTU103m\",\"AOTU103m\",\"AOTU103m\",\"AOTU103m\",\"AOTU103m\",\"AOTU103m\",\"AOTU103m\",\"AOTU103m\",\"AOTU103m\",\"AOTU103m\",\"AOTU103m\",\"AOTU103m\",\"AOTU103m\",\"AOTU103m\",\"AOTU103m\",\"AOTU103m\",\"AOTU103m\",\"AOTU103m\",\"AOTU103m\",\"AOTU103m\",\"AOTU103m\",\"AOTU103m\",\"AOTU103m\",\"AOTU103m\",\"AOTU103m\",\"AOTU103m\",\"AOTU103m\",\"AOTU103m\",\"AOTU103m\",\"AOTU103m\",\"AOTU103m\",\"AOTU103m\",\"AOTU103m\",\"AOTU103m\",\"AOTU103m\",\"AOTU103m\",\"AOTU103m\",\"AOTU103m\",\"AOTU103m\",\"AOTU103m\",\"AOTU103m\"]],[\"index\",[\"21065\",\"28390\",\"28259\",\"28654\",\"28823\",\"28599\",\"27704\",\"27709\",\"27579\",\"28204\",\"29979\",\"30499\",\"29744\",\"31250\",\"30993\",\"31623\",\"29092\",\"29186\",\"29359\",\"25641\",\"25711\",\"25472\",\"25952\",\"26373\",\"25400\",\"25446\",\"25394\",\"27067\",\"27300\",\"26976\",\"27334\",\"26560\",\"26450\",\"26788\",\"26811\",\"46034\",\"45300\",\"47400\",\"44856\",\"44666\",\"49773\",\"50564\",\"49244\",\"48716\",\"42452\",\"43910\",\"41089\",\"41240\",\"44656\",\"44299\",\"70408\",\"69463\",\"76174\",\"57894\",\"57264\",\"86507\",\"85707\",\"100368\",\"84104\",\"84470\",\"52783\",\"53572\",\"52329\",\"51397\",\"54562\",\"54638\",\"54421\",\"32614\",\"32336\",\"31976\",\"32946\",\"33048\",\"33177\",\"31634\",\"31878\",\"31941\",\"37871\",\"37958\",\"36779\",\"38810\",\"38374\",\"34774\",\"34756\",\"34838\",\"36421\",\"35250\",\"22997\",\"22989\",\"23002\",\"23128\",\"22783\",\"22750\",\"22831\",\"23463\",\"23421\",\"23377\",\"23499\",\"23677\",\"23154\",\"23210\",\"21632\",\"21426\",\"21983\",\"21984\",\"21199\",\"21238\",\"22397\",\"22505\",\"22248\",\"22510\",\"22070\",\"22148\",\"24784\",\"24769\",\"24592\",\"24909\",\"24854\",\"24505\",\"24492\",\"24545\",\"25202\",\"25296\",\"25198\",\"25369\",\"25088\",\"25067\",\"25167\",\"23867\",\"23868\",\"23830\",\"23890\",\"23686\",\"23719\",\"24035\",\"24283\",\"24211\",\"24208\",\"24482\",\"24071\",\"24164\",\"21065\",\"28390\",\"28259\",\"28654\",\"28823\",\"28599\",\"27704\",\"27709\",\"27579\",\"28204\",\"29979\",\"30499\",\"29744\",\"31250\",\"30993\",\"31623\",\"29092\",\"29186\",\"29359\",\"25641\",\"25711\",\"25472\",\"25952\",\"26373\",\"25400\",\"25446\",\"25394\",\"27067\",\"27300\",\"26976\",\"27334\",\"26560\",\"26450\",\"26788\",\"26811\",\"46034\",\"45300\",\"47400\",\"44856\",\"44666\",\"49773\",\"50564\",\"49244\",\"48716\",\"42452\",\"43910\",\"41089\",\"41240\",\"44656\",\"44299\",\"70408\",\"69463\",\"76174\",\"57894\",\"57264\",\"86507\",\"85707\",\"100368\",\"84104\",\"84470\",\"52783\",\"53572\",\"52329\",\"51397\",\"54562\",\"54638\",\"54421\",\"32614\",\"32336\",\"31976\",\"32946\",\"33048\",\"33177\",\"31634\",\"31878\",\"31941\",\"37871\",\"37958\",\"36779\",\"38810\",\"38374\",\"34774\",\"34756\",\"34838\",\"36421\",\"35250\",\"22997\",\"22989\",\"23002\",\"23128\",\"22783\",\"22750\",\"22831\",\"23463\",\"23421\",\"23377\",\"23499\",\"23677\",\"23154\",\"23210\",\"21632\",\"21426\",\"21983\",\"21984\",\"21199\",\"21238\",\"22397\",\"22505\",\"22248\",\"22510\",\"22070\",\"22148\",\"24784\",\"24769\",\"24592\",\"24909\",\"24854\",\"24505\",\"24492\",\"24545\",\"25202\",\"25296\",\"25198\",\"25369\",\"25088\",\"25067\",\"25167\",\"23867\",\"23868\",\"23830\",\"23890\",\"23686\",\"23719\",\"24035\",\"24283\",\"24211\",\"24208\",\"24482\",\"24071\",\"24164\",\"21065\",\"28390\",\"28259\",\"28654\",\"28823\",\"28599\",\"27704\",\"27709\",\"27579\",\"28204\",\"29979\",\"30499\",\"29744\",\"31250\",\"30993\",\"31623\",\"29092\",\"29186\",\"29359\",\"25641\",\"25711\",\"25472\",\"25952\",\"26373\",\"25400\",\"25446\",\"25394\",\"27067\",\"27300\",\"26976\",\"27334\",\"26560\",\"26450\",\"26788\",\"26811\",\"46034\",\"45300\",\"47400\",\"44856\",\"44666\",\"49773\",\"50564\",\"49244\",\"48716\",\"42452\",\"43910\",\"41089\",\"41240\",\"44656\",\"44299\",\"70408\",\"69463\",\"76174\",\"57894\",\"57264\",\"86507\",\"85707\",\"100368\",\"84104\",\"84470\",\"52783\",\"53572\",\"52329\",\"51397\",\"54562\",\"54638\",\"54421\",\"32614\",\"32336\",\"31976\",\"32946\",\"33048\",\"33177\",\"31634\",\"31878\",\"31941\",\"37871\",\"37958\",\"36779\",\"38810\",\"38374\",\"34774\",\"34756\",\"34838\",\"36421\",\"35250\",\"22997\",\"22989\",\"23002\",\"23128\",\"22783\",\"22750\",\"22831\",\"23463\",\"23421\",\"23377\",\"23499\",\"23677\",\"23154\",\"23210\",\"21632\",\"21426\",\"21983\",\"21984\",\"21199\",\"21238\",\"22397\",\"22505\",\"22248\",\"22510\",\"22070\",\"22148\",\"24784\",\"24769\",\"24592\",\"24909\",\"24854\",\"24505\",\"24492\",\"24545\",\"25202\",\"25296\",\"25198\",\"25369\",\"25088\",\"25067\",\"25167\",\"23867\",\"23868\",\"23830\",\"23890\",\"23686\",\"23719\",\"24035\",\"24283\",\"24211\",\"24208\",\"24482\",\"24071\",\"24164\",\"21065\",\"28390\",\"28259\",\"28654\",\"28823\",\"28599\",\"27704\",\"27709\",\"27579\",\"28204\",\"29979\",\"30499\",\"29744\",\"31250\",\"30993\",\"31623\",\"29092\",\"29186\",\"29359\",\"25641\",\"25711\",\"25472\",\"25952\",\"26373\",\"25400\",\"25446\",\"25394\",\"27067\",\"27300\",\"26976\",\"27334\",\"26560\",\"26450\",\"26788\",\"26811\",\"46034\",\"45300\",\"47400\",\"44856\",\"44666\",\"49773\",\"50564\",\"49244\",\"48716\",\"42452\",\"43910\",\"41089\",\"41240\",\"44656\",\"44299\",\"70408\",\"69463\",\"76174\",\"57894\",\"57264\",\"86507\",\"85707\",\"100368\",\"84104\",\"84470\",\"52783\",\"53572\",\"52329\",\"51397\",\"54562\",\"54638\",\"54421\",\"32614\",\"32336\",\"31976\",\"32946\",\"33048\",\"33177\",\"31634\",\"31878\",\"31941\",\"37871\",\"37958\",\"36779\",\"38810\",\"38374\",\"34774\",\"34756\",\"34838\",\"36421\",\"35250\",\"22997\",\"22989\",\"23002\",\"23128\",\"22783\",\"22750\",\"22831\",\"23463\",\"23421\",\"23377\",\"23499\",\"23677\",\"23154\",\"23210\",\"21632\",\"21426\",\"21983\",\"21984\",\"21199\",\"21238\",\"22397\",\"22505\",\"22248\",\"22510\",\"22070\",\"22148\",\"24784\",\"24769\",\"24592\",\"24909\",\"24854\",\"24505\",\"24492\",\"24545\",\"25202\",\"25296\",\"25198\",\"25369\",\"25088\",\"25067\",\"25167\",\"23867\",\"23868\",\"23830\",\"23890\",\"23686\",\"23719\",\"24035\",\"24283\",\"24211\",\"24208\",\"24482\",\"24071\",\"24164\",\"21065\",\"28390\",\"28259\",\"28654\",\"28823\",\"28599\",\"27704\",\"27709\",\"27579\",\"28204\",\"29979\",\"30499\",\"29744\",\"31250\",\"30993\",\"31623\",\"29092\",\"29186\",\"29359\",\"25641\",\"25711\",\"25472\",\"25952\",\"26373\",\"25400\",\"25446\",\"25394\",\"27067\",\"27300\",\"26976\",\"27334\",\"26560\",\"26450\",\"26788\",\"26811\",\"46034\",\"45300\",\"47400\",\"44856\",\"44666\",\"49773\",\"50564\",\"49244\",\"48716\",\"42452\",\"43910\",\"41089\",\"41240\",\"44656\",\"44299\",\"70408\",\"69463\",\"76174\",\"57894\",\"57264\",\"86507\",\"85707\",\"100368\",\"84104\",\"84470\",\"52783\",\"53572\",\"52329\",\"51397\",\"54562\",\"54638\",\"54421\",\"32614\",\"32336\",\"31976\",\"32946\",\"33048\",\"33177\",\"31634\",\"31878\",\"31941\",\"37871\",\"37958\",\"36779\",\"38810\",\"38374\",\"34774\",\"34756\",\"34838\",\"36421\",\"35250\",\"22997\",\"22989\",\"23002\",\"23128\",\"22783\",\"22750\",\"22831\",\"23463\",\"23421\",\"23377\",\"23499\",\"23677\",\"23154\",\"23210\",\"21632\",\"21426\",\"21983\",\"21984\",\"21199\",\"21238\",\"22397\",\"22505\",\"22248\",\"22510\",\"22070\",\"22148\",\"24784\",\"24769\",\"24592\",\"24909\",\"24854\",\"24505\",\"24492\",\"24545\",\"25202\",\"25296\",\"25198\",\"25369\",\"25088\",\"25067\",\"25167\",\"23867\",\"23868\",\"23830\",\"23890\",\"23686\",\"23719\",\"24035\",\"24283\",\"24211\",\"24208\",\"24482\",\"24071\",\"24164\",\"21065\",\"28390\",\"28259\",\"28654\",\"28823\",\"28599\",\"27704\",\"27709\",\"27579\",\"28204\",\"29979\",\"30499\",\"29744\",\"31250\",\"30993\",\"31623\",\"29092\",\"29186\",\"29359\",\"25641\",\"25711\",\"25472\",\"25952\",\"26373\",\"25400\",\"25446\",\"25394\",\"27067\",\"27300\",\"26976\",\"27334\",\"26560\",\"26450\",\"26788\",\"26811\",\"46034\",\"45300\",\"47400\",\"44856\",\"44666\",\"49773\",\"50564\",\"49244\",\"48716\",\"42452\",\"43910\",\"41089\",\"41240\",\"44656\",\"44299\",\"70408\",\"69463\",\"76174\",\"57894\",\"57264\",\"86507\",\"85707\",\"100368\",\"84104\",\"84470\",\"52783\",\"53572\",\"52329\",\"51397\",\"54562\",\"54638\",\"54421\",\"32614\",\"32336\",\"31976\",\"32946\",\"33048\",\"33177\",\"31634\",\"31878\",\"31941\",\"37871\",\"37958\",\"36779\",\"38810\",\"38374\",\"34774\",\"34756\",\"34838\",\"36421\",\"35250\",\"22997\",\"22989\",\"23002\",\"23128\",\"22783\",\"22750\",\"22831\",\"23463\",\"23421\",\"23377\",\"23499\",\"23677\",\"23154\",\"23210\",\"21632\",\"21426\",\"21983\",\"21984\",\"21199\",\"21238\",\"22397\",\"22505\",\"22248\",\"22510\",\"22070\",\"22148\",\"24784\",\"24769\",\"24592\",\"24909\",\"24854\",\"24505\",\"24492\",\"24545\",\"25202\",\"25296\",\"25198\",\"25369\",\"25088\",\"25067\",\"25167\",\"23867\",\"23868\",\"23830\",\"23890\",\"23686\",\"23719\",\"24035\",\"24283\",\"24211\",\"24208\",\"24482\",\"24071\",\"24164\",\"21065\",\"28390\",\"28259\",\"28654\",\"28823\",\"28599\",\"27704\",\"27709\",\"27579\",\"28204\",\"29979\",\"30499\",\"29744\",\"31250\",\"30993\",\"31623\",\"29092\",\"29186\",\"29359\",\"25641\",\"25711\",\"25472\",\"25952\",\"26373\",\"25400\",\"25446\",\"25394\",\"27067\",\"27300\",\"26976\",\"27334\",\"26560\",\"26450\",\"26788\",\"26811\",\"46034\",\"45300\",\"47400\",\"44856\",\"44666\",\"49773\",\"50564\",\"49244\",\"48716\",\"42452\",\"43910\",\"41089\",\"41240\",\"44656\",\"44299\",\"70408\",\"69463\",\"76174\",\"57894\",\"57264\",\"86507\",\"85707\",\"100368\",\"84104\",\"84470\",\"52783\",\"53572\",\"52329\",\"51397\",\"54562\",\"54638\",\"54421\",\"32614\",\"32336\",\"31976\",\"32946\",\"33048\",\"33177\",\"31634\",\"31878\",\"31941\",\"37871\",\"37958\",\"36779\",\"38810\",\"38374\",\"34774\",\"34756\",\"34838\",\"36421\",\"35250\",\"22997\",\"22989\",\"23002\",\"23128\",\"22783\",\"22750\",\"22831\",\"23463\",\"23421\",\"23377\",\"23499\",\"23677\",\"23154\",\"23210\",\"21632\",\"21426\",\"21983\",\"21984\",\"21199\",\"21238\",\"22397\",\"22505\",\"22248\",\"22510\",\"22070\",\"22148\",\"24784\",\"24769\",\"24592\",\"24909\",\"24854\",\"24505\",\"24492\",\"24545\",\"25202\",\"25296\",\"25198\",\"25369\",\"25088\",\"25067\",\"25167\",\"23867\",\"23868\",\"23830\",\"23890\",\"23686\",\"23719\",\"24035\",\"24283\",\"24211\",\"24208\",\"24482\",\"24071\",\"24164\",\"21065\",\"28390\",\"28259\",\"28654\",\"28823\",\"28599\",\"27704\",\"27709\",\"27579\",\"28204\",\"29979\",\"30499\",\"29744\",\"31250\",\"30993\",\"31623\",\"29092\",\"29186\",\"29359\",\"25641\",\"25711\",\"25472\",\"25952\",\"26373\",\"25400\",\"25446\",\"25394\",\"27067\",\"27300\",\"26976\",\"27334\",\"26560\",\"26450\",\"26788\",\"26811\",\"46034\",\"45300\",\"47400\",\"44856\",\"44666\",\"49773\",\"50564\",\"49244\",\"48716\",\"42452\",\"43910\",\"41089\",\"41240\",\"44656\",\"44299\",\"70408\",\"69463\",\"76174\",\"57894\",\"57264\",\"86507\",\"85707\",\"100368\",\"84104\",\"84470\",\"52783\",\"53572\",\"52329\",\"51397\",\"54562\",\"54638\",\"54421\",\"32614\",\"32336\",\"31976\",\"32946\",\"33048\",\"33177\",\"31634\",\"31878\",\"31941\",\"37871\",\"37958\",\"36779\",\"38810\",\"38374\",\"34774\",\"34756\",\"34838\",\"36421\",\"35250\",\"22997\",\"22989\",\"23002\",\"23128\",\"22783\",\"22750\",\"22831\",\"23463\",\"23421\",\"23377\",\"23499\",\"23677\",\"23154\",\"23210\",\"21632\",\"21426\",\"21983\",\"21984\",\"21199\",\"21238\",\"22397\",\"22505\",\"22248\",\"22510\",\"22070\",\"22148\",\"24784\",\"24769\",\"24592\",\"24909\",\"24854\",\"24505\",\"24492\",\"24545\",\"25202\",\"25296\",\"25198\",\"25369\",\"25088\",\"25067\",\"25167\",\"23867\",\"23868\",\"23830\",\"23890\",\"23686\",\"23719\",\"24035\",\"24283\",\"24211\",\"24208\",\"24482\",\"24071\",\"24164\",\"21065\",\"28390\",\"28259\",\"28654\",\"28823\",\"28599\",\"27704\",\"27709\",\"27579\",\"28204\",\"29979\",\"30499\",\"29744\",\"31250\",\"30993\",\"31623\",\"29092\",\"29186\",\"29359\",\"25641\",\"25711\",\"25472\",\"25952\",\"26373\",\"25400\",\"25446\",\"25394\",\"27067\",\"27300\",\"26976\",\"27334\",\"26560\",\"26450\",\"26788\",\"26811\",\"46034\",\"45300\",\"47400\",\"44856\",\"44666\",\"49773\",\"50564\",\"49244\",\"48716\",\"42452\",\"43910\",\"41089\",\"41240\",\"44656\",\"44299\",\"70408\",\"69463\",\"76174\",\"57894\",\"57264\",\"86507\",\"85707\",\"100368\",\"84104\",\"84470\",\"52783\",\"53572\",\"52329\",\"51397\",\"54562\",\"54638\",\"54421\",\"32614\",\"32336\",\"31976\",\"32946\",\"33048\",\"33177\",\"31634\",\"31878\",\"31941\",\"37871\",\"37958\",\"36779\",\"38810\",\"38374\",\"34774\",\"34756\",\"34838\",\"36421\",\"35250\",\"22997\",\"22989\",\"23002\",\"23128\",\"22783\",\"22750\",\"22831\",\"23463\",\"23421\",\"23377\",\"23499\",\"23677\",\"23154\",\"23210\",\"21632\",\"21426\",\"21983\",\"21984\",\"21199\",\"21238\",\"22397\",\"22505\",\"22248\",\"22510\",\"22070\",\"22148\",\"24784\",\"24769\",\"24592\",\"24909\",\"24854\",\"24505\",\"24492\",\"24545\",\"25202\",\"25296\",\"25198\",\"25369\",\"25088\",\"25067\",\"25167\",\"23867\",\"23868\",\"23830\",\"23890\",\"23686\",\"23719\",\"24035\",\"24283\",\"24211\",\"24208\",\"24482\",\"24071\",\"24164\",\"21065\",\"28390\",\"28259\",\"28654\",\"28823\",\"28599\",\"27704\",\"27709\",\"27579\",\"28204\",\"29979\",\"30499\",\"29744\",\"31250\",\"30993\",\"31623\",\"29092\",\"29186\",\"29359\",\"25641\",\"25711\",\"25472\",\"25952\",\"26373\",\"25400\",\"25446\",\"25394\",\"27067\",\"27300\",\"26976\",\"27334\",\"26560\",\"26450\",\"26788\",\"26811\",\"46034\",\"45300\",\"47400\",\"44856\",\"44666\",\"49773\",\"50564\",\"49244\",\"48716\",\"42452\",\"43910\",\"41089\",\"41240\",\"44656\",\"44299\",\"70408\",\"69463\",\"76174\",\"57894\",\"57264\",\"86507\",\"85707\",\"100368\",\"84104\",\"84470\",\"52783\",\"53572\",\"52329\",\"51397\",\"54562\",\"54638\",\"54421\",\"32614\",\"32336\",\"31976\",\"32946\",\"33048\",\"33177\",\"31634\",\"31878\",\"31941\",\"37871\",\"37958\",\"36779\",\"38810\",\"38374\",\"34774\",\"34756\",\"34838\",\"36421\",\"35250\",\"22997\",\"22989\",\"23002\",\"23128\",\"22783\",\"22750\",\"22831\",\"23463\",\"23421\",\"23377\",\"23499\",\"23677\",\"23154\",\"23210\",\"21632\",\"21426\",\"21983\",\"21984\",\"21199\",\"21238\",\"22397\",\"22505\",\"22248\",\"22510\",\"22070\",\"22148\",\"24784\",\"24769\",\"24592\",\"24909\",\"24854\",\"24505\",\"24492\",\"24545\",\"25202\",\"25296\",\"25198\",\"25369\",\"25088\",\"25067\",\"25167\",\"23867\",\"23868\",\"23830\",\"23890\",\"23686\",\"23719\",\"24035\",\"24283\",\"24211\",\"24208\",\"24482\",\"24071\",\"24164\",\"21065\",\"28390\",\"28259\",\"28654\",\"28823\",\"28599\",\"27704\",\"27709\",\"27579\",\"28204\",\"29979\",\"30499\",\"29744\",\"31250\",\"30993\",\"31623\",\"29092\",\"29186\",\"29359\",\"25641\",\"25711\",\"25472\",\"25952\",\"26373\",\"25400\",\"25446\",\"25394\",\"27067\",\"27300\",\"26976\",\"27334\",\"26560\",\"26450\",\"26788\",\"26811\",\"46034\",\"45300\",\"47400\",\"44856\",\"44666\",\"49773\",\"50564\",\"49244\",\"48716\",\"42452\",\"43910\",\"41089\",\"41240\",\"44656\",\"44299\",\"70408\",\"69463\",\"76174\",\"57894\",\"57264\",\"86507\",\"85707\",\"100368\",\"84104\",\"84470\",\"52783\",\"53572\",\"52329\",\"51397\",\"54562\",\"54638\",\"54421\",\"32614\",\"32336\",\"31976\",\"32946\",\"33048\",\"33177\",\"31634\",\"31878\",\"31941\",\"37871\",\"37958\",\"36779\",\"38810\",\"38374\",\"34774\",\"34756\",\"34838\",\"36421\",\"35250\",\"22997\",\"22989\",\"23002\",\"23128\",\"22783\",\"22750\",\"22831\",\"23463\",\"23421\",\"23377\",\"23499\",\"23677\",\"23154\",\"23210\",\"21632\",\"21426\",\"21983\",\"21984\",\"21199\",\"21238\",\"22397\",\"22505\",\"22248\",\"22510\",\"22070\",\"22148\",\"24784\",\"24769\",\"24592\",\"24909\",\"24854\",\"24505\",\"24492\",\"24545\",\"25202\",\"25296\",\"25198\",\"25369\",\"25088\",\"25067\",\"25167\",\"23867\",\"23868\",\"23830\",\"23890\",\"23686\",\"23719\",\"24035\",\"24283\",\"24211\",\"24208\",\"24482\",\"24071\",\"24164\",\"21065\",\"28390\",\"28259\",\"28654\",\"28823\",\"28599\",\"27704\",\"27709\",\"27579\",\"28204\",\"29979\",\"30499\",\"29744\",\"31250\",\"30993\",\"31623\",\"29092\",\"29186\",\"29359\",\"25641\",\"25711\",\"25472\",\"25952\",\"26373\",\"25400\",\"25446\",\"25394\",\"27067\",\"27300\",\"26976\",\"27334\",\"26560\",\"26450\",\"26788\",\"26811\",\"46034\",\"45300\",\"47400\",\"44856\",\"44666\",\"49773\",\"50564\",\"49244\",\"48716\",\"42452\",\"43910\",\"41089\",\"41240\",\"44656\",\"44299\",\"70408\",\"69463\",\"76174\",\"57894\",\"57264\",\"86507\",\"85707\",\"100368\",\"84104\",\"84470\",\"52783\",\"53572\",\"52329\",\"51397\",\"54562\",\"54638\",\"54421\",\"32614\",\"32336\",\"31976\",\"32946\",\"33048\",\"33177\",\"31634\",\"31878\",\"31941\",\"37871\",\"37958\",\"36779\",\"38810\",\"38374\",\"34774\",\"34756\",\"34838\",\"36421\",\"35250\",\"22997\",\"22989\",\"23002\",\"23128\",\"22783\",\"22750\",\"22831\",\"23463\",\"23421\",\"23377\",\"23499\",\"23677\",\"23154\",\"23210\",\"21632\",\"21426\",\"21983\",\"21984\",\"21199\",\"21238\",\"22397\",\"22505\",\"22248\",\"22510\",\"22070\",\"22148\",\"24784\",\"24769\",\"24592\",\"24909\",\"24854\",\"24505\",\"24492\",\"24545\",\"25202\",\"25296\",\"25198\",\"25369\",\"25088\",\"25067\",\"25167\",\"23867\",\"23868\",\"23830\",\"23890\",\"23686\",\"23719\",\"24035\",\"24283\",\"24211\",\"24208\",\"24482\",\"24071\",\"24164\",\"21065\",\"28390\",\"28259\",\"28654\",\"28823\",\"28599\",\"27704\",\"27709\",\"27579\",\"28204\",\"29979\",\"30499\",\"29744\",\"31250\",\"30993\",\"31623\",\"29092\",\"29186\",\"29359\",\"25641\",\"25711\",\"25472\",\"25952\",\"26373\",\"25400\",\"25446\",\"25394\",\"27067\",\"27300\",\"26976\",\"27334\",\"26560\",\"26450\",\"26788\",\"26811\",\"46034\",\"45300\",\"47400\",\"44856\",\"44666\",\"49773\",\"50564\",\"49244\",\"48716\",\"42452\",\"43910\",\"41089\",\"41240\",\"44656\",\"44299\",\"70408\",\"69463\",\"76174\",\"57894\",\"57264\",\"86507\",\"85707\",\"100368\",\"84104\",\"84470\",\"52783\",\"53572\",\"52329\",\"51397\",\"54562\",\"54638\",\"54421\",\"32614\",\"32336\",\"31976\",\"32946\",\"33048\",\"33177\",\"31634\",\"31878\",\"31941\",\"37871\",\"37958\",\"36779\",\"38810\",\"38374\",\"34774\",\"34756\",\"34838\",\"36421\",\"35250\",\"22997\",\"22989\",\"23002\",\"23128\",\"22783\",\"22750\",\"22831\",\"23463\",\"23421\",\"23377\",\"23499\",\"23677\",\"23154\",\"23210\",\"21632\",\"21426\",\"21983\",\"21984\",\"21199\",\"21238\",\"22397\",\"22505\",\"22248\",\"22510\",\"22070\",\"22148\",\"24784\",\"24769\",\"24592\",\"24909\",\"24854\",\"24505\",\"24492\",\"24545\",\"25202\",\"25296\",\"25198\",\"25369\",\"25088\",\"25067\",\"25167\",\"23867\",\"23868\",\"23830\",\"23890\",\"23686\",\"23719\",\"24035\",\"24283\",\"24211\",\"24208\",\"24482\",\"24071\",\"24164\",\"21065\",\"28390\",\"28259\",\"28654\",\"28823\",\"28599\",\"27704\",\"27709\",\"27579\",\"28204\",\"29979\",\"30499\",\"29744\",\"31250\",\"30993\",\"31623\",\"29092\",\"29186\",\"29359\",\"25641\",\"25711\",\"25472\",\"25952\",\"26373\",\"25400\",\"25446\",\"25394\",\"27067\",\"27300\",\"26976\",\"27334\",\"26560\",\"26450\",\"26788\",\"26811\",\"46034\",\"45300\",\"47400\",\"44856\",\"44666\",\"49773\",\"50564\",\"49244\",\"48716\",\"42452\",\"43910\",\"41089\",\"41240\",\"44656\",\"44299\",\"70408\",\"69463\",\"76174\",\"57894\",\"57264\",\"86507\",\"85707\",\"100368\",\"84104\",\"84470\",\"52783\",\"53572\",\"52329\",\"51397\",\"54562\",\"54638\",\"54421\",\"32614\",\"32336\",\"31976\",\"32946\",\"33048\",\"33177\",\"31634\",\"31878\",\"31941\",\"37871\",\"37958\",\"36779\",\"38810\",\"38374\",\"34774\",\"34756\",\"34838\",\"36421\",\"35250\",\"22997\",\"22989\",\"23002\",\"23128\",\"22783\",\"22750\",\"22831\",\"23463\",\"23421\",\"23377\",\"23499\",\"23677\",\"23154\",\"23210\",\"21632\",\"21426\",\"21983\",\"21984\",\"21199\",\"21238\",\"22397\",\"22505\",\"22248\",\"22510\",\"22070\",\"22148\",\"24784\",\"24769\",\"24592\",\"24909\",\"24854\",\"24505\",\"24492\",\"24545\",\"25202\",\"25296\",\"25198\",\"25369\",\"25088\",\"25067\",\"25167\",\"23867\",\"23868\",\"23830\",\"23890\",\"23686\",\"23719\",\"24035\",\"24283\",\"24211\",\"24208\",\"24482\",\"24071\",\"24164\",\"21065\",\"28390\",\"28259\",\"28654\",\"28823\",\"28599\",\"27704\",\"27709\",\"27579\",\"28204\",\"29979\",\"30499\",\"29744\",\"31250\",\"30993\",\"31623\",\"29092\",\"29186\",\"29359\",\"25641\",\"25711\",\"25472\",\"25952\",\"26373\",\"25400\",\"25446\",\"25394\",\"27067\",\"27300\",\"26976\",\"27334\",\"26560\",\"26450\",\"26788\",\"26811\",\"46034\",\"45300\",\"47400\",\"44856\",\"44666\",\"49773\",\"50564\",\"49244\",\"48716\",\"42452\",\"43910\",\"41089\",\"41240\",\"44656\",\"44299\",\"70408\",\"69463\",\"76174\",\"57894\",\"57264\",\"86507\",\"85707\",\"100368\",\"84104\",\"84470\",\"52783\",\"53572\",\"52329\",\"51397\",\"54562\",\"54638\",\"54421\",\"32614\",\"32336\",\"31976\",\"32946\",\"33048\",\"33177\",\"31634\",\"31878\",\"31941\",\"37871\",\"37958\",\"36779\",\"38810\",\"38374\",\"34774\",\"34756\",\"34838\",\"36421\",\"35250\",\"22997\",\"22989\",\"23002\",\"23128\",\"22783\",\"22750\",\"22831\",\"23463\",\"23421\",\"23377\",\"23499\",\"23677\",\"23154\",\"23210\",\"21632\",\"21426\",\"21983\",\"21984\",\"21199\",\"21238\",\"22397\",\"22505\",\"22248\",\"22510\",\"22070\",\"22148\",\"24784\",\"24769\",\"24592\",\"24909\",\"24854\",\"24505\",\"24492\",\"24545\",\"25202\",\"25296\",\"25198\",\"25369\",\"25088\",\"25067\",\"25167\",\"23867\",\"23868\",\"23830\",\"23890\",\"23686\",\"23719\",\"24035\",\"24283\",\"24211\",\"24208\",\"24482\",\"24071\",\"24164\",\"21065\",\"28390\",\"28259\",\"28654\",\"28823\",\"28599\",\"27704\",\"27709\",\"27579\",\"28204\",\"29979\",\"30499\",\"29744\",\"31250\",\"30993\",\"31623\",\"29092\",\"29186\",\"29359\",\"25641\",\"25711\",\"25472\",\"25952\",\"26373\",\"25400\",\"25446\",\"25394\",\"27067\",\"27300\",\"26976\",\"27334\",\"26560\",\"26450\",\"26788\",\"26811\",\"46034\",\"45300\",\"47400\",\"44856\",\"44666\",\"49773\",\"50564\",\"49244\",\"48716\",\"42452\",\"43910\",\"41089\",\"41240\",\"44656\",\"44299\",\"70408\",\"69463\",\"76174\",\"57894\",\"57264\",\"86507\",\"85707\",\"100368\",\"84104\",\"84470\",\"52783\",\"53572\",\"52329\",\"51397\",\"54562\",\"54638\",\"54421\",\"32614\",\"32336\",\"31976\",\"32946\",\"33048\",\"33177\",\"31634\",\"31878\",\"31941\",\"37871\",\"37958\",\"36779\",\"38810\",\"38374\",\"34774\",\"34756\",\"34838\",\"36421\",\"35250\",\"22997\",\"22989\",\"23002\",\"23128\",\"22783\",\"22750\",\"22831\",\"23463\",\"23421\",\"23377\",\"23499\",\"23677\",\"23154\",\"23210\",\"21632\",\"21426\",\"21983\",\"21984\",\"21199\",\"21238\",\"22397\",\"22505\",\"22248\",\"22510\",\"22070\",\"22148\",\"24784\",\"24769\",\"24592\",\"24909\",\"24854\",\"24505\",\"24492\",\"24545\",\"25202\",\"25296\",\"25198\",\"25369\",\"25088\",\"25067\",\"25167\",\"23867\",\"23868\",\"23830\",\"23890\",\"23686\",\"23719\",\"24035\",\"24283\",\"24211\",\"24208\",\"24482\",\"24071\",\"24164\",\"21065\",\"28390\",\"28259\",\"28654\",\"28823\",\"28599\",\"27704\",\"27709\",\"27579\",\"28204\",\"29979\",\"30499\",\"29744\",\"31250\",\"30993\",\"31623\",\"29092\",\"29186\",\"29359\",\"25641\",\"25711\",\"25472\",\"25952\",\"26373\",\"25400\",\"25446\",\"25394\",\"27067\",\"27300\",\"26976\",\"27334\",\"26560\",\"26450\",\"26788\",\"26811\",\"46034\",\"45300\",\"47400\",\"44856\",\"44666\",\"49773\",\"50564\",\"49244\",\"48716\",\"42452\",\"43910\",\"41089\",\"41240\",\"44656\",\"44299\",\"70408\",\"69463\",\"76174\",\"57894\",\"57264\",\"86507\",\"85707\",\"100368\",\"84104\",\"84470\",\"52783\",\"53572\",\"52329\",\"51397\",\"54562\",\"54638\",\"54421\",\"32614\",\"32336\",\"31976\",\"32946\",\"33048\",\"33177\",\"31634\",\"31878\",\"31941\",\"37871\",\"37958\",\"36779\",\"38810\",\"38374\",\"34774\",\"34756\",\"34838\",\"36421\",\"35250\",\"22997\",\"22989\",\"23002\",\"23128\",\"22783\",\"22750\",\"22831\",\"23463\",\"23421\",\"23377\",\"23499\",\"23677\",\"23154\",\"23210\",\"21632\",\"21426\",\"21983\",\"21984\",\"21199\",\"21238\",\"22397\",\"22505\",\"22248\",\"22510\",\"22070\",\"22148\",\"24784\",\"24769\",\"24592\",\"24909\",\"24854\",\"24505\",\"24492\",\"24545\",\"25202\",\"25296\",\"25198\",\"25369\",\"25088\",\"25067\",\"25167\",\"23867\",\"23868\",\"23830\",\"23890\",\"23686\",\"23719\",\"24035\",\"24283\",\"24211\",\"24208\",\"24482\",\"24071\",\"24164\",\"21065\",\"28390\",\"28259\",\"28654\",\"28823\",\"28599\",\"27704\",\"27709\",\"27579\",\"28204\",\"29979\",\"30499\",\"29744\",\"31250\",\"30993\",\"31623\",\"29092\",\"29186\",\"29359\",\"25641\",\"25711\",\"25472\",\"25952\",\"26373\",\"25400\",\"25446\",\"25394\",\"27067\",\"27300\",\"26976\",\"27334\",\"26560\",\"26450\",\"26788\",\"26811\",\"46034\",\"45300\",\"47400\",\"44856\",\"44666\",\"49773\",\"50564\",\"49244\",\"48716\",\"42452\",\"43910\",\"41089\",\"41240\",\"44656\",\"44299\",\"70408\",\"69463\",\"76174\",\"57894\",\"57264\",\"86507\",\"85707\",\"100368\",\"84104\",\"84470\",\"52783\",\"53572\",\"52329\",\"51397\",\"54562\",\"54638\",\"54421\",\"32614\",\"32336\",\"31976\",\"32946\",\"33048\",\"33177\",\"31634\",\"31878\",\"31941\",\"37871\",\"37958\",\"36779\",\"38810\",\"38374\",\"34774\",\"34756\",\"34838\",\"36421\",\"35250\",\"22997\",\"22989\",\"23002\",\"23128\",\"22783\",\"22750\",\"22831\",\"23463\",\"23421\",\"23377\",\"23499\",\"23677\",\"23154\",\"23210\",\"21632\",\"21426\",\"21983\",\"21984\",\"21199\",\"21238\",\"22397\",\"22505\",\"22248\",\"22510\",\"22070\",\"22148\",\"24784\",\"24769\",\"24592\",\"24909\",\"24854\",\"24505\",\"24492\",\"24545\",\"25202\",\"25296\",\"25198\",\"25369\",\"25088\",\"25067\",\"25167\",\"23867\",\"23868\",\"23830\",\"23890\",\"23686\",\"23719\",\"24035\",\"24283\",\"24211\",\"24208\",\"24482\",\"24071\",\"24164\",\"21065\",\"28390\",\"28259\",\"28654\",\"28823\",\"28599\",\"27704\",\"27709\",\"27579\",\"28204\",\"29979\",\"30499\",\"29744\",\"31250\",\"30993\",\"31623\",\"29092\",\"29186\",\"29359\",\"25641\",\"25711\",\"25472\",\"25952\",\"26373\",\"25400\",\"25446\",\"25394\",\"27067\",\"27300\",\"26976\",\"27334\",\"26560\",\"26450\",\"26788\",\"26811\",\"46034\",\"45300\",\"47400\",\"44856\",\"44666\",\"49773\",\"50564\",\"49244\",\"48716\",\"42452\",\"43910\",\"41089\",\"41240\",\"44656\",\"44299\",\"70408\",\"69463\",\"76174\",\"57894\",\"57264\",\"86507\",\"85707\",\"100368\",\"84104\",\"84470\",\"52783\",\"53572\",\"52329\",\"51397\",\"54562\",\"54638\",\"54421\",\"32614\",\"32336\",\"31976\",\"32946\",\"33048\",\"33177\",\"31634\",\"31878\",\"31941\",\"37871\",\"37958\",\"36779\",\"38810\",\"38374\",\"34774\",\"34756\",\"34838\",\"36421\",\"35250\",\"22997\",\"22989\",\"23002\",\"23128\",\"22783\",\"22750\",\"22831\",\"23463\",\"23421\",\"23377\",\"23499\",\"23677\",\"23154\",\"23210\",\"21632\",\"21426\",\"21983\",\"21984\",\"21199\",\"21238\",\"22397\",\"22505\",\"22248\",\"22510\",\"22070\",\"22148\",\"24784\",\"24769\",\"24592\",\"24909\",\"24854\",\"24505\",\"24492\",\"24545\",\"25202\",\"25296\",\"25198\",\"25369\",\"25088\",\"25067\",\"25167\",\"23867\",\"23868\",\"23830\",\"23890\",\"23686\",\"23719\",\"24035\",\"24283\",\"24211\",\"24208\",\"24482\",\"24071\",\"24164\",\"21065\",\"28390\",\"28259\",\"28654\",\"28823\",\"28599\",\"27704\",\"27709\",\"27579\",\"28204\",\"29979\",\"30499\",\"29744\",\"31250\",\"30993\",\"31623\",\"29092\",\"29186\",\"29359\",\"25641\",\"25711\",\"25472\",\"25952\",\"26373\",\"25400\",\"25446\",\"25394\",\"27067\",\"27300\",\"26976\",\"27334\",\"26560\",\"26450\",\"26788\",\"26811\",\"46034\",\"45300\",\"47400\",\"44856\",\"44666\",\"49773\",\"50564\",\"49244\",\"48716\",\"42452\",\"43910\",\"41089\",\"41240\",\"44656\",\"44299\",\"70408\",\"69463\",\"76174\",\"57894\",\"57264\",\"86507\",\"85707\",\"100368\",\"84104\",\"84470\",\"52783\",\"53572\",\"52329\",\"51397\",\"54562\",\"54638\",\"54421\",\"32614\",\"32336\",\"31976\",\"32946\",\"33048\",\"33177\",\"31634\",\"31878\",\"31941\",\"37871\",\"37958\",\"36779\",\"38810\",\"38374\",\"34774\",\"34756\",\"34838\",\"36421\",\"35250\",\"22997\",\"22989\",\"23002\",\"23128\",\"22783\",\"22750\",\"22831\",\"23463\",\"23421\",\"23377\",\"23499\",\"23677\",\"23154\",\"23210\",\"21632\",\"21426\",\"21983\",\"21984\",\"21199\",\"21238\",\"22397\",\"22505\",\"22248\",\"22510\",\"22070\",\"22148\",\"24784\",\"24769\",\"24592\",\"24909\",\"24854\",\"24505\",\"24492\",\"24545\",\"25202\",\"25296\",\"25198\",\"25369\",\"25088\",\"25067\",\"25167\",\"23867\",\"23868\",\"23830\",\"23890\",\"23686\",\"23719\",\"24035\",\"24283\",\"24211\",\"24208\",\"24482\",\"24071\",\"24164\",\"21065\",\"28390\",\"28259\",\"28654\",\"28823\",\"28599\",\"27704\",\"27709\",\"27579\",\"28204\",\"29979\",\"30499\",\"29744\",\"31250\",\"30993\",\"31623\",\"29092\",\"29186\",\"29359\",\"25641\",\"25711\",\"25472\",\"25952\",\"26373\",\"25400\",\"25446\",\"25394\",\"27067\",\"27300\",\"26976\",\"27334\",\"26560\",\"26450\",\"26788\",\"26811\",\"46034\",\"45300\",\"47400\",\"44856\",\"44666\",\"49773\",\"50564\",\"49244\",\"48716\",\"42452\",\"43910\",\"41089\",\"41240\",\"44656\",\"44299\",\"70408\",\"69463\",\"76174\",\"57894\",\"57264\",\"86507\",\"85707\",\"100368\",\"84104\",\"84470\",\"52783\",\"53572\",\"52329\",\"51397\",\"54562\",\"54638\",\"54421\",\"32614\",\"32336\",\"31976\",\"32946\",\"33048\",\"33177\",\"31634\",\"31878\",\"31941\",\"37871\",\"37958\",\"36779\",\"38810\",\"38374\",\"34774\",\"34756\",\"34838\",\"36421\",\"35250\",\"22997\",\"22989\",\"23002\",\"23128\",\"22783\",\"22750\",\"22831\",\"23463\",\"23421\",\"23377\",\"23499\",\"23677\",\"23154\",\"23210\",\"21632\",\"21426\",\"21983\",\"21984\",\"21199\",\"21238\",\"22397\",\"22505\",\"22248\",\"22510\",\"22070\",\"22148\",\"24784\",\"24769\",\"24592\",\"24909\",\"24854\",\"24505\",\"24492\",\"24545\",\"25202\",\"25296\",\"25198\",\"25369\",\"25088\",\"25067\",\"25167\",\"23867\",\"23868\",\"23830\",\"23890\",\"23686\",\"23719\",\"24035\",\"24283\",\"24211\",\"24208\",\"24482\",\"24071\",\"24164\",\"21065\",\"28390\",\"28259\",\"28654\",\"28823\",\"28599\",\"27704\",\"27709\",\"27579\",\"28204\",\"29979\",\"30499\",\"29744\",\"31250\",\"30993\",\"31623\",\"29092\",\"29186\",\"29359\",\"25641\",\"25711\",\"25472\",\"25952\",\"26373\",\"25400\",\"25446\",\"25394\",\"27067\",\"27300\",\"26976\",\"27334\",\"26560\",\"26450\",\"26788\",\"26811\",\"46034\",\"45300\",\"47400\",\"44856\",\"44666\",\"49773\",\"50564\",\"49244\",\"48716\",\"42452\",\"43910\",\"41089\",\"41240\",\"44656\",\"44299\",\"70408\",\"69463\",\"76174\",\"57894\",\"57264\",\"86507\",\"85707\",\"100368\",\"84104\",\"84470\",\"52783\",\"53572\",\"52329\",\"51397\",\"54562\",\"54638\",\"54421\",\"32614\",\"32336\",\"31976\",\"32946\",\"33048\",\"33177\",\"31634\",\"31878\",\"31941\",\"37871\",\"37958\",\"36779\",\"38810\",\"38374\",\"34774\",\"34756\",\"34838\",\"36421\",\"35250\",\"22997\",\"22989\",\"23002\",\"23128\",\"22783\",\"22750\",\"22831\",\"23463\",\"23421\",\"23377\",\"23499\",\"23677\",\"23154\",\"23210\",\"21632\",\"21426\",\"21983\",\"21984\",\"21199\",\"21238\",\"22397\",\"22505\",\"22248\",\"22510\",\"22070\",\"22148\",\"24784\",\"24769\",\"24592\",\"24909\",\"24854\",\"24505\",\"24492\",\"24545\",\"25202\",\"25296\",\"25198\",\"25369\",\"25088\",\"25067\",\"25167\",\"23867\",\"23868\",\"23830\",\"23890\",\"23686\",\"23719\",\"24035\",\"24283\",\"24211\",\"24208\",\"24482\",\"24071\",\"24164\",\"21065\",\"28390\",\"28259\",\"28654\",\"28823\",\"28599\",\"27704\",\"27709\",\"27579\",\"28204\",\"29979\",\"30499\",\"29744\",\"31250\",\"30993\",\"31623\",\"29092\",\"29186\",\"29359\",\"25641\",\"25711\",\"25472\",\"25952\",\"26373\",\"25400\",\"25446\",\"25394\",\"27067\",\"27300\",\"26976\",\"27334\",\"26560\",\"26450\",\"26788\",\"26811\",\"46034\",\"45300\",\"47400\",\"44856\",\"44666\",\"49773\",\"50564\",\"49244\",\"48716\",\"42452\",\"43910\",\"41089\",\"41240\",\"44656\",\"44299\",\"70408\",\"69463\",\"76174\",\"57894\",\"57264\",\"86507\",\"85707\",\"100368\",\"84104\",\"84470\",\"52783\",\"53572\",\"52329\",\"51397\",\"54562\",\"54638\",\"54421\",\"32614\",\"32336\",\"31976\",\"32946\",\"33048\",\"33177\",\"31634\",\"31878\",\"31941\",\"37871\",\"37958\",\"36779\",\"38810\",\"38374\",\"34774\",\"34756\",\"34838\",\"36421\",\"35250\",\"22997\",\"22989\",\"23002\",\"23128\",\"22783\",\"22750\",\"22831\",\"23463\",\"23421\",\"23377\",\"23499\",\"23677\",\"23154\",\"23210\",\"21632\",\"21426\",\"21983\",\"21984\",\"21199\",\"21238\",\"22397\",\"22505\",\"22248\",\"22510\",\"22070\",\"22148\",\"24784\",\"24769\",\"24592\",\"24909\",\"24854\",\"24505\",\"24492\",\"24545\",\"25202\",\"25296\",\"25198\",\"25369\",\"25088\",\"25067\",\"25167\",\"23867\",\"23868\",\"23830\",\"23890\",\"23686\",\"23719\",\"24035\",\"24283\",\"24211\",\"24208\",\"24482\",\"24071\",\"24164\",\"21065\",\"28390\",\"28259\",\"28654\",\"28823\",\"28599\",\"27704\",\"27709\",\"27579\",\"28204\",\"29979\",\"30499\",\"29744\",\"31250\",\"30993\",\"31623\",\"29092\",\"29186\",\"29359\",\"25641\",\"25711\",\"25472\",\"25952\",\"26373\",\"25400\",\"25446\",\"25394\",\"27067\",\"27300\",\"26976\",\"27334\",\"26560\",\"26450\",\"26788\",\"26811\",\"46034\",\"45300\",\"47400\",\"44856\",\"44666\",\"49773\",\"50564\",\"49244\",\"48716\",\"42452\",\"43910\",\"41089\",\"41240\",\"44656\",\"44299\",\"70408\",\"69463\",\"76174\",\"57894\",\"57264\",\"86507\",\"85707\",\"100368\",\"84104\",\"84470\",\"52783\",\"53572\",\"52329\",\"51397\",\"54562\",\"54638\",\"54421\",\"32614\",\"32336\",\"31976\",\"32946\",\"33048\",\"33177\",\"31634\",\"31878\",\"31941\",\"37871\",\"37958\",\"36779\",\"38810\",\"38374\",\"34774\",\"34756\",\"34838\",\"36421\",\"35250\",\"22997\",\"22989\",\"23002\",\"23128\",\"22783\",\"22750\",\"22831\",\"23463\",\"23421\",\"23377\",\"23499\",\"23677\",\"23154\",\"23210\",\"21632\",\"21426\",\"21983\",\"21984\",\"21199\",\"21238\",\"22397\",\"22505\",\"22248\",\"22510\",\"22070\",\"22148\",\"24784\",\"24769\",\"24592\",\"24909\",\"24854\",\"24505\",\"24492\",\"24545\",\"25202\",\"25296\",\"25198\",\"25369\",\"25088\",\"25067\",\"25167\",\"23867\",\"23868\",\"23830\",\"23890\",\"23686\",\"23719\",\"24035\",\"24283\",\"24211\",\"24208\",\"24482\",\"24071\",\"24164\",\"21065\",\"28390\",\"28259\",\"28654\",\"28823\",\"28599\",\"27704\",\"27709\",\"27579\",\"28204\",\"29979\",\"30499\",\"29744\",\"31250\",\"30993\",\"31623\",\"29092\",\"29186\",\"29359\",\"25641\",\"25711\",\"25472\",\"25952\",\"26373\",\"25400\",\"25446\",\"25394\",\"27067\",\"27300\",\"26976\",\"27334\",\"26560\",\"26450\",\"26788\",\"26811\",\"46034\",\"45300\",\"47400\",\"44856\",\"44666\",\"49773\",\"50564\",\"49244\",\"48716\",\"42452\",\"43910\",\"41089\",\"41240\",\"44656\",\"44299\",\"70408\",\"69463\",\"76174\",\"57894\",\"57264\",\"86507\",\"85707\",\"100368\",\"84104\",\"84470\",\"52783\",\"53572\",\"52329\",\"51397\",\"54562\",\"54638\",\"54421\",\"32614\",\"32336\",\"31976\",\"32946\",\"33048\",\"33177\",\"31634\",\"31878\",\"31941\",\"37871\",\"37958\",\"36779\",\"38810\",\"38374\",\"34774\",\"34756\",\"34838\",\"36421\",\"35250\",\"22997\",\"22989\",\"23002\",\"23128\",\"22783\",\"22750\",\"22831\",\"23463\",\"23421\",\"23377\",\"23499\",\"23677\",\"23154\",\"23210\",\"21632\",\"21426\",\"21983\",\"21984\",\"21199\",\"21238\",\"22397\",\"22505\",\"22248\",\"22510\",\"22070\",\"22148\",\"24784\",\"24769\",\"24592\",\"24909\",\"24854\",\"24505\",\"24492\",\"24545\",\"25202\",\"25296\",\"25198\",\"25369\",\"25088\",\"25067\",\"25167\",\"23867\",\"23868\",\"23830\",\"23890\",\"23686\",\"23719\",\"24035\",\"24283\",\"24211\",\"24208\",\"24482\",\"24071\",\"24164\",\"21065\",\"28390\",\"28259\",\"28654\",\"28823\",\"28599\",\"27704\",\"27709\",\"27579\",\"28204\",\"29979\",\"30499\",\"29744\",\"31250\",\"30993\",\"31623\",\"29092\",\"29186\",\"29359\",\"25641\",\"25711\",\"25472\",\"25952\",\"26373\",\"25400\",\"25446\",\"25394\",\"27067\",\"27300\",\"26976\",\"27334\",\"26560\",\"26450\",\"26788\",\"26811\",\"46034\",\"45300\",\"47400\",\"44856\",\"44666\",\"49773\",\"50564\",\"49244\",\"48716\",\"42452\",\"43910\",\"41089\",\"41240\",\"44656\",\"44299\",\"70408\",\"69463\",\"76174\",\"57894\",\"57264\",\"86507\",\"85707\",\"100368\",\"84104\",\"84470\",\"52783\",\"53572\",\"52329\",\"51397\",\"54562\",\"54638\",\"54421\",\"32614\",\"32336\",\"31976\",\"32946\",\"33048\",\"33177\",\"31634\",\"31878\",\"31941\",\"37871\",\"37958\",\"36779\",\"38810\",\"38374\",\"34774\",\"34756\",\"34838\",\"36421\",\"35250\",\"22997\",\"22989\",\"23002\",\"23128\",\"22783\",\"22750\",\"22831\",\"23463\",\"23421\",\"23377\",\"23499\",\"23677\",\"23154\",\"23210\",\"21632\",\"21426\",\"21983\",\"21984\",\"21199\",\"21238\",\"22397\",\"22505\",\"22248\",\"22510\",\"22070\",\"22148\",\"24784\",\"24769\",\"24592\",\"24909\",\"24854\",\"24505\",\"24492\",\"24545\",\"25202\",\"25296\",\"25198\",\"25369\",\"25088\",\"25067\",\"25167\",\"23867\",\"23868\",\"23830\",\"23890\",\"23686\",\"23719\",\"24035\",\"24283\",\"24211\",\"24208\",\"24482\",\"24071\",\"24164\",\"21065\",\"28390\",\"28259\",\"28654\",\"28823\",\"28599\",\"27704\",\"27709\",\"27579\",\"28204\",\"29979\",\"30499\",\"29744\",\"31250\",\"30993\",\"31623\",\"29092\",\"29186\",\"29359\",\"25641\",\"25711\",\"25472\",\"25952\",\"26373\",\"25400\",\"25446\",\"25394\",\"27067\",\"27300\",\"26976\",\"27334\",\"26560\",\"26450\",\"26788\",\"26811\",\"46034\",\"45300\",\"47400\",\"44856\",\"44666\",\"49773\",\"50564\",\"49244\",\"48716\",\"42452\",\"43910\",\"41089\",\"41240\",\"44656\",\"44299\",\"70408\",\"69463\",\"76174\",\"57894\",\"57264\",\"86507\",\"85707\",\"100368\",\"84104\",\"84470\",\"52783\",\"53572\",\"52329\",\"51397\",\"54562\",\"54638\",\"54421\",\"32614\",\"32336\",\"31976\",\"32946\",\"33048\",\"33177\",\"31634\",\"31878\",\"31941\",\"37871\",\"37958\",\"36779\",\"38810\",\"38374\",\"34774\",\"34756\",\"34838\",\"36421\",\"35250\",\"22997\",\"22989\",\"23002\",\"23128\",\"22783\",\"22750\",\"22831\",\"23463\",\"23421\",\"23377\",\"23499\",\"23677\",\"23154\",\"23210\",\"21632\",\"21426\",\"21983\",\"21984\",\"21199\",\"21238\",\"22397\",\"22505\",\"22248\",\"22510\",\"22070\",\"22148\",\"24784\",\"24769\",\"24592\",\"24909\",\"24854\",\"24505\",\"24492\",\"24545\",\"25202\",\"25296\",\"25198\",\"25369\",\"25088\",\"25067\",\"25167\",\"23867\",\"23868\",\"23830\",\"23890\",\"23686\",\"23719\",\"24035\",\"24283\",\"24211\",\"24208\",\"24482\",\"24071\",\"24164\",\"21065\",\"28390\",\"28259\",\"28654\",\"28823\",\"28599\",\"27704\",\"27709\",\"27579\",\"28204\",\"29979\",\"30499\",\"29744\",\"31250\",\"30993\",\"31623\",\"29092\",\"29186\",\"29359\",\"25641\",\"25711\",\"25472\",\"25952\",\"26373\",\"25400\",\"25446\",\"25394\",\"27067\",\"27300\",\"26976\",\"27334\",\"26560\",\"26450\",\"26788\",\"26811\",\"46034\",\"45300\",\"47400\",\"44856\",\"44666\",\"49773\",\"50564\",\"49244\",\"48716\",\"42452\",\"43910\",\"41089\",\"41240\",\"44656\",\"44299\",\"70408\",\"69463\",\"76174\",\"57894\",\"57264\",\"86507\",\"85707\",\"100368\",\"84104\",\"84470\",\"52783\",\"53572\",\"52329\",\"51397\",\"54562\",\"54638\",\"54421\",\"32614\",\"32336\",\"31976\",\"32946\",\"33048\",\"33177\",\"31634\",\"31878\",\"31941\",\"37871\",\"37958\",\"36779\",\"38810\",\"38374\",\"34774\",\"34756\",\"34838\",\"36421\",\"35250\",\"22997\",\"22989\",\"23002\",\"23128\",\"22783\",\"22750\",\"22831\",\"23463\",\"23421\",\"23377\",\"23499\",\"23677\",\"23154\",\"23210\",\"21632\",\"21426\",\"21983\",\"21984\",\"21199\",\"21238\",\"22397\",\"22505\",\"22248\",\"22510\",\"22070\",\"22148\",\"24784\",\"24769\",\"24592\",\"24909\",\"24854\",\"24505\",\"24492\",\"24545\",\"25202\",\"25296\",\"25198\",\"25369\",\"25088\",\"25067\",\"25167\",\"23867\",\"23868\",\"23830\",\"23890\",\"23686\",\"23719\",\"24035\",\"24283\",\"24211\",\"24208\",\"24482\",\"24071\",\"24164\",\"21065\",\"28390\",\"28259\",\"28654\",\"28823\",\"28599\",\"27704\",\"27709\",\"27579\",\"28204\",\"29979\",\"30499\",\"29744\",\"31250\",\"30993\",\"31623\",\"29092\",\"29186\",\"29359\",\"25641\",\"25711\",\"25472\",\"25952\",\"26373\",\"25400\",\"25446\",\"25394\",\"27067\",\"27300\",\"26976\",\"27334\",\"26560\",\"26450\",\"26788\",\"26811\",\"46034\",\"45300\",\"47400\",\"44856\",\"44666\",\"49773\",\"50564\",\"49244\",\"48716\",\"42452\",\"43910\",\"41089\",\"41240\",\"44656\",\"44299\",\"70408\",\"69463\",\"76174\",\"57894\",\"57264\",\"86507\",\"85707\",\"100368\",\"84104\",\"84470\",\"52783\",\"53572\",\"52329\",\"51397\",\"54562\",\"54638\",\"54421\",\"32614\",\"32336\",\"31976\",\"32946\",\"33048\",\"33177\",\"31634\",\"31878\",\"31941\",\"37871\",\"37958\",\"36779\",\"38810\",\"38374\",\"34774\",\"34756\",\"34838\",\"36421\",\"35250\",\"22997\",\"22989\",\"23002\",\"23128\",\"22783\",\"22750\",\"22831\",\"23463\",\"23421\",\"23377\",\"23499\",\"23677\",\"23154\",\"23210\",\"21632\",\"21426\",\"21983\",\"21984\",\"21199\",\"21238\",\"22397\",\"22505\",\"22248\",\"22510\",\"22070\",\"22148\",\"24784\",\"24769\",\"24592\",\"24909\",\"24854\",\"24505\",\"24492\",\"24545\",\"25202\",\"25296\",\"25198\",\"25369\",\"25088\",\"25067\",\"25167\",\"23867\",\"23868\",\"23830\",\"23890\",\"23686\",\"23719\",\"24035\",\"24283\",\"24211\",\"24208\",\"24482\",\"24071\",\"24164\",\"21065\",\"28390\",\"28259\",\"28654\",\"28823\",\"28599\",\"27704\",\"27709\",\"27579\",\"28204\",\"29979\",\"30499\",\"29744\",\"31250\",\"30993\",\"31623\",\"29092\",\"29186\",\"29359\",\"25641\",\"25711\",\"25472\",\"25952\",\"26373\",\"25400\",\"25446\",\"25394\",\"27067\",\"27300\",\"26976\",\"27334\",\"26560\",\"26450\",\"26788\",\"26811\",\"46034\",\"45300\",\"47400\",\"44856\",\"44666\",\"49773\",\"50564\",\"49244\",\"48716\",\"42452\",\"43910\",\"41089\",\"41240\",\"44656\",\"44299\",\"70408\",\"69463\",\"76174\",\"57894\",\"57264\",\"86507\",\"85707\",\"100368\",\"84104\",\"84470\",\"52783\",\"53572\",\"52329\",\"51397\",\"54562\",\"54638\",\"54421\",\"32614\",\"32336\",\"31976\",\"32946\",\"33048\",\"33177\",\"31634\",\"31878\",\"31941\",\"37871\",\"37958\",\"36779\",\"38810\",\"38374\",\"34774\",\"34756\",\"34838\",\"36421\",\"35250\",\"22997\",\"22989\",\"23002\",\"23128\",\"22783\",\"22750\",\"22831\",\"23463\",\"23421\",\"23377\",\"23499\",\"23677\",\"23154\",\"23210\",\"21632\",\"21426\",\"21983\",\"21984\",\"21199\",\"21238\",\"22397\",\"22505\",\"22248\",\"22510\",\"22070\",\"22148\",\"24784\",\"24769\",\"24592\",\"24909\",\"24854\",\"24505\",\"24492\",\"24545\",\"25202\",\"25296\",\"25198\",\"25369\",\"25088\",\"25067\",\"25167\",\"23867\",\"23868\",\"23830\",\"23890\",\"23686\",\"23719\",\"24035\",\"24283\",\"24211\",\"24208\",\"24482\",\"24071\",\"24164\",\"21065\",\"28390\",\"28259\",\"28654\",\"28823\",\"28599\",\"27704\",\"27709\",\"27579\",\"28204\",\"29979\",\"30499\",\"29744\",\"31250\",\"30993\",\"31623\",\"29092\",\"29186\",\"29359\",\"25641\",\"25711\",\"25472\",\"25952\",\"26373\",\"25400\",\"25446\",\"25394\",\"27067\",\"27300\",\"26976\",\"27334\",\"26560\",\"26450\",\"26788\",\"26811\",\"46034\",\"45300\",\"47400\",\"44856\",\"44666\",\"49773\",\"50564\",\"49244\",\"48716\",\"42452\",\"43910\",\"41089\",\"41240\",\"44656\",\"44299\",\"70408\",\"69463\",\"76174\",\"57894\",\"57264\",\"86507\",\"85707\",\"100368\",\"84104\",\"84470\",\"52783\",\"53572\",\"52329\",\"51397\",\"54562\",\"54638\",\"54421\",\"32614\",\"32336\",\"31976\",\"32946\",\"33048\",\"33177\",\"31634\",\"31878\",\"31941\",\"37871\",\"37958\",\"36779\",\"38810\",\"38374\",\"34774\",\"34756\",\"34838\",\"36421\",\"35250\",\"22997\",\"22989\",\"23002\",\"23128\",\"22783\",\"22750\",\"22831\",\"23463\",\"23421\",\"23377\",\"23499\",\"23677\",\"23154\",\"23210\",\"21632\",\"21426\",\"21983\",\"21984\",\"21199\",\"21238\",\"22397\",\"22505\",\"22248\",\"22510\",\"22070\",\"22148\",\"24784\",\"24769\",\"24592\",\"24909\",\"24854\",\"24505\",\"24492\",\"24545\",\"25202\",\"25296\",\"25198\",\"25369\",\"25088\",\"25067\",\"25167\",\"23867\",\"23868\",\"23830\",\"23890\",\"23686\",\"23719\",\"24035\",\"24283\",\"24211\",\"24208\",\"24482\",\"24071\",\"24164\",\"21065\",\"28390\",\"28259\",\"28654\",\"28823\",\"28599\",\"27704\",\"27709\",\"27579\",\"28204\",\"29979\",\"30499\",\"29744\",\"31250\",\"30993\",\"31623\",\"29092\",\"29186\",\"29359\",\"25641\",\"25711\",\"25472\",\"25952\",\"26373\",\"25400\",\"25446\",\"25394\",\"27067\",\"27300\",\"26976\",\"27334\",\"26560\",\"26450\",\"26788\",\"26811\",\"46034\",\"45300\",\"47400\",\"44856\",\"44666\",\"49773\",\"50564\",\"49244\",\"48716\",\"42452\",\"43910\",\"41089\",\"41240\",\"44656\",\"44299\",\"70408\",\"69463\",\"76174\",\"57894\",\"57264\",\"86507\",\"85707\",\"100368\",\"84104\",\"84470\",\"52783\",\"53572\",\"52329\",\"51397\",\"54562\",\"54638\",\"54421\",\"32614\",\"32336\",\"31976\",\"32946\",\"33048\",\"33177\",\"31634\",\"31878\",\"31941\",\"37871\",\"37958\",\"36779\",\"38810\",\"38374\",\"34774\",\"34756\",\"34838\",\"36421\",\"35250\",\"22997\",\"22989\",\"23002\",\"23128\",\"22783\",\"22750\",\"22831\",\"23463\",\"23421\",\"23377\",\"23499\",\"23677\",\"23154\",\"23210\",\"21632\",\"21426\",\"21983\",\"21984\",\"21199\",\"21238\",\"22397\",\"22505\",\"22248\",\"22510\",\"22070\",\"22148\",\"24784\",\"24769\",\"24592\",\"24909\",\"24854\",\"24505\",\"24492\",\"24545\",\"25202\",\"25296\",\"25198\",\"25369\",\"25088\",\"25067\",\"25167\",\"23867\",\"23868\",\"23830\",\"23890\",\"23686\",\"23719\",\"24035\",\"24283\",\"24211\",\"24208\",\"24482\",\"24071\",\"24164\",\"21065\",\"28390\",\"28259\",\"28654\",\"28823\",\"28599\",\"27704\",\"27709\",\"27579\",\"28204\",\"29979\",\"30499\",\"29744\",\"31250\",\"30993\",\"31623\",\"29092\",\"29186\",\"29359\",\"25641\",\"25711\",\"25472\",\"25952\",\"26373\",\"25400\",\"25446\",\"25394\",\"27067\",\"27300\",\"26976\",\"27334\",\"26560\",\"26450\",\"26788\",\"26811\",\"46034\",\"45300\",\"47400\",\"44856\",\"44666\",\"49773\",\"50564\",\"49244\",\"48716\",\"42452\",\"43910\",\"41089\",\"41240\",\"44656\",\"44299\",\"70408\",\"69463\",\"76174\",\"57894\",\"57264\",\"86507\",\"85707\",\"100368\",\"84104\",\"84470\",\"52783\",\"53572\",\"52329\",\"51397\",\"54562\",\"54638\",\"54421\",\"32614\",\"32336\",\"31976\",\"32946\",\"33048\",\"33177\",\"31634\",\"31878\",\"31941\",\"37871\",\"37958\",\"36779\",\"38810\",\"38374\",\"34774\",\"34756\",\"34838\",\"36421\",\"35250\",\"22997\",\"22989\",\"23002\",\"23128\",\"22783\",\"22750\",\"22831\",\"23463\",\"23421\",\"23377\",\"23499\",\"23677\",\"23154\",\"23210\",\"21632\",\"21426\",\"21983\",\"21984\",\"21199\",\"21238\",\"22397\",\"22505\",\"22248\",\"22510\",\"22070\",\"22148\",\"24784\",\"24769\",\"24592\",\"24909\",\"24854\",\"24505\",\"24492\",\"24545\",\"25202\",\"25296\",\"25198\",\"25369\",\"25088\",\"25067\",\"25167\",\"23867\",\"23868\",\"23830\",\"23890\",\"23686\",\"23719\",\"24035\",\"24283\",\"24211\",\"24208\",\"24482\",\"24071\",\"24164\",\"21065\",\"28390\",\"28259\",\"28654\",\"28823\",\"28599\",\"27704\",\"27709\",\"27579\",\"28204\",\"29979\",\"30499\",\"29744\",\"31250\",\"30993\",\"31623\",\"29092\",\"29186\",\"29359\",\"25641\",\"25711\",\"25472\",\"25952\",\"26373\",\"25400\",\"25446\",\"25394\",\"27067\",\"27300\",\"26976\",\"27334\",\"26560\",\"26450\",\"26788\",\"26811\",\"46034\",\"45300\",\"47400\",\"44856\",\"44666\",\"49773\",\"50564\",\"49244\",\"48716\",\"42452\",\"43910\",\"41089\",\"41240\",\"44656\",\"44299\",\"70408\",\"69463\",\"76174\",\"57894\",\"57264\",\"86507\",\"85707\",\"100368\",\"84104\",\"84470\",\"52783\",\"53572\",\"52329\",\"51397\",\"54562\",\"54638\",\"54421\",\"32614\",\"32336\",\"31976\",\"32946\",\"33048\",\"33177\",\"31634\",\"31878\",\"31941\",\"37871\",\"37958\",\"36779\",\"38810\",\"38374\",\"34774\",\"34756\",\"34838\",\"36421\",\"35250\",\"22997\",\"22989\",\"23002\",\"23128\",\"22783\",\"22750\",\"22831\",\"23463\",\"23421\",\"23377\",\"23499\",\"23677\",\"23154\",\"23210\",\"21632\",\"21426\",\"21983\",\"21984\",\"21199\",\"21238\",\"22397\",\"22505\",\"22248\",\"22510\",\"22070\",\"22148\",\"24784\",\"24769\",\"24592\",\"24909\",\"24854\",\"24505\",\"24492\",\"24545\",\"25202\",\"25296\",\"25198\",\"25369\",\"25088\",\"25067\",\"25167\",\"23867\",\"23868\",\"23830\",\"23890\",\"23686\",\"23719\",\"24035\",\"24283\",\"24211\",\"24208\",\"24482\",\"24071\",\"24164\",\"21065\",\"28390\",\"28259\",\"28654\",\"28823\",\"28599\",\"27704\",\"27709\",\"27579\",\"28204\",\"29979\",\"30499\",\"29744\",\"31250\",\"30993\",\"31623\",\"29092\",\"29186\",\"29359\",\"25641\",\"25711\",\"25472\",\"25952\",\"26373\",\"25400\",\"25446\",\"25394\",\"27067\",\"27300\",\"26976\",\"27334\",\"26560\",\"26450\",\"26788\",\"26811\",\"46034\",\"45300\",\"47400\",\"44856\",\"44666\",\"49773\",\"50564\",\"49244\",\"48716\",\"42452\",\"43910\",\"41089\",\"41240\",\"44656\",\"44299\",\"70408\",\"69463\",\"76174\",\"57894\",\"57264\",\"86507\",\"85707\",\"100368\",\"84104\",\"84470\",\"52783\",\"53572\",\"52329\",\"51397\",\"54562\",\"54638\",\"54421\",\"32614\",\"32336\",\"31976\",\"32946\",\"33048\",\"33177\",\"31634\",\"31878\",\"31941\",\"37871\",\"37958\",\"36779\",\"38810\",\"38374\",\"34774\",\"34756\",\"34838\",\"36421\",\"35250\",\"22997\",\"22989\",\"23002\",\"23128\",\"22783\",\"22750\",\"22831\",\"23463\",\"23421\",\"23377\",\"23499\",\"23677\",\"23154\",\"23210\",\"21632\",\"21426\",\"21983\",\"21984\",\"21199\",\"21238\",\"22397\",\"22505\",\"22248\",\"22510\",\"22070\",\"22148\",\"24784\",\"24769\",\"24592\",\"24909\",\"24854\",\"24505\",\"24492\",\"24545\",\"25202\",\"25296\",\"25198\",\"25369\",\"25088\",\"25067\",\"25167\",\"23867\",\"23868\",\"23830\",\"23890\",\"23686\",\"23719\",\"24035\",\"24283\",\"24211\",\"24208\",\"24482\",\"24071\",\"24164\",\"21065\",\"28390\",\"28259\",\"28654\",\"28823\",\"28599\",\"27704\",\"27709\",\"27579\",\"28204\",\"29979\",\"30499\",\"29744\",\"31250\",\"30993\",\"31623\",\"29092\",\"29186\",\"29359\",\"25641\",\"25711\",\"25472\",\"25952\",\"26373\",\"25400\",\"25446\",\"25394\",\"27067\",\"27300\",\"26976\",\"27334\",\"26560\",\"26450\",\"26788\",\"26811\",\"46034\",\"45300\",\"47400\",\"44856\",\"44666\",\"49773\",\"50564\",\"49244\",\"48716\",\"42452\",\"43910\",\"41089\",\"41240\",\"44656\",\"44299\",\"70408\",\"69463\",\"76174\",\"57894\",\"57264\",\"86507\",\"85707\",\"100368\",\"84104\",\"84470\",\"52783\",\"53572\",\"52329\",\"51397\",\"54562\",\"54638\",\"54421\",\"32614\",\"32336\",\"31976\",\"32946\",\"33048\",\"33177\",\"31634\",\"31878\",\"31941\",\"37871\",\"37958\",\"36779\",\"38810\",\"38374\",\"34774\",\"34756\",\"34838\",\"36421\",\"35250\",\"22997\",\"22989\",\"23002\",\"23128\",\"22783\",\"22750\",\"22831\",\"23463\",\"23421\",\"23377\",\"23499\",\"23677\",\"23154\",\"23210\",\"21632\",\"21426\",\"21983\",\"21984\",\"21199\",\"21238\",\"22397\",\"22505\",\"22248\",\"22510\",\"22070\",\"22148\",\"24784\",\"24769\",\"24592\",\"24909\",\"24854\",\"24505\",\"24492\",\"24545\",\"25202\",\"25296\",\"25198\",\"25369\",\"25088\",\"25067\",\"25167\",\"23867\",\"23868\",\"23830\",\"23890\",\"23686\",\"23719\",\"24035\",\"24283\",\"24211\",\"24208\",\"24482\",\"24071\",\"24164\",\"21065\",\"28390\",\"28259\",\"28654\",\"28823\",\"28599\",\"27704\",\"27709\",\"27579\",\"28204\",\"29979\",\"30499\",\"29744\",\"31250\",\"30993\",\"31623\",\"29092\",\"29186\",\"29359\",\"25641\",\"25711\",\"25472\",\"25952\",\"26373\",\"25400\",\"25446\",\"25394\",\"27067\",\"27300\",\"26976\",\"27334\",\"26560\",\"26450\",\"26788\",\"26811\",\"46034\",\"45300\",\"47400\",\"44856\",\"44666\",\"49773\",\"50564\",\"49244\",\"48716\",\"42452\",\"43910\",\"41089\",\"41240\",\"44656\",\"44299\",\"70408\",\"69463\",\"76174\",\"57894\",\"57264\",\"86507\",\"85707\",\"100368\",\"84104\",\"84470\",\"52783\",\"53572\",\"52329\",\"51397\",\"54562\",\"54638\",\"54421\",\"32614\",\"32336\",\"31976\",\"32946\",\"33048\",\"33177\",\"31634\",\"31878\",\"31941\",\"37871\",\"37958\",\"36779\",\"38810\",\"38374\",\"34774\",\"34756\",\"34838\",\"36421\",\"35250\",\"22997\",\"22989\",\"23002\",\"23128\",\"22783\",\"22750\",\"22831\",\"23463\",\"23421\",\"23377\",\"23499\",\"23677\",\"23154\",\"23210\",\"21632\",\"21426\",\"21983\",\"21984\",\"21199\",\"21238\",\"22397\",\"22505\",\"22248\",\"22510\",\"22070\",\"22148\",\"24784\",\"24769\",\"24592\",\"24909\",\"24854\",\"24505\",\"24492\",\"24545\",\"25202\",\"25296\",\"25198\",\"25369\",\"25088\",\"25067\",\"25167\",\"23867\",\"23868\",\"23830\",\"23890\",\"23686\",\"23719\",\"24035\",\"24283\",\"24211\",\"24208\",\"24482\",\"24071\",\"24164\",\"21065\",\"28390\",\"28259\",\"28654\",\"28823\",\"28599\",\"27704\",\"27709\",\"27579\",\"28204\",\"29979\",\"30499\",\"29744\",\"31250\",\"30993\",\"31623\",\"29092\",\"29186\",\"29359\",\"25641\",\"25711\",\"25472\",\"25952\",\"26373\",\"25400\",\"25446\",\"25394\",\"27067\",\"27300\",\"26976\",\"27334\",\"26560\",\"26450\",\"26788\",\"26811\",\"46034\",\"45300\",\"47400\",\"44856\",\"44666\",\"49773\",\"50564\",\"49244\",\"48716\",\"42452\",\"43910\",\"41089\",\"41240\",\"44656\",\"44299\",\"70408\",\"69463\",\"76174\",\"57894\",\"57264\",\"86507\",\"85707\",\"100368\",\"84104\",\"84470\",\"52783\",\"53572\",\"52329\",\"51397\",\"54562\",\"54638\",\"54421\",\"32614\",\"32336\",\"31976\",\"32946\",\"33048\",\"33177\",\"31634\",\"31878\",\"31941\",\"37871\",\"37958\",\"36779\",\"38810\",\"38374\",\"34774\",\"34756\",\"34838\",\"36421\",\"35250\",\"22997\",\"22989\",\"23002\",\"23128\",\"22783\",\"22750\",\"22831\",\"23463\",\"23421\",\"23377\",\"23499\",\"23677\",\"23154\",\"23210\",\"21632\",\"21426\",\"21983\",\"21984\",\"21199\",\"21238\",\"22397\",\"22505\",\"22248\",\"22510\",\"22070\",\"22148\",\"24784\",\"24769\",\"24592\",\"24909\",\"24854\",\"24505\",\"24492\",\"24545\",\"25202\",\"25296\",\"25198\",\"25369\",\"25088\",\"25067\",\"25167\",\"23867\",\"23868\",\"23830\",\"23890\",\"23686\",\"23719\",\"24035\",\"24283\",\"24211\",\"24208\",\"24482\",\"24071\",\"24164\",\"21065\",\"28390\",\"28259\",\"28654\",\"28823\",\"28599\",\"27704\",\"27709\",\"27579\",\"28204\",\"29979\",\"30499\",\"29744\",\"31250\",\"30993\",\"31623\",\"29092\",\"29186\",\"29359\",\"25641\",\"25711\",\"25472\",\"25952\",\"26373\",\"25400\",\"25446\",\"25394\",\"27067\",\"27300\",\"26976\",\"27334\",\"26560\",\"26450\",\"26788\",\"26811\",\"46034\",\"45300\",\"47400\",\"44856\",\"44666\",\"49773\",\"50564\",\"49244\",\"48716\",\"42452\",\"43910\",\"41089\",\"41240\",\"44656\",\"44299\",\"70408\",\"69463\",\"76174\",\"57894\",\"57264\",\"86507\",\"85707\",\"100368\",\"84104\",\"84470\",\"52783\",\"53572\",\"52329\",\"51397\",\"54562\",\"54638\",\"54421\",\"32614\",\"32336\",\"31976\",\"32946\",\"33048\",\"33177\",\"31634\",\"31878\",\"31941\",\"37871\",\"37958\",\"36779\",\"38810\",\"38374\",\"34774\",\"34756\",\"34838\",\"36421\",\"35250\",\"22997\",\"22989\",\"23002\",\"23128\",\"22783\",\"22750\",\"22831\",\"23463\",\"23421\",\"23377\",\"23499\",\"23677\",\"23154\",\"23210\",\"21632\",\"21426\",\"21983\",\"21984\",\"21199\",\"21238\",\"22397\",\"22505\",\"22248\",\"22510\",\"22070\",\"22148\",\"24784\",\"24769\",\"24592\",\"24909\",\"24854\",\"24505\",\"24492\",\"24545\",\"25202\",\"25296\",\"25198\",\"25369\",\"25088\",\"25067\",\"25167\",\"23867\",\"23868\",\"23830\",\"23890\",\"23686\",\"23719\",\"24035\",\"24283\",\"24211\",\"24208\",\"24482\",\"24071\",\"24164\",\"21065\",\"28390\",\"28259\",\"28654\",\"28823\",\"28599\",\"27704\",\"27709\",\"27579\",\"28204\",\"29979\",\"30499\",\"29744\",\"31250\",\"30993\",\"31623\",\"29092\",\"29186\",\"29359\",\"25641\",\"25711\",\"25472\",\"25952\",\"26373\",\"25400\",\"25446\",\"25394\",\"27067\",\"27300\",\"26976\",\"27334\",\"26560\",\"26450\",\"26788\",\"26811\",\"46034\",\"45300\",\"47400\",\"44856\",\"44666\",\"49773\",\"50564\",\"49244\",\"48716\",\"42452\",\"43910\",\"41089\",\"41240\",\"44656\",\"44299\",\"70408\",\"69463\",\"76174\",\"57894\",\"57264\",\"86507\",\"85707\",\"100368\",\"84104\",\"84470\",\"52783\",\"53572\",\"52329\",\"51397\",\"54562\",\"54638\",\"54421\",\"32614\",\"32336\",\"31976\",\"32946\",\"33048\",\"33177\",\"31634\",\"31878\",\"31941\",\"37871\",\"37958\",\"36779\",\"38810\",\"38374\",\"34774\",\"34756\",\"34838\",\"36421\",\"35250\",\"22997\",\"22989\",\"23002\",\"23128\",\"22783\",\"22750\",\"22831\",\"23463\",\"23421\",\"23377\",\"23499\",\"23677\",\"23154\",\"23210\",\"21632\",\"21426\",\"21983\",\"21984\",\"21199\",\"21238\",\"22397\",\"22505\",\"22248\",\"22510\",\"22070\",\"22148\",\"24784\",\"24769\",\"24592\",\"24909\",\"24854\",\"24505\",\"24492\",\"24545\",\"25202\",\"25296\",\"25198\",\"25369\",\"25088\",\"25067\",\"25167\",\"23867\",\"23868\",\"23830\",\"23890\",\"23686\",\"23719\",\"24035\",\"24283\",\"24211\",\"24208\",\"24482\",\"24071\",\"24164\",\"21065\",\"28390\",\"28259\",\"28654\",\"28823\",\"28599\",\"27704\",\"27709\",\"27579\",\"28204\",\"29979\",\"30499\",\"29744\",\"31250\",\"30993\",\"31623\",\"29092\",\"29186\",\"29359\",\"25641\",\"25711\",\"25472\",\"25952\",\"26373\",\"25400\",\"25446\",\"25394\",\"27067\",\"27300\",\"26976\",\"27334\",\"26560\",\"26450\",\"26788\",\"26811\",\"46034\",\"45300\",\"47400\",\"44856\",\"44666\",\"49773\",\"50564\",\"49244\",\"48716\",\"42452\",\"43910\",\"41089\",\"41240\",\"44656\",\"44299\",\"70408\",\"69463\",\"76174\",\"57894\",\"57264\",\"86507\",\"85707\",\"100368\",\"84104\",\"84470\",\"52783\",\"53572\",\"52329\",\"51397\",\"54562\",\"54638\",\"54421\",\"32614\",\"32336\",\"31976\",\"32946\",\"33048\",\"33177\",\"31634\",\"31878\",\"31941\",\"37871\",\"37958\",\"36779\",\"38810\",\"38374\",\"34774\",\"34756\",\"34838\",\"36421\",\"35250\",\"22997\",\"22989\",\"23002\",\"23128\",\"22783\",\"22750\",\"22831\",\"23463\",\"23421\",\"23377\",\"23499\",\"23677\",\"23154\",\"23210\",\"21632\",\"21426\",\"21983\",\"21984\",\"21199\",\"21238\",\"22397\",\"22505\",\"22248\",\"22510\",\"22070\",\"22148\",\"24784\",\"24769\",\"24592\",\"24909\",\"24854\",\"24505\",\"24492\",\"24545\",\"25202\",\"25296\",\"25198\",\"25369\",\"25088\",\"25067\",\"25167\",\"23867\",\"23868\",\"23830\",\"23890\",\"23686\",\"23719\",\"24035\",\"24283\",\"24211\",\"24208\",\"24482\",\"24071\",\"24164\",\"21065\",\"28390\",\"28259\",\"28654\",\"28823\",\"28599\",\"27704\",\"27709\",\"27579\",\"28204\",\"29979\",\"30499\",\"29744\",\"31250\",\"30993\",\"31623\",\"29092\",\"29186\",\"29359\",\"25641\",\"25711\",\"25472\",\"25952\",\"26373\",\"25400\",\"25446\",\"25394\",\"27067\",\"27300\",\"26976\",\"27334\",\"26560\",\"26450\",\"26788\",\"26811\",\"46034\",\"45300\",\"47400\",\"44856\",\"44666\",\"49773\",\"50564\",\"49244\",\"48716\",\"42452\",\"43910\",\"41089\",\"41240\",\"44656\",\"44299\",\"70408\",\"69463\",\"76174\",\"57894\",\"57264\",\"86507\",\"85707\",\"100368\",\"84104\",\"84470\",\"52783\",\"53572\",\"52329\",\"51397\",\"54562\",\"54638\",\"54421\",\"32614\",\"32336\",\"31976\",\"32946\",\"33048\",\"33177\",\"31634\",\"31878\",\"31941\",\"37871\",\"37958\",\"36779\",\"38810\",\"38374\",\"34774\",\"34756\",\"34838\",\"36421\",\"35250\",\"22997\",\"22989\",\"23002\",\"23128\",\"22783\",\"22750\",\"22831\",\"23463\",\"23421\",\"23377\",\"23499\",\"23677\",\"23154\",\"23210\",\"21632\",\"21426\",\"21983\",\"21984\",\"21199\",\"21238\",\"22397\",\"22505\",\"22248\",\"22510\",\"22070\",\"22148\",\"24784\",\"24769\",\"24592\",\"24909\",\"24854\",\"24505\",\"24492\",\"24545\",\"25202\",\"25296\",\"25198\",\"25369\",\"25088\",\"25067\",\"25167\",\"23867\",\"23868\",\"23830\",\"23890\",\"23686\",\"23719\",\"24035\",\"24283\",\"24211\",\"24208\",\"24482\",\"24071\",\"24164\",\"21065\",\"28390\",\"28259\",\"28654\",\"28823\",\"28599\",\"27704\",\"27709\",\"27579\",\"28204\",\"29979\",\"30499\",\"29744\",\"31250\",\"30993\",\"31623\",\"29092\",\"29186\",\"29359\",\"25641\",\"25711\",\"25472\",\"25952\",\"26373\",\"25400\",\"25446\",\"25394\",\"27067\",\"27300\",\"26976\",\"27334\",\"26560\",\"26450\",\"26788\",\"26811\",\"46034\",\"45300\",\"47400\",\"44856\",\"44666\",\"49773\",\"50564\",\"49244\",\"48716\",\"42452\",\"43910\",\"41089\",\"41240\",\"44656\",\"44299\",\"70408\",\"69463\",\"76174\",\"57894\",\"57264\",\"86507\",\"85707\",\"100368\",\"84104\",\"84470\",\"52783\",\"53572\",\"52329\",\"51397\",\"54562\",\"54638\",\"54421\",\"32614\",\"32336\",\"31976\",\"32946\",\"33048\",\"33177\",\"31634\",\"31878\",\"31941\",\"37871\",\"37958\",\"36779\",\"38810\",\"38374\",\"34774\",\"34756\",\"34838\",\"36421\",\"35250\",\"22997\",\"22989\",\"23002\",\"23128\",\"22783\",\"22750\",\"22831\",\"23463\",\"23421\",\"23377\",\"23499\",\"23677\",\"23154\",\"23210\",\"21632\",\"21426\",\"21983\",\"21984\",\"21199\",\"21238\",\"22397\",\"22505\",\"22248\",\"22510\",\"22070\",\"22148\",\"24784\",\"24769\",\"24592\",\"24909\",\"24854\",\"24505\",\"24492\",\"24545\",\"25202\",\"25296\",\"25198\",\"25369\",\"25088\",\"25067\",\"25167\",\"23867\",\"23868\",\"23830\",\"23890\",\"23686\",\"23719\",\"24035\",\"24283\",\"24211\",\"24208\",\"24482\",\"24071\",\"24164\",\"21065\",\"28390\",\"28259\",\"28654\",\"28823\",\"28599\",\"27704\",\"27709\",\"27579\",\"28204\",\"29979\",\"30499\",\"29744\",\"31250\",\"30993\",\"31623\",\"29092\",\"29186\",\"29359\",\"25641\",\"25711\",\"25472\",\"25952\",\"26373\",\"25400\",\"25446\",\"25394\",\"27067\",\"27300\",\"26976\",\"27334\",\"26560\",\"26450\",\"26788\",\"26811\",\"46034\",\"45300\",\"47400\",\"44856\",\"44666\",\"49773\",\"50564\",\"49244\",\"48716\",\"42452\",\"43910\",\"41089\",\"41240\",\"44656\",\"44299\",\"70408\",\"69463\",\"76174\",\"57894\",\"57264\",\"86507\",\"85707\",\"100368\",\"84104\",\"84470\",\"52783\",\"53572\",\"52329\",\"51397\",\"54562\",\"54638\",\"54421\",\"32614\",\"32336\",\"31976\",\"32946\",\"33048\",\"33177\",\"31634\",\"31878\",\"31941\",\"37871\",\"37958\",\"36779\",\"38810\",\"38374\",\"34774\",\"34756\",\"34838\",\"36421\",\"35250\",\"22997\",\"22989\",\"23002\",\"23128\",\"22783\",\"22750\",\"22831\",\"23463\",\"23421\",\"23377\",\"23499\",\"23677\",\"23154\",\"23210\",\"21632\",\"21426\",\"21983\",\"21984\",\"21199\",\"21238\",\"22397\",\"22505\",\"22248\",\"22510\",\"22070\",\"22148\",\"24784\",\"24769\",\"24592\",\"24909\",\"24854\",\"24505\",\"24492\",\"24545\",\"25202\",\"25296\",\"25198\",\"25369\",\"25088\",\"25067\",\"25167\",\"23867\",\"23868\",\"23830\",\"23890\",\"23686\",\"23719\",\"24035\",\"24283\",\"24211\",\"24208\",\"24482\",\"24071\",\"24164\",\"21065\",\"28390\",\"28259\",\"28654\",\"28823\",\"28599\",\"27704\",\"27709\",\"27579\",\"28204\",\"29979\",\"30499\",\"29744\",\"31250\",\"30993\",\"31623\",\"29092\",\"29186\",\"29359\",\"25641\",\"25711\",\"25472\",\"25952\",\"26373\",\"25400\",\"25446\",\"25394\",\"27067\",\"27300\",\"26976\",\"27334\",\"26560\",\"26450\",\"26788\",\"26811\",\"46034\",\"45300\",\"47400\",\"44856\",\"44666\",\"49773\",\"50564\",\"49244\",\"48716\",\"42452\",\"43910\",\"41089\",\"41240\",\"44656\",\"44299\",\"70408\",\"69463\",\"76174\",\"57894\",\"57264\",\"86507\",\"85707\",\"100368\",\"84104\",\"84470\",\"52783\",\"53572\",\"52329\",\"51397\",\"54562\",\"54638\",\"54421\",\"32614\",\"32336\",\"31976\",\"32946\",\"33048\",\"33177\",\"31634\",\"31878\",\"31941\",\"37871\",\"37958\",\"36779\",\"38810\",\"38374\",\"34774\",\"34756\",\"34838\",\"36421\",\"35250\",\"22997\",\"22989\",\"23002\",\"23128\",\"22783\",\"22750\",\"22831\",\"23463\",\"23421\",\"23377\",\"23499\",\"23677\",\"23154\",\"23210\",\"21632\",\"21426\",\"21983\",\"21984\",\"21199\",\"21238\",\"22397\",\"22505\",\"22248\",\"22510\",\"22070\",\"22148\",\"24784\",\"24769\",\"24592\",\"24909\",\"24854\",\"24505\",\"24492\",\"24545\",\"25202\",\"25296\",\"25198\",\"25369\",\"25088\",\"25067\",\"25167\",\"23867\",\"23868\",\"23830\",\"23890\",\"23686\",\"23719\",\"24035\",\"24283\",\"24211\",\"24208\",\"24482\",\"24071\",\"24164\",\"21065\",\"28390\",\"28259\",\"28654\",\"28823\",\"28599\",\"27704\",\"27709\",\"27579\",\"28204\",\"29979\",\"30499\",\"29744\",\"31250\",\"30993\",\"31623\",\"29092\",\"29186\",\"29359\",\"25641\",\"25711\",\"25472\",\"25952\",\"26373\",\"25400\",\"25446\",\"25394\",\"27067\",\"27300\",\"26976\",\"27334\",\"26560\",\"26450\",\"26788\",\"26811\",\"46034\",\"45300\",\"47400\",\"44856\",\"44666\",\"49773\",\"50564\",\"49244\",\"48716\",\"42452\",\"43910\",\"41089\",\"41240\",\"44656\",\"44299\",\"70408\",\"69463\",\"76174\",\"57894\",\"57264\",\"86507\",\"85707\",\"100368\",\"84104\",\"84470\",\"52783\",\"53572\",\"52329\",\"51397\",\"54562\",\"54638\",\"54421\",\"32614\",\"32336\",\"31976\",\"32946\",\"33048\",\"33177\",\"31634\",\"31878\",\"31941\",\"37871\",\"37958\",\"36779\",\"38810\",\"38374\",\"34774\",\"34756\",\"34838\",\"36421\",\"35250\",\"22997\",\"22989\",\"23002\",\"23128\",\"22783\",\"22750\",\"22831\",\"23463\",\"23421\",\"23377\",\"23499\",\"23677\",\"23154\",\"23210\",\"21632\",\"21426\",\"21983\",\"21984\",\"21199\",\"21238\",\"22397\",\"22505\",\"22248\",\"22510\",\"22070\",\"22148\",\"24784\",\"24769\",\"24592\",\"24909\",\"24854\",\"24505\",\"24492\",\"24545\",\"25202\",\"25296\",\"25198\",\"25369\",\"25088\",\"25067\",\"25167\",\"23867\",\"23868\",\"23830\",\"23890\",\"23686\",\"23719\",\"24035\",\"24283\",\"24211\",\"24208\",\"24482\",\"24071\",\"24164\",\"21065\",\"28390\",\"28259\",\"28654\",\"28823\",\"28599\",\"27704\",\"27709\",\"27579\",\"28204\",\"29979\",\"30499\",\"29744\",\"31250\",\"30993\",\"31623\",\"29092\",\"29186\",\"29359\",\"25641\",\"25711\",\"25472\",\"25952\",\"26373\",\"25400\",\"25446\",\"25394\",\"27067\",\"27300\",\"26976\",\"27334\",\"26560\",\"26450\",\"26788\",\"26811\",\"46034\",\"45300\",\"47400\",\"44856\",\"44666\",\"49773\",\"50564\",\"49244\",\"48716\",\"42452\",\"43910\",\"41089\",\"41240\",\"44656\",\"44299\",\"70408\",\"69463\",\"76174\",\"57894\",\"57264\",\"86507\",\"85707\",\"100368\",\"84104\",\"84470\",\"52783\",\"53572\",\"52329\",\"51397\",\"54562\",\"54638\",\"54421\",\"32614\",\"32336\",\"31976\",\"32946\",\"33048\",\"33177\",\"31634\",\"31878\",\"31941\",\"37871\",\"37958\",\"36779\",\"38810\",\"38374\",\"34774\",\"34756\",\"34838\",\"36421\",\"35250\",\"22997\",\"22989\",\"23002\",\"23128\",\"22783\",\"22750\",\"22831\",\"23463\",\"23421\",\"23377\",\"23499\",\"23677\",\"23154\",\"23210\",\"21632\",\"21426\",\"21983\",\"21984\",\"21199\",\"21238\",\"22397\",\"22505\",\"22248\",\"22510\",\"22070\",\"22148\",\"24784\",\"24769\",\"24592\",\"24909\",\"24854\",\"24505\",\"24492\",\"24545\",\"25202\",\"25296\",\"25198\",\"25369\",\"25088\",\"25067\",\"25167\",\"23867\",\"23868\",\"23830\",\"23890\",\"23686\",\"23719\",\"24035\",\"24283\",\"24211\",\"24208\",\"24482\",\"24071\",\"24164\",\"21065\",\"28390\",\"28259\",\"28654\",\"28823\",\"28599\",\"27704\",\"27709\",\"27579\",\"28204\",\"29979\",\"30499\",\"29744\",\"31250\",\"30993\",\"31623\",\"29092\",\"29186\",\"29359\",\"25641\",\"25711\",\"25472\",\"25952\",\"26373\",\"25400\",\"25446\",\"25394\",\"27067\",\"27300\",\"26976\",\"27334\",\"26560\",\"26450\",\"26788\",\"26811\",\"46034\",\"45300\",\"47400\",\"44856\",\"44666\",\"49773\",\"50564\",\"49244\",\"48716\",\"42452\",\"43910\",\"41089\",\"41240\",\"44656\",\"44299\",\"70408\",\"69463\",\"76174\",\"57894\",\"57264\",\"86507\",\"85707\",\"100368\",\"84104\",\"84470\",\"52783\",\"53572\",\"52329\",\"51397\",\"54562\",\"54638\",\"54421\",\"32614\",\"32336\",\"31976\",\"32946\",\"33048\",\"33177\",\"31634\",\"31878\",\"31941\",\"37871\",\"37958\",\"36779\",\"38810\",\"38374\",\"34774\",\"34756\",\"34838\",\"36421\",\"35250\",\"22997\",\"22989\",\"23002\",\"23128\",\"22783\",\"22750\",\"22831\",\"23463\",\"23421\",\"23377\",\"23499\",\"23677\",\"23154\",\"23210\",\"21632\",\"21426\",\"21983\",\"21984\",\"21199\",\"21238\",\"22397\",\"22505\",\"22248\",\"22510\",\"22070\",\"22148\",\"24784\",\"24769\",\"24592\",\"24909\",\"24854\",\"24505\",\"24492\",\"24545\",\"25202\",\"25296\",\"25198\",\"25369\",\"25088\",\"25067\",\"25167\",\"23867\",\"23868\",\"23830\",\"23890\",\"23686\",\"23719\",\"24035\",\"24283\",\"24211\",\"24208\",\"24482\",\"24071\",\"24164\",\"21065\",\"28390\",\"28259\",\"28654\",\"28823\",\"28599\",\"27704\",\"27709\",\"27579\",\"28204\",\"29979\",\"30499\",\"29744\",\"31250\",\"30993\",\"31623\",\"29092\",\"29186\",\"29359\",\"25641\",\"25711\",\"25472\",\"25952\",\"26373\",\"25400\",\"25446\",\"25394\",\"27067\",\"27300\",\"26976\",\"27334\",\"26560\",\"26450\",\"26788\",\"26811\",\"46034\",\"45300\",\"47400\",\"44856\",\"44666\",\"49773\",\"50564\",\"49244\",\"48716\",\"42452\",\"43910\",\"41089\",\"41240\",\"44656\",\"44299\",\"70408\",\"69463\",\"76174\",\"57894\",\"57264\",\"86507\",\"85707\",\"100368\",\"84104\",\"84470\",\"52783\",\"53572\",\"52329\",\"51397\",\"54562\",\"54638\",\"54421\",\"32614\",\"32336\",\"31976\",\"32946\",\"33048\",\"33177\",\"31634\",\"31878\",\"31941\",\"37871\",\"37958\",\"36779\",\"38810\",\"38374\",\"34774\",\"34756\",\"34838\",\"36421\",\"35250\",\"22997\",\"22989\",\"23002\",\"23128\",\"22783\",\"22750\",\"22831\",\"23463\",\"23421\",\"23377\",\"23499\",\"23677\",\"23154\",\"23210\",\"21632\",\"21426\",\"21983\",\"21984\",\"21199\",\"21238\",\"22397\",\"22505\",\"22248\",\"22510\",\"22070\",\"22148\",\"24784\",\"24769\",\"24592\",\"24909\",\"24854\",\"24505\",\"24492\",\"24545\",\"25202\",\"25296\",\"25198\",\"25369\",\"25088\",\"25067\",\"25167\",\"23867\",\"23868\",\"23830\",\"23890\",\"23686\",\"23719\",\"24035\",\"24283\",\"24211\",\"24208\",\"24482\",\"24071\",\"24164\",\"21065\",\"28390\",\"28259\",\"28654\",\"28823\",\"28599\",\"27704\",\"27709\",\"27579\",\"28204\",\"29979\",\"30499\",\"29744\",\"31250\",\"30993\",\"31623\",\"29092\",\"29186\",\"29359\",\"25641\",\"25711\",\"25472\",\"25952\",\"26373\",\"25400\",\"25446\",\"25394\",\"27067\",\"27300\",\"26976\",\"27334\",\"26560\",\"26450\",\"26788\",\"26811\",\"46034\",\"45300\",\"47400\",\"44856\",\"44666\",\"49773\",\"50564\",\"49244\",\"48716\",\"42452\",\"43910\",\"41089\",\"41240\",\"44656\",\"44299\",\"70408\",\"69463\",\"76174\",\"57894\",\"57264\",\"86507\",\"85707\",\"100368\",\"84104\",\"84470\",\"52783\",\"53572\",\"52329\",\"51397\",\"54562\",\"54638\",\"54421\",\"32614\",\"32336\",\"31976\",\"32946\",\"33048\",\"33177\",\"31634\",\"31878\",\"31941\",\"37871\",\"37958\",\"36779\",\"38810\",\"38374\",\"34774\",\"34756\",\"34838\",\"36421\",\"35250\",\"22997\",\"22989\",\"23002\",\"23128\",\"22783\",\"22750\",\"22831\",\"23463\",\"23421\",\"23377\",\"23499\",\"23677\",\"23154\",\"23210\",\"21632\",\"21426\",\"21983\",\"21984\",\"21199\",\"21238\",\"22397\",\"22505\",\"22248\",\"22510\",\"22070\",\"22148\",\"24784\",\"24769\",\"24592\",\"24909\",\"24854\",\"24505\",\"24492\",\"24545\",\"25202\",\"25296\",\"25198\",\"25369\",\"25088\",\"25067\",\"25167\",\"23867\",\"23868\",\"23830\",\"23890\",\"23686\",\"23719\",\"24035\",\"24283\",\"24211\",\"24208\",\"24482\",\"24071\",\"24164\",\"21065\",\"28390\",\"28259\",\"28654\",\"28823\",\"28599\",\"27704\",\"27709\",\"27579\",\"28204\",\"29979\",\"30499\",\"29744\",\"31250\",\"30993\",\"31623\",\"29092\",\"29186\",\"29359\",\"25641\",\"25711\",\"25472\",\"25952\",\"26373\",\"25400\",\"25446\",\"25394\",\"27067\",\"27300\",\"26976\",\"27334\",\"26560\",\"26450\",\"26788\",\"26811\",\"46034\",\"45300\",\"47400\",\"44856\",\"44666\",\"49773\",\"50564\",\"49244\",\"48716\",\"42452\",\"43910\",\"41089\",\"41240\",\"44656\",\"44299\",\"70408\",\"69463\",\"76174\",\"57894\",\"57264\",\"86507\",\"85707\",\"100368\",\"84104\",\"84470\",\"52783\",\"53572\",\"52329\",\"51397\",\"54562\",\"54638\",\"54421\",\"32614\",\"32336\",\"31976\",\"32946\",\"33048\",\"33177\",\"31634\",\"31878\",\"31941\",\"37871\",\"37958\",\"36779\",\"38810\",\"38374\",\"34774\",\"34756\",\"34838\",\"36421\",\"35250\",\"22997\",\"22989\",\"23002\",\"23128\",\"22783\",\"22750\",\"22831\",\"23463\",\"23421\",\"23377\",\"23499\",\"23677\",\"23154\",\"23210\",\"21632\",\"21426\",\"21983\",\"21984\",\"21199\",\"21238\",\"22397\",\"22505\",\"22248\",\"22510\",\"22070\",\"22148\",\"24784\",\"24769\",\"24592\",\"24909\",\"24854\",\"24505\",\"24492\",\"24545\",\"25202\",\"25296\",\"25198\",\"25369\",\"25088\",\"25067\",\"25167\",\"23867\",\"23868\",\"23830\",\"23890\",\"23686\",\"23719\",\"24035\",\"24283\",\"24211\",\"24208\",\"24482\",\"24071\",\"24164\",\"21065\",\"28390\",\"28259\",\"28654\",\"28823\",\"28599\",\"27704\",\"27709\",\"27579\",\"28204\",\"29979\",\"30499\",\"29744\",\"31250\",\"30993\",\"31623\",\"29092\",\"29186\",\"29359\",\"25641\",\"25711\",\"25472\",\"25952\",\"26373\",\"25400\",\"25446\",\"25394\",\"27067\",\"27300\",\"26976\",\"27334\",\"26560\",\"26450\",\"26788\",\"26811\",\"46034\",\"45300\",\"47400\",\"44856\",\"44666\",\"49773\",\"50564\",\"49244\",\"48716\",\"42452\",\"43910\",\"41089\",\"41240\",\"44656\",\"44299\",\"70408\",\"69463\",\"76174\",\"57894\",\"57264\",\"86507\",\"85707\",\"100368\",\"84104\",\"84470\",\"52783\",\"53572\",\"52329\",\"51397\",\"54562\",\"54638\",\"54421\",\"32614\",\"32336\",\"31976\",\"32946\",\"33048\",\"33177\",\"31634\",\"31878\",\"31941\",\"37871\",\"37958\",\"36779\",\"38810\",\"38374\",\"34774\",\"34756\",\"34838\",\"36421\",\"35250\",\"22997\",\"22989\",\"23002\",\"23128\",\"22783\",\"22750\",\"22831\",\"23463\",\"23421\",\"23377\",\"23499\",\"23677\",\"23154\",\"23210\",\"21632\",\"21426\",\"21983\",\"21984\",\"21199\",\"21238\",\"22397\",\"22505\",\"22248\",\"22510\",\"22070\",\"22148\",\"24784\",\"24769\",\"24592\",\"24909\",\"24854\",\"24505\",\"24492\",\"24545\",\"25202\",\"25296\",\"25198\",\"25369\",\"25088\",\"25067\",\"25167\",\"23867\",\"23868\",\"23830\",\"23890\",\"23686\",\"23719\",\"24035\",\"24283\",\"24211\",\"24208\",\"24482\",\"24071\",\"24164\",\"21065\",\"28390\",\"28259\",\"28654\",\"28823\",\"28599\",\"27704\",\"27709\",\"27579\",\"28204\",\"29979\",\"30499\",\"29744\",\"31250\",\"30993\",\"31623\",\"29092\",\"29186\",\"29359\",\"25641\",\"25711\",\"25472\",\"25952\",\"26373\",\"25400\",\"25446\",\"25394\",\"27067\",\"27300\",\"26976\",\"27334\",\"26560\",\"26450\",\"26788\",\"26811\",\"46034\",\"45300\",\"47400\",\"44856\",\"44666\",\"49773\",\"50564\",\"49244\",\"48716\",\"42452\",\"43910\",\"41089\",\"41240\",\"44656\",\"44299\",\"70408\",\"69463\",\"76174\",\"57894\",\"57264\",\"86507\",\"85707\",\"100368\",\"84104\",\"84470\",\"52783\",\"53572\",\"52329\",\"51397\",\"54562\",\"54638\",\"54421\",\"32614\",\"32336\",\"31976\",\"32946\",\"33048\",\"33177\",\"31634\",\"31878\",\"31941\",\"37871\",\"37958\",\"36779\",\"38810\",\"38374\",\"34774\",\"34756\",\"34838\",\"36421\",\"35250\",\"22997\",\"22989\",\"23002\",\"23128\",\"22783\",\"22750\",\"22831\",\"23463\",\"23421\",\"23377\",\"23499\",\"23677\",\"23154\",\"23210\",\"21632\",\"21426\",\"21983\",\"21984\",\"21199\",\"21238\",\"22397\",\"22505\",\"22248\",\"22510\",\"22070\",\"22148\",\"24784\",\"24769\",\"24592\",\"24909\",\"24854\",\"24505\",\"24492\",\"24545\",\"25202\",\"25296\",\"25198\",\"25369\",\"25088\",\"25067\",\"25167\",\"23867\",\"23868\",\"23830\",\"23890\",\"23686\",\"23719\",\"24035\",\"24283\",\"24211\",\"24208\",\"24482\",\"24071\",\"24164\",\"21065\",\"28390\",\"28259\",\"28654\",\"28823\",\"28599\",\"27704\",\"27709\",\"27579\",\"28204\",\"29979\",\"30499\",\"29744\",\"31250\",\"30993\",\"31623\",\"29092\",\"29186\",\"29359\",\"25641\",\"25711\",\"25472\",\"25952\",\"26373\",\"25400\",\"25446\",\"25394\",\"27067\",\"27300\",\"26976\",\"27334\",\"26560\",\"26450\",\"26788\",\"26811\",\"46034\",\"45300\",\"47400\",\"44856\",\"44666\",\"49773\",\"50564\",\"49244\",\"48716\",\"42452\",\"43910\",\"41089\",\"41240\",\"44656\",\"44299\",\"70408\",\"69463\",\"76174\",\"57894\",\"57264\",\"86507\",\"85707\",\"100368\",\"84104\",\"84470\",\"52783\",\"53572\",\"52329\",\"51397\",\"54562\",\"54638\",\"54421\",\"32614\",\"32336\",\"31976\",\"32946\",\"33048\",\"33177\",\"31634\",\"31878\",\"31941\",\"37871\",\"37958\",\"36779\",\"38810\",\"38374\",\"34774\",\"34756\",\"34838\",\"36421\",\"35250\",\"22997\",\"22989\",\"23002\",\"23128\",\"22783\",\"22750\",\"22831\",\"23463\",\"23421\",\"23377\",\"23499\",\"23677\",\"23154\",\"23210\",\"21632\",\"21426\",\"21983\",\"21984\",\"21199\",\"21238\",\"22397\",\"22505\",\"22248\",\"22510\",\"22070\",\"22148\",\"24784\",\"24769\",\"24592\",\"24909\",\"24854\",\"24505\",\"24492\",\"24545\",\"25202\",\"25296\",\"25198\",\"25369\",\"25088\",\"25067\",\"25167\",\"23867\",\"23868\",\"23830\",\"23890\",\"23686\",\"23719\",\"24035\",\"24283\",\"24211\",\"24208\",\"24482\",\"24071\",\"24164\",\"21065\",\"28390\",\"28259\",\"28654\",\"28823\",\"28599\",\"27704\",\"27709\",\"27579\",\"28204\",\"29979\",\"30499\",\"29744\",\"31250\",\"30993\",\"31623\",\"29092\",\"29186\",\"29359\",\"25641\",\"25711\",\"25472\",\"25952\",\"26373\",\"25400\",\"25446\",\"25394\",\"27067\",\"27300\",\"26976\",\"27334\",\"26560\",\"26450\",\"26788\",\"26811\",\"46034\",\"45300\",\"47400\",\"44856\",\"44666\",\"49773\",\"50564\",\"49244\",\"48716\",\"42452\",\"43910\",\"41089\",\"41240\",\"44656\",\"44299\",\"70408\",\"69463\",\"76174\",\"57894\",\"57264\",\"86507\",\"85707\",\"100368\",\"84104\",\"84470\",\"52783\",\"53572\",\"52329\",\"51397\",\"54562\",\"54638\",\"54421\",\"32614\",\"32336\",\"31976\",\"32946\",\"33048\",\"33177\",\"31634\",\"31878\",\"31941\",\"37871\",\"37958\",\"36779\",\"38810\",\"38374\",\"34774\",\"34756\",\"34838\",\"36421\",\"35250\",\"22997\",\"22989\",\"23002\",\"23128\",\"22783\",\"22750\",\"22831\",\"23463\",\"23421\",\"23377\",\"23499\",\"23677\",\"23154\",\"23210\",\"21632\",\"21426\",\"21983\",\"21984\",\"21199\",\"21238\",\"22397\",\"22505\",\"22248\",\"22510\",\"22070\",\"22148\",\"24784\",\"24769\",\"24592\",\"24909\",\"24854\",\"24505\",\"24492\",\"24545\",\"25202\",\"25296\",\"25198\",\"25369\",\"25088\",\"25067\",\"25167\",\"23867\",\"23868\",\"23830\",\"23890\",\"23686\",\"23719\",\"24035\",\"24283\",\"24211\",\"24208\",\"24482\",\"24071\",\"24164\",\"21065\",\"28390\",\"28259\",\"28654\",\"28823\",\"28599\",\"27704\",\"27709\",\"27579\",\"28204\",\"29979\",\"30499\",\"29744\",\"31250\",\"30993\",\"31623\",\"29092\",\"29186\",\"29359\",\"25641\",\"25711\",\"25472\",\"25952\",\"26373\",\"25400\",\"25446\",\"25394\",\"27067\",\"27300\",\"26976\",\"27334\",\"26560\",\"26450\",\"26788\",\"26811\",\"46034\",\"45300\",\"47400\",\"44856\",\"44666\",\"49773\",\"50564\",\"49244\",\"48716\",\"42452\",\"43910\",\"41089\",\"41240\",\"44656\",\"44299\",\"70408\",\"69463\",\"76174\",\"57894\",\"57264\",\"86507\",\"85707\",\"100368\",\"84104\",\"84470\",\"52783\",\"53572\",\"52329\",\"51397\",\"54562\",\"54638\",\"54421\",\"32614\",\"32336\",\"31976\",\"32946\",\"33048\",\"33177\",\"31634\",\"31878\",\"31941\",\"37871\",\"37958\",\"36779\",\"38810\",\"38374\",\"34774\",\"34756\",\"34838\",\"36421\",\"35250\",\"22997\",\"22989\",\"23002\",\"23128\",\"22783\",\"22750\",\"22831\",\"23463\",\"23421\",\"23377\",\"23499\",\"23677\",\"23154\",\"23210\",\"21632\",\"21426\",\"21983\",\"21984\",\"21199\",\"21238\",\"22397\",\"22505\",\"22248\",\"22510\",\"22070\",\"22148\",\"24784\",\"24769\",\"24592\",\"24909\",\"24854\",\"24505\",\"24492\",\"24545\",\"25202\",\"25296\",\"25198\",\"25369\",\"25088\",\"25067\",\"25167\",\"23867\",\"23868\",\"23830\",\"23890\",\"23686\",\"23719\",\"24035\",\"24283\",\"24211\",\"24208\",\"24482\",\"24071\",\"24164\",\"21065\",\"28390\",\"28259\",\"28654\",\"28823\",\"28599\",\"27704\",\"27709\",\"27579\",\"28204\",\"29979\",\"30499\",\"29744\",\"31250\",\"30993\",\"31623\",\"29092\",\"29186\",\"29359\",\"25641\",\"25711\",\"25472\",\"25952\",\"26373\",\"25400\",\"25446\",\"25394\",\"27067\",\"27300\",\"26976\",\"27334\",\"26560\",\"26450\",\"26788\",\"26811\",\"46034\",\"45300\",\"47400\",\"44856\",\"44666\",\"49773\",\"50564\",\"49244\",\"48716\",\"42452\",\"43910\",\"41089\",\"41240\",\"44656\",\"44299\",\"70408\",\"69463\",\"76174\",\"57894\",\"57264\",\"86507\",\"85707\",\"100368\",\"84104\",\"84470\",\"52783\",\"53572\",\"52329\",\"51397\",\"54562\",\"54638\",\"54421\",\"32614\",\"32336\",\"31976\",\"32946\",\"33048\",\"33177\",\"31634\",\"31878\",\"31941\",\"37871\",\"37958\",\"36779\",\"38810\",\"38374\",\"34774\",\"34756\",\"34838\",\"36421\",\"35250\",\"22997\",\"22989\",\"23002\",\"23128\",\"22783\",\"22750\",\"22831\",\"23463\",\"23421\",\"23377\",\"23499\",\"23677\",\"23154\",\"23210\",\"21632\",\"21426\",\"21983\",\"21984\",\"21199\",\"21238\",\"22397\",\"22505\",\"22248\",\"22510\",\"22070\",\"22148\",\"24784\",\"24769\",\"24592\",\"24909\",\"24854\",\"24505\",\"24492\",\"24545\",\"25202\",\"25296\",\"25198\",\"25369\",\"25088\",\"25067\",\"25167\",\"23867\",\"23868\",\"23830\",\"23890\",\"23686\",\"23719\",\"24035\",\"24283\",\"24211\",\"24208\",\"24482\",\"24071\",\"24164\",\"21065\",\"28390\",\"28259\",\"28654\",\"28823\",\"28599\",\"27704\",\"27709\",\"27579\",\"28204\",\"29979\",\"30499\",\"29744\",\"31250\",\"30993\",\"31623\",\"29092\",\"29186\",\"29359\",\"25641\",\"25711\",\"25472\",\"25952\",\"26373\",\"25400\",\"25446\",\"25394\",\"27067\",\"27300\",\"26976\",\"27334\",\"26560\",\"26450\",\"26788\",\"26811\",\"46034\",\"45300\",\"47400\",\"44856\",\"44666\",\"49773\",\"50564\",\"49244\",\"48716\",\"42452\",\"43910\",\"41089\",\"41240\",\"44656\",\"44299\",\"70408\",\"69463\",\"76174\",\"57894\",\"57264\",\"86507\",\"85707\",\"100368\",\"84104\",\"84470\",\"52783\",\"53572\",\"52329\",\"51397\",\"54562\",\"54638\",\"54421\",\"32614\",\"32336\",\"31976\",\"32946\",\"33048\",\"33177\",\"31634\",\"31878\",\"31941\",\"37871\",\"37958\",\"36779\",\"38810\",\"38374\",\"34774\",\"34756\",\"34838\",\"36421\",\"35250\",\"22997\",\"22989\",\"23002\",\"23128\",\"22783\",\"22750\",\"22831\",\"23463\",\"23421\",\"23377\",\"23499\",\"23677\",\"23154\",\"23210\",\"21632\",\"21426\",\"21983\",\"21984\",\"21199\",\"21238\",\"22397\",\"22505\",\"22248\",\"22510\",\"22070\",\"22148\",\"24784\",\"24769\",\"24592\",\"24909\",\"24854\",\"24505\",\"24492\",\"24545\",\"25202\",\"25296\",\"25198\",\"25369\",\"25088\",\"25067\",\"25167\",\"23867\",\"23868\",\"23830\",\"23890\",\"23686\",\"23719\",\"24035\",\"24283\",\"24211\",\"24208\",\"24482\",\"24071\",\"24164\",\"21065\",\"28390\",\"28259\",\"28654\",\"28823\",\"28599\",\"27704\",\"27709\",\"27579\",\"28204\",\"29979\",\"30499\",\"29744\",\"31250\",\"30993\",\"31623\",\"29092\",\"29186\",\"29359\",\"25641\",\"25711\",\"25472\",\"25952\",\"26373\",\"25400\",\"25446\",\"25394\",\"27067\",\"27300\",\"26976\",\"27334\",\"26560\",\"26450\",\"26788\",\"26811\",\"46034\",\"45300\",\"47400\",\"44856\",\"44666\",\"49773\",\"50564\",\"49244\",\"48716\",\"42452\",\"43910\",\"41089\",\"41240\",\"44656\",\"44299\",\"70408\",\"69463\",\"76174\",\"57894\",\"57264\",\"86507\",\"85707\",\"100368\",\"84104\",\"84470\",\"52783\",\"53572\",\"52329\",\"51397\",\"54562\",\"54638\",\"54421\",\"32614\",\"32336\",\"31976\",\"32946\",\"33048\",\"33177\",\"31634\",\"31878\",\"31941\",\"37871\",\"37958\",\"36779\",\"38810\",\"38374\",\"34774\",\"34756\",\"34838\",\"36421\",\"35250\",\"22997\",\"22989\",\"23002\",\"23128\",\"22783\",\"22750\",\"22831\",\"23463\",\"23421\",\"23377\",\"23499\",\"23677\",\"23154\",\"23210\",\"21632\",\"21426\",\"21983\",\"21984\",\"21199\",\"21238\",\"22397\",\"22505\",\"22248\",\"22510\",\"22070\",\"22148\",\"24784\",\"24769\",\"24592\",\"24909\",\"24854\",\"24505\",\"24492\",\"24545\",\"25202\",\"25296\",\"25198\",\"25369\",\"25088\",\"25067\",\"25167\",\"23867\",\"23868\",\"23830\",\"23890\",\"23686\",\"23719\",\"24035\",\"24283\",\"24211\",\"24208\",\"24482\",\"24071\",\"24164\",\"21065\",\"28390\",\"28259\",\"28654\",\"28823\",\"28599\",\"27704\",\"27709\",\"27579\",\"28204\",\"29979\",\"30499\",\"29744\",\"31250\",\"30993\",\"31623\",\"29092\",\"29186\",\"29359\",\"25641\",\"25711\",\"25472\",\"25952\",\"26373\",\"25400\",\"25446\",\"25394\",\"27067\",\"27300\",\"26976\",\"27334\",\"26560\",\"26450\",\"26788\",\"26811\",\"46034\",\"45300\",\"47400\",\"44856\",\"44666\",\"49773\",\"50564\",\"49244\",\"48716\",\"42452\",\"43910\",\"41089\",\"41240\",\"44656\",\"44299\",\"70408\",\"69463\",\"76174\",\"57894\",\"57264\",\"86507\",\"85707\",\"100368\",\"84104\",\"84470\",\"52783\",\"53572\",\"52329\",\"51397\",\"54562\",\"54638\",\"54421\",\"32614\",\"32336\",\"31976\",\"32946\",\"33048\",\"33177\",\"31634\",\"31878\",\"31941\",\"37871\",\"37958\",\"36779\",\"38810\",\"38374\",\"34774\",\"34756\",\"34838\",\"36421\",\"35250\",\"22997\",\"22989\",\"23002\",\"23128\",\"22783\",\"22750\",\"22831\",\"23463\",\"23421\",\"23377\",\"23499\",\"23677\",\"23154\",\"23210\",\"21632\",\"21426\",\"21983\",\"21984\",\"21199\",\"21238\",\"22397\",\"22505\",\"22248\",\"22510\",\"22070\",\"22148\",\"24784\",\"24769\",\"24592\",\"24909\",\"24854\",\"24505\",\"24492\",\"24545\",\"25202\",\"25296\",\"25198\",\"25369\",\"25088\",\"25067\",\"25167\",\"23867\",\"23868\",\"23830\",\"23890\",\"23686\",\"23719\",\"24035\",\"24283\",\"24211\",\"24208\",\"24482\",\"24071\",\"24164\",\"21065\",\"28390\",\"28259\",\"28654\",\"28823\",\"28599\",\"27704\",\"27709\",\"27579\",\"28204\",\"29979\",\"30499\",\"29744\",\"31250\",\"30993\",\"31623\",\"29092\",\"29186\",\"29359\",\"25641\",\"25711\",\"25472\",\"25952\",\"26373\",\"25400\",\"25446\",\"25394\",\"27067\",\"27300\",\"26976\",\"27334\",\"26560\",\"26450\",\"26788\",\"26811\",\"46034\",\"45300\",\"47400\",\"44856\",\"44666\",\"49773\",\"50564\",\"49244\",\"48716\",\"42452\",\"43910\",\"41089\",\"41240\",\"44656\",\"44299\",\"70408\",\"69463\",\"76174\",\"57894\",\"57264\",\"86507\",\"85707\",\"100368\",\"84104\",\"84470\",\"52783\",\"53572\",\"52329\",\"51397\",\"54562\",\"54638\",\"54421\",\"32614\",\"32336\",\"31976\",\"32946\",\"33048\",\"33177\",\"31634\",\"31878\",\"31941\",\"37871\",\"37958\",\"36779\",\"38810\",\"38374\",\"34774\",\"34756\",\"34838\",\"36421\",\"35250\",\"22997\",\"22989\",\"23002\",\"23128\",\"22783\",\"22750\",\"22831\",\"23463\",\"23421\",\"23377\",\"23499\",\"23677\",\"23154\",\"23210\",\"21632\",\"21426\",\"21983\",\"21984\",\"21199\",\"21238\",\"22397\",\"22505\",\"22248\",\"22510\",\"22070\",\"22148\",\"24784\",\"24769\",\"24592\",\"24909\",\"24854\",\"24505\",\"24492\",\"24545\",\"25202\",\"25296\",\"25198\",\"25369\",\"25088\",\"25067\",\"25167\",\"23867\",\"23868\",\"23830\",\"23890\",\"23686\",\"23719\",\"24035\",\"24283\",\"24211\",\"24208\",\"24482\",\"24071\",\"24164\",\"21065\",\"28390\",\"28259\",\"28654\",\"28823\",\"28599\",\"27704\",\"27709\",\"27579\",\"28204\",\"29979\",\"30499\",\"29744\",\"31250\",\"30993\",\"31623\",\"29092\",\"29186\",\"29359\",\"25641\",\"25711\",\"25472\",\"25952\",\"26373\",\"25400\",\"25446\",\"25394\",\"27067\",\"27300\",\"26976\",\"27334\",\"26560\",\"26450\",\"26788\",\"26811\",\"46034\",\"45300\",\"47400\",\"44856\",\"44666\",\"49773\",\"50564\",\"49244\",\"48716\",\"42452\",\"43910\",\"41089\",\"41240\",\"44656\",\"44299\",\"70408\",\"69463\",\"76174\",\"57894\",\"57264\",\"86507\",\"85707\",\"100368\",\"84104\",\"84470\",\"52783\",\"53572\",\"52329\",\"51397\",\"54562\",\"54638\",\"54421\",\"32614\",\"32336\",\"31976\",\"32946\",\"33048\",\"33177\",\"31634\",\"31878\",\"31941\",\"37871\",\"37958\",\"36779\",\"38810\",\"38374\",\"34774\",\"34756\",\"34838\",\"36421\",\"35250\",\"22997\",\"22989\",\"23002\",\"23128\",\"22783\",\"22750\",\"22831\",\"23463\",\"23421\",\"23377\",\"23499\",\"23677\",\"23154\",\"23210\",\"21632\",\"21426\",\"21983\",\"21984\",\"21199\",\"21238\",\"22397\",\"22505\",\"22248\",\"22510\",\"22070\",\"22148\",\"24784\",\"24769\",\"24592\",\"24909\",\"24854\",\"24505\",\"24492\",\"24545\",\"25202\",\"25296\",\"25198\",\"25369\",\"25088\",\"25067\",\"25167\",\"23867\",\"23868\",\"23830\",\"23890\",\"23686\",\"23719\",\"24035\",\"24283\",\"24211\",\"24208\",\"24482\",\"24071\",\"24164\",\"21065\",\"28390\",\"28259\",\"28654\",\"28823\",\"28599\",\"27704\",\"27709\",\"27579\",\"28204\",\"29979\",\"30499\",\"29744\",\"31250\",\"30993\",\"31623\",\"29092\",\"29186\",\"29359\",\"25641\",\"25711\",\"25472\",\"25952\",\"26373\",\"25400\",\"25446\",\"25394\",\"27067\",\"27300\",\"26976\",\"27334\",\"26560\",\"26450\",\"26788\",\"26811\",\"46034\",\"45300\",\"47400\",\"44856\",\"44666\",\"49773\",\"50564\",\"49244\",\"48716\",\"42452\",\"43910\",\"41089\",\"41240\",\"44656\",\"44299\",\"70408\",\"69463\",\"76174\",\"57894\",\"57264\",\"86507\",\"85707\",\"100368\",\"84104\",\"84470\",\"52783\",\"53572\",\"52329\",\"51397\",\"54562\",\"54638\",\"54421\",\"32614\",\"32336\",\"31976\",\"32946\",\"33048\",\"33177\",\"31634\",\"31878\",\"31941\",\"37871\",\"37958\",\"36779\",\"38810\",\"38374\",\"34774\",\"34756\",\"34838\",\"36421\",\"35250\",\"22997\",\"22989\",\"23002\",\"23128\",\"22783\",\"22750\",\"22831\",\"23463\",\"23421\",\"23377\",\"23499\",\"23677\",\"23154\",\"23210\",\"21632\",\"21426\",\"21983\",\"21984\",\"21199\",\"21238\",\"22397\",\"22505\",\"22248\",\"22510\",\"22070\",\"22148\",\"24784\",\"24769\",\"24592\",\"24909\",\"24854\",\"24505\",\"24492\",\"24545\",\"25202\",\"25296\",\"25198\",\"25369\",\"25088\",\"25067\",\"25167\",\"23867\",\"23868\",\"23830\",\"23890\",\"23686\",\"23719\",\"24035\",\"24283\",\"24211\",\"24208\",\"24482\",\"24071\",\"24164\",\"21065\",\"28390\",\"28259\",\"28654\",\"28823\",\"28599\",\"27704\",\"27709\",\"27579\",\"28204\",\"29979\",\"30499\",\"29744\",\"31250\",\"30993\",\"31623\",\"29092\",\"29186\",\"29359\",\"25641\",\"25711\",\"25472\",\"25952\",\"26373\",\"25400\",\"25446\",\"25394\",\"27067\",\"27300\",\"26976\",\"27334\",\"26560\",\"26450\",\"26788\",\"26811\",\"46034\",\"45300\",\"47400\",\"44856\",\"44666\",\"49773\",\"50564\",\"49244\",\"48716\",\"42452\",\"43910\",\"41089\",\"41240\",\"44656\",\"44299\",\"70408\",\"69463\",\"76174\",\"57894\",\"57264\",\"86507\",\"85707\",\"100368\",\"84104\",\"84470\",\"52783\",\"53572\",\"52329\",\"51397\",\"54562\",\"54638\",\"54421\",\"32614\",\"32336\",\"31976\",\"32946\",\"33048\",\"33177\",\"31634\",\"31878\",\"31941\",\"37871\",\"37958\",\"36779\",\"38810\",\"38374\",\"34774\",\"34756\",\"34838\",\"36421\",\"35250\",\"22997\",\"22989\",\"23002\",\"23128\",\"22783\",\"22750\",\"22831\",\"23463\",\"23421\",\"23377\",\"23499\",\"23677\",\"23154\",\"23210\",\"21632\",\"21426\",\"21983\",\"21984\",\"21199\",\"21238\",\"22397\",\"22505\",\"22248\",\"22510\",\"22070\",\"22148\",\"24784\",\"24769\",\"24592\",\"24909\",\"24854\",\"24505\",\"24492\",\"24545\",\"25202\",\"25296\",\"25198\",\"25369\",\"25088\",\"25067\",\"25167\",\"23867\",\"23868\",\"23830\",\"23890\",\"23686\",\"23719\",\"24035\",\"24283\",\"24211\",\"24208\",\"24482\",\"24071\",\"24164\",\"21065\",\"28390\",\"28259\",\"28654\",\"28823\",\"28599\",\"27704\",\"27709\",\"27579\",\"28204\",\"29979\",\"30499\",\"29744\",\"31250\",\"30993\",\"31623\",\"29092\",\"29186\",\"29359\",\"25641\",\"25711\",\"25472\",\"25952\",\"26373\",\"25400\",\"25446\",\"25394\",\"27067\",\"27300\",\"26976\",\"27334\",\"26560\",\"26450\",\"26788\",\"26811\",\"46034\",\"45300\",\"47400\",\"44856\",\"44666\",\"49773\",\"50564\",\"49244\",\"48716\",\"42452\",\"43910\",\"41089\",\"41240\",\"44656\",\"44299\",\"70408\",\"69463\",\"76174\",\"57894\",\"57264\",\"86507\",\"85707\",\"100368\",\"84104\",\"84470\",\"52783\",\"53572\",\"52329\",\"51397\",\"54562\",\"54638\",\"54421\",\"32614\",\"32336\",\"31976\",\"32946\",\"33048\",\"33177\",\"31634\",\"31878\",\"31941\",\"37871\",\"37958\",\"36779\",\"38810\",\"38374\",\"34774\",\"34756\",\"34838\",\"36421\",\"35250\",\"22997\",\"22989\",\"23002\",\"23128\",\"22783\",\"22750\",\"22831\",\"23463\",\"23421\",\"23377\",\"23499\",\"23677\",\"23154\",\"23210\",\"21632\",\"21426\",\"21983\",\"21984\",\"21199\",\"21238\",\"22397\",\"22505\",\"22248\",\"22510\",\"22070\",\"22148\",\"24784\",\"24769\",\"24592\",\"24909\",\"24854\",\"24505\",\"24492\",\"24545\",\"25202\",\"25296\",\"25198\",\"25369\",\"25088\",\"25067\",\"25167\",\"23867\",\"23868\",\"23830\",\"23890\",\"23686\",\"23719\",\"24035\",\"24283\",\"24211\",\"24208\",\"24482\",\"24071\",\"24164\",\"21065\",\"28390\",\"28259\",\"28654\",\"28823\",\"28599\",\"27704\",\"27709\",\"27579\",\"28204\",\"29979\",\"30499\",\"29744\",\"31250\",\"30993\",\"31623\",\"29092\",\"29186\",\"29359\",\"25641\",\"25711\",\"25472\",\"25952\",\"26373\",\"25400\",\"25446\",\"25394\",\"27067\",\"27300\",\"26976\",\"27334\",\"26560\",\"26450\",\"26788\",\"26811\",\"46034\",\"45300\",\"47400\",\"44856\",\"44666\",\"49773\",\"50564\",\"49244\",\"48716\",\"42452\",\"43910\",\"41089\",\"41240\",\"44656\",\"44299\",\"70408\",\"69463\",\"76174\",\"57894\",\"57264\",\"86507\",\"85707\",\"100368\",\"84104\",\"84470\",\"52783\",\"53572\",\"52329\",\"51397\",\"54562\",\"54638\",\"54421\",\"32614\",\"32336\",\"31976\",\"32946\",\"33048\",\"33177\",\"31634\",\"31878\",\"31941\",\"37871\",\"37958\",\"36779\",\"38810\",\"38374\",\"34774\",\"34756\",\"34838\",\"36421\",\"35250\",\"22997\",\"22989\",\"23002\",\"23128\",\"22783\",\"22750\",\"22831\",\"23463\",\"23421\",\"23377\",\"23499\",\"23677\",\"23154\",\"23210\",\"21632\",\"21426\",\"21983\",\"21984\",\"21199\",\"21238\",\"22397\",\"22505\",\"22248\",\"22510\",\"22070\",\"22148\",\"24784\",\"24769\",\"24592\",\"24909\",\"24854\",\"24505\",\"24492\",\"24545\",\"25202\",\"25296\",\"25198\",\"25369\",\"25088\",\"25067\",\"25167\",\"23867\",\"23868\",\"23830\",\"23890\",\"23686\",\"23719\",\"24035\",\"24283\",\"24211\",\"24208\",\"24482\",\"24071\",\"24164\"]],[\"zvalues\",{\"type\":\"ndarray\",\"array\":{\"type\":\"bytes\",\"data\":\"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\"},\"shape\":[9240],\"dtype\":\"float64\",\"order\":\"little\"}],[\"value\",[\"8\",\"56\",\"30\",\"26\",\"2\",\"29\",\"50\",\"29\",\"1\",\"2\",\"32\",\"10\",\"47\",\"17\",\"16\",\"12\",\"47\",\"4\",\"2\",\"28\",\"9\",\"10\",\"29\",\"22\",\"1\",\"20\",\"8\",\"27\",\"4\",\"12\",\"19\",\"25\",\"10\",\"28\",\"15\",\"46\",\"24\",\"27\",\"35\",\"40\",\"11\",\"17\",\"22\",\"25\",\"22\",\"20\",\"55\",\"27\",\"25\",\"26\",\"9\",\"2\",\"22\",\"12\",\"18\",\"4\",\"1\",\"8\",\"7\",\"6\",\"25\",\"72\",\"17\",\"29\",\"15\",\"57\",\"44\",\"36\",\"38\",\"51\",\"7\",\"53\",\"35\",\"43\",\"37\",\"36\",\"51\",\"30\",\"59\",\"61\",\"47\",\"37\",\"23\",\"23\",\"29\",\"38\",\"1\",\"1\",\"13\",\"15\",\"3\",\"8\",\"1\",\"22\",\"6\",\"25\",\"5\",\"10\",\"3\",\"1\",\"-\",\"5\",\"4\",\"1\",\"8\",\"2\",\"1\",\"1\",\"7\",\"4\",\"2\",\"6\",\"8\",\"26\",\"1\",\"-\",\"9\",\"1\",\"24\",\"5\",\"17\",\"17\",\"2\",\"37\",\"9\",\"19\",\"14\",\"1\",\"2\",\"1\",\"-\",\"-\",\"4\",\"-\",\"21\",\"12\",\"7\",\"12\",\"-\",\"10\",\"-\",\"-\",\"19\",\"-\",\"-\",\"95\",\"-\",\"-\",\"-\",\"-\",\"-\",\"97\",\"33\",\"-\",\"49\",\"43\",\"-\",\"36\",\"73\",\"-\",\"43\",\"-\",\"-\",\"-\",\"-\",\"-\",\"49\",\"-\",\"-\",\"-\",\"53\",\"-\",\"63\",\"-\",\"-\",\"-\",\"64\",\"-\",\"-\",\"5\",\"54\",\"57\",\"-\",\"-\",\"98\",\"80\",\"-\",\"-\",\"-\",\"66\",\"22\",\"49\",\"49\",\"62\",\"61\",\"22\",\"36\",\"23\",\"27\",\"25\",\"-\",\"-\",\"61\",\"-\",\"53\",\"-\",\"-\",\"90\",\"-\",\"-\",\"101\",\"-\",\"-\",\"-\",\"-\",\"-\",\"-\",\"49\",\"-\",\"-\",\"-\",\"36\",\"28\",\"77\",\"-\",\"-\",\"-\",\"-\",\"-\",\"-\",\"-\",\"1\",\"1\",\"-\",\"-\",\"-\",\"-\",\"40\",\"-\",\"54\",\"-\",\"-\",\"24\",\"-\",\"9\",\"-\",\"-\",\"-\",\"-\",\"-\",\"28\",\"5\",\"19\",\"-\",\"8\",\"-\",\"-\",\"23\",\"-\",\"-\",\"-\",\"-\",\"-\",\"4\",\"49\",\"-\",\"27\",\"9\",\"-\",\"-\",\"-\",\"-\",\"13\",\"-\",\"2\",\"-\",\"-\",\"34\",\"-\",\"44\",\"54\",\"6\",\"36\",\"-\",\"42\",\"-\",\"4\",\"6\",\"37\",\"19\",\"-\",\"1\",\"30\",\"-\",\"-\",\"4\",\"31\",\"5\",\"8\",\"-\",\"17\",\"3\",\"1\",\"-\",\"37\",\"13\",\"24\",\"-\",\"29\",\"8\",\"15\",\"-\",\"11\",\"2\",\"3\",\"-\",\"-\",\"-\",\"-\",\"7\",\"-\",\"-\",\"-\",\"-\",\"-\",\"-\",\"-\",\"-\",\"-\",\"-\",\"-\",\"-\",\"-\",\"-\",\"-\",\"-\",\"-\",\"-\",\"-\",\"-\",\"-\",\"-\",\"-\",\"-\",\"-\",\"-\",\"-\",\"-\",\"-\",\"10\",\"-\",\"-\",\"-\",\"-\",\"-\",\"-\",\"-\",\"-\",\"-\",\"6\",\"-\",\"13\",\"6\",\"1\",\"-\",\"-\",\"39\",\"46\",\"45\",\"5\",\"47\",\"55\",\"60\",\"38\",\"1\",\"48\",\"18\",\"19\",\"26\",\"25\",\"63\",\"9\",\"43\",\"26\",\"72\",\"52\",\"58\",\"46\",\"22\",\"16\",\"27\",\"46\",\"47\",\"-\",\"36\",\"30\",\"7\",\"43\",\"39\",\"22\",\"12\",\"-\",\"31\",\"26\",\"23\",\"-\",\"28\",\"39\",\"49\",\"21\",\"34\",\"24\",\"53\",\"46\",\"57\",\"7\",\"1\",\"48\",\"48\",\"29\",\"3\",\"-\",\"29\",\"-\",\"-\",\"50\",\"-\",\"-\",\"-\",\"-\",\"-\",\"36\",\"24\",\"-\",\"47\",\"42\",\"2\",\"58\",\"52\",\"-\",\"58\",\"-\",\"-\",\"-\",\"-\",\"-\",\"58\",\"-\",\"2\",\"-\",\"44\",\"-\",\"50\",\"-\",\"-\",\"-\",\"3\",\"-\",\"-\",\"3\",\"4\",\"1\",\"-\",\"-\",\"5\",\"6\",\"-\",\"-\",\"-\",\"-\",\"-\",\"-\",\"1\",\"-\",\"2\",\"-\",\"-\",\"-\",\"-\",\"-\",\"-\",\"-\",\"-\",\"-\",\"-\",\"-\",\"-\",\"32\",\"-\",\"-\",\"32\",\"-\",\"-\",\"-\",\"-\",\"-\",\"-\",\"25\",\"-\",\"1\",\"-\",\"32\",\"22\",\"24\",\"-\",\"-\",\"-\",\"-\",\"46\",\"-\",\"6\",\"7\",\"23\",\"1\",\"-\",\"5\",\"-\",\"79\",\"-\",\"58\",\"-\",\"-\",\"56\",\"-\",\"38\",\"-\",\"-\",\"20\",\"-\",\"-\",\"59\",\"27\",\"35\",\"-\",\"45\",\"1\",\"-\",\"79\",\"-\",\"-\",\"-\",\"-\",\"-\",\"14\",\"56\",\"-\",\"73\",\"39\",\"7\",\"-\",\"-\",\"-\",\"50\",\"5\",\"27\",\"-\",\"-\",\"50\",\"3\",\"76\",\"11\",\"13\",\"-\",\"20\",\"7\",\"-\",\"32\",\"12\",\"15\",\"13\",\"16\",\"-\",\"-\",\"8\",\"-\",\"-\",\"8\",\"-\",\"-\",\"23\",\"-\",\"28\",\"48\",\"34\",\"8\",\"32\",\"-\",\"23\",\"16\",\"15\",\"-\",\"30\",\"-\",\"26\",\"26\",\"-\",\"-\",\"-\",\"-\",\"3\",\"-\",\"-\",\"1\",\"-\",\"-\",\"-\",\"2\",\"2\",\"2\",\"-\",\"-\",\"-\",\"-\",\"-\",\"-\",\"-\",\"-\",\"-\",\"-\",\"-\",\"-\",\"3\",\"-\",\"-\",\"-\",\"-\",\"-\",\"-\",\"7\",\"9\",\"-\",\"8\",\"13\",\"13\",\"7\",\"9\",\"4\",\"-\",\"7\",\"7\",\"5\",\"-\",\"-\",\"-\",\"7\",\"9\",\"16\",\"12\",\"6\",\"33\",\"10\",\"20\",\"2\",\"43\",\"35\",\"3\",\"16\",\"-\",\"39\",\"-\",\"24\",\"33\",\"-\",\"43\",\"-\",\"34\",\"22\",\"1\",\"28\",\"38\",\"-\",\"-\",\"-\",\"20\",\"-\",\"17\",\"32\",\"-\",\"17\",\"37\",\"26\",\"28\",\"14\",\"7\",\"-\",\"37\",\"-\",\"-\",\"14\",\"29\",\"18\",\"29\",\"-\",\"14\",\"2\",\"50\",\"55\",\"-\",\"5\",\"-\",\"-\",\"-\",\"-\",\"15\",\"-\",\"-\",\"13\",\"3\",\"-\",\"-\",\"7\",\"-\",\"-\",\"4\",\"-\",\"-\",\"2\",\"-\",\"-\",\"7\",\"-\",\"-\",\"11\",\"4\",\"-\",\"-\",\"-\",\"12\",\"-\",\"-\",\"-\",\"18\",\"-\",\"7\",\"8\",\"2\",\"-\",\"2\",\"9\",\"-\",\"-\",\"-\",\"7\",\"3\",\"-\",\"-\",\"4\",\"2\",\"4\",\"-\",\"-\",\"-\",\"-\",\"-\",\"-\",\"-\",\"-\",\"-\",\"-\",\"-\",\"4\",\"-\",\"-\",\"4\",\"-\",\"4\",\"8\",\"-\",\"4\",\"1\",\"-\",\"1\",\"12\",\"10\",\"1\",\"2\",\"-\",\"-\",\"9\",\"-\",\"4\",\"-\",\"-\",\"-\",\"6\",\"8\",\"2\",\"-\",\"-\",\"1\",\"-\",\"-\",\"-\",\"-\",\"4\",\"-\",\"1\",\"-\",\"-\",\"-\",\"-\",\"2\",\"-\",\"8\",\"-\",\"1\",\"-\",\"-\",\"-\",\"2\",\"-\",\"-\",\"-\",\"7\",\"-\",\"-\",\"7\",\"-\",\"2\",\"-\",\"-\",\"10\",\"-\",\"-\",\"-\",\"13\",\"-\",\"-\",\"-\",\"3\",\"-\",\"4\",\"-\",\"-\",\"-\",\"3\",\"16\",\"-\",\"-\",\"-\",\"-\",\"12\",\"-\",\"12\",\"1\",\"-\",\"21\",\"3\",\"-\",\"-\",\"53\",\"-\",\"-\",\"22\",\"-\",\"-\",\"-\",\"-\",\"-\",\"52\",\"-\",\"9\",\"49\",\"9\",\"-\",\"16\",\"-\",\"46\",\"-\",\"1\",\"-\",\"22\",\"-\",\"-\",\"57\",\"29\",\"-\",\"2\",\"25\",\"-\",\"-\",\"-\",\"16\",\"9\",\"-\",\"-\",\"48\",\"12\",\"41\",\"-\",\"-\",\"-\",\"-\",\"-\",\"-\",\"-\",\"-\",\"-\",\"-\",\"-\",\"27\",\"20\",\"-\",\"10\",\"-\",\"41\",\"23\",\"-\",\"26\",\"3\",\"-\",\"30\",\"23\",\"28\",\"4\",\"34\",\"11\",\"-\",\"17\",\"5\",\"39\",\"-\",\"-\",\"-\",\"3\",\"38\",\"3\",\"-\",\"-\",\"41\",\"-\",\"-\",\"-\",\"-\",\"43\",\"-\",\"3\",\"-\",\"8\",\"-\",\"-\",\"12\",\"-\",\"25\",\"-\",\"-\",\"3\",\"-\",\"10\",\"27\",\"-\",\"-\",\"-\",\"36\",\"-\",\"-\",\"20\",\"-\",\"2\",\"3\",\"14\",\"4\",\"-\",\"-\",\"-\",\"35\",\"-\",\"-\",\"-\",\"5\",\"-\",\"5\",\"-\",\"-\",\"-\",\"25\",\"27\",\"-\",\"-\",\"-\",\"-\",\"2\",\"-\",\"62\",\"-\",\"-\",\"1\",\"5\",\"-\",\"-\",\"70\",\"-\",\"-\",\"42\",\"-\",\"-\",\"-\",\"-\",\"-\",\"16\",\"-\",\"7\",\"47\",\"53\",\"-\",\"3\",\"-\",\"32\",\"-\",\"4\",\"-\",\"55\",\"-\",\"44\",\"31\",\"33\",\"-\",\"28\",\"31\",\"-\",\"-\",\"-\",\"34\",\"21\",\"-\",\"-\",\"54\",\"21\",\"27\",\"-\",\"-\",\"-\",\"-\",\"-\",\"-\",\"-\",\"-\",\"-\",\"-\",\"-\",\"4\",\"2\",\"-\",\"27\",\"-\",\"20\",\"16\",\"-\",\"22\",\"-\",\"-\",\"2\",\"40\",\"42\",\"54\",\"58\",\"10\",\"-\",\"72\",\"-\",\"43\",\"-\",\"-\",\"-\",\"44\",\"57\",\"-\",\"-\",\"-\",\"16\",\"-\",\"-\",\"-\",\"-\",\"41\",\"-\",\"-\",\"-\",\"-\",\"-\",\"-\",\"-\",\"-\",\"-\",\"-\",\"-\",\"-\",\"-\",\"1\",\"4\",\"-\",\"-\",\"-\",\"44\",\"-\",\"-\",\"17\",\"-\",\"-\",\"-\",\"-\",\"30\",\"-\",\"-\",\"-\",\"66\",\"-\",\"-\",\"-\",\"2\",\"-\",\"-\",\"-\",\"-\",\"-\",\"7\",\"45\",\"-\",\"-\",\"-\",\"-\",\"-\",\"-\",\"10\",\"27\",\"-\",\"-\",\"32\",\"22\",\"7\",\"-\",\"-\",\"-\",\"2\",\"-\",\"-\",\"-\",\"-\",\"-\",\"2\",\"-\",\"19\",\"2\",\"30\",\"-\",\"2\",\"-\",\"-\",\"22\",\"35\",\"-\",\"4\",\"-\",\"54\",\"4\",\"-\",\"-\",\"-\",\"-\",\"-\",\"-\",\"-\",\"-\",\"-\",\"-\",\"-\",\"-\",\"-\",\"-\",\"-\",\"-\",\"-\",\"-\",\"-\",\"-\",\"-\",\"-\",\"-\",\"-\",\"-\",\"-\",\"1\",\"-\",\"-\",\"-\",\"-\",\"-\",\"-\",\"-\",\"-\",\"-\",\"-\",\"1\",\"1\",\"9\",\"1\",\"1\",\"-\",\"-\",\"-\",\"-\",\"-\",\"-\",\"-\",\"3\",\"-\",\"-\",\"3\",\"-\",\"-\",\"-\",\"-\",\"-\",\"1\",\"1\",\"-\",\"4\",\"-\",\"2\",\"-\",\"2\",\"14\",\"-\",\"2\",\"-\",\"-\",\"2\",\"-\",\"-\",\"7\",\"-\",\"3\",\"-\",\"-\",\"-\",\"16\",\"14\",\"-\",\"-\",\"26\",\"-\",\"23\",\"11\",\"-\",\"-\",\"-\",\"-\",\"-\",\"6\",\"21\",\"6\",\"10\",\"-\",\"2\",\"-\",\"1\",\"13\",\"-\",\"4\",\"-\",\"-\",\"-\",\"1\",\"-\",\"14\",\"-\",\"-\",\"-\",\"11\",\"4\",\"-\",\"-\",\"-\",\"-\",\"-\",\"4\",\"-\",\"11\",\"-\",\"-\",\"13\",\"-\",\"-\",\"-\",\"13\",\"-\",\"-\",\"-\",\"16\",\"1\",\"-\",\"-\",\"-\",\"-\",\"-\",\"-\",\"-\",\"-\",\"-\",\"-\",\"-\",\"-\",\"-\",\"-\",\"-\",\"-\",\"-\",\"-\",\"-\",\"-\",\"-\",\"-\",\"-\",\"-\",\"-\",\"-\",\"-\",\"-\",\"-\",\"-\",\"-\",\"-\",\"-\",\"-\",\"-\",\"-\",\"-\",\"-\",\"-\",\"-\",\"-\",\"-\",\"-\",\"-\",\"-\",\"-\",\"-\",\"-\",\"-\",\"-\",\"-\",\"-\",\"3\",\"-\",\"-\",\"-\",\"3\",\"-\",\"-\",\"-\",\"2\",\"1\",\"8\",\"-\",\"-\",\"1\",\"3\",\"21\",\"-\",\"-\",\"3\",\"-\",\"1\",\"-\",\"2\",\"1\",\"-\",\"10\",\"-\",\"-\",\"15\",\"9\",\"-\",\"-\",\"5\",\"12\",\"-\",\"7\",\"-\",\"1\",\"-\",\"-\",\"10\",\"-\",\"2\",\"-\",\"-\",\"1\",\"13\",\"3\",\"14\",\"1\",\"-\",\"14\",\"-\",\"-\",\"-\",\"-\",\"13\",\"9\",\"3\",\"-\",\"-\",\"-\",\"55\",\"-\",\"-\",\"4\",\"29\",\"32\",\"-\",\"-\",\"-\",\"-\",\"1\",\"39\",\"-\",\"31\",\"-\",\"-\",\"43\",\"13\",\"-\",\"1\",\"27\",\"-\",\"-\",\"-\",\"30\",\"25\",\"-\",\"-\",\"-\",\"-\",\"-\",\"-\",\"-\",\"-\",\"-\",\"-\",\"-\",\"-\",\"-\",\"-\",\"-\",\"-\",\"-\",\"-\",\"-\",\"-\",\"-\",\"-\",\"-\",\"-\",\"-\",\"-\",\"-\",\"-\",\"-\",\"-\",\"-\",\"-\",\"-\",\"-\",\"-\",\"-\",\"-\",\"-\",\"-\",\"-\",\"-\",\"-\",\"-\",\"-\",\"-\",\"-\",\"-\",\"4\",\"-\",\"1\",\"-\",\"-\",\"22\",\"18\",\"-\",\"-\",\"2\",\"15\",\"-\",\"1\",\"4\",\"4\",\"29\",\"-\",\"-\",\"-\",\"18\",\"29\",\"-\",\"1\",\"8\",\"11\",\"1\",\"-\",\"1\",\"1\",\"2\",\"34\",\"-\",\"-\",\"29\",\"51\",\"-\",\"-\",\"22\",\"41\",\"1\",\"6\",\"2\",\"26\",\"-\",\"-\",\"29\",\"-\",\"13\",\"-\",\"3\",\"7\",\"19\",\"10\",\"19\",\"6\",\"2\",\"26\",\"-\",\"-\",\"-\",\"-\",\"46\",\"15\",\"124\",\"13\",\"35\",\"23\",\"66\",\"68\",\"32\",\"44\",\"119\",\"100\",\"23\",\"61\",\"24\",\"20\",\"77\",\"82\",\"28\",\"91\",\"79\",\"46\",\"113\",\"66\",\"54\",\"37\",\"161\",\"30\",\"89\",\"42\",\"104\",\"37\",\"26\",\"57\",\"55\",\"36\",\"75\",\"3\",\"3\",\"9\",\"3\",\"7\",\"4\",\"-\",\"4\",\"11\",\"1\",\"1\",\"6\",\"8\",\"9\",\"-\",\"-\",\"-\",\"-\",\"-\",\"-\",\"-\",\"-\",\"-\",\"-\",\"-\",\"1\",\"6\",\"-\",\"2\",\"-\",\"2\",\"8\",\"21\",\"8\",\"22\",\"60\",\"10\",\"33\",\"20\",\"29\",\"25\",\"4\",\"11\",\"17\",\"8\",\"12\",\"23\",\"35\",\"38\",\"15\",\"11\",\"148\",\"183\",\"130\",\"72\",\"132\",\"161\",\"220\",\"64\",\"53\",\"64\",\"134\",\"166\",\"93\",\"174\",\"166\",\"103\",\"165\",\"104\",\"149\",\"108\",\"142\",\"194\",\"44\",\"84\",\"171\",\"221\",\"93\",\"69\",\"182\",\"194\",\"79\",\"180\",\"32\",\"100\",\"22\",\"60\",\"159\",\"47\",\"107\",\"50\",\"73\",\"173\",\"167\",\"103\",\"155\",\"116\",\"113\",\"192\",\"102\",\"56\",\"63\",\"90\",\"127\",\"140\",\"-\",\"-\",\"-\",\"-\",\"-\",\"-\",\"-\",\"-\",\"-\",\"-\",\"-\",\"-\",\"-\",\"-\",\"-\",\"-\",\"-\",\"-\",\"-\",\"-\",\"-\",\"-\",\"-\",\"-\",\"-\",\"-\",\"-\",\"-\",\"-\",\"-\",\"-\",\"-\",\"-\",\"-\",\"-\",\"2\",\"-\",\"-\",\"-\",\"-\",\"-\",\"-\",\"-\",\"-\",\"-\",\"-\",\"-\",\"-\",\"-\",\"-\",\"-\",\"-\",\"-\",\"-\",\"-\",\"-\",\"-\",\"-\",\"-\",\"-\",\"-\",\"-\",\"-\",\"-\",\"-\",\"-\",\"-\",\"-\",\"-\",\"-\",\"-\",\"-\",\"-\",\"-\",\"-\",\"-\",\"-\",\"-\",\"-\",\"-\",\"-\",\"-\",\"-\",\"-\",\"-\",\"-\",\"-\",\"-\",\"-\",\"-\",\"-\",\"-\",\"-\",\"-\",\"-\",\"-\",\"-\",\"-\",\"-\",\"-\",\"-\",\"-\",\"1\",\"-\",\"-\",\"-\",\"-\",\"-\",\"-\",\"-\",\"-\",\"-\",\"1\",\"-\",\"-\",\"-\",\"-\",\"-\",\"-\",\"-\",\"-\",\"-\",\"-\",\"-\",\"-\",\"-\",\"-\",\"-\",\"-\",\"-\",\"-\",\"-\",\"1\",\"-\",\"-\",\"-\",\"-\",\"-\",\"-\",\"-\",\"-\",\"-\",\"1\",\"-\",\"-\",\"1\",\"-\",\"-\",\"-\",\"-\",\"-\",\"-\",\"2\",\"-\",\"1\",\"-\",\"-\",\"-\",\"-\",\"-\",\"-\",\"-\",\"-\",\"-\",\"-\",\"-\",\"-\",\"-\",\"1\",\"-\",\"-\",\"-\",\"-\",\"-\",\"-\",\"-\",\"-\",\"-\",\"-\",\"-\",\"-\",\"-\",\"-\",\"-\",\"2\",\"-\",\"-\",\"-\",\"-\",\"-\",\"-\",\"-\",\"-\",\"-\",\"-\",\"-\",\"-\",\"-\",\"-\",\"-\",\"-\",\"-\",\"-\",\"-\",\"-\",\"-\",\"-\",\"-\",\"-\",\"1\",\"1\",\"-\",\"-\",\"-\",\"-\",\"-\",\"-\",\"-\",\"-\",\"-\",\"-\",\"-\",\"-\",\"-\",\"-\",\"-\",\"-\",\"-\",\"-\",\"-\",\"-\",\"-\",\"-\",\"-\",\"-\",\"-\",\"-\",\"-\",\"-\",\"-\",\"-\",\"-\",\"1\",\"-\",\"-\",\"-\",\"-\",\"-\",\"-\",\"-\",\"-\",\"-\",\"-\",\"-\",\"1\",\"-\",\"-\",\"-\",\"-\",\"-\",\"-\",\"-\",\"-\",\"-\",\"2\",\"-\",\"-\",\"-\",\"-\",\"-\",\"-\",\"-\",\"-\",\"-\",\"-\",\"-\",\"-\",\"-\",\"-\",\"-\",\"1\",\"-\",\"-\",\"37\",\"98\",\"2\",\"6\",\"98\",\"56\",\"53\",\"-\",\"3\",\"-\",\"15\",\"6\",\"65\",\"-\",\"45\",\"-\",\"-\",\"51\",\"65\",\"6\",\"56\",\"42\",\"1\",\"-\",\"-\",\"86\",\"95\",\"1\",\"27\",\"1\",\"97\",\"-\",\"2\",\"2\",\"14\",\"4\",\"-\",\"13\",\"1\",\"4\",\"1\",\"-\",\"18\",\"2\",\"37\",\"-\",\"3\",\"-\",\"1\",\"-\",\"1\",\"-\",\"-\",\"1\",\"-\",\"-\",\"-\",\"-\",\"-\",\"-\",\"10\",\"-\",\"-\",\"-\",\"-\",\"1\",\"-\",\"-\",\"-\",\"20\",\"1\",\"60\",\"12\",\"-\",\"34\",\"1\",\"1\",\"1\",\"-\",\"60\",\"47\",\"45\",\"4\",\"8\",\"26\",\"-\",\"-\",\"13\",\"-\",\"34\",\"1\",\"5\",\"-\",\"29\",\"30\",\"2\",\"-\",\"17\",\"33\",\"1\",\"6\",\"-\",\"3\",\"4\",\"24\",\"3\",\"11\",\"51\",\"61\",\"-\",\"6\",\"37\",\"56\",\"26\",\"14\",\"-\",\"68\",\"-\",\"90\",\"54\",\"-\",\"23\",\"3\",\"-\",\"6\",\"35\",\"39\",\"36\",\"24\",\"3\",\"36\",\"2\",\"-\",\"25\",\"1\",\"60\",\"15\",\"3\",\"1\",\"-\",\"6\",\"1\",\"1\",\"3\",\"8\",\"-\",\"-\",\"7\",\"6\",\"-\",\"2\",\"2\",\"-\",\"-\",\"-\",\"2\",\"9\",\"-\",\"2\",\"5\",\"3\",\"1\",\"-\",\"-\",\"-\",\"4\",\"6\",\"-\",\"2\",\"-\",\"2\",\"-\",\"5\",\"14\",\"-\",\"4\",\"-\",\"2\",\"4\",\"7\",\"5\",\"5\",\"4\",\"-\",\"5\",\"3\",\"9\",\"1\",\"7\",\"3\",\"10\",\"6\",\"1\",\"2\",\"2\",\"7\",\"1\",\"2\",\"-\",\"2\",\"6\",\"5\",\"3\",\"6\",\"4\",\"-\",\"2\",\"2\",\"2\",\"5\",\"2\",\"11\",\"3\",\"2\",\"3\",\"3\",\"-\",\"4\",\"4\",\"2\",\"3\",\"4\",\"1\",\"2\",\"2\",\"-\",\"3\",\"-\",\"-\",\"-\",\"1\",\"2\",\"-\",\"-\",\"2\",\"-\",\"-\",\"-\",\"1\",\"-\",\"-\",\"-\",\"-\",\"1\",\"1\",\"-\",\"1\",\"-\",\"-\",\"1\",\"-\",\"-\",\"1\",\"7\",\"-\",\"-\",\"2\",\"-\",\"3\",\"-\",\"-\",\"1\",\"8\",\"-\",\"-\",\"-\",\"1\",\"-\",\"1\",\"-\",\"-\",\"-\",\"3\",\"2\",\"-\",\"-\",\"-\",\"19\",\"2\",\"2\",\"59\",\"99\",\"27\",\"4\",\"93\",\"75\",\"78\",\"7\",\"70\",\"3\",\"34\",\"77\",\"64\",\"-\",\"73\",\"20\",\"2\",\"85\",\"67\",\"21\",\"66\",\"60\",\"-\",\"3\",\"13\",\"75\",\"88\",\"1\",\"53\",\"32\",\"81\",\"22\",\"-\",\"28\",\"4\",\"1\",\"1\",\"46\",\"5\",\"5\",\"1\",\"8\",\"48\",\"1\",\"17\",\"3\",\"17\",\"-\",\"3\",\"1\",\"6\",\"-\",\"-\",\"-\",\"-\",\"-\",\"1\",\"-\",\"-\",\"4\",\"3\",\"2\",\"1\",\"-\",\"1\",\"-\",\"1\",\"65\",\"-\",\"32\",\"3\",\"73\",\"28\",\"-\",\"71\",\"8\",\"-\",\"3\",\"2\",\"77\",\"73\",\"33\",\"20\",\"42\",\"49\",\"13\",\"26\",\"38\",\"48\",\"81\",\"2\",\"32\",\"9\",\"59\",\"66\",\"24\",\"50\",\"59\",\"70\",\"46\",\"40\",\"36\",\"25\",\"35\",\"70\",\"21\",\"44\",\"98\",\"88\",\"17\",\"29\",\"72\",\"67\",\"62\",\"59\",\"3\",\"78\",\"4\",\"83\",\"90\",\"6\",\"61\",\"12\",\"19\",\"45\",\"81\",\"67\",\"59\",\"52\",\"46\",\"72\",\"-\",\"6\",\"76\",\"17\",\"83\",\"59\",\"80\",\"21\",\"6\",\"-\",\"35\",\"-\",\"40\",\"19\",\"45\",\"47\",\"-\",\"-\",\"5\",\"1\",\"2\",\"6\",\"48\",\"2\",\"1\",\"21\",\"6\",\"22\",\"1\",\"3\",\"61\",\"29\",\"1\",\"5\",\"68\",\"17\",\"1\",\"1\",\"1\",\"4\",\"18\",\"-\",\"-\",\"-\",\"-\",\"1\",\"-\",\"-\",\"-\",\"-\",\"-\",\"-\",\"-\",\"-\",\"-\",\"-\",\"-\",\"-\",\"-\",\"-\",\"-\",\"-\",\"-\",\"-\",\"-\",\"-\",\"-\",\"2\",\"-\",\"-\",\"-\",\"-\",\"-\",\"-\",\"-\",\"18\",\"-\",\"9\",\"4\",\"1\",\"-\",\"-\",\"-\",\"-\",\"-\",\"11\",\"-\",\"-\",\"4\",\"-\",\"-\",\"-\",\"67\",\"94\",\"35\",\"51\",\"68\",\"76\",\"36\",\"79\",\"19\",\"62\",\"66\",\"7\",\"70\",\"3\",\"75\",\"60\",\"11\",\"72\",\"26\",\"102\",\"102\",\"52\",\"83\",\"39\",\"3\",\"25\",\"8\",\"9\",\"7\",\"67\",\"31\",\"12\",\"55\",\"56\",\"56\",\"6\",\"80\",\"34\",\"3\",\"1\",\"2\",\"8\",\"72\",\"42\",\"60\",\"60\",\"9\",\"60\",\"39\",\"52\",\"14\",\"5\",\"77\",\"5\",\"21\",\"2\",\"-\",\"9\",\"-\",\"-\",\"6\",\"3\",\"11\",\"12\",\"5\",\"-\",\"-\",\"6\",\"-\",\"-\",\"-\",\"-\",\"-\",\"12\",\"-\",\"44\",\"17\",\"5\",\"12\",\"10\",\"-\",\"11\",\"-\",\"-\",\"-\",\"28\",\"-\",\"1\",\"44\",\"-\",\"-\",\"-\",\"-\",\"-\",\"-\",\"-\",\"-\",\"-\",\"-\",\"-\",\"-\",\"-\",\"-\",\"-\",\"-\",\"-\",\"-\",\"-\",\"-\",\"-\",\"-\",\"-\",\"-\",\"-\",\"-\",\"-\",\"-\",\"-\",\"-\",\"-\",\"-\",\"-\",\"-\",\"-\",\"-\",\"-\",\"-\",\"-\",\"-\",\"1\",\"-\",\"-\",\"-\",\"-\",\"1\",\"-\",\"-\",\"-\",\"-\",\"-\",\"42\",\"14\",\"1\",\"59\",\"16\",\"29\",\"14\",\"20\",\"60\",\"-\",\"46\",\"-\",\"66\",\"-\",\"47\",\"65\",\"-\",\"50\",\"-\",\"30\",\"37\",\"12\",\"38\",\"64\",\"-\",\"1\",\"-\",\"42\",\"-\",\"13\",\"57\",\"-\",\"3\",\"25\",\"10\",\"4\",\"11\",\"-\",\"-\",\"3\",\"-\",\"-\",\"9\",\"45\",\"22\",\"48\",\"-\",\"25\",\"-\",\"37\",\"49\",\"-\",\"2\",\"-\",\"26\",\"-\",\"78\",\"-\",\"4\",\"132\",\"-\",\"-\",\"5\",\"-\",\"-\",\"106\",\"26\",\"-\",\"73\",\"52\",\"-\",\"79\",\"121\",\"-\",\"63\",\"-\",\"-\",\"-\",\"23\",\"-\",\"151\",\"-\",\"-\",\"-\",\"117\",\"-\",\"117\",\"-\",\"-\",\"-\",\"61\",\"-\",\"-\",\"3\",\"33\",\"28\",\"-\",\"-\",\"52\",\"52\",\"-\",\"-\",\"-\",\"38\",\"21\",\"20\",\"41\",\"33\",\"35\",\"16\",\"18\",\"13\",\"21\",\"7\",\"-\",\"-\",\"43\",\"-\",\"37\",\"-\",\"-\",\"106\",\"-\",\"-\",\"100\",\"-\",\"-\",\"-\",\"-\",\"-\",\"-\",\"69\",\"-\",\"-\",\"-\",\"72\",\"41\",\"60\",\"-\",\"-\",\"-\",\"31\",\"61\",\"-\",\"37\",\"29\",\"42\",\"9\",\"-\",\"14\",\"-\",\"138\",\"-\",\"170\",\"4\",\"-\",\"112\",\"-\",\"110\",\"2\",\"1\",\"24\",\"-\",\"-\",\"146\",\"52\",\"78\",\"-\",\"82\",\"4\",\"-\",\"128\",\"1\",\"-\",\"-\",\"-\",\"6\",\"5\",\"110\",\"-\",\"158\",\"84\",\"16\",\"-\",\"-\",\"-\",\"124\",\"12\",\"58\",\"-\",\"-\",\"138\",\"12\",\"123\",\"78\",\"5\",\"1\",\"-\",\"4\",\"-\",\"1\",\"-\",\"54\",\"38\",\"-\",\"-\",\"-\",\"-\",\"-\",\"-\",\"4\",\"-\",\"-\",\"-\",\"-\",\"10\",\"-\",\"-\",\"73\",\"2\",\"-\",\"-\",\"28\",\"-\",\"1\",\"1\",\"-\",\"-\",\"-\",\"-\",\"-\",\"-\",\"-\",\"-\",\"-\",\"-\",\"-\",\"-\",\"-\",\"-\",\"-\",\"-\",\"-\",\"-\",\"-\",\"-\",\"-\",\"-\",\"-\",\"-\",\"-\",\"-\",\"-\",\"-\",\"-\",\"-\",\"-\",\"-\",\"-\",\"-\",\"-\",\"-\",\"-\",\"1\",\"-\",\"-\",\"-\",\"-\",\"-\",\"-\",\"-\",\"-\",\"-\",\"1\",\"-\",\"-\",\"-\",\"-\",\"-\",\"-\",\"80\",\"90\",\"32\",\"11\",\"63\",\"86\",\"68\",\"39\",\"9\",\"51\",\"74\",\"9\",\"61\",\"2\",\"84\",\"35\",\"18\",\"47\",\"48\",\"59\",\"85\",\"62\",\"38\",\"18\",\"3\",\"45\",\"7\",\"-\",\"27\",\"85\",\"13\",\"23\",\"22\",\"35\",\"17\",\"-\",\"51\",\"7\",\"-\",\"-\",\"2\",\"29\",\"52\",\"33\",\"76\",\"62\",\"21\",\"79\",\"36\",\"13\",\"9\",\"5\",\"43\",\"4\",\"3\",\"-\",\"23\",\"-\",\"3\",\"10\",\"-\",\"-\",\"1\",\"-\",\"-\",\"19\",\"22\",\"-\",\"41\",\"26\",\"1\",\"24\",\"17\",\"-\",\"39\",\"-\",\"-\",\"-\",\"2\",\"-\",\"21\",\"-\",\"-\",\"-\",\"13\",\"-\",\"12\",\"-\",\"-\",\"-\",\"25\",\"-\",\"-\",\"11\",\"29\",\"27\",\"-\",\"-\",\"20\",\"38\",\"-\",\"-\",\"-\",\"19\",\"14\",\"13\",\"11\",\"25\",\"17\",\"10\",\"14\",\"9\",\"5\",\"5\",\"-\",\"-\",\"15\",\"-\",\"17\",\"-\",\"-\",\"26\",\"-\",\"3\",\"14\",\"-\",\"-\",\"-\",\"-\",\"-\",\"-\",\"31\",\"-\",\"-\",\"-\",\"21\",\"39\",\"34\",\"-\",\"-\",\"-\",\"-\",\"12\",\"-\",\"-\",\"3\",\"-\",\"-\",\"-\",\"-\",\"-\",\"15\",\"-\",\"20\",\"-\",\"-\",\"29\",\"-\",\"18\",\"-\",\"-\",\"2\",\"-\",\"-\",\"37\",\"11\",\"24\",\"-\",\"16\",\"-\",\"-\",\"20\",\"-\",\"-\",\"-\",\"-\",\"3\",\"10\",\"30\",\"-\",\"32\",\"15\",\"1\",\"-\",\"1\",\"-\",\"18\",\"2\",\"7\",\"-\",\"-\",\"28\",\"5\",\"25\",\"2\",\"3\",\"5\",\"-\",\"-\",\"3\",\"4\",\"2\",\"-\",\"-\",\"1\",\"1\",\"5\",\"-\",\"6\",\"4\",\"2\",\"3\",\"-\",\"-\",\"6\",\"-\",\"1\",\"1\",\"1\",\"-\",\"4\",\"-\",\"-\",\"-\",\"2\",\"-\",\"-\",\"1\",\"-\",\"-\",\"-\",\"-\",\"-\",\"9\",\"-\",\"-\",\"-\",\"-\",\"-\",\"-\",\"-\",\"-\",\"-\",\"-\",\"-\",\"-\",\"-\",\"-\",\"-\",\"-\",\"-\",\"-\",\"-\",\"-\",\"-\",\"1\",\"-\",\"-\",\"-\",\"-\",\"-\",\"1\",\"-\",\"6\",\"2\",\"3\",\"-\",\"-\",\"-\",\"-\",\"2\",\"-\",\"-\",\"2\",\"-\",\"6\",\"2\",\"-\",\"-\",\"-\",\"-\",\"-\",\"2\",\"-\",\"3\",\"5\",\"3\",\"4\",\"-\",\"1\",\"-\",\"3\",\"-\",\"3\",\"-\",\"-\",\"3\",\"-\",\"5\",\"1\",\"-\",\"2\",\"2\",\"1\",\"3\",\"4\",\"6\",\"-\",\"2\",\"-\",\"1\",\"3\",\"2\",\"-\",\"2\",\"-\",\"-\",\"3\",\"2\",\"-\",\"6\",\"6\",\"-\",\"-\",\"-\",\"-\",\"4\",\"3\",\"1\",\"1\",\"-\",\"4\",\"1\",\"2\",\"128\",\"65\",\"80\",\"2\",\"11\",\"89\",\"40\",\"25\",\"74\",\"79\",\"4\",\"85\",\"24\",\"-\",\"23\",\"24\",\"68\",\"48\",\"94\",\"54\",\"79\",\"54\",\"2\",\"6\",\"107\",\"56\",\"95\",\"5\",\"65\",\"14\",\"88\",\"8\",\"109\",\"4\",\"36\",\"-\",\"-\",\"-\",\"-\",\"8\",\"-\",\"-\",\"-\",\"-\",\"3\",\"1\",\"1\",\"-\",\"-\",\"-\",\"-\",\"-\",\"-\",\"-\",\"-\",\"-\",\"-\",\"-\",\"-\",\"-\",\"-\",\"9\",\"1\",\"-\",\"1\",\"-\",\"-\",\"27\",\"15\",\"55\",\"61\",\"21\",\"-\",\"4\",\"-\",\"-\",\"2\",\"-\",\"-\",\"13\",\"2\",\"44\",\"1\",\"15\",\"-\",\"-\",\"100\",\"148\",\"121\",\"80\",\"133\",\"130\",\"125\",\"119\",\"42\",\"113\",\"102\",\"137\",\"95\",\"136\",\"136\",\"77\",\"137\",\"100\",\"174\",\"106\",\"115\",\"123\",\"110\",\"90\",\"124\",\"142\",\"151\",\"12\",\"99\",\"89\",\"61\",\"122\",\"98\",\"76\",\"105\",\"17\",\"119\",\"106\",\"76\",\"2\",\"141\",\"102\",\"107\",\"77\",\"90\",\"89\",\"119\",\"126\",\"113\",\"67\",\"24\",\"142\",\"68\",\"153\",\"2\",\"-\",\"6\",\"-\",\"-\",\"-\",\"-\",\"-\",\"-\",\"1\",\"1\",\"-\",\"1\",\"-\",\"-\",\"-\",\"-\",\"-\",\"1\",\"-\",\"1\",\"1\",\"1\",\"-\",\"-\",\"2\",\"1\",\"1\",\"-\",\"-\",\"-\",\"1\",\"-\",\"-\",\"-\",\"-\",\"-\",\"-\",\"-\",\"2\",\"-\",\"-\",\"-\",\"-\",\"2\",\"-\",\"-\",\"-\",\"-\",\"-\",\"-\",\"-\",\"-\",\"-\",\"-\",\"-\",\"2\",\"-\",\"-\",\"-\",\"-\",\"-\",\"-\",\"-\",\"-\",\"-\",\"-\",\"-\",\"-\",\"2\",\"3\",\"-\",\"-\",\"-\",\"-\",\"-\",\"-\",\"-\",\"-\",\"-\",\"-\",\"-\",\"-\",\"-\",\"-\",\"-\",\"1\",\"1\",\"2\",\"2\",\"3\",\"-\",\"1\",\"3\",\"-\",\"1\",\"1\",\"1\",\"2\",\"1\",\"-\",\"3\",\"1\",\"-\",\"5\",\"1\",\"2\",\"-\",\"-\",\"-\",\"2\",\"1\",\"3\",\"5\",\"-\",\"-\",\"-\",\"7\",\"3\",\"1\",\"4\",\"2\",\"-\",\"3\",\"-\",\"-\",\"1\",\"3\",\"-\",\"-\",\"-\",\"-\",\"6\",\"-\",\"-\",\"-\",\"-\",\"3\",\"-\",\"1\",\"5\",\"1\",\"-\",\"1\",\"1\",\"-\",\"3\",\"1\",\"1\",\"1\",\"5\",\"1\",\"2\",\"4\",\"-\",\"3\",\"1\",\"3\",\"12\",\"-\",\"3\",\"2\",\"4\",\"-\",\"6\",\"3\",\"3\",\"4\",\"2\",\"-\",\"4\",\"6\",\"6\",\"-\",\"1\",\"-\",\"-\",\"-\",\"-\",\"1\",\"-\",\"-\",\"-\",\"-\",\"-\",\"-\",\"2\",\"-\",\"-\",\"-\",\"-\",\"-\",\"-\",\"-\",\"-\",\"-\",\"-\",\"-\",\"-\",\"-\",\"-\",\"2\",\"-\",\"-\",\"-\",\"-\",\"-\",\"1\",\"-\",\"-\",\"2\",\"2\",\"2\",\"1\",\"-\",\"-\",\"-\",\"-\",\"-\",\"-\",\"3\",\"-\",\"-\",\"-\",\"2\",\"-\",\"4\",\"1\",\"4\",\"5\",\"3\",\"2\",\"4\",\"4\",\"-\",\"-\",\"1\",\"6\",\"5\",\"11\",\"5\",\"-\",\"4\",\"-\",\"-\",\"-\",\"-\",\"7\",\"6\",\"2\",\"10\",\"10\",\"6\",\"3\",\"3\",\"-\",\"1\",\"14\",\"2\",\"3\",\"1\",\"-\",\"-\",\"-\",\"7\",\"8\",\"2\",\"6\",\"5\",\"1\",\"1\",\"5\",\"1\",\"3\",\"-\",\"3\",\"4\",\"-\",\"4\",\"5\",\"43\",\"77\",\"74\",\"1\",\"-\",\"22\",\"77\",\"-\",\"2\",\"-\",\"23\",\"-\",\"95\",\"-\",\"1\",\"-\",\"66\",\"-\",\"51\",\"78\",\"1\",\"3\",\"10\",\"-\",\"1\",\"111\",\"103\",\"38\",\"-\",\"-\",\"99\",\"-\",\"41\",\"1\",\"39\",\"-\",\"-\",\"-\",\"1\",\"42\",\"-\",\"-\",\"1\",\"-\",\"-\",\"-\",\"9\",\"-\",\"-\",\"-\",\"-\",\"-\",\"-\",\"-\",\"-\",\"-\",\"-\",\"-\",\"-\",\"-\",\"5\",\"56\",\"-\",\"-\",\"-\",\"-\",\"26\",\"47\",\"74\",\"72\",\"4\",\"66\",\"-\",\"61\",\"-\",\"2\",\"58\",\"-\",\"8\",\"48\",\"47\",\"73\",\"-\",\"-\",\"-\",\"1\",\"14\",\"1\",\"102\",\"17\",\"19\",\"14\",\"6\",\"103\",\"13\",\"104\",\"-\",\"6\",\"56\",\"21\",\"13\",\"1\",\"55\",\"27\",\"62\",\"87\",\"32\",\"-\",\"89\",\"10\",\"-\",\"2\",\"76\",\"21\",\"1\",\"-\",\"4\",\"9\",\"104\",\"-\",\"84\",\"-\",\"1\",\"76\",\"1\",\"23\",\"82\",\"18\",\"-\",\"-\",\"2\",\"5\",\"46\",\"1\",\"87\",\"70\",\"1\",\"63\",\"1\",\"3\",\"11\",\"-\",\"-\",\"1\",\"5\",\"8\",\"-\",\"4\",\"3\",\"2\",\"-\",\"9\",\"1\",\"-\",\"8\",\"3\",\"2\",\"3\",\"3\",\"3\",\"8\",\"2\",\"6\",\"2\",\"4\",\"1\",\"4\",\"-\",\"1\",\"4\",\"5\",\"2\",\"10\",\"1\",\"2\",\"-\",\"1\",\"-\",\"-\",\"-\",\"-\",\"-\",\"-\",\"-\",\"-\",\"-\",\"-\",\"-\",\"-\",\"-\",\"-\",\"-\",\"-\",\"-\",\"-\",\"-\",\"-\",\"-\",\"-\",\"-\",\"-\",\"-\",\"-\",\"-\",\"-\",\"-\",\"-\",\"2\",\"-\",\"-\",\"4\",\"-\",\"-\",\"-\",\"1\",\"-\",\"-\",\"1\",\"-\",\"-\",\"-\",\"2\",\"2\",\"2\",\"-\",\"-\",\"6\",\"7\",\"7\",\"3\",\"5\",\"17\",\"5\",\"7\",\"4\",\"5\",\"6\",\"10\",\"16\",\"15\",\"15\",\"2\",\"13\",\"2\",\"6\",\"13\",\"9\",\"6\",\"7\",\"4\",\"11\",\"9\",\"11\",\"3\",\"9\",\"5\",\"4\",\"14\",\"2\",\"3\",\"1\",\"7\",\"1\",\"-\",\"13\",\"-\",\"12\",\"5\",\"-\",\"1\",\"5\",\"1\",\"10\",\"9\",\"4\",\"1\",\"15\",\"12\",\"4\",\"9\",\"19\",\"29\",\"-\",\"88\",\"5\",\"-\",\"50\",\"51\",\"11\",\"45\",\"62\",\"-\",\"-\",\"73\",\"-\",\"-\",\"-\",\"-\",\"-\",\"81\",\"-\",\"78\",\"115\",\"73\",\"10\",\"40\",\"-\",\"95\",\"8\",\"21\",\"-\",\"116\",\"-\",\"18\",\"108\",\"3\",\"-\",\"5\",\"1\",\"-\",\"-\",\"-\",\"-\",\"-\",\"-\",\"-\",\"7\",\"6\",\"-\",\"-\",\"-\",\"-\",\"-\",\"-\",\"-\",\"-\",\"-\",\"-\",\"-\",\"-\",\"-\",\"5\",\"-\",\"11\",\"-\",\"-\",\"-\",\"-\",\"43\",\"4\",\"-\",\"10\",\"41\",\"72\",\"20\",\"66\",\"2\",\"-\",\"41\",\"-\",\"16\",\"-\",\"-\",\"-\",\"27\",\"57\",\"92\",\"7\",\"-\",\"104\",\"-\",\"9\",\"-\",\"20\",\"101\",\"4\",\"82\",\"-\",\"104\",\"-\",\"42\",\"134\",\"-\",\"122\",\"-\",\"40\",\"62\",\"-\",\"80\",\"98\",\"-\",\"-\",\"-\",\"118\",\"-\",\"29\",\"127\",\"-\",\"19\",\"61\",\"55\",\"56\",\"5\",\"2\",\"-\",\"112\",\"-\",\"-\",\"-\",\"94\",\"31\",\"104\",\"-\",\"7\",\"-\",\"70\",\"103\",\"-\",\"1\",\"-\",\"15\",\"2\",\"-\",\"31\",\"-\",\"-\",\"7\",\"6\",\"8\",\"16\",\"15\",\"-\",\"-\",\"23\",\"-\",\"-\",\"1\",\"-\",\"-\",\"20\",\"-\",\"25\",\"38\",\"20\",\"11\",\"5\",\"-\",\"35\",\"6\",\"-\",\"-\",\"45\",\"-\",\"2\",\"37\",\"2\",\"-\",\"-\",\"3\",\"-\",\"-\",\"-\",\"2\",\"-\",\"-\",\"-\",\"-\",\"-\",\"-\",\"-\",\"-\",\"-\",\"-\",\"-\",\"-\",\"-\",\"-\",\"-\",\"-\",\"-\",\"-\",\"-\",\"-\",\"1\",\"-\",\"1\",\"1\",\"-\",\"8\",\"1\",\"-\",\"-\",\"6\",\"15\",\"1\",\"14\",\"2\",\"-\",\"4\",\"-\",\"4\",\"-\",\"-\",\"-\",\"13\",\"11\",\"42\",\"10\",\"-\",\"40\",\"14\",\"9\",\"1\",\"13\",\"51\",\"3\",\"13\",\"-\",\"26\",\"-\",\"21\",\"32\",\"-\",\"47\",\"-\",\"10\",\"16\",\"-\",\"10\",\"18\",\"-\",\"2\",\"-\",\"39\",\"-\",\"14\",\"42\",\"-\",\"2\",\"17\",\"19\",\"14\",\"3\",\"-\",\"-\",\"32\",\"-\",\"-\",\"-\",\"35\",\"23\",\"23\",\"-\",\"11\",\"-\",\"29\",\"62\",\"-\",\"-\",\"-\",\"49\",\"3\",\"9\",\"-\",\"1\",\"-\",\"1\",\"-\",\"3\",\"8\",\"-\",\"-\",\"1\",\"-\",\"-\",\"-\",\"5\",\"-\",\"-\",\"-\",\"2\",\"1\",\"-\",\"-\",\"15\",\"4\",\"1\",\"-\",\"-\",\"-\",\"2\",\"-\",\"2\",\"-\",\"4\",\"-\",\"-\",\"-\",\"-\",\"-\",\"-\",\"-\",\"-\",\"-\",\"-\",\"-\",\"-\",\"-\",\"-\",\"-\",\"-\",\"-\",\"-\",\"-\",\"-\",\"-\",\"-\",\"-\",\"-\",\"-\",\"-\",\"-\",\"-\",\"-\",\"-\",\"-\",\"-\",\"1\",\"1\",\"3\",\"-\",\"1\",\"-\",\"-\",\"-\",\"-\",\"-\",\"-\",\"-\",\"-\",\"-\",\"5\",\"-\",\"-\",\"-\",\"-\",\"48\",\"26\",\"41\",\"4\",\"28\",\"40\",\"34\",\"49\",\"2\",\"27\",\"19\",\"6\",\"39\",\"10\",\"39\",\"15\",\"24\",\"31\",\"39\",\"36\",\"60\",\"23\",\"26\",\"10\",\"1\",\"14\",\"20\",\"-\",\"15\",\"17\",\"-\",\"14\",\"17\",\"6\",\"12\",\"-\",\"11\",\"4\",\"-\",\"-\",\"5\",\"36\",\"15\",\"10\",\"12\",\"20\",\"12\",\"31\",\"20\",\"6\",\"-\",\"10\",\"4\",\"1\",\"1\",\"33\",\"7\",\"-\",\"-\",\"-\",\"18\",\"-\",\"-\",\"-\",\"-\",\"-\",\"3\",\"-\",\"-\",\"-\",\"33\",\"-\",\"-\",\"9\",\"-\",\"1\",\"-\",\"-\",\"-\",\"16\",\"-\",\"11\",\"-\",\"-\",\"2\",\"-\",\"-\",\"1\",\"6\",\"-\",\"-\",\"-\",\"-\",\"4\",\"-\",\"-\",\"-\",\"-\",\"-\",\"-\",\"-\",\"-\",\"-\",\"-\",\"-\",\"-\",\"-\",\"-\",\"-\",\"-\",\"-\",\"-\",\"-\",\"-\",\"-\",\"14\",\"-\",\"-\",\"-\",\"-\",\"8\",\"-\",\"24\",\"48\",\"-\",\"24\",\"-\",\"18\",\"-\",\"-\",\"8\",\"-\",\"1\",\"10\",\"14\",\"-\",\"-\",\"-\",\"-\",\"-\",\"1\",\"2\",\"8\",\"2\",\"2\",\"4\",\"-\",\"8\",\"-\",\"26\",\"2\",\"-\",\"1\",\"-\",\"1\",\"-\",\"-\",\"-\",\"2\",\"3\",\"-\",\"-\",\"16\",\"-\",\"-\",\"-\",\"-\",\"-\",\"-\",\"-\",\"-\",\"-\",\"14\",\"-\",\"18\",\"-\",\"1\",\"19\",\"-\",\"1\",\"-\",\"-\",\"-\",\"-\",\"-\",\"-\",\"2\",\"-\",\"7\",\"13\",\"-\",\"-\",\"-\",\"-\",\"28\",\"4\",\"5\",\"-\",\"3\",\"-\",\"6\",\"5\",\"5\",\"3\",\"-\",\"-\",\"-\",\"-\",\"-\",\"1\",\"5\",\"-\",\"-\",\"5\",\"-\",\"1\",\"-\",\"-\",\"7\",\"10\",\"10\",\"5\",\"3\",\"-\",\"-\",\"-\",\"-\",\"-\",\"7\",\"-\",\"-\",\"-\",\"-\",\"-\",\"-\",\"-\",\"-\",\"-\",\"-\",\"-\",\"1\",\"-\",\"-\",\"-\",\"-\",\"-\",\"-\",\"-\",\"-\",\"-\",\"-\",\"-\",\"-\",\"-\",\"-\",\"2\",\"-\",\"-\",\"-\",\"-\",\"-\",\"-\",\"-\",\"1\",\"-\",\"-\",\"-\",\"-\",\"-\",\"-\",\"-\",\"-\",\"-\",\"1\",\"-\",\"-\",\"-\",\"-\",\"-\",\"-\",\"22\",\"25\",\"28\",\"12\",\"28\",\"21\",\"18\",\"19\",\"11\",\"11\",\"15\",\"2\",\"24\",\"10\",\"4\",\"12\",\"19\",\"13\",\"26\",\"21\",\"29\",\"6\",\"24\",\"9\",\"1\",\"6\",\"23\",\"3\",\"16\",\"4\",\"3\",\"12\",\"17\",\"6\",\"11\",\"-\",\"4\",\"-\",\"-\",\"-\",\"6\",\"30\",\"2\",\"5\",\"10\",\"19\",\"17\",\"16\",\"9\",\"10\",\"-\",\"11\",\"5\",\"2\",\"-\",\"1\",\"-\",\"2\",\"1\",\"-\",\"1\",\"-\",\"-\",\"-\",\"1\",\"1\",\"-\",\"-\",\"-\",\"2\",\"3\",\"-\",\"-\",\"-\",\"-\",\"1\",\"-\",\"-\",\"-\",\"1\",\"-\",\"1\",\"2\",\"-\",\"-\",\"-\",\"-\",\"-\",\"-\",\"1\",\"-\",\"5\",\"1\",\"3\",\"-\",\"-\",\"-\",\"7\",\"1\",\"-\",\"3\",\"4\",\"1\",\"-\",\"-\",\"-\",\"-\",\"1\",\"1\",\"-\",\"-\",\"-\",\"-\",\"-\",\"2\",\"1\",\"-\",\"6\",\"-\",\"1\",\"1\",\"1\",\"-\",\"-\",\"-\",\"-\",\"1\",\"-\",\"1\",\"-\",\"1\",\"1\",\"3\",\"-\",\"-\",\"-\",\"-\",\"-\",\"-\",\"-\",\"-\",\"-\",\"1\",\"-\",\"1\",\"-\",\"-\",\"-\",\"1\",\"1\",\"-\",\"-\",\"-\",\"-\",\"-\",\"-\",\"1\",\"-\",\"-\",\"-\",\"3\",\"-\",\"3\",\"2\",\"-\",\"-\",\"-\",\"-\",\"-\",\"-\",\"-\",\"-\",\"3\",\"-\",\"-\",\"3\",\"-\",\"-\",\"-\",\"-\",\"-\",\"-\",\"-\",\"-\",\"-\",\"-\",\"2\",\"-\",\"4\",\"-\",\"-\",\"1\",\"-\",\"-\",\"-\",\"-\",\"-\",\"-\",\"-\",\"-\",\"-\",\"-\",\"-\",\"-\",\"-\",\"-\",\"-\",\"-\",\"-\",\"-\",\"-\",\"-\",\"-\",\"-\",\"-\",\"-\",\"-\",\"-\",\"-\",\"-\",\"-\",\"-\",\"-\",\"-\",\"-\",\"-\",\"-\",\"-\",\"-\",\"-\",\"-\",\"-\",\"-\",\"-\",\"-\",\"-\",\"-\",\"-\",\"-\",\"-\",\"-\",\"-\",\"-\",\"-\",\"-\",\"-\",\"-\",\"-\",\"-\",\"-\",\"-\",\"-\",\"-\",\"-\",\"-\",\"-\",\"-\",\"-\",\"-\",\"-\",\"-\",\"-\",\"-\",\"-\",\"-\",\"-\",\"-\",\"-\",\"-\",\"-\",\"-\",\"-\",\"-\",\"-\",\"-\",\"-\",\"-\",\"-\",\"-\",\"-\",\"-\",\"-\",\"-\",\"-\",\"-\",\"-\",\"-\",\"-\",\"-\",\"1\",\"-\",\"-\",\"-\",\"-\",\"-\",\"-\",\"-\",\"-\",\"2\",\"-\",\"-\",\"-\",\"-\",\"-\",\"-\",\"-\",\"-\",\"-\",\"-\",\"-\",\"-\",\"-\",\"-\",\"-\",\"-\",\"-\",\"1\",\"-\",\"-\",\"-\",\"-\",\"-\",\"-\",\"-\",\"-\",\"-\",\"-\",\"-\",\"-\",\"-\",\"-\",\"-\",\"-\",\"-\",\"1\",\"-\",\"-\",\"-\",\"-\",\"1\",\"-\",\"-\",\"-\",\"1\",\"-\",\"-\",\"-\",\"-\",\"1\",\"-\",\"-\",\"1\",\"1\",\"-\",\"1\",\"-\",\"-\",\"-\",\"4\",\"-\",\"-\",\"-\",\"1\",\"-\",\"-\",\"-\",\"-\",\"-\",\"-\",\"-\",\"-\",\"-\",\"-\",\"-\",\"1\",\"-\",\"-\",\"-\",\"-\",\"-\",\"-\",\"-\",\"-\",\"-\",\"-\",\"-\",\"-\",\"-\",\"-\",\"-\",\"-\",\"-\",\"-\",\"-\",\"-\",\"-\",\"-\",\"-\",\"-\",\"-\",\"-\",\"-\",\"-\",\"-\",\"-\",\"1\",\"-\",\"-\",\"-\",\"-\",\"-\",\"-\",\"-\",\"-\",\"-\",\"1\",\"-\",\"2\",\"-\",\"1\",\"1\",\"1\",\"-\",\"-\",\"3\",\"4\",\"3\",\"-\",\"-\",\"1\",\"3\",\"4\",\"-\",\"-\",\"2\",\"-\",\"2\",\"-\",\"2\",\"1\",\"1\",\"2\",\"1\",\"-\",\"2\",\"1\",\"-\",\"-\",\"3\",\"-\",\"-\",\"2\",\"1\",\"-\",\"-\",\"-\",\"1\",\"-\",\"1\",\"-\",\"-\",\"1\",\"2\",\"1\",\"-\",\"4\",\"-\",\"2\",\"1\",\"-\",\"-\",\"1\",\"1\",\"-\",\"-\",\"-\",\"-\",\"-\",\"-\",\"-\",\"-\",\"-\",\"-\",\"-\",\"-\",\"-\",\"-\",\"-\",\"-\",\"-\",\"-\",\"-\",\"-\",\"-\",\"-\",\"-\",\"-\",\"-\",\"-\",\"-\",\"-\",\"-\",\"-\",\"-\",\"-\",\"-\",\"-\",\"-\",\"-\",\"-\",\"-\",\"-\",\"-\",\"-\",\"-\",\"-\",\"-\",\"-\",\"-\",\"-\",\"-\",\"-\",\"-\",\"-\",\"-\",\"-\",\"-\",\"-\",\"-\",\"-\",\"-\",\"-\",\"-\",\"-\",\"-\",\"-\",\"-\",\"-\",\"-\",\"-\",\"-\",\"-\",\"-\",\"-\",\"-\",\"-\",\"-\",\"-\",\"-\",\"-\",\"-\",\"-\",\"-\",\"-\",\"-\",\"-\",\"-\",\"-\",\"-\",\"-\",\"-\",\"-\",\"-\",\"-\",\"-\",\"-\",\"-\",\"-\",\"-\",\"-\",\"-\",\"-\",\"-\",\"-\",\"-\",\"-\",\"-\",\"-\",\"-\",\"-\",\"-\",\"-\",\"1\",\"-\",\"-\",\"-\",\"-\",\"-\",\"1\",\"-\",\"-\",\"-\",\"-\",\"-\",\"-\",\"-\",\"-\",\"-\",\"-\",\"-\",\"-\",\"1\",\"-\",\"-\",\"-\",\"-\",\"-\",\"1\",\"-\",\"-\",\"-\",\"-\",\"-\",\"-\",\"1\",\"2\",\"1\",\"-\",\"-\",\"-\",\"4\",\"-\",\"-\",\"-\",\"-\",\"-\",\"2\",\"1\",\"-\",\"-\",\"4\",\"-\",\"-\",\"1\",\"-\",\"-\",\"1\",\"-\",\"-\",\"7\",\"-\",\"1\",\"-\",\"-\",\"5\",\"1\",\"-\",\"-\",\"1\",\"-\",\"-\",\"-\",\"-\",\"6\",\"-\",\"-\",\"-\",\"-\",\"-\",\"-\",\"3\",\"-\",\"-\",\"-\",\"-\",\"-\",\"2\",\"-\",\"-\",\"-\",\"-\",\"-\",\"-\",\"-\",\"-\",\"9\",\"-\",\"-\",\"-\",\"-\",\"7\",\"-\",\"4\",\"3\",\"1\",\"2\",\"-\",\"-\",\"-\",\"-\",\"3\",\"-\",\"-\",\"2\",\"2\",\"1\",\"1\",\"-\",\"1\",\"-\",\"-\",\"1\",\"1\",\"-\",\"-\",\"-\",\"2\",\"2\",\"-\",\"-\",\"-\",\"3\",\"-\",\"1\",\"-\",\"-\",\"-\",\"-\",\"3\",\"2\",\"-\",\"2\",\"3\",\"-\",\"2\",\"-\",\"6\",\"1\",\"-\",\"-\",\"-\",\"-\",\"2\",\"-\",\"1\",\"-\",\"1\",\"2\",\"1\",\"1\",\"1\",\"1\",\"-\",\"-\",\"-\",\"-\",\"-\",\"-\",\"-\",\"4\",\"-\",\"1\",\"-\",\"-\",\"-\",\"-\",\"-\",\"-\",\"-\",\"-\",\"-\",\"-\",\"-\",\"-\",\"-\",\"-\",\"-\",\"-\",\"-\",\"-\",\"-\",\"-\",\"-\",\"-\",\"-\",\"-\",\"-\",\"-\",\"-\",\"-\",\"-\",\"-\",\"-\",\"-\",\"-\",\"-\",\"-\",\"-\",\"-\",\"-\",\"-\",\"2\",\"-\",\"-\",\"-\",\"-\",\"-\",\"-\",\"-\",\"-\",\"-\",\"-\",\"-\",\"-\",\"-\",\"-\",\"-\",\"-\",\"-\",\"-\",\"-\",\"-\",\"-\",\"-\",\"-\",\"-\",\"-\",\"-\",\"-\",\"-\",\"-\",\"-\",\"-\",\"-\",\"-\",\"-\",\"1\",\"-\",\"-\",\"1\",\"-\",\"-\",\"-\",\"-\",\"-\",\"-\",\"-\",\"-\",\"-\",\"-\",\"-\",\"-\",\"-\",\"-\",\"-\",\"-\",\"-\",\"-\",\"-\",\"-\",\"-\",\"-\",\"-\",\"-\",\"-\",\"-\",\"-\",\"-\",\"-\",\"-\",\"-\",\"-\",\"-\",\"-\",\"-\",\"-\",\"-\",\"-\",\"-\",\"-\",\"-\",\"-\",\"-\",\"-\",\"-\",\"-\",\"-\",\"-\",\"-\",\"-\",\"-\",\"-\",\"-\",\"-\",\"-\",\"-\",\"-\",\"-\",\"-\",\"-\",\"-\",\"-\",\"-\",\"-\",\"-\",\"-\",\"-\",\"-\",\"-\",\"-\",\"-\",\"-\",\"-\",\"-\",\"-\",\"-\",\"-\",\"-\",\"-\",\"-\",\"-\",\"-\",\"-\",\"-\",\"-\",\"-\",\"1\",\"-\",\"-\",\"-\",\"-\",\"-\",\"-\",\"-\",\"3\",\"-\",\"-\",\"-\",\"-\",\"-\",\"-\",\"-\",\"-\",\"-\",\"-\",\"-\",\"-\",\"-\",\"-\",\"-\",\"-\",\"-\",\"-\",\"-\",\"-\",\"-\",\"-\",\"-\",\"-\",\"-\",\"-\",\"-\",\"-\",\"-\",\"-\",\"-\",\"-\",\"-\",\"-\",\"-\",\"-\",\"-\",\"-\",\"-\",\"-\",\"-\",\"-\",\"-\",\"-\",\"-\",\"-\",\"-\",\"-\",\"-\",\"-\",\"-\",\"-\",\"-\",\"-\",\"-\",\"-\",\"-\",\"-\",\"-\",\"-\",\"-\",\"-\",\"-\",\"-\",\"-\",\"-\",\"-\",\"-\",\"-\",\"-\",\"-\",\"4\",\"-\",\"-\",\"-\",\"-\",\"-\",\"-\",\"-\",\"-\",\"-\",\"-\",\"-\",\"-\",\"-\",\"-\",\"-\",\"-\",\"-\",\"-\",\"-\",\"-\",\"-\",\"-\",\"-\",\"-\",\"-\",\"-\",\"-\",\"-\",\"-\",\"-\",\"-\",\"-\",\"-\",\"-\",\"-\",\"-\",\"-\",\"-\",\"-\",\"-\",\"-\",\"-\",\"-\",\"-\",\"-\",\"-\",\"-\",\"4\",\"-\",\"-\",\"-\",\"-\",\"-\",\"-\",\"-\",\"-\",\"-\",\"-\",\"-\",\"-\",\"-\",\"-\",\"-\",\"-\",\"2\",\"-\",\"-\",\"-\",\"-\",\"-\",\"-\",\"-\",\"-\",\"-\",\"-\",\"-\",\"-\",\"-\",\"-\",\"1\",\"-\",\"-\",\"-\",\"-\",\"-\",\"-\",\"-\",\"-\",\"-\",\"-\",\"-\",\"-\",\"-\",\"-\",\"-\",\"-\",\"-\",\"-\",\"-\",\"-\",\"-\",\"-\",\"-\",\"-\",\"-\",\"-\",\"-\",\"-\",\"-\",\"-\",\"-\",\"-\",\"1\",\"-\",\"-\",\"-\",\"-\",\"-\",\"-\",\"-\",\"-\",\"-\",\"-\",\"-\",\"-\",\"-\",\"-\",\"-\",\"-\",\"-\",\"-\",\"-\",\"-\",\"-\",\"-\",\"-\",\"2\",\"-\",\"-\",\"-\",\"-\",\"-\",\"-\",\"-\",\"-\",\"-\",\"-\",\"-\",\"-\",\"1\",\"-\",\"-\",\"-\",\"-\",\"-\",\"-\",\"-\",\"-\",\"-\",\"-\",\"-\",\"-\",\"1\",\"-\",\"-\",\"-\",\"-\",\"-\",\"-\",\"-\",\"-\",\"-\",\"-\",\"-\",\"-\",\"-\",\"4\",\"129\",\"6\",\"51\",\"25\",\"81\",\"92\",\"23\",\"63\",\"88\",\"73\",\"6\",\"79\",\"26\",\"28\",\"58\",\"62\",\"8\",\"54\",\"88\",\"34\",\"81\",\"61\",\"14\",\"52\",\"78\",\"20\",\"115\",\"23\",\"52\",\"91\",\"72\",\"39\",\"80\",\"57\",\"33\",\"-\",\"39\",\"8\",\"4\",\"5\",\"72\",\"38\",\"13\",\"1\",\"38\",\"46\",\"2\",\"15\",\"3\",\"44\",\"11\",\"37\",\"7\",\"43\",\"23\",\"5\",\"10\",\"7\",\"20\",\"21\",\"1\",\"1\",\"20\",\"4\",\"22\",\"4\",\"1\",\"45\",\"1\",\"5\",\"66\",\"6\",\"18\",\"20\",\"24\",\"4\",\"4\",\"62\",\"-\",\"4\",\"4\",\"32\",\"32\",\"50\",\"18\",\"4\",\"108\",\"133\",\"117\",\"68\",\"105\",\"129\",\"141\",\"82\",\"64\",\"75\",\"93\",\"79\",\"93\",\"105\",\"124\",\"93\",\"136\",\"102\",\"120\",\"70\",\"127\",\"99\",\"75\",\"71\",\"120\",\"86\",\"84\",\"37\",\"80\",\"96\",\"79\",\"121\",\"49\",\"98\",\"37\",\"55\",\"84\",\"46\",\"93\",\"21\",\"118\",\"129\",\"83\",\"78\",\"122\",\"72\",\"94\",\"125\",\"68\",\"41\",\"76\",\"118\",\"76\",\"132\",\"8\",\"5\",\"-\",\"38\",\"4\",\"-\",\"19\",\"13\",\"8\",\"13\",\"30\",\"-\",\"-\",\"29\",\"-\",\"-\",\"3\",\"-\",\"-\",\"33\",\"-\",\"13\",\"45\",\"22\",\"4\",\"13\",\"-\",\"44\",\"15\",\"11\",\"-\",\"35\",\"-\",\"12\",\"32\",\"22\",\"-\",\"19\",\"30\",\"-\",\"-\",\"-\",\"16\",\"18\",\"-\",\"-\",\"23\",\"20\",\"33\",\"-\",\"-\",\"-\",\"-\",\"-\",\"-\",\"-\",\"-\",\"-\",\"-\",\"-\",\"10\",\"6\",\"-\",\"22\",\"-\",\"11\",\"9\",\"-\",\"10\",\"8\",\"-\",\"6\",\"35\",\"24\",\"15\",\"47\",\"8\",\"-\",\"43\",\"-\",\"18\",\"-\",\"-\",\"-\",\"28\",\"58\",\"27\",\"10\",\"5\",\"46\",\"7\",\"15\",\"1\",\"9\",\"51\",\"3\",\"23\",\"-\",\"32\",\"-\",\"31\",\"28\",\"-\",\"44\",\"-\",\"27\",\"38\",\"2\",\"45\",\"42\",\"-\",\"1\",\"-\",\"36\",\"-\",\"4\",\"28\",\"-\",\"14\",\"18\",\"20\",\"20\",\"8\",\"1\",\"-\",\"48\",\"-\",\"-\",\"3\",\"24\",\"11\",\"22\",\"-\",\"4\",\"-\",\"27\",\"44\",\"-\",\"3\",\"-\",\"-\",\"-\",\"-\",\"-\",\"-\",\"-\",\"-\",\"-\",\"-\",\"-\",\"2\",\"-\",\"-\",\"-\",\"-\",\"-\",\"-\",\"-\",\"-\",\"3\",\"-\",\"-\",\"-\",\"2\",\"-\",\"2\",\"-\",\"2\",\"-\",\"-\",\"-\",\"-\",\"-\",\"-\",\"6\",\"-\",\"-\",\"-\",\"-\",\"-\",\"-\",\"-\",\"-\",\"-\",\"-\",\"-\",\"-\",\"-\",\"-\",\"-\",\"-\",\"-\",\"-\",\"-\",\"-\",\"-\",\"-\",\"-\",\"-\",\"-\",\"-\",\"6\",\"-\",\"-\",\"-\",\"-\",\"-\",\"-\",\"-\",\"4\",\"-\",\"1\",\"-\",\"-\",\"-\",\"-\",\"7\",\"-\",\"-\",\"-\",\"-\",\"-\",\"-\",\"-\",\"-\",\"-\",\"-\",\"-\",\"-\",\"2\",\"-\",\"-\",\"-\",\"1\",\"-\",\"-\",\"-\",\"-\",\"-\",\"-\",\"-\",\"-\",\"-\",\"-\",\"-\",\"-\",\"-\",\"-\",\"-\",\"1\",\"-\",\"-\",\"-\",\"-\",\"-\",\"-\",\"1\",\"-\",\"2\",\"-\",\"1\",\"1\",\"-\",\"-\",\"-\",\"-\",\"-\",\"-\",\"-\",\"-\",\"-\",\"-\",\"-\",\"-\",\"-\",\"2\",\"-\",\"-\",\"-\",\"-\",\"-\",\"-\",\"-\",\"-\",\"-\",\"-\",\"-\",\"-\",\"-\",\"-\",\"-\",\"-\",\"-\",\"-\",\"-\",\"-\",\"-\",\"-\",\"-\",\"-\",\"-\",\"-\",\"-\",\"-\",\"-\",\"-\",\"-\",\"-\",\"-\",\"-\",\"-\",\"-\",\"-\",\"-\",\"-\",\"-\",\"-\",\"-\",\"-\",\"-\",\"-\",\"-\",\"-\",\"-\",\"-\",\"-\",\"-\",\"-\",\"-\",\"-\",\"-\",\"-\",\"-\",\"-\",\"-\",\"-\",\"-\",\"-\",\"-\",\"-\",\"-\",\"-\",\"-\",\"-\",\"-\",\"-\",\"-\",\"-\",\"-\",\"-\",\"-\",\"-\",\"-\",\"-\",\"-\",\"-\",\"-\",\"-\",\"-\",\"-\",\"-\",\"-\",\"-\",\"-\",\"-\",\"-\",\"-\",\"-\",\"-\",\"-\",\"-\",\"-\",\"-\",\"-\",\"2\",\"-\",\"-\",\"-\",\"-\",\"-\",\"-\",\"-\",\"-\",\"-\",\"-\",\"-\",\"-\",\"-\",\"-\",\"-\",\"-\",\"1\",\"-\",\"-\",\"-\",\"-\",\"-\",\"-\",\"-\",\"1\",\"-\",\"-\",\"-\",\"-\",\"-\",\"-\",\"-\",\"-\",\"-\",\"1\",\"-\",\"-\",\"-\",\"-\",\"-\",\"-\",\"1\",\"-\",\"1\",\"-\",\"-\",\"-\",\"-\",\"-\",\"-\",\"-\",\"-\",\"-\",\"-\",\"-\",\"-\",\"-\",\"-\",\"-\",\"-\",\"-\",\"-\",\"-\",\"-\",\"-\",\"-\",\"-\",\"-\",\"-\",\"-\",\"-\",\"-\",\"-\",\"-\",\"-\",\"-\",\"-\",\"-\",\"-\",\"-\",\"-\",\"-\",\"-\",\"-\",\"-\",\"-\",\"-\",\"-\",\"-\",\"-\",\"-\",\"-\",\"-\",\"-\",\"-\",\"-\",\"-\",\"-\",\"-\",\"-\",\"-\",\"-\",\"-\",\"-\",\"-\",\"-\",\"-\",\"-\",\"-\",\"-\",\"-\",\"-\",\"-\",\"-\",\"-\",\"-\",\"-\",\"-\",\"-\",\"-\",\"-\",\"-\",\"-\",\"-\",\"-\",\"-\",\"-\",\"-\",\"-\",\"-\",\"-\",\"-\",\"-\",\"-\",\"-\",\"-\",\"-\",\"-\",\"-\",\"-\",\"-\",\"-\",\"-\",\"-\",\"-\",\"-\",\"-\",\"-\",\"-\",\"-\",\"-\",\"-\",\"-\",\"-\",\"-\",\"-\",\"-\",\"-\",\"-\",\"2\",\"-\",\"-\",\"-\",\"-\",\"-\",\"-\",\"-\",\"-\",\"-\",\"-\",\"-\",\"-\",\"-\",\"-\",\"-\",\"-\",\"-\",\"-\",\"-\",\"-\",\"-\",\"-\",\"-\",\"-\",\"-\",\"-\",\"-\",\"-\",\"-\",\"-\",\"-\",\"-\",\"-\",\"-\",\"-\",\"-\",\"-\",\"-\",\"-\",\"-\",\"1\",\"-\",\"1\",\"-\",\"-\",\"-\",\"-\",\"-\",\"-\",\"-\",\"-\",\"-\",\"-\",\"-\",\"-\",\"-\",\"-\",\"-\",\"-\",\"-\",\"-\",\"-\",\"-\",\"-\",\"-\",\"-\",\"-\",\"-\",\"-\",\"-\",\"-\",\"-\",\"-\",\"-\",\"-\",\"-\",\"-\",\"-\",\"-\",\"-\",\"-\",\"-\",\"-\",\"-\",\"-\",\"-\",\"-\",\"-\",\"-\",\"-\",\"-\",\"-\",\"-\",\"-\",\"-\",\"-\",\"-\",\"-\",\"-\",\"-\",\"-\",\"1\",\"-\",\"-\",\"-\",\"-\",\"-\",\"-\",\"-\",\"-\",\"-\",\"1\",\"-\",\"-\",\"-\",\"-\",\"-\",\"-\",\"-\",\"-\",\"-\",\"-\",\"-\",\"-\",\"-\",\"1\",\"-\",\"-\",\"-\",\"-\",\"-\",\"-\",\"-\",\"-\",\"-\",\"-\",\"-\",\"-\",\"-\",\"-\",\"-\",\"-\",\"-\",\"-\",\"-\",\"-\",\"-\",\"-\",\"-\",\"-\",\"-\",\"-\",\"1\",\"-\",\"-\",\"-\",\"-\",\"-\",\"-\",\"-\",\"-\",\"-\",\"-\",\"-\",\"-\",\"-\",\"-\",\"-\",\"-\",\"-\",\"2\",\"-\",\"-\",\"-\",\"-\",\"-\",\"1\",\"-\",\"-\",\"-\",\"-\",\"-\",\"-\",\"-\",\"-\",\"-\",\"-\",\"-\",\"-\",\"-\",\"-\",\"-\",\"-\",\"-\",\"-\",\"-\",\"-\",\"-\",\"-\",\"-\",\"-\",\"2\",\"-\",\"-\",\"-\",\"-\",\"-\",\"-\",\"-\",\"-\",\"-\",\"-\",\"-\",\"-\",\"1\",\"-\",\"1\",\"-\",\"-\",\"1\",\"1\",\"-\",\"1\",\"-\",\"-\",\"-\",\"-\",\"-\",\"-\",\"-\",\"-\",\"-\",\"-\",\"-\",\"-\",\"-\",\"-\",\"-\",\"-\",\"-\",\"-\",\"-\",\"-\",\"-\",\"-\",\"-\",\"-\",\"-\",\"-\",\"-\",\"-\",\"-\",\"1\",\"-\",\"-\",\"-\",\"-\",\"-\",\"-\",\"-\",\"-\",\"-\",\"-\",\"-\",\"-\",\"-\",\"-\",\"-\",\"-\",\"-\",\"-\",\"-\",\"-\",\"-\",\"-\",\"-\",\"-\",\"-\",\"-\",\"-\",\"-\",\"-\",\"-\",\"-\",\"-\",\"-\",\"-\",\"-\",\"-\",\"-\",\"-\",\"-\",\"-\",\"-\",\"-\",\"-\",\"-\",\"-\",\"-\",\"-\",\"-\",\"-\",\"-\",\"-\",\"-\",\"4\",\"2\",\"3\",\"-\",\"-\",\"7\",\"4\",\"2\",\"2\",\"-\",\"1\",\"3\",\"5\",\"-\",\"9\",\"-\",\"1\",\"2\",\"1\",\"4\",\"2\",\"1\",\"-\",\"1\",\"-\",\"4\",\"-\",\"-\",\"1\",\"-\",\"4\",\"1\",\"10\",\"1\",\"-\",\"-\",\"1\",\"-\",\"-\",\"1\",\"-\",\"1\",\"-\",\"-\",\"18\",\"-\",\"-\",\"-\",\"-\",\"6\",\"-\",\"-\",\"-\",\"4\",\"-\",\"-\",\"-\",\"-\",\"-\",\"-\",\"-\",\"3\",\"1\",\"-\",\"4\",\"-\",\"-\",\"12\",\"4\",\"-\",\"7\",\"4\",\"-\",\"5\",\"-\",\"-\",\"5\",\"1\",\"-\",\"-\",\"-\",\"6\",\"-\",\"-\",\"-\",\"-\",\"2\",\"1\",\"3\",\"-\",\"2\",\"3\",\"-\",\"4\",\"1\",\"2\",\"2\",\"3\",\"-\",\"15\",\"-\",\"-\",\"18\",\"3\",\"3\",\"-\",\"1\",\"2\",\"1\",\"2\",\"7\",\"1\",\"2\",\"-\",\"3\",\"1\",\"-\",\"2\",\"1\",\"3\",\"3\",\"-\",\"1\",\"3\",\"2\",\"-\",\"8\",\"5\",\"2\",\"-\",\"1\",\"1\",\"3\",\"1\",\"-\",\"2\",\"-\",\"5\",\"-\",\"5\",\"-\",\"-\",\"-\",\"-\",\"-\",\"1\",\"-\",\"-\",\"-\",\"-\",\"-\",\"-\",\"-\",\"-\",\"1\",\"-\",\"-\",\"-\",\"-\",\"-\",\"1\",\"-\",\"-\",\"-\",\"-\",\"-\",\"-\",\"-\",\"-\",\"-\",\"2\",\"-\",\"-\",\"-\",\"-\",\"-\",\"-\",\"-\",\"-\",\"1\",\"-\",\"-\",\"-\",\"-\",\"-\",\"-\",\"-\",\"-\",\"-\",\"-\",\"-\",\"-\",\"-\",\"-\",\"-\",\"-\",\"-\",\"-\",\"-\",\"-\",\"-\",\"-\",\"-\",\"-\",\"-\",\"1\",\"-\",\"1\",\"-\",\"2\",\"2\",\"-\",\"-\",\"-\",\"-\",\"-\",\"-\",\"-\",\"-\",\"-\",\"-\",\"-\",\"-\",\"-\",\"-\",\"-\",\"-\",\"1\",\"3\",\"-\",\"-\",\"-\",\"-\",\"-\",\"-\",\"-\",\"-\",\"-\",\"-\",\"-\",\"-\",\"-\",\"-\",\"1\",\"2\",\"1\",\"1\",\"-\",\"-\",\"-\",\"-\",\"-\",\"-\",\"-\",\"-\",\"-\",\"-\",\"-\",\"-\",\"-\",\"-\",\"-\",\"-\",\"1\",\"-\",\"-\",\"2\",\"1\",\"-\",\"-\",\"1\",\"1\",\"-\",\"-\",\"-\",\"-\",\"-\",\"1\",\"-\",\"-\",\"-\",\"14\",\"2\",\"-\",\"-\",\"-\",\"-\",\"-\",\"-\",\"-\",\"2\",\"-\",\"12\",\"-\",\"-\",\"-\",\"17\",\"-\",\"-\",\"3\",\"-\",\"-\",\"-\",\"-\",\"-\",\"1\",\"-\",\"3\",\"-\",\"-\",\"-\",\"-\",\"-\",\"-\",\"1\",\"1\",\"-\",\"-\",\"-\",\"1\",\"-\",\"-\",\"-\",\"-\",\"-\",\"-\",\"2\",\"-\",\"-\",\"-\",\"-\",\"-\",\"-\",\"-\",\"-\",\"-\",\"-\",\"-\",\"-\",\"-\",\"2\",\"8\",\"-\",\"-\",\"-\",\"1\",\"3\",\"-\",\"8\",\"21\",\"-\",\"6\",\"-\",\"-\",\"-\",\"-\",\"4\",\"-\",\"-\",\"7\",\"1\",\"-\",\"-\",\"-\",\"-\",\"-\",\"-\",\"-\",\"4\",\"-\",\"-\",\"-\",\"-\",\"2\",\"-\",\"1\",\"-\",\"-\",\"1\",\"-\",\"-\",\"-\",\"-\",\"-\",\"2\",\"1\",\"-\",\"-\",\"3\",\"-\",\"-\",\"-\",\"-\",\"-\",\"-\",\"-\",\"-\",\"-\",\"6\",\"-\",\"3\",\"-\",\"-\",\"10\",\"-\",\"-\",\"-\",\"-\",\"-\",\"-\",\"-\",\"-\",\"-\",\"-\",\"2\",\"1\",\"-\",\"-\",\"1\",\"-\",\"-\",\"-\",\"-\",\"-\",\"-\",\"-\",\"-\",\"-\",\"-\",\"-\",\"-\",\"-\",\"-\",\"-\",\"1\",\"-\",\"-\",\"-\",\"-\",\"-\",\"-\",\"-\",\"-\",\"-\",\"-\",\"-\",\"-\",\"-\",\"-\",\"1\",\"-\",\"-\",\"-\",\"-\",\"-\",\"-\",\"3\",\"-\",\"-\",\"-\",\"-\",\"7\",\"-\",\"-\",\"5\",\"2\",\"-\",\"-\",\"-\",\"10\",\"6\",\"3\",\"-\",\"9\",\"16\",\"-\",\"4\",\"4\",\"3\",\"2\",\"-\",\"-\",\"9\",\"-\",\"16\",\"-\",\"-\",\"-\",\"-\",\"-\",\"-\",\"-\",\"-\",\"-\",\"-\",\"-\",\"-\",\"-\",\"-\",\"-\",\"-\",\"-\",\"-\",\"-\",\"-\",\"-\",\"-\",\"-\",\"-\",\"-\",\"-\",\"-\",\"-\",\"-\",\"-\",\"1\",\"-\",\"-\",\"-\",\"-\",\"1\",\"-\",\"-\",\"-\",\"-\",\"-\",\"-\",\"-\",\"-\",\"-\",\"-\",\"-\",\"-\",\"-\",\"-\",\"-\",\"-\",\"-\",\"-\",\"-\",\"-\",\"-\",\"-\",\"-\",\"-\",\"-\",\"-\",\"2\",\"-\",\"-\",\"-\",\"-\",\"-\",\"2\",\"-\",\"-\",\"-\",\"-\",\"-\",\"-\",\"-\",\"-\",\"-\",\"-\",\"-\",\"-\",\"-\",\"-\",\"-\",\"-\",\"-\",\"-\",\"-\",\"-\",\"-\",\"-\",\"-\",\"-\",\"-\",\"-\",\"-\",\"-\",\"-\",\"-\",\"-\",\"-\",\"-\",\"-\",\"-\",\"-\",\"-\",\"-\",\"-\",\"-\",\"-\",\"-\",\"-\",\"-\",\"-\",\"-\",\"1\",\"2\",\"-\",\"-\",\"-\",\"10\",\"-\",\"-\",\"-\",\"-\",\"-\",\"-\",\"-\",\"-\",\"1\",\"-\",\"-\",\"1\",\"-\",\"-\",\"-\",\"-\",\"-\",\"-\",\"-\",\"-\",\"-\",\"-\",\"-\",\"-\",\"-\",\"-\",\"-\",\"-\",\"-\",\"-\",\"-\",\"-\",\"-\",\"-\",\"-\",\"-\",\"-\",\"-\",\"-\",\"-\",\"-\",\"-\",\"-\",\"-\",\"-\",\"-\",\"-\",\"-\",\"-\",\"-\",\"-\",\"-\",\"-\",\"-\",\"-\",\"-\",\"-\",\"-\",\"-\",\"-\",\"-\",\"-\",\"-\",\"-\",\"-\",\"-\",\"-\",\"-\",\"-\",\"-\",\"-\",\"-\",\"-\",\"-\",\"-\",\"-\",\"-\",\"-\",\"-\",\"-\",\"-\",\"-\",\"-\",\"-\",\"-\",\"-\",\"-\",\"-\",\"-\",\"-\",\"-\",\"-\",\"-\",\"-\",\"-\",\"-\",\"-\",\"-\",\"-\",\"-\",\"-\",\"-\",\"-\",\"-\",\"3\",\"-\",\"-\",\"2\",\"-\",\"-\",\"-\",\"-\",\"-\",\"1\",\"-\",\"-\",\"4\",\"1\",\"-\",\"-\",\"-\",\"-\",\"-\",\"3\",\"-\",\"-\",\"-\",\"-\",\"-\",\"2\",\"-\",\"1\",\"-\",\"-\",\"-\",\"-\",\"2\",\"-\",\"-\",\"-\",\"13\",\"1\",\"4\",\"-\",\"-\",\"-\",\"-\",\"-\",\"-\",\"-\",\"-\",\"-\",\"-\",\"-\",\"-\",\"-\",\"-\",\"-\",\"-\",\"-\",\"-\",\"-\",\"1\",\"-\",\"-\",\"-\",\"-\",\"1\",\"-\",\"3\",\"-\",\"-\",\"3\",\"-\",\"-\",\"-\",\"-\",\"-\",\"-\",\"1\",\"-\",\"-\",\"-\",\"-\",\"-\",\"-\",\"-\",\"-\",\"-\",\"-\",\"-\",\"-\",\"-\",\"-\",\"-\",\"-\",\"-\",\"-\",\"-\",\"-\",\"-\",\"-\",\"-\",\"-\",\"-\",\"-\",\"-\",\"-\",\"-\",\"-\",\"-\",\"-\",\"-\",\"1\",\"-\",\"-\",\"-\",\"-\",\"-\",\"1\",\"-\",\"-\",\"-\",\"-\",\"1\",\"-\",\"-\",\"-\",\"-\",\"-\",\"-\",\"-\",\"-\",\"-\",\"9\",\"17\",\"6\",\"2\",\"-\",\"9\",\"4\",\"-\",\"4\",\"3\",\"13\",\"12\",\"26\",\"-\",\"8\",\"4\",\"7\",\"1\",\"3\",\"-\",\"1\",\"2\",\"4\",\"4\",\"4\",\"9\",\"12\",\"5\",\"2\",\"3\",\"6\",\"2\",\"7\",\"-\",\"7\",\"6\",\"32\",\"-\",\"4\",\"35\",\"14\",\"58\",\"-\",\"2\",\"16\",\"7\",\"18\",\"2\",\"14\",\"52\",\"33\",\"27\",\"43\",\"42\",\"54\",\"34\",\"31\",\"25\",\"41\",\"18\",\"8\",\"13\",\"44\",\"-\",\"41\",\"11\",\"20\",\"40\",\"7\",\"7\",\"1\",\"9\",\"-\",\"4\",\"3\",\"7\",\"34\",\"7\",\"11\",\"26\",\"12\",\"18\",\"-\",\"4\",\"1\",\"3\",\"5\",\"13\",\"6\",\"3\",\"9\",\"17\",\"13\",\"10\",\"2\",\"23\",\"5\",\"4\",\"6\",\"13\",\"2\",\"7\",\"9\",\"14\",\"22\",\"7\",\"4\",\"2\",\"4\",\"12\",\"3\",\"5\",\"6\",\"5\",\"5\",\"3\",\"2\",\"9\",\"2\",\"-\",\"8\",\"-\",\"6\",\"7\",\"4\",\"3\",\"10\",\"8\",\"3\",\"2\",\"-\",\"8\",\"7\",\"1\",\"10\",\"8\",\"1\",\"9\",\"-\",\"-\",\"1\",\"-\",\"2\",\"-\",\"-\",\"-\",\"-\",\"-\",\"-\",\"-\",\"-\",\"-\",\"1\",\"-\",\"-\",\"-\",\"1\",\"2\",\"-\",\"-\",\"-\",\"-\",\"-\",\"-\",\"1\",\"-\",\"4\",\"-\",\"-\",\"-\",\"-\",\"-\",\"-\",\"-\",\"4\",\"-\",\"-\",\"-\",\"-\",\"6\",\"-\",\"-\",\"-\",\"-\",\"-\",\"-\",\"-\",\"-\",\"-\",\"-\",\"-\",\"-\",\"-\",\"-\",\"-\",\"-\",\"-\",\"-\",\"-\",\"-\",\"-\",\"1\",\"-\",\"-\",\"-\",\"-\",\"-\",\"-\",\"-\",\"1\",\"-\",\"-\",\"-\",\"-\",\"-\",\"-\",\"4\",\"-\",\"-\",\"2\",\"-\",\"-\",\"-\",\"-\",\"-\",\"-\",\"2\",\"1\",\"4\",\"2\",\"-\",\"2\",\"-\",\"3\",\"-\",\"2\",\"1\",\"-\",\"-\",\"-\",\"-\",\"-\",\"-\",\"1\",\"-\",\"3\",\"-\",\"-\",\"-\",\"-\",\"-\",\"-\",\"-\",\"-\",\"-\",\"-\",\"-\",\"-\",\"3\",\"-\",\"-\",\"-\",\"-\",\"7\",\"-\",\"-\",\"-\",\"-\",\"-\",\"-\",\"1\",\"1\",\"-\",\"-\",\"-\",\"5\",\"-\",\"-\",\"-\",\"1\",\"-\",\"1\",\"-\",\"-\",\"-\",\"-\",\"2\",\"-\",\"-\",\"-\",\"-\",\"-\",\"-\",\"-\",\"-\",\"-\",\"7\",\"-\",\"-\",\"2\",\"-\",\"-\",\"-\",\"-\",\"-\",\"1\",\"-\",\"4\",\"-\",\"-\",\"-\",\"-\",\"-\",\"-\",\"-\",\"-\",\"-\",\"-\",\"-\",\"2\",\"-\",\"-\",\"-\",\"-\",\"-\",\"-\",\"2\",\"-\",\"-\",\"-\",\"-\",\"-\",\"-\",\"-\",\"-\",\"-\",\"-\",\"-\",\"-\",\"-\",\"-\",\"2\",\"-\",\"-\",\"-\",\"-\",\"3\",\"-\",\"2\",\"2\",\"-\",\"3\",\"-\",\"-\",\"-\",\"-\",\"6\",\"-\",\"-\",\"-\",\"2\",\"-\",\"-\",\"-\",\"-\",\"-\",\"-\",\"-\",\"2\",\"-\",\"-\",\"-\",\"-\",\"-\",\"-\",\"-\",\"-\",\"-\",\"-\",\"2\",\"-\",\"-\",\"-\",\"-\",\"2\",\"1\",\"-\",\"-\",\"1\",\"1\",\"-\",\"-\",\"-\",\"-\",\"-\",\"-\",\"-\",\"1\",\"1\",\"-\",\"1\",\"-\",\"-\",\"2\",\"-\",\"-\",\"-\",\"-\",\"-\",\"-\",\"-\",\"-\",\"-\",\"-\",\"1\",\"1\",\"-\",\"-\",\"-\",\"-\",\"-\",\"3\",\"-\",\"-\",\"-\",\"-\",\"-\",\"-\",\"-\",\"-\",\"-\",\"-\",\"-\",\"-\",\"-\",\"-\",\"3\",\"-\",\"-\",\"2\",\"-\",\"-\",\"-\",\"-\",\"-\",\"1\",\"-\",\"-\",\"-\",\"-\",\"-\",\"-\",\"-\",\"-\",\"1\",\"-\",\"-\",\"-\",\"-\",\"-\",\"-\",\"-\",\"-\",\"-\",\"-\",\"-\",\"1\",\"-\",\"-\",\"-\",\"-\",\"-\",\"-\",\"-\",\"-\",\"-\",\"-\",\"-\",\"-\",\"-\",\"-\",\"-\",\"-\",\"-\",\"-\",\"-\",\"-\",\"-\",\"-\",\"6\",\"-\",\"-\",\"-\",\"1\",\"-\",\"-\",\"-\",\"-\",\"-\",\"1\",\"3\",\"-\",\"-\",\"-\",\"-\",\"1\",\"3\",\"-\",\"1\",\"2\",\"1\",\"1\",\"-\",\"2\",\"-\",\"1\",\"2\",\"-\",\"3\",\"-\",\"3\",\"-\",\"-\",\"4\",\"-\",\"2\",\"3\",\"-\",\"4\",\"1\",\"-\",\"-\",\"1\",\"-\",\"-\",\"-\",\"-\",\"3\",\"-\",\"-\",\"1\",\"-\",\"1\",\"7\",\"-\",\"1\",\"-\",\"-\",\"2\",\"-\",\"2\",\"-\",\"1\",\"-\",\"-\",\"1\",\"-\",\"4\",\"-\",\"-\",\"4\",\"76\",\"49\",\"-\",\"-\",\"2\",\"81\",\"-\",\"2\",\"-\",\"10\",\"1\",\"84\",\"-\",\"1\",\"-\",\"89\",\"-\",\"5\",\"47\",\"-\",\"1\",\"2\",\"-\",\"1\",\"57\",\"19\",\"13\",\"1\",\"-\",\"52\",\"-\",\"-\",\"-\",\"20\",\"-\",\"-\",\"-\",\"-\",\"61\",\"-\",\"-\",\"2\",\"-\",\"-\",\"-\",\"13\",\"-\",\"2\",\"1\",\"-\",\"-\",\"2\",\"-\",\"-\",\"1\",\"2\",\"3\",\"-\",\"-\",\"3\",\"52\",\"5\",\"-\",\"-\",\"2\",\"38\",\"25\",\"78\",\"74\",\"-\",\"83\",\"1\",\"48\",\"-\",\"1\",\"63\",\"-\",\"7\",\"71\",\"66\",\"57\",\"-\",\"-\",\"-\",\"-\",\"-\",\"1\",\"24\",\"1\",\"1\",\"1\",\"1\",\"39\",\"2\",\"74\",\"-\",\"-\",\"7\",\"3\",\"-\",\"1\",\"1\",\"3\",\"4\",\"14\",\"3\",\"1\",\"47\",\"-\",\"-\",\"1\",\"12\",\"4\",\"1\",\"-\",\"2\",\"-\",\"58\",\"-\",\"79\",\"1\",\"-\",\"61\",\"-\",\"9\",\"10\",\"1\",\"1\",\"-\",\"-\",\"3\",\"2\",\"-\",\"44\",\"23\",\"2\",\"6\",\"2\",\"1\",\"74\",\"18\",\"43\",\"-\",\"1\",\"50\",\"45\",\"2\",\"-\",\"2\",\"13\",\"28\",\"38\",\"-\",\"4\",\"2\",\"30\",\"4\",\"66\",\"41\",\"2\",\"-\",\"6\",\"5\",\"9\",\"49\",\"75\",\"33\",\"-\",\"2\",\"66\",\"2\",\"43\",\"2\",\"30\",\"2\",\"5\",\"-\",\"-\",\"8\",\"2\",\"5\",\"-\",\"-\",\"32\",\"2\",\"-\",\"-\",\"-\",\"3\",\"-\",\"1\",\"4\",\"-\",\"16\",\"1\",\"-\",\"-\",\"2\",\"-\",\"-\",\"3\",\"13\",\"-\",\"8\",\"-\",\"2\",\"55\",\"17\",\"32\",\"19\",\"12\",\"1\",\"18\",\"-\",\"-\",\"4\",\"-\",\"-\",\"21\",\"9\",\"45\",\"-\",\"4\",\"-\",\"2\",\"20\",\"37\",\"73\",\"37\",\"25\",\"44\",\"36\",\"49\",\"32\",\"62\",\"13\",\"16\",\"59\",\"74\",\"24\",\"20\",\"64\",\"41\",\"88\",\"43\",\"54\",\"11\",\"52\",\"27\",\"6\",\"11\",\"77\",\"20\",\"15\",\"7\",\"8\",\"37\",\"37\",\"-\",\"42\",\"-\",\"2\",\"45\",\"34\",\"13\",\"84\",\"34\",\"10\",\"11\",\"5\",\"27\",\"66\",\"19\",\"58\",\"48\",\"6\",\"79\",\"2\",\"44\",\"-\",\"-\",\"-\",\"-\",\"-\",\"-\",\"-\",\"-\",\"-\",\"-\",\"-\",\"-\",\"-\",\"-\",\"-\",\"-\",\"-\",\"-\",\"-\",\"-\",\"-\",\"-\",\"-\",\"-\",\"-\",\"2\",\"-\",\"-\",\"-\",\"-\",\"-\",\"-\",\"-\",\"-\",\"-\",\"-\",\"-\",\"-\",\"-\",\"-\",\"-\",\"-\",\"-\",\"-\",\"-\",\"-\",\"-\",\"-\",\"-\",\"-\",\"-\",\"-\",\"-\",\"-\",\"-\",\"-\",\"-\",\"-\",\"-\",\"-\",\"-\",\"-\",\"-\",\"-\",\"-\",\"-\",\"-\",\"-\",\"-\",\"-\",\"-\",\"-\",\"-\",\"-\",\"-\",\"-\",\"-\",\"-\",\"-\",\"-\",\"-\",\"-\",\"-\",\"-\",\"-\",\"-\",\"-\",\"-\",\"-\",\"-\",\"-\",\"-\",\"-\",\"-\",\"-\",\"-\",\"-\",\"-\",\"-\",\"-\",\"-\",\"-\",\"-\",\"-\",\"-\",\"-\",\"-\",\"-\",\"-\",\"-\",\"-\",\"-\",\"-\",\"-\",\"-\",\"-\",\"-\",\"-\",\"-\",\"-\",\"-\",\"-\",\"-\",\"-\",\"-\",\"-\",\"-\",\"-\",\"-\",\"-\",\"-\",\"-\",\"-\",\"-\",\"-\",\"-\",\"-\",\"-\",\"-\",\"-\",\"-\",\"-\",\"-\",\"-\",\"-\",\"-\",\"-\",\"-\",\"-\",\"-\",\"-\",\"-\",\"-\",\"-\",\"-\",\"-\",\"-\",\"-\",\"-\",\"3\",\"-\",\"-\",\"-\",\"-\",\"-\",\"-\",\"-\",\"-\",\"-\",\"-\",\"-\",\"-\",\"-\",\"-\",\"-\",\"-\",\"-\",\"-\",\"1\",\"-\",\"-\",\"-\",\"-\",\"-\",\"-\",\"-\",\"-\",\"-\",\"-\",\"-\",\"-\",\"-\",\"-\",\"-\",\"-\",\"-\",\"-\",\"-\",\"-\",\"-\",\"-\",\"-\",\"-\",\"-\",\"-\",\"-\",\"-\",\"-\",\"-\",\"-\",\"-\",\"-\",\"-\",\"-\",\"-\",\"-\",\"-\",\"-\",\"-\",\"-\",\"-\",\"-\",\"-\",\"-\",\"2\",\"-\",\"-\",\"-\",\"-\",\"-\",\"-\",\"-\",\"-\",\"-\",\"-\",\"-\",\"-\",\"-\",\"-\",\"-\",\"-\",\"-\",\"-\",\"-\",\"-\",\"-\",\"-\",\"-\",\"-\",\"-\",\"-\",\"-\",\"-\",\"-\",\"-\",\"-\",\"-\",\"-\",\"-\",\"-\",\"-\",\"-\",\"-\",\"-\",\"-\",\"-\",\"-\",\"-\",\"-\",\"-\",\"-\",\"-\",\"-\",\"-\",\"-\",\"-\",\"-\",\"-\",\"-\",\"-\",\"4\",\"1\",\"-\",\"-\",\"-\",\"-\",\"-\",\"-\",\"-\",\"-\",\"-\",\"-\",\"-\",\"-\",\"-\",\"-\",\"-\",\"-\",\"-\",\"-\",\"-\",\"1\",\"-\",\"-\",\"2\",\"-\",\"3\",\"-\",\"2\",\"-\",\"1\",\"-\",\"-\",\"-\",\"-\",\"-\",\"-\",\"-\",\"-\",\"-\",\"-\",\"-\",\"-\",\"-\",\"-\",\"-\",\"-\",\"-\",\"-\",\"-\",\"-\",\"-\",\"-\",\"-\",\"-\",\"-\",\"-\",\"-\",\"-\",\"-\",\"-\",\"-\",\"-\",\"-\",\"-\",\"-\",\"-\",\"-\",\"-\",\"2\",\"-\",\"-\",\"-\",\"-\",\"-\",\"-\",\"-\",\"-\",\"-\",\"-\",\"-\",\"-\",\"-\",\"-\",\"-\",\"-\",\"1\",\"3\",\"-\",\"-\",\"2\",\"2\",\"3\",\"1\",\"-\",\"1\",\"1\",\"1\",\"-\",\"2\",\"-\",\"2\",\"5\",\"-\",\"3\",\"-\",\"-\",\"4\",\"-\",\"-\",\"-\",\"3\",\"1\",\"-\",\"-\",\"4\",\"-\",\"2\",\"1\",\"2\",\"-\",\"-\",\"11\",\"-\",\"-\",\"-\",\"1\",\"3\",\"-\",\"1\",\"2\",\"-\",\"3\",\"-\",\"1\",\"-\",\"-\",\"1\",\"-\",\"2\",\"13\",\"11\",\"21\",\"14\",\"7\",\"-\",\"37\",\"12\",\"19\",\"13\",\"17\",\"-\",\"18\",\"24\",\"-\",\"-\",\"19\",\"-\",\"2\",\"31\",\"3\",\"22\",\"29\",\"18\",\"10\",\"39\",\"9\",\"32\",\"10\",\"5\",\"5\",\"22\",\"-\",\"4\",\"32\",\"2\",\"-\",\"-\",\"5\",\"2\",\"-\",\"-\",\"1\",\"-\",\"-\",\"-\",\"3\",\"5\",\"-\",\"-\",\"-\",\"-\",\"-\",\"-\",\"-\",\"-\",\"-\",\"-\",\"-\",\"-\",\"1\",\"5\",\"-\",\"1\",\"-\",\"-\",\"-\",\"-\",\"23\",\"29\",\"-\",\"13\",\"4\",\"30\",\"2\",\"14\",\"-\",\"-\",\"7\",\"7\",\"-\",\"4\",\"-\",\"-\",\"11\",\"4\",\"29\",\"14\",\"15\",\"17\",\"20\",\"15\",\"14\",\"42\",\"20\",\"24\",\"16\",\"4\",\"26\",\"-\",\"20\",\"31\",\"13\",\"32\",\"24\",\"33\",\"34\",\"6\",\"33\",\"25\",\"2\",\"12\",\"16\",\"29\",\"4\",\"13\",\"24\",\"12\",\"29\",\"14\",\"31\",\"14\",\"15\",\"40\",\"-\",\"36\",\"5\",\"23\",\"13\",\"16\",\"10\",\"36\",\"20\",\"16\",\"35\",\"22\",\"37\",\"7\",\"13\",\"2\",\"2\",\"6\",\"-\",\"4\",\"5\",\"-\",\"-\",\"-\",\"-\",\"2\",\"2\",\"-\",\"-\",\"6\",\"-\",\"-\",\"-\",\"-\",\"-\",\"7\",\"-\",\"5\",\"4\",\"2\",\"2\",\"2\",\"-\",\"2\",\"11\",\"1\",\"-\",\"7\",\"-\",\"1\",\"4\",\"-\",\"-\",\"-\",\"-\",\"1\",\"-\",\"-\",\"-\",\"-\",\"-\",\"-\",\"-\",\"-\",\"-\",\"-\",\"-\",\"-\",\"-\",\"-\",\"-\",\"-\",\"-\",\"-\",\"-\",\"-\",\"-\",\"-\",\"-\",\"-\",\"-\",\"-\",\"-\",\"-\",\"2\",\"-\",\"-\",\"-\",\"1\",\"1\",\"1\",\"2\",\"3\",\"-\",\"-\",\"2\",\"-\",\"-\",\"-\",\"-\",\"-\",\"-\",\"2\",\"2\",\"1\",\"-\",\"7\",\"3\",\"8\",\"3\",\"-\",\"2\",\"-\",\"-\",\"2\",\"-\",\"5\",\"5\",\"3\",\"7\",\"-\",\"-\",\"-\",\"3\",\"-\",\"1\",\"-\",\"-\",\"3\",\"7\",\"-\",\"8\",\"13\",\"-\",\"-\",\"3\",\"3\",\"5\",\"5\",\"2\",\"-\",\"2\",\"-\",\"-\",\"2\",\"3\",\"-\",\"5\",\"2\",\"-\",\"3\",\"-\",\"1\",\"-\",\"-\",\"-\",\"2\",\"4\",\"4\",\"-\",\"-\",\"4\",\"7\",\"-\",\"-\",\"-\",\"-\",\"3\",\"3\",\"-\",\"-\",\"3\",\"2\",\"-\",\"2\",\"2\",\"1\",\"-\",\"-\",\"-\",\"-\",\"2\",\"-\",\"-\",\"-\",\"-\",\"2\",\"1\",\"3\",\"-\",\"1\",\"-\",\"1\",\"-\",\"-\",\"-\",\"-\",\"-\",\"-\",\"-\",\"2\",\"-\",\"-\",\"-\",\"-\",\"-\",\"-\",\"-\",\"-\",\"2\",\"-\",\"-\",\"-\",\"-\",\"-\",\"-\",\"-\",\"1\",\"-\",\"-\",\"-\",\"-\",\"-\",\"3\",\"4\",\"4\",\"2\",\"2\",\"-\",\"6\",\"-\",\"-\",\"2\",\"-\",\"3\",\"2\",\"-\",\"1\",\"-\",\"3\",\"-\",\"-\",\"-\",\"-\",\"-\",\"2\",\"-\",\"1\",\"1\",\"-\",\"-\",\"-\",\"-\",\"1\",\"-\",\"1\",\"-\",\"-\",\"-\",\"1\",\"-\",\"-\",\"-\",\"-\",\"2\",\"3\",\"4\",\"-\",\"2\",\"1\",\"2\",\"-\",\"-\",\"-\",\"4\",\"-\",\"-\",\"-\",\"-\",\"5\",\"-\",\"4\",\"2\",\"1\",\"-\",\"-\",\"-\",\"-\",\"3\",\"-\",\"3\",\"-\",\"-\",\"1\",\"-\",\"1\"]]]}}},\"view\":{\"type\":\"object\",\"name\":\"CDSView\",\"id\":\"e985188f-3cab-490d-986b-d9c136ed12f8\",\"attributes\":{\"filter\":{\"type\":\"object\",\"name\":\"AllIndices\",\"id\":\"86e25aea-84c6-4865-909a-955402792469\"}}},\"glyph\":{\"type\":\"object\",\"name\":\"Rect\",\"id\":\"977d7080-35fa-419c-bb4a-540641549a4a\",\"attributes\":{\"tags\":[\"apply_ranges\"],\"x\":{\"type\":\"field\",\"field\":\"columns\"},\"y\":{\"type\":\"field\",\"field\":\"index\"},\"width\":{\"type\":\"value\",\"value\":1},\"height\":{\"type\":\"value\",\"value\":1},\"line_color\":{\"type\":\"value\",\"value\":\"#1f77b4\"},\"line_alpha\":{\"type\":\"value\",\"value\":0},\"fill_color\":{\"type\":\"field\",\"field\":\"zvalues\",\"transform\":{\"type\":\"object\",\"name\":\"LinearColorMapper\",\"id\":\"dfcedbbf-64cf-425d-bae6-12dd2a08c899\",\"attributes\":{\"palette\":[\"#b3fef5\",\"#b0fef5\",\"#adfdf5\",\"#a9fcf5\",\"#a6fbf6\",\"#a3faf6\",\"#a0faf6\",\"#9df9f6\",\"#9af8f6\",\"#97f7f6\",\"#93f7f6\",\"#90f6f6\",\"#8df5f6\",\"#8af4f7\",\"#87f3f7\",\"#83f2f7\",\"#80f2f7\",\"#7df1f7\",\"#79f0f7\",\"#76eff7\",\"#73eef7\",\"#6fedf8\",\"#6cecf8\",\"#68ecf8\",\"#65ebf8\",\"#61eaf8\",\"#5ee9f8\",\"#5ae8f8\",\"#57e7f8\",\"#53e6f8\",\"#50e5f9\",\"#4ce4f9\",\"#49e3f9\",\"#45e2f9\",\"#42e1f9\",\"#3ee0f9\",\"#3bdff9\",\"#38def9\",\"#35ddf9\",\"#32dcf9\",\"#30dbfa\",\"#2ed9fa\",\"#2dd8fa\",\"#2cd7fa\",\"#2bd6fa\",\"#2bd5fa\",\"#2ad3fa\",\"#2ad2fa\",\"#29d1fa\",\"#29d0fb\",\"#29cffb\",\"#28cdfb\",\"#28ccfb\",\"#28cbfb\",\"#28cafb\",\"#28c8fb\",\"#28c7fb\",\"#29c6fb\",\"#29c5fb\",\"#29c4fb\",\"#29c2fb\",\"#2ac1fb\",\"#2ac0fb\",\"#2bbffb\",\"#2bbdfc\",\"#2cbcfc\",\"#2dbbfc\",\"#2db9fc\",\"#2eb8fc\",\"#2fb7fc\",\"#2fb6fc\",\"#30b4fc\",\"#31b3fc\",\"#32b2fc\",\"#32b0fc\",\"#33affc\",\"#33aefc\",\"#34adfc\",\"#34abfc\",\"#34aafc\",\"#35a9fc\",\"#35a8fc\",\"#35a6fc\",\"#35a5fc\",\"#35a4fc\",\"#35a3fc\",\"#35a1fc\",\"#35a0fc\",\"#359ffc\",\"#359dfc\",\"#359cfc\",\"#359bfc\",\"#349afd\",\"#3498fd\",\"#3497fd\",\"#3396fd\",\"#3395fd\",\"#3293fd\",\"#3292fd\",\"#3191fd\",\"#3090fd\",\"#308ffd\",\"#2f8dfd\",\"#2f8cfd\",\"#2e8bfd\",\"#2e8afd\",\"#2d88fd\",\"#2d87fd\",\"#2c86fd\",\"#2c84fd\",\"#2c83fd\",\"#2c82fd\",\"#2b81fd\",\"#2b7ffd\",\"#2b7efd\",\"#2b7dfd\",\"#2b7bfd\",\"#2b7afd\",\"#2b79fd\",\"#2b77fd\",\"#2b76fd\",\"#2b75fd\",\"#2b73fd\",\"#2c72fd\",\"#2c71fd\",\"#2c6ffd\",\"#2c6efd\",\"#2d6cfd\",\"#2d6bfd\",\"#2d6afc\",\"#2e68fc\",\"#2e67fc\",\"#2e65fc\",\"#2e64fc\",\"#2f62fc\",\"#2f61fc\",\"#2f5ffc\",\"#2f5efc\",\"#2f5dfc\",\"#2f5bfc\",\"#2f5afc\",\"#2f58fb\",\"#2f57fb\",\"#2f55fb\",\"#2f53fb\",\"#2f52fb\",\"#2f50fb\",\"#2f4ffb\",\"#2f4dfb\",\"#2e4cfb\",\"#2e4afb\",\"#2e48fb\",\"#2e47fa\",\"#2d45fa\",\"#2d43fa\",\"#2d42fa\",\"#2d40fa\",\"#2c3efa\",\"#2c3dfa\",\"#2b3bf9\",\"#2b39f9\",\"#2a37f9\",\"#2a36f8\",\"#2934f8\",\"#2832f7\",\"#2831f7\",\"#272ff6\",\"#262ef5\",\"#252cf5\",\"#252af4\",\"#2429f3\",\"#2327f2\",\"#2226f1\",\"#2124f0\",\"#2023ef\",\"#1f22ee\",\"#1e20ed\",\"#1d1feb\",\"#1c1eea\",\"#1b1ce9\",\"#1a1be7\",\"#181ae6\",\"#1719e5\",\"#1618e3\",\"#1417e1\",\"#1316e0\",\"#1215de\",\"#1014dc\",\"#0f13db\",\"#0e12d9\",\"#0d11d7\",\"#0c10d5\",\"#0b0fd3\",\"#0a0ed1\",\"#090dd0\",\"#080dce\",\"#080ccc\",\"#070bca\",\"#070ac8\",\"#0709c6\",\"#0708c4\",\"#0707c2\",\"#0707bf\",\"#0806bd\",\"#0806bb\",\"#0905b9\",\"#0904b7\",\"#0a04b5\",\"#0a04b2\",\"#0b03b0\",\"#0c03ae\",\"#0d02ab\",\"#0e02a9\",\"#0e02a7\",\"#0f02a4\",\"#0f01a2\",\"#1001a0\",\"#10019d\",\"#10019b\",\"#100199\",\"#100197\",\"#100194\",\"#0f0192\",\"#0f0190\",\"#0f018e\",\"#0e018b\",\"#0e0189\",\"#0d0187\",\"#0d0185\",\"#0c0183\",\"#0b0181\",\"#0b017e\",\"#0a017c\",\"#09017a\",\"#090178\",\"#080276\",\"#070274\",\"#060272\",\"#060270\",\"#05026e\",\"#04026c\",\"#030269\",\"#030267\",\"#020265\",\"#010263\",\"#010261\",\"#00025f\",\"#00025d\",\"#00025b\",\"#000259\",\"#000257\",\"#000255\",\"#000154\",\"#000152\",\"#000150\",\"#00004e\"],\"nan_color\":\"white\",\"low\":1,\"high\":300}}}}},\"selection_glyph\":{\"type\":\"object\",\"name\":\"Rect\",\"id\":\"aef0b993-ae64-4277-a93e-73e34cbd917c\",\"attributes\":{\"tags\":[\"apply_ranges\"],\"x\":{\"type\":\"field\",\"field\":\"columns\"},\"y\":{\"type\":\"field\",\"field\":\"index\"},\"width\":{\"type\":\"value\",\"value\":1},\"height\":{\"type\":\"value\",\"value\":1},\"line_color\":{\"type\":\"value\",\"value\":\"#1f77b4\"},\"line_alpha\":{\"type\":\"value\",\"value\":0},\"fill_color\":{\"type\":\"field\",\"field\":\"zvalues\",\"transform\":{\"id\":\"dfcedbbf-64cf-425d-bae6-12dd2a08c899\"}}}},\"nonselection_glyph\":{\"type\":\"object\",\"name\":\"Rect\",\"id\":\"3ad4c469-8377-4ee6-8a2f-b8ca193e4d17\",\"attributes\":{\"tags\":[\"apply_ranges\"],\"x\":{\"type\":\"field\",\"field\":\"columns\"},\"y\":{\"type\":\"field\",\"field\":\"index\"},\"width\":{\"type\":\"value\",\"value\":1},\"height\":{\"type\":\"value\",\"value\":1},\"line_color\":{\"type\":\"value\",\"value\":\"#1f77b4\"},\"line_alpha\":{\"type\":\"value\",\"value\":0},\"fill_color\":{\"type\":\"field\",\"field\":\"zvalues\",\"transform\":{\"id\":\"dfcedbbf-64cf-425d-bae6-12dd2a08c899\"}},\"fill_alpha\":{\"type\":\"value\",\"value\":0.1},\"hatch_alpha\":{\"type\":\"value\",\"value\":0.1}}},\"muted_glyph\":{\"type\":\"object\",\"name\":\"Rect\",\"id\":\"c36b9b7a-fbaa-458c-972e-1541c16ca07a\",\"attributes\":{\"tags\":[\"apply_ranges\"],\"x\":{\"type\":\"field\",\"field\":\"columns\"},\"y\":{\"type\":\"field\",\"field\":\"index\"},\"width\":{\"type\":\"value\",\"value\":1},\"height\":{\"type\":\"value\",\"value\":1},\"line_color\":{\"type\":\"value\",\"value\":\"#1f77b4\"},\"line_alpha\":{\"type\":\"value\",\"value\":0},\"fill_color\":{\"type\":\"field\",\"field\":\"zvalues\",\"transform\":{\"id\":\"dfcedbbf-64cf-425d-bae6-12dd2a08c899\"}},\"fill_alpha\":{\"type\":\"value\",\"value\":0.2},\"hatch_alpha\":{\"type\":\"value\",\"value\":0.2}}}}}],\"toolbar\":{\"type\":\"object\",\"name\":\"Toolbar\",\"id\":\"1265e517-34e0-41b1-89b4-d2c3e14e53db\",\"attributes\":{\"tools\":[{\"type\":\"object\",\"name\":\"WheelZoomTool\",\"id\":\"b9f11bb7-21c8-42db-9eb4-bcadf618b169\",\"attributes\":{\"tags\":[\"hv_created\"],\"renderers\":\"auto\",\"zoom_together\":\"none\"}},{\"type\":\"object\",\"name\":\"HoverTool\",\"id\":\"02cd7eb7-7e38-437b-bac4-63e41ca025e9\",\"attributes\":{\"tags\":[\"hv_created\"],\"renderers\":[{\"id\":\"30332d0e-726d-4be6-b683-8d76d8e09adc\"}],\"tooltips\":[[\"columns\",\"@{columns}\"],[\"index\",\"@{index}\"],[\"value\",\"@{value}\"]]}},{\"type\":\"object\",\"name\":\"SaveTool\",\"id\":\"6272c2d7-cc0c-4d88-9c46-3aada97f4475\"},{\"type\":\"object\",\"name\":\"PanTool\",\"id\":\"a780532d-f447-420e-b5d4-4bb44b7c3be2\"},{\"type\":\"object\",\"name\":\"BoxZoomTool\",\"id\":\"fa1bfc2d-ab20-417e-89ab-5b6e709b5e2b\",\"attributes\":{\"dimensions\":\"both\",\"overlay\":{\"type\":\"object\",\"name\":\"BoxAnnotation\",\"id\":\"b95a36b5-7b99-4604-a719-e63e328ff542\",\"attributes\":{\"syncable\":false,\"line_color\":\"black\",\"line_alpha\":1.0,\"line_width\":2,\"line_dash\":[4,4],\"fill_color\":\"lightgrey\",\"fill_alpha\":0.5,\"level\":\"overlay\",\"visible\":false,\"left\":{\"type\":\"number\",\"value\":\"nan\"},\"right\":{\"type\":\"number\",\"value\":\"nan\"},\"top\":{\"type\":\"number\",\"value\":\"nan\"},\"bottom\":{\"type\":\"number\",\"value\":\"nan\"},\"left_units\":\"canvas\",\"right_units\":\"canvas\",\"top_units\":\"canvas\",\"bottom_units\":\"canvas\",\"handles\":{\"type\":\"object\",\"name\":\"BoxInteractionHandles\",\"id\":\"faffd904-6dfc-48b6-9df9-3215a3e2210a\",\"attributes\":{\"all\":{\"type\":\"object\",\"name\":\"AreaVisuals\",\"id\":\"e9c5a398-ca8c-4b4d-809c-8f04fddfcc8a\",\"attributes\":{\"fill_color\":\"white\",\"hover_fill_color\":\"lightgray\"}}}}}}}},{\"type\":\"object\",\"name\":\"ResetTool\",\"id\":\"3f3dd5f7-1ae4-40af-8dad-357c2d73f648\"}],\"active_drag\":{\"id\":\"a780532d-f447-420e-b5d4-4bb44b7c3be2\"},\"active_scroll\":{\"id\":\"b9f11bb7-21c8-42db-9eb4-bcadf618b169\"}}},\"left\":[{\"type\":\"object\",\"name\":\"CategoricalAxis\",\"id\":\"a9d7b549-677f-4a09-a617-9d1b6a192cb4\",\"attributes\":{\"ticker\":{\"type\":\"object\",\"name\":\"CategoricalTicker\",\"id\":\"1e09ee78-99fe-49fb-9265-8ddd9209fa49\"},\"formatter\":{\"type\":\"object\",\"name\":\"CategoricalTickFormatter\",\"id\":\"304f45f4-d533-4a64-b876-f31f64652e3b\"},\"axis_label\":\"\",\"major_label_policy\":{\"type\":\"object\",\"name\":\"AllLabels\",\"id\":\"b02644a7-681b-4228-b69a-9ea625cbf8b2\"}}}],\"right\":[{\"type\":\"object\",\"name\":\"ColorBar\",\"id\":\"ea89f2e7-a8f1-4610-a22e-84420fa14c1b\",\"attributes\":{\"location\":[0,0],\"ticker\":{\"type\":\"object\",\"name\":\"BasicTicker\",\"id\":\"7a8575ac-5e85-4faa-afc6-0cc88277bbb1\",\"attributes\":{\"mantissas\":[1,2,5]}},\"major_label_policy\":{\"type\":\"object\",\"name\":\"NoOverlap\",\"id\":\"f707c523-c42c-4b9c-99d2-106210d2afaf\"},\"label_standoff\":8,\"major_tick_line_color\":\"black\",\"bar_line_color\":\"black\",\"color_mapper\":{\"id\":\"dfcedbbf-64cf-425d-bae6-12dd2a08c899\"}}}],\"below\":[{\"type\":\"object\",\"name\":\"CategoricalAxis\",\"id\":\"7aba6eff-8158-467e-b20d-b51e611ca4b5\",\"attributes\":{\"ticker\":{\"type\":\"object\",\"name\":\"CategoricalTicker\",\"id\":\"3bee1dcb-e6b2-4042-ab62-f670295d3b7b\"},\"formatter\":{\"type\":\"object\",\"name\":\"CategoricalTickFormatter\",\"id\":\"8cd2a306-cf45-42c2-bc3e-6e38a6afb671\"},\"axis_label\":\"\",\"major_label_orientation\":1.0471975511965976,\"major_label_policy\":{\"type\":\"object\",\"name\":\"AllLabels\",\"id\":\"f55df13c-77ee-4c85-8e78-73675ca5987a\"}}}],\"center\":[{\"type\":\"object\",\"name\":\"Grid\",\"id\":\"2b10d8f6-2f17-4a8c-9e91-a9e91f95b471\",\"attributes\":{\"axis\":{\"id\":\"7aba6eff-8158-467e-b20d-b51e611ca4b5\"},\"grid_line_color\":null}},{\"type\":\"object\",\"name\":\"Grid\",\"id\":\"ba20d413-2e7e-4c5b-8529-8eeb6ea0f428\",\"attributes\":{\"dimension\":1,\"axis\":{\"id\":\"a9d7b549-677f-4a09-a617-9d1b6a192cb4\"},\"grid_line_color\":null}}],\"min_border_top\":10,\"min_border_bottom\":10,\"min_border_left\":10,\"min_border_right\":10,\"output_backend\":\"webgl\"}},{\"type\":\"object\",\"name\":\"Spacer\",\"id\":\"291fc297-8d3c-4d31-8e66-77233a5287d2\",\"attributes\":{\"name\":\"HSpacer00497\",\"stylesheets\":[\"\\n:host(.pn-loading):before, .pn-loading:before {\\n  background-color: #c3c3c3;\\n  mask-size: auto calc(min(50%, 400px));\\n  -webkit-mask-size: auto calc(min(50%, 400px));\\n}\",{\"id\":\"29edea7c-8686-47d1-a866-b35f4cce444d\"},{\"id\":\"839722f9-a0d6-4885-a4ab-0f8226cc2621\"},{\"id\":\"4cf2649f-d1cd-4068-8d9f-b434383088e0\"}],\"min_width\":0,\"margin\":0,\"sizing_mode\":\"stretch_width\",\"align\":\"start\"}}]}}],\"defs\":[{\"type\":\"model\",\"name\":\"ReactiveHTML1\"},{\"type\":\"model\",\"name\":\"FlexBox1\",\"properties\":[{\"name\":\"align_content\",\"kind\":\"Any\",\"default\":\"flex-start\"},{\"name\":\"align_items\",\"kind\":\"Any\",\"default\":\"flex-start\"},{\"name\":\"flex_direction\",\"kind\":\"Any\",\"default\":\"row\"},{\"name\":\"flex_wrap\",\"kind\":\"Any\",\"default\":\"wrap\"},{\"name\":\"gap\",\"kind\":\"Any\",\"default\":\"\"},{\"name\":\"justify_content\",\"kind\":\"Any\",\"default\":\"flex-start\"}]},{\"type\":\"model\",\"name\":\"FloatPanel1\",\"properties\":[{\"name\":\"config\",\"kind\":\"Any\",\"default\":{\"type\":\"map\"}},{\"name\":\"contained\",\"kind\":\"Any\",\"default\":true},{\"name\":\"position\",\"kind\":\"Any\",\"default\":\"right-top\"},{\"name\":\"offsetx\",\"kind\":\"Any\",\"default\":null},{\"name\":\"offsety\",\"kind\":\"Any\",\"default\":null},{\"name\":\"theme\",\"kind\":\"Any\",\"default\":\"primary\"},{\"name\":\"status\",\"kind\":\"Any\",\"default\":\"normalized\"}]},{\"type\":\"model\",\"name\":\"GridStack1\",\"properties\":[{\"name\":\"ncols\",\"kind\":\"Any\",\"default\":null},{\"name\":\"nrows\",\"kind\":\"Any\",\"default\":null},{\"name\":\"allow_resize\",\"kind\":\"Any\",\"default\":true},{\"name\":\"allow_drag\",\"kind\":\"Any\",\"default\":true},{\"name\":\"state\",\"kind\":\"Any\",\"default\":[]}]},{\"type\":\"model\",\"name\":\"drag1\",\"properties\":[{\"name\":\"slider_width\",\"kind\":\"Any\",\"default\":5},{\"name\":\"slider_color\",\"kind\":\"Any\",\"default\":\"black\"},{\"name\":\"value\",\"kind\":\"Any\",\"default\":50}]},{\"type\":\"model\",\"name\":\"click1\",\"properties\":[{\"name\":\"terminal_output\",\"kind\":\"Any\",\"default\":\"\"},{\"name\":\"debug_name\",\"kind\":\"Any\",\"default\":\"\"},{\"name\":\"clears\",\"kind\":\"Any\",\"default\":0}]},{\"type\":\"model\",\"name\":\"FastWrapper1\",\"properties\":[{\"name\":\"object\",\"kind\":\"Any\",\"default\":null},{\"name\":\"style\",\"kind\":\"Any\",\"default\":null}]},{\"type\":\"model\",\"name\":\"NotificationArea1\",\"properties\":[{\"name\":\"js_events\",\"kind\":\"Any\",\"default\":{\"type\":\"map\"}},{\"name\":\"max_notifications\",\"kind\":\"Any\",\"default\":5},{\"name\":\"notifications\",\"kind\":\"Any\",\"default\":[]},{\"name\":\"position\",\"kind\":\"Any\",\"default\":\"bottom-right\"},{\"name\":\"_clear\",\"kind\":\"Any\",\"default\":0},{\"name\":\"types\",\"kind\":\"Any\",\"default\":[{\"type\":\"map\",\"entries\":[[\"type\",\"warning\"],[\"background\",\"#ffc107\"],[\"icon\",{\"type\":\"map\",\"entries\":[[\"className\",\"fas fa-exclamation-triangle\"],[\"tagName\",\"i\"],[\"color\",\"white\"]]}]]},{\"type\":\"map\",\"entries\":[[\"type\",\"info\"],[\"background\",\"#007bff\"],[\"icon\",{\"type\":\"map\",\"entries\":[[\"className\",\"fas fa-info-circle\"],[\"tagName\",\"i\"],[\"color\",\"white\"]]}]]}]}]},{\"type\":\"model\",\"name\":\"Notification\",\"properties\":[{\"name\":\"background\",\"kind\":\"Any\",\"default\":null},{\"name\":\"duration\",\"kind\":\"Any\",\"default\":3000},{\"name\":\"icon\",\"kind\":\"Any\",\"default\":null},{\"name\":\"message\",\"kind\":\"Any\",\"default\":\"\"},{\"name\":\"notification_type\",\"kind\":\"Any\",\"default\":null},{\"name\":\"_rendered\",\"kind\":\"Any\",\"default\":false},{\"name\":\"_destroyed\",\"kind\":\"Any\",\"default\":false}]},{\"type\":\"model\",\"name\":\"TemplateActions1\",\"properties\":[{\"name\":\"open_modal\",\"kind\":\"Any\",\"default\":0},{\"name\":\"close_modal\",\"kind\":\"Any\",\"default\":0}]},{\"type\":\"model\",\"name\":\"BootstrapTemplateActions1\",\"properties\":[{\"name\":\"open_modal\",\"kind\":\"Any\",\"default\":0},{\"name\":\"close_modal\",\"kind\":\"Any\",\"default\":0}]},{\"type\":\"model\",\"name\":\"TemplateEditor1\",\"properties\":[{\"name\":\"layout\",\"kind\":\"Any\",\"default\":[]}]},{\"type\":\"model\",\"name\":\"MaterialTemplateActions1\",\"properties\":[{\"name\":\"open_modal\",\"kind\":\"Any\",\"default\":0},{\"name\":\"close_modal\",\"kind\":\"Any\",\"default\":0}]},{\"type\":\"model\",\"name\":\"ReactiveESM1\",\"properties\":[{\"name\":\"esm_constants\",\"kind\":\"Any\",\"default\":{\"type\":\"map\"}}]},{\"type\":\"model\",\"name\":\"JSComponent1\",\"properties\":[{\"name\":\"esm_constants\",\"kind\":\"Any\",\"default\":{\"type\":\"map\"}}]},{\"type\":\"model\",\"name\":\"ReactComponent1\",\"properties\":[{\"name\":\"esm_constants\",\"kind\":\"Any\",\"default\":{\"type\":\"map\"}}]},{\"type\":\"model\",\"name\":\"AnyWidgetComponent1\",\"properties\":[{\"name\":\"esm_constants\",\"kind\":\"Any\",\"default\":{\"type\":\"map\"}}]},{\"type\":\"model\",\"name\":\"request_value1\",\"properties\":[{\"name\":\"fill\",\"kind\":\"Any\",\"default\":\"none\"},{\"name\":\"_synced\",\"kind\":\"Any\",\"default\":null},{\"name\":\"_request_sync\",\"kind\":\"Any\",\"default\":0}]}]}};\n",
       "  var render_items = [{\"docid\":\"6e11b57b-d9ec-4546-8d10-f67f9823f649\",\"roots\":{\"9842f833-010a-45e9-847b-9c1eebd2d88b\":\"bea6158c-fffa-4b69-b332-92ad54a6458f\"},\"root_ids\":[\"9842f833-010a-45e9-847b-9c1eebd2d88b\"]}];\n",
       "  var docs = Object.values(docs_json)\n",
       "  if (!docs) {\n",
       "    return\n",
       "  }\n",
       "  const py_version = docs[0].version.replace('rc', '-rc.').replace('.dev', '-dev.')\n",
       "  async function embed_document(root) {\n",
       "    var Bokeh = get_bokeh(root)\n",
       "    await Bokeh.embed.embed_items_notebook(docs_json, render_items);\n",
       "    for (const render_item of render_items) {\n",
       "      for (const root_id of render_item.root_ids) {\n",
       "\tconst id_el = document.getElementById(root_id)\n",
       "\tif (id_el.children.length && id_el.children[0].hasAttribute('data-root-id')) {\n",
       "\t  const root_el = id_el.children[0]\n",
       "\t  root_el.id = root_el.id + '-rendered'\n",
       "\t  for (const child of root_el.children) {\n",
       "            // Ensure JupyterLab does not capture keyboard shortcuts\n",
       "            // see: https://jupyterlab.readthedocs.io/en/4.1.x/extension/notebook.html#keyboard-interaction-model\n",
       "\t    child.setAttribute('data-lm-suppress-shortcuts', 'true')\n",
       "\t  }\n",
       "\t}\n",
       "      }\n",
       "    }\n",
       "  }\n",
       "  function get_bokeh(root) {\n",
       "    if (root.Bokeh === undefined) {\n",
       "      return null\n",
       "    } else if (root.Bokeh.version !== py_version) {\n",
       "      if (root.Bokeh.versions === undefined || !root.Bokeh.versions.has(py_version)) {\n",
       "\treturn null\n",
       "      }\n",
       "      return root.Bokeh.versions.get(py_version);\n",
       "    } else if (root.Bokeh.version === py_version) {\n",
       "      return root.Bokeh\n",
       "    }\n",
       "    return null\n",
       "  }\n",
       "  function is_loaded(root) {\n",
       "    var Bokeh = get_bokeh(root)\n",
       "    return (Bokeh != null && Bokeh.Panel !== undefined)\n",
       "  }\n",
       "  if (is_loaded(root)) {\n",
       "    embed_document(root);\n",
       "  } else {\n",
       "    var attempts = 0;\n",
       "    var timer = setInterval(function(root) {\n",
       "      if (is_loaded(root)) {\n",
       "        clearInterval(timer);\n",
       "        embed_document(root);\n",
       "      } else if (document.readyState == \"complete\") {\n",
       "        attempts++;\n",
       "        if (attempts > 200) {\n",
       "          clearInterval(timer);\n",
       "\t  var Bokeh = get_bokeh(root)\n",
       "\t  if (Bokeh == null || Bokeh.Panel == null) {\n",
       "            console.warn(\"Panel: ERROR: Unable to run Panel code because Bokeh or Panel library is missing\");\n",
       "\t  } else {\n",
       "\t    console.warn(\"Panel: WARNING: Attempting to render but not all required libraries could be resolved.\")\n",
       "\t    embed_document(root)\n",
       "\t  }\n",
       "        }\n",
       "      }\n",
       "    }, 25, root)\n",
       "  }\n",
       "})(window);</script>"
      ],
      "text/plain": [
       ":HeatMap   [columns,index]   (value)"
      ]
     },
     "execution_count": 8,
     "metadata": {
      "application/vnd.holoviews_exec.v0+json": {
       "id": "9842f833-010a-45e9-847b-9c1eebd2d88b"
      }
     },
     "output_type": "execute_result"
    }
   ],
   "source": [
    "# Produce Postsynaptic Connection Matrices: will warn that Adriane didn't right all of this code:\n",
    "\n",
    "# Can change this to any of the connection dataframes above: postsynaptic_df, LC10a_AOTU_outputs, LC10a_AOTUroi_outputs_df\n",
    "conn_df = LC10a_AOTU_outputs_df \n",
    "\n",
    "##inputs\n",
    "##if instead looking at presynaptic data frame, may want to switch order of these pre and post in teh group_cols list:\n",
    "\n",
    "#group_cols= ('type_pre', 'type_post') # will compress matrix to only show type-to-type connectivity\n",
    "group_cols = ('bodyId_pre', 'type_post') # will plot all connectivity of individual right-side LC10a neurons to postsynaptic types\n",
    "weight_col = 'weight'\n",
    "sort_by = 'type'\n",
    "make_square=False\n",
    "\n",
    "if isinstance(group_cols, str):\n",
    "    group_cols = (f\"{group_cols}_pre\", f\"{group_cols}_post\")\n",
    "\n",
    "assert len(group_cols) == 2, \\\n",
    "        \"Please provide two group_cols (e.g. 'bodyId_pre', 'bodyId_post')\"\n",
    "\n",
    "assert group_cols[0] in conn_df, \\\n",
    "    f\"Column missing: {group_cols[0]}\"\n",
    "\n",
    "assert group_cols[1] in conn_df, \\\n",
    "        f\"Column missing: {group_cols[1]}\"\n",
    "\n",
    "assert weight_col in conn_df, \\\n",
    "        f\"Column missing: {weight_col}\"\n",
    "\n",
    "col_pre, col_post = group_cols\n",
    "dtype = conn_df[weight_col].dtype\n",
    "\n",
    "agg_weights_df = conn_df.groupby([col_pre, col_post], sort=False)[weight_col].sum().reset_index()\n",
    "matrix = agg_weights_df.pivot(index = col_pre, columns = col_post, values = weight_col)\n",
    "matrix.iloc[:10, :10]\n",
    "\n",
    "\n",
    "if sort_by:\n",
    "    if isinstance(sort_by, str):\n",
    "            sort_by = (f\"{sort_by}_pre\", f\"{sort_by}_post\")\n",
    "\n",
    "    assert len(sort_by) == 2, \\\n",
    "            \"Please provide two sort_by column names (e.g. 'type_pre', 'type_post')\"\n",
    "\n",
    "    pre_order = conn_df.sort_values(sort_by[0])[col_pre].unique()\n",
    "    post_order = conn_df.sort_values(sort_by[1])[col_post].unique()\n",
    "    matrix = matrix.reindex(index=pre_order, columns=post_order)\n",
    "else:\n",
    "    # No sort: Keep the order as close to the input order as possible.\n",
    "    pre_order = conn_df[col_pre].unique()\n",
    "    post_order = conn_df[col_post].unique()\n",
    "    matrix = matrix.reindex(index=pre_order, columns=post_order)\n",
    "\n",
    "if make_square:\n",
    "        matrix, _ = matrix.align(matrix.T).fillna(0.0).astype(matrix.dtype)\n",
    "        matrix = matrix.rename_axis('bodyId_pre', axis=0).rename_axis('bodyId_post', axis=1)\n",
    "        matrix = matrix.loc[sorted(matrix.index), sorted(matrix.columns)]\n",
    "\n",
    "matrix.iloc[:10, :10]\n",
    "\n",
    "matrix.index = matrix.index.astype(str)\n",
    "matrix.columns = matrix.columns.astype(str)\n",
    "matrix.hvplot.heatmap(height=800, width=800)\n",
    "\n",
    "hm = matrix.hvplot.heatmap(height=600, width=1050)\n",
    "hm * hv.Labels(hm).opts(padding=0)\n",
    "hm.opts(xrotation=60)\n",
    "hm.opts(clim=(1, 300))"
   ]
  },
  {
   "cell_type": "code",
   "execution_count": 9,
   "id": "799cfa3c-d3e0-4dbc-a2c7-5ff3cdb80a6e",
   "metadata": {
    "execution": {
     "iopub.execute_input": "2024-05-27T19:47:07.682408Z",
     "iopub.status.busy": "2024-05-27T19:47:07.682012Z",
     "iopub.status.idle": "2024-05-27T19:47:07.799924Z",
     "shell.execute_reply": "2024-05-27T19:47:07.799659Z",
     "shell.execute_reply.started": "2024-05-27T19:47:07.682388Z"
    }
   },
   "outputs": [
    {
     "data": {},
     "metadata": {},
     "output_type": "display_data"
    },
    {
     "data": {
      "application/vnd.holoviews_exec.v0+json": "",
      "text/html": [
       "<div id='be329ba1-9b03-47c1-b293-0e7889211321'>\n",
       "  <div id=\"e7cc647c-6561-4d03-944f-14084563efa1\" data-root-id=\"be329ba1-9b03-47c1-b293-0e7889211321\" style=\"display: contents;\"></div>\n",
       "</div>\n",
       "<script type=\"application/javascript\">(function(root) {\n",
       "  var docs_json = {\"b271ebb1-24a0-4ab8-ade0-3e8e6c7317c4\":{\"version\":\"3.7.3\",\"title\":\"Bokeh Application\",\"roots\":[{\"type\":\"object\",\"name\":\"Row\",\"id\":\"be329ba1-9b03-47c1-b293-0e7889211321\",\"attributes\":{\"name\":\"Row00596\",\"tags\":[\"embedded\"],\"stylesheets\":[\"\\n:host(.pn-loading):before, .pn-loading:before {\\n  background-color: #c3c3c3;\\n  mask-size: auto calc(min(50%, 400px));\\n  -webkit-mask-size: auto calc(min(50%, 400px));\\n}\",{\"type\":\"object\",\"name\":\"ImportedStyleSheet\",\"id\":\"e8a09daa-6681-4436-9f94-dc84e6ea1085\",\"attributes\":{\"url\":\"https://cdn.holoviz.org/panel/1.7.0/dist/css/loading.css\"}},{\"type\":\"object\",\"name\":\"ImportedStyleSheet\",\"id\":\"4b8cabd5-5969-4ffb-9649-838992fc7d23\",\"attributes\":{\"url\":\"https://cdn.holoviz.org/panel/1.7.0/dist/css/listpanel.css\"}},{\"type\":\"object\",\"name\":\"ImportedStyleSheet\",\"id\":\"ae29dcb8-3fbd-4f71-9eb6-d024dc2a60bc\",\"attributes\":{\"url\":\"https://cdn.holoviz.org/panel/1.7.0/dist/bundled/theme/default.css\"}},{\"type\":\"object\",\"name\":\"ImportedStyleSheet\",\"id\":\"6d10faec-413c-4f53-bbbe-ea54e2b06d78\",\"attributes\":{\"url\":\"https://cdn.holoviz.org/panel/1.7.0/dist/bundled/theme/native.css\"}}],\"min_width\":1050,\"margin\":0,\"sizing_mode\":\"stretch_width\",\"align\":\"start\",\"children\":[{\"type\":\"object\",\"name\":\"Spacer\",\"id\":\"472cbdf6-64fb-47ee-8cda-d4b6c5ff3c09\",\"attributes\":{\"name\":\"HSpacer00600\",\"stylesheets\":[\"\\n:host(.pn-loading):before, .pn-loading:before {\\n  background-color: #c3c3c3;\\n  mask-size: auto calc(min(50%, 400px));\\n  -webkit-mask-size: auto calc(min(50%, 400px));\\n}\",{\"id\":\"e8a09daa-6681-4436-9f94-dc84e6ea1085\"},{\"id\":\"ae29dcb8-3fbd-4f71-9eb6-d024dc2a60bc\"},{\"id\":\"6d10faec-413c-4f53-bbbe-ea54e2b06d78\"}],\"min_width\":0,\"margin\":0,\"sizing_mode\":\"stretch_width\",\"align\":\"start\"}},{\"type\":\"object\",\"name\":\"Figure\",\"id\":\"2450f3c3-f2f3-4c86-88bb-44b26ecc10b8\",\"attributes\":{\"width\":1050,\"margin\":[5,10],\"sizing_mode\":\"fixed\",\"align\":\"start\",\"x_range\":{\"type\":\"object\",\"name\":\"FactorRange\",\"id\":\"3a537b43-e70c-4c85-ab7e-205e98814e6a\",\"attributes\":{\"name\":\"columns\",\"tags\":[[[\"columns\",null]],[]],\"factors\":[\"LC10a\"]}},\"y_range\":{\"type\":\"object\",\"name\":\"FactorRange\",\"id\":\"4522c73c-1d63-4dd8-b714-4f3c249835f6\",\"attributes\":{\"name\":\"index\",\"tags\":[[[\"index\",null]],{\"type\":\"map\",\"entries\":[[\"invert_yaxis\",false],[\"autorange\",false]]}],\"factors\":[\"5-HTPMPV01\",\"5-HTPMPV03\",\"AOTU002_a\",\"AOTU002_b\",\"AOTU003\",\"AOTU005\",\"AOTU006\",\"AOTU007_a\",\"AOTU007_c\",\"AOTU008\",\"AOTU011\",\"AOTU012\",\"AOTU013\",\"AOTU014\",\"AOTU015\",\"AOTU016_a\",\"AOTU016_b\",\"AOTU017\",\"AOTU018\",\"AOTU019\",\"AOTU020\",\"AOTU023\",\"AOTU025\",\"AOTU026\",\"AOTU027\",\"AOTU028\",\"AOTU030\",\"AOTU032\",\"AOTU033\",\"AOTU034\",\"AOTU035\",\"AOTU041\",\"AOTU042\",\"AOTU043\",\"AOTU045\",\"AOTU046\",\"AOTU047\",\"AOTU048\",\"AOTU049\",\"AOTU050\",\"AOTU051\",\"AOTU052\",\"AOTU053\",\"AOTU055\",\"AOTU058\",\"AOTU059\",\"AOTU060\",\"AOTU061\",\"AOTU062\",\"AOTU063_a\",\"AOTU063_b\",\"AOTU065\",\"AOTU101m\",\"AVLP590\",\"DGI\",\"DN1pB\",\"DNa10\",\"DNp11\",\"DNp27\",\"DNp63\",\"H1\",\"IB018\",\"LAL025\",\"LAL026_a\",\"LAL026_b\",\"LAL028\",\"LAL029_c\",\"LAL029_e\",\"LAL047\",\"LAL048\",\"LC10_unclear\",\"LC10a\",\"LC10b\",\"LC10c-1\",\"LC10c-2\",\"LC10d\",\"LC10e\",\"LC11\",\"LC12\",\"LC13\",\"LC14a-1\",\"LC14a-2\",\"LC14b\",\"LC15\",\"LC16\",\"LC17\",\"LC18\",\"LC19\",\"LC20a\",\"LC20b\",\"LC21\",\"LC22\",\"LC23\",\"LC24\",\"LC25\",\"LC26\",\"LC27\",\"LC28\",\"LC29\",\"LC30\",\"LC31a\",\"LC31b\",\"LC33\",\"LC34\",\"LC35a\",\"LC35b\",\"LC36\",\"LC37\",\"LC39a\",\"LC39b\",\"LC4\",\"LC40\",\"LC43\",\"LC46b\",\"LC6\",\"LC9\",\"LLPC1\",\"LLPC2\",\"LLPC3\",\"LLPC4\",\"LLPC_unclear\",\"LOLP1\",\"LOP_LO_unclear\",\"LO_unclear\",\"LPLC1\",\"LPLC2\",\"LPLC4\",\"LPT29\",\"LPT30\",\"LPT31\",\"LT11\",\"LT1a\",\"LT1d\",\"LT33\",\"LT34\",\"LT35\",\"LT36\",\"LT37\",\"LT39\",\"LT40\",\"LT41\",\"LT42\",\"LT43\",\"LT46\",\"LT47\",\"LT51\",\"LT52\",\"LT54\",\"LT55\",\"LT56\",\"LT58\",\"LT60\",\"LT61b\",\"LT63\",\"LT64\",\"LT65\",\"LT68\",\"LT70\",\"LT72\",\"LT73\",\"LT74\",\"LT77\",\"LT78\",\"LT79\",\"LT80\",\"LT82a\",\"LT82b\",\"LT84\",\"LT85\",\"LT86\",\"LT87\",\"LT88\",\"Lat1\",\"Li11a\",\"Li11b\",\"Li12\",\"Li13\",\"Li14\",\"Li15\",\"Li16\",\"Li17\",\"Li18a\",\"Li18b\",\"Li19\",\"Li20\",\"Li21\",\"Li22\",\"Li23\",\"Li25\",\"Li26\",\"Li27\",\"Li30\",\"Li31\",\"Li32\",\"Li33\",\"Li34a\",\"Li34b\",\"Li35\",\"Li36\",\"Li37\",\"Li38\",\"Li39\",\"LoVC1\",\"LoVC11\",\"LoVC12\",\"LoVC14\",\"LoVC15\",\"LoVC16\",\"LoVC17\",\"LoVC18\",\"LoVC19\",\"LoVC2\",\"LoVC20\",\"LoVC22\",\"LoVC23\",\"LoVC25\",\"LoVC26\",\"LoVC27\",\"LoVC28\",\"LoVC29\",\"LoVC3\",\"LoVC4\",\"LoVC5\",\"LoVC6\",\"LoVC7\",\"LoVC9\",\"LoVCLo1\",\"LoVCLo2\",\"LoVCLo3\",\"LoVP1\",\"LoVP10\",\"LoVP102\",\"LoVP105\",\"LoVP106\",\"LoVP108\",\"LoVP12\",\"LoVP13\",\"LoVP14\",\"LoVP16\",\"LoVP17\",\"LoVP18\",\"LoVP2\",\"LoVP22\",\"LoVP23\",\"LoVP24\",\"LoVP25\",\"LoVP26\",\"LoVP27\",\"LoVP29\",\"LoVP3\",\"LoVP37\",\"LoVP38\",\"LoVP39\",\"LoVP40\",\"LoVP41\",\"LoVP45\",\"LoVP46\",\"LoVP47\",\"LoVP48\",\"LoVP49\",\"LoVP5\",\"LoVP50\",\"LoVP53\",\"LoVP54\",\"LoVP56\",\"LoVP57\",\"LoVP6\",\"LoVP61\",\"LoVP62\",\"LoVP64\",\"LoVP67\",\"LoVP68\",\"LoVP69\",\"LoVP7\",\"LoVP70\",\"LoVP71\",\"LoVP73\",\"LoVP75\",\"LoVP76\",\"LoVP77\",\"LoVP78\",\"LoVP82\",\"LoVP83\",\"LoVP89\",\"LoVP9\",\"LoVP90a\",\"LoVP92\",\"LoVP93\",\"LoVP96\",\"LoVP99\",\"LoVP_unclear\",\"MeLo1\",\"MeLo10\",\"MeLo11\",\"MeLo12\",\"MeLo13\",\"MeLo14\",\"MeLo2\",\"MeLo3a\",\"MeLo3b\",\"MeLo4\",\"MeLo5\",\"MeLo6\",\"MeLo7\",\"MeLo8\",\"MeLo9\",\"MeTu1\",\"MeTu2a\",\"MeTu2b\",\"MeTu3a\",\"MeTu3b\",\"MeTu3c\",\"MeTu4_unclear\",\"MeTu4a\",\"MeTu4b\",\"MeTu4c\",\"MeTu4d\",\"MeTu4e\",\"MeTu4f\",\"MeVC20\",\"MeVC21\",\"MeVC22\",\"MeVC23\",\"MeVC24\",\"MeVC25\",\"MeVP14\",\"MeVP38\",\"MeVP62\",\"MeVPOL1\",\"OA-AL2i1\",\"OA-AL2i2\",\"OA-ASM1\",\"OA-VUMa6\",\"OA-VUMa7\",\"OLVC2\",\"OLVC4\",\"OLVC5\",\"PAL03\",\"PLP008\",\"PLP009\",\"PLP036\",\"PLP231\",\"Pm2a\",\"SIP004\",\"SIP017\",\"SLP122_b\",\"SLP212\",\"SMP014\",\"SMP039\",\"SMP143\",\"SMP398_b\",\"SMP588\",\"T2\",\"T2a\",\"T3\",\"T4_unclear\",\"T5a\",\"T5c\",\"T5d\",\"Tlp11\",\"Tlp12\",\"Tlp13\",\"Tlp14\",\"Tm1\",\"Tm12\",\"Tm16\",\"Tm2\",\"Tm20\",\"Tm23\",\"Tm24\",\"Tm26\",\"Tm29\",\"Tm3\",\"Tm30\",\"Tm31\",\"Tm32\",\"Tm33\",\"Tm34\",\"Tm35\",\"Tm36\",\"Tm37\",\"Tm38\",\"Tm39\",\"Tm4\",\"Tm40\",\"Tm5Y\",\"Tm5a\",\"Tm5b\",\"Tm5c\",\"Tm6\",\"TmY10\",\"TmY13\",\"TmY15\",\"TmY16\",\"TmY17\",\"TmY18\",\"TmY19a\",\"TmY19b\",\"TmY20\",\"TmY21\",\"TmY3\",\"TmY4\",\"TmY5a\",\"TmY9a\",\"TmY9b\",\"Tm_unclear\",\"TuBu05\",\"TuTuA_1\",\"TuTuA_2\",\"TuTuB_b\",\"Y11\",\"Y12\",\"Y13\",\"Y14\",\"Y3\",\"aIPg4\",\"aMe13\",\"aMe30\",\"mALD1\",\"None\"]}},\"x_scale\":{\"type\":\"object\",\"name\":\"CategoricalScale\",\"id\":\"7e3cb1dd-6bb2-4f7e-8d54-8aa9c1fc01d5\"},\"y_scale\":{\"type\":\"object\",\"name\":\"CategoricalScale\",\"id\":\"2103eeb7-6344-47c3-a28f-ec56b64938e3\"},\"title\":{\"type\":\"object\",\"name\":\"Title\",\"id\":\"78bf78d9-1017-47f3-9300-58a99fb1996c\",\"attributes\":{\"text_color\":\"black\",\"text_font_size\":\"12pt\"}},\"renderers\":[{\"type\":\"object\",\"name\":\"GlyphRenderer\",\"id\":\"913a5856-d430-41ab-81fa-d7122ec02e5b\",\"attributes\":{\"data_source\":{\"type\":\"object\",\"name\":\"ColumnDataSource\",\"id\":\"3ad61c86-beee-4fe1-bb45-25df410ff9e4\",\"attributes\":{\"selected\":{\"type\":\"object\",\"name\":\"Selection\",\"id\":\"a7fcd704-84a6-4889-9859-f14d647d0dcd\",\"attributes\":{\"indices\":[],\"line_indices\":[]}},\"selection_policy\":{\"type\":\"object\",\"name\":\"UnionRenderers\",\"id\":\"718d0aad-1b00-4410-bfae-53b6858ecfa3\"},\"data\":{\"type\":\"map\",\"entries\":[[\"columns\",[\"LC10a\",\"LC10a\",\"LC10a\",\"LC10a\",\"LC10a\",\"LC10a\",\"LC10a\",\"LC10a\",\"LC10a\",\"LC10a\",\"LC10a\",\"LC10a\",\"LC10a\",\"LC10a\",\"LC10a\",\"LC10a\",\"LC10a\",\"LC10a\",\"LC10a\",\"LC10a\",\"LC10a\",\"LC10a\",\"LC10a\",\"LC10a\",\"LC10a\",\"LC10a\",\"LC10a\",\"LC10a\",\"LC10a\",\"LC10a\",\"LC10a\",\"LC10a\",\"LC10a\",\"LC10a\",\"LC10a\",\"LC10a\",\"LC10a\",\"LC10a\",\"LC10a\",\"LC10a\",\"LC10a\",\"LC10a\",\"LC10a\",\"LC10a\",\"LC10a\",\"LC10a\",\"LC10a\",\"LC10a\",\"LC10a\",\"LC10a\",\"LC10a\",\"LC10a\",\"LC10a\",\"LC10a\",\"LC10a\",\"LC10a\",\"LC10a\",\"LC10a\",\"LC10a\",\"LC10a\",\"LC10a\",\"LC10a\",\"LC10a\",\"LC10a\",\"LC10a\",\"LC10a\",\"LC10a\",\"LC10a\",\"LC10a\",\"LC10a\",\"LC10a\",\"LC10a\",\"LC10a\",\"LC10a\",\"LC10a\",\"LC10a\",\"LC10a\",\"LC10a\",\"LC10a\",\"LC10a\",\"LC10a\",\"LC10a\",\"LC10a\",\"LC10a\",\"LC10a\",\"LC10a\",\"LC10a\",\"LC10a\",\"LC10a\",\"LC10a\",\"LC10a\",\"LC10a\",\"LC10a\",\"LC10a\",\"LC10a\",\"LC10a\",\"LC10a\",\"LC10a\",\"LC10a\",\"LC10a\",\"LC10a\",\"LC10a\",\"LC10a\",\"LC10a\",\"LC10a\",\"LC10a\",\"LC10a\",\"LC10a\",\"LC10a\",\"LC10a\",\"LC10a\",\"LC10a\",\"LC10a\",\"LC10a\",\"LC10a\",\"LC10a\",\"LC10a\",\"LC10a\",\"LC10a\",\"LC10a\",\"LC10a\",\"LC10a\",\"LC10a\",\"LC10a\",\"LC10a\",\"LC10a\",\"LC10a\",\"LC10a\",\"LC10a\",\"LC10a\",\"LC10a\",\"LC10a\",\"LC10a\",\"LC10a\",\"LC10a\",\"LC10a\",\"LC10a\",\"LC10a\",\"LC10a\",\"LC10a\",\"LC10a\",\"LC10a\",\"LC10a\",\"LC10a\",\"LC10a\",\"LC10a\",\"LC10a\",\"LC10a\",\"LC10a\",\"LC10a\",\"LC10a\",\"LC10a\",\"LC10a\",\"LC10a\",\"LC10a\",\"LC10a\",\"LC10a\",\"LC10a\",\"LC10a\",\"LC10a\",\"LC10a\",\"LC10a\",\"LC10a\",\"LC10a\",\"LC10a\",\"LC10a\",\"LC10a\",\"LC10a\",\"LC10a\",\"LC10a\",\"LC10a\",\"LC10a\",\"LC10a\",\"LC10a\",\"LC10a\",\"LC10a\",\"LC10a\",\"LC10a\",\"LC10a\",\"LC10a\",\"LC10a\",\"LC10a\",\"LC10a\",\"LC10a\",\"LC10a\",\"LC10a\",\"LC10a\",\"LC10a\",\"LC10a\",\"LC10a\",\"LC10a\",\"LC10a\",\"LC10a\",\"LC10a\",\"LC10a\",\"LC10a\",\"LC10a\",\"LC10a\",\"LC10a\",\"LC10a\",\"LC10a\",\"LC10a\",\"LC10a\",\"LC10a\",\"LC10a\",\"LC10a\",\"LC10a\",\"LC10a\",\"LC10a\",\"LC10a\",\"LC10a\",\"LC10a\",\"LC10a\",\"LC10a\",\"LC10a\",\"LC10a\",\"LC10a\",\"LC10a\",\"LC10a\",\"LC10a\",\"LC10a\",\"LC10a\",\"LC10a\",\"LC10a\",\"LC10a\",\"LC10a\",\"LC10a\",\"LC10a\",\"LC10a\",\"LC10a\",\"LC10a\",\"LC10a\",\"LC10a\",\"LC10a\",\"LC10a\",\"LC10a\",\"LC10a\",\"LC10a\",\"LC10a\",\"LC10a\",\"LC10a\",\"LC10a\",\"LC10a\",\"LC10a\",\"LC10a\",\"LC10a\",\"LC10a\",\"LC10a\",\"LC10a\",\"LC10a\",\"LC10a\",\"LC10a\",\"LC10a\",\"LC10a\",\"LC10a\",\"LC10a\",\"LC10a\",\"LC10a\",\"LC10a\",\"LC10a\",\"LC10a\",\"LC10a\",\"LC10a\",\"LC10a\",\"LC10a\",\"LC10a\",\"LC10a\",\"LC10a\",\"LC10a\",\"LC10a\",\"LC10a\",\"LC10a\",\"LC10a\",\"LC10a\",\"LC10a\",\"LC10a\",\"LC10a\",\"LC10a\",\"LC10a\",\"LC10a\",\"LC10a\",\"LC10a\",\"LC10a\",\"LC10a\",\"LC10a\",\"LC10a\",\"LC10a\",\"LC10a\",\"LC10a\",\"LC10a\",\"LC10a\",\"LC10a\",\"LC10a\",\"LC10a\",\"LC10a\",\"LC10a\",\"LC10a\",\"LC10a\",\"LC10a\",\"LC10a\",\"LC10a\",\"LC10a\",\"LC10a\",\"LC10a\",\"LC10a\",\"LC10a\",\"LC10a\",\"LC10a\",\"LC10a\",\"LC10a\",\"LC10a\",\"LC10a\",\"LC10a\",\"LC10a\",\"LC10a\",\"LC10a\",\"LC10a\",\"LC10a\",\"LC10a\",\"LC10a\",\"LC10a\",\"LC10a\",\"LC10a\",\"LC10a\",\"LC10a\",\"LC10a\",\"LC10a\",\"LC10a\",\"LC10a\",\"LC10a\",\"LC10a\",\"LC10a\",\"LC10a\",\"LC10a\",\"LC10a\",\"LC10a\",\"LC10a\",\"LC10a\",\"LC10a\",\"LC10a\",\"LC10a\",\"LC10a\",\"LC10a\",\"LC10a\",\"LC10a\",\"LC10a\",\"LC10a\",\"LC10a\",\"LC10a\",\"LC10a\",\"LC10a\",\"LC10a\",\"LC10a\",\"LC10a\",\"LC10a\",\"LC10a\",\"LC10a\",\"LC10a\",\"LC10a\",\"LC10a\",\"LC10a\",\"LC10a\",\"LC10a\",\"LC10a\",\"LC10a\",\"LC10a\",\"LC10a\",\"LC10a\",\"LC10a\",\"LC10a\",\"LC10a\",\"LC10a\",\"LC10a\",\"LC10a\",\"LC10a\",\"LC10a\",\"LC10a\",\"LC10a\",\"LC10a\",\"LC10a\",\"LC10a\",\"LC10a\",\"LC10a\",\"LC10a\",\"LC10a\",\"LC10a\",\"LC10a\",\"LC10a\",\"LC10a\",\"LC10a\",\"LC10a\",\"LC10a\",\"LC10a\",\"LC10a\",\"LC10a\",\"LC10a\",\"LC10a\",\"LC10a\",\"LC10a\",\"LC10a\",\"LC10a\",\"LC10a\",\"LC10a\",\"LC10a\",\"LC10a\",\"LC10a\",\"LC10a\",\"LC10a\",\"LC10a\",\"LC10a\",\"LC10a\",\"LC10a\",\"LC10a\",\"LC10a\",\"LC10a\",\"LC10a\",\"LC10a\",\"LC10a\",\"LC10a\",\"LC10a\"]],[\"index\",[\"5-HTPMPV01\",\"5-HTPMPV03\",\"AOTU002_a\",\"AOTU002_b\",\"AOTU003\",\"AOTU005\",\"AOTU006\",\"AOTU007_a\",\"AOTU007_c\",\"AOTU008\",\"AOTU011\",\"AOTU012\",\"AOTU013\",\"AOTU014\",\"AOTU015\",\"AOTU016_a\",\"AOTU016_b\",\"AOTU017\",\"AOTU018\",\"AOTU019\",\"AOTU020\",\"AOTU023\",\"AOTU025\",\"AOTU026\",\"AOTU027\",\"AOTU028\",\"AOTU030\",\"AOTU032\",\"AOTU033\",\"AOTU034\",\"AOTU035\",\"AOTU041\",\"AOTU042\",\"AOTU043\",\"AOTU045\",\"AOTU046\",\"AOTU047\",\"AOTU048\",\"AOTU049\",\"AOTU050\",\"AOTU051\",\"AOTU052\",\"AOTU053\",\"AOTU055\",\"AOTU058\",\"AOTU059\",\"AOTU060\",\"AOTU061\",\"AOTU062\",\"AOTU063_a\",\"AOTU063_b\",\"AOTU065\",\"AOTU101m\",\"AVLP590\",\"DGI\",\"DN1pB\",\"DNa10\",\"DNp11\",\"DNp27\",\"DNp63\",\"H1\",\"IB018\",\"LAL025\",\"LAL026_a\",\"LAL026_b\",\"LAL028\",\"LAL029_c\",\"LAL029_e\",\"LAL047\",\"LAL048\",\"LC10_unclear\",\"LC10a\",\"LC10b\",\"LC10c-1\",\"LC10c-2\",\"LC10d\",\"LC10e\",\"LC11\",\"LC12\",\"LC13\",\"LC14a-1\",\"LC14a-2\",\"LC14b\",\"LC15\",\"LC16\",\"LC17\",\"LC18\",\"LC19\",\"LC20a\",\"LC20b\",\"LC21\",\"LC22\",\"LC23\",\"LC24\",\"LC25\",\"LC26\",\"LC27\",\"LC28\",\"LC29\",\"LC30\",\"LC31a\",\"LC31b\",\"LC33\",\"LC34\",\"LC35a\",\"LC35b\",\"LC36\",\"LC37\",\"LC39a\",\"LC39b\",\"LC4\",\"LC40\",\"LC43\",\"LC46b\",\"LC6\",\"LC9\",\"LLPC1\",\"LLPC2\",\"LLPC3\",\"LLPC4\",\"LLPC_unclear\",\"LOLP1\",\"LOP_LO_unclear\",\"LO_unclear\",\"LPLC1\",\"LPLC2\",\"LPLC4\",\"LPT29\",\"LPT30\",\"LPT31\",\"LT11\",\"LT1a\",\"LT1d\",\"LT33\",\"LT34\",\"LT35\",\"LT36\",\"LT37\",\"LT39\",\"LT40\",\"LT41\",\"LT42\",\"LT43\",\"LT46\",\"LT47\",\"LT51\",\"LT52\",\"LT54\",\"LT55\",\"LT56\",\"LT58\",\"LT60\",\"LT61b\",\"LT63\",\"LT64\",\"LT65\",\"LT68\",\"LT70\",\"LT72\",\"LT73\",\"LT74\",\"LT77\",\"LT78\",\"LT79\",\"LT80\",\"LT82a\",\"LT82b\",\"LT84\",\"LT85\",\"LT86\",\"LT87\",\"LT88\",\"Lat1\",\"Li11a\",\"Li11b\",\"Li12\",\"Li13\",\"Li14\",\"Li15\",\"Li16\",\"Li17\",\"Li18a\",\"Li18b\",\"Li19\",\"Li20\",\"Li21\",\"Li22\",\"Li23\",\"Li25\",\"Li26\",\"Li27\",\"Li30\",\"Li31\",\"Li32\",\"Li33\",\"Li34a\",\"Li34b\",\"Li35\",\"Li36\",\"Li37\",\"Li38\",\"Li39\",\"LoVC1\",\"LoVC11\",\"LoVC12\",\"LoVC14\",\"LoVC15\",\"LoVC16\",\"LoVC17\",\"LoVC18\",\"LoVC19\",\"LoVC2\",\"LoVC20\",\"LoVC22\",\"LoVC23\",\"LoVC25\",\"LoVC26\",\"LoVC27\",\"LoVC28\",\"LoVC29\",\"LoVC3\",\"LoVC4\",\"LoVC5\",\"LoVC6\",\"LoVC7\",\"LoVC9\",\"LoVCLo1\",\"LoVCLo2\",\"LoVCLo3\",\"LoVP1\",\"LoVP10\",\"LoVP102\",\"LoVP105\",\"LoVP106\",\"LoVP108\",\"LoVP12\",\"LoVP13\",\"LoVP14\",\"LoVP16\",\"LoVP17\",\"LoVP18\",\"LoVP2\",\"LoVP22\",\"LoVP23\",\"LoVP24\",\"LoVP25\",\"LoVP26\",\"LoVP27\",\"LoVP29\",\"LoVP3\",\"LoVP37\",\"LoVP38\",\"LoVP39\",\"LoVP40\",\"LoVP41\",\"LoVP45\",\"LoVP46\",\"LoVP47\",\"LoVP48\",\"LoVP49\",\"LoVP5\",\"LoVP50\",\"LoVP53\",\"LoVP54\",\"LoVP56\",\"LoVP57\",\"LoVP6\",\"LoVP61\",\"LoVP62\",\"LoVP64\",\"LoVP67\",\"LoVP68\",\"LoVP69\",\"LoVP7\",\"LoVP70\",\"LoVP71\",\"LoVP73\",\"LoVP75\",\"LoVP76\",\"LoVP77\",\"LoVP78\",\"LoVP82\",\"LoVP83\",\"LoVP89\",\"LoVP9\",\"LoVP90a\",\"LoVP92\",\"LoVP93\",\"LoVP96\",\"LoVP99\",\"LoVP_unclear\",\"MeLo1\",\"MeLo10\",\"MeLo11\",\"MeLo12\",\"MeLo13\",\"MeLo14\",\"MeLo2\",\"MeLo3a\",\"MeLo3b\",\"MeLo4\",\"MeLo5\",\"MeLo6\",\"MeLo7\",\"MeLo8\",\"MeLo9\",\"MeTu1\",\"MeTu2a\",\"MeTu2b\",\"MeTu3a\",\"MeTu3b\",\"MeTu3c\",\"MeTu4_unclear\",\"MeTu4a\",\"MeTu4b\",\"MeTu4c\",\"MeTu4d\",\"MeTu4e\",\"MeTu4f\",\"MeVC20\",\"MeVC21\",\"MeVC22\",\"MeVC23\",\"MeVC24\",\"MeVC25\",\"MeVP14\",\"MeVP38\",\"MeVP62\",\"MeVPOL1\",\"OA-AL2i1\",\"OA-AL2i2\",\"OA-ASM1\",\"OA-VUMa6\",\"OA-VUMa7\",\"OLVC2\",\"OLVC4\",\"OLVC5\",\"PAL03\",\"PLP008\",\"PLP009\",\"PLP036\",\"PLP231\",\"Pm2a\",\"SIP004\",\"SIP017\",\"SLP122_b\",\"SLP212\",\"SMP014\",\"SMP039\",\"SMP143\",\"SMP398_b\",\"SMP588\",\"T2\",\"T2a\",\"T3\",\"T4_unclear\",\"T5a\",\"T5c\",\"T5d\",\"Tlp11\",\"Tlp12\",\"Tlp13\",\"Tlp14\",\"Tm1\",\"Tm12\",\"Tm16\",\"Tm2\",\"Tm20\",\"Tm23\",\"Tm24\",\"Tm26\",\"Tm29\",\"Tm3\",\"Tm30\",\"Tm31\",\"Tm32\",\"Tm33\",\"Tm34\",\"Tm35\",\"Tm36\",\"Tm37\",\"Tm38\",\"Tm39\",\"Tm4\",\"Tm40\",\"Tm5Y\",\"Tm5a\",\"Tm5b\",\"Tm5c\",\"Tm6\",\"TmY10\",\"TmY13\",\"TmY15\",\"TmY16\",\"TmY17\",\"TmY18\",\"TmY19a\",\"TmY19b\",\"TmY20\",\"TmY21\",\"TmY3\",\"TmY4\",\"TmY5a\",\"TmY9a\",\"TmY9b\",\"Tm_unclear\",\"TuBu05\",\"TuTuA_1\",\"TuTuA_2\",\"TuTuB_b\",\"Y11\",\"Y12\",\"Y13\",\"Y14\",\"Y3\",\"aIPg4\",\"aMe13\",\"aMe30\",\"mALD1\",\"None\"]],[\"zvalues\",{\"type\":\"ndarray\",\"array\":{\"type\":\"bytes\",\"data\":\"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\"},\"shape\":[420],\"dtype\":\"float64\",\"order\":\"little\"}],[\"value\",[\"12\",\"57\",\"1\",\"2\",\"1\",\"2\",\"1\",\"3\",\"1\",\"4\",\"4\",\"1\",\"5\",\"5\",\"4\",\"1\",\"6\",\"1\",\"1\",\"1\",\"2\",\"3\",\"8\",\"5\",\"4\",\"2\",\"2\",\"1\",\"704\",\"3\",\"1913\",\"1501\",\"7313\",\"63\",\"8\",\"2\",\"7\",\"36\",\"2\",\"302\",\"5\",\"20\",\"6\",\"1\",\"4\",\"79\",\"3\",\"1\",\"1\",\"5\",\"20\",\"3\",\"1\",\"1\",\"18\",\"1\",\"2\",\"2\",\"49\",\"1\",\"2\",\"1\",\"1\",\"4\",\"2\",\"3\",\"8\",\"4\",\"18\",\"1\",\"311\",\"13190\",\"132\",\"4629\",\"3505\",\"1455\",\"751\",\"1447\",\"8\",\"58\",\"856\",\"51\",\"248\",\"115\",\"93\",\"18\",\"137\",\"8\",\"657\",\"2846\",\"243\",\"64\",\"1\",\"36\",\"1510\",\"2\",\"4\",\"2060\",\"10\",\"40\",\"4\",\"4\",\"4\",\"5\",\"27\",\"1\",\"6\",\"70\",\"10\",\"1\",\"72\",\"8\",\"3\",\"2\",\"262\",\"5431\",\"1156\",\"919\",\"792\",\"17\",\"9\",\"238\",\"2\",\"42\",\"245\",\"59\",\"71\",\"1\",\"1\",\"1\",\"3\",\"1\",\"1\",\"3\",\"153\",\"4\",\"2\",\"212\",\"517\",\"231\",\"240\",\"51\",\"8\",\"4\",\"5\",\"7\",\"2648\",\"13\",\"21\",\"717\",\"1247\",\"9\",\"34\",\"14\",\"7\",\"12\",\"68\",\"3\",\"11\",\"12\",\"8\",\"50\",\"146\",\"10\",\"2\",\"2\",\"2\",\"7\",\"7\",\"8\",\"4\",\"8\",\"1\",\"722\",\"529\",\"658\",\"1471\",\"1952\",\"140\",\"1568\",\"185\",\"4\",\"12\",\"153\",\"480\",\"125\",\"3237\",\"77\",\"263\",\"26\",\"45\",\"1158\",\"102\",\"174\",\"236\",\"778\",\"1323\",\"2\",\"5\",\"46\",\"25\",\"407\",\"12\",\"327\",\"57\",\"4\",\"271\",\"41\",\"22\",\"127\",\"47\",\"117\",\"4\",\"162\",\"1\",\"162\",\"5\",\"13\",\"1\",\"1\",\"3\",\"1\",\"126\",\"184\",\"69\",\"74\",\"3\",\"9\",\"55\",\"826\",\"2\",\"1\",\"1\",\"2\",\"543\",\"7\",\"148\",\"7\",\"3\",\"2\",\"3\",\"23\",\"1\",\"9\",\"1\",\"1\",\"2\",\"3\",\"4\",\"13\",\"12\",\"6\",\"9\",\"1\",\"3\",\"2\",\"52\",\"4\",\"2\",\"2\",\"9\",\"3\",\"2\",\"6\",\"2\",\"2\",\"54\",\"4\",\"76\",\"19\",\"10\",\"1\",\"5\",\"31\",\"1\",\"1\",\"3\",\"2\",\"56\",\"13\",\"3\",\"2\",\"3\",\"29\",\"3\",\"1\",\"14\",\"4\",\"6\",\"8\",\"3\",\"85\",\"417\",\"3\",\"47\",\"98\",\"45\",\"57\",\"15\",\"11\",\"5\",\"1\",\"11\",\"8\",\"2026\",\"8\",\"115\",\"7\",\"2\",\"5\",\"9\",\"49\",\"72\",\"202\",\"24\",\"171\",\"8\",\"26\",\"21\",\"2\",\"1\",\"2\",\"9\",\"5\",\"15\",\"6\",\"1\",\"24\",\"5\",\"38\",\"20\",\"114\",\"1\",\"2\",\"29\",\"14\",\"91\",\"44\",\"3\",\"1\",\"1\",\"17\",\"2\",\"1\",\"2\",\"26\",\"2\",\"1\",\"3\",\"3\",\"6\",\"6\",\"137\",\"1826\",\"98\",\"1\",\"48\",\"2\",\"6\",\"187\",\"268\",\"104\",\"8\",\"6\",\"233\",\"1139\",\"51\",\"851\",\"1\",\"916\",\"123\",\"87\",\"2154\",\"995\",\"1100\",\"1463\",\"109\",\"32\",\"62\",\"79\",\"1217\",\"27\",\"1287\",\"1511\",\"907\",\"8750\",\"3568\",\"1243\",\"145\",\"2036\",\"113\",\"467\",\"465\",\"110\",\"359\",\"640\",\"64\",\"465\",\"449\",\"4513\",\"97\",\"101\",\"776\",\"72\",\"81\",\"12\",\"1\",\"105\",\"10091\",\"4\",\"46\",\"17\",\"22\",\"384\",\"1578\",\"1\",\"1\",\"14\",\"6\",\"-\"]]]}}},\"view\":{\"type\":\"object\",\"name\":\"CDSView\",\"id\":\"6229463e-339c-4385-9bfb-6b61b7234159\",\"attributes\":{\"filter\":{\"type\":\"object\",\"name\":\"AllIndices\",\"id\":\"bdc9b1c3-a4ee-44ec-8b10-b79515e50b65\"}}},\"glyph\":{\"type\":\"object\",\"name\":\"Rect\",\"id\":\"a5b98c2c-8ea4-4e60-b042-4c7ff4110bad\",\"attributes\":{\"tags\":[\"apply_ranges\"],\"x\":{\"type\":\"field\",\"field\":\"columns\"},\"y\":{\"type\":\"field\",\"field\":\"index\"},\"width\":{\"type\":\"value\",\"value\":1},\"height\":{\"type\":\"value\",\"value\":1},\"line_color\":{\"type\":\"value\",\"value\":\"#1f77b4\"},\"line_alpha\":{\"type\":\"value\",\"value\":0},\"fill_color\":{\"type\":\"field\",\"field\":\"zvalues\",\"transform\":{\"type\":\"object\",\"name\":\"LinearColorMapper\",\"id\":\"5915dee5-7165-4f12-80df-57165c2c8286\",\"attributes\":{\"palette\":[\"#b3fef5\",\"#b0fef5\",\"#adfdf5\",\"#a9fcf5\",\"#a6fbf6\",\"#a3faf6\",\"#a0faf6\",\"#9df9f6\",\"#9af8f6\",\"#97f7f6\",\"#93f7f6\",\"#90f6f6\",\"#8df5f6\",\"#8af4f7\",\"#87f3f7\",\"#83f2f7\",\"#80f2f7\",\"#7df1f7\",\"#79f0f7\",\"#76eff7\",\"#73eef7\",\"#6fedf8\",\"#6cecf8\",\"#68ecf8\",\"#65ebf8\",\"#61eaf8\",\"#5ee9f8\",\"#5ae8f8\",\"#57e7f8\",\"#53e6f8\",\"#50e5f9\",\"#4ce4f9\",\"#49e3f9\",\"#45e2f9\",\"#42e1f9\",\"#3ee0f9\",\"#3bdff9\",\"#38def9\",\"#35ddf9\",\"#32dcf9\",\"#30dbfa\",\"#2ed9fa\",\"#2dd8fa\",\"#2cd7fa\",\"#2bd6fa\",\"#2bd5fa\",\"#2ad3fa\",\"#2ad2fa\",\"#29d1fa\",\"#29d0fb\",\"#29cffb\",\"#28cdfb\",\"#28ccfb\",\"#28cbfb\",\"#28cafb\",\"#28c8fb\",\"#28c7fb\",\"#29c6fb\",\"#29c5fb\",\"#29c4fb\",\"#29c2fb\",\"#2ac1fb\",\"#2ac0fb\",\"#2bbffb\",\"#2bbdfc\",\"#2cbcfc\",\"#2dbbfc\",\"#2db9fc\",\"#2eb8fc\",\"#2fb7fc\",\"#2fb6fc\",\"#30b4fc\",\"#31b3fc\",\"#32b2fc\",\"#32b0fc\",\"#33affc\",\"#33aefc\",\"#34adfc\",\"#34abfc\",\"#34aafc\",\"#35a9fc\",\"#35a8fc\",\"#35a6fc\",\"#35a5fc\",\"#35a4fc\",\"#35a3fc\",\"#35a1fc\",\"#35a0fc\",\"#359ffc\",\"#359dfc\",\"#359cfc\",\"#359bfc\",\"#349afd\",\"#3498fd\",\"#3497fd\",\"#3396fd\",\"#3395fd\",\"#3293fd\",\"#3292fd\",\"#3191fd\",\"#3090fd\",\"#308ffd\",\"#2f8dfd\",\"#2f8cfd\",\"#2e8bfd\",\"#2e8afd\",\"#2d88fd\",\"#2d87fd\",\"#2c86fd\",\"#2c84fd\",\"#2c83fd\",\"#2c82fd\",\"#2b81fd\",\"#2b7ffd\",\"#2b7efd\",\"#2b7dfd\",\"#2b7bfd\",\"#2b7afd\",\"#2b79fd\",\"#2b77fd\",\"#2b76fd\",\"#2b75fd\",\"#2b73fd\",\"#2c72fd\",\"#2c71fd\",\"#2c6ffd\",\"#2c6efd\",\"#2d6cfd\",\"#2d6bfd\",\"#2d6afc\",\"#2e68fc\",\"#2e67fc\",\"#2e65fc\",\"#2e64fc\",\"#2f62fc\",\"#2f61fc\",\"#2f5ffc\",\"#2f5efc\",\"#2f5dfc\",\"#2f5bfc\",\"#2f5afc\",\"#2f58fb\",\"#2f57fb\",\"#2f55fb\",\"#2f53fb\",\"#2f52fb\",\"#2f50fb\",\"#2f4ffb\",\"#2f4dfb\",\"#2e4cfb\",\"#2e4afb\",\"#2e48fb\",\"#2e47fa\",\"#2d45fa\",\"#2d43fa\",\"#2d42fa\",\"#2d40fa\",\"#2c3efa\",\"#2c3dfa\",\"#2b3bf9\",\"#2b39f9\",\"#2a37f9\",\"#2a36f8\",\"#2934f8\",\"#2832f7\",\"#2831f7\",\"#272ff6\",\"#262ef5\",\"#252cf5\",\"#252af4\",\"#2429f3\",\"#2327f2\",\"#2226f1\",\"#2124f0\",\"#2023ef\",\"#1f22ee\",\"#1e20ed\",\"#1d1feb\",\"#1c1eea\",\"#1b1ce9\",\"#1a1be7\",\"#181ae6\",\"#1719e5\",\"#1618e3\",\"#1417e1\",\"#1316e0\",\"#1215de\",\"#1014dc\",\"#0f13db\",\"#0e12d9\",\"#0d11d7\",\"#0c10d5\",\"#0b0fd3\",\"#0a0ed1\",\"#090dd0\",\"#080dce\",\"#080ccc\",\"#070bca\",\"#070ac8\",\"#0709c6\",\"#0708c4\",\"#0707c2\",\"#0707bf\",\"#0806bd\",\"#0806bb\",\"#0905b9\",\"#0904b7\",\"#0a04b5\",\"#0a04b2\",\"#0b03b0\",\"#0c03ae\",\"#0d02ab\",\"#0e02a9\",\"#0e02a7\",\"#0f02a4\",\"#0f01a2\",\"#1001a0\",\"#10019d\",\"#10019b\",\"#100199\",\"#100197\",\"#100194\",\"#0f0192\",\"#0f0190\",\"#0f018e\",\"#0e018b\",\"#0e0189\",\"#0d0187\",\"#0d0185\",\"#0c0183\",\"#0b0181\",\"#0b017e\",\"#0a017c\",\"#09017a\",\"#090178\",\"#080276\",\"#070274\",\"#060272\",\"#060270\",\"#05026e\",\"#04026c\",\"#030269\",\"#030267\",\"#020265\",\"#010263\",\"#010261\",\"#00025f\",\"#00025d\",\"#00025b\",\"#000259\",\"#000257\",\"#000255\",\"#000154\",\"#000152\",\"#000150\",\"#00004e\"],\"nan_color\":\"white\",\"low\":50,\"high\":500}}}}},\"selection_glyph\":{\"type\":\"object\",\"name\":\"Rect\",\"id\":\"5405ecd1-c3cd-40e1-a575-e1fa2c40ee67\",\"attributes\":{\"tags\":[\"apply_ranges\"],\"x\":{\"type\":\"field\",\"field\":\"columns\"},\"y\":{\"type\":\"field\",\"field\":\"index\"},\"width\":{\"type\":\"value\",\"value\":1},\"height\":{\"type\":\"value\",\"value\":1},\"line_color\":{\"type\":\"value\",\"value\":\"#1f77b4\"},\"line_alpha\":{\"type\":\"value\",\"value\":0},\"fill_color\":{\"type\":\"field\",\"field\":\"zvalues\",\"transform\":{\"id\":\"5915dee5-7165-4f12-80df-57165c2c8286\"}}}},\"nonselection_glyph\":{\"type\":\"object\",\"name\":\"Rect\",\"id\":\"195cc273-bca9-4d68-9dbf-bb65fb0a2333\",\"attributes\":{\"tags\":[\"apply_ranges\"],\"x\":{\"type\":\"field\",\"field\":\"columns\"},\"y\":{\"type\":\"field\",\"field\":\"index\"},\"width\":{\"type\":\"value\",\"value\":1},\"height\":{\"type\":\"value\",\"value\":1},\"line_color\":{\"type\":\"value\",\"value\":\"#1f77b4\"},\"line_alpha\":{\"type\":\"value\",\"value\":0},\"fill_color\":{\"type\":\"field\",\"field\":\"zvalues\",\"transform\":{\"id\":\"5915dee5-7165-4f12-80df-57165c2c8286\"}},\"fill_alpha\":{\"type\":\"value\",\"value\":0.1},\"hatch_alpha\":{\"type\":\"value\",\"value\":0.1}}},\"muted_glyph\":{\"type\":\"object\",\"name\":\"Rect\",\"id\":\"1c7e0417-925b-4654-af9f-25e2b15c418e\",\"attributes\":{\"tags\":[\"apply_ranges\"],\"x\":{\"type\":\"field\",\"field\":\"columns\"},\"y\":{\"type\":\"field\",\"field\":\"index\"},\"width\":{\"type\":\"value\",\"value\":1},\"height\":{\"type\":\"value\",\"value\":1},\"line_color\":{\"type\":\"value\",\"value\":\"#1f77b4\"},\"line_alpha\":{\"type\":\"value\",\"value\":0},\"fill_color\":{\"type\":\"field\",\"field\":\"zvalues\",\"transform\":{\"id\":\"5915dee5-7165-4f12-80df-57165c2c8286\"}},\"fill_alpha\":{\"type\":\"value\",\"value\":0.2},\"hatch_alpha\":{\"type\":\"value\",\"value\":0.2}}}}}],\"toolbar\":{\"type\":\"object\",\"name\":\"Toolbar\",\"id\":\"aead5587-3121-4baf-8b45-69f06de9c674\",\"attributes\":{\"tools\":[{\"type\":\"object\",\"name\":\"WheelZoomTool\",\"id\":\"28ad0529-71c6-4d01-868f-97605b931799\",\"attributes\":{\"tags\":[\"hv_created\"],\"renderers\":\"auto\",\"zoom_together\":\"none\"}},{\"type\":\"object\",\"name\":\"HoverTool\",\"id\":\"a68588af-3923-4c91-9241-ba85b695691e\",\"attributes\":{\"tags\":[\"hv_created\"],\"renderers\":[{\"id\":\"913a5856-d430-41ab-81fa-d7122ec02e5b\"}],\"tooltips\":[[\"columns\",\"@{columns}\"],[\"index\",\"@{index}\"],[\"value\",\"@{value}\"]]}},{\"type\":\"object\",\"name\":\"SaveTool\",\"id\":\"db935954-afae-4642-8ef3-271122b515cf\"},{\"type\":\"object\",\"name\":\"PanTool\",\"id\":\"c6c24dbf-177c-4261-8540-a7948f2e99ee\"},{\"type\":\"object\",\"name\":\"BoxZoomTool\",\"id\":\"9279b3d9-3772-43a2-b29f-d0b8bfefa7b4\",\"attributes\":{\"dimensions\":\"both\",\"overlay\":{\"type\":\"object\",\"name\":\"BoxAnnotation\",\"id\":\"2a40c7a8-1aea-437c-b490-289258a8db24\",\"attributes\":{\"syncable\":false,\"line_color\":\"black\",\"line_alpha\":1.0,\"line_width\":2,\"line_dash\":[4,4],\"fill_color\":\"lightgrey\",\"fill_alpha\":0.5,\"level\":\"overlay\",\"visible\":false,\"left\":{\"type\":\"number\",\"value\":\"nan\"},\"right\":{\"type\":\"number\",\"value\":\"nan\"},\"top\":{\"type\":\"number\",\"value\":\"nan\"},\"bottom\":{\"type\":\"number\",\"value\":\"nan\"},\"left_units\":\"canvas\",\"right_units\":\"canvas\",\"top_units\":\"canvas\",\"bottom_units\":\"canvas\",\"handles\":{\"type\":\"object\",\"name\":\"BoxInteractionHandles\",\"id\":\"1fe8f4fd-8ffc-46ea-a976-19c94de334ed\",\"attributes\":{\"all\":{\"type\":\"object\",\"name\":\"AreaVisuals\",\"id\":\"38f53fe9-4be4-40ac-bdc1-ee279fed4736\",\"attributes\":{\"fill_color\":\"white\",\"hover_fill_color\":\"lightgray\"}}}}}}}},{\"type\":\"object\",\"name\":\"ResetTool\",\"id\":\"02250f15-9750-4f76-b777-97564623d3b7\"}],\"active_drag\":{\"id\":\"c6c24dbf-177c-4261-8540-a7948f2e99ee\"},\"active_scroll\":{\"id\":\"28ad0529-71c6-4d01-868f-97605b931799\"}}},\"left\":[{\"type\":\"object\",\"name\":\"CategoricalAxis\",\"id\":\"f6d138f5-dd0a-4da7-85de-17a0045f9f08\",\"attributes\":{\"ticker\":{\"type\":\"object\",\"name\":\"CategoricalTicker\",\"id\":\"bbc8820e-da2b-4f70-ad6c-d014b8f1a4ff\"},\"formatter\":{\"type\":\"object\",\"name\":\"CategoricalTickFormatter\",\"id\":\"2dd08646-80e2-4280-a608-86809f8137b0\"},\"axis_label\":\"\",\"major_label_policy\":{\"type\":\"object\",\"name\":\"AllLabels\",\"id\":\"899b8a7a-efc5-45c8-8a60-36883e3f4f86\"}}}],\"right\":[{\"type\":\"object\",\"name\":\"ColorBar\",\"id\":\"6b523354-9ee8-4aec-8e1b-8aebdc7489eb\",\"attributes\":{\"location\":[0,0],\"ticker\":{\"type\":\"object\",\"name\":\"BasicTicker\",\"id\":\"b1d4cacf-4f3a-4777-8a5d-767984c79f4e\",\"attributes\":{\"mantissas\":[1,2,5]}},\"major_label_policy\":{\"type\":\"object\",\"name\":\"NoOverlap\",\"id\":\"4fb7e0eb-96f5-44cb-9884-ee0422617522\"},\"label_standoff\":8,\"major_tick_line_color\":\"black\",\"bar_line_color\":\"black\",\"color_mapper\":{\"id\":\"5915dee5-7165-4f12-80df-57165c2c8286\"}}}],\"below\":[{\"type\":\"object\",\"name\":\"CategoricalAxis\",\"id\":\"df70610a-e1b2-4aab-a5a8-42663e6328e9\",\"attributes\":{\"ticker\":{\"type\":\"object\",\"name\":\"CategoricalTicker\",\"id\":\"70ad054b-fe5a-49ee-9b19-8c1d35e0cc8d\"},\"formatter\":{\"type\":\"object\",\"name\":\"CategoricalTickFormatter\",\"id\":\"acfa51fa-1497-4513-a8c0-9d55a5be9bfd\"},\"axis_label\":\"\",\"major_label_policy\":{\"type\":\"object\",\"name\":\"AllLabels\",\"id\":\"28f2c1b0-ff3c-435c-8a7e-ac55e5fe0cd1\"}}}],\"center\":[{\"type\":\"object\",\"name\":\"Grid\",\"id\":\"43639ad8-4fd3-404d-a267-a4f6187490dd\",\"attributes\":{\"axis\":{\"id\":\"df70610a-e1b2-4aab-a5a8-42663e6328e9\"},\"grid_line_color\":null}},{\"type\":\"object\",\"name\":\"Grid\",\"id\":\"b04dccad-021c-4a88-b51b-f5d2ec61e0db\",\"attributes\":{\"dimension\":1,\"axis\":{\"id\":\"f6d138f5-dd0a-4da7-85de-17a0045f9f08\"},\"grid_line_color\":null}}],\"min_border_top\":10,\"min_border_bottom\":10,\"min_border_left\":10,\"min_border_right\":10,\"output_backend\":\"webgl\"}},{\"type\":\"object\",\"name\":\"Spacer\",\"id\":\"4049aa7d-7058-4178-b594-cd00e50ce1bd\",\"attributes\":{\"name\":\"HSpacer00601\",\"stylesheets\":[\"\\n:host(.pn-loading):before, .pn-loading:before {\\n  background-color: #c3c3c3;\\n  mask-size: auto calc(min(50%, 400px));\\n  -webkit-mask-size: auto calc(min(50%, 400px));\\n}\",{\"id\":\"e8a09daa-6681-4436-9f94-dc84e6ea1085\"},{\"id\":\"ae29dcb8-3fbd-4f71-9eb6-d024dc2a60bc\"},{\"id\":\"6d10faec-413c-4f53-bbbe-ea54e2b06d78\"}],\"min_width\":0,\"margin\":0,\"sizing_mode\":\"stretch_width\",\"align\":\"start\"}}]}}],\"defs\":[{\"type\":\"model\",\"name\":\"ReactiveHTML1\"},{\"type\":\"model\",\"name\":\"FlexBox1\",\"properties\":[{\"name\":\"align_content\",\"kind\":\"Any\",\"default\":\"flex-start\"},{\"name\":\"align_items\",\"kind\":\"Any\",\"default\":\"flex-start\"},{\"name\":\"flex_direction\",\"kind\":\"Any\",\"default\":\"row\"},{\"name\":\"flex_wrap\",\"kind\":\"Any\",\"default\":\"wrap\"},{\"name\":\"gap\",\"kind\":\"Any\",\"default\":\"\"},{\"name\":\"justify_content\",\"kind\":\"Any\",\"default\":\"flex-start\"}]},{\"type\":\"model\",\"name\":\"FloatPanel1\",\"properties\":[{\"name\":\"config\",\"kind\":\"Any\",\"default\":{\"type\":\"map\"}},{\"name\":\"contained\",\"kind\":\"Any\",\"default\":true},{\"name\":\"position\",\"kind\":\"Any\",\"default\":\"right-top\"},{\"name\":\"offsetx\",\"kind\":\"Any\",\"default\":null},{\"name\":\"offsety\",\"kind\":\"Any\",\"default\":null},{\"name\":\"theme\",\"kind\":\"Any\",\"default\":\"primary\"},{\"name\":\"status\",\"kind\":\"Any\",\"default\":\"normalized\"}]},{\"type\":\"model\",\"name\":\"GridStack1\",\"properties\":[{\"name\":\"ncols\",\"kind\":\"Any\",\"default\":null},{\"name\":\"nrows\",\"kind\":\"Any\",\"default\":null},{\"name\":\"allow_resize\",\"kind\":\"Any\",\"default\":true},{\"name\":\"allow_drag\",\"kind\":\"Any\",\"default\":true},{\"name\":\"state\",\"kind\":\"Any\",\"default\":[]}]},{\"type\":\"model\",\"name\":\"drag1\",\"properties\":[{\"name\":\"slider_width\",\"kind\":\"Any\",\"default\":5},{\"name\":\"slider_color\",\"kind\":\"Any\",\"default\":\"black\"},{\"name\":\"value\",\"kind\":\"Any\",\"default\":50}]},{\"type\":\"model\",\"name\":\"click1\",\"properties\":[{\"name\":\"terminal_output\",\"kind\":\"Any\",\"default\":\"\"},{\"name\":\"debug_name\",\"kind\":\"Any\",\"default\":\"\"},{\"name\":\"clears\",\"kind\":\"Any\",\"default\":0}]},{\"type\":\"model\",\"name\":\"FastWrapper1\",\"properties\":[{\"name\":\"object\",\"kind\":\"Any\",\"default\":null},{\"name\":\"style\",\"kind\":\"Any\",\"default\":null}]},{\"type\":\"model\",\"name\":\"NotificationArea1\",\"properties\":[{\"name\":\"js_events\",\"kind\":\"Any\",\"default\":{\"type\":\"map\"}},{\"name\":\"max_notifications\",\"kind\":\"Any\",\"default\":5},{\"name\":\"notifications\",\"kind\":\"Any\",\"default\":[]},{\"name\":\"position\",\"kind\":\"Any\",\"default\":\"bottom-right\"},{\"name\":\"_clear\",\"kind\":\"Any\",\"default\":0},{\"name\":\"types\",\"kind\":\"Any\",\"default\":[{\"type\":\"map\",\"entries\":[[\"type\",\"warning\"],[\"background\",\"#ffc107\"],[\"icon\",{\"type\":\"map\",\"entries\":[[\"className\",\"fas fa-exclamation-triangle\"],[\"tagName\",\"i\"],[\"color\",\"white\"]]}]]},{\"type\":\"map\",\"entries\":[[\"type\",\"info\"],[\"background\",\"#007bff\"],[\"icon\",{\"type\":\"map\",\"entries\":[[\"className\",\"fas fa-info-circle\"],[\"tagName\",\"i\"],[\"color\",\"white\"]]}]]}]}]},{\"type\":\"model\",\"name\":\"Notification\",\"properties\":[{\"name\":\"background\",\"kind\":\"Any\",\"default\":null},{\"name\":\"duration\",\"kind\":\"Any\",\"default\":3000},{\"name\":\"icon\",\"kind\":\"Any\",\"default\":null},{\"name\":\"message\",\"kind\":\"Any\",\"default\":\"\"},{\"name\":\"notification_type\",\"kind\":\"Any\",\"default\":null},{\"name\":\"_rendered\",\"kind\":\"Any\",\"default\":false},{\"name\":\"_destroyed\",\"kind\":\"Any\",\"default\":false}]},{\"type\":\"model\",\"name\":\"TemplateActions1\",\"properties\":[{\"name\":\"open_modal\",\"kind\":\"Any\",\"default\":0},{\"name\":\"close_modal\",\"kind\":\"Any\",\"default\":0}]},{\"type\":\"model\",\"name\":\"BootstrapTemplateActions1\",\"properties\":[{\"name\":\"open_modal\",\"kind\":\"Any\",\"default\":0},{\"name\":\"close_modal\",\"kind\":\"Any\",\"default\":0}]},{\"type\":\"model\",\"name\":\"TemplateEditor1\",\"properties\":[{\"name\":\"layout\",\"kind\":\"Any\",\"default\":[]}]},{\"type\":\"model\",\"name\":\"MaterialTemplateActions1\",\"properties\":[{\"name\":\"open_modal\",\"kind\":\"Any\",\"default\":0},{\"name\":\"close_modal\",\"kind\":\"Any\",\"default\":0}]},{\"type\":\"model\",\"name\":\"ReactiveESM1\",\"properties\":[{\"name\":\"esm_constants\",\"kind\":\"Any\",\"default\":{\"type\":\"map\"}}]},{\"type\":\"model\",\"name\":\"JSComponent1\",\"properties\":[{\"name\":\"esm_constants\",\"kind\":\"Any\",\"default\":{\"type\":\"map\"}}]},{\"type\":\"model\",\"name\":\"ReactComponent1\",\"properties\":[{\"name\":\"esm_constants\",\"kind\":\"Any\",\"default\":{\"type\":\"map\"}}]},{\"type\":\"model\",\"name\":\"AnyWidgetComponent1\",\"properties\":[{\"name\":\"esm_constants\",\"kind\":\"Any\",\"default\":{\"type\":\"map\"}}]},{\"type\":\"model\",\"name\":\"request_value1\",\"properties\":[{\"name\":\"fill\",\"kind\":\"Any\",\"default\":\"none\"},{\"name\":\"_synced\",\"kind\":\"Any\",\"default\":null},{\"name\":\"_request_sync\",\"kind\":\"Any\",\"default\":0}]}]}};\n",
       "  var render_items = [{\"docid\":\"b271ebb1-24a0-4ab8-ade0-3e8e6c7317c4\",\"roots\":{\"be329ba1-9b03-47c1-b293-0e7889211321\":\"e7cc647c-6561-4d03-944f-14084563efa1\"},\"root_ids\":[\"be329ba1-9b03-47c1-b293-0e7889211321\"]}];\n",
       "  var docs = Object.values(docs_json)\n",
       "  if (!docs) {\n",
       "    return\n",
       "  }\n",
       "  const py_version = docs[0].version.replace('rc', '-rc.').replace('.dev', '-dev.')\n",
       "  async function embed_document(root) {\n",
       "    var Bokeh = get_bokeh(root)\n",
       "    await Bokeh.embed.embed_items_notebook(docs_json, render_items);\n",
       "    for (const render_item of render_items) {\n",
       "      for (const root_id of render_item.root_ids) {\n",
       "\tconst id_el = document.getElementById(root_id)\n",
       "\tif (id_el.children.length && id_el.children[0].hasAttribute('data-root-id')) {\n",
       "\t  const root_el = id_el.children[0]\n",
       "\t  root_el.id = root_el.id + '-rendered'\n",
       "\t  for (const child of root_el.children) {\n",
       "            // Ensure JupyterLab does not capture keyboard shortcuts\n",
       "            // see: https://jupyterlab.readthedocs.io/en/4.1.x/extension/notebook.html#keyboard-interaction-model\n",
       "\t    child.setAttribute('data-lm-suppress-shortcuts', 'true')\n",
       "\t  }\n",
       "\t}\n",
       "      }\n",
       "    }\n",
       "  }\n",
       "  function get_bokeh(root) {\n",
       "    if (root.Bokeh === undefined) {\n",
       "      return null\n",
       "    } else if (root.Bokeh.version !== py_version) {\n",
       "      if (root.Bokeh.versions === undefined || !root.Bokeh.versions.has(py_version)) {\n",
       "\treturn null\n",
       "      }\n",
       "      return root.Bokeh.versions.get(py_version);\n",
       "    } else if (root.Bokeh.version === py_version) {\n",
       "      return root.Bokeh\n",
       "    }\n",
       "    return null\n",
       "  }\n",
       "  function is_loaded(root) {\n",
       "    var Bokeh = get_bokeh(root)\n",
       "    return (Bokeh != null && Bokeh.Panel !== undefined)\n",
       "  }\n",
       "  if (is_loaded(root)) {\n",
       "    embed_document(root);\n",
       "  } else {\n",
       "    var attempts = 0;\n",
       "    var timer = setInterval(function(root) {\n",
       "      if (is_loaded(root)) {\n",
       "        clearInterval(timer);\n",
       "        embed_document(root);\n",
       "      } else if (document.readyState == \"complete\") {\n",
       "        attempts++;\n",
       "        if (attempts > 200) {\n",
       "          clearInterval(timer);\n",
       "\t  var Bokeh = get_bokeh(root)\n",
       "\t  if (Bokeh == null || Bokeh.Panel == null) {\n",
       "            console.warn(\"Panel: ERROR: Unable to run Panel code because Bokeh or Panel library is missing\");\n",
       "\t  } else {\n",
       "\t    console.warn(\"Panel: WARNING: Attempting to render but not all required libraries could be resolved.\")\n",
       "\t    embed_document(root)\n",
       "\t  }\n",
       "        }\n",
       "      }\n",
       "    }, 25, root)\n",
       "  }\n",
       "})(window);</script>"
      ],
      "text/plain": [
       ":HeatMap   [columns,index]   (value)"
      ]
     },
     "execution_count": 9,
     "metadata": {
      "application/vnd.holoviews_exec.v0+json": {
       "id": "be329ba1-9b03-47c1-b293-0e7889211321"
      }
     },
     "output_type": "execute_result"
    }
   ],
   "source": [
    "# Produce Presynaptic Connection Matrices\n",
    "\n",
    "conn_df = presynaptic_df\n",
    "\n",
    "#inputs\n",
    "\n",
    "#group_cols= ('bodyId_pre', 'type_post')\n",
    "group_cols = ('type_pre', 'type_post')\n",
    "weight_col = 'weight'\n",
    "sort_by = 'type'\n",
    "make_square=False\n",
    "\n",
    "if isinstance(group_cols, str):\n",
    "    group_cols = (f\"{group_cols}_pre\", f\"{group_cols}_post\")\n",
    "\n",
    "assert len(group_cols) == 2, \\\n",
    "        \"Please provide two group_cols (e.g. 'bodyId_pre', 'bodyId_post')\"\n",
    "\n",
    "assert group_cols[0] in conn_df, \\\n",
    "    f\"Column missing: {group_cols[0]}\"\n",
    "\n",
    "assert group_cols[1] in conn_df, \\\n",
    "        f\"Column missing: {group_cols[1]}\"\n",
    "\n",
    "assert weight_col in conn_df, \\\n",
    "        f\"Column missing: {weight_col}\"\n",
    "\n",
    "col_pre, col_post = group_cols\n",
    "dtype = conn_df[weight_col].dtype\n",
    "\n",
    "agg_weights_df = conn_df.groupby([col_pre, col_post], sort=False)[weight_col].sum().reset_index()\n",
    "matrix = agg_weights_df.pivot(index = col_pre, columns = col_post, values = weight_col)\n",
    "matrix.iloc[:10, :10]\n",
    "\n",
    "\n",
    "if sort_by:\n",
    "    if isinstance(sort_by, str):\n",
    "            sort_by = (f\"{sort_by}_pre\", f\"{sort_by}_post\")\n",
    "\n",
    "    assert len(sort_by) == 2, \\\n",
    "            \"Please provide two sort_by column names (e.g. 'type_pre', 'type_post')\"\n",
    "\n",
    "    pre_order = conn_df.sort_values(sort_by[0])[col_pre].unique()\n",
    "    post_order = conn_df.sort_values(sort_by[1])[col_post].unique()\n",
    "    matrix = matrix.reindex(index=pre_order, columns=post_order)\n",
    "else:\n",
    "    # No sort: Keep the order as close to the input order as possible.\n",
    "    pre_order = conn_df[col_pre].unique()\n",
    "    post_order = conn_df[col_post].unique()\n",
    "    matrix = matrix.reindex(index=pre_order, columns=post_order)\n",
    "\n",
    "if make_square:\n",
    "        matrix, _ = matrix.align(matrix.T).fillna(0.0).astype(matrix.dtype)\n",
    "        matrix = matrix.rename_axis('bodyId_pre', axis=0).rename_axis('bodyId_post', axis=1)\n",
    "        matrix = matrix.loc[sorted(matrix.index), sorted(matrix.columns)]\n",
    "\n",
    "matrix.iloc[:10, :10]\n",
    "\n",
    "matrix.index = matrix.index.astype(str)\n",
    "matrix.columns = matrix.columns.astype(str)\n",
    "matrix.hvplot.heatmap(height=800, width=800)\n",
    "\n",
    "hm = matrix.hvplot.heatmap(height=600, width=1050)\n",
    "hm * hv.Labels(hm).opts(padding=0)\n",
    "hm.opts(clim=(50, 500))"
   ]
  },
  {
   "cell_type": "code",
   "execution_count": 10,
   "id": "c02be099-6459-489e-b6e5-ef1a43aea1b2",
   "metadata": {
    "execution": {
     "iopub.execute_input": "2024-05-27T19:47:17.247101Z",
     "iopub.status.busy": "2024-05-27T19:47:17.246546Z",
     "iopub.status.idle": "2024-05-27T19:48:02.521699Z",
     "shell.execute_reply": "2024-05-27T19:48:02.521371Z",
     "shell.execute_reply.started": "2024-05-27T19:47:17.247071Z"
    },
    "lines_to_next_cell": 2
   },
   "outputs": [
    {
     "name": "stdout",
     "output_type": "stream",
     "text": [
      "synapse connection fetched with 0.5 confidence threshold\n"
     ]
    },
    {
     "data": {
      "application/vnd.jupyter.widget-view+json": {
       "model_id": "119e2077861f40f099914d72ecb7cea9",
       "version_major": 2,
       "version_minor": 0
      },
      "text/plain": [
       "  0%|          | 0/2 [00:00<?, ?it/s]"
      ]
     },
     "metadata": {},
     "output_type": "display_data"
    },
    {
     "data": {
      "application/vnd.jupyter.widget-view+json": {
       "model_id": "acb48fd4f3254b8cb0b433d6728ea890",
       "version_major": 2,
       "version_minor": 0
      },
      "text/plain": [
       "  0%|          | 0/254873 [00:00<?, ?it/s]"
      ]
     },
     "metadata": {},
     "output_type": "display_data"
    },
    {
     "data": {
      "application/vnd.jupyter.widget-view+json": {
       "model_id": "35a4faa6792e40afa989d6ddf58b7baf",
       "version_major": 2,
       "version_minor": 0
      },
      "text/plain": [
       "  0%|          | 0/2 [00:00<?, ?it/s]"
      ]
     },
     "metadata": {},
     "output_type": "display_data"
    },
    {
     "data": {
      "application/vnd.jupyter.widget-view+json": {
       "model_id": "13d1fff9f9214bc888150a384039e486",
       "version_major": 2,
       "version_minor": 0
      },
      "text/plain": [
       "  0%|          | 0/2 [00:00<?, ?it/s]"
      ]
     },
     "metadata": {},
     "output_type": "display_data"
    },
    {
     "data": {
      "application/vnd.jupyter.widget-view+json": {
       "model_id": "82019cbb81c440a8afc5bc168bef0c5d",
       "version_major": 2,
       "version_minor": 0
      },
      "text/plain": [
       "  0%|          | 0/2 [00:00<?, ?it/s]"
      ]
     },
     "metadata": {},
     "output_type": "display_data"
    },
    {
     "data": {
      "application/vnd.jupyter.widget-view+json": {
       "model_id": "2b4def8b0f564e1dbe968050f23da302",
       "version_major": 2,
       "version_minor": 0
      },
      "text/plain": [
       "  0%|          | 0/2 [00:00<?, ?it/s]"
      ]
     },
     "metadata": {},
     "output_type": "display_data"
    },
    {
     "data": {
      "application/vnd.jupyter.widget-view+json": {
       "model_id": "4a331dd8afe6408fad63ab47153da901",
       "version_major": 2,
       "version_minor": 0
      },
      "text/plain": [
       "  0%|          | 0/2 [00:00<?, ?it/s]"
      ]
     },
     "metadata": {},
     "output_type": "display_data"
    },
    {
     "data": {
      "application/vnd.jupyter.widget-view+json": {
       "model_id": "02064c7e5b59414a9cbf75c5e5e14800",
       "version_major": 2,
       "version_minor": 0
      },
      "text/plain": [
       "  0%|          | 0/2 [00:00<?, ?it/s]"
      ]
     },
     "metadata": {},
     "output_type": "display_data"
    },
    {
     "data": {
      "application/vnd.jupyter.widget-view+json": {
       "model_id": "c533b48d8b6346e0acc64c86d8f4ad32",
       "version_major": 2,
       "version_minor": 0
      },
      "text/plain": [
       "  0%|          | 0/2 [00:00<?, ?it/s]"
      ]
     },
     "metadata": {},
     "output_type": "display_data"
    },
    {
     "data": {
      "application/vnd.jupyter.widget-view+json": {
       "model_id": "ad02a5dbd6d94391b91f91d0260067a1",
       "version_major": 2,
       "version_minor": 0
      },
      "text/plain": [
       "  0%|          | 0/2 [00:00<?, ?it/s]"
      ]
     },
     "metadata": {},
     "output_type": "display_data"
    },
    {
     "data": {
      "application/vnd.jupyter.widget-view+json": {
       "model_id": "a16b7cd54da240ea96734ac37b9448b7",
       "version_major": 2,
       "version_minor": 0
      },
      "text/plain": [
       "  0%|          | 0/2 [00:00<?, ?it/s]"
      ]
     },
     "metadata": {},
     "output_type": "display_data"
    },
    {
     "data": {
      "application/vnd.jupyter.widget-view+json": {
       "model_id": "680cd51cf0d04d32a6983d656b484a7e",
       "version_major": 2,
       "version_minor": 0
      },
      "text/plain": [
       "  0%|          | 0/2 [00:00<?, ?it/s]"
      ]
     },
     "metadata": {},
     "output_type": "display_data"
    },
    {
     "data": {
      "application/vnd.jupyter.widget-view+json": {
       "model_id": "ce87af7ed956474aa4b5b704e88956f4",
       "version_major": 2,
       "version_minor": 0
      },
      "text/plain": [
       "  0%|          | 0/2 [00:00<?, ?it/s]"
      ]
     },
     "metadata": {},
     "output_type": "display_data"
    },
    {
     "data": {
      "application/vnd.jupyter.widget-view+json": {
       "model_id": "01fb2b214fc748c6a2c5cfe3ea763e60",
       "version_major": 2,
       "version_minor": 0
      },
      "text/plain": [
       "  0%|          | 0/2 [00:00<?, ?it/s]"
      ]
     },
     "metadata": {},
     "output_type": "display_data"
    },
    {
     "data": {
      "application/vnd.jupyter.widget-view+json": {
       "model_id": "3a64ff7d91704902a3327576074e9fe2",
       "version_major": 2,
       "version_minor": 0
      },
      "text/plain": [
       "  0%|          | 0/2 [00:00<?, ?it/s]"
      ]
     },
     "metadata": {},
     "output_type": "display_data"
    },
    {
     "data": {
      "application/vnd.jupyter.widget-view+json": {
       "model_id": "be4e3cfb7d574a3382108a9ff0901033",
       "version_major": 2,
       "version_minor": 0
      },
      "text/plain": [
       "  0%|          | 0/2 [00:00<?, ?it/s]"
      ]
     },
     "metadata": {},
     "output_type": "display_data"
    },
    {
     "data": {
      "application/vnd.jupyter.widget-view+json": {
       "model_id": "8889cb05a2a64be08bfda66853278849",
       "version_major": 2,
       "version_minor": 0
      },
      "text/plain": [
       "  0%|          | 0/2 [00:00<?, ?it/s]"
      ]
     },
     "metadata": {},
     "output_type": "display_data"
    },
    {
     "data": {
      "application/vnd.jupyter.widget-view+json": {
       "model_id": "3296db2832294a04a805bc952d8ae77b",
       "version_major": 2,
       "version_minor": 0
      },
      "text/plain": [
       "  0%|          | 0/2 [00:00<?, ?it/s]"
      ]
     },
     "metadata": {},
     "output_type": "display_data"
    },
    {
     "data": {
      "application/vnd.jupyter.widget-view+json": {
       "model_id": "97976ee1408540109c28ed27c7545a4c",
       "version_major": 2,
       "version_minor": 0
      },
      "text/plain": [
       "  0%|          | 0/2 [00:00<?, ?it/s]"
      ]
     },
     "metadata": {},
     "output_type": "display_data"
    },
    {
     "data": {
      "application/vnd.jupyter.widget-view+json": {
       "model_id": "6861fb7f30aa43c1a60f857cec3e5857",
       "version_major": 2,
       "version_minor": 0
      },
      "text/plain": [
       "  0%|          | 0/2 [00:00<?, ?it/s]"
      ]
     },
     "metadata": {},
     "output_type": "display_data"
    },
    {
     "data": {
      "application/vnd.jupyter.widget-view+json": {
       "model_id": "e4fc304d77b047e7865038040d692246",
       "version_major": 2,
       "version_minor": 0
      },
      "text/plain": [
       "  0%|          | 0/2 [00:00<?, ?it/s]"
      ]
     },
     "metadata": {},
     "output_type": "display_data"
    },
    {
     "data": {
      "application/vnd.jupyter.widget-view+json": {
       "model_id": "1a8339f5b8ad4aee83ba84f3ce5c6d2c",
       "version_major": 2,
       "version_minor": 0
      },
      "text/plain": [
       "  0%|          | 0/2 [00:00<?, ?it/s]"
      ]
     },
     "metadata": {},
     "output_type": "display_data"
    },
    {
     "data": {
      "application/vnd.jupyter.widget-view+json": {
       "model_id": "bc53c13ca0b6467893cb6124f12d2136",
       "version_major": 2,
       "version_minor": 0
      },
      "text/plain": [
       "  0%|          | 0/2 [00:00<?, ?it/s]"
      ]
     },
     "metadata": {},
     "output_type": "display_data"
    },
    {
     "data": {
      "application/vnd.jupyter.widget-view+json": {
       "model_id": "298604bbcc06455094ca8d36bb6ac2c8",
       "version_major": 2,
       "version_minor": 0
      },
      "text/plain": [
       "  0%|          | 0/2 [00:00<?, ?it/s]"
      ]
     },
     "metadata": {},
     "output_type": "display_data"
    },
    {
     "data": {
      "application/vnd.jupyter.widget-view+json": {
       "model_id": "44a5944e6e6f407ab1c09592f4cf99e8",
       "version_major": 2,
       "version_minor": 0
      },
      "text/plain": [
       "  0%|          | 0/2 [00:00<?, ?it/s]"
      ]
     },
     "metadata": {},
     "output_type": "display_data"
    },
    {
     "data": {
      "application/vnd.jupyter.widget-view+json": {
       "model_id": "515df9738dcb4ddd9b457a9bac6e126f",
       "version_major": 2,
       "version_minor": 0
      },
      "text/plain": [
       "  0%|          | 0/2 [00:00<?, ?it/s]"
      ]
     },
     "metadata": {},
     "output_type": "display_data"
    },
    {
     "data": {
      "application/vnd.jupyter.widget-view+json": {
       "model_id": "ae7b4bd8933c443a939781079c2de43c",
       "version_major": 2,
       "version_minor": 0
      },
      "text/plain": [
       "  0%|          | 0/2 [00:00<?, ?it/s]"
      ]
     },
     "metadata": {},
     "output_type": "display_data"
    },
    {
     "data": {
      "application/vnd.jupyter.widget-view+json": {
       "model_id": "cd00fbdea85c4e6f9b29ac8d92e68ba3",
       "version_major": 2,
       "version_minor": 0
      },
      "text/plain": [
       "  0%|          | 0/2 [00:00<?, ?it/s]"
      ]
     },
     "metadata": {},
     "output_type": "display_data"
    },
    {
     "data": {
      "application/vnd.jupyter.widget-view+json": {
       "model_id": "35788e90673944d8ab0b794cd432fb82",
       "version_major": 2,
       "version_minor": 0
      },
      "text/plain": [
       "  0%|          | 0/2 [00:00<?, ?it/s]"
      ]
     },
     "metadata": {},
     "output_type": "display_data"
    },
    {
     "data": {
      "application/vnd.jupyter.widget-view+json": {
       "model_id": "d9372047dc014b4eb35b939ab9e59fda",
       "version_major": 2,
       "version_minor": 0
      },
      "text/plain": [
       "  0%|          | 0/2 [00:00<?, ?it/s]"
      ]
     },
     "metadata": {},
     "output_type": "display_data"
    },
    {
     "data": {
      "application/vnd.jupyter.widget-view+json": {
       "model_id": "45c36a9ef069413387b749b7616d08f6",
       "version_major": 2,
       "version_minor": 0
      },
      "text/plain": [
       "  0%|          | 0/2 [00:00<?, ?it/s]"
      ]
     },
     "metadata": {},
     "output_type": "display_data"
    },
    {
     "data": {
      "application/vnd.jupyter.widget-view+json": {
       "model_id": "c9280f1f214743838021949270030900",
       "version_major": 2,
       "version_minor": 0
      },
      "text/plain": [
       "  0%|          | 0/2 [00:00<?, ?it/s]"
      ]
     },
     "metadata": {},
     "output_type": "display_data"
    },
    {
     "data": {
      "application/vnd.jupyter.widget-view+json": {
       "model_id": "b57dc7cd41a9475fbd0fcf9569e328e8",
       "version_major": 2,
       "version_minor": 0
      },
      "text/plain": [
       "  0%|          | 0/2 [00:00<?, ?it/s]"
      ]
     },
     "metadata": {},
     "output_type": "display_data"
    },
    {
     "data": {
      "application/vnd.jupyter.widget-view+json": {
       "model_id": "4d941ac9b15d4d4695312fbf3aa073ec",
       "version_major": 2,
       "version_minor": 0
      },
      "text/plain": [
       "  0%|          | 0/2 [00:00<?, ?it/s]"
      ]
     },
     "metadata": {},
     "output_type": "display_data"
    },
    {
     "data": {
      "application/vnd.jupyter.widget-view+json": {
       "model_id": "d531c9483a284ff4b34c6e19cea747be",
       "version_major": 2,
       "version_minor": 0
      },
      "text/plain": [
       "  0%|          | 0/2 [00:00<?, ?it/s]"
      ]
     },
     "metadata": {},
     "output_type": "display_data"
    },
    {
     "data": {
      "application/vnd.jupyter.widget-view+json": {
       "model_id": "8840629640964e518576558a1599fe0b",
       "version_major": 2,
       "version_minor": 0
      },
      "text/plain": [
       "  0%|          | 0/2 [00:00<?, ?it/s]"
      ]
     },
     "metadata": {},
     "output_type": "display_data"
    },
    {
     "data": {
      "application/vnd.jupyter.widget-view+json": {
       "model_id": "9cc65cf6e52944fdac798f90e3ef5aae",
       "version_major": 2,
       "version_minor": 0
      },
      "text/plain": [
       "  0%|          | 0/2 [00:00<?, ?it/s]"
      ]
     },
     "metadata": {},
     "output_type": "display_data"
    },
    {
     "data": {
      "application/vnd.jupyter.widget-view+json": {
       "model_id": "6cd47b1d596d4dfc936d6c555599aaa8",
       "version_major": 2,
       "version_minor": 0
      },
      "text/plain": [
       "  0%|          | 0/2 [00:00<?, ?it/s]"
      ]
     },
     "metadata": {},
     "output_type": "display_data"
    },
    {
     "data": {
      "application/vnd.jupyter.widget-view+json": {
       "model_id": "e7ad99a73c3d44ae866df609349012bd",
       "version_major": 2,
       "version_minor": 0
      },
      "text/plain": [
       "  0%|          | 0/2 [00:00<?, ?it/s]"
      ]
     },
     "metadata": {},
     "output_type": "display_data"
    },
    {
     "data": {
      "application/vnd.jupyter.widget-view+json": {
       "model_id": "2a75822f6a414c29a402c2261c1a9b7b",
       "version_major": 2,
       "version_minor": 0
      },
      "text/plain": [
       "  0%|          | 0/2 [00:00<?, ?it/s]"
      ]
     },
     "metadata": {},
     "output_type": "display_data"
    },
    {
     "data": {
      "application/vnd.jupyter.widget-view+json": {
       "model_id": "63e6db537a0c4903b463466a68d9981d",
       "version_major": 2,
       "version_minor": 0
      },
      "text/plain": [
       "  0%|          | 0/2 [00:00<?, ?it/s]"
      ]
     },
     "metadata": {},
     "output_type": "display_data"
    },
    {
     "data": {
      "application/vnd.jupyter.widget-view+json": {
       "model_id": "3cb959ee146642aa95e317be382480f3",
       "version_major": 2,
       "version_minor": 0
      },
      "text/plain": [
       "  0%|          | 0/2 [00:00<?, ?it/s]"
      ]
     },
     "metadata": {},
     "output_type": "display_data"
    },
    {
     "data": {
      "application/vnd.jupyter.widget-view+json": {
       "model_id": "936060ef4dd14323a0da3c2c634fb8a6",
       "version_major": 2,
       "version_minor": 0
      },
      "text/plain": [
       "  0%|          | 0/2 [00:00<?, ?it/s]"
      ]
     },
     "metadata": {},
     "output_type": "display_data"
    },
    {
     "data": {
      "application/vnd.jupyter.widget-view+json": {
       "model_id": "3749dfe5480a4c2eae528e8ca3c5ad82",
       "version_major": 2,
       "version_minor": 0
      },
      "text/plain": [
       "  0%|          | 0/2 [00:00<?, ?it/s]"
      ]
     },
     "metadata": {},
     "output_type": "display_data"
    },
    {
     "data": {
      "application/vnd.jupyter.widget-view+json": {
       "model_id": "f7614d2bc3874a7fa19475447e0f3bec",
       "version_major": 2,
       "version_minor": 0
      },
      "text/plain": [
       "  0%|          | 0/2 [00:00<?, ?it/s]"
      ]
     },
     "metadata": {},
     "output_type": "display_data"
    },
    {
     "data": {
      "application/vnd.jupyter.widget-view+json": {
       "model_id": "c9f623112f3942659dc588f5642db4b5",
       "version_major": 2,
       "version_minor": 0
      },
      "text/plain": [
       "  0%|          | 0/2 [00:00<?, ?it/s]"
      ]
     },
     "metadata": {},
     "output_type": "display_data"
    },
    {
     "data": {
      "application/vnd.jupyter.widget-view+json": {
       "model_id": "4d038db9d87141cca1ed9dfeb3d03c2c",
       "version_major": 2,
       "version_minor": 0
      },
      "text/plain": [
       "  0%|          | 0/2 [00:00<?, ?it/s]"
      ]
     },
     "metadata": {},
     "output_type": "display_data"
    },
    {
     "data": {
      "application/vnd.jupyter.widget-view+json": {
       "model_id": "e598666689f149d0ac0d1fb3301015c8",
       "version_major": 2,
       "version_minor": 0
      },
      "text/plain": [
       "  0%|          | 0/2 [00:00<?, ?it/s]"
      ]
     },
     "metadata": {},
     "output_type": "display_data"
    },
    {
     "data": {
      "application/vnd.jupyter.widget-view+json": {
       "model_id": "5b33af64cefc441991dd7425c6d5d5ab",
       "version_major": 2,
       "version_minor": 0
      },
      "text/plain": [
       "  0%|          | 0/2 [00:00<?, ?it/s]"
      ]
     },
     "metadata": {},
     "output_type": "display_data"
    },
    {
     "data": {
      "application/vnd.jupyter.widget-view+json": {
       "model_id": "f46011343a284831b3a071be84390465",
       "version_major": 2,
       "version_minor": 0
      },
      "text/plain": [
       "  0%|          | 0/2 [00:00<?, ?it/s]"
      ]
     },
     "metadata": {},
     "output_type": "display_data"
    },
    {
     "data": {
      "application/vnd.jupyter.widget-view+json": {
       "model_id": "0c83f9f30efb47dfbff9cbda970a5ff5",
       "version_major": 2,
       "version_minor": 0
      },
      "text/plain": [
       "  0%|          | 0/2 [00:00<?, ?it/s]"
      ]
     },
     "metadata": {},
     "output_type": "display_data"
    },
    {
     "data": {
      "application/vnd.jupyter.widget-view+json": {
       "model_id": "ac4dfee1c5be443981ff072057c0df12",
       "version_major": 2,
       "version_minor": 0
      },
      "text/plain": [
       "  0%|          | 0/2 [00:00<?, ?it/s]"
      ]
     },
     "metadata": {},
     "output_type": "display_data"
    },
    {
     "data": {
      "application/vnd.jupyter.widget-view+json": {
       "model_id": "720af479f73e4d32a63a9b7a2a44bfb4",
       "version_major": 2,
       "version_minor": 0
      },
      "text/plain": [
       "  0%|          | 0/2 [00:00<?, ?it/s]"
      ]
     },
     "metadata": {},
     "output_type": "display_data"
    },
    {
     "data": {
      "application/vnd.jupyter.widget-view+json": {
       "model_id": "982fd1ce4abf47bcb5e1acabf6c9bb8a",
       "version_major": 2,
       "version_minor": 0
      },
      "text/plain": [
       "  0%|          | 0/2 [00:00<?, ?it/s]"
      ]
     },
     "metadata": {},
     "output_type": "display_data"
    },
    {
     "data": {
      "application/vnd.jupyter.widget-view+json": {
       "model_id": "d86c9d6887d642d8b92045a3107fd11f",
       "version_major": 2,
       "version_minor": 0
      },
      "text/plain": [
       "  0%|          | 0/2 [00:00<?, ?it/s]"
      ]
     },
     "metadata": {},
     "output_type": "display_data"
    },
    {
     "data": {
      "application/vnd.jupyter.widget-view+json": {
       "model_id": "4da28b6d238744d6b66de8133d932483",
       "version_major": 2,
       "version_minor": 0
      },
      "text/plain": [
       "  0%|          | 0/2 [00:00<?, ?it/s]"
      ]
     },
     "metadata": {},
     "output_type": "display_data"
    },
    {
     "data": {
      "application/vnd.jupyter.widget-view+json": {
       "model_id": "93f1299ab5684d0aba7c1fa73aa5694a",
       "version_major": 2,
       "version_minor": 0
      },
      "text/plain": [
       "  0%|          | 0/2 [00:00<?, ?it/s]"
      ]
     },
     "metadata": {},
     "output_type": "display_data"
    },
    {
     "data": {
      "application/vnd.jupyter.widget-view+json": {
       "model_id": "fb7b90624497435489204a252c174273",
       "version_major": 2,
       "version_minor": 0
      },
      "text/plain": [
       "  0%|          | 0/2 [00:00<?, ?it/s]"
      ]
     },
     "metadata": {},
     "output_type": "display_data"
    },
    {
     "data": {
      "application/vnd.jupyter.widget-view+json": {
       "model_id": "a7c61f5cc3054e3781410ca802e77dbe",
       "version_major": 2,
       "version_minor": 0
      },
      "text/plain": [
       "  0%|          | 0/2 [00:00<?, ?it/s]"
      ]
     },
     "metadata": {},
     "output_type": "display_data"
    },
    {
     "data": {
      "application/vnd.jupyter.widget-view+json": {
       "model_id": "226454850f3a47b4aa8d8b8dd4d6d22c",
       "version_major": 2,
       "version_minor": 0
      },
      "text/plain": [
       "  0%|          | 0/2 [00:00<?, ?it/s]"
      ]
     },
     "metadata": {},
     "output_type": "display_data"
    },
    {
     "data": {
      "application/vnd.jupyter.widget-view+json": {
       "model_id": "565d8bdf213f45fb83827895eb554fc4",
       "version_major": 2,
       "version_minor": 0
      },
      "text/plain": [
       "  0%|          | 0/2 [00:00<?, ?it/s]"
      ]
     },
     "metadata": {},
     "output_type": "display_data"
    },
    {
     "data": {
      "application/vnd.jupyter.widget-view+json": {
       "model_id": "ee80e64c61d14141b64c78a1cce134c8",
       "version_major": 2,
       "version_minor": 0
      },
      "text/plain": [
       "  0%|          | 0/2 [00:00<?, ?it/s]"
      ]
     },
     "metadata": {},
     "output_type": "display_data"
    },
    {
     "data": {
      "application/vnd.jupyter.widget-view+json": {
       "model_id": "63361abcb1dd494699c27c4b05ef5337",
       "version_major": 2,
       "version_minor": 0
      },
      "text/plain": [
       "  0%|          | 0/2 [00:00<?, ?it/s]"
      ]
     },
     "metadata": {},
     "output_type": "display_data"
    },
    {
     "data": {
      "application/vnd.jupyter.widget-view+json": {
       "model_id": "b4aeca5eefe04203ada206f23fe021c3",
       "version_major": 2,
       "version_minor": 0
      },
      "text/plain": [
       "  0%|          | 0/2 [00:00<?, ?it/s]"
      ]
     },
     "metadata": {},
     "output_type": "display_data"
    },
    {
     "data": {
      "application/vnd.jupyter.widget-view+json": {
       "model_id": "bae694e6efeb4d3aa6fe7157bbf82442",
       "version_major": 2,
       "version_minor": 0
      },
      "text/plain": [
       "  0%|          | 0/2 [00:00<?, ?it/s]"
      ]
     },
     "metadata": {},
     "output_type": "display_data"
    },
    {
     "data": {
      "application/vnd.jupyter.widget-view+json": {
       "model_id": "e30d5d4ef1514458b67f926f603b0519",
       "version_major": 2,
       "version_minor": 0
      },
      "text/plain": [
       "  0%|          | 0/2 [00:00<?, ?it/s]"
      ]
     },
     "metadata": {},
     "output_type": "display_data"
    },
    {
     "data": {
      "application/vnd.jupyter.widget-view+json": {
       "model_id": "88be5eb7bc9a4aeab7e061875e32cb0a",
       "version_major": 2,
       "version_minor": 0
      },
      "text/plain": [
       "  0%|          | 0/2 [00:00<?, ?it/s]"
      ]
     },
     "metadata": {},
     "output_type": "display_data"
    },
    {
     "data": {
      "application/vnd.jupyter.widget-view+json": {
       "model_id": "3a483ecf43ce4c28ac21a51730624574",
       "version_major": 2,
       "version_minor": 0
      },
      "text/plain": [
       "  0%|          | 0/2 [00:00<?, ?it/s]"
      ]
     },
     "metadata": {},
     "output_type": "display_data"
    },
    {
     "data": {
      "application/vnd.jupyter.widget-view+json": {
       "model_id": "d7e24a2f980841918069f8f6038e2147",
       "version_major": 2,
       "version_minor": 0
      },
      "text/plain": [
       "  0%|          | 0/2 [00:00<?, ?it/s]"
      ]
     },
     "metadata": {},
     "output_type": "display_data"
    },
    {
     "data": {
      "application/vnd.jupyter.widget-view+json": {
       "model_id": "126e58231d0344f59dec48ce0b1186c7",
       "version_major": 2,
       "version_minor": 0
      },
      "text/plain": [
       "  0%|          | 0/2 [00:00<?, ?it/s]"
      ]
     },
     "metadata": {},
     "output_type": "display_data"
    },
    {
     "data": {
      "application/vnd.jupyter.widget-view+json": {
       "model_id": "7d68a29798764d679d880ea2375154c1",
       "version_major": 2,
       "version_minor": 0
      },
      "text/plain": [
       "  0%|          | 0/2 [00:00<?, ?it/s]"
      ]
     },
     "metadata": {},
     "output_type": "display_data"
    },
    {
     "data": {
      "application/vnd.jupyter.widget-view+json": {
       "model_id": "068421379a5b4fe0b86fa7123c101a92",
       "version_major": 2,
       "version_minor": 0
      },
      "text/plain": [
       "  0%|          | 0/2 [00:00<?, ?it/s]"
      ]
     },
     "metadata": {},
     "output_type": "display_data"
    },
    {
     "data": {
      "application/vnd.jupyter.widget-view+json": {
       "model_id": "46193fc6cf0143fabe8f0825ee6281e2",
       "version_major": 2,
       "version_minor": 0
      },
      "text/plain": [
       "  0%|          | 0/2 [00:00<?, ?it/s]"
      ]
     },
     "metadata": {},
     "output_type": "display_data"
    },
    {
     "data": {
      "application/vnd.jupyter.widget-view+json": {
       "model_id": "ed0ad2a8c5d24d6e932ff776527cd439",
       "version_major": 2,
       "version_minor": 0
      },
      "text/plain": [
       "  0%|          | 0/2 [00:00<?, ?it/s]"
      ]
     },
     "metadata": {},
     "output_type": "display_data"
    },
    {
     "data": {
      "application/vnd.jupyter.widget-view+json": {
       "model_id": "5ddce0348974499d9e7df3d661c89853",
       "version_major": 2,
       "version_minor": 0
      },
      "text/plain": [
       "  0%|          | 0/2 [00:00<?, ?it/s]"
      ]
     },
     "metadata": {},
     "output_type": "display_data"
    },
    {
     "data": {
      "application/vnd.jupyter.widget-view+json": {
       "model_id": "c8d9f7bf53c648249b66bda5ff1764de",
       "version_major": 2,
       "version_minor": 0
      },
      "text/plain": [
       "  0%|          | 0/2 [00:00<?, ?it/s]"
      ]
     },
     "metadata": {},
     "output_type": "display_data"
    },
    {
     "data": {
      "application/vnd.jupyter.widget-view+json": {
       "model_id": "954690670cf84a0cb2d8e663c7d3201b",
       "version_major": 2,
       "version_minor": 0
      },
      "text/plain": [
       "  0%|          | 0/2 [00:00<?, ?it/s]"
      ]
     },
     "metadata": {},
     "output_type": "display_data"
    },
    {
     "data": {
      "application/vnd.jupyter.widget-view+json": {
       "model_id": "6fdca046a5274062b555ba9040d4bb2c",
       "version_major": 2,
       "version_minor": 0
      },
      "text/plain": [
       "  0%|          | 0/2 [00:00<?, ?it/s]"
      ]
     },
     "metadata": {},
     "output_type": "display_data"
    },
    {
     "data": {
      "application/vnd.jupyter.widget-view+json": {
       "model_id": "1b05549ad9ab4f2f99d16b1ae6470377",
       "version_major": 2,
       "version_minor": 0
      },
      "text/plain": [
       "  0%|          | 0/2 [00:00<?, ?it/s]"
      ]
     },
     "metadata": {},
     "output_type": "display_data"
    },
    {
     "data": {
      "application/vnd.jupyter.widget-view+json": {
       "model_id": "286e4cfaf3404f9198968a0d5d8477bd",
       "version_major": 2,
       "version_minor": 0
      },
      "text/plain": [
       "  0%|          | 0/2 [00:00<?, ?it/s]"
      ]
     },
     "metadata": {},
     "output_type": "display_data"
    },
    {
     "data": {
      "application/vnd.jupyter.widget-view+json": {
       "model_id": "92f1eacff7d14a90a74437c9a61f22b1",
       "version_major": 2,
       "version_minor": 0
      },
      "text/plain": [
       "  0%|          | 0/2 [00:00<?, ?it/s]"
      ]
     },
     "metadata": {},
     "output_type": "display_data"
    },
    {
     "data": {
      "application/vnd.jupyter.widget-view+json": {
       "model_id": "2d7f4b10389446eab857f5d97f063661",
       "version_major": 2,
       "version_minor": 0
      },
      "text/plain": [
       "  0%|          | 0/2 [00:00<?, ?it/s]"
      ]
     },
     "metadata": {},
     "output_type": "display_data"
    },
    {
     "data": {
      "application/vnd.jupyter.widget-view+json": {
       "model_id": "7a548c93df0844399b61d3666f11ce20",
       "version_major": 2,
       "version_minor": 0
      },
      "text/plain": [
       "  0%|          | 0/2 [00:00<?, ?it/s]"
      ]
     },
     "metadata": {},
     "output_type": "display_data"
    },
    {
     "data": {
      "application/vnd.jupyter.widget-view+json": {
       "model_id": "66f7e35680c94510808832f2d87cc89a",
       "version_major": 2,
       "version_minor": 0
      },
      "text/plain": [
       "  0%|          | 0/2 [00:00<?, ?it/s]"
      ]
     },
     "metadata": {},
     "output_type": "display_data"
    },
    {
     "data": {
      "application/vnd.jupyter.widget-view+json": {
       "model_id": "1711d68b13054776ada24a64b946067a",
       "version_major": 2,
       "version_minor": 0
      },
      "text/plain": [
       "  0%|          | 0/2 [00:00<?, ?it/s]"
      ]
     },
     "metadata": {},
     "output_type": "display_data"
    },
    {
     "data": {
      "application/vnd.jupyter.widget-view+json": {
       "model_id": "386bc4aadc4f4d519cac3d73c8b1416f",
       "version_major": 2,
       "version_minor": 0
      },
      "text/plain": [
       "  0%|          | 0/2 [00:00<?, ?it/s]"
      ]
     },
     "metadata": {},
     "output_type": "display_data"
    },
    {
     "data": {
      "application/vnd.jupyter.widget-view+json": {
       "model_id": "7bd60810f6524d20919998f44e962de3",
       "version_major": 2,
       "version_minor": 0
      },
      "text/plain": [
       "  0%|          | 0/2 [00:00<?, ?it/s]"
      ]
     },
     "metadata": {},
     "output_type": "display_data"
    },
    {
     "data": {
      "application/vnd.jupyter.widget-view+json": {
       "model_id": "07135e2a62074c999141fedd67eb9109",
       "version_major": 2,
       "version_minor": 0
      },
      "text/plain": [
       "  0%|          | 0/2 [00:00<?, ?it/s]"
      ]
     },
     "metadata": {},
     "output_type": "display_data"
    },
    {
     "data": {
      "application/vnd.jupyter.widget-view+json": {
       "model_id": "c61d32250c6d41289bc60fe202393aa3",
       "version_major": 2,
       "version_minor": 0
      },
      "text/plain": [
       "  0%|          | 0/2 [00:00<?, ?it/s]"
      ]
     },
     "metadata": {},
     "output_type": "display_data"
    },
    {
     "data": {
      "application/vnd.jupyter.widget-view+json": {
       "model_id": "dace21ca21b040e39902dbf7df190477",
       "version_major": 2,
       "version_minor": 0
      },
      "text/plain": [
       "  0%|          | 0/2 [00:00<?, ?it/s]"
      ]
     },
     "metadata": {},
     "output_type": "display_data"
    },
    {
     "data": {
      "application/vnd.jupyter.widget-view+json": {
       "model_id": "5109f85fea9245d2812ace28a0a95ac9",
       "version_major": 2,
       "version_minor": 0
      },
      "text/plain": [
       "  0%|          | 0/2 [00:00<?, ?it/s]"
      ]
     },
     "metadata": {},
     "output_type": "display_data"
    },
    {
     "data": {
      "application/vnd.jupyter.widget-view+json": {
       "model_id": "6f81c290963145e5a526f4096c3b4cb1",
       "version_major": 2,
       "version_minor": 0
      },
      "text/plain": [
       "  0%|          | 0/2 [00:00<?, ?it/s]"
      ]
     },
     "metadata": {},
     "output_type": "display_data"
    },
    {
     "data": {
      "application/vnd.jupyter.widget-view+json": {
       "model_id": "3172310e02064296b1a05e1380b6f6f3",
       "version_major": 2,
       "version_minor": 0
      },
      "text/plain": [
       "  0%|          | 0/2 [00:00<?, ?it/s]"
      ]
     },
     "metadata": {},
     "output_type": "display_data"
    },
    {
     "data": {
      "application/vnd.jupyter.widget-view+json": {
       "model_id": "4eaf052829164d65aa77981dac5f286c",
       "version_major": 2,
       "version_minor": 0
      },
      "text/plain": [
       "  0%|          | 0/2 [00:00<?, ?it/s]"
      ]
     },
     "metadata": {},
     "output_type": "display_data"
    },
    {
     "data": {
      "application/vnd.jupyter.widget-view+json": {
       "model_id": "092572be27c34de5999ae5f2c3fb07ea",
       "version_major": 2,
       "version_minor": 0
      },
      "text/plain": [
       "  0%|          | 0/2 [00:00<?, ?it/s]"
      ]
     },
     "metadata": {},
     "output_type": "display_data"
    },
    {
     "data": {
      "application/vnd.jupyter.widget-view+json": {
       "model_id": "498f6d660feb4f4ba3c0058e6983497b",
       "version_major": 2,
       "version_minor": 0
      },
      "text/plain": [
       "  0%|          | 0/2 [00:00<?, ?it/s]"
      ]
     },
     "metadata": {},
     "output_type": "display_data"
    },
    {
     "data": {
      "application/vnd.jupyter.widget-view+json": {
       "model_id": "cc91e1d56a884308b443499a678087da",
       "version_major": 2,
       "version_minor": 0
      },
      "text/plain": [
       "  0%|          | 0/2 [00:00<?, ?it/s]"
      ]
     },
     "metadata": {},
     "output_type": "display_data"
    },
    {
     "data": {
      "application/vnd.jupyter.widget-view+json": {
       "model_id": "50e4c5a82db245c88015af8f458e8b0e",
       "version_major": 2,
       "version_minor": 0
      },
      "text/plain": [
       "  0%|          | 0/2 [00:00<?, ?it/s]"
      ]
     },
     "metadata": {},
     "output_type": "display_data"
    },
    {
     "data": {
      "application/vnd.jupyter.widget-view+json": {
       "model_id": "85c3d673c5ee4e45a1834aef7607d1cb",
       "version_major": 2,
       "version_minor": 0
      },
      "text/plain": [
       "  0%|          | 0/2 [00:00<?, ?it/s]"
      ]
     },
     "metadata": {},
     "output_type": "display_data"
    },
    {
     "data": {
      "application/vnd.jupyter.widget-view+json": {
       "model_id": "d89307c4c1874c5aaba8d0728ec0c368",
       "version_major": 2,
       "version_minor": 0
      },
      "text/plain": [
       "  0%|          | 0/2 [00:00<?, ?it/s]"
      ]
     },
     "metadata": {},
     "output_type": "display_data"
    },
    {
     "data": {
      "application/vnd.jupyter.widget-view+json": {
       "model_id": "1764a1a9fb684505babb1cdbeb9b0610",
       "version_major": 2,
       "version_minor": 0
      },
      "text/plain": [
       "  0%|          | 0/2 [00:00<?, ?it/s]"
      ]
     },
     "metadata": {},
     "output_type": "display_data"
    },
    {
     "data": {
      "application/vnd.jupyter.widget-view+json": {
       "model_id": "192cc5373ece475396f7afac451a6695",
       "version_major": 2,
       "version_minor": 0
      },
      "text/plain": [
       "  0%|          | 0/2 [00:00<?, ?it/s]"
      ]
     },
     "metadata": {},
     "output_type": "display_data"
    },
    {
     "data": {
      "application/vnd.jupyter.widget-view+json": {
       "model_id": "fdec246d76774d299325f6487355aaff",
       "version_major": 2,
       "version_minor": 0
      },
      "text/plain": [
       "  0%|          | 0/2 [00:00<?, ?it/s]"
      ]
     },
     "metadata": {},
     "output_type": "display_data"
    },
    {
     "data": {
      "application/vnd.jupyter.widget-view+json": {
       "model_id": "5bdde7f7aa9143cb81e3cb3a95402084",
       "version_major": 2,
       "version_minor": 0
      },
      "text/plain": [
       "  0%|          | 0/2 [00:00<?, ?it/s]"
      ]
     },
     "metadata": {},
     "output_type": "display_data"
    },
    {
     "data": {
      "application/vnd.jupyter.widget-view+json": {
       "model_id": "af2b00c553e24ec89c8f67dba3544c9d",
       "version_major": 2,
       "version_minor": 0
      },
      "text/plain": [
       "  0%|          | 0/2 [00:00<?, ?it/s]"
      ]
     },
     "metadata": {},
     "output_type": "display_data"
    },
    {
     "data": {
      "application/vnd.jupyter.widget-view+json": {
       "model_id": "113187f2306a4f1f8a32c330809595d1",
       "version_major": 2,
       "version_minor": 0
      },
      "text/plain": [
       "  0%|          | 0/2 [00:00<?, ?it/s]"
      ]
     },
     "metadata": {},
     "output_type": "display_data"
    },
    {
     "data": {
      "application/vnd.jupyter.widget-view+json": {
       "model_id": "e2ddfd1e5cbc4d2d87a84de6d8d1c038",
       "version_major": 2,
       "version_minor": 0
      },
      "text/plain": [
       "  0%|          | 0/2 [00:00<?, ?it/s]"
      ]
     },
     "metadata": {},
     "output_type": "display_data"
    },
    {
     "data": {
      "application/vnd.jupyter.widget-view+json": {
       "model_id": "15e7fb445cfc455ba18191ad5b64931a",
       "version_major": 2,
       "version_minor": 0
      },
      "text/plain": [
       "  0%|          | 0/2 [00:00<?, ?it/s]"
      ]
     },
     "metadata": {},
     "output_type": "display_data"
    },
    {
     "data": {
      "application/vnd.jupyter.widget-view+json": {
       "model_id": "702ff44aa4874b48bb254831a7037005",
       "version_major": 2,
       "version_minor": 0
      },
      "text/plain": [
       "  0%|          | 0/2 [00:00<?, ?it/s]"
      ]
     },
     "metadata": {},
     "output_type": "display_data"
    },
    {
     "data": {
      "application/vnd.jupyter.widget-view+json": {
       "model_id": "a4da1e09e2ff4dc79fecc8bb18424d18",
       "version_major": 2,
       "version_minor": 0
      },
      "text/plain": [
       "  0%|          | 0/2 [00:00<?, ?it/s]"
      ]
     },
     "metadata": {},
     "output_type": "display_data"
    },
    {
     "data": {
      "application/vnd.jupyter.widget-view+json": {
       "model_id": "4e7ec295a38b436da5b2d294dde24efd",
       "version_major": 2,
       "version_minor": 0
      },
      "text/plain": [
       "  0%|          | 0/2 [00:00<?, ?it/s]"
      ]
     },
     "metadata": {},
     "output_type": "display_data"
    },
    {
     "data": {
      "application/vnd.jupyter.widget-view+json": {
       "model_id": "d4bd972592a94e8f9052eea371a27118",
       "version_major": 2,
       "version_minor": 0
      },
      "text/plain": [
       "  0%|          | 0/2 [00:00<?, ?it/s]"
      ]
     },
     "metadata": {},
     "output_type": "display_data"
    },
    {
     "data": {
      "application/vnd.jupyter.widget-view+json": {
       "model_id": "2b641484aee24591b8579e8ec664be45",
       "version_major": 2,
       "version_minor": 0
      },
      "text/plain": [
       "  0%|          | 0/2 [00:00<?, ?it/s]"
      ]
     },
     "metadata": {},
     "output_type": "display_data"
    },
    {
     "data": {
      "application/vnd.jupyter.widget-view+json": {
       "model_id": "52e28e5a1d3c41c2a714ddb9bb4a2568",
       "version_major": 2,
       "version_minor": 0
      },
      "text/plain": [
       "  0%|          | 0/2 [00:00<?, ?it/s]"
      ]
     },
     "metadata": {},
     "output_type": "display_data"
    },
    {
     "data": {
      "application/vnd.jupyter.widget-view+json": {
       "model_id": "dcd10f05fe6c4b718540dab252bc6446",
       "version_major": 2,
       "version_minor": 0
      },
      "text/plain": [
       "  0%|          | 0/2 [00:00<?, ?it/s]"
      ]
     },
     "metadata": {},
     "output_type": "display_data"
    },
    {
     "data": {
      "application/vnd.jupyter.widget-view+json": {
       "model_id": "58139e07021b42d5a4dafc42f782aaeb",
       "version_major": 2,
       "version_minor": 0
      },
      "text/plain": [
       "  0%|          | 0/2 [00:00<?, ?it/s]"
      ]
     },
     "metadata": {},
     "output_type": "display_data"
    },
    {
     "data": {
      "application/vnd.jupyter.widget-view+json": {
       "model_id": "d7dcdc61de22482a8a9abada58e6931b",
       "version_major": 2,
       "version_minor": 0
      },
      "text/plain": [
       "  0%|          | 0/2 [00:00<?, ?it/s]"
      ]
     },
     "metadata": {},
     "output_type": "display_data"
    },
    {
     "data": {
      "application/vnd.jupyter.widget-view+json": {
       "model_id": "0faa1dc1d69d4876b5a02f038371ad7d",
       "version_major": 2,
       "version_minor": 0
      },
      "text/plain": [
       "  0%|          | 0/2 [00:00<?, ?it/s]"
      ]
     },
     "metadata": {},
     "output_type": "display_data"
    },
    {
     "data": {
      "application/vnd.jupyter.widget-view+json": {
       "model_id": "f3f9ceec438a4a8f85b2bb3f2e553b27",
       "version_major": 2,
       "version_minor": 0
      },
      "text/plain": [
       "  0%|          | 0/2 [00:00<?, ?it/s]"
      ]
     },
     "metadata": {},
     "output_type": "display_data"
    },
    {
     "data": {
      "application/vnd.jupyter.widget-view+json": {
       "model_id": "77f8abdcb3934afa9a71b1d1f58b42a2",
       "version_major": 2,
       "version_minor": 0
      },
      "text/plain": [
       "  0%|          | 0/2 [00:00<?, ?it/s]"
      ]
     },
     "metadata": {},
     "output_type": "display_data"
    },
    {
     "data": {
      "application/vnd.jupyter.widget-view+json": {
       "model_id": "588100b1aa954d39884d0645fcfa80b4",
       "version_major": 2,
       "version_minor": 0
      },
      "text/plain": [
       "  0%|          | 0/2 [00:00<?, ?it/s]"
      ]
     },
     "metadata": {},
     "output_type": "display_data"
    },
    {
     "data": {
      "application/vnd.jupyter.widget-view+json": {
       "model_id": "e37e6c0e0b994b888665b6dcd5ae4e53",
       "version_major": 2,
       "version_minor": 0
      },
      "text/plain": [
       "  0%|          | 0/2 [00:00<?, ?it/s]"
      ]
     },
     "metadata": {},
     "output_type": "display_data"
    },
    {
     "data": {
      "application/vnd.jupyter.widget-view+json": {
       "model_id": "a927d58d8c2c43b5bbb28a054772a508",
       "version_major": 2,
       "version_minor": 0
      },
      "text/plain": [
       "  0%|          | 0/2 [00:00<?, ?it/s]"
      ]
     },
     "metadata": {},
     "output_type": "display_data"
    },
    {
     "data": {
      "application/vnd.jupyter.widget-view+json": {
       "model_id": "22b3156e7ad04ef8a6eb509d950a5f00",
       "version_major": 2,
       "version_minor": 0
      },
      "text/plain": [
       "  0%|          | 0/2 [00:00<?, ?it/s]"
      ]
     },
     "metadata": {},
     "output_type": "display_data"
    },
    {
     "data": {
      "application/vnd.jupyter.widget-view+json": {
       "model_id": "8bce0524d28b4924bcd834a411c8e28f",
       "version_major": 2,
       "version_minor": 0
      },
      "text/plain": [
       "  0%|          | 0/2 [00:00<?, ?it/s]"
      ]
     },
     "metadata": {},
     "output_type": "display_data"
    },
    {
     "data": {
      "application/vnd.jupyter.widget-view+json": {
       "model_id": "a4299358c31844dc91c1f4f86a0d2f32",
       "version_major": 2,
       "version_minor": 0
      },
      "text/plain": [
       "  0%|          | 0/2 [00:00<?, ?it/s]"
      ]
     },
     "metadata": {},
     "output_type": "display_data"
    },
    {
     "data": {
      "application/vnd.jupyter.widget-view+json": {
       "model_id": "6bfe108d1c2b4e98a2f94910ec503ca4",
       "version_major": 2,
       "version_minor": 0
      },
      "text/plain": [
       "  0%|          | 0/2 [00:00<?, ?it/s]"
      ]
     },
     "metadata": {},
     "output_type": "display_data"
    },
    {
     "data": {
      "application/vnd.jupyter.widget-view+json": {
       "model_id": "05cd9b6a082141fabe58d21aa0749050",
       "version_major": 2,
       "version_minor": 0
      },
      "text/plain": [
       "  0%|          | 0/2 [00:00<?, ?it/s]"
      ]
     },
     "metadata": {},
     "output_type": "display_data"
    },
    {
     "data": {
      "application/vnd.jupyter.widget-view+json": {
       "model_id": "6d15808e48584382ac0b030d69087c14",
       "version_major": 2,
       "version_minor": 0
      },
      "text/plain": [
       "  0%|          | 0/2 [00:00<?, ?it/s]"
      ]
     },
     "metadata": {},
     "output_type": "display_data"
    },
    {
     "data": {
      "application/vnd.jupyter.widget-view+json": {
       "model_id": "f89631139d7b443cac50f09ed6ae50f5",
       "version_major": 2,
       "version_minor": 0
      },
      "text/plain": [
       "  0%|          | 0/2 [00:00<?, ?it/s]"
      ]
     },
     "metadata": {},
     "output_type": "display_data"
    },
    {
     "data": {
      "application/vnd.jupyter.widget-view+json": {
       "model_id": "ce925abac7e44d69aa420bb683e1030c",
       "version_major": 2,
       "version_minor": 0
      },
      "text/plain": [
       "  0%|          | 0/2 [00:00<?, ?it/s]"
      ]
     },
     "metadata": {},
     "output_type": "display_data"
    },
    {
     "data": {
      "application/vnd.jupyter.widget-view+json": {
       "model_id": "e87dc2c1eeda4b469c689b804f615e13",
       "version_major": 2,
       "version_minor": 0
      },
      "text/plain": [
       "  0%|          | 0/2 [00:00<?, ?it/s]"
      ]
     },
     "metadata": {},
     "output_type": "display_data"
    },
    {
     "data": {
      "application/vnd.jupyter.widget-view+json": {
       "model_id": "c5dd3f4f6e9f4686bfb0f4d8e395859c",
       "version_major": 2,
       "version_minor": 0
      },
      "text/plain": [
       "  0%|          | 0/2 [00:00<?, ?it/s]"
      ]
     },
     "metadata": {},
     "output_type": "display_data"
    },
    {
     "data": {
      "application/vnd.jupyter.widget-view+json": {
       "model_id": "749857b4fed94753909a87ce2fd23c64",
       "version_major": 2,
       "version_minor": 0
      },
      "text/plain": [
       "  0%|          | 0/2 [00:00<?, ?it/s]"
      ]
     },
     "metadata": {},
     "output_type": "display_data"
    },
    {
     "data": {
      "application/vnd.jupyter.widget-view+json": {
       "model_id": "a4af4c107207453eb3f40c52b5c725bf",
       "version_major": 2,
       "version_minor": 0
      },
      "text/plain": [
       "  0%|          | 0/2 [00:00<?, ?it/s]"
      ]
     },
     "metadata": {},
     "output_type": "display_data"
    },
    {
     "data": {
      "application/vnd.jupyter.widget-view+json": {
       "model_id": "617c7be702664d73a0dcb8f15575dbfe",
       "version_major": 2,
       "version_minor": 0
      },
      "text/plain": [
       "  0%|          | 0/2 [00:00<?, ?it/s]"
      ]
     },
     "metadata": {},
     "output_type": "display_data"
    },
    {
     "data": {
      "application/vnd.jupyter.widget-view+json": {
       "model_id": "e415d66a5ea44f87a51e9f0bba4fa2bd",
       "version_major": 2,
       "version_minor": 0
      },
      "text/plain": [
       "  0%|          | 0/2 [00:00<?, ?it/s]"
      ]
     },
     "metadata": {},
     "output_type": "display_data"
    },
    {
     "data": {
      "application/vnd.jupyter.widget-view+json": {
       "model_id": "73e9e26c39b34a54a462b02ff63c913d",
       "version_major": 2,
       "version_minor": 0
      },
      "text/plain": [
       "  0%|          | 0/2 [00:00<?, ?it/s]"
      ]
     },
     "metadata": {},
     "output_type": "display_data"
    },
    {
     "data": {
      "application/vnd.jupyter.widget-view+json": {
       "model_id": "53c2714c4dbe4bc9a2197a6707856024",
       "version_major": 2,
       "version_minor": 0
      },
      "text/plain": [
       "  0%|          | 0/2 [00:00<?, ?it/s]"
      ]
     },
     "metadata": {},
     "output_type": "display_data"
    },
    {
     "data": {
      "application/vnd.jupyter.widget-view+json": {
       "model_id": "408d7f4977ff440e89a055a51eafb639",
       "version_major": 2,
       "version_minor": 0
      },
      "text/plain": [
       "  0%|          | 0/2 [00:00<?, ?it/s]"
      ]
     },
     "metadata": {},
     "output_type": "display_data"
    },
    {
     "data": {
      "application/vnd.jupyter.widget-view+json": {
       "model_id": "f4badd7733324bdf8fb7dba11098c58e",
       "version_major": 2,
       "version_minor": 0
      },
      "text/plain": [
       "  0%|          | 0/2 [00:00<?, ?it/s]"
      ]
     },
     "metadata": {},
     "output_type": "display_data"
    },
    {
     "data": {
      "application/vnd.jupyter.widget-view+json": {
       "model_id": "c0dd2649acfd4a0b8ead20fe2a9750d4",
       "version_major": 2,
       "version_minor": 0
      },
      "text/plain": [
       "  0%|          | 0/2 [00:00<?, ?it/s]"
      ]
     },
     "metadata": {},
     "output_type": "display_data"
    },
    {
     "data": {
      "application/vnd.jupyter.widget-view+json": {
       "model_id": "6fd764813c7e4c2288d66d15c9279e27",
       "version_major": 2,
       "version_minor": 0
      },
      "text/plain": [
       "  0%|          | 0/2 [00:00<?, ?it/s]"
      ]
     },
     "metadata": {},
     "output_type": "display_data"
    },
    {
     "data": {
      "application/vnd.jupyter.widget-view+json": {
       "model_id": "ad9e4d0cd0ce4105b44c8450b6c8134e",
       "version_major": 2,
       "version_minor": 0
      },
      "text/plain": [
       "  0%|          | 0/2 [00:00<?, ?it/s]"
      ]
     },
     "metadata": {},
     "output_type": "display_data"
    },
    {
     "data": {
      "application/vnd.jupyter.widget-view+json": {
       "model_id": "1e8285eb6f8245059023da4a7b665f62",
       "version_major": 2,
       "version_minor": 0
      },
      "text/plain": [
       "  0%|          | 0/2 [00:00<?, ?it/s]"
      ]
     },
     "metadata": {},
     "output_type": "display_data"
    },
    {
     "data": {
      "application/vnd.jupyter.widget-view+json": {
       "model_id": "3e6cc1911adc4edf99c9851d9b6e9b08",
       "version_major": 2,
       "version_minor": 0
      },
      "text/plain": [
       "  0%|          | 0/2 [00:00<?, ?it/s]"
      ]
     },
     "metadata": {},
     "output_type": "display_data"
    },
    {
     "data": {
      "application/vnd.jupyter.widget-view+json": {
       "model_id": "bc1ff7ac353142f4bb654011a3544569",
       "version_major": 2,
       "version_minor": 0
      },
      "text/plain": [
       "  0%|          | 0/2 [00:00<?, ?it/s]"
      ]
     },
     "metadata": {},
     "output_type": "display_data"
    },
    {
     "data": {
      "application/vnd.jupyter.widget-view+json": {
       "model_id": "d1e15a9c940f4598a2f3d840c9098f0a",
       "version_major": 2,
       "version_minor": 0
      },
      "text/plain": [
       "  0%|          | 0/2 [00:00<?, ?it/s]"
      ]
     },
     "metadata": {},
     "output_type": "display_data"
    },
    {
     "data": {
      "application/vnd.jupyter.widget-view+json": {
       "model_id": "eb1476312d7b43419a1493efdbfe19cc",
       "version_major": 2,
       "version_minor": 0
      },
      "text/plain": [
       "  0%|          | 0/2 [00:00<?, ?it/s]"
      ]
     },
     "metadata": {},
     "output_type": "display_data"
    },
    {
     "data": {
      "application/vnd.jupyter.widget-view+json": {
       "model_id": "8e5a7d772f094848887ad74b84bbc234",
       "version_major": 2,
       "version_minor": 0
      },
      "text/plain": [
       "  0%|          | 0/2 [00:00<?, ?it/s]"
      ]
     },
     "metadata": {},
     "output_type": "display_data"
    },
    {
     "data": {
      "application/vnd.jupyter.widget-view+json": {
       "model_id": "0b77634d704b4f4e9483dd629bba2fdd",
       "version_major": 2,
       "version_minor": 0
      },
      "text/plain": [
       "  0%|          | 0/2 [00:00<?, ?it/s]"
      ]
     },
     "metadata": {},
     "output_type": "display_data"
    },
    {
     "data": {
      "application/vnd.jupyter.widget-view+json": {
       "model_id": "418902a18998460398bc42166d0a3743",
       "version_major": 2,
       "version_minor": 0
      },
      "text/plain": [
       "  0%|          | 0/2 [00:00<?, ?it/s]"
      ]
     },
     "metadata": {},
     "output_type": "display_data"
    },
    {
     "data": {
      "application/vnd.jupyter.widget-view+json": {
       "model_id": "20d63e68bc8f4fac8e7f26be78f3c585",
       "version_major": 2,
       "version_minor": 0
      },
      "text/plain": [
       "  0%|          | 0/2 [00:00<?, ?it/s]"
      ]
     },
     "metadata": {},
     "output_type": "display_data"
    },
    {
     "data": {
      "application/vnd.jupyter.widget-view+json": {
       "model_id": "a5e48112834f47b181c69f27b9212e5a",
       "version_major": 2,
       "version_minor": 0
      },
      "text/plain": [
       "  0%|          | 0/2 [00:00<?, ?it/s]"
      ]
     },
     "metadata": {},
     "output_type": "display_data"
    },
    {
     "data": {
      "application/vnd.jupyter.widget-view+json": {
       "model_id": "0b90d6c5f96a4596829fe5f12390a476",
       "version_major": 2,
       "version_minor": 0
      },
      "text/plain": [
       "  0%|          | 0/2 [00:00<?, ?it/s]"
      ]
     },
     "metadata": {},
     "output_type": "display_data"
    },
    {
     "data": {
      "application/vnd.jupyter.widget-view+json": {
       "model_id": "0fd58b72e0044dd89f77d8847d163d29",
       "version_major": 2,
       "version_minor": 0
      },
      "text/plain": [
       "  0%|          | 0/2 [00:00<?, ?it/s]"
      ]
     },
     "metadata": {},
     "output_type": "display_data"
    },
    {
     "data": {
      "application/vnd.jupyter.widget-view+json": {
       "model_id": "c24195cb9d014362a9446a7d5324c78d",
       "version_major": 2,
       "version_minor": 0
      },
      "text/plain": [
       "  0%|          | 0/2 [00:00<?, ?it/s]"
      ]
     },
     "metadata": {},
     "output_type": "display_data"
    },
    {
     "data": {
      "application/vnd.jupyter.widget-view+json": {
       "model_id": "498dd3faa1b34479a7188be5ea970d05",
       "version_major": 2,
       "version_minor": 0
      },
      "text/plain": [
       "  0%|          | 0/2 [00:00<?, ?it/s]"
      ]
     },
     "metadata": {},
     "output_type": "display_data"
    },
    {
     "data": {
      "application/vnd.jupyter.widget-view+json": {
       "model_id": "5366d98c19564e2e94ba4c1d51038333",
       "version_major": 2,
       "version_minor": 0
      },
      "text/plain": [
       "  0%|          | 0/2 [00:00<?, ?it/s]"
      ]
     },
     "metadata": {},
     "output_type": "display_data"
    },
    {
     "data": {
      "application/vnd.jupyter.widget-view+json": {
       "model_id": "61662ce55a3847b1976839804b94a6f7",
       "version_major": 2,
       "version_minor": 0
      },
      "text/plain": [
       "  0%|          | 0/2 [00:00<?, ?it/s]"
      ]
     },
     "metadata": {},
     "output_type": "display_data"
    },
    {
     "data": {
      "application/vnd.jupyter.widget-view+json": {
       "model_id": "526a4cbb97084fecb31f07ce0f6f306e",
       "version_major": 2,
       "version_minor": 0
      },
      "text/plain": [
       "  0%|          | 0/2 [00:00<?, ?it/s]"
      ]
     },
     "metadata": {},
     "output_type": "display_data"
    },
    {
     "data": {
      "application/vnd.jupyter.widget-view+json": {
       "model_id": "82105917d40c4f9790cd63df3588515c",
       "version_major": 2,
       "version_minor": 0
      },
      "text/plain": [
       "  0%|          | 0/2 [00:00<?, ?it/s]"
      ]
     },
     "metadata": {},
     "output_type": "display_data"
    },
    {
     "data": {
      "application/vnd.jupyter.widget-view+json": {
       "model_id": "1bc73baf0cb1428089c16eb91308a5b2",
       "version_major": 2,
       "version_minor": 0
      },
      "text/plain": [
       "  0%|          | 0/2 [00:00<?, ?it/s]"
      ]
     },
     "metadata": {},
     "output_type": "display_data"
    },
    {
     "data": {
      "application/vnd.jupyter.widget-view+json": {
       "model_id": "78337f2fbfd74be2ac5ef339b8a203df",
       "version_major": 2,
       "version_minor": 0
      },
      "text/plain": [
       "  0%|          | 0/2 [00:00<?, ?it/s]"
      ]
     },
     "metadata": {},
     "output_type": "display_data"
    },
    {
     "data": {
      "application/vnd.jupyter.widget-view+json": {
       "model_id": "402538c7936e4b0fafb10fd6fb5a755d",
       "version_major": 2,
       "version_minor": 0
      },
      "text/plain": [
       "  0%|          | 0/2 [00:00<?, ?it/s]"
      ]
     },
     "metadata": {},
     "output_type": "display_data"
    },
    {
     "data": {
      "application/vnd.jupyter.widget-view+json": {
       "model_id": "436e2e6504db442a9d53924474d4ac58",
       "version_major": 2,
       "version_minor": 0
      },
      "text/plain": [
       "  0%|          | 0/2 [00:00<?, ?it/s]"
      ]
     },
     "metadata": {},
     "output_type": "display_data"
    },
    {
     "data": {
      "application/vnd.jupyter.widget-view+json": {
       "model_id": "5d9a0edf282240d59abfeefb8de12ed7",
       "version_major": 2,
       "version_minor": 0
      },
      "text/plain": [
       "  0%|          | 0/2 [00:00<?, ?it/s]"
      ]
     },
     "metadata": {},
     "output_type": "display_data"
    },
    {
     "data": {
      "application/vnd.jupyter.widget-view+json": {
       "model_id": "274fdd0518004ee3b4416e2083545288",
       "version_major": 2,
       "version_minor": 0
      },
      "text/plain": [
       "  0%|          | 0/2 [00:00<?, ?it/s]"
      ]
     },
     "metadata": {},
     "output_type": "display_data"
    },
    {
     "data": {
      "application/vnd.jupyter.widget-view+json": {
       "model_id": "af6fecc74bba4d1ea45f8395debfac8c",
       "version_major": 2,
       "version_minor": 0
      },
      "text/plain": [
       "  0%|          | 0/2 [00:00<?, ?it/s]"
      ]
     },
     "metadata": {},
     "output_type": "display_data"
    },
    {
     "data": {
      "application/vnd.jupyter.widget-view+json": {
       "model_id": "d8072be819294be08a9bd761dd32051e",
       "version_major": 2,
       "version_minor": 0
      },
      "text/plain": [
       "  0%|          | 0/2 [00:00<?, ?it/s]"
      ]
     },
     "metadata": {},
     "output_type": "display_data"
    },
    {
     "data": {
      "application/vnd.jupyter.widget-view+json": {
       "model_id": "11db76dea2084fa3b3a7890712c4dc01",
       "version_major": 2,
       "version_minor": 0
      },
      "text/plain": [
       "  0%|          | 0/2 [00:00<?, ?it/s]"
      ]
     },
     "metadata": {},
     "output_type": "display_data"
    },
    {
     "data": {
      "application/vnd.jupyter.widget-view+json": {
       "model_id": "c43af008cc614c75a37374f71d128412",
       "version_major": 2,
       "version_minor": 0
      },
      "text/plain": [
       "  0%|          | 0/2 [00:00<?, ?it/s]"
      ]
     },
     "metadata": {},
     "output_type": "display_data"
    },
    {
     "data": {
      "application/vnd.jupyter.widget-view+json": {
       "model_id": "a15fd34e52554f46bf9835cf932ecfcf",
       "version_major": 2,
       "version_minor": 0
      },
      "text/plain": [
       "  0%|          | 0/2 [00:00<?, ?it/s]"
      ]
     },
     "metadata": {},
     "output_type": "display_data"
    },
    {
     "data": {
      "application/vnd.jupyter.widget-view+json": {
       "model_id": "3156a04e23b7439ab422b6ff3e228924",
       "version_major": 2,
       "version_minor": 0
      },
      "text/plain": [
       "  0%|          | 0/2 [00:00<?, ?it/s]"
      ]
     },
     "metadata": {},
     "output_type": "display_data"
    },
    {
     "data": {
      "application/vnd.jupyter.widget-view+json": {
       "model_id": "392005f123ba42f4a51fc881beed4f79",
       "version_major": 2,
       "version_minor": 0
      },
      "text/plain": [
       "  0%|          | 0/2 [00:00<?, ?it/s]"
      ]
     },
     "metadata": {},
     "output_type": "display_data"
    },
    {
     "data": {
      "application/vnd.jupyter.widget-view+json": {
       "model_id": "4e6b07a65aad4ca5810af25882890c3d",
       "version_major": 2,
       "version_minor": 0
      },
      "text/plain": [
       "  0%|          | 0/2 [00:00<?, ?it/s]"
      ]
     },
     "metadata": {},
     "output_type": "display_data"
    },
    {
     "data": {
      "application/vnd.jupyter.widget-view+json": {
       "model_id": "362e86a67e7d4cffac6192bdec172ee9",
       "version_major": 2,
       "version_minor": 0
      },
      "text/plain": [
       "  0%|          | 0/2 [00:00<?, ?it/s]"
      ]
     },
     "metadata": {},
     "output_type": "display_data"
    },
    {
     "data": {
      "application/vnd.jupyter.widget-view+json": {
       "model_id": "5b15fc95efa34f9f95b4a1a8f37e97b1",
       "version_major": 2,
       "version_minor": 0
      },
      "text/plain": [
       "  0%|          | 0/2 [00:00<?, ?it/s]"
      ]
     },
     "metadata": {},
     "output_type": "display_data"
    },
    {
     "data": {
      "application/vnd.jupyter.widget-view+json": {
       "model_id": "a7cb5b27d106468fb23fc8b4abc5e68c",
       "version_major": 2,
       "version_minor": 0
      },
      "text/plain": [
       "  0%|          | 0/2 [00:00<?, ?it/s]"
      ]
     },
     "metadata": {},
     "output_type": "display_data"
    },
    {
     "data": {
      "application/vnd.jupyter.widget-view+json": {
       "model_id": "1c647223a85546a4a3ca6844b8f60c35",
       "version_major": 2,
       "version_minor": 0
      },
      "text/plain": [
       "  0%|          | 0/2 [00:00<?, ?it/s]"
      ]
     },
     "metadata": {},
     "output_type": "display_data"
    },
    {
     "data": {
      "application/vnd.jupyter.widget-view+json": {
       "model_id": "bb31204d05944d0bbcc64f793ad1f360",
       "version_major": 2,
       "version_minor": 0
      },
      "text/plain": [
       "  0%|          | 0/2 [00:00<?, ?it/s]"
      ]
     },
     "metadata": {},
     "output_type": "display_data"
    },
    {
     "data": {
      "application/vnd.jupyter.widget-view+json": {
       "model_id": "c8747ec512454e23b262cc83b04b8312",
       "version_major": 2,
       "version_minor": 0
      },
      "text/plain": [
       "  0%|          | 0/2 [00:00<?, ?it/s]"
      ]
     },
     "metadata": {},
     "output_type": "display_data"
    },
    {
     "data": {
      "application/vnd.jupyter.widget-view+json": {
       "model_id": "929acd12863f49eeab0f0c8eca9d2fa4",
       "version_major": 2,
       "version_minor": 0
      },
      "text/plain": [
       "  0%|          | 0/2 [00:00<?, ?it/s]"
      ]
     },
     "metadata": {},
     "output_type": "display_data"
    },
    {
     "data": {
      "application/vnd.jupyter.widget-view+json": {
       "model_id": "f3d282d473d249f0ad466ea02a37ec22",
       "version_major": 2,
       "version_minor": 0
      },
      "text/plain": [
       "  0%|          | 0/2 [00:00<?, ?it/s]"
      ]
     },
     "metadata": {},
     "output_type": "display_data"
    },
    {
     "data": {
      "application/vnd.jupyter.widget-view+json": {
       "model_id": "12eaa9cea4c74b8692bfbd3ac91fe147",
       "version_major": 2,
       "version_minor": 0
      },
      "text/plain": [
       "  0%|          | 0/2 [00:00<?, ?it/s]"
      ]
     },
     "metadata": {},
     "output_type": "display_data"
    },
    {
     "data": {
      "application/vnd.jupyter.widget-view+json": {
       "model_id": "833a8c3ec3374a06b0b6cc73334cb89c",
       "version_major": 2,
       "version_minor": 0
      },
      "text/plain": [
       "  0%|          | 0/2 [00:00<?, ?it/s]"
      ]
     },
     "metadata": {},
     "output_type": "display_data"
    },
    {
     "data": {
      "application/vnd.jupyter.widget-view+json": {
       "model_id": "06fcbc3d09bf482b8ece654cdf6029b9",
       "version_major": 2,
       "version_minor": 0
      },
      "text/plain": [
       "  0%|          | 0/2 [00:00<?, ?it/s]"
      ]
     },
     "metadata": {},
     "output_type": "display_data"
    },
    {
     "data": {
      "application/vnd.jupyter.widget-view+json": {
       "model_id": "f1f7ff12478741b0ad551fff2043dd82",
       "version_major": 2,
       "version_minor": 0
      },
      "text/plain": [
       "  0%|          | 0/2 [00:00<?, ?it/s]"
      ]
     },
     "metadata": {},
     "output_type": "display_data"
    },
    {
     "data": {
      "application/vnd.jupyter.widget-view+json": {
       "model_id": "015523af8ed74d3b9663463ffde50024",
       "version_major": 2,
       "version_minor": 0
      },
      "text/plain": [
       "  0%|          | 0/2 [00:00<?, ?it/s]"
      ]
     },
     "metadata": {},
     "output_type": "display_data"
    },
    {
     "data": {
      "application/vnd.jupyter.widget-view+json": {
       "model_id": "8de36a1c2012477c9c948385921cb1dd",
       "version_major": 2,
       "version_minor": 0
      },
      "text/plain": [
       "  0%|          | 0/2 [00:00<?, ?it/s]"
      ]
     },
     "metadata": {},
     "output_type": "display_data"
    },
    {
     "data": {
      "application/vnd.jupyter.widget-view+json": {
       "model_id": "2091cccf04184eeabf49e86eb237171b",
       "version_major": 2,
       "version_minor": 0
      },
      "text/plain": [
       "  0%|          | 0/2 [00:00<?, ?it/s]"
      ]
     },
     "metadata": {},
     "output_type": "display_data"
    },
    {
     "data": {
      "application/vnd.jupyter.widget-view+json": {
       "model_id": "a573c9cb0eed46e8967e34da280ed4f7",
       "version_major": 2,
       "version_minor": 0
      },
      "text/plain": [
       "  0%|          | 0/2 [00:00<?, ?it/s]"
      ]
     },
     "metadata": {},
     "output_type": "display_data"
    },
    {
     "data": {
      "application/vnd.jupyter.widget-view+json": {
       "model_id": "6c5abb75cfbd44aa9c585537a547dff9",
       "version_major": 2,
       "version_minor": 0
      },
      "text/plain": [
       "  0%|          | 0/2 [00:00<?, ?it/s]"
      ]
     },
     "metadata": {},
     "output_type": "display_data"
    },
    {
     "name": "stdout",
     "output_type": "stream",
     "text": [
      "cell type connections calculated with 1 threshold\n"
     ]
    },
    {
     "data": {
      "application/vnd.plotly.v1+json": {
       "config": {
        "plotlyServerURL": "https://plot.ly"
       },
       "data": [
        {
         "hoverinfo": "text",
         "hovertext": [
          "LC10a<br>Count:137<br>Med_syn_num:65",
          "LC10d<br>Count:135<br>Med_syn_num:36",
          "LT52<br>Count:118<br>Med_syn_num:25",
          "AOTU008<br>Count:116<br>Med_syn_num:32",
          "AOTU001<br>Count:108<br>Med_syn_num:11",
          "LC10c-2<br>Count:107<br>Med_syn_num:7",
          "AOTU041<br>Count:99<br>Med_syn_num:7",
          "TuTuA_1<br>Count:91<br>Med_syn_num:9",
          "LC10c-1<br>Count:89<br>Med_syn_num:6",
          "AOTU014<br>Count:88<br>Med_syn_num:9",
          "AOTU059<br>Count:87<br>Med_syn_num:5",
          "TuTuA_2<br>Count:83<br>Med_syn_num:18",
          "AOTU002_b<br>Count:69<br>Med_syn_num:21",
          "AOTU019<br>Count:69<br>Med_syn_num:9",
          "AOTU015<br>Count:66<br>Med_syn_num:20",
          "AOTU063_b<br>Count:66<br>Med_syn_num:6",
          "AOTU101m<br>Count:65<br>Med_syn_num:5",
          "LC10e<br>Count:65<br>Med_syn_num:4",
          "AOTU016_b<br>Count:61<br>Med_syn_num:20",
          "AOTU022<br>Count:61<br>Med_syn_num:4",
          "AOTU023<br>Count:54<br>Med_syn_num:8",
          "AOTU025<br>Count:53<br>Med_syn_num:6",
          "AOTU002_a<br>Count:52<br>Med_syn_num:16",
          "AOTU002_c<br>Count:52<br>Med_syn_num:14",
          "AOTU003<br>Count:50<br>Med_syn_num:10",
          "AOTU026<br>Count:45<br>Med_syn_num:6",
          "AOTU007_c<br>Count:45<br>Med_syn_num:12",
          "AOTU016_a<br>Count:45<br>Med_syn_num:14",
          "AOTU063_a<br>Count:45<br>Med_syn_num:5",
          "AOTU042<br>Count:44<br>Med_syn_num:4",
          "AOTU016_c<br>Count:44<br>Med_syn_num:9",
          "AOTU027<br>Count:42<br>Med_syn_num:5",
          "LAL028<br>Count:41<br>Med_syn_num:12",
          "AOTU017<br>Count:41<br>Med_syn_num:4",
          "AOTU006<br>Count:41<br>Med_syn_num:16",
          "LAL027<br>Count:41<br>Med_syn_num:9",
          "AOTU029<br>Count:38<br>Med_syn_num:5",
          "AOTU012<br>Count:38<br>Med_syn_num:6",
          "AOTU007_a<br>Count:37<br>Med_syn_num:9",
          "AOTU050<br>Count:36<br>Med_syn_num:3",
          "P1_1b<br>Count:34<br>Med_syn_num:5",
          "AOTU028<br>Count:33<br>Med_syn_num:5",
          "AOTU018<br>Count:33<br>Med_syn_num:4",
          "AOTU007_b<br>Count:32<br>Med_syn_num:8",
          "SMP148<br>Count:32<br>Med_syn_num:3",
          "SMP151<br>Count:31<br>Med_syn_num:4",
          "AOTU004<br>Count:30<br>Med_syn_num:4",
          "AOTU024<br>Count:29<br>Med_syn_num:4",
          "LAL029_e<br>Count:28<br>Med_syn_num:5",
          "SIP020_b<br>Count:28<br>Med_syn_num:2",
          "AOTU013<br>Count:28<br>Med_syn_num:4",
          "AOTU030<br>Count:25<br>Med_syn_num:2",
          "AOTU005<br>Count:24<br>Med_syn_num:6",
          "AOTU020<br>Count:24<br>Med_syn_num:3",
          "LoVP76<br>Count:24<br>Med_syn_num:4",
          "AOTU062<br>Count:23<br>Med_syn_num:4",
          "LAL029_c<br>Count:23<br>Med_syn_num:5",
          "AOTU102m<br>Count:23<br>Med_syn_num:4",
          "LC10_unclear<br>Count:20<br>Med_syn_num:8",
          "LC10b<br>Count:19<br>Med_syn_num:3",
          "AOTU053<br>Count:19<br>Med_syn_num:8",
          "CB0356<br>Count:19<br>Med_syn_num:3",
          "PS008_b<br>Count:18<br>Med_syn_num:12",
          "SMP080<br>Count:18<br>Med_syn_num:2",
          "CB3127<br>Count:17<br>Med_syn_num:4",
          "LAL301m<br>Count:17<br>Med_syn_num:4",
          "LAL029_d<br>Count:16<br>Med_syn_num:6",
          "LAL026_a<br>Count:15<br>Med_syn_num:6",
          "LAL026_b<br>Count:15<br>Med_syn_num:3",
          "CB0361<br>Count:14<br>Med_syn_num:7",
          "AOTU052<br>Count:14<br>Med_syn_num:3",
          "AOTU058<br>Count:13<br>Med_syn_num:3",
          "DNa10<br>Count:13<br>Med_syn_num:3",
          "PAL03<br>Count:12<br>Med_syn_num:2",
          "SIP020_a<br>Count:11<br>Med_syn_num:4",
          "IB018<br>Count:11<br>Med_syn_num:2",
          "LAL300m<br>Count:11<br>Med_syn_num:3",
          "AOTU103m<br>Count:11<br>Med_syn_num:3",
          "P1_1a<br>Count:10<br>Med_syn_num:3",
          "LAL025<br>Count:9<br>Med_syn_num:3",
          "AOTU061<br>Count:9<br>Med_syn_num:4",
          "TuBu06<br>Count:8<br>Med_syn_num:4",
          "LoVP77<br>Count:8<br>Med_syn_num:2",
          "AOTU037<br>Count:8<br>Med_syn_num:1",
          "AOTU043<br>Count:7<br>Med_syn_num:4",
          "AOTU060<br>Count:7<br>Med_syn_num:3",
          "CB0931<br>Count:7<br>Med_syn_num:3",
          "LoVP83<br>Count:7<br>Med_syn_num:2",
          "TuBu01<br>Count:7<br>Med_syn_num:2",
          "AOTU051<br>Count:6<br>Med_syn_num:2",
          "PS002<br>Count:6<br>Med_syn_num:2",
          "PLP300m<br>Count:6<br>Med_syn_num:2",
          "AOTU035<br>Count:6<br>Med_syn_num:3",
          "AOTU100m<br>Count:6<br>Med_syn_num:2",
          "AVLP209<br>Count:6<br>Med_syn_num:1",
          "AOTU011<br>Count:5<br>Med_syn_num:2",
          "CB1851<br>Count:5<br>Med_syn_num:6",
          "TuBu08<br>Count:5<br>Med_syn_num:5",
          "AOTU034<br>Count:5<br>Med_syn_num:2",
          "PLP245<br>Count:5<br>Med_syn_num:1",
          "MeTu4c<br>Count:5<br>Med_syn_num:2",
          "P1_8a<br>Count:5<br>Med_syn_num:1",
          "SLP122_b<br>Count:5<br>Med_syn_num:1",
          "AOTU047<br>Count:4<br>Med_syn_num:2",
          "SMP153_a<br>Count:4<br>Med_syn_num:2",
          "SMP398_b<br>Count:4<br>Med_syn_num:1",
          "SMP155<br>Count:4<br>Med_syn_num:2",
          "PS083_a<br>Count:4<br>Med_syn_num:2",
          "AOTU033<br>Count:4<br>Med_syn_num:3",
          "SMP014<br>Count:4<br>Med_syn_num:1",
          "CB2975<br>Count:4<br>Med_syn_num:1",
          "AOTU045<br>Count:3<br>Med_syn_num:2",
          "FB4L<br>Count:3<br>Med_syn_num:4",
          "AOTU038<br>Count:3<br>Med_syn_num:2",
          "SMP143<br>Count:3<br>Med_syn_num:2",
          "SMP020<br>Count:3<br>Med_syn_num:2",
          "SMP054<br>Count:3<br>Med_syn_num:1",
          "CB3984<br>Count:3<br>Med_syn_num:2",
          "CL022_b<br>Count:3<br>Med_syn_num:1",
          "AOTU049<br>Count:3<br>Med_syn_num:1",
          "MeTu2a<br>Count:3<br>Med_syn_num:1",
          "DNa16<br>Count:3<br>Med_syn_num:1",
          "LoVP78<br>Count:3<br>Med_syn_num:1",
          "DNp27<br>Count:3<br>Med_syn_num:1",
          "LoVC1<br>Count:3<br>Med_syn_num:1",
          "LAL088<br>Count:3<br>Med_syn_num:1",
          "TuBu07<br>Count:3<br>Med_syn_num:2",
          "LPT60<br>Count:3<br>Med_syn_num:1",
          "ICL002m<br>Count:3<br>Med_syn_num:2",
          "PS083_b<br>Count:3<br>Med_syn_num:2",
          "SMP588<br>Count:3<br>Med_syn_num:2",
          "TuBu02<br>Count:3<br>Med_syn_num:2",
          "CL328<br>Count:2<br>Med_syn_num:2",
          "SIP017<br>Count:2<br>Med_syn_num:2",
          "PVLP114<br>Count:2<br>Med_syn_num:2",
          "P1_9a<br>Count:2<br>Med_syn_num:2",
          "AOTU009<br>Count:2<br>Med_syn_num:2",
          "LT84<br>Count:2<br>Med_syn_num:2",
          "LoVC22<br>Count:2<br>Med_syn_num:2",
          "DNp63<br>Count:2<br>Med_syn_num:2",
          "PAM01<br>Count:2<br>Med_syn_num:4",
          "PLP122_b<br>Count:2<br>Med_syn_num:1",
          "AOTU048<br>Count:2<br>Med_syn_num:2",
          "SMP039<br>Count:2<br>Med_syn_num:1",
          "aIPg_m8<br>Count:2<br>Med_syn_num:1",
          "AOTU065<br>Count:2<br>Med_syn_num:2",
          "PVLP203m<br>Count:2<br>Med_syn_num:2",
          "AOTU054<br>Count:2<br>Med_syn_num:3",
          "PS083_c<br>Count:2<br>Med_syn_num:1",
          "VES041<br>Count:2<br>Med_syn_num:2",
          "AVLP749m<br>Count:2<br>Med_syn_num:2",
          "TuTuB_b<br>Count:2<br>Med_syn_num:2",
          "PLP009<br>Count:2<br>Med_syn_num:1",
          "TuTuB_a<br>Count:2<br>Med_syn_num:1",
          "LH008m<br>Count:2<br>Med_syn_num:1",
          "CL225<br>Count:2<br>Med_syn_num:1",
          "LC33<br>Count:2<br>Med_syn_num:1",
          "CRE041<br>Count:2<br>Med_syn_num:1",
          "MeTu1<br>Count:2<br>Med_syn_num:2",
          "MeTu4e<br>Count:2<br>Med_syn_num:1",
          "P1_9b<br>Count:2<br>Med_syn_num:3",
          "SMP018<br>Count:2<br>Med_syn_num:1",
          "LT34<br>Count:1<br>Med_syn_num:2",
          "MeTu3a<br>Count:1<br>Med_syn_num:3",
          "TuBu04<br>Count:1<br>Med_syn_num:2",
          "TuBu03<br>Count:1<br>Med_syn_num:4",
          "LAL029_b<br>Count:1<br>Med_syn_num:3",
          "aIPg_m5<br>Count:1<br>Med_syn_num:2",
          "VP1d_il2PN<br>Count:1<br>Med_syn_num:1",
          "AOTU032<br>Count:1<br>Med_syn_num:1",
          "TuBu09<br>Count:1<br>Med_syn_num:2",
          "SMP398_a<br>Count:1<br>Med_syn_num:1",
          "mAL6<br>Count:1<br>Med_syn_num:1",
          "SMP375<br>Count:1<br>Med_syn_num:2",
          "SMP393<br>Count:1<br>Med_syn_num:2",
          "TuBu05<br>Count:1<br>Med_syn_num:1",
          "MBON35<br>Count:1<br>Med_syn_num:2",
          "SMP017<br>Count:1<br>Med_syn_num:1",
          "CB3015<br>Count:1<br>Med_syn_num:1",
          "LAL009<br>Count:1<br>Med_syn_num:2",
          "DNp09<br>Count:1<br>Med_syn_num:1",
          "CL175<br>Count:1<br>Med_syn_num:1",
          "CL031<br>Count:1<br>Med_syn_num:1",
          "CL022_c<br>Count:1<br>Med_syn_num:2",
          "CB3961<br>Count:1<br>Med_syn_num:1",
          "CB2981<br>Count:1<br>Med_syn_num:2",
          "SMP013<br>Count:1<br>Med_syn_num:1",
          "AVLP752m<br>Count:1<br>Med_syn_num:1",
          "AVLP717m<br>Count:1<br>Med_syn_num:1",
          "AVLP590<br>Count:1<br>Med_syn_num:2",
          "AVLP047<br>Count:1<br>Med_syn_num:1",
          "AOTU064<br>Count:1<br>Med_syn_num:1",
          "AOTU056<br>Count:1<br>Med_syn_num:1",
          "AOTU046<br>Count:1<br>Med_syn_num:3",
          "LHCENT3<br>Count:1<br>Med_syn_num:1",
          "LT54<br>Count:1<br>Med_syn_num:1",
          "LT55<br>Count:1<br>Med_syn_num:2",
          "LoVP_unclear<br>Count:1<br>Med_syn_num:1",
          "MeTu2b<br>Count:1<br>Med_syn_num:2",
          "MeTu3b<br>Count:1<br>Med_syn_num:1",
          "MeTu3c<br>Count:1<br>Med_syn_num:1",
          "MeTu4_unclear<br>Count:1<br>Med_syn_num:1",
          "MeTu4a<br>Count:1<br>Med_syn_num:4",
          "MeTu4b<br>Count:1<br>Med_syn_num:2",
          "MeTu4d<br>Count:1<br>Med_syn_num:1",
          "MeTu4f<br>Count:1<br>Med_syn_num:2",
          "OA-VUMa6<br>Count:1<br>Med_syn_num:1",
          "PS084<br>Count:1<br>Med_syn_num:4",
          "SIP004<br>Count:1<br>Med_syn_num:2",
          "SLP170<br>Count:1<br>Med_syn_num:1",
          "pIP1<br>Count:1<br>Med_syn_num:2"
         ],
         "marker": {
          "color": "#3283FE",
          "size": 6
         },
         "mode": "markers",
         "showlegend": false,
         "type": "scatter",
         "x": [
          0.5,
          0.4927272727272727,
          0.4290909090909091,
          0.4236363636363636,
          0.39454545454545453,
          0.3890909090909091,
          0.3618181818181818,
          0.33272727272727276,
          0.32545454545454544,
          0.32,
          0.31636363636363635,
          0.30424242424242426,
          0.2509090909090909,
          0.2509090909090909,
          0.24181818181818182,
          0.24,
          0.23636363636363636,
          0.23636363636363636,
          0.22363636363636363,
          0.2218181818181818,
          0.19636363636363635,
          0.19454545454545455,
          0.19090909090909092,
          0.1890909090909091,
          0.18363636363636365,
          0.16545454545454547,
          0.16545454545454547,
          0.16545454545454547,
          0.16363636363636364,
          0.1618181818181818,
          0.1618181818181818,
          0.1527272727272727,
          0.1509090909090909,
          0.1490909090909091,
          0.1490909090909091,
          0.14909090909090908,
          0.14,
          0.13999999999999999,
          0.13454545454545455,
          0.13090909090909092,
          0.12363636363636364,
          0.12181818181818183,
          0.12,
          0.1181818181818182,
          0.11818181818181818,
          0.11272727272727272,
          0.10909090909090909,
          0.10545454545454547,
          0.10363636363636364,
          0.10181818181818182,
          0.10181818181818181,
          0.09090909090909091,
          0.0896969696969697,
          0.0890909090909091,
          0.08909090909090908,
          0.08545454545454545,
          0.08545454545454545,
          0.08363636363636363,
          0.07454545454545455,
          0.07090909090909092,
          0.07090909090909091,
          0.06909090909090909,
          0.06545454545454546,
          0.06545454545454546,
          0.061818181818181814,
          0.061818181818181814,
          0.06,
          0.056363636363636366,
          0.05454545454545454,
          0.05272727272727273,
          0.05090909090909091,
          0.04909090909090909,
          0.04727272727272727,
          0.04363636363636364,
          0.04242424242424243,
          0.041818181818181824,
          0.04181818181818182,
          0.04,
          0.03636363636363636,
          0.034545454545454546,
          0.03272727272727273,
          0.03151515151515152,
          0.030909090909090907,
          0.02909090909090909,
          0.027272727272727275,
          0.027272727272727275,
          0.025454545454545455,
          0.025454545454545455,
          0.025454545454545452,
          0.023636363636363636,
          0.023636363636363636,
          0.023636363636363636,
          0.02181818181818182,
          0.02181818181818182,
          0.02181818181818182,
          0.02,
          0.02,
          0.02,
          0.018181818181818184,
          0.01818181818181818,
          0.01818181818181818,
          0.01818181818181818,
          0.01818181818181818,
          0.016363636363636365,
          0.016363636363636365,
          0.014545454545454545,
          0.014545454545454545,
          0.014545454545454545,
          0.014545454545454545,
          0.014545454545454545,
          0.014545454545454545,
          0.012727272727272728,
          0.012727272727272728,
          0.012727272727272728,
          0.012727272727272726,
          0.01090909090909091,
          0.01090909090909091,
          0.01090909090909091,
          0.01090909090909091,
          0.01090909090909091,
          0.01090909090909091,
          0.01090909090909091,
          0.01090909090909091,
          0.01090909090909091,
          0.01090909090909091,
          0.01090909090909091,
          0.01090909090909091,
          0.01090909090909091,
          0.01090909090909091,
          0.010909090909090908,
          0.010909090909090908,
          0.010909090909090908,
          0.00909090909090909,
          0.00909090909090909,
          0.00909090909090909,
          0.00909090909090909,
          0.00909090909090909,
          0.00909090909090909,
          0.00909090909090909,
          0.00909090909090909,
          0.008484848484848484,
          0.007272727272727273,
          0.007272727272727273,
          0.007272727272727273,
          0.007272727272727273,
          0.007272727272727273,
          0.007272727272727273,
          0.007272727272727273,
          0.007272727272727273,
          0.007272727272727273,
          0.007272727272727273,
          0.007272727272727273,
          0.007272727272727273,
          0.007272727272727273,
          0.007272727272727273,
          0.007272727272727273,
          0.007272727272727273,
          0.007272727272727273,
          0.007272727272727273,
          0.007272727272727273,
          0.007272727272727273,
          0.007272727272727273,
          0.005454545454545455,
          0.005454545454545455,
          0.005454545454545455,
          0.005454545454545455,
          0.0048484848484848485,
          0.0036363636363636364,
          0.0036363636363636364,
          0.0036363636363636364,
          0.0036363636363636364,
          0.0036363636363636364,
          0.0036363636363636364,
          0.0036363636363636364,
          0.0036363636363636364,
          0.0036363636363636364,
          0.0036363636363636364,
          0.0036363636363636364,
          0.0036363636363636364,
          0.0036363636363636364,
          0.0036363636363636364,
          0.0036363636363636364,
          0.0036363636363636364,
          0.0036363636363636364,
          0.0036363636363636364,
          0.0036363636363636364,
          0.0036363636363636364,
          0.0036363636363636364,
          0.0036363636363636364,
          0.0036363636363636364,
          0.0036363636363636364,
          0.0036363636363636364,
          0.0036363636363636364,
          0.0036363636363636364,
          0.0036363636363636364,
          0.0036363636363636364,
          0.0036363636363636364,
          0.0036363636363636364,
          0.0036363636363636364,
          0.0036363636363636364,
          0.0036363636363636364,
          0.0036363636363636364,
          0.0036363636363636364,
          0.0036363636363636364,
          0.0036363636363636364,
          0.0036363636363636364,
          0.0036363636363636364,
          0.0036363636363636364,
          0.0036363636363636364,
          0.0036363636363636364,
          0.0036363636363636364
         ],
         "xaxis": "x",
         "y": {
          "bdata": "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",
          "dtype": "f8"
         },
         "yaxis": "y"
        },
        {
         "hoverinfo": "text",
         "hovertext": [
          "LC10a<br>Frac:0.50<br>Med_syn_num:65",
          "LC10d<br>Frac:0.49<br>Med_syn_num:36",
          "LT52<br>Frac:0.43<br>Med_syn_num:25",
          "AOTU008<br>Frac:0.42<br>Med_syn_num:32",
          "AOTU001<br>Frac:0.39<br>Med_syn_num:11",
          "LC10c-2<br>Frac:0.39<br>Med_syn_num:7",
          "AOTU041<br>Frac:0.36<br>Med_syn_num:7",
          "TuTuA_1<br>Frac:0.33<br>Med_syn_num:9",
          "LC10c-1<br>Frac:0.33<br>Med_syn_num:6",
          "AOTU014<br>Frac:0.32<br>Med_syn_num:9",
          "AOTU059<br>Frac:0.32<br>Med_syn_num:5",
          "TuTuA_2<br>Frac:0.30<br>Med_syn_num:18",
          "AOTU002_b<br>Frac:0.25<br>Med_syn_num:21",
          "AOTU019<br>Frac:0.25<br>Med_syn_num:9",
          "AOTU015<br>Frac:0.24<br>Med_syn_num:20",
          "AOTU063_b<br>Frac:0.24<br>Med_syn_num:6",
          "AOTU101m<br>Frac:0.24<br>Med_syn_num:5",
          "LC10e<br>Frac:0.24<br>Med_syn_num:4",
          "AOTU016_b<br>Frac:0.22<br>Med_syn_num:20",
          "AOTU022<br>Frac:0.22<br>Med_syn_num:4",
          "AOTU023<br>Frac:0.20<br>Med_syn_num:8",
          "AOTU025<br>Frac:0.19<br>Med_syn_num:6",
          "AOTU002_a<br>Frac:0.19<br>Med_syn_num:16",
          "AOTU002_c<br>Frac:0.19<br>Med_syn_num:14",
          "AOTU003<br>Frac:0.18<br>Med_syn_num:10",
          "AOTU026<br>Frac:0.17<br>Med_syn_num:6",
          "AOTU007_c<br>Frac:0.17<br>Med_syn_num:12",
          "AOTU016_a<br>Frac:0.17<br>Med_syn_num:14",
          "AOTU063_a<br>Frac:0.16<br>Med_syn_num:5",
          "AOTU042<br>Frac:0.16<br>Med_syn_num:4",
          "AOTU016_c<br>Frac:0.16<br>Med_syn_num:9",
          "AOTU027<br>Frac:0.15<br>Med_syn_num:5",
          "LAL028<br>Frac:0.15<br>Med_syn_num:12",
          "AOTU017<br>Frac:0.15<br>Med_syn_num:4",
          "AOTU006<br>Frac:0.15<br>Med_syn_num:16",
          "LAL027<br>Frac:0.15<br>Med_syn_num:9",
          "AOTU029<br>Frac:0.14<br>Med_syn_num:5",
          "AOTU012<br>Frac:0.14<br>Med_syn_num:6",
          "AOTU007_a<br>Frac:0.13<br>Med_syn_num:9",
          "AOTU050<br>Frac:0.13<br>Med_syn_num:3",
          "P1_1b<br>Frac:0.12<br>Med_syn_num:5",
          "AOTU028<br>Frac:0.12<br>Med_syn_num:5",
          "AOTU018<br>Frac:0.12<br>Med_syn_num:4",
          "AOTU007_b<br>Frac:0.12<br>Med_syn_num:8",
          "SMP148<br>Frac:0.12<br>Med_syn_num:3",
          "SMP151<br>Frac:0.11<br>Med_syn_num:4",
          "AOTU004<br>Frac:0.11<br>Med_syn_num:4",
          "AOTU024<br>Frac:0.11<br>Med_syn_num:4",
          "LAL029_e<br>Frac:0.10<br>Med_syn_num:5",
          "SIP020_b<br>Frac:0.10<br>Med_syn_num:2",
          "AOTU013<br>Frac:0.10<br>Med_syn_num:4",
          "AOTU030<br>Frac:0.09<br>Med_syn_num:2",
          "AOTU005<br>Frac:0.09<br>Med_syn_num:6",
          "AOTU020<br>Frac:0.09<br>Med_syn_num:3",
          "LoVP76<br>Frac:0.09<br>Med_syn_num:4",
          "AOTU062<br>Frac:0.09<br>Med_syn_num:4",
          "LAL029_c<br>Frac:0.09<br>Med_syn_num:5",
          "AOTU102m<br>Frac:0.08<br>Med_syn_num:4",
          "LC10_unclear<br>Frac:0.07<br>Med_syn_num:8",
          "LC10b<br>Frac:0.07<br>Med_syn_num:3",
          "AOTU053<br>Frac:0.07<br>Med_syn_num:8",
          "CB0356<br>Frac:0.07<br>Med_syn_num:3",
          "PS008_b<br>Frac:0.07<br>Med_syn_num:12",
          "SMP080<br>Frac:0.07<br>Med_syn_num:2",
          "CB3127<br>Frac:0.06<br>Med_syn_num:4",
          "LAL301m<br>Frac:0.06<br>Med_syn_num:4",
          "LAL029_d<br>Frac:0.06<br>Med_syn_num:6",
          "LAL026_a<br>Frac:0.06<br>Med_syn_num:6",
          "LAL026_b<br>Frac:0.05<br>Med_syn_num:3",
          "CB0361<br>Frac:0.05<br>Med_syn_num:7",
          "AOTU052<br>Frac:0.05<br>Med_syn_num:3",
          "AOTU058<br>Frac:0.05<br>Med_syn_num:3",
          "DNa10<br>Frac:0.05<br>Med_syn_num:3",
          "PAL03<br>Frac:0.04<br>Med_syn_num:2",
          "SIP020_a<br>Frac:0.04<br>Med_syn_num:4",
          "IB018<br>Frac:0.04<br>Med_syn_num:2",
          "LAL300m<br>Frac:0.04<br>Med_syn_num:3",
          "AOTU103m<br>Frac:0.04<br>Med_syn_num:3",
          "P1_1a<br>Frac:0.04<br>Med_syn_num:3",
          "LAL025<br>Frac:0.03<br>Med_syn_num:3",
          "AOTU061<br>Frac:0.03<br>Med_syn_num:4",
          "TuBu06<br>Frac:0.03<br>Med_syn_num:4",
          "LoVP77<br>Frac:0.03<br>Med_syn_num:2",
          "AOTU037<br>Frac:0.03<br>Med_syn_num:1",
          "AOTU043<br>Frac:0.03<br>Med_syn_num:4",
          "AOTU060<br>Frac:0.03<br>Med_syn_num:3",
          "CB0931<br>Frac:0.03<br>Med_syn_num:3",
          "LoVP83<br>Frac:0.03<br>Med_syn_num:2",
          "TuBu01<br>Frac:0.03<br>Med_syn_num:2",
          "AOTU051<br>Frac:0.02<br>Med_syn_num:2",
          "PS002<br>Frac:0.02<br>Med_syn_num:2",
          "PLP300m<br>Frac:0.02<br>Med_syn_num:2",
          "AOTU035<br>Frac:0.02<br>Med_syn_num:3",
          "AOTU100m<br>Frac:0.02<br>Med_syn_num:2",
          "AVLP209<br>Frac:0.02<br>Med_syn_num:1",
          "AOTU011<br>Frac:0.02<br>Med_syn_num:2",
          "CB1851<br>Frac:0.02<br>Med_syn_num:6",
          "TuBu08<br>Frac:0.02<br>Med_syn_num:5",
          "AOTU034<br>Frac:0.02<br>Med_syn_num:2",
          "PLP245<br>Frac:0.02<br>Med_syn_num:1",
          "MeTu4c<br>Frac:0.02<br>Med_syn_num:2",
          "P1_8a<br>Frac:0.02<br>Med_syn_num:1",
          "SLP122_b<br>Frac:0.02<br>Med_syn_num:1",
          "AOTU047<br>Frac:0.02<br>Med_syn_num:2",
          "SMP153_a<br>Frac:0.02<br>Med_syn_num:2",
          "SMP398_b<br>Frac:0.01<br>Med_syn_num:1",
          "SMP155<br>Frac:0.01<br>Med_syn_num:2",
          "PS083_a<br>Frac:0.01<br>Med_syn_num:2",
          "AOTU033<br>Frac:0.01<br>Med_syn_num:3",
          "SMP014<br>Frac:0.01<br>Med_syn_num:1",
          "CB2975<br>Frac:0.01<br>Med_syn_num:1",
          "AOTU045<br>Frac:0.01<br>Med_syn_num:2",
          "FB4L<br>Frac:0.01<br>Med_syn_num:4",
          "AOTU038<br>Frac:0.01<br>Med_syn_num:2",
          "SMP143<br>Frac:0.01<br>Med_syn_num:2",
          "SMP020<br>Frac:0.01<br>Med_syn_num:2",
          "SMP054<br>Frac:0.01<br>Med_syn_num:1",
          "CB3984<br>Frac:0.01<br>Med_syn_num:2",
          "CL022_b<br>Frac:0.01<br>Med_syn_num:1",
          "AOTU049<br>Frac:0.01<br>Med_syn_num:1",
          "MeTu2a<br>Frac:0.01<br>Med_syn_num:1",
          "DNa16<br>Frac:0.01<br>Med_syn_num:1",
          "LoVP78<br>Frac:0.01<br>Med_syn_num:1",
          "DNp27<br>Frac:0.01<br>Med_syn_num:1",
          "LoVC1<br>Frac:0.01<br>Med_syn_num:1",
          "LAL088<br>Frac:0.01<br>Med_syn_num:1",
          "TuBu07<br>Frac:0.01<br>Med_syn_num:2",
          "LPT60<br>Frac:0.01<br>Med_syn_num:1",
          "ICL002m<br>Frac:0.01<br>Med_syn_num:2",
          "PS083_b<br>Frac:0.01<br>Med_syn_num:2",
          "SMP588<br>Frac:0.01<br>Med_syn_num:2",
          "TuBu02<br>Frac:0.01<br>Med_syn_num:2",
          "CL328<br>Frac:0.01<br>Med_syn_num:2",
          "SIP017<br>Frac:0.01<br>Med_syn_num:2",
          "PVLP114<br>Frac:0.01<br>Med_syn_num:2",
          "P1_9a<br>Frac:0.01<br>Med_syn_num:2",
          "AOTU009<br>Frac:0.01<br>Med_syn_num:2",
          "LT84<br>Frac:0.01<br>Med_syn_num:2",
          "LoVC22<br>Frac:0.01<br>Med_syn_num:2",
          "DNp63<br>Frac:0.01<br>Med_syn_num:2",
          "PAM01<br>Frac:0.01<br>Med_syn_num:4",
          "PLP122_b<br>Frac:0.01<br>Med_syn_num:1",
          "AOTU048<br>Frac:0.01<br>Med_syn_num:2",
          "SMP039<br>Frac:0.01<br>Med_syn_num:1",
          "aIPg_m8<br>Frac:0.01<br>Med_syn_num:1",
          "AOTU065<br>Frac:0.01<br>Med_syn_num:2",
          "PVLP203m<br>Frac:0.01<br>Med_syn_num:2",
          "AOTU054<br>Frac:0.01<br>Med_syn_num:3",
          "PS083_c<br>Frac:0.01<br>Med_syn_num:1",
          "VES041<br>Frac:0.01<br>Med_syn_num:2",
          "AVLP749m<br>Frac:0.01<br>Med_syn_num:2",
          "TuTuB_b<br>Frac:0.01<br>Med_syn_num:2",
          "PLP009<br>Frac:0.01<br>Med_syn_num:1",
          "TuTuB_a<br>Frac:0.01<br>Med_syn_num:1",
          "LH008m<br>Frac:0.01<br>Med_syn_num:1",
          "CL225<br>Frac:0.01<br>Med_syn_num:1",
          "LC33<br>Frac:0.01<br>Med_syn_num:1",
          "CRE041<br>Frac:0.01<br>Med_syn_num:1",
          "MeTu1<br>Frac:0.01<br>Med_syn_num:2",
          "MeTu4e<br>Frac:0.01<br>Med_syn_num:1",
          "P1_9b<br>Frac:0.01<br>Med_syn_num:3",
          "SMP018<br>Frac:0.01<br>Med_syn_num:1",
          "LT34<br>Frac:0.01<br>Med_syn_num:2",
          "MeTu3a<br>Frac:0.01<br>Med_syn_num:3",
          "TuBu04<br>Frac:0.01<br>Med_syn_num:2",
          "TuBu03<br>Frac:0.01<br>Med_syn_num:4",
          "LAL029_b<br>Frac:0.00<br>Med_syn_num:3",
          "aIPg_m5<br>Frac:0.00<br>Med_syn_num:2",
          "VP1d_il2PN<br>Frac:0.00<br>Med_syn_num:1",
          "AOTU032<br>Frac:0.00<br>Med_syn_num:1",
          "TuBu09<br>Frac:0.00<br>Med_syn_num:2",
          "SMP398_a<br>Frac:0.00<br>Med_syn_num:1",
          "mAL6<br>Frac:0.00<br>Med_syn_num:1",
          "SMP375<br>Frac:0.00<br>Med_syn_num:2",
          "SMP393<br>Frac:0.00<br>Med_syn_num:2",
          "TuBu05<br>Frac:0.00<br>Med_syn_num:1",
          "MBON35<br>Frac:0.00<br>Med_syn_num:2",
          "SMP017<br>Frac:0.00<br>Med_syn_num:1",
          "CB3015<br>Frac:0.00<br>Med_syn_num:1",
          "LAL009<br>Frac:0.00<br>Med_syn_num:2",
          "DNp09<br>Frac:0.00<br>Med_syn_num:1",
          "CL175<br>Frac:0.00<br>Med_syn_num:1",
          "CL031<br>Frac:0.00<br>Med_syn_num:1",
          "CL022_c<br>Frac:0.00<br>Med_syn_num:2",
          "CB3961<br>Frac:0.00<br>Med_syn_num:1",
          "CB2981<br>Frac:0.00<br>Med_syn_num:2",
          "SMP013<br>Frac:0.00<br>Med_syn_num:1",
          "AVLP752m<br>Frac:0.00<br>Med_syn_num:1",
          "AVLP717m<br>Frac:0.00<br>Med_syn_num:1",
          "AVLP590<br>Frac:0.00<br>Med_syn_num:2",
          "AVLP047<br>Frac:0.00<br>Med_syn_num:1",
          "AOTU064<br>Frac:0.00<br>Med_syn_num:1",
          "AOTU056<br>Frac:0.00<br>Med_syn_num:1",
          "AOTU046<br>Frac:0.00<br>Med_syn_num:3",
          "LHCENT3<br>Frac:0.00<br>Med_syn_num:1",
          "LT54<br>Frac:0.00<br>Med_syn_num:1",
          "LT55<br>Frac:0.00<br>Med_syn_num:2",
          "LoVP_unclear<br>Frac:0.00<br>Med_syn_num:1",
          "MeTu2b<br>Frac:0.00<br>Med_syn_num:2",
          "MeTu3b<br>Frac:0.00<br>Med_syn_num:1",
          "MeTu3c<br>Frac:0.00<br>Med_syn_num:1",
          "MeTu4_unclear<br>Frac:0.00<br>Med_syn_num:1",
          "MeTu4a<br>Frac:0.00<br>Med_syn_num:4",
          "MeTu4b<br>Frac:0.00<br>Med_syn_num:2",
          "MeTu4d<br>Frac:0.00<br>Med_syn_num:1",
          "MeTu4f<br>Frac:0.00<br>Med_syn_num:2",
          "OA-VUMa6<br>Frac:0.00<br>Med_syn_num:1",
          "PS084<br>Frac:0.00<br>Med_syn_num:4",
          "SIP004<br>Frac:0.00<br>Med_syn_num:2",
          "SLP170<br>Frac:0.00<br>Med_syn_num:1",
          "pIP1<br>Frac:0.00<br>Med_syn_num:2"
         ],
         "marker": {
          "color": "#3283FE",
          "size": {
           "bdata": "0LphP+AfQEAAAAAAAAA4QAAAAAAAADRAzTt/Zp6gNkA0b/2TcogqQOr40ql/KiVA6vjSqX8qJUAAAAAAAAAoQC4hCRSOmCNAAAAAAAAAKECo9Jebd+MhQNls38x2+DBAhR4VuY5UMkAAAAAAAAAoQATxbY/cqTFALiEJFI6YI0Co9Jebd+MhQAAAAAAAACBAqPSXm3fjMUAAAAAAAAAgQI+lNtKt6CVA9i8SX2VlJEAST43r+34vQEk/aBHq7i1AU1vaOlhMKUAuIQkUjpgjQKpMWOh6titAST9oEeruLUCo9Jebd+MhQNls38x2+CBAAAAAAAAAKECo9Jebd+MhQCPQcBwbIStAAAAAAAAAIEAST43r+34vQAAAAAAAAChAqPSXm3fjIUAuIQkUjpgjQAAAAAAAAChAqkxY6Hq2G0Co9Jebd+MhQKj0l5t34yFAAAAAAAAAIEDNO39mnqAmQKpMWOh6thtAAAAAAAAAIEAAAAAAAAAgQAAAAAAAACBAqPSXm3fjIUDNO39mnqAWQAAAAAAAACBAzTt/Zp6gFkAuIQkUjpgjQKpMWOh6thtAAAAAAAAAIEAAAAAAAAAgQKj0l5t34yFAAAAAAAAAIEDNO39mnqAmQKpMWOh6thtAzTt/Zp6gJkCqTFjoerYbQCPQcBwbIStAzTt/Zp6gFkAAAAAAAAAgQAAAAAAAACBA9i8SX2VlJECnVlRZ/MIiQKpMWOh6thtA6vjSqX8qJUCqTFjoerYbQKpMWOh6thtAqkxY6Hq2G0DNO39mnqAWQNls38x2+CBAzTt/Zp6gFkCqTFjoerYbQKpMWOh6thtAqkxY6Hq2G0CqTFjoerYbQAAAAAAAACBA2WzfzHb4IEBTW9o6WEwZQAAAAAAAABBAAAAAAAAAIECqTFjoerYbQKpMWOh6thtAzTt/Zp6gFkDNO39mnqAWQM07f2aeoBZAU1vaOlhMGUDNO39mnqAWQKpMWOh6thtAzTt/Zp6gFkAAAAAAAAAQQM07f2aeoBZAp1ZUWfzCIkCo9Jebd+MhQM07f2aeoBZAAAAAAAAAEEDNO39mnqAWQAAAAAAAABBAAAAAAAAAEEDNO39mnqAWQM07f2aeoBZAAAAAAAAAEEBTW9o6WEwZQM07f2aeoBZAqkxY6Hq2G0AAAAAAAAAQQAAAAAAAABBAzTt/Zp6gFkBJP2gR6u4dQM07f2aeoBZAU1vaOlhMGUDNO39mnqAWQAAAAAAAABBAzTt/Zp6gFkAAAAAAAAAQQAAAAAAAABBAAAAAAAAAEEAAAAAAAAAQQAAAAAAAABBAAAAAAAAAEEAAAAAAAAAQQAAAAAAAABBAzTt/Zp6gFkAAAAAAAAAQQM07f2aeoBZAzTt/Zp6gFkDNO39mnqAWQM07f2aeoBZAzTt/Zp6gFkDNO39mnqAWQFNb2jpYTBlAzTt/Zp6gFkDNO39mnqAWQM07f2aeoBZAzTt/Zp6gFkBTW9o6WEwZQAAAAAAAACBAAAAAAAAAEEBTW9o6WEwZQAAAAAAAABBAAAAAAAAAEEDNO39mnqAWQM07f2aeoBZAqkxY6Hq2G0AAAAAAAAAQQM07f2aeoBZAzTt/Zp6gFkDNO39mnqAWQAAAAAAAABBAAAAAAAAAEEAAAAAAAAAQQAAAAAAAABBAAAAAAAAAEEAAAAAAAAAQQC4hCRSOmBNAAAAAAAAAEECqTFjoerYbQAAAAAAAABBAzTt/Zp6gFkCqTFjoerYbQM07f2aeoBZAST9oEeruHUCqTFjoerYbQM07f2aeoBZAAAAAAAAAEEAAAAAAAAAQQM07f2aeoBZAAAAAAAAAEEAAAAAAAAAQQM07f2aeoBZAzTt/Zp6gFkAAAAAAAAAQQM07f2aeoBZAAAAAAAAAEEAAAAAAAAAQQM07f2aeoBZAAAAAAAAAEEAAAAAAAAAQQAAAAAAAABBAzTt/Zp6gFkAAAAAAAAAQQM07f2aeoBZAAAAAAAAAEEAAAAAAAAAQQAAAAAAAABBAzTt/Zp6gFkAAAAAAAAAQQAAAAAAAABBAAAAAAAAAEECqTFjoerYbQAAAAAAAABBAAAAAAAAAEEDNO39mnqAWQAAAAAAAABBAzTt/Zp6gFkAAAAAAAAAQQAAAAAAAABBAAAAAAAAAEEAAAAAAAAAgQM07f2aeoBZAAAAAAAAAEEDNO39mnqAWQAAAAAAAABBAAAAAAAAAIEDNO39mnqAWQAAAAAAAABBAzTt/Zp6gFkA=",
           "dtype": "f8"
          }
         },
         "mode": "markers",
         "showlegend": false,
         "type": "scatter",
         "x": [
          "LC10a",
          "LC10d",
          "LT52",
          "AOTU008",
          "AOTU001",
          "LC10c-2",
          "AOTU041",
          "TuTuA_1",
          "LC10c-1",
          "AOTU014",
          "AOTU059",
          "TuTuA_2",
          "AOTU002_b",
          "AOTU019",
          "AOTU015",
          "AOTU063_b",
          "AOTU101m",
          "LC10e",
          "AOTU016_b",
          "AOTU022",
          "AOTU023",
          "AOTU025",
          "AOTU002_a",
          "AOTU002_c",
          "AOTU003",
          "AOTU026",
          "AOTU007_c",
          "AOTU016_a",
          "AOTU063_a",
          "AOTU042",
          "AOTU016_c",
          "AOTU027",
          "LAL028",
          "AOTU017",
          "AOTU006",
          "LAL027",
          "AOTU029",
          "AOTU012",
          "AOTU007_a",
          "AOTU050",
          "P1_1b",
          "AOTU028",
          "AOTU018",
          "AOTU007_b",
          "SMP148",
          "SMP151",
          "AOTU004",
          "AOTU024",
          "LAL029_e",
          "SIP020_b",
          "AOTU013",
          "AOTU030",
          "AOTU005",
          "AOTU020",
          "LoVP76",
          "AOTU062",
          "LAL029_c",
          "AOTU102m",
          "LC10_unclear",
          "LC10b",
          "AOTU053",
          "CB0356",
          "PS008_b",
          "SMP080",
          "CB3127",
          "LAL301m",
          "LAL029_d",
          "LAL026_a",
          "LAL026_b",
          "CB0361",
          "AOTU052",
          "AOTU058",
          "DNa10",
          "PAL03",
          "SIP020_a",
          "IB018",
          "LAL300m",
          "AOTU103m",
          "P1_1a",
          "LAL025",
          "AOTU061",
          "TuBu06",
          "LoVP77",
          "AOTU037",
          "AOTU043",
          "AOTU060",
          "CB0931",
          "LoVP83",
          "TuBu01",
          "AOTU051",
          "PS002",
          "PLP300m",
          "AOTU035",
          "AOTU100m",
          "AVLP209",
          "AOTU011",
          "CB1851",
          "TuBu08",
          "AOTU034",
          "PLP245",
          "MeTu4c",
          "P1_8a",
          "SLP122_b",
          "AOTU047",
          "SMP153_a",
          "SMP398_b",
          "SMP155",
          "PS083_a",
          "AOTU033",
          "SMP014",
          "CB2975",
          "AOTU045",
          "FB4L",
          "AOTU038",
          "SMP143",
          "SMP020",
          "SMP054",
          "CB3984",
          "CL022_b",
          "AOTU049",
          "MeTu2a",
          "DNa16",
          "LoVP78",
          "DNp27",
          "LoVC1",
          "LAL088",
          "TuBu07",
          "LPT60",
          "ICL002m",
          "PS083_b",
          "SMP588",
          "TuBu02",
          "CL328",
          "SIP017",
          "PVLP114",
          "P1_9a",
          "AOTU009",
          "LT84",
          "LoVC22",
          "DNp63",
          "PAM01",
          "PLP122_b",
          "AOTU048",
          "SMP039",
          "aIPg_m8",
          "AOTU065",
          "PVLP203m",
          "AOTU054",
          "PS083_c",
          "VES041",
          "AVLP749m",
          "TuTuB_b",
          "PLP009",
          "TuTuB_a",
          "LH008m",
          "CL225",
          "LC33",
          "CRE041",
          "MeTu1",
          "MeTu4e",
          "P1_9b",
          "SMP018",
          "LT34",
          "MeTu3a",
          "TuBu04",
          "TuBu03",
          "LAL029_b",
          "aIPg_m5",
          "VP1d_il2PN",
          "AOTU032",
          "TuBu09",
          "SMP398_a",
          "mAL6",
          "SMP375",
          "SMP393",
          "TuBu05",
          "MBON35",
          "SMP017",
          "CB3015",
          "LAL009",
          "DNp09",
          "CL175",
          "CL031",
          "CL022_c",
          "CB3961",
          "CB2981",
          "SMP013",
          "AVLP752m",
          "AVLP717m",
          "AVLP590",
          "AVLP047",
          "AOTU064",
          "AOTU056",
          "AOTU046",
          "LHCENT3",
          "LT54",
          "LT55",
          "LoVP_unclear",
          "MeTu2b",
          "MeTu3b",
          "MeTu3c",
          "MeTu4_unclear",
          "MeTu4a",
          "MeTu4b",
          "MeTu4d",
          "MeTu4f",
          "OA-VUMa6",
          "PS084",
          "SIP004",
          "SLP170",
          "pIP1"
         ],
         "xaxis": "x2",
         "y": [
          0.5,
          0.4927272727272727,
          0.4290909090909091,
          0.4236363636363636,
          0.39454545454545453,
          0.3890909090909091,
          0.3618181818181818,
          0.33272727272727276,
          0.32545454545454544,
          0.32,
          0.31636363636363635,
          0.30424242424242426,
          0.2509090909090909,
          0.2509090909090909,
          0.24181818181818182,
          0.24,
          0.23636363636363636,
          0.23636363636363636,
          0.22363636363636363,
          0.2218181818181818,
          0.19636363636363635,
          0.19454545454545455,
          0.19090909090909092,
          0.1890909090909091,
          0.18363636363636365,
          0.16545454545454547,
          0.16545454545454547,
          0.16545454545454547,
          0.16363636363636364,
          0.1618181818181818,
          0.1618181818181818,
          0.1527272727272727,
          0.1509090909090909,
          0.1490909090909091,
          0.1490909090909091,
          0.14909090909090908,
          0.14,
          0.13999999999999999,
          0.13454545454545455,
          0.13090909090909092,
          0.12363636363636364,
          0.12181818181818183,
          0.12,
          0.1181818181818182,
          0.11818181818181818,
          0.11272727272727272,
          0.10909090909090909,
          0.10545454545454547,
          0.10363636363636364,
          0.10181818181818182,
          0.10181818181818181,
          0.09090909090909091,
          0.0896969696969697,
          0.0890909090909091,
          0.08909090909090908,
          0.08545454545454545,
          0.08545454545454545,
          0.08363636363636363,
          0.07454545454545455,
          0.07090909090909092,
          0.07090909090909091,
          0.06909090909090909,
          0.06545454545454546,
          0.06545454545454546,
          0.061818181818181814,
          0.061818181818181814,
          0.06,
          0.056363636363636366,
          0.05454545454545454,
          0.05272727272727273,
          0.05090909090909091,
          0.04909090909090909,
          0.04727272727272727,
          0.04363636363636364,
          0.04242424242424243,
          0.041818181818181824,
          0.04181818181818182,
          0.04,
          0.03636363636363636,
          0.034545454545454546,
          0.03272727272727273,
          0.03151515151515152,
          0.030909090909090907,
          0.02909090909090909,
          0.027272727272727275,
          0.027272727272727275,
          0.025454545454545455,
          0.025454545454545455,
          0.025454545454545452,
          0.023636363636363636,
          0.023636363636363636,
          0.023636363636363636,
          0.02181818181818182,
          0.02181818181818182,
          0.02181818181818182,
          0.02,
          0.02,
          0.02,
          0.018181818181818184,
          0.01818181818181818,
          0.01818181818181818,
          0.01818181818181818,
          0.01818181818181818,
          0.016363636363636365,
          0.016363636363636365,
          0.014545454545454545,
          0.014545454545454545,
          0.014545454545454545,
          0.014545454545454545,
          0.014545454545454545,
          0.014545454545454545,
          0.012727272727272728,
          0.012727272727272728,
          0.012727272727272728,
          0.012727272727272726,
          0.01090909090909091,
          0.01090909090909091,
          0.01090909090909091,
          0.01090909090909091,
          0.01090909090909091,
          0.01090909090909091,
          0.01090909090909091,
          0.01090909090909091,
          0.01090909090909091,
          0.01090909090909091,
          0.01090909090909091,
          0.01090909090909091,
          0.01090909090909091,
          0.01090909090909091,
          0.010909090909090908,
          0.010909090909090908,
          0.010909090909090908,
          0.00909090909090909,
          0.00909090909090909,
          0.00909090909090909,
          0.00909090909090909,
          0.00909090909090909,
          0.00909090909090909,
          0.00909090909090909,
          0.00909090909090909,
          0.008484848484848484,
          0.007272727272727273,
          0.007272727272727273,
          0.007272727272727273,
          0.007272727272727273,
          0.007272727272727273,
          0.007272727272727273,
          0.007272727272727273,
          0.007272727272727273,
          0.007272727272727273,
          0.007272727272727273,
          0.007272727272727273,
          0.007272727272727273,
          0.007272727272727273,
          0.007272727272727273,
          0.007272727272727273,
          0.007272727272727273,
          0.007272727272727273,
          0.007272727272727273,
          0.007272727272727273,
          0.007272727272727273,
          0.007272727272727273,
          0.005454545454545455,
          0.005454545454545455,
          0.005454545454545455,
          0.005454545454545455,
          0.0048484848484848485,
          0.0036363636363636364,
          0.0036363636363636364,
          0.0036363636363636364,
          0.0036363636363636364,
          0.0036363636363636364,
          0.0036363636363636364,
          0.0036363636363636364,
          0.0036363636363636364,
          0.0036363636363636364,
          0.0036363636363636364,
          0.0036363636363636364,
          0.0036363636363636364,
          0.0036363636363636364,
          0.0036363636363636364,
          0.0036363636363636364,
          0.0036363636363636364,
          0.0036363636363636364,
          0.0036363636363636364,
          0.0036363636363636364,
          0.0036363636363636364,
          0.0036363636363636364,
          0.0036363636363636364,
          0.0036363636363636364,
          0.0036363636363636364,
          0.0036363636363636364,
          0.0036363636363636364,
          0.0036363636363636364,
          0.0036363636363636364,
          0.0036363636363636364,
          0.0036363636363636364,
          0.0036363636363636364,
          0.0036363636363636364,
          0.0036363636363636364,
          0.0036363636363636364,
          0.0036363636363636364,
          0.0036363636363636364,
          0.0036363636363636364,
          0.0036363636363636364,
          0.0036363636363636364,
          0.0036363636363636364,
          0.0036363636363636364,
          0.0036363636363636364,
          0.0036363636363636364,
          0.0036363636363636364
         ],
         "yaxis": "y2"
        }
       ],
       "layout": {
        "font": {
         "size": 12
        },
        "height": 700,
        "template": {
         "data": {
          "bar": [
           {
            "error_x": {
             "color": "#2a3f5f"
            },
            "error_y": {
             "color": "#2a3f5f"
            },
            "marker": {
             "line": {
              "color": "#E5ECF6",
              "width": 0.5
             },
             "pattern": {
              "fillmode": "overlay",
              "size": 10,
              "solidity": 0.2
             }
            },
            "type": "bar"
           }
          ],
          "barpolar": [
           {
            "marker": {
             "line": {
              "color": "#E5ECF6",
              "width": 0.5
             },
             "pattern": {
              "fillmode": "overlay",
              "size": 10,
              "solidity": 0.2
             }
            },
            "type": "barpolar"
           }
          ],
          "carpet": [
           {
            "aaxis": {
             "endlinecolor": "#2a3f5f",
             "gridcolor": "white",
             "linecolor": "white",
             "minorgridcolor": "white",
             "startlinecolor": "#2a3f5f"
            },
            "baxis": {
             "endlinecolor": "#2a3f5f",
             "gridcolor": "white",
             "linecolor": "white",
             "minorgridcolor": "white",
             "startlinecolor": "#2a3f5f"
            },
            "type": "carpet"
           }
          ],
          "choropleth": [
           {
            "colorbar": {
             "outlinewidth": 0,
             "ticks": ""
            },
            "type": "choropleth"
           }
          ],
          "contour": [
           {
            "colorbar": {
             "outlinewidth": 0,
             "ticks": ""
            },
            "colorscale": [
             [
              0,
              "#0d0887"
             ],
             [
              0.1111111111111111,
              "#46039f"
             ],
             [
              0.2222222222222222,
              "#7201a8"
             ],
             [
              0.3333333333333333,
              "#9c179e"
             ],
             [
              0.4444444444444444,
              "#bd3786"
             ],
             [
              0.5555555555555556,
              "#d8576b"
             ],
             [
              0.6666666666666666,
              "#ed7953"
             ],
             [
              0.7777777777777778,
              "#fb9f3a"
             ],
             [
              0.8888888888888888,
              "#fdca26"
             ],
             [
              1,
              "#f0f921"
             ]
            ],
            "type": "contour"
           }
          ],
          "contourcarpet": [
           {
            "colorbar": {
             "outlinewidth": 0,
             "ticks": ""
            },
            "type": "contourcarpet"
           }
          ],
          "heatmap": [
           {
            "colorbar": {
             "outlinewidth": 0,
             "ticks": ""
            },
            "colorscale": [
             [
              0,
              "#0d0887"
             ],
             [
              0.1111111111111111,
              "#46039f"
             ],
             [
              0.2222222222222222,
              "#7201a8"
             ],
             [
              0.3333333333333333,
              "#9c179e"
             ],
             [
              0.4444444444444444,
              "#bd3786"
             ],
             [
              0.5555555555555556,
              "#d8576b"
             ],
             [
              0.6666666666666666,
              "#ed7953"
             ],
             [
              0.7777777777777778,
              "#fb9f3a"
             ],
             [
              0.8888888888888888,
              "#fdca26"
             ],
             [
              1,
              "#f0f921"
             ]
            ],
            "type": "heatmap"
           }
          ],
          "histogram": [
           {
            "marker": {
             "pattern": {
              "fillmode": "overlay",
              "size": 10,
              "solidity": 0.2
             }
            },
            "type": "histogram"
           }
          ],
          "histogram2d": [
           {
            "colorbar": {
             "outlinewidth": 0,
             "ticks": ""
            },
            "colorscale": [
             [
              0,
              "#0d0887"
             ],
             [
              0.1111111111111111,
              "#46039f"
             ],
             [
              0.2222222222222222,
              "#7201a8"
             ],
             [
              0.3333333333333333,
              "#9c179e"
             ],
             [
              0.4444444444444444,
              "#bd3786"
             ],
             [
              0.5555555555555556,
              "#d8576b"
             ],
             [
              0.6666666666666666,
              "#ed7953"
             ],
             [
              0.7777777777777778,
              "#fb9f3a"
             ],
             [
              0.8888888888888888,
              "#fdca26"
             ],
             [
              1,
              "#f0f921"
             ]
            ],
            "type": "histogram2d"
           }
          ],
          "histogram2dcontour": [
           {
            "colorbar": {
             "outlinewidth": 0,
             "ticks": ""
            },
            "colorscale": [
             [
              0,
              "#0d0887"
             ],
             [
              0.1111111111111111,
              "#46039f"
             ],
             [
              0.2222222222222222,
              "#7201a8"
             ],
             [
              0.3333333333333333,
              "#9c179e"
             ],
             [
              0.4444444444444444,
              "#bd3786"
             ],
             [
              0.5555555555555556,
              "#d8576b"
             ],
             [
              0.6666666666666666,
              "#ed7953"
             ],
             [
              0.7777777777777778,
              "#fb9f3a"
             ],
             [
              0.8888888888888888,
              "#fdca26"
             ],
             [
              1,
              "#f0f921"
             ]
            ],
            "type": "histogram2dcontour"
           }
          ],
          "mesh3d": [
           {
            "colorbar": {
             "outlinewidth": 0,
             "ticks": ""
            },
            "type": "mesh3d"
           }
          ],
          "parcoords": [
           {
            "line": {
             "colorbar": {
              "outlinewidth": 0,
              "ticks": ""
             }
            },
            "type": "parcoords"
           }
          ],
          "pie": [
           {
            "automargin": true,
            "type": "pie"
           }
          ],
          "scatter": [
           {
            "fillpattern": {
             "fillmode": "overlay",
             "size": 10,
             "solidity": 0.2
            },
            "type": "scatter"
           }
          ],
          "scatter3d": [
           {
            "line": {
             "colorbar": {
              "outlinewidth": 0,
              "ticks": ""
             }
            },
            "marker": {
             "colorbar": {
              "outlinewidth": 0,
              "ticks": ""
             }
            },
            "type": "scatter3d"
           }
          ],
          "scattercarpet": [
           {
            "marker": {
             "colorbar": {
              "outlinewidth": 0,
              "ticks": ""
             }
            },
            "type": "scattercarpet"
           }
          ],
          "scattergeo": [
           {
            "marker": {
             "colorbar": {
              "outlinewidth": 0,
              "ticks": ""
             }
            },
            "type": "scattergeo"
           }
          ],
          "scattergl": [
           {
            "marker": {
             "colorbar": {
              "outlinewidth": 0,
              "ticks": ""
             }
            },
            "type": "scattergl"
           }
          ],
          "scattermap": [
           {
            "marker": {
             "colorbar": {
              "outlinewidth": 0,
              "ticks": ""
             }
            },
            "type": "scattermap"
           }
          ],
          "scattermapbox": [
           {
            "marker": {
             "colorbar": {
              "outlinewidth": 0,
              "ticks": ""
             }
            },
            "type": "scattermapbox"
           }
          ],
          "scatterpolar": [
           {
            "marker": {
             "colorbar": {
              "outlinewidth": 0,
              "ticks": ""
             }
            },
            "type": "scatterpolar"
           }
          ],
          "scatterpolargl": [
           {
            "marker": {
             "colorbar": {
              "outlinewidth": 0,
              "ticks": ""
             }
            },
            "type": "scatterpolargl"
           }
          ],
          "scatterternary": [
           {
            "marker": {
             "colorbar": {
              "outlinewidth": 0,
              "ticks": ""
             }
            },
            "type": "scatterternary"
           }
          ],
          "surface": [
           {
            "colorbar": {
             "outlinewidth": 0,
             "ticks": ""
            },
            "colorscale": [
             [
              0,
              "#0d0887"
             ],
             [
              0.1111111111111111,
              "#46039f"
             ],
             [
              0.2222222222222222,
              "#7201a8"
             ],
             [
              0.3333333333333333,
              "#9c179e"
             ],
             [
              0.4444444444444444,
              "#bd3786"
             ],
             [
              0.5555555555555556,
              "#d8576b"
             ],
             [
              0.6666666666666666,
              "#ed7953"
             ],
             [
              0.7777777777777778,
              "#fb9f3a"
             ],
             [
              0.8888888888888888,
              "#fdca26"
             ],
             [
              1,
              "#f0f921"
             ]
            ],
            "type": "surface"
           }
          ],
          "table": [
           {
            "cells": {
             "fill": {
              "color": "#EBF0F8"
             },
             "line": {
              "color": "white"
             }
            },
            "header": {
             "fill": {
              "color": "#C8D4E3"
             },
             "line": {
              "color": "white"
             }
            },
            "type": "table"
           }
          ]
         },
         "layout": {
          "annotationdefaults": {
           "arrowcolor": "#2a3f5f",
           "arrowhead": 0,
           "arrowwidth": 1
          },
          "autotypenumbers": "strict",
          "coloraxis": {
           "colorbar": {
            "outlinewidth": 0,
            "ticks": ""
           }
          },
          "colorscale": {
           "diverging": [
            [
             0,
             "#8e0152"
            ],
            [
             0.1,
             "#c51b7d"
            ],
            [
             0.2,
             "#de77ae"
            ],
            [
             0.3,
             "#f1b6da"
            ],
            [
             0.4,
             "#fde0ef"
            ],
            [
             0.5,
             "#f7f7f7"
            ],
            [
             0.6,
             "#e6f5d0"
            ],
            [
             0.7,
             "#b8e186"
            ],
            [
             0.8,
             "#7fbc41"
            ],
            [
             0.9,
             "#4d9221"
            ],
            [
             1,
             "#276419"
            ]
           ],
           "sequential": [
            [
             0,
             "#0d0887"
            ],
            [
             0.1111111111111111,
             "#46039f"
            ],
            [
             0.2222222222222222,
             "#7201a8"
            ],
            [
             0.3333333333333333,
             "#9c179e"
            ],
            [
             0.4444444444444444,
             "#bd3786"
            ],
            [
             0.5555555555555556,
             "#d8576b"
            ],
            [
             0.6666666666666666,
             "#ed7953"
            ],
            [
             0.7777777777777778,
             "#fb9f3a"
            ],
            [
             0.8888888888888888,
             "#fdca26"
            ],
            [
             1,
             "#f0f921"
            ]
           ],
           "sequentialminus": [
            [
             0,
             "#0d0887"
            ],
            [
             0.1111111111111111,
             "#46039f"
            ],
            [
             0.2222222222222222,
             "#7201a8"
            ],
            [
             0.3333333333333333,
             "#9c179e"
            ],
            [
             0.4444444444444444,
             "#bd3786"
            ],
            [
             0.5555555555555556,
             "#d8576b"
            ],
            [
             0.6666666666666666,
             "#ed7953"
            ],
            [
             0.7777777777777778,
             "#fb9f3a"
            ],
            [
             0.8888888888888888,
             "#fdca26"
            ],
            [
             1,
             "#f0f921"
            ]
           ]
          },
          "colorway": [
           "#636efa",
           "#EF553B",
           "#00cc96",
           "#ab63fa",
           "#FFA15A",
           "#19d3f3",
           "#FF6692",
           "#B6E880",
           "#FF97FF",
           "#FECB52"
          ],
          "font": {
           "color": "#2a3f5f"
          },
          "geo": {
           "bgcolor": "white",
           "lakecolor": "white",
           "landcolor": "#E5ECF6",
           "showlakes": true,
           "showland": true,
           "subunitcolor": "white"
          },
          "hoverlabel": {
           "align": "left"
          },
          "hovermode": "closest",
          "mapbox": {
           "style": "light"
          },
          "paper_bgcolor": "white",
          "plot_bgcolor": "#E5ECF6",
          "polar": {
           "angularaxis": {
            "gridcolor": "white",
            "linecolor": "white",
            "ticks": ""
           },
           "bgcolor": "#E5ECF6",
           "radialaxis": {
            "gridcolor": "white",
            "linecolor": "white",
            "ticks": ""
           }
          },
          "scene": {
           "xaxis": {
            "backgroundcolor": "#E5ECF6",
            "gridcolor": "white",
            "gridwidth": 2,
            "linecolor": "white",
            "showbackground": true,
            "ticks": "",
            "zerolinecolor": "white"
           },
           "yaxis": {
            "backgroundcolor": "#E5ECF6",
            "gridcolor": "white",
            "gridwidth": 2,
            "linecolor": "white",
            "showbackground": true,
            "ticks": "",
            "zerolinecolor": "white"
           },
           "zaxis": {
            "backgroundcolor": "#E5ECF6",
            "gridcolor": "white",
            "gridwidth": 2,
            "linecolor": "white",
            "showbackground": true,
            "ticks": "",
            "zerolinecolor": "white"
           }
          },
          "shapedefaults": {
           "line": {
            "color": "#2a3f5f"
           }
          },
          "ternary": {
           "aaxis": {
            "gridcolor": "white",
            "linecolor": "white",
            "ticks": ""
           },
           "baxis": {
            "gridcolor": "white",
            "linecolor": "white",
            "ticks": ""
           },
           "bgcolor": "#E5ECF6",
           "caxis": {
            "gridcolor": "white",
            "linecolor": "white",
            "ticks": ""
           }
          },
          "title": {
           "x": 0.05
          },
          "xaxis": {
           "automargin": true,
           "gridcolor": "white",
           "linecolor": "white",
           "ticks": "",
           "title": {
            "standoff": 15
           },
           "zerolinecolor": "white",
           "zerolinewidth": 2
          },
          "yaxis": {
           "automargin": true,
           "gridcolor": "white",
           "linecolor": "white",
           "ticks": "",
           "title": {
            "standoff": 15
           },
           "zerolinecolor": "white",
           "zerolinewidth": 2
          }
         }
        },
        "width": 1000,
        "xaxis": {
         "anchor": "y",
         "domain": [
          0,
          1
         ],
         "showgrid": false,
         "title": {
          "text": "frac pre cells with <br>post_type"
         }
        },
        "xaxis2": {
         "anchor": "y2",
         "domain": [
          0,
          1
         ],
         "showgrid": false
        },
        "yaxis": {
         "anchor": "x",
         "domain": [
          0.575,
          1
         ],
         "title": {
          "text": "frac of output to <br>post_type"
         }
        },
        "yaxis2": {
         "anchor": "x2",
         "domain": [
          0,
          0.425
         ],
         "title": {
          "text": "frac pre cells with <br>post_type"
         }
        }
       }
      }
     },
     "metadata": {},
     "output_type": "display_data"
    }
   ],
   "source": [
    "# Plot fraction of LC10a neurons with postsynaptic types in AOTU (Both Sides) -- uses scripts from Reiser Lab Optic Lobe Repo\n",
    "LC10a_Cxns = CelltypeConnByRoi('LC10a', (['AOTU(R)', 'AOTU(L)']))\n",
    "LC10a_plots = CelltypeConnPlotter(LC10a_Cxns)\n",
    "LC10a_plots.plot_consistent_connections_by_type(conn_dir='output')\n"
   ]
  },
  {
   "cell_type": "code",
   "execution_count": null,
   "id": "0151a730",
   "metadata": {},
   "outputs": [],
   "source": [
    "# Plot fraction of LC10a neurons with postsynaptic types in AOTU (Right side only) -- uses scripts from Reiser Lab Optic Lobe Repo\n",
    "LC10a_Cxns = CelltypeConnByRoi('LC10a', 'AOTU(R)')\n",
    "LC10a_plots = CelltypeConnPlotter(LC10a_Cxns)\n",
    "LC10a_plots.plot_consistent_connections_by_type(conn_dir='output')"
   ]
  },
  {
   "cell_type": "code",
   "execution_count": null,
   "id": "5b1f2b4a-3d39-4b02-93ad-2750bc2084be",
   "metadata": {
    "execution": {
     "iopub.execute_input": "2024-05-27T19:48:43.757629Z",
     "iopub.status.busy": "2024-05-27T19:48:43.757527Z",
     "iopub.status.idle": "2024-05-27T19:49:08.415686Z",
     "shell.execute_reply": "2024-05-27T19:49:08.415412Z",
     "shell.execute_reply.started": "2024-05-27T19:48:43.757619Z"
    }
   },
   "outputs": [],
   "source": [
    "# Plot fraction of LC10a neurons with postsynaptic types in AOTU (left side only) -- uses scripts from Reiser Lab Optic Lobe Repo\n",
    "LC10a_Cxns = CelltypeConnByRoi('LC10a', 'AOTU(L)')\n",
    "LC10a_plots = CelltypeConnPlotter(LC10a_Cxns)\n",
    "LC10a_plots.plot_consistent_connections_by_type(conn_dir='output')"
   ]
  },
  {
   "cell_type": "code",
   "execution_count": null,
   "id": "cbb8ed19-5a29-4ad1-88ec-46a26b5db7ba",
   "metadata": {
    "execution": {
     "iopub.execute_input": "2024-05-27T19:48:02.522742Z",
     "iopub.status.busy": "2024-05-27T19:48:02.522617Z",
     "iopub.status.idle": "2024-05-27T19:48:43.756918Z",
     "shell.execute_reply": "2024-05-27T19:48:43.756641Z",
     "shell.execute_reply.started": "2024-05-27T19:48:02.522733Z"
    }
   },
   "outputs": [],
   "source": [
    "# Number of synapses from LC10a to each neuron type:  -- uses scripts from Reiser Lab Optic Lobe Repo\n",
    "LC10a_Cxns = CelltypeConnByRoi('LC10a', (['AOTU(R)', 'AOTU(L)']))\n",
    "LC10a_plots = CelltypeConnPlotter(LC10a_Cxns)\n",
    "LC10a_AOTU_out = LC10a_plots.plot_sorted_boxplots_by_conn_type(conn_dir='output', prop_to_plot='syn')"
   ]
  },
  {
   "cell_type": "code",
   "execution_count": null,
   "id": "54bca8c8-1eed-4fa4-aa25-eaf8886d3562",
   "metadata": {
    "execution": {
     "iopub.execute_input": "2024-05-27T19:49:51.587330Z",
     "iopub.status.busy": "2024-05-27T19:49:51.586848Z",
     "iopub.status.idle": "2024-05-27T19:50:32.195643Z",
     "shell.execute_reply": "2024-05-27T19:50:32.195402Z",
     "shell.execute_reply.started": "2024-05-27T19:49:51.587279Z"
    },
    "scrolled": true
   },
   "outputs": [],
   "source": [
    "# Fraction of input received from LC10a to each neuron type:\n",
    "LC10a_Cxns = CelltypeConnByRoi('LC10a', (['AOTU(R)', 'AOTU(L)']))\n",
    "LC10a_plots = CelltypeConnPlotter(LC10a_Cxns)\n",
    "LC10a_AOTU_out = LC10a_plots.plot_sorted_boxplots_by_conn_type(conn_dir='output', prop_to_plot='frac')"
   ]
  },
  {
   "cell_type": "code",
   "execution_count": null,
   "id": "fb7bf8d8",
   "metadata": {},
   "outputs": [],
   "source": [
    "result_dir = PROJECT_ROOT / 'AOTU_results'\n",
    "result_dir.mkdir(parents=True, exist_ok=True)\n",
    "param_dir = PROJECT_ROOT / 'params'\n",
    "result_dir_skel = result_dir / 'cell_gallery'\n",
    "result_dir_skel.mkdir(parents=True, exist_ok=True)\n",
    "\n",
    "# Generate list of unique AOTU instances downstream of LC10a_R:\n",
    "AOTU_bids = pd.unique(LC10a_AOTU_outputs_df.bodyId_post)\n",
    "\n",
    "fig = plot_cns(bodyid= AOTU_bids, celltype=['None'],show_outline = False, show_skeletons = True, show_shell = True, zoom=3.5)\n",
    "show_figure(fig,width=800,height=600, showlegend= False)\n",
    "\n",
    "save_figure(fig\n",
    "      , name='all_AOTUs'\n",
    "      , width=1200\n",
    "      , height=720\n",
    "    , path=result_dir_skel\n",
    "    , showlegend=False\n",
    "    , transparent_bg= True\n",
    "    ) # adjust size and path\n"
   ]
  },
  {
   "cell_type": "code",
   "execution_count": null,
   "id": "191ec26c",
   "metadata": {},
   "outputs": [],
   "source": [
    "# Plot Brainwide projection patterns for unique AOTU instances downstream of LC10a_R:\n",
    "\n",
    "# Fetch list of all primary rois in the cns:\n",
    "all_rois = fetch_primary_rois()\n",
    "all_rois.append('NotPrimary')\n",
    "all_rois.append('OL(L)')\n",
    "all_rois.append('OL(R)') \n",
    "all_rois.append('CentralBrain')\n",
    "all_rois = sorted(all_rois)\n",
    "\n",
    "# Generate list of unique AOTU instances downstream of LC10a_R:\n",
    "criteria = NC(bodyId = pd.unique(LC10a_AOTU_outputs_df.bodyId_post))\n",
    "\n",
    "neuron_df_all,roi_counts_df = fetch_neurons(criteria)\n",
    "neuron_df_all = neuron_df_all.sort_values('type')\n",
    "AOTU_bids = neuron_df_all.bodyId\n",
    "neurontypes = neuron_df_all.instance\n",
    "\n",
    "cxn_array = np.zeros(shape=(len(all_rois),len(AOTU_bids)))\n",
    "total_array = np.zeros(shape = (len(all_rois),1))\n",
    "for i in AOTU_bids:\n",
    "    post_vect = np.zeros(shape=(len(all_rois),1)) \n",
    "    neuron_df, roi_counts_df = fetch_neurons(NC(bodyId = i))\n",
    "    for j in roi_counts_df.index: #range(0,len(roi_counts_df.roi)):\n",
    "        roi_name = roi_counts_df.roi[j]\n",
    "        if 'LO_R' in roi_name: #find('LO_R_col_18_09') != -1:\n",
    "                roi_name = 'LO(R)'\n",
    "        if 'Optic(R)' in roi_name: #find('LO_R_col_18_09') != -1:\n",
    "                roi_name = 'OL(R)'\n",
    "        #idx = all_rois.index(roi_counts_df.roi[j])\n",
    "        idx = all_rois.index(roi_name)\n",
    "        post_vect[idx] = roi_counts_df.pre[j] # set to .post for upstream, set to .pre for downstream\n",
    "    total_array = np.concatenate([total_array, post_vect],1)\n",
    "\n",
    "regions = all_rois\n",
    "test = pd.DataFrame(data = total_array)#(data = roi_counts_df, columns = ['post'])\n",
    "import seaborn as sns\n",
    "\n",
    "#matplotlib inline\n",
    "\n",
    "roi_df = pd.DataFrame(data = total_array)#(data = roi_counts_df, columns = ['post'])\n",
    "fig,ax = plt.subplots(figsize = (50,50), dpi=100)\n",
    "im = ax.imshow(roi_df, vmin = 0, vmax = 40)\n",
    "ax.set_yticks(np.arange(len(regions)), labels=regions)\n",
    "ax.set_xticks(np.arange(len(AOTU_bids)), labels = neurontypes)\n",
    "plt.setp(ax.get_xticklabels(),rotation=45,ha=\"right\", rotation_mode=\"anchor\")\n",
    "cbar = ax.figure.colorbar(im,ax=ax)\n",
    "#plt.rcParams['figure.figsize']=[20,20] \n",
    "plt.show()\n",
    "\n",
    " "
   ]
  },
  {
   "cell_type": "code",
   "execution_count": null,
   "id": "558666fb",
   "metadata": {},
   "outputs": [],
   "source": [
    "# Use different Package, but for some reason x label length not right anymore...hmph:\n",
    "roi_df.index = regions\n",
    "#roi_df.columns = [neurontypes]\n",
    "roi_df.hvplot.heatmap(height=800, width=800)\n",
    "\n",
    "hm = roi_df.hvplot.heatmap(height=1200, width=1050)\n",
    "hm * hv.Labels(hm).opts(padding=0)\n",
    "hm.opts(clim=(0, 500))"
   ]
  },
  {
   "cell_type": "code",
   "execution_count": null,
   "id": "a0bad1d3",
   "metadata": {},
   "outputs": [],
   "source": []
  }
 ],
 "metadata": {
  "kernelspec": {
   "display_name": "default",
   "language": "python",
   "name": "python3"
  },
  "language_info": {
   "codemirror_mode": {
    "name": "ipython",
    "version": 3
   },
   "file_extension": ".py",
   "mimetype": "text/x-python",
   "name": "python",
   "nbconvert_exporter": "python",
   "pygments_lexer": "ipython3",
   "version": "3.12.10"
  }
 },
 "nbformat": 4,
 "nbformat_minor": 5
}
