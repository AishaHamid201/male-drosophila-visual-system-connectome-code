{
 "cells": [
  {
   "cell_type": "code",
   "execution_count": null,
   "id": "25bea583-efe4-4fe7-9502-16e4d5fe6997",
   "metadata": {},
   "outputs": [],
   "source": [
    "from pathlib import Path\n",
    "import sys\n",
    "from dotenv import load_dotenv, find_dotenv\n",
    "load_dotenv()\n",
    "PROJECT_ROOT = Path(find_dotenv()).parent\n",
    "sys.path.append(str(PROJECT_ROOT.joinpath('src')))\n",
    "\n",
    "from utils import olc_client\n",
    "c = olc_client.connect(verbose=True)"
   ]
  },
  {
   "cell_type": "code",
   "execution_count": null,
   "id": "206e8fe0-2431-4dee-af9f-b5be5da37634",
   "metadata": {},
   "outputs": [],
   "source": [
    "import pandas as pd\n",
    "from utils.morpho_clustering_functions import create_morpho_data, cluster_morpho_data, create_morpho_confusion_matrix, find_clustering_scores\n",
    "from utils.plotting_functions import plot_confusion_matrix_w_colors, plot_morpho_feature_vectors"
   ]
  },
  {
   "cell_type": "code",
   "execution_count": null,
   "id": "7ad00b61-a6d2-45e8-a5c9-9067ac249226",
   "metadata": {},
   "outputs": [],
   "source": [
    "#number of clusters\n",
    "n_clusters = 80\n",
    "\n",
    "#only look at synapses in rois_list\n",
    "rois = ['ME(R)']\n",
    "\n",
    "#only take cells from these cell types\n",
    "types = [\n",
    "    'Cm22', 'Cm10', 'Dm8b', 'Cm21', 'Cm11c', 'Mi10', 'Cm3', 'Mi2', 'Pm2b'\n",
    "  , 'Dm14', 'Cm9', 'Pm10', 'Cm11a', 'Cm16', 'Mi14', 'Mi15', 'Dm12', 'Mi17'\n",
    "  , 'Pm6', 'Dm13', 'Cm17', 'Dm19', 'Cm19', 'Dm9', 'Dm6', 'Pm9', 'Mi18', 'Cm15'\n",
    "  , 'Cm5', 'Cm6', 'Pm4', 'Cm14', 'Mi16', 'Mi4', 'Dm3a', 'Cm2', 'Dm3b', 'Dm4'\n",
    "  , 'Pm7', 'Pm1', 'Cm8', 'Mi1', 'Pm5', 'Dm3c', 'Dm20', 'Dm16', 'Dm1', 'Dm11'\n",
    "  , 'Dm8a', 'Cm12', 'Pm8', 'Cm7', 'Mi9', 'Cm1', 'Cm13', 'Cm11b', 'Cm20', 'Cm4'\n",
    "  , 'Dm18', 'Dm-DRA2', 'Dm15', 'Pm3', 'Pm2a', 'Dm-DRA1', 'Cm18', 'Dm10', 'Mi13', 'Dm2'\n",
    "]"
   ]
  },
  {
   "cell_type": "markdown",
   "id": "22aaf958-3727-4eb9-a002-f9aa0076e000",
   "metadata": {},
   "source": [
    "### cluster morphology feature vectors"
   ]
  },
  {
   "cell_type": "code",
   "execution_count": null,
   "id": "181a00a7-6429-40a8-b23c-b16e3429da4e",
   "metadata": {
    "scrolled": true
   },
   "outputs": [],
   "source": [
    "create_morpho_data(types, rois)\n",
    "\n",
    "# expected runtime: 18 mins"
   ]
  },
  {
   "cell_type": "code",
   "execution_count": null,
   "id": "b5d55e54-bc14-48db-aba2-18761d827fd3",
   "metadata": {},
   "outputs": [],
   "source": [
    "cluster_morpho_data(n_clusters)\n",
    "\n",
    "hom, com = find_clustering_scores(n_clusters)\n",
    "print( f'Homogeneity score: {hom:.2f}')\n",
    "print( f'Completeness score: {com:.2f}')"
   ]
  },
  {
   "cell_type": "markdown",
   "id": "2c46b169-d282-419c-993f-e076b2f1db95",
   "metadata": {},
   "source": [
    "### plot confusion matrix"
   ]
  },
  {
   "cell_type": "code",
   "execution_count": null,
   "id": "a114f60d-50dd-4a91-ad4b-18d5146ba5a4",
   "metadata": {},
   "outputs": [],
   "source": [
    "create_morpho_confusion_matrix(n_clusters)"
   ]
  },
  {
   "cell_type": "code",
   "execution_count": null,
   "id": "e0ba8577-0a2d-44c9-9593-627afebeb9fe",
   "metadata": {},
   "outputs": [],
   "source": [
    "#load confusion matrix and plot\n",
    "data_path = Path(find_dotenv()).parent / 'cache' / 'morpho_clustering'\n",
    "data = pd.read_csv(data_path / f'morpho_confusion_mat_{n_clusters}clu.csv')\n",
    "\n",
    "plot_confusion_matrix_w_colors(data.values[:,1:], data.values[:,0])"
   ]
  },
  {
   "cell_type": "markdown",
   "id": "a04977a3-fbea-4681-baa8-a50249e13332",
   "metadata": {},
   "source": [
    "### plot feature vectors of some cells"
   ]
  },
  {
   "cell_type": "code",
   "execution_count": null,
   "id": "72eb26d0-2c48-4e2e-9ad6-edb18951ab0e",
   "metadata": {},
   "outputs": [],
   "source": [
    "bodyId_list = [56564, 22177, 20423, 13869, 12540]\n",
    "\n",
    "plot_morpho_feature_vectors(bodyId_list, rois[0], n_clusters)"
   ]
  },
  {
   "cell_type": "code",
   "execution_count": null,
   "id": "e6cae1f9-442e-4bce-b492-73e204baaccc",
   "metadata": {},
   "outputs": [],
   "source": []
  }
 ],
 "metadata": {
  "kernelspec": {
   "display_name": "ol-c-kernel",
   "language": "python",
   "name": "ol-c-kernel"
  },
  "language_info": {
   "codemirror_mode": {
    "name": "ipython",
    "version": 3
   },
   "file_extension": ".py",
   "mimetype": "text/x-python",
   "name": "python",
   "nbconvert_exporter": "python",
   "pygments_lexer": "ipython3",
   "version": "3.11.8"
  }
 },
 "nbformat": 4,
 "nbformat_minor": 5
}
