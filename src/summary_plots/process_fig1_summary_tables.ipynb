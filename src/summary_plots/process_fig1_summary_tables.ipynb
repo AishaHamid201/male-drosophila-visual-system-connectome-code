{
 "cells": [
  {
   "cell_type": "code",
   "execution_count": null,
   "metadata": {},
   "outputs": [],
   "source": [
    "\"\"\"\n",
    "This cell does the initial project setup.\n",
    "If you start a new script or notebook, make sure to copy & paste this part.\n",
    "\n",
    "A script with this code uses the location of the `.env` file as the anchor for\n",
    "the whole project (= PROJECT_ROOT). Afterwards, code inside the `src` directory\n",
    "are available for import.\n",
    "\"\"\"\n",
    "import sys\n",
    "from pathlib import Path\n",
    "from dotenv import load_dotenv, find_dotenv\n",
    "load_dotenv()\n",
    "PROJECT_ROOT = Path(find_dotenv()).parent\n",
    "sys.path.append(str(PROJECT_ROOT.joinpath('src')))\n",
    "\n",
    "from utils import olc_client\n",
    "from utils.ol_types import OLTypes\n",
    "from utils.overall_summary_queries import add_color_group\n",
    "from utils.overall_summary_table_plotting_functions import \\\n",
    "    plot_group_summary_table\\\n",
    "  , plot_neuropil_group_table\\\n",
    "  , plot_neuropil_group_celltype_table\\\n",
    "  , plot_neuropil_group_cell_table\n",
    "\n",
    "c = olc_client.connect(verbose=True)\n"
   ]
  },
  {
   "cell_type": "code",
   "execution_count": 2,
   "metadata": {},
   "outputs": [],
   "source": [
    "## Formatting parameters\n",
    "style = {\n",
    "    'export_type':'svg'\n",
    "  , 'font_type': 'arial'\n",
    "  , 'markerlinecolor':'black'\n",
    "  , 'linecolor':'black'\n",
    "  , 'fillcolor':'white'\n",
    "}\n",
    "\n",
    "sizing = {\n",
    "    'fig_width':600 # units = mm, max 180\n",
    "  , 'fig_height':500 # units = mm, max 170'markersize':5,\n",
    "}\n"
   ]
  },
  {
   "cell_type": "code",
   "execution_count": 3,
   "metadata": {},
   "outputs": [],
   "source": [
    "ol = OLTypes()\n",
    "types = ol.get_neuron_list(side='both')\n",
    "cell_instances = types['instance']"
   ]
  },
  {
   "cell_type": "markdown",
   "metadata": {},
   "source": [
    "### Table 1: cell type groups\n",
    "\n",
    "# Cell type groups\n",
    "\n",
    "This is the data used in Fig. 1e"
   ]
  },
  {
   "cell_type": "code",
   "execution_count": null,
   "metadata": {},
   "outputs": [],
   "source": [
    "fig, celltype_groups_df = plot_group_summary_table(\n",
    "    neuron_list=types\n",
    "  , style=style\n",
    "  , sizing=sizing\n",
    ")\n",
    "\n",
    "fig.show()"
   ]
  },
  {
   "cell_type": "markdown",
   "metadata": {},
   "source": [
    "# Neuron inventory by brain region\n",
    "\n",
    "This data is used in Fig. 1f and represents the size of the bubble charts."
   ]
  },
  {
   "cell_type": "code",
   "execution_count": null,
   "metadata": {},
   "outputs": [],
   "source": [
    "df = add_color_group(types).reset_index()\n",
    "\n",
    "fig, _ = plot_neuropil_group_table(\n",
    "    df=df\n",
    "  , threshold=0.02\n",
    "  , style=style\n",
    "  , sizing=sizing\n",
    ")\n",
    "\n",
    "fig.show()"
   ]
  },
  {
   "cell_type": "markdown",
   "metadata": {},
   "source": [
    "The data represents the pie charts in Fig. 1f"
   ]
  },
  {
   "cell_type": "code",
   "execution_count": null,
   "metadata": {},
   "outputs": [],
   "source": [
    "df = add_color_group(types).reset_index()\n",
    "\n",
    "fig, _ = plot_neuropil_group_celltype_table(\n",
    "    df=df\n",
    "  , threshold=0.02\n",
    "  , style=style\n",
    "  , sizing=sizing\n",
    ")\n",
    "\n",
    "fig.show()"
   ]
  },
  {
   "cell_type": "markdown",
   "metadata": {},
   "source": [
    "# cell count per cell type group and neuropil. \n",
    "\n",
    "This is not directly used in the main figures of the manuscript."
   ]
  },
  {
   "cell_type": "code",
   "execution_count": null,
   "metadata": {},
   "outputs": [],
   "source": [
    "df = add_color_group(types).reset_index()\n",
    "\n",
    "fig, _ = plot_neuropil_group_cell_table(\n",
    "    df=df\n",
    "  , threshold=0.02\n",
    "  , style=style\n",
    "  , sizing=sizing\n",
    ")\n",
    "\n",
    "fig.show()"
   ]
  }
 ],
 "metadata": {
  "kernelspec": {
   "display_name": "default",
   "language": "python",
   "name": "python3"
  },
  "language_info": {
   "codemirror_mode": {
    "name": "ipython",
    "version": 3
   },
   "file_extension": ".py",
   "mimetype": "text/x-python",
   "name": "python",
   "nbconvert_exporter": "python",
   "pygments_lexer": "ipython3",
   "version": "3.12.5"
  }
 },
 "nbformat": 4,
 "nbformat_minor": 2
}
