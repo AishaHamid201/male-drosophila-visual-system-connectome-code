{
 "cells": [
  {
   "cell_type": "code",
   "execution_count": null,
   "metadata": {},
   "outputs": [],
   "source": [
    "\"\"\"\n",
    "This cell does the initial project setup.\n",
    "If you start a new script or notebook, make sure to copy & paste this part.\n",
    "\n",
    "A script with this code uses the location of the `.env` file as the anchor for\n",
    "the whole project (= PROJECT_ROOT). Afterwards, code inside the `src` directory\n",
    "are available for import.\n",
    "\"\"\"\n",
    "import sys\n",
    "from pathlib import Path\n",
    "import pandas as pd\n",
    "from dotenv import load_dotenv, find_dotenv\n",
    "\n",
    "load_dotenv()\n",
    "PROJECT_ROOT = Path(find_dotenv()).parent\n",
    "sys.path.append(str(PROJECT_ROOT.joinpath('src')))\n",
    "\n",
    "from utils import olc_client\n",
    "from utils.ol_types import OLTypes\n",
    "from utils.ol_color import OL_COLOR\n",
    "from utils.overall_summary_queries import get_conn_ol_df\n",
    "from utils.chiasm_connectivity_plotting_function import plot_chiasm_connectivity\n",
    "c = olc_client.connect(verbose=True)"
   ]
  },
  {
   "cell_type": "markdown",
   "metadata": {},
   "source": [
    "Getting all the cell instances from OLTypes"
   ]
  },
  {
   "cell_type": "code",
   "execution_count": null,
   "metadata": {},
   "outputs": [],
   "source": [
    "ol = OLTypes()\n",
    "types = ol.get_neuron_list(side='both')\n",
    "cell_instances = types['instance']"
   ]
  },
  {
   "cell_type": "markdown",
   "metadata": {},
   "source": [
    "Loading the optic lobe connectivity dataframe"
   ]
  },
  {
   "cell_type": "code",
   "execution_count": null,
   "metadata": {},
   "outputs": [],
   "source": [
    "conn_ol_df = get_conn_ol_df()"
   ]
  },
  {
   "cell_type": "markdown",
   "metadata": {},
   "source": [
    "Getting the connectivity within non primary regions"
   ]
  },
  {
   "cell_type": "code",
   "execution_count": null,
   "metadata": {},
   "outputs": [],
   "source": [
    "prepost_notprimary_df_sorted = conn_ol_df[conn_ol_df['roi']=='NotPrimary']\\\n",
    "    .groupby(['type_pre', 'type_post'])\\\n",
    "    .agg({'weight': 'sum'})\\\n",
    "    .sort_values(by='weight', ascending=False)\\\n",
    "    .reset_index()\\\n",
    "    .rename(columns={'weight': 'NotPrimary_weight'})"
   ]
  },
  {
   "cell_type": "markdown",
   "metadata": {},
   "source": [
    "Getting the connectivity of the same cell pairs within all regions"
   ]
  },
  {
   "cell_type": "code",
   "execution_count": null,
   "metadata": {},
   "outputs": [],
   "source": [
    "prepost_allroi_df_sorted = conn_ol_df\\\n",
    "    .groupby(['type_pre', 'type_post'])\\\n",
    "    .agg({'weight': 'sum'})\\\n",
    "    .sort_values(by='weight', ascending=False)\\\n",
    "    .reset_index()\\\n",
    "    .rename(columns={'weight': 'AllRoi_weight'})"
   ]
  },
  {
   "cell_type": "code",
   "execution_count": null,
   "metadata": {},
   "outputs": [],
   "source": [
    "merge_df = prepost_notprimary_df_sorted\\\n",
    "    .merge(prepost_allroi_df_sorted)\\\n",
    "    .assign(\n",
    "        cell_pairs = lambda row: row['type_pre'] + \"-\" + row['type_post']\n",
    "      , chiasm_frac = lambda row: row['NotPrimary_weight'] / row['AllRoi_weight']\n",
    "    )"
   ]
  },
  {
   "cell_type": "markdown",
   "metadata": {},
   "source": [
    "Removing connections <200 and connections with chiasm fraction <0.05"
   ]
  },
  {
   "cell_type": "code",
   "execution_count": null,
   "metadata": {},
   "outputs": [],
   "source": [
    "non_primary_synapses_df = merge_df\\\n",
    "    .query('NotPrimary_weight >= 200')\\\n",
    "    .query('chiasm_frac >= 0.05')\\\n",
    "    .reset_index(drop=True)"
   ]
  },
  {
   "cell_type": "code",
   "execution_count": null,
   "metadata": {},
   "outputs": [],
   "source": [
    "save_path = PROJECT_ROOT / \"results\" / \"summary_plots\"\n",
    "\n",
    "save_path.mkdir(parents=True, exist_ok=True)\n",
    "non_primary_synapses_df.to_csv(save_path / \"non_primary_synapses.csv\")"
   ]
  },
  {
   "cell_type": "markdown",
   "metadata": {},
   "source": [
    "adding main groups to dataframe"
   ]
  },
  {
   "cell_type": "code",
   "execution_count": null,
   "metadata": {},
   "outputs": [],
   "source": [
    "type_groups = types\\\n",
    "    .loc[:, ['type', 'main_groups']]\\\n",
    "    .drop_duplicates(subset='type')\n",
    "\n",
    "main_groups_all_chiasm_df = non_primary_synapses_df\\\n",
    "    .merge(type_groups, left_on='type_pre', right_on='type')\\\n",
    "    .merge(type_groups, left_on='type_post', right_on='type')\\\n",
    "    .drop(columns=['type_x', 'type_y'])\\\n",
    "    .rename(columns={\n",
    "        'main_groups_x': 'main_groups_pre'\n",
    "      , 'main_groups_y': 'main_groups_post'\n",
    "    })\\\n",
    "    .sort_values(by='NotPrimary_weight', ascending=False)"
   ]
  },
  {
   "cell_type": "markdown",
   "metadata": {},
   "source": [
    "adding colors to the dataframe"
   ]
  },
  {
   "cell_type": "code",
   "execution_count": null,
   "metadata": {},
   "outputs": [],
   "source": [
    "colors = pd.DataFrame(\n",
    "    data={\n",
    "        'groups': OL_COLOR.OL_TYPES.map.keys()\n",
    "      , 'color': OL_COLOR.OL_TYPES.map.values()\n",
    "    }\n",
    ")\n",
    "colors['groups'] = ['OL_intrinsic', 'OL_connecting', 'VPN', 'VCN', 'other']\n",
    "colors.columns = ['main_group', 'color']"
   ]
  },
  {
   "cell_type": "code",
   "execution_count": null,
   "metadata": {},
   "outputs": [],
   "source": [
    "# First merge for 'main_groups_pre' to extract 'color_pre'\n",
    "color_pre_chiasm_df = pd\\\n",
    "    .merge(\n",
    "        main_groups_all_chiasm_df\n",
    "      , colors\n",
    "      , how='left'\n",
    "      , left_on='main_groups_pre'\n",
    "      , right_on='main_group')\\\n",
    "    .rename(columns={'color': 'color_pre'})\\\n",
    "    .drop(['main_group'], axis=1)\\\n",
    "    .reset_index(drop=True)\n",
    "\n",
    "# Second merge for 'main_groups_post' to extract 'color_post'\n",
    "color_all_chiasm_df = pd\\\n",
    "    .merge(\n",
    "        color_pre_chiasm_df\n",
    "      , colors\n",
    "      , how='left'\n",
    "      , left_on='main_groups_post'\n",
    "      , right_on='main_group')\\\n",
    "    .rename(columns={'color': 'color_post'})\\\n",
    "    .drop(['main_group'], axis=1)\\\n",
    "    .reset_index(drop=True)\\\n",
    "    .assign(chiasm_frac = lambda row: row['chiasm_frac'].round(2))\n",
    "\n",
    "color_all_chiasm_df.to_excel(save_path / \"chiasm_connectivity.xlsx\")"
   ]
  },
  {
   "cell_type": "markdown",
   "metadata": {},
   "source": [
    "plot # non primary connections for these cell pairs"
   ]
  },
  {
   "cell_type": "code",
   "execution_count": null,
   "metadata": {},
   "outputs": [],
   "source": [
    "# set formatting parameters\n",
    "style = {\n",
    "    'export_type': 'svg'\n",
    "  , 'font_type': 'arial'\n",
    "  , 'markerlinecolor': 'black'\n",
    "  , 'linecolor': 'black'\n",
    "  , 'opacity': 0.7\n",
    "}\n",
    "\n",
    "sizing = {\n",
    "    'fig_width': 300\n",
    "  , 'fig_height': 100\n",
    "  , 'fig_margin': 0\n",
    "  , 'fsize_ticks_pt': 3\n",
    "  , 'fsize_title_pt': 7\n",
    "  , 'markersize': 2.5\n",
    "  , 'ticklen': 3.5\n",
    "  , 'tickwidth': 0.1\n",
    "  , 'axislinewidth': 1\n",
    "  , 'markerlinewidth': 0.5\n",
    "}\n",
    "\n",
    "plot_specs = {\n",
    "    'range_y': [0, 8000]\n",
    "  , 'tickvals_y': [0, 4000, 8000]\n",
    "  , 'save_path': PROJECT_ROOT / 'results' / 'summary_plots'\n",
    "  , 'export_type': 'svg'\n",
    "  , 'plot_name': 'chiasm_connectivity'\n",
    "}\n",
    "\n",
    "color_all_chiasm_df['chiasm_frac'] = color_all_chiasm_df['chiasm_frac'].round(2)\n",
    "\n",
    "fig = plot_chiasm_connectivity(\n",
    "    df=color_all_chiasm_df\n",
    "  , xval='cell_pairs'\n",
    "  , yval1='NotPrimary_weight'\n",
    "  , yval2='chiasm_frac'\n",
    "  , style=style\n",
    "  , sizing=sizing\n",
    "  , plot_specs=plot_specs\n",
    ")\n",
    "\n",
    "fig.show()"
   ]
  },
  {
   "cell_type": "code",
   "execution_count": null,
   "metadata": {},
   "outputs": [],
   "source": []
  }
 ],
 "metadata": {
  "kernelspec": {
   "display_name": "default",
   "language": "python",
   "name": "python3"
  },
  "language_info": {
   "codemirror_mode": {
    "name": "ipython",
    "version": 3
   },
   "file_extension": ".py",
   "mimetype": "text/x-python",
   "name": "python",
   "nbconvert_exporter": "python",
   "pygments_lexer": "ipython3",
   "version": "3.12.5"
  }
 },
 "nbformat": 4,
 "nbformat_minor": 2
}
