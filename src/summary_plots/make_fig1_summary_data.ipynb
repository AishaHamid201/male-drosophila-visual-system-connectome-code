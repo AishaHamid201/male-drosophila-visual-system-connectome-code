{
 "cells": [
  {
   "cell_type": "code",
   "execution_count": null,
   "metadata": {},
   "outputs": [],
   "source": [
    "\"\"\"\n",
    "This cell does the initial project setup.\n",
    "If you start a new script or notebook, make sure to copy & paste this part.\n",
    "\n",
    "A script with this code uses the location of the `.env` file as the anchor for\n",
    "the whole project (= PROJECT_ROOT). Afterwards, code inside the `src` directory\n",
    "are available for import.\n",
    "\"\"\"\n",
    "import sys\n",
    "from pathlib import Path\n",
    "from IPython.display import display\n",
    "from dotenv import load_dotenv, find_dotenv\n",
    "load_dotenv()\n",
    "PROJECT_ROOT = Path(find_dotenv()).parent\n",
    "sys.path.append(str(PROJECT_ROOT.joinpath('src')))\n",
    "\n",
    "from utils import olc_client\n",
    "c = olc_client.connect(verbose=True)\n",
    "\n",
    "from utils.ol_types import OLTypes\n",
    "\n",
    "from utils.overall_summary_queries import \\\n",
    "    make_ncell_nconn_nsyn_data\\\n",
    "  , make_ncell_nconn_data\\\n",
    "  , make_connectivity_sufficiency_data\n"
   ]
  },
  {
   "cell_type": "code",
   "execution_count": 2,
   "metadata": {},
   "outputs": [],
   "source": [
    "ol = OLTypes()\n",
    "types = ol.get_neuron_list(side='both')\n",
    "cell_instances = types['instance']"
   ]
  },
  {
   "cell_type": "markdown",
   "metadata": {},
   "source": [
    "## Generate a dataframe with the following summary quantities\n",
    "\n",
    "- Number of cells per cell type\n",
    "- Number of pre and post synapses per cell type\n",
    "- Number of upstream and downstream connections per cell type\n"
   ]
  },
  {
   "cell_type": "code",
   "execution_count": null,
   "metadata": {},
   "outputs": [],
   "source": [
    "ncell_nconn_nsyn_df = make_ncell_nconn_nsyn_data(cell_instances)\n",
    "display(ncell_nconn_nsyn_df)"
   ]
  },
  {
   "cell_type": "markdown",
   "metadata": {},
   "source": [
    "## Generate a dataframe with the following summary quantities\n",
    "\n",
    "- Number of connected cells per cell type\n",
    "- Number of connected cell types per cell type\n",
    "- Number of connected input cells vs number of connected output cells\n"
   ]
  },
  {
   "cell_type": "code",
   "execution_count": null,
   "metadata": {},
   "outputs": [],
   "source": [
    "summary_df = make_ncell_nconn_data(cell_instances)\n",
    "display(summary_df)"
   ]
  },
  {
   "cell_type": "markdown",
   "metadata": {},
   "source": [
    "## Generate a dataframe with the following summary quantities\n",
    "\n",
    "- fraction of unique pre cell type combinations as a function of number of\n",
    "  top connections considered\n",
    "- fraction of unique post cell type combinations as a function of number of\n",
    "  top connections considered\n",
    "- fraction of unique all cell type combinations as a function of number of\n",
    "  top connections considered\n"
   ]
  },
  {
   "cell_type": "code",
   "execution_count": null,
   "metadata": {},
   "outputs": [],
   "source": [
    "unique_combinations_df = make_connectivity_sufficiency_data(\n",
    "    n_top_connections=5\n",
    ")\n",
    "display(unique_combinations_df)"
   ]
  }
 ],
 "metadata": {
  "kernelspec": {
   "display_name": "default",
   "language": "python",
   "name": "python3"
  },
  "language_info": {
   "codemirror_mode": {
    "name": "ipython",
    "version": 3
   },
   "file_extension": ".py",
   "mimetype": "text/x-python",
   "name": "python",
   "nbconvert_exporter": "python",
   "pygments_lexer": "ipython3",
   "version": "3.12.5"
  }
 },
 "nbformat": 4,
 "nbformat_minor": 2
}
