{
 "cells": [
  {
   "cell_type": "markdown",
   "metadata": {},
   "source": [
    "# Query and save neuron and neuron transmitters prediction data\n",
    "\n",
    "Save data to a cache dir, overwriting if exist alread"
   ]
  },
  {
   "cell_type": "code",
   "execution_count": 1,
   "metadata": {},
   "outputs": [
    {
     "name": "stdout",
     "output_type": "stream",
     "text": [
      "Project root directory: c:\\Users\\zhaoa\\HHMI Dropbox\\Arthur Zhao\\sync_userA\\Documents\\ReiserGroup\\p_ol_connectome\\github_code_ol\n"
     ]
    }
   ],
   "source": [
    "\"\"\"\n",
    "This cell does the initial project setup.\n",
    "If you start a new script or notebook, make sure to copy & paste this part.\n",
    "\n",
    "A script with this code uses the location of the `.env` file as the anchor for\n",
    "the whole project (= PROJECT_ROOT). Afterwards, code inside the `src` directory\n",
    "are available for import.\n",
    "\"\"\"\n",
    "from pathlib import Path\n",
    "import sys\n",
    "from dotenv import load_dotenv, find_dotenv\n",
    "from IPython.display import display\n",
    "load_dotenv()\n",
    "PROJECT_ROOT = Path(find_dotenv()).parent\n",
    "sys.path.append(str(PROJECT_ROOT.joinpath('src')))\n",
    "print(f\"Project root directory: {PROJECT_ROOT}\")"
   ]
  },
  {
   "cell_type": "code",
   "execution_count": 2,
   "metadata": {},
   "outputs": [
    {
     "name": "stdout",
     "output_type": "stream",
     "text": [
      "Connected to https://https://neuprint.janelia.org/[optic-lobe:v1.1].\n",
      "Client: neuprint-python v0.1.0\n",
      "User: artxzhao@gmail.com [readwrite]\n",
      "\n"
     ]
    }
   ],
   "source": [
    "from utils.neurotransmitter import get_special_neuron_list\n",
    "from utils.neurotransmitter import get_nt_for_bid\n",
    "from utils import olc_client\n",
    "c = olc_client.connect(verbose=True)"
   ]
  },
  {
   "cell_type": "markdown",
   "metadata": {},
   "source": [
    "### Get neuron info"
   ]
  },
  {
   "cell_type": "code",
   "execution_count": 3,
   "metadata": {},
   "outputs": [
    {
     "name": "stderr",
     "output_type": "stream",
     "text": [
      "c:\\Users\\zhaoa\\envs\\ol-connectome-2\\Lib\\site-packages\\neuprint\\client.py:609: FutureWarning: Series.__getitem__ treating keys as positions is deprecated. In a future version, integer keys will always be treated as labels (consistent with DataFrame behavior). To access a value by position, use `ser.iloc[pos]`\n",
      "  neuron_props_val = df_results.iloc[0][0]\n",
      "c:\\Users\\zhaoa\\envs\\ol-connectome-2\\Lib\\site-packages\\neuprint\\client.py:619: FutureWarning: Series.__getitem__ treating keys as positions is deprecated. In a future version, integer keys will always be treated as labels (consistent with DataFrame behavior). To access a value by position, use `ser.iloc[pos]`\n",
      "  neuron_props_val = df_results.iloc[0][0]\n"
     ]
    }
   ],
   "source": [
    "neuron_df = get_special_neuron_list()"
   ]
  },
  {
   "cell_type": "code",
   "execution_count": 4,
   "metadata": {},
   "outputs": [
    {
     "data": {
      "text/html": [
       "<div>\n",
       "<style scoped>\n",
       "    .dataframe tbody tr th:only-of-type {\n",
       "        vertical-align: middle;\n",
       "    }\n",
       "\n",
       "    .dataframe tbody tr th {\n",
       "        vertical-align: top;\n",
       "    }\n",
       "\n",
       "    .dataframe thead th {\n",
       "        text-align: right;\n",
       "    }\n",
       "</style>\n",
       "<table border=\"1\" class=\"dataframe\">\n",
       "  <thead>\n",
       "    <tr style=\"text-align: right;\">\n",
       "      <th></th>\n",
       "      <th>bodyId</th>\n",
       "      <th>downstream</th>\n",
       "      <th>upstream</th>\n",
       "      <th>pre</th>\n",
       "      <th>post</th>\n",
       "      <th>instance</th>\n",
       "      <th>type</th>\n",
       "    </tr>\n",
       "    <tr>\n",
       "      <th>main_groups</th>\n",
       "      <th></th>\n",
       "      <th></th>\n",
       "      <th></th>\n",
       "      <th></th>\n",
       "      <th></th>\n",
       "      <th></th>\n",
       "      <th></th>\n",
       "    </tr>\n",
       "  </thead>\n",
       "  <tbody>\n",
       "    <tr>\n",
       "      <th>OL_connecting</th>\n",
       "      <td>32394</td>\n",
       "      <td>27595189</td>\n",
       "      <td>13858724</td>\n",
       "      <td>3889194</td>\n",
       "      <td>13858724</td>\n",
       "      <td>95</td>\n",
       "      <td>95</td>\n",
       "    </tr>\n",
       "    <tr>\n",
       "      <th>OL_intrinsic</th>\n",
       "      <td>15550</td>\n",
       "      <td>15233914</td>\n",
       "      <td>8274321</td>\n",
       "      <td>2339903</td>\n",
       "      <td>8274321</td>\n",
       "      <td>149</td>\n",
       "      <td>149</td>\n",
       "    </tr>\n",
       "    <tr>\n",
       "      <th>VCN</th>\n",
       "      <td>270</td>\n",
       "      <td>2521610</td>\n",
       "      <td>766512</td>\n",
       "      <td>407367</td>\n",
       "      <td>766512</td>\n",
       "      <td>110</td>\n",
       "      <td>104</td>\n",
       "    </tr>\n",
       "    <tr>\n",
       "      <th>VPN</th>\n",
       "      <td>4546</td>\n",
       "      <td>9892885</td>\n",
       "      <td>5963743</td>\n",
       "      <td>1372486</td>\n",
       "      <td>5963743</td>\n",
       "      <td>385</td>\n",
       "      <td>352</td>\n",
       "    </tr>\n",
       "    <tr>\n",
       "      <th>other</th>\n",
       "      <td>64</td>\n",
       "      <td>497862</td>\n",
       "      <td>171049</td>\n",
       "      <td>76831</td>\n",
       "      <td>171049</td>\n",
       "      <td>37</td>\n",
       "      <td>32</td>\n",
       "    </tr>\n",
       "  </tbody>\n",
       "</table>\n",
       "</div>"
      ],
      "text/plain": [
       "               bodyId  downstream  upstream      pre      post  instance  type\n",
       "main_groups                                                                   \n",
       "OL_connecting   32394    27595189  13858724  3889194  13858724        95    95\n",
       "OL_intrinsic    15550    15233914   8274321  2339903   8274321       149   149\n",
       "VCN               270     2521610    766512   407367    766512       110   104\n",
       "VPN              4546     9892885   5963743  1372486   5963743       385   352\n",
       "other              64      497862    171049    76831    171049        37    32"
      ]
     },
     "metadata": {},
     "output_type": "display_data"
    }
   ],
   "source": [
    "tally = neuron_df\\\n",
    "    .groupby('main_groups')\\\n",
    "    .agg({\n",
    "        'bodyId': 'count'\n",
    "      , 'downstream': 'sum'\n",
    "      , 'upstream': 'sum'\n",
    "      , 'pre': 'sum'\n",
    "      , 'post': 'sum'\n",
    "      , 'instance': 'nunique'\n",
    "      , 'type': 'nunique'\n",
    "    })\n",
    "display(tally)"
   ]
  },
  {
   "cell_type": "code",
   "execution_count": 5,
   "metadata": {},
   "outputs": [
    {
     "data": {
      "text/plain": [
       "bodyId           52824\n",
       "downstream    55741460\n",
       "upstream      29034349\n",
       "pre            8085781\n",
       "post          29034349\n",
       "instance           776\n",
       "type               732\n",
       "dtype: int64"
      ]
     },
     "metadata": {},
     "output_type": "display_data"
    }
   ],
   "source": [
    "display(tally.sum(axis=0))"
   ]
  },
  {
   "cell_type": "markdown",
   "metadata": {},
   "source": [
    "### Get all pre-synapses with nt"
   ]
  },
  {
   "cell_type": "code",
   "execution_count": 6,
   "metadata": {},
   "outputs": [],
   "source": [
    "# query in batches\n",
    "syn = get_nt_for_bid(neuron_df)"
   ]
  },
  {
   "cell_type": "code",
   "execution_count": 7,
   "metadata": {},
   "outputs": [
    {
     "data": {
      "text/plain": [
       "nt\n",
       "ACh     3696272\n",
       "Glu     1441057\n",
       "GABA    1287903\n",
       "Dop      279408\n",
       "His      121229\n",
       "5HT       79214\n",
       "OA        72633\n",
       "Name: count, dtype: int64"
      ]
     },
     "metadata": {},
     "output_type": "display_data"
    }
   ],
   "source": [
    "display(syn['nt'].value_counts())"
   ]
  },
  {
   "cell_type": "code",
   "execution_count": null,
   "metadata": {},
   "outputs": [],
   "source": []
  }
 ],
 "metadata": {
  "kernelspec": {
   "display_name": "ol-connectome-2",
   "language": "python",
   "name": "python3"
  },
  "language_info": {
   "codemirror_mode": {
    "name": "ipython",
    "version": 3
   },
   "file_extension": ".py",
   "mimetype": "text/x-python",
   "name": "python",
   "nbconvert_exporter": "python",
   "pygments_lexer": "ipython3",
   "version": "3.12.4"
  }
 },
 "nbformat": 4,
 "nbformat_minor": 2
}
