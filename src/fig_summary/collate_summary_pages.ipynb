{
 "cells": [
  {
   "cell_type": "code",
   "execution_count": null,
   "metadata": {},
   "outputs": [],
   "source": [
    "import shutil\n",
    "from pathlib import Path\n",
    "import sys\n",
    "import os\n",
    "import fitz\n",
    "from dotenv import load_dotenv, find_dotenv\n",
    "load_dotenv()\n",
    "PROJECT_ROOT = Path(find_dotenv()).parent\n",
    "sys.path.append(str(PROJECT_ROOT.joinpath(\"src\")))\n",
    "print(f\"Project root directory: {PROJECT_ROOT}\")\n"
   ]
  },
  {
   "cell_type": "markdown",
   "metadata": {},
   "source": [
    "Helper notebook to generate the Catalog from single pages."
   ]
  },
  {
   "cell_type": "code",
   "execution_count": null,
   "metadata": {},
   "outputs": [],
   "source": [
    "doc_out = fitz.open()\n",
    "\n",
    "page_counter = 1 # 1-based for bookmarks / toc\n",
    "\n",
    "page_toc = []\n",
    "\n",
    "df_dict = {\n",
    "    \"creator\": \"Reiser Lab\"\n",
    "  , \"producer\": \"Janelia Research Campus\"\n",
    "  , \"creationDate\": fitz.get_pdf_now()\n",
    "  , \"modDate\": fitz.get_pdf_now()\n",
    "  , \"title\": \"Cell Type Catalog, Supplementary Figure 1 to 'Connectome-driven neural inventory of a complete visual system'\"\n",
    "  , \"author\": \"Aljoscha Nern, Frank Loesche, Shin-ya Takemura, Laura E Burnett, Marisa Dreher, Eyal Gruntman, Judith Hoeller, \"\\\n",
    "        \"Gary B Huang, Michał Januszewski, Nathan C Klapoetke, Sanna Koskela, Kit D Longden, Zhiyuan Lu, Stephan Preibisch, \"\\\n",
    "        \"Wei Qiu, Edward M Rogers, Pavithraa Seenivasan, Arthur Zhao, John Bogovic, Brandon S Canino, Jody Clements, Michael Cook, \"\\\n",
    "        \"Samantha Finley-May, Miriam A Flynn, Imran Hameed, Alexandra MC Fragniere, Kenneth J Hayworth, Gary Patrick Hopkins, \"\\\n",
    "        \"Philip M Hubbard, William T Katz, Julie Kovalyak, Shirley A Lauchie, Meghan Leonard, Alanna Lohff, Charli A Maldonado, \"\\\n",
    "        \"Caroline Mooney, Nneoma Okeoma, Donald J Olbris, Christopher Ordish, Tyler Paterson, Emily M Phillips, Tobias Pietzsch, \"\\\n",
    "        \"Jennifer Rivas Salinas, Patricia K Rivlin, Philipp Schlegel, Ashley L Scott, Louis A Scuderi, Satoko Takemura, Iris Talebi, \"\\\n",
    "        \"Alexander Thomson, Eric T Trautman, Lowell Umayam, Claire Walsh, John J Walsh, C Shan Xu, Emily A Yakal, Tansy Yang, \"\\\n",
    "        \"Ting Zhao, Jan Funke, Reed George, Harald F Hess, Gregory SXE Jefferis, Christopher Knecht, Wyatt Korff, Stephen M Plaza, \"\\\n",
    "        \"Sandro Romani, Stephan Saalfeld, Louis K Scheffer, Stuart Berg, Gerald M Rubin, Michael B Reiser\"\n",
    "  , \"subject\": \"Connectome-driven neural inventory of a complete visual system\"\n",
    "  , \"keywords\": \"connectome, Drosophila, Drosophila melanogaster, vision\"\n",
    "}\n",
    "\n",
    "doc_out.set_metadata(df_dict)\n",
    "\n",
    "has_typst = shutil.which(\"typst\")\n",
    "if has_typst:\n",
    "    os.system('typst compile CellTypeCatalog_Title.typ 2>/dev/null') \n",
    "else:\n",
    "    print(\"Using pre-generated Title page\")\n",
    "\n",
    "title_doc =  \"CellTypeCatalog_Title.pdf\"\n",
    "tmp_title = fitz.open(title_doc)\n",
    "doc_out.insert_pdf(tmp_title)\n",
    "page_counter += 1\n",
    "\n",
    "for idx in range(0, 35):\n",
    "    for fname in [\"Gallery_Group-\", \"Summary_Group-\"]:\n",
    "        tmp_fn = PROJECT_ROOT / \"results\" / \"fig_summary\" / f\"{fname}{idx:02d}.pdf\"\n",
    "        tmp_doc = fitz.open(tmp_fn)\n",
    "        doc_out.insert_pdf(tmp_doc)\n",
    "        tmp_toc = tmp_doc.get_toc(simple=False)\n",
    "        for toc_entry in tmp_toc:\n",
    "            toc_e = toc_entry\n",
    "            toc_e[2] = page_counter\n",
    "            page_toc.append(toc_e)\n",
    "        page_counter += 1\n",
    "\n",
    "doc_out.set_toc(page_toc)\n",
    "\n",
    "\n",
    "catalog_fn = PROJECT_ROOT / \"results\" / \"fig_summary\" / \"Cell Type Catalog.pdf\"\n",
    "doc_out.save(catalog_fn)\n",
    "\n",
    "has_ocrmypdf = shutil.which(\"ocrmypdf\")\n",
    "if has_ocrmypdf:\n",
    "    comp_cat_fn = catalog_fn.parent / \"Cell Type Catalog optimzed.pdf\"\n",
    "    os.system(f\"ocrmypdf --tesseract-timeout=0 --optimize 1 --skip-text '{catalog_fn}' '{comp_cat_fn}'\")\n"
   ]
  },
  {
   "cell_type": "code",
   "execution_count": null,
   "metadata": {},
   "outputs": [],
   "source": []
  }
 ],
 "metadata": {
  "kernelspec": {
   "display_name": "default",
   "language": "python",
   "name": "python3"
  },
  "language_info": {
   "codemirror_mode": {
    "name": "ipython",
    "version": 3
   },
   "file_extension": ".py",
   "mimetype": "text/x-python",
   "name": "python",
   "nbconvert_exporter": "python",
   "pygments_lexer": "ipython3",
   "version": "3.12.5"
  }
 },
 "nbformat": 4,
 "nbformat_minor": 2
}
