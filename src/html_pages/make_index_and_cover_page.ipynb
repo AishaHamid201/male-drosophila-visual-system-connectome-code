{
 "cells": [
  {
   "cell_type": "code",
   "execution_count": 1,
   "metadata": {
    "lines_to_next_cell": 2
   },
   "outputs": [
    {
     "name": "stdout",
     "output_type": "stream",
     "text": [
      "Connected to https://neuprint.janelia.org[optic-lobe:v1.1].\n",
      "Client: neuprint-python v0.1.0\n",
      "User: loeschef@janelia.hhmi.org [noauth]\n",
      "\n"
     ]
    }
   ],
   "source": [
    "# Import optic lobe components\n",
    "import sys\n",
    "from pathlib import Path\n",
    "import jinja2\n",
    "\n",
    "from dotenv import load_dotenv, find_dotenv\n",
    "load_dotenv()\n",
    "PROJECT_ROOT = Path(find_dotenv()).parent\n",
    "sys.path.append(str(PROJECT_ROOT.joinpath('src')))\n",
    "\n",
    "\n",
    "from queries.completeness import fetch_ol_types_and_instances\n",
    "from html_pages.webpage_functions import \\\n",
    "    get_meta_data\\\n",
    "  , get_last_database_edit\\\n",
    "  , get_formatted_now\\\n",
    "  , render_and_save_templates\n",
    "from utils.ol_color import OL_COLOR\n",
    "\n",
    "from utils import olc_client\n",
    "c = olc_client.connect(verbose=True)"
   ]
  },
  {
   "cell_type": "code",
   "execution_count": 2,
   "metadata": {},
   "outputs": [],
   "source": [
    "# Fetch unique instances and their types\n",
    "neuron_names = fetch_ol_types_and_instances(side='both')\n",
    "\n",
    "# # Initialize list for available tags\n",
    "available_tags = []\n",
    "\n",
    "# Iterate over rows in the DataFrame\n",
    "for index, row in neuron_names.iterrows():\n",
    "    # Determine filename based on presence of multiple instances\n",
    "    link_to_instance = row['instance']\n",
    "    filename = row['type'] + f\" ({link_to_instance[-1]})\"\n",
    "    tag = {\"value\": filename, \"url\": f\"{link_to_instance}.html\"}\n",
    "\n",
    "    # Add tag to available_tags if not already present\n",
    "    if tag not in available_tags:\n",
    "        available_tags.append(tag)"
   ]
  },
  {
   "cell_type": "code",
   "execution_count": 3,
   "metadata": {},
   "outputs": [],
   "source": [
    "from utils.ol_types import OLTypes\n",
    "olt = OLTypes()\n",
    "mylist = olt.get_neuron_list(side='both')"
   ]
  },
  {
   "cell_type": "code",
   "execution_count": 4,
   "metadata": {},
   "outputs": [],
   "source": [
    "# Define the mapping from abbreviations to full names\n",
    "full_group_names = {\n",
    "    'OL_intrinsic': 'Optic Neuropil Intrinsic Neurons'\n",
    "  , 'OL_connecting': 'Optic Neuropil Connecting Neurons'\n",
    "  , 'VPN': 'Visual Projection Neurons'\n",
    "  , 'VCN': 'Visual Centrifugal Neurons'\n",
    "  , 'other': 'Other'\n",
    "}\n",
    "\n",
    "color_mapping_groups = {\n",
    "    'OL_intrinsic': OL_COLOR.OL_TYPES.hex[0] \n",
    "  , 'OL_connecting': OL_COLOR.OL_TYPES.hex[1]\n",
    "  , 'VPN': OL_COLOR.OL_TYPES.hex[2]\n",
    "  , 'VCN': OL_COLOR.OL_TYPES.hex[3]\n",
    "  , 'other': OL_COLOR.OL_TYPES.hex[4]\n",
    "}"
   ]
  },
  {
   "cell_type": "code",
   "execution_count": 5,
   "metadata": {},
   "outputs": [],
   "source": [
    "# Fetch meta to the footer\n",
    "meta = get_meta_data()\n",
    "lastDataBaseEdit = get_last_database_edit()\n",
    "formattedDate = get_formatted_now()"
   ]
  },
  {
   "cell_type": "code",
   "execution_count": 6,
   "metadata": {},
   "outputs": [],
   "source": [
    "output_path = PROJECT_ROOT / 'results' / 'html_pages'\n",
    "\n",
    "# Data for the index page\n",
    "index_data_dict = {\n",
    "    'mylist': mylist,\n",
    "    'full_group_names': full_group_names,\n",
    "    'meta': meta,\n",
    "    'formattedDate' : formattedDate,\n",
    "    'lastDataBaseEdit' : lastDataBaseEdit,\n",
    "    'color_mapping_groups' : color_mapping_groups\n",
    "}\n",
    "\n",
    "render_and_save_templates(\n",
    "    \"cell_types.html.jinja\"\n",
    "  , index_data_dict\n",
    "  , output_path / \"cell_types.html\"\n",
    ")\n"
   ]
  },
  {
   "cell_type": "code",
   "execution_count": 7,
   "metadata": {},
   "outputs": [],
   "source": [
    "# Data for the cover page\n",
    "cover_data_dict = {\n",
    "    'available_tags': available_tags\n",
    "  , 'meta': meta\n",
    "  , 'lastDataBaseEdit' : lastDataBaseEdit\n",
    "  , 'formattedDate' : formattedDate\n",
    "}\n",
    "render_and_save_templates(\n",
    "    \"index.html.jinja\"\n",
    "  , cover_data_dict\n",
    "  , output_path / \"index.html\"\n",
    ")"
   ]
  },
  {
   "cell_type": "code",
   "execution_count": 8,
   "metadata": {},
   "outputs": [],
   "source": [
    "render_and_save_templates(\n",
    "    \"webpages_glossary.html.jinja\"\n",
    "  , {}\n",
    "  , output_path / \"webpages_glossary.html\"\n",
    ")"
   ]
  }
 ],
 "metadata": {
  "kernelspec": {
   "display_name": "default",
   "language": "python",
   "name": "python3"
  },
  "language_info": {
   "codemirror_mode": {
    "name": "ipython",
    "version": 3
   },
   "file_extension": ".py",
   "mimetype": "text/x-python",
   "name": "python",
   "nbconvert_exporter": "python",
   "pygments_lexer": "ipython3",
   "version": "3.12.5"
  }
 },
 "nbformat": 4,
 "nbformat_minor": 4
}
