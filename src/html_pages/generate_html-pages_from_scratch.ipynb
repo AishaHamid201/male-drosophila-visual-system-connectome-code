{
 "cells": [
  {
   "cell_type": "code",
   "execution_count": null,
   "metadata": {},
   "outputs": [],
   "source": [
    "# Setting up environment and accessing database\n",
    "import sys\n",
    "from pathlib import Path\n",
    "import pandas as pd\n",
    "from dotenv import load_dotenv, find_dotenv\n",
    "load_dotenv()\n",
    "PROJECT_ROOT = Path(find_dotenv()).parent\n",
    "sys.path.append(str(PROJECT_ROOT.joinpath('src')))\n",
    "\n",
    "\n",
    "from utils import olc_client\n",
    "from utils.ol_types import OLTypes\n",
    "from utils.ol_instance import OLInstance\n",
    "\n",
    "from queries.completeness import fetch_ol_types_and_instances\n",
    "\n",
    "from make_spatial_coverage_plots_for_webpages import make_spatial_coverage_plots_for_webpages\n",
    "from patterns import convert_pkl_to_html_with_layers\n",
    "\n",
    "c = olc_client.connect(verbose=True)"
   ]
  },
  {
   "cell_type": "code",
   "execution_count": null,
   "metadata": {},
   "outputs": [],
   "source": [
    "# Set up paths\n",
    "\n",
    "# Output path to cache\n",
    "output_path_cache = Path(PROJECT_ROOT, 'cache', 'html_pages')\n",
    "output_path_cache.mkdir(parents=True, exist_ok=True)\n",
    "\n",
    "# Output path to results\n",
    "output_path_results = Path(PROJECT_ROOT, 'results', 'html_pages')\n",
    "output_path_results.mkdir(parents=True, exist_ok=True)\n",
    "\n",
    "# Coverage and completeness\n",
    "input_path_coverage = Path(PROJECT_ROOT, 'cache', 'complete_metrics')\n",
    "input_path_coverage.mkdir(parents=True, exist_ok=True)"
   ]
  },
  {
   "cell_type": "code",
   "execution_count": null,
   "metadata": {},
   "outputs": [],
   "source": [
    "# Get cell type list\n",
    "olt = OLTypes()\n",
    "cell_type_list = olt.get_neuron_list(\n",
    "    side='both'\n",
    ")\n",
    "\n",
    "linked_instance = set(cell_type_list['instance'].to_list())\n",
    "\n",
    "# # DEBUG\n",
    "# cell_type_list = cell_type_list[cell_type_list['instance']\\\n",
    "#     # .isin(['TmY5a_R', 'Mi1_R'])]\n",
    "#     .isin(['5-HTPMPV03_R', 'LoVP88_R', 'LoVP100_R', 'LoVP24_R', 'LoVP30_R', 'MeVP55_R', 'MeVP58_R'])]\n",
    "# cell_type_list"
   ]
  },
  {
   "cell_type": "code",
   "execution_count": null,
   "metadata": {},
   "outputs": [],
   "source": [
    "cell_type_list = cell_type_list.sample(frac=1)\n",
    "# cell_type_list = cell_type_list.sample(n=1)  # DEBUG"
   ]
  },
  {
   "cell_type": "code",
   "execution_count": null,
   "metadata": {},
   "outputs": [],
   "source": [
    "# Create a reverse lookup dictionary from filename to main group\n",
    "# Make an html page for each\n",
    "\n",
    "def generate_pages(df:pd.DataFrame):\n",
    "    \"\"\"\n",
    "    Helper function to generate webpages from a list of neurons.\n",
    "    \"\"\"\n",
    "    # Create available tags for the search bar\n",
    "    neuron_names = fetch_ol_types_and_instances(side='both', client=c)\n",
    "\n",
    "    # Collect available tags\n",
    "    available_tags = []\n",
    "    for index, row in neuron_names.iterrows():\n",
    "        link_to_instance = row['instance']\n",
    "        filename = f\"{row['type']} ({link_to_instance[-1]})\"\n",
    "        tag = {\"value\": filename, \"url\": f\"{link_to_instance}.html\"}\n",
    "        if tag not in available_tags:\n",
    "            available_tags.append(tag)\n",
    "\n",
    "    # Generate page per instance\n",
    "    for _, row in df.iterrows():\n",
    "        oli = OLInstance(row['instance'])\n",
    "\n",
    "        print(f\"Coverage for {row['instance']}\")\n",
    "        make_spatial_coverage_plots_for_webpages(instance=row['instance'])\n",
    "\n",
    "        print(f\"HTML for {row['instance']}\")\n",
    "        success = convert_pkl_to_html_with_layers(\n",
    "            oli=oli\n",
    "          , valid_neuron_names=linked_instance\n",
    "          , template=\"html-pages-jinja.html.jinja\"\n",
    "          , input_path_coverage=input_path_coverage\n",
    "          , output_path=output_path_results\n",
    "          , available_tags=available_tags\n",
    "        )\n",
    "        if not success:\n",
    "            continue  # Skip to the next instance as before\n",
    "\n",
    "\n",
    "generate_pages(cell_type_list)\n",
    "\n",
    "# Multiprocessor method:\n",
    "# splitter = mp.cpu_count() -2\n",
    "# data_split = np.array_split(cell_type_list.sample(frac=1), splitter)\n",
    "# pool = mp.Pool(splitter)\n",
    "# pool.map(generate_pages, data_split)"
   ]
  },
  {
   "cell_type": "code",
   "execution_count": null,
   "metadata": {},
   "outputs": [],
   "source": [
    "# Optional: create a webpage for specific instance\n",
    "# Filter for specific instance\n",
    "filtered_df = cell_type_list[cell_type_list['instance'] == 'Dm12_R']\n",
    "\n",
    "# Generate pages for the filtered DataFrame\n",
    "generate_pages(filtered_df)"
   ]
  },
  {
   "cell_type": "code",
   "execution_count": null,
   "metadata": {},
   "outputs": [],
   "source": []
  }
 ],
 "metadata": {
  "kernelspec": {
   "display_name": "default",
   "language": "python",
   "name": "python3"
  },
  "language_info": {
   "codemirror_mode": {
    "name": "ipython",
    "version": 3
   },
   "file_extension": ".py",
   "mimetype": "text/x-python",
   "name": "python",
   "nbconvert_exporter": "python",
   "pygments_lexer": "ipython3",
   "version": "3.12.5"
  }
 },
 "nbformat": 4,
 "nbformat_minor": 4
}
