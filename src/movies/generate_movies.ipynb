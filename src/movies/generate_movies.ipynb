{
 "cells": [
  {
   "cell_type": "code",
   "execution_count": null,
   "metadata": {},
   "outputs": [],
   "source": [
    "import sys\n",
    "from pathlib import Path\n",
    "\n",
    "import pandas as pd\n",
    "\n",
    "from dotenv import load_dotenv, find_dotenv\n",
    "load_dotenv()\n",
    "PROJECT_ROOT = Path(find_dotenv()).parent\n",
    "sys.path.append(str(PROJECT_ROOT.joinpath('src')))\n",
    "print(f\"Project root directory: {PROJECT_ROOT}\")\n",
    "\n",
    "from queries.completeness import fetch_ol_types\n",
    "from utils.neuron_bag import NeuronBag\n",
    "from utils.movie_maker import generate_movie_json\n",
    "from utils.ol_types import OLTypes\n",
    "\n",
    "from utils import olc_client\n",
    "\n",
    "c = olc_client.connect(verbose=True)"
   ]
  },
  {
   "cell_type": "code",
   "execution_count": 2,
   "metadata": {
    "lines_to_next_cell": 2
   },
   "outputs": [],
   "source": [
    "olt = OLTypes()\n",
    "\n",
    "oli_list = olt.get_neuron_list()"
   ]
  },
  {
   "cell_type": "markdown",
   "metadata": {},
   "source": [
    "## Fill and save the template"
   ]
  },
  {
   "cell_type": "code",
   "execution_count": null,
   "metadata": {},
   "outputs": [],
   "source": [
    "for idx, row in oli_list.iterrows():\n",
    "   \n",
    "    a_bag = NeuronBag(cell_instance=row['instance'], side=None, rois='OL(R)')\n",
    "    a_bag.sort_by_distance_to_star()\n",
    "\n",
    "    sorted_body_ids = a_bag.get_body_ids(a_bag.size)\n",
    "\n",
    "    if row['main_groups']=='OL_intrinsic' or row['main_groups']=='OL_connecting'\\\n",
    "        or row['main_groups']=='VPN' or row['main_groups']=='VCN':\n",
    "            the_movie_group=row['main_groups']\n",
    "    else:\n",
    "        the_movie_group='other'\n",
    "\n",
    "    generate_movie_json(\n",
    "        neuron_type=row['type']\n",
    "      , sorted_body_ids=sorted_body_ids\n",
    "      , template='movie-descriptions.json.jinja'\n",
    "      , is_general_template=False\n",
    "      , movie_group=the_movie_group\n",
    "    )\n",
    "    print(f\"Json generation done for {row['type']}\")"
   ]
  }
 ],
 "metadata": {
  "kernelspec": {
   "display_name": "default",
   "language": "python",
   "name": "python3"
  },
  "language_info": {
   "codemirror_mode": {
    "name": "ipython",
    "version": 3
   },
   "file_extension": ".py",
   "mimetype": "text/x-python",
   "name": "python",
   "nbconvert_exporter": "python",
   "pygments_lexer": "ipython3",
   "version": "3.12.5"
  }
 },
 "nbformat": 4,
 "nbformat_minor": 2
}
