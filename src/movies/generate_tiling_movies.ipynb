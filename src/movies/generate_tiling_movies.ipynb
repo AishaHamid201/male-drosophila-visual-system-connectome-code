{
 "cells": [
  {
   "cell_type": "code",
   "execution_count": null,
   "metadata": {},
   "outputs": [],
   "source": [
    "import sys\n",
    "from pathlib import Path\n",
    "\n",
    "from dotenv import load_dotenv, find_dotenv\n",
    "load_dotenv()\n",
    "PROJECT_ROOT = Path(find_dotenv()).parent\n",
    "sys.path.append(str(PROJECT_ROOT.joinpath('src')))\n",
    "\n",
    "from utils.neuron_bag import NeuronBag\n",
    "from utils.movie_maker import generate_tiling_movie_json\n",
    "from utils.metric_functions import get_completeness_metrics\n",
    "\n",
    "from utils import olc_client\n",
    "c = olc_client.connect(verbose=True)"
   ]
  },
  {
   "cell_type": "code",
   "execution_count": null,
   "metadata": {},
   "outputs": [],
   "source": [
    "tiling_types = ['Dm4', 'Dm20', 'l-LNv', 'MeVP10']\n",
    "roi_str = 'ME(R)'"
   ]
  },
  {
   "cell_type": "code",
   "execution_count": null,
   "metadata": {},
   "outputs": [],
   "source": [
    "text_dict = {}\n",
    "\n",
    "for neuron_type in tiling_types: \n",
    "\n",
    "    instance = f\"{neuron_type}_R\"\n",
    "    \n",
    "    neuron_text_dict = {}\n",
    "    df = get_completeness_metrics(instance=instance)\n",
    "\n",
    "    n1 = df[df['roi']=='ME(R)'].loc[0, 'coverage_factor_trim']\n",
    "    neuron_text_dict['coverage_factor'] = f\"{n1:.2f}\"\n",
    "    n2 = df[df['roi']=='ME(R)'].loc[0, 'col_completeness']\n",
    "    neuron_text_dict['columns_compl']= f\"{n2:.2f}\"\n",
    "    n3 = df[df['roi']=='ME(R)'].loc[0, 'area_completeness']\n",
    "    neuron_text_dict['area_compl']= f\"{n3:.2f}\"\n",
    "    \n",
    "    text_dict[neuron_type] = neuron_text_dict"
   ]
  },
  {
   "cell_type": "code",
   "execution_count": null,
   "metadata": {},
   "outputs": [],
   "source": [
    "params = {\n",
    "    'Dm4': {\n",
    "        'scale_start': 1.1\n",
    "      , 'duration_text': 11.5\n",
    "      , 'adv_time_roi_in': 0.75\n",
    "      , 'adv_time_id_in': 1.5\n",
    "      , 'adv_time_neigh_in': 3.0\n",
    "      , 'adv_time_all_in': 5.74\n",
    "    }\n",
    "  , 'Dm20': {\n",
    "        'scale_start': 1.2\n",
    "      , 'duration_text': 11.75\n",
    "      , 'adv_time_roi_in': 0.75\n",
    "      , 'adv_time_id_in': 1.5\n",
    "      , 'adv_time_neigh_in': 3.0\n",
    "      , 'adv_time_all_in': 5.74\n",
    "    }\n",
    "  , 'l-LNv': {\n",
    "        'scale_start': 1.2\n",
    "      , 'duration_text': 8.5\n",
    "      , 'adv_time_roi_in': 0.75\n",
    "      , 'adv_time_id_in': 2.0\n",
    "      , 'adv_time_neigh_in': 2.0\n",
    "      , 'adv_time_all_in': 3.0\n",
    "    }\n",
    "  , 'MeVP10': {\n",
    "        'scale_start': 1.0\n",
    "      , 'duration_text': 12.0\n",
    "      , 'adv_time_roi_in': 0.75\n",
    "      , 'adv_time_id_in': 2.0\n",
    "      , 'adv_time_neigh_in': 3.0\n",
    "      , 'adv_time_all_in': 5.44\n",
    "    }\n",
    "}"
   ]
  },
  {
   "cell_type": "code",
   "execution_count": null,
   "metadata": {},
   "outputs": [],
   "source": [
    "for neuron_type in tiling_types:\n",
    "    print(neuron_type)\n",
    "    a_bag = NeuronBag(cell_type=neuron_type)\n",
    "    a_bag.sort_by_distance_to_star()\n",
    "    sorted_body_ids = a_bag.get_body_ids(a_bag.size)\n",
    "\n",
    "    if a_bag.size < 10:\n",
    "        num_neigh = int(a_bag.size/2)\n",
    "    else:\n",
    "        num_neigh = 10\n",
    "\n",
    "    generate_tiling_movie_json(\n",
    "        neuron_type=neuron_type\n",
    "      , sorted_body_ids=sorted_body_ids\n",
    "      , text_dict=text_dict\n",
    "      , params=params\n",
    "      , template=\"MEi_tiling.json.jinja\"\n",
    "      , number_of_neighbors=num_neigh\n",
    "    )\n",
    "    print(f\"Json generation done for {neuron_type}\")\n"
   ]
  },
  {
   "cell_type": "code",
   "execution_count": null,
   "metadata": {},
   "outputs": [],
   "source": []
  }
 ],
 "metadata": {
  "kernelspec": {
   "display_name": "default",
   "language": "python",
   "name": "python3"
  },
  "language_info": {
   "codemirror_mode": {
    "name": "ipython",
    "version": 3
   },
   "file_extension": ".py",
   "mimetype": "text/x-python",
   "name": "python",
   "nbconvert_exporter": "python",
   "pygments_lexer": "ipython3",
   "version": "3.12.5"
  }
 },
 "nbformat": 4,
 "nbformat_minor": 2
}
