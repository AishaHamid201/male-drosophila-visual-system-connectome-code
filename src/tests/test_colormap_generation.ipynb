{
 "cells": [
  {
   "cell_type": "code",
   "execution_count": null,
   "metadata": {},
   "outputs": [],
   "source": [
    "from pathlib import Path\n",
    "import sys\n",
    "from dotenv import load_dotenv, find_dotenv\n",
    "import pandas as pd\n",
    "\n",
    "load_dotenv()\n",
    "PROJECT_ROOT = Path(find_dotenv()).parent\n",
    "sys.path.append(str(PROJECT_ROOT.joinpath(\"src\")))\n",
    "\n",
    "import numpy as np\n",
    "from utils.column_plotting_functions import ticks_from_max\n",
    "import plotly.graph_objects as go"
   ]
  },
  {
   "cell_type": "markdown",
   "metadata": {},
   "source": [
    "Notebook for testing the colormap that is generated using the function `utils.column_plotting_functions.ticks_from_max`. \n",
    "\n",
    "After setting the value of 'maxval' below, it will generate a plot with dummy data with the colorbar for that 'maxval'. "
   ]
  },
  {
   "cell_type": "code",
   "execution_count": null,
   "metadata": {},
   "outputs": [],
   "source": [
    "maxval = 0"
   ]
  },
  {
   "cell_type": "code",
   "execution_count": null,
   "metadata": {},
   "outputs": [],
   "source": [
    "# Generate fake data\n",
    "data = np.arange(1, maxval + 1)\n",
    "\n",
    "# Generate the colormap and the appropriate tick values\n",
    "tickvals, tickvals_text, cmap = ticks_from_max(maxval)\n",
    "\n",
    "# Initiate plot\n",
    "fig = go.Figure()\n",
    "\n",
    "fig.update_layout(\n",
    "    autosize=False\n",
    "  , height=200\n",
    "  , width=200\n",
    "  , margin={\"l\": 0, \"r\": 0, \"b\": 0, \"t\": 0, \"pad\": 0}\n",
    "  , paper_bgcolor=\"rgba(255,255,255,255)\"\n",
    "  , plot_bgcolor=\"rgba(255,255,255,255)\"\n",
    ")\n",
    "\n",
    "fig.add_trace(\n",
    "    go.Scatter(\n",
    "        x=data\n",
    "      , y=data\n",
    "      , mode=\"markers\"\n",
    "      , marker_symbol=0\n",
    "      , marker={\n",
    "            \"cmin\": 0\n",
    "          , \"cmax\": maxval\n",
    "          , \"size\": 3\n",
    "          , \"color\": cmap\n",
    "          , \"line\": {\n",
    "                \"width\": 0.5\n",
    "              , \"color\": 'black'\n",
    "            }\n",
    "          , \"colorbar\": {\n",
    "                \"orientation\": \"v\"\n",
    "              , \"thickness\": 20\n",
    "              , \"len\": 3\n",
    "              , \"tickmode\": \"array\"\n",
    "              , \"tickvals\": tickvals\n",
    "              , \"ticktext\": tickvals_text\n",
    "              , \"ticklen\": 5\n",
    "              , \"tickwidth\": 1\n",
    "              , \"tickcolor\": 'black'\n",
    "            }\n",
    "          , \"colorscale\": cmap\n",
    "        }\n",
    "      , showlegend=False\n",
    "    )\n",
    ")\n",
    "\n",
    "# Display the figure\n",
    "fig.show()\n"
   ]
  }
 ],
 "metadata": {
  "kernelspec": {
   "display_name": "default",
   "language": "python",
   "name": "python3"
  },
  "language_info": {
   "codemirror_mode": {
    "name": "ipython",
    "version": 3
   },
   "file_extension": ".py",
   "mimetype": "text/x-python",
   "name": "python",
   "nbconvert_exporter": "python",
   "pygments_lexer": "ipython3",
   "version": "3.12.5"
  }
 },
 "nbformat": 4,
 "nbformat_minor": 2
}
