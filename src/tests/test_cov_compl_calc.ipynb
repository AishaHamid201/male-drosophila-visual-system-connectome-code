{
 "cells": [
  {
   "cell_type": "code",
   "execution_count": null,
   "metadata": {},
   "outputs": [],
   "source": [
    "\"\"\"\n",
    "This cell does the initial project setup.\n",
    "If you start a new script or notebook, make sure to copy & paste this part.\n",
    "\n",
    "A script with this code uses the location of the `.env` file as the anchor for\n",
    "the whole project (= PROJECT_ROOT). Afterwards, code inside the `src` directory\n",
    "are available for import.\n",
    "\"\"\"\n",
    "from pathlib import Path\n",
    "import sys\n",
    "from IPython.display import display\n",
    "from dotenv import load_dotenv, find_dotenv\n",
    "load_dotenv()\n",
    "PROJECT_ROOT = Path(find_dotenv()).parent\n",
    "sys.path.append(str(PROJECT_ROOT.joinpath(\"src\")))\n",
    "print(f\"Project root directory: {PROJECT_ROOT}\")\n",
    "\n",
    "from utils import olc_client\n",
    "from utils.trim_helper import TrimHelper\n",
    "from utils.column_features_functions import hex_from_col, cov_compl_calc\n",
    "from utils.metric_functions import get_completeness_metrics\n",
    "\n",
    "from queries.completeness import fetch_ol_types_and_instances\n",
    "from queries.coverage_queries import fetch_cells_synapses_per_col\n",
    "\n",
    "\n",
    "c = olc_client.connect(verbose=True)"
   ]
  },
  {
   "cell_type": "code",
   "execution_count": null,
   "metadata": {},
   "outputs": [],
   "source": [
    "instance = 'Li37_R'\n",
    "quant_df = get_completeness_metrics(instance=instance)\n",
    "\n",
    "display(quant_df)"
   ]
  },
  {
   "cell_type": "code",
   "execution_count": null,
   "metadata": {},
   "outputs": [],
   "source": [
    "instance = 'aMe2_R'\n",
    "trim_helper = TrimHelper(instance=instance)\n",
    "named_df = fetch_ol_types_and_instances(side='both')\n",
    "pop_size = named_df[named_df['instance']==instance]['count']\\\n",
    "    .values\\\n",
    "    .astype(int)\n",
    "df = fetch_cells_synapses_per_col(\n",
    "    cell_instance=instance\n",
    "  , roi_str=[\"ME(R)\", \"LO(R)\", \"LOP(R)\", \"AME(R)\", \"LA(R)\"]\n",
    ")\n",
    "df = hex_from_col(df)\n",
    "quant_df = cov_compl_calc(\n",
    "    df\n",
    "  , trim_df=trim_helper.trim_df\n",
    "  , size_df=trim_helper.size_df\n",
    "  , size_df_raw=trim_helper.size_df_raw\n",
    "  , n_cells=pop_size\n",
    "  , instance_type=instance\n",
    ")\n",
    "\n",
    "display(quant_df)"
   ]
  },
  {
   "cell_type": "code",
   "execution_count": null,
   "metadata": {},
   "outputs": [],
   "source": []
  }
 ],
 "metadata": {
  "kernelspec": {
   "display_name": "default",
   "language": "python",
   "name": "python3"
  },
  "language_info": {
   "codemirror_mode": {
    "name": "ipython",
    "version": 3
   },
   "file_extension": ".py",
   "mimetype": "text/x-python",
   "name": "python",
   "nbconvert_exporter": "python",
   "pygments_lexer": "ipython3",
   "version": "3.12.5"
  }
 },
 "nbformat": 4,
 "nbformat_minor": 2
}
