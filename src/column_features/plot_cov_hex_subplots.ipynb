{
 "cells": [
  {
   "cell_type": "code",
   "execution_count": null,
   "metadata": {},
   "outputs": [],
   "source": [
    "\"\"\"\n",
    "This cell does the initial project setup.\n",
    "If you start a new script or notebook, make sure to copy & paste this part.\n",
    "\n",
    "A script with this code uses the location of the `.env` file as the anchor for\n",
    "the whole project (= PROJECT_ROOT). Afterwards, code inside the `src` directory\n",
    "are available for import.\n",
    "\"\"\"\n",
    "\n",
    "from pathlib import Path\n",
    "import sys\n",
    "\n",
    "from dotenv import load_dotenv, find_dotenv\n",
    "\n",
    "load_dotenv()\n",
    "PROJECT_ROOT = Path(find_dotenv()).parent\n",
    "sys.path.append(str(PROJECT_ROOT.joinpath(\"src\")))\n",
    "\n",
    "from utils import olc_client\n",
    "c = olc_client.connect(verbose=True)\n",
    "\n",
    "from utils.trim_helper import TrimHelper\n",
    "from utils.column_plotting_functions import plot_per_col_subplot"
   ]
  },
  {
   "cell_type": "markdown",
   "metadata": {},
   "source": [
    "Create a subplot (2 x 3) of the number of unique cells of the TmY4 and Dm3c subtypes within the medulla, lobula and lobula plate as hexagonal 'eyemap' heatplots. "
   ]
  },
  {
   "cell_type": "code",
   "execution_count": 1,
   "metadata": {
    "metadata": {}
   },
   "outputs": [],
   "source": [
    "# set formatting parameters\n",
    "style = {\n",
    "    \"font_type\": \"arial\"\n",
    "  , \"markerlinecolor\": \"rgba(0,0,0,0)\"\n",
    "  , \"linecolor\": \"black\"\n",
    "}\n",
    "\n",
    "sizing = {\n",
    "    \"fig_width\": 48  # units = mm, max 180\n",
    "  , \"fig_height\": 28  # units = mm, max 170\n",
    "  , \"fig_margin\": 0\n",
    "  , \"fsize_ticks_pt\": 5\n",
    "  , \"fsize_title_pt\": 5\n",
    "  , \"markersize\": 1.3175\n",
    "  , \"ticklen\": 1.445\n",
    "  , \"tickwidth\": 0.425\n",
    "  , \"axislinewidth\": 0.51\n",
    "  , \"markerlinewidth\": 0.0425\n",
    "  , \"cbar_thickness\": 3\n",
    "  , \"cbar_len\": 0.8\n",
    "}  "
   ]
  },
  {
   "cell_type": "code",
   "execution_count": null,
   "metadata": {
    "metadata": {}
   },
   "outputs": [],
   "source": [
    "instance = 'Dm3c_R'\n",
    "trim_helper_dm3c = TrimHelper(instance)\n",
    "trim_df_dm3 = trim_helper_dm3c.trim_df"
   ]
  },
  {
   "cell_type": "code",
   "execution_count": 3,
   "metadata": {
    "metadata": {}
   },
   "outputs": [],
   "source": [
    "instance = 'TmY4_R'\n",
    "trim_helper_tmy4 = TrimHelper(instance)\n",
    "trim_df_tmy4 = trim_helper_tmy4.trim_df"
   ]
  },
  {
   "cell_type": "code",
   "execution_count": null,
   "metadata": {
    "metadata": {}
   },
   "outputs": [],
   "source": [
    "plot_specs = {\n",
    "    \"filename\": 'TmY4_Dm3c_subplot'\n",
    "  , \"cmax_cells\": 10\n",
    "  , \"cmax_syn\": 0\n",
    "  , \"cbar_title\": '# cells/<br>column'\n",
    "  , \"export_type\": \"pdf\"\n",
    "  , \"cbar_title_x\": 1.17\n",
    "  , \"cbar_title_y\": 0.06\n",
    "}\n",
    "\n",
    "plot_per_col_subplot(trim_df_dm3, trim_df_tmy4, style, sizing, plot_specs)"
   ]
  }
 ],
 "metadata": {
  "kernelspec": {
   "display_name": ".venv",
   "language": "python",
   "name": "python3"
  },
  "language_info": {
   "codemirror_mode": {
    "name": "ipython",
    "version": 3
   },
   "file_extension": ".py",
   "mimetype": "text/x-python",
   "name": "python",
   "nbconvert_exporter": "python",
   "pygments_lexer": "ipython3",
   "version": "3.11.6"
  }
 },
 "nbformat": 4,
 "nbformat_minor": 2
}
