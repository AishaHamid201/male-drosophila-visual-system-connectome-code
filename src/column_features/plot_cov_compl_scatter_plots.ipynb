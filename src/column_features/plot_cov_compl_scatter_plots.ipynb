{
 "cells": [
  {
   "cell_type": "code",
   "execution_count": null,
   "metadata": {},
   "outputs": [],
   "source": [
    "\"\"\"\n",
    "This cell does the initial project setup.\n",
    "If you start a new script or notebook, make sure to copy & paste this part.\n",
    "\n",
    "A script with this code uses the location of the `.env` file as the anchor for\n",
    "the whole project (= PROJECT_ROOT). Afterwards, code inside the `src` directory\n",
    "are available for import.\n",
    "\"\"\"\n",
    "import sys\n",
    "from pathlib import Path\n",
    "from dotenv import load_dotenv, find_dotenv\n",
    "load_dotenv()\n",
    "PROJECT_ROOT = Path(find_dotenv()).parent\n",
    "sys.path.append(str(PROJECT_ROOT.joinpath('src')))\n",
    "\n",
    "from utils import olc_client\n",
    "c = olc_client.connect(verbose=True)\n",
    "\n",
    "from utils.scatterplot_functions import make_scatterplot_with_star_cells\n",
    "from utils.column_features_helper_functions import find_neuropil_hex_coords\n",
    "from utils.scatter_plot_config import ScatterConfig"
   ]
  },
  {
   "cell_type": "markdown",
   "metadata": {},
   "source": [
    "### Scatterplots from Fig 5e,f & Extended Data Fig. 10"
   ]
  },
  {
   "cell_type": "code",
   "execution_count": null,
   "metadata": {
    "metadata": {}
   },
   "outputs": [],
   "source": [
    "roi_str = 'ME(R)'\n",
    "cfg = ScatterConfig(roi_str=roi_str)\n",
    "_, graph_lims = find_neuropil_hex_coords(roi_str=roi_str)"
   ]
  },
  {
   "cell_type": "code",
   "execution_count": null,
   "metadata": {
    "metadata": {}
   },
   "outputs": [],
   "source": [
    "# population size vs cell size - color by coverage factor\n",
    "\n",
    "plot_specs = cfg.plot_specs\n",
    "plot_specs2 = {\n",
    "    'log_x': True\n",
    "  , 'log_y': True\n",
    "  , 'range_x': [-0.3, 3.3]\n",
    "  , 'range_y': [-0.1, 3]\n",
    "  , 'cbar_title_x':  1.33\n",
    "  , 'cbar_title_y': -0.23\n",
    "}\n",
    "plot_specs.update(plot_specs2)\n",
    "\n",
    "make_scatterplot_with_star_cells(\n",
    "    xval='population_size'\n",
    "  , yval='cell_size_cols'\n",
    "  , roi_str=roi_str\n",
    "  , style=cfg.style\n",
    "  , sizing=cfg.sizing\n",
    "  , plot_specs=plot_specs\n",
    "  , star_neurons=cfg.star_neurons\n",
    ")"
   ]
  },
  {
   "cell_type": "code",
   "execution_count": null,
   "metadata": {
    "metadata": {}
   },
   "outputs": [],
   "source": [
    "# population columns innervated vs population area covered - color by coverage factor\n",
    "\n",
    "plot_specs = cfg.plot_specs\n",
    "plot_specs2 = {\n",
    "    'log_x': False\n",
    "  , 'log_y': False\n",
    "  , 'range_x': [0, graph_lims * 1.05]\n",
    "  , 'range_y': [0, 1000]\n",
    "  , 'cbar_title_x': 1.33\n",
    "  , 'cbar_title_y': -0.23\n",
    "}\n",
    "plot_specs.update(plot_specs2)\n",
    "\n",
    "make_scatterplot_with_star_cells(\n",
    "    xval='cols_covered_pop'\n",
    "  , yval='area_covered_pop'\n",
    "  , roi_str=roi_str\n",
    "  , style=cfg.style\n",
    "  , sizing=cfg.sizing\n",
    "  , plot_specs=plot_specs\n",
    "  , star_neurons=cfg.star_neurons\n",
    ")"
   ]
  },
  {
   "cell_type": "code",
   "execution_count": null,
   "metadata": {
    "metadata": {}
   },
   "outputs": [],
   "source": [
    "roi_str = 'LO(R)'\n",
    "cfg = ScatterConfig(roi_str=roi_str)"
   ]
  },
  {
   "cell_type": "code",
   "execution_count": null,
   "metadata": {
    "metadata": {}
   },
   "outputs": [],
   "source": [
    "# population size vs cell size - color by coverage factor\n",
    "\n",
    "plot_specs = cfg.plot_specs\n",
    "plot_specs2 = {\n",
    "    'log_x': True\n",
    "  , 'log_y': True\n",
    "  , 'range_x': [-0.3, 3.3]\n",
    "  , 'range_y': [-0.1, 3]\n",
    "  , 'cbar_title_x': 1.28\n",
    "  , 'cbar_title_y': -0.23\n",
    "}\n",
    "plot_specs.update(plot_specs2)\n",
    "\n",
    "make_scatterplot_with_star_cells(\n",
    "    xval='population_size'\n",
    "  , yval='cell_size_cols'\n",
    "  , roi_str=roi_str\n",
    "  , style=cfg.style\n",
    "  , sizing=cfg.sizing\n",
    "  , plot_specs=plot_specs\n",
    "  , star_neurons=cfg.star_neurons\n",
    ")"
   ]
  },
  {
   "cell_type": "code",
   "execution_count": null,
   "metadata": {
    "metadata": {}
   },
   "outputs": [],
   "source": [
    "# population columns innervated vs population area covered - color by coverage factor\n",
    "\n",
    "plot_specs = cfg.plot_specs\n",
    "plot_specs2 = {\n",
    "    'log_x': False\n",
    "  , 'log_y': False\n",
    "  , 'range_x': [-10, graph_lims * 1.05]\n",
    "  , 'range_y': [0, graph_lims * 1.05]\n",
    "  , 'cbar_title_x': 1.28\n",
    "  , 'cbar_title_y': -0.23\n",
    "}\n",
    "plot_specs.update(plot_specs2)\n",
    "\n",
    "make_scatterplot_with_star_cells(\n",
    "    xval='cols_covered_pop'\n",
    "  , yval='area_covered_pop'\n",
    "  , roi_str=roi_str\n",
    "  , style=cfg.style\n",
    "  , sizing=cfg.sizing\n",
    "  , plot_specs=plot_specs\n",
    "  , star_neurons=cfg.star_neurons\n",
    ")"
   ]
  },
  {
   "cell_type": "code",
   "execution_count": null,
   "metadata": {
    "metadata": {}
   },
   "outputs": [],
   "source": [
    "roi_str = 'LOP(R)'\n",
    "cfg = ScatterConfig(roi_str=roi_str)"
   ]
  },
  {
   "cell_type": "code",
   "execution_count": null,
   "metadata": {
    "metadata": {}
   },
   "outputs": [],
   "source": [
    "# population size vs cell size - color by coverage factor\n",
    "\n",
    "plot_specs = cfg.plot_specs\n",
    "plot_specs2 = {\n",
    "    'log_x': True\n",
    "  , 'log_y': True\n",
    "  , 'range_x': [-0.3, 3.3]  # log range: 10^0=1, 10^3=1000\n",
    "  , 'range_y': [-0.1, 3]\n",
    "  , 'cbar_title_x': 1.28\n",
    "  , 'cbar_title_y': -0.23\n",
    "}\n",
    "plot_specs.update(plot_specs2)\n",
    "\n",
    "make_scatterplot_with_star_cells(\n",
    "    xval='population_size'\n",
    "  , yval='cell_size_cols'\n",
    "  , roi_str=roi_str\n",
    "  , style=cfg.style\n",
    "  , sizing=cfg.sizing\n",
    "  , plot_specs=plot_specs\n",
    "  , star_neurons=cfg.star_neurons\n",
    ")"
   ]
  },
  {
   "cell_type": "code",
   "execution_count": null,
   "metadata": {
    "metadata": {}
   },
   "outputs": [],
   "source": [
    "# population columns innervated vs population area covered - color by coverage factor\n",
    "\n",
    "plot_specs = cfg.plot_specs\n",
    "plot_specs2 = {\n",
    "    'log_x': False\n",
    "  , 'log_y': False\n",
    "  , 'range_x': [-10, graph_lims * 1.05]\n",
    "  , 'range_y': [0, graph_lims * 1.05]\n",
    "  , 'cbar_title_x': 1.28\n",
    "  , 'cbar_title_y': -0.23\n",
    "}\n",
    "plot_specs.update(plot_specs2)\n",
    "\n",
    "make_scatterplot_with_star_cells(\n",
    "    xval='cols_covered_pop' \n",
    "  , yval='area_covered_pop'\n",
    "  , roi_str=roi_str\n",
    "  , style=cfg.style\n",
    "  , sizing=cfg.sizing\n",
    "  , plot_specs=plot_specs\n",
    "  , star_neurons=cfg.star_neurons\n",
    ")"
   ]
  }
 ],
 "metadata": {
  "kernelspec": {
   "display_name": "default",
   "language": "python",
   "name": "python3"
  },
  "language_info": {
   "codemirror_mode": {
    "name": "ipython",
    "version": 3
   },
   "file_extension": ".py",
   "mimetype": "text/x-python",
   "name": "python",
   "nbconvert_exporter": "python",
   "pygments_lexer": "ipython3",
   "version": "3.12.5"
  }
 },
 "nbformat": 4,
 "nbformat_minor": 2
}
