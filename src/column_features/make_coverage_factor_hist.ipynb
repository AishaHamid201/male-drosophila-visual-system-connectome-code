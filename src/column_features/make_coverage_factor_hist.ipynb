{
 "cells": [
  {
   "cell_type": "code",
   "execution_count": null,
   "metadata": {},
   "outputs": [],
   "source": [
    "\"\"\"\n",
    "This cell does the initial project setup.\n",
    "If you start a new script or notebook, make sure to copy & paste this part.\n",
    "\n",
    "A script with this code uses the location of the `.env` file as the anchor for\n",
    "the whole project (= PROJECT_ROOT). Afterwards, code inside the `src` directory\n",
    "are available for import.\n",
    "\"\"\"\n",
    "import sys\n",
    "from pathlib import Path\n",
    "from dotenv import load_dotenv, find_dotenv\n",
    "load_dotenv()\n",
    "PROJECT_ROOT = Path(find_dotenv()).parent\n",
    "sys.path.append(str(PROJECT_ROOT.joinpath('src')))\n",
    "\n",
    "from utils import olc_client\n",
    "c = olc_client.connect(verbose=True)\n",
    "\n",
    "from utils.coverage_metric_functions import plot_coverage_metric_histogram"
   ]
  },
  {
   "cell_type": "code",
   "execution_count": null,
   "metadata": {
    "metadata": {}
   },
   "outputs": [],
   "source": [
    "style = {\n",
    "    'font_type': 'arial'\n",
    "  , 'markerlinecolor': 'black'\n",
    "  , 'linecolor': 'black',\n",
    "}"
   ]
  },
  {
   "cell_type": "code",
   "execution_count": null,
   "metadata": {
    "metadata": {}
   },
   "outputs": [],
   "source": [
    "sizing = {\n",
    "    'fig_width': 40\n",
    "  , 'fig_height': 40\n",
    "  , 'fig_margin': 0\n",
    "  , 'fsize_ticks_pt': 5\n",
    "  , 'fsize_title_pt': 6\n",
    "  , 'markersize': 2\n",
    "  , 'ticklen': 2\n",
    "  , 'tickwidth': 0.7\n",
    "  , 'axislinewidth': 0.5\n",
    "  , 'markerlinewidth': 0.07\n",
    "}"
   ]
  },
  {
   "cell_type": "code",
   "execution_count": null,
   "metadata": {
    "metadata": {}
   },
   "outputs": [],
   "source": [
    "plot_specs = {\n",
    "    'log_x': 'linear'\n",
    "  , 'log_y': 'log'\n",
    "  , 'range_x': [0, 8]\n",
    "  , 'range_y': [-1, 3]\n",
    "  , 'save_path': PROJECT_ROOT / 'results' / 'cov_compl'\n",
    "  , 'tickvals_y': [0.1, 1, 10, 100]\n",
    "  , 'ticktext_y': ['0', '1', '10', '100']\n",
    "  , 'tickvals_x': [0, 2, 4, 6, 8]\n",
    "  , 'x_bin_start': 0.25\n",
    "  , 'x_bin_end': 15\n",
    "  , 'x_bin_width': 0.25\n",
    "  , 'export_type': 'pdf'\n",
    "}"
   ]
  },
  {
   "cell_type": "code",
   "execution_count": null,
   "metadata": {
    "metadata": {}
   },
   "outputs": [],
   "source": [
    "fig = plot_coverage_metric_histogram(\n",
    "    style\n",
    "  , sizing\n",
    "  , plot_specs\n",
    "  , metric='coverage_factor_trim'\n",
    ")\n",
    "fig.show()"
   ]
  }
 ],
 "metadata": {
  "kernelspec": {
   "display_name": "default",
   "language": "python",
   "name": "python3"
  },
  "language_info": {
   "codemirror_mode": {
    "name": "ipython",
    "version": 3
   },
   "file_extension": ".py",
   "mimetype": "text/x-python",
   "name": "python",
   "nbconvert_exporter": "python",
   "pygments_lexer": "ipython3",
   "version": "3.12.5"
  }
 },
 "nbformat": 4,
 "nbformat_minor": 2
}
