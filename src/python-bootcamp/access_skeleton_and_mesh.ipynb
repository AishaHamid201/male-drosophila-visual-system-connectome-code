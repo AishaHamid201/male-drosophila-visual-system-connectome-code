{
 "cells": [
  {
   "cell_type": "markdown",
   "metadata": {},
   "source": [
    "# Access to Neurons"
   ]
  },
  {
   "cell_type": "code",
   "execution_count": 1,
   "metadata": {},
   "outputs": [
    {
     "name": "stdout",
     "output_type": "stream",
     "text": [
      "Project root directory: /Users/seenivasanp/Documents/GitHub/optic-lobe-connectome\n"
     ]
    }
   ],
   "source": [
    "\"\"\"\n",
    "This cell does the initial project setup for the Jupyter notebook.\n",
    "\"\"\"\n",
    "from pathlib import Path\n",
    "import sys\n",
    "import os\n",
    "from dotenv import load_dotenv, find_dotenv\n",
    "load_dotenv()\n",
    "PROJECT_ROOT = Path(find_dotenv()).parent\n",
    "sys.path.append(str(PROJECT_ROOT.joinpath('src')))\n",
    "print(f\"Project root directory: {PROJECT_ROOT}\")\n",
    "from utils import olc_client\n",
    "c = olc_client.connect()"
   ]
  },
  {
   "cell_type": "code",
   "execution_count": 2,
   "metadata": {},
   "outputs": [],
   "source": [
    "from utils.ol_neuron import OLNeuron"
   ]
  },
  {
   "cell_type": "markdown",
   "metadata": {},
   "source": [
    "## Define a neuron by bodyId"
   ]
  },
  {
   "cell_type": "code",
   "execution_count": 3,
   "metadata": {},
   "outputs": [],
   "source": [
    "bid = 100007"
   ]
  },
  {
   "cell_type": "markdown",
   "metadata": {},
   "source": [
    "## Basic information about the Neuron"
   ]
  },
  {
   "cell_type": "code",
   "execution_count": 4,
   "metadata": {},
   "outputs": [
    {
     "name": "stderr",
     "output_type": "stream",
     "text": [
      "/Users/seenivasanp/miniconda3/envs/ol-connectome-47/lib/python3.11/site-packages/neuprint/client.py:609: FutureWarning: Series.__getitem__ treating keys as positions is deprecated. In a future version, integer keys will always be treated as labels (consistent with DataFrame behavior). To access a value by position, use `ser.iloc[pos]`\n",
      "  neuron_props_val = df_results.iloc[0][0]\n",
      "/Users/seenivasanp/miniconda3/envs/ol-connectome-47/lib/python3.11/site-packages/neuprint/client.py:619: FutureWarning: Series.__getitem__ treating keys as positions is deprecated. In a future version, integer keys will always be treated as labels (consistent with DataFrame behavior). To access a value by position, use `ser.iloc[pos]`\n",
      "  neuron_props_val = df_results.iloc[0][0]\n"
     ]
    },
    {
     "name": "stdout",
     "output_type": "stream",
     "text": [
      "Neuron 100007 is a L4 in the R hemisphere and has 47 pre and 57 post synapses.\n"
     ]
    }
   ],
   "source": [
    "example_neuron = OLNeuron(bid)\n",
    "syn_count = example_neuron.synapse_count()\n",
    "print(f\"Neuron {bid} is a {example_neuron.get_type()} in the {example_neuron.hemisphere} hemisphere and has {syn_count[0]} pre and {syn_count[1]} post synapses.\")"
   ]
  },
  {
   "cell_type": "markdown",
   "metadata": {},
   "source": [
    "## List all the innervated ROIs"
   ]
  },
  {
   "cell_type": "code",
   "execution_count": 5,
   "metadata": {},
   "outputs": [
    {
     "data": {
      "text/plain": [
       "(['ME_R_col_15_06', 'ME_R_col_15_07', 'ME_R_col_16_06', 'ME_R_col_16_07'],\n",
       " ['ME_R_layer_01',\n",
       "  'ME_R_layer_02',\n",
       "  'ME_R_layer_03',\n",
       "  'ME_R_layer_04',\n",
       "  'ME_R_layer_05'])"
      ]
     },
     "execution_count": 5,
     "metadata": {},
     "output_type": "execute_result"
    }
   ],
   "source": [
    "example_neuron.innervated_rois()"
   ]
  },
  {
   "cell_type": "markdown",
   "metadata": {},
   "source": [
    "## Retrieve the skeleton"
   ]
  },
  {
   "cell_type": "code",
   "execution_count": 6,
   "metadata": {},
   "outputs": [],
   "source": [
    "skel = example_neuron.get_skeleton()"
   ]
  },
  {
   "cell_type": "markdown",
   "metadata": {},
   "source": [
    "## Save the skeleton to a file\n",
    "\n",
    "Here we create a `1000007.swc` file in the project root that contains the skeleton."
   ]
  },
  {
   "cell_type": "code",
   "execution_count": 7,
   "metadata": {},
   "outputs": [],
   "source": [
    "swc_filename = PROJECT_ROOT / \"results\" /f\"{bid}.swc\"\n",
    "skel.to_swc(swc_filename)"
   ]
  },
  {
   "cell_type": "markdown",
   "metadata": {},
   "source": [
    "## Retrieve the Mesh"
   ]
  },
  {
   "cell_type": "code",
   "execution_count": 8,
   "metadata": {},
   "outputs": [],
   "source": [
    "mesh = example_neuron.get_mesh()"
   ]
  },
  {
   "cell_type": "markdown",
   "metadata": {},
   "source": [
    "## Save the Mesh\n",
    "\n",
    "The following example code stores the mesh in a Wavefront `.obj` file (and the `mesh_obj` variable). Here we use the `export_mesh` function from the [Trimesh](https://trimesh.org) library. This will create a `1000007.obj` file in the project root directory."
   ]
  },
  {
   "cell_type": "code",
   "execution_count": 9,
   "metadata": {},
   "outputs": [],
   "source": [
    "from trimesh.exchange.export import export_mesh\n",
    "\n",
    "tri_mesh = mesh[0].trimesh\n",
    "obj_filename = PROJECT_ROOT / \"results\" / f\"{bid}.obj\" \n",
    "\n",
    "mesh_obj = export_mesh(tri_mesh, obj_filename)"
   ]
  }
 ],
 "metadata": {
  "kernelspec": {
   "display_name": "default",
   "language": "python",
   "name": "python3"
  },
  "language_info": {
   "codemirror_mode": {
    "name": "ipython",
    "version": 3
   },
   "file_extension": ".py",
   "mimetype": "text/x-python",
   "name": "python",
   "nbconvert_exporter": "python",
   "pygments_lexer": "ipython3",
   "version": "3.11.5"
  }
 },
 "nbformat": 4,
 "nbformat_minor": 2
}
