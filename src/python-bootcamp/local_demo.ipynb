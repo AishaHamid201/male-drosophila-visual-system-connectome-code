{
 "cells": [
  {
   "cell_type": "markdown",
   "metadata": {},
   "source": [
    "# Local Demo\n",
    "\n",
    "In this notebook, we show basic functionality for one of our central classes, the `OLNeuron`. The notebook should run without the connection to `neuPrint` and should create an interactive plot for the skeleton and another interactive plot of the mesh for an Mi1 neuron. The Mi1 we use in the example does not exist in our data release, yet it is very similar to the neuron with the bodyId 56564 near the center of the medulla."
   ]
  },
  {
   "cell_type": "markdown",
   "metadata": {},
   "source": [
    "The following Jupyter cell contains the boiler plate code we use at the beginning of all notebooks. It defines the location of the `PROJECT_ROOT` and adds the directory `src` to the path. This is a workaround to having to install our package and runs directly on the source file. "
   ]
  },
  {
   "cell_type": "code",
   "execution_count": null,
   "metadata": {},
   "outputs": [],
   "source": [
    "from pathlib import Path\n",
    "import sys\n",
    "from dotenv import load_dotenv, find_dotenv\n",
    "load_dotenv()\n",
    "PROJECT_ROOT = Path(find_dotenv()).parent\n",
    "sys.path.append(str(PROJECT_ROOT.joinpath('src')))\n",
    "print(f\"Project root directory: {PROJECT_ROOT}\")\n",
    "from utils import olc_client\n",
    "c = olc_client.connect()"
   ]
  },
  {
   "cell_type": "markdown",
   "metadata": {},
   "source": [
    "Import the necessary components to run this notebook. Notably this is the external [\"**N**euron **A**nalysis and **Vis**ualization (NAVis)\"](https://navis.readthedocs.io/) library and our class \"OLNeuron\"."
   ]
  },
  {
   "cell_type": "code",
   "execution_count": 23,
   "metadata": {},
   "outputs": [],
   "source": [
    "import navis\n",
    "from utils.ol_neuron import OLNeuron"
   ]
  },
  {
   "cell_type": "markdown",
   "metadata": {},
   "source": [
    "The next Jupyter cell instanciates our `OLNeuron` class with the bodyId `5000`. This body ID does not exist in neuPrint, instead we provide a local copy of the relevant files with the code to run this file.\n",
    "\n",
    "The next two lines load the skeleton and mesh for this specific neuron.\n",
    "\n",
    "With access to the neuPrint database, any other existing bodyId can be used to instantiate the `OLNeuron` class and you will get access to enhances functionality, for example to find the hemisphere via `oln.hemisphere`, the list of innervated ROIs via `oln.innervated_rois()`, or the number of synapses via `oln.synapse_count()`."
   ]
  },
  {
   "cell_type": "code",
   "execution_count": 24,
   "metadata": {},
   "outputs": [],
   "source": [
    "oln = OLNeuron(5000)\n",
    "\n",
    "print(f\"The body ID of the neuron is {oln.get_body_id()}\")\n",
    "\n",
    "print(\"Getting skeleton\")\n",
    "skel_5000 = oln.get_skeleton()\n",
    "\n",
    "print(\"Getting mesh\")\n",
    "mesh_5000 = oln.get_mesh()"
   ]
  },
  {
   "cell_type": "markdown",
   "metadata": {},
   "source": [
    "The next two cells provide a visual representation of the skeleton and the mesh for the fictive Mi1 cell with bodyId 5000."
   ]
  },
  {
   "cell_type": "code",
   "execution_count": null,
   "metadata": {},
   "outputs": [],
   "source": [
    "print(\"Attempt to plot skeleton. This works best in Jupyter.\")\n",
    "navis.plot3d(skel_5000)"
   ]
  },
  {
   "cell_type": "code",
   "execution_count": null,
   "metadata": {},
   "outputs": [],
   "source": [
    "print(\"Attempt to plot mesh. This works best in Jupyter.\")\n",
    "navis.plot3d(mesh_5000)"
   ]
  },
  {
   "cell_type": "code",
   "execution_count": null,
   "metadata": {},
   "outputs": [],
   "source": []
  }
 ],
 "metadata": {
  "kernelspec": {
   "display_name": "default",
   "language": "python",
   "name": "python3"
  },
  "language_info": {
   "codemirror_mode": {
    "name": "ipython",
    "version": 3
   },
   "file_extension": ".py",
   "mimetype": "text/x-python",
   "name": "python",
   "nbconvert_exporter": "python",
   "pygments_lexer": "ipython3",
   "version": "3.12.5"
  }
 },
 "nbformat": 4,
 "nbformat_minor": 2
}
