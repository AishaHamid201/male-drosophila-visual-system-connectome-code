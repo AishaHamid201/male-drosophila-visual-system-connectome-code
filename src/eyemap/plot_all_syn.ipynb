{
 "cells": [
  {
   "cell_type": "code",
   "execution_count": null,
   "id": "5837bb46-924f-467d-a710-8448f8d19f1e",
   "metadata": {
    "metadata": {},
    "tags": []
   },
   "outputs": [],
   "source": [
    "from pathlib import Path\n",
    "import sys\n",
    "\n",
    "from dotenv import load_dotenv, find_dotenv\n",
    "load_dotenv()\n",
    "PROJECT_ROOT = Path(find_dotenv()).parent\n",
    "sys.path.append(str(PROJECT_ROOT.joinpath('src')))\n",
    "\n",
    "from utils import olc_client\n",
    "from utils.ROI_plots import plot_all_syn\n",
    "\n",
    "c = olc_client.connect(verbose=True)"
   ]
  },
  {
   "cell_type": "markdown",
   "id": "ff6bef02",
   "metadata": {},
   "source": [
    "Plot hexagonal 'eyemap' heatplot of the sum of all the `post` synapses from all cells of all cell types within the right optic lobe.\n",
    "\n",
    "Plot is saved as a PDF in the folder `PROJECT_ROOT/results/cov_compl`."
   ]
  },
  {
   "cell_type": "code",
   "execution_count": null,
   "id": "afb15251",
   "metadata": {
    "metadata": {}
   },
   "outputs": [],
   "source": [
    "side = 'both'\n",
    "syn_type = 'post'\n",
    "fig = plot_all_syn(side=side, syn_type=syn_type)\n",
    "fig.show()"
   ]
  },
  {
   "cell_type": "code",
   "execution_count": null,
   "id": "bfb8bdb6",
   "metadata": {},
   "outputs": [],
   "source": []
  }
 ],
 "metadata": {
  "kernelspec": {
   "display_name": "default",
   "language": "python",
   "name": "python3"
  },
  "language_info": {
   "codemirror_mode": {
    "name": "ipython",
    "version": 3
   },
   "file_extension": ".py",
   "mimetype": "text/x-python",
   "name": "python",
   "nbconvert_exporter": "python",
   "pygments_lexer": "ipython3",
   "version": "3.12.5"
  }
 },
 "nbformat": 4,
 "nbformat_minor": 5
}
