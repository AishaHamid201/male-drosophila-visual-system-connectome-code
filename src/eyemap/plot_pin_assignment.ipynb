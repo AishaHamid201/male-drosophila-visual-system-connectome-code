{
 "cells": [
  {
   "cell_type": "code",
   "execution_count": null,
   "id": "4418c598-b4b5-4a20-bfd4-7668130a619d",
   "metadata": {
    "tags": []
   },
   "outputs": [],
   "source": [
    "from pathlib import Path\n",
    "import sys\n",
    "from dotenv import load_dotenv, find_dotenv\n",
    "load_dotenv()\n",
    "PROJECT_ROOT = Path(find_dotenv()).parent\n",
    "sys.path.append(str(PROJECT_ROOT.joinpath('src')))\n",
    "\n",
    "from utils.ROI_plots import plot_pin_assignment\\\n",
    "  , find_max_pin_length\\\n",
    "  , find_max_pin_deviation\\\n",
    "  , find_max_pin_volume\\\n",
    "  , plot_pin_length_subplot\\\n",
    "  , plot_pin_deviation_subplot\\\n",
    "  , plot_pin_volume_subplot\\\n",
    "  , plot_synapses_per_depth\n",
    "\n",
    "from utils.hex_plot_config import HexPlotConfig\n",
    "\n",
    "from utils import olc_client\n",
    "c = olc_client.connect(verbose=True)"
   ]
  },
  {
   "cell_type": "markdown",
   "id": "62aea92e",
   "metadata": {},
   "source": [
    "Plot hexagonal 'eyemap' heatplots of quantifiable features of the columns in the Medulla (ME), Lobula (LO) and Lobula Plate (LOP). \n",
    "\n",
    "The plots are saved as PDFs in the folder `PROJECT_ROOT/results/eyemap`."
   ]
  },
  {
   "cell_type": "code",
   "execution_count": 2,
   "id": "653491d9",
   "metadata": {},
   "outputs": [],
   "source": [
    "cfg = HexPlotConfig()"
   ]
  },
  {
   "cell_type": "code",
   "execution_count": 3,
   "id": "b659ec7a",
   "metadata": {},
   "outputs": [],
   "source": [
    "# set formatting parameters\n",
    "sizing = {\n",
    "    'fig_width': 95\n",
    "  , 'fig_height': 25\n",
    "  , 'fig_margin': 0\n",
    "  , 'fsize_ticks_pt': 5\n",
    "  , 'fsize_title_pt': 6\n",
    "  , 'markersize': 2\n",
    "  , 'ticklen': 1.7\n",
    "  , 'tickwidth': 0.5\n",
    "  , 'axislinewidth': 0.6\n",
    "  , 'markerlinewidth': 0.2\n",
    "  , 'cbar_len': 1\n",
    "  , 'cbar_thickness': 7\n",
    "}\n",
    "\n",
    "plot_specs = {\n",
    "    'export_type':'pdf'\n",
    "}"
   ]
  },
  {
   "cell_type": "markdown",
   "id": "8488b281",
   "metadata": {},
   "source": [
    "Plot the length of each column."
   ]
  },
  {
   "cell_type": "code",
   "execution_count": null,
   "id": "2c78652a",
   "metadata": {},
   "outputs": [],
   "source": [
    "plot_specs['cmax'] = find_max_pin_length()\n",
    "fig = plot_pin_length_subplot(cfg.style, sizing, plot_specs)\n",
    "fig.show()"
   ]
  },
  {
   "cell_type": "markdown",
   "id": "309cc76a",
   "metadata": {},
   "source": [
    "Plot the deviation of the column from a straight line."
   ]
  },
  {
   "cell_type": "code",
   "execution_count": null,
   "id": "7991df59",
   "metadata": {},
   "outputs": [],
   "source": [
    "plot_specs['cmax'] = find_max_pin_deviation()\n",
    "fig = plot_pin_deviation_subplot(cfg.style, sizing, plot_specs)\n",
    "fig.show()"
   ]
  },
  {
   "cell_type": "markdown",
   "id": "5bd72a11",
   "metadata": {},
   "source": [
    "Plot the volume of each column."
   ]
  },
  {
   "cell_type": "code",
   "execution_count": null,
   "id": "89ee6fe5",
   "metadata": {},
   "outputs": [],
   "source": [
    "plot_specs['cmax'] = find_max_pin_volume()\n",
    "fig = plot_pin_volume_subplot(cfg.style, sizing, plot_specs)\n",
    "fig.show()"
   ]
  },
  {
   "cell_type": "markdown",
   "id": "084f20d3",
   "metadata": {},
   "source": [
    "Plot the number of `pre` and `post` synapses for all cells from all cell types that innervate the right optic lobe across the depths of the columns, within each main optic lobe region (ME, LO, LOP)."
   ]
  },
  {
   "cell_type": "code",
   "execution_count": null,
   "id": "6b371d80",
   "metadata": {},
   "outputs": [],
   "source": [
    "# set formatting parameters\n",
    "sizing = {\n",
    "    'fig_width': 95\n",
    "  , 'fig_height': 70\n",
    "  , 'fig_margin': 0\n",
    "  , 'fsize_ticks_pt': 6\n",
    "  , 'fsize_title_pt': 7\n",
    "  , 'markersize': 2\n",
    "  , 'ticklen': 2\n",
    "  , 'tickwidth': 1\n",
    "  , 'axislinewidth': 0.6\n",
    "  , 'markerlinewidth': 1.1\n",
    "}\n",
    "\n",
    "plot_specs = {\n",
    "    'export_type':'pdf'\n",
    "}"
   ]
  },
  {
   "cell_type": "code",
   "execution_count": null,
   "id": "8fa5e757",
   "metadata": {},
   "outputs": [],
   "source": [
    "fig = plot_synapses_per_depth(\n",
    "    cfg.style\n",
    "  , sizing\n",
    "  , plot_specs\n",
    ")\n",
    "fig.show()"
   ]
  },
  {
   "cell_type": "markdown",
   "id": "b9f347c0",
   "metadata": {},
   "source": [
    "Create plots showing synapse assignments to columns (for specific cell-types depending on the neuropil)."
   ]
  },
  {
   "cell_type": "code",
   "execution_count": null,
   "id": "8b82e69c-cc7c-4f67-833a-1406c234fb97",
   "metadata": {
    "tags": []
   },
   "outputs": [],
   "source": [
    "plot_pin_assignment()"
   ]
  }
 ],
 "metadata": {
  "kernelspec": {
   "display_name": "default",
   "language": "python",
   "name": "python3"
  },
  "language_info": {
   "codemirror_mode": {
    "name": "ipython",
    "version": 3
   },
   "file_extension": ".py",
   "mimetype": "text/x-python",
   "name": "python",
   "nbconvert_exporter": "python",
   "pygments_lexer": "ipython3",
   "version": "3.12.5"
  }
 },
 "nbformat": 4,
 "nbformat_minor": 5
}
