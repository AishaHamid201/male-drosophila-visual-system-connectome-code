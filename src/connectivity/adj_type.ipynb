{
 "cells": [
  {
   "cell_type": "markdown",
   "id": "43b759aa-4f49-46c1-afc4-8802f602e1aa",
   "metadata": {},
   "source": [
    "## Get adjacency matrix by type\n",
    "\n",
    "1. query all cell types in the optic lobe, \n",
    "2. pick some cell types (eg. >=500 instances)\n",
    "3. query all-to-all connectivity (i.e., adjacency matrix) within a neuropil\n",
    "4. plot the adj matrix and compute some stats\n"
   ]
  },
  {
   "cell_type": "markdown",
   "id": "6a5ecc6b-193d-486e-a1fc-5b05fd4e84c1",
   "metadata": {},
   "source": [
    "### init setup"
   ]
  },
  {
   "cell_type": "code",
   "execution_count": null,
   "id": "c36dbd50-2f55-4b6a-b9cf-9510bebcb389",
   "metadata": {},
   "outputs": [],
   "source": [
    "\"\"\"\n",
    "This cell does the initial project setup.\n",
    "If you start a new script or notebook, make sure to copy & paste this part.\n",
    "\n",
    "A script with this code uses the location of the `.env` file as the anchor for\n",
    "the whole project (= PROJECT_ROOT). Afterwards, code inside the `src` directory\n",
    "are available for import.\n",
    "\"\"\"\n",
    "from pathlib import Path\n",
    "import sys\n",
    "from dotenv import load_dotenv, find_dotenv\n",
    "load_dotenv()\n",
    "PROJECT_ROOT = Path(find_dotenv()).parent\n",
    "sys.path.append(str(PROJECT_ROOT.joinpath('src')))\n",
    "print(f\"Project root directory: {PROJECT_ROOT}\")"
   ]
  },
  {
   "cell_type": "code",
   "execution_count": null,
   "id": "ec0a57a3-e34f-497b-91c4-c9eecf2adc27",
   "metadata": {},
   "outputs": [],
   "source": [
    "import neuprint\n",
    "print(neuprint.__version__)"
   ]
  },
  {
   "cell_type": "code",
   "execution_count": null,
   "id": "343c42d5-f014-46ed-8fd5-80f563e7d02c",
   "metadata": {
    "lines_to_next_cell": 2,
    "title": "Import libraries"
   },
   "outputs": [],
   "source": [
    "from neuprint import fetch_neurons, fetch_synapses,  fetch_adjacencies, connection_table_to_matrix, merge_neuron_properties\n",
    "from neuprint import NeuronCriteria as NC, SynapseCriteria as SC\n",
    "\n",
    "# This library wasn't installed before, you might need to rerun library installation\n",
    "import navis\n",
    "import navis.interfaces.neuprint as navnp"
   ]
  },
  {
   "cell_type": "code",
   "execution_count": null,
   "id": "1cde6275-65de-4f86-9d2b-20a19803c8f2",
   "metadata": {},
   "outputs": [],
   "source": [
    "from utils import olc_client\n",
    "c = olc_client.connect(verbose=True)"
   ]
  },
  {
   "cell_type": "code",
   "execution_count": null,
   "id": "23971343-79b5-4048-8b92-e6f33fc0fe87",
   "metadata": {},
   "outputs": [],
   "source": [
    "import plotly.io as pio\n",
    "\n",
    "import matplotlib.pyplot as plt\n",
    "\n",
    "import pandas as pd\n",
    "pd.options.display.float_format = '{:.2f}'.format\n",
    "\n",
    "import numpy as np"
   ]
  },
  {
   "cell_type": "code",
   "execution_count": null,
   "id": "9e67d06c-9e0e-45b4-a442-34b4d5a327e1",
   "metadata": {},
   "outputs": [],
   "source": [
    "from neuprint.queries import fetch_all_rois, fetch_roi_hierarchy\n",
    "\n",
    "# # Show the ROI hierarchy, with primary ROIs marked with '*'\n",
    "# print(fetch_roi_hierarchy(include_subprimary=True, mark_primary=True, format='text'))\n",
    "\n",
    "# show primary ROIs\n",
    "print(fetch_all_rois())"
   ]
  },
  {
   "cell_type": "markdown",
   "id": "f64870dd-e616-4e77-a60e-275c844ccfad",
   "metadata": {},
   "source": [
    "### get all cell types in OL, and some histograms"
   ]
  },
  {
   "cell_type": "code",
   "execution_count": null,
   "id": "ecf871f7-10d9-4d23-8916-ef31cd9a44fe",
   "metadata": {},
   "outputs": [],
   "source": [
    "from queries.completeness import fetch_ol_types, fetch_ol_types_and_instances, fetch_ol_complete\n",
    "ol_type = fetch_ol_types(client=c)\n",
    "print(ol_type)\n",
    "# ol_type_inst = fetch_ol_types_and_instances(client=c)\n",
    "# ol_comp = fetch_ol_complete(client=c) #long runtime"
   ]
  },
  {
   "cell_type": "code",
   "execution_count": null,
   "id": "e82e0abd-b04b-4d26-b83d-be4b1b5c3da2",
   "metadata": {},
   "outputs": [],
   "source": [
    "ol_type['count'].hist(bins=np.linspace(10,1200,100))"
   ]
  },
  {
   "cell_type": "code",
   "execution_count": null,
   "id": "41094f06-03df-4490-a8ab-4c537fe3422a",
   "metadata": {},
   "outputs": [],
   "source": [
    "_=plt.hist(ol_type['count'].values, cumulative=-1, bins=100)"
   ]
  },
  {
   "cell_type": "markdown",
   "id": "d4ab018d-2d23-4df4-bd85-1053b03b2746",
   "metadata": {},
   "source": [
    "### pick some cell types, here >= 500 cells"
   ]
  },
  {
   "cell_type": "code",
   "execution_count": null,
   "id": "7b26fa1b-7bbd-4ca5-a422-630ecacf7404",
   "metadata": {},
   "outputs": [],
   "source": [
    "type_col = ol_type['type'][ol_type['count']>= 500]\n",
    "cell_types = list(type_col.values)\n",
    "print(cell_types)"
   ]
  },
  {
   "cell_type": "code",
   "execution_count": null,
   "id": "463097c1-e49d-4d3b-bd25-679b69186845",
   "metadata": {},
   "outputs": [],
   "source": [
    "# NOT run, fectch cells\n",
    "# ctype = ['T4a']\n",
    "# neu_df, roi_df = fetch_neurons(NC(type=ctype))"
   ]
  },
  {
   "cell_type": "markdown",
   "id": "56b58678-511a-4e21-8561-1415c3528160",
   "metadata": {},
   "source": [
    "### get connectivity and construct adj matrix for plotting"
   ]
  },
  {
   "cell_type": "code",
   "execution_count": null,
   "id": "ea1f06fc-fcdb-4ed2-b875-dc67708d8434",
   "metadata": {
    "lines_to_next_cell": 2
   },
   "outputs": [],
   "source": [
    "# syn_rois = ['ME(R)', 'LO(R)', 'LOP(R)']\n",
    "syn_rois = ['LO(R)']\n",
    "neuron_types_rois_df, conn_types_rois_df = fetch_adjacencies(NC(type=cell_types), NC(type=cell_types), rois=syn_rois, batch_size=1000)\n",
    "\n",
    "# neuron_types_rois_df, conn_types_rois_df = fetch_adjacencies(NC(type=cell_types), NC(type=cell_types))"
   ]
  },
  {
   "cell_type": "code",
   "execution_count": null,
   "id": "a080084c-2785-4393-85f2-84b2220960b1",
   "metadata": {},
   "outputs": [],
   "source": [
    "# # save and load csv\n",
    "# base_dir = PROJECT_ROOT / 'results' / 'connectivity'\n",
    "\n",
    "# neuron_types_rois_df.to_csv(base_dir / 'neuron_types_rois_df.csv')\n",
    "# conn_types_rois_df.to_csv(base_dir / 'conn_types_rois_df.csv')\n",
    "\n",
    "# neuron_types_rois_df= pd.read_csv(base_dir / 'neuron_types_rois_df.csv')\n",
    "# conn_types_rois_df= pd.read_csv(base_dir / 'conn_types_rois_df.csv')"
   ]
  },
  {
   "cell_type": "code",
   "execution_count": null,
   "id": "f6225d55-f329-4e37-9bde-a91c479bdfe6",
   "metadata": {},
   "outputs": [],
   "source": [
    "conn_df = merge_neuron_properties(neuron_types_rois_df, conn_types_rois_df, 'type')\n",
    "conn_matrix = connection_table_to_matrix(conn_df,'type')\n",
    "conn_matrix = conn_matrix.rename_axis('type_pre', axis=0).rename_axis('type_post', axis=1)\n",
    "conn_matrix = conn_matrix.loc[sorted(conn_matrix.index), sorted(conn_matrix.columns)]"
   ]
  },
  {
   "cell_type": "code",
   "execution_count": null,
   "id": "a262d538-84e6-4036-8bda-44f93a5cd3b0",
   "metadata": {},
   "outputs": [],
   "source": [
    "# plot adjacency matrix\n",
    "pd.set_option('display.max_columns', 100)\n",
    "conn_matrix"
   ]
  },
  {
   "cell_type": "code",
   "execution_count": null,
   "id": "ff83b7f0-b140-4d5e-bae2-105d559cf7af",
   "metadata": {},
   "outputs": [],
   "source": [
    "# who's in this matirx \n",
    "ol_type[ol_type['type'].isin( list(conn_matrix.index) )]"
   ]
  }
 ],
 "metadata": {
  "kernelspec": {
   "display_name": "default",
   "language": "python",
   "name": "python3"
  },
  "language_info": {
   "codemirror_mode": {
    "name": "ipython",
    "version": 3
   },
   "file_extension": ".py",
   "mimetype": "text/x-python",
   "name": "python",
   "nbconvert_exporter": "python",
   "pygments_lexer": "ipython3",
   "version": "3.12.5"
  }
 },
 "nbformat": 4,
 "nbformat_minor": 5
}
